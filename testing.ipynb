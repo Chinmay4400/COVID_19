{
 "cells": [
  {
   "cell_type": "code",
   "execution_count": 1,
   "metadata": {},
   "outputs": [],
   "source": [
    "import covid_data\n",
    "import datetime\n",
    "import pandas as pd\n",
    "import numpy as np"
   ]
  },
  {
   "cell_type": "code",
   "execution_count": 2,
   "metadata": {},
   "outputs": [],
   "source": [
    "df = covid_data.get_data()"
   ]
  },
  {
   "cell_type": "code",
   "execution_count": 3,
   "metadata": {},
   "outputs": [],
   "source": [
    "data = covid_data.get_total_data(df)"
   ]
  },
  {
   "cell_type": "code",
   "execution_count": 45,
   "metadata": {},
   "outputs": [
    {
     "data": {
      "application/vnd.plotly.v1+json": {
       "config": {
        "plotlyServerURL": "https://plot.ly"
       },
       "data": [
        {
         "customdata": [
          [
           2191
          ]
         ],
         "geo": "geo",
         "hoverlabel": {
          "namelength": 0
         },
         "hovertemplate": "<b>%{hovertext}</b><br><br>Area=United_States_of_America<br>size=%{marker.size}<br>Deaths=%{customdata[0]}<br>alpha3=%{location}",
         "hovertext": [
          "United_States_of_America"
         ],
         "legendgroup": "United_States_of_America",
         "locations": [
          "USA"
         ],
         "marker": {
          "color": "#636efa",
          "size": [
           595.0051579964899
          ],
          "sizemode": "area",
          "sizeref": 1.4999999999606644
         },
         "name": "United_States_of_America",
         "showlegend": true,
         "type": "scattergeo"
        },
        {
         "customdata": [
          [
           10023
          ]
         ],
         "geo": "geo",
         "hoverlabel": {
          "namelength": 0
         },
         "hovertemplate": "<b>%{hovertext}</b><br><br>Area=Italy<br>size=%{marker.size}<br>Deaths=%{customdata[0]}<br>alpha3=%{location}",
         "hovertext": [
          "Italy"
         ],
         "legendgroup": "Italy",
         "locations": [
          "ITA"
         ],
         "marker": {
          "color": "#EF553B",
          "size": [
           599.9999999842657
          ],
          "sizemode": "area",
          "sizeref": 1.4999999999606644
         },
         "name": "Italy",
         "showlegend": true,
         "type": "scattergeo"
        },
        {
         "customdata": [
          [
           3306
          ]
         ],
         "geo": "geo",
         "hoverlabel": {
          "namelength": 0
         },
         "hovertemplate": "<b>%{hovertext}</b><br><br>Area=China<br>size=%{marker.size}<br>Deaths=%{customdata[0]}<br>alpha3=%{location}",
         "hovertext": [
          "China"
         ],
         "legendgroup": "China",
         "locations": [
          "CHN"
         ],
         "marker": {
          "color": "#00cc96",
          "size": [
           599.691236757118
          ],
          "sizemode": "area",
          "sizeref": 1.4999999999606644
         },
         "name": "China",
         "showlegend": true,
         "type": "scattergeo"
        },
        {
         "customdata": [
          [
           5690
          ]
         ],
         "geo": "geo",
         "hoverlabel": {
          "namelength": 0
         },
         "hovertemplate": "<b>%{hovertext}</b><br><br>Area=Spain<br>size=%{marker.size}<br>Deaths=%{customdata[0]}<br>alpha3=%{location}",
         "hovertext": [
          "Spain"
         ],
         "legendgroup": "Spain",
         "locations": [
          "ESP"
         ],
         "marker": {
          "color": "#ab63fa",
          "size": [
           599.9992032135268
          ],
          "sizemode": "area",
          "sizeref": 1.4999999999606644
         },
         "name": "Spain",
         "showlegend": true,
         "type": "scattergeo"
        },
        {
         "customdata": [
          [
           389
          ]
         ],
         "geo": "geo",
         "hoverlabel": {
          "namelength": 0
         },
         "hovertemplate": "<b>%{hovertext}</b><br><br>Area=Germany<br>size=%{marker.size}<br>Deaths=%{customdata[0]}<br>alpha3=%{location}",
         "hovertext": [
          "Germany"
         ],
         "legendgroup": "Germany",
         "locations": [
          "DEU"
         ],
         "marker": {
          "color": "#FFA15A",
          "size": [
           270.74102432795416
          ],
          "sizemode": "area",
          "sizeref": 1.4999999999606644
         },
         "name": "Germany",
         "showlegend": true,
         "type": "scattergeo"
        },
        {
         "customdata": [
          [
           2314
          ]
         ],
         "geo": "geo",
         "hoverlabel": {
          "namelength": 0
         },
         "hovertemplate": "<b>%{hovertext}</b><br><br>Area=France<br>size=%{marker.size}<br>Deaths=%{customdata[0]}<br>alpha3=%{location}",
         "hovertext": [
          "France"
         ],
         "legendgroup": "France",
         "locations": [
          "FRA"
         ],
         "marker": {
          "color": "#19d3f3",
          "size": [
           596.3233271059097
          ],
          "sizemode": "area",
          "sizeref": 1.4999999999606644
         },
         "name": "France",
         "showlegend": true,
         "type": "scattergeo"
        },
        {
         "customdata": [
          [
           2517
          ]
         ],
         "geo": "geo",
         "hoverlabel": {
          "namelength": 0
         },
         "hovertemplate": "<b>%{hovertext}</b><br><br>Area=Iran<br>size=%{marker.size}<br>Deaths=%{customdata[0]}<br>alpha3=%{location}",
         "hovertext": [
          "Iran"
         ],
         "legendgroup": "Iran",
         "locations": [
          "IRN"
         ],
         "marker": {
          "color": "#FF6692",
          "size": [
           597.7839453806151
          ],
          "sizemode": "area",
          "sizeref": 1.4999999999606644
         },
         "name": "Iran",
         "showlegend": true,
         "type": "scattergeo"
        },
        {
         "customdata": [
          [
           1019
          ]
         ],
         "geo": "geo",
         "hoverlabel": {
          "namelength": 0
         },
         "hovertemplate": "<b>%{hovertext}</b><br><br>Area=United_Kingdom<br>size=%{marker.size}<br>Deaths=%{customdata[0]}<br>alpha3=%{location}",
         "hovertext": [
          "United_Kingdom"
         ],
         "legendgroup": "United_Kingdom",
         "locations": [
          "GBR"
         ],
         "marker": {
          "color": "#B6E880",
          "size": [
           512.8864593363334
          ],
          "sizemode": "area",
          "sizeref": 1.4999999999606644
         },
         "name": "United_Kingdom",
         "showlegend": true,
         "type": "scattergeo"
        },
        {
         "customdata": [
          [
           235
          ]
         ],
         "geo": "geo",
         "hoverlabel": {
          "namelength": 0
         },
         "hovertemplate": "<b>%{hovertext}</b><br><br>Area=Switzerland<br>size=%{marker.size}<br>Deaths=%{customdata[0]}<br>alpha3=%{location}",
         "hovertext": [
          "Switzerland"
         ],
         "legendgroup": "Switzerland",
         "locations": [
          "CHE"
         ],
         "marker": {
          "color": "#FF97FF",
          "size": [
           171.3495890889315
          ],
          "sizemode": "area",
          "sizeref": 1.4999999999606644
         },
         "name": "Switzerland",
         "showlegend": true,
         "type": "scattergeo"
        },
        {
         "customdata": [
          [
           639
          ]
         ],
         "geo": "geo",
         "hoverlabel": {
          "namelength": 0
         },
         "hovertemplate": "<b>%{hovertext}</b><br><br>Area=Netherlands<br>size=%{marker.size}<br>Deaths=%{customdata[0]}<br>alpha3=%{location}",
         "hovertext": [
          "Netherlands"
         ],
         "legendgroup": "Netherlands",
         "locations": [
          "NLD"
         ],
         "marker": {
          "color": "#FECB52",
          "size": [
           398.0024226834185
          ],
          "sizemode": "area",
          "sizeref": 1.4999999999606644
         },
         "name": "Netherlands",
         "showlegend": true,
         "type": "scattergeo"
        },
        {
         "customdata": [
          [
           152
          ]
         ],
         "geo": "geo",
         "hoverlabel": {
          "namelength": 0
         },
         "hovertemplate": "<b>%{hovertext}</b><br><br>Area=South_Korea<br>size=%{marker.size}<br>Deaths=%{customdata[0]}<br>alpha3=%{location}",
         "hovertext": [
          "South_Korea"
         ],
         "legendgroup": "South_Korea",
         "locations": [
          "KOR"
         ],
         "marker": {
          "color": "#636efa",
          "size": [
           112.64772352097125
          ],
          "sizemode": "area",
          "sizeref": 1.4999999999606644
         },
         "name": "South_Korea",
         "showlegend": true,
         "type": "scattergeo"
        },
        {
         "customdata": [
          [
           353
          ]
         ],
         "geo": "geo",
         "hoverlabel": {
          "namelength": 0
         },
         "hovertemplate": "<b>%{hovertext}</b><br><br>Area=Belgium<br>size=%{marker.size}<br>Deaths=%{customdata[0]}<br>alpha3=%{location}",
         "hovertext": [
          "Belgium"
         ],
         "legendgroup": "Belgium",
         "locations": [
          "BEL"
         ],
         "marker": {
          "color": "#EF553B",
          "size": [
           248.80801742168762
          ],
          "sizemode": "area",
          "sizeref": 1.4999999999606644
         },
         "name": "Belgium",
         "showlegend": true,
         "type": "scattergeo"
        },
        {
         "customdata": [
          [
           68
          ]
         ],
         "geo": "geo",
         "hoverlabel": {
          "namelength": 0
         },
         "hovertemplate": "<b>%{hovertext}</b><br><br>Area=Austria<br>size=%{marker.size}<br>Deaths=%{customdata[0]}<br>alpha3=%{location}",
         "hovertext": [
          "Austria"
         ],
         "legendgroup": "Austria",
         "locations": [
          "AUT"
         ],
         "marker": {
          "color": "#00cc96",
          "size": [
           50.87752892922119
          ],
          "sizemode": "area",
          "sizeref": 1.4999999999606644
         },
         "name": "Austria",
         "showlegend": true,
         "type": "scattergeo"
        },
        {
         "customdata": [
          [
           108
          ]
         ],
         "geo": "geo",
         "hoverlabel": {
          "namelength": 0
         },
         "hovertemplate": "<b>%{hovertext}</b><br><br>Area=Turkey<br>size=%{marker.size}<br>Deaths=%{customdata[0]}<br>alpha3=%{location}",
         "hovertext": [
          "Turkey"
         ],
         "legendgroup": "Turkey",
         "locations": [
          "TUR"
         ],
         "marker": {
          "color": "#ab63fa",
          "size": [
           80.51148595854521
          ],
          "sizemode": "area",
          "sizeref": 1.4999999999606644
         },
         "name": "Turkey",
         "showlegend": true,
         "type": "scattergeo"
        },
        {
         "customdata": [
          [
           60
          ]
         ],
         "geo": "geo",
         "hoverlabel": {
          "namelength": 0
         },
         "hovertemplate": "<b>%{hovertext}</b><br><br>Area=Canada<br>size=%{marker.size}<br>Deaths=%{customdata[0]}<br>alpha3=%{location}",
         "hovertext": [
          "Canada"
         ],
         "legendgroup": "Canada",
         "locations": [
          "CAN"
         ],
         "marker": {
          "color": "#FFA15A",
          "size": [
           44.91581441249946
          ],
          "sizemode": "area",
          "sizeref": 1.4999999999606644
         },
         "name": "Canada",
         "showlegend": true,
         "type": "scattergeo"
        },
        {
         "customdata": [
          [
           100
          ]
         ],
         "geo": "geo",
         "hoverlabel": {
          "namelength": 0
         },
         "hovertemplate": "<b>%{hovertext}</b><br><br>Area=Portugal<br>size=%{marker.size}<br>Deaths=%{customdata[0]}<br>alpha3=%{location}",
         "hovertext": [
          "Portugal"
         ],
         "legendgroup": "Portugal",
         "locations": [
          "PRT"
         ],
         "marker": {
          "color": "#19d3f3",
          "size": [
           74.61180106295771
          ],
          "sizemode": "area",
          "sizeref": 1.4999999999606644
         },
         "name": "Portugal",
         "showlegend": true,
         "type": "scattergeo"
        },
        {
         "customdata": [
          [
           114
          ]
         ],
         "geo": "geo",
         "hoverlabel": {
          "namelength": 0
         },
         "hovertemplate": "<b>%{hovertext}</b><br><br>Area=Brazil<br>size=%{marker.size}<br>Deaths=%{customdata[0]}<br>alpha3=%{location}",
         "hovertext": [
          "Brazil"
         ],
         "legendgroup": "Brazil",
         "locations": [
          "BRA"
         ],
         "marker": {
          "color": "#FF6692",
          "size": [
           84.92593427339007
          ],
          "sizemode": "area",
          "sizeref": 1.4999999999606644
         },
         "name": "Brazil",
         "showlegend": true,
         "type": "scattergeo"
        },
        {
         "customdata": [
          [
           20
          ]
         ],
         "geo": "geo",
         "hoverlabel": {
          "namelength": 0
         },
         "hovertemplate": "<b>%{hovertext}</b><br><br>Area=Norway<br>size=%{marker.size}<br>Deaths=%{customdata[0]}<br>alpha3=%{location}",
         "hovertext": [
          "Norway"
         ],
         "legendgroup": "Norway",
         "locations": [
          "NOR"
         ],
         "marker": {
          "color": "#B6E880",
          "size": [
           14.996875781052411
          ],
          "sizemode": "area",
          "sizeref": 1.4999999999606644
         },
         "name": "Norway",
         "showlegend": true,
         "type": "scattergeo"
        },
        {
         "customdata": [
          [
           14
          ]
         ],
         "geo": "geo",
         "hoverlabel": {
          "namelength": 0
         },
         "hovertemplate": "<b>%{hovertext}</b><br><br>Area=Australia<br>size=%{marker.size}<br>Deaths=%{customdata[0]}<br>alpha3=%{location}",
         "hovertext": [
          "Australia"
         ],
         "legendgroup": "Australia",
         "locations": [
          "AUS"
         ],
         "marker": {
          "color": "#FF97FF",
          "size": [
           10.498928256288414
          ],
          "sizemode": "area",
          "sizeref": 1.4999999999606644
         },
         "name": "Australia",
         "showlegend": true,
         "type": "scattergeo"
        },
        {
         "customdata": [
          [
           12
          ]
         ],
         "geo": "geo",
         "hoverlabel": {
          "namelength": 0
         },
         "hovertemplate": "<b>%{hovertext}</b><br><br>Area=Israel<br>size=%{marker.size}<br>Deaths=%{customdata[0]}<br>alpha3=%{location}",
         "hovertext": [
          "Israel"
         ],
         "legendgroup": "Israel",
         "locations": [
          "ISR"
         ],
         "marker": {
          "color": "#FECB52",
          "size": [
           8.999325060744466
          ],
          "sizemode": "area",
          "sizeref": 1.4999999999606644
         },
         "name": "Israel",
         "showlegend": true,
         "type": "scattergeo"
        },
        {
         "customdata": [
          [
           102
          ]
         ],
         "geo": "geo",
         "hoverlabel": {
          "namelength": 0
         },
         "hovertemplate": "<b>%{hovertext}</b><br><br>Area=Sweden<br>size=%{marker.size}<br>Deaths=%{customdata[0]}<br>alpha3=%{location}",
         "hovertext": [
          "Sweden"
         ],
         "legendgroup": "Sweden",
         "locations": [
          "SWE"
         ],
         "marker": {
          "color": "#636efa",
          "size": [
           76.08814351463238
          ],
          "sizemode": "area",
          "sizeref": 1.4999999999606644
         },
         "name": "Sweden",
         "showlegend": true,
         "type": "scattergeo"
        },
        {
         "customdata": [
          [
           11
          ]
         ],
         "geo": "geo",
         "hoverlabel": {
          "namelength": 0
         },
         "hovertemplate": "<b>%{hovertext}</b><br><br>Area=Czech_Republic<br>size=%{marker.size}<br>Deaths=%{customdata[0]}<br>alpha3=%{location}",
         "hovertext": [
          "Czech_Republic"
         ],
         "legendgroup": "Czech_Republic",
         "locations": [
          "CZE"
         ],
         "marker": {
          "color": "#EF553B",
          "size": [
           8.249480117441083
          ],
          "sizemode": "area",
          "sizeref": 1.4999999999606644
         },
         "name": "Czech_Republic",
         "showlegend": true,
         "type": "scattergeo"
        },
        {
         "customdata": [
          [
           36
          ]
         ],
         "geo": "geo",
         "hoverlabel": {
          "namelength": 0
         },
         "hovertemplate": "<b>%{hovertext}</b><br><br>Area=Ireland<br>size=%{marker.size}<br>Deaths=%{customdata[0]}<br>alpha3=%{location}",
         "hovertext": [
          "Ireland"
         ],
         "legendgroup": "Ireland",
         "locations": [
          "IRL"
         ],
         "marker": {
          "color": "#00cc96",
          "size": [
           26.981789750160146
          ],
          "sizemode": "area",
          "sizeref": 1.4999999999606644
         },
         "name": "Ireland",
         "showlegend": true,
         "type": "scattergeo"
        },
        {
         "customdata": [
          [
           27
          ]
         ],
         "geo": "geo",
         "hoverlabel": {
          "namelength": 0
         },
         "hovertemplate": "<b>%{hovertext}</b><br><br>Area=Malaysia<br>size=%{marker.size}<br>Deaths=%{customdata[0]}<br>alpha3=%{location}",
         "hovertext": [
          "Malaysia"
         ],
         "legendgroup": "Malaysia",
         "locations": [
          "MYS"
         ],
         "marker": {
          "color": "#ab63fa",
          "size": [
           20.242314829661744
          ],
          "sizemode": "area",
          "sizeref": 1.4999999999606644
         },
         "name": "Malaysia",
         "showlegend": true,
         "type": "scattergeo"
        },
        {
         "customdata": [
          [
           65
          ]
         ],
         "geo": "geo",
         "hoverlabel": {
          "namelength": 0
         },
         "hovertemplate": "<b>%{hovertext}</b><br><br>Area=Denmark<br>size=%{marker.size}<br>Deaths=%{customdata[0]}<br>alpha3=%{location}",
         "hovertext": [
          "Denmark"
         ],
         "legendgroup": "Denmark",
         "locations": [
          "DNK"
         ],
         "marker": {
          "color": "#FFA15A",
          "size": [
           48.643007128547225
          ],
          "sizemode": "area",
          "sizeref": 1.4999999999606644
         },
         "name": "Denmark",
         "showlegend": true,
         "type": "scattergeo"
        },
        {
         "customdata": [
          [
           6
          ]
         ],
         "geo": "geo",
         "hoverlabel": {
          "namelength": 0
         },
         "hovertemplate": "<b>%{hovertext}</b><br><br>Area=Chile<br>size=%{marker.size}<br>Deaths=%{customdata[0]}<br>alpha3=%{location}",
         "hovertext": [
          "Chile"
         ],
         "legendgroup": "Chile",
         "locations": [
          "CHL"
         ],
         "marker": {
          "color": "#19d3f3",
          "size": [
           4.499915626898394
          ],
          "sizemode": "area",
          "sizeref": 1.4999999999606644
         },
         "name": "Chile",
         "showlegend": true,
         "type": "scattergeo"
        },
        {
         "customdata": [
          [
           48
          ]
         ],
         "geo": "geo",
         "hoverlabel": {
          "namelength": 0
         },
         "hovertemplate": "<b>%{hovertext}</b><br><br>Area=Ecuador<br>size=%{marker.size}<br>Deaths=%{customdata[0]}<br>alpha3=%{location}",
         "hovertext": [
          "Ecuador"
         ],
         "legendgroup": "Ecuador",
         "locations": [
          "ECU"
         ],
         "marker": {
          "color": "#FF6692",
          "size": [
           35.956862117486104
          ],
          "sizemode": "area",
          "sizeref": 1.4999999999606644
         },
         "name": "Ecuador",
         "showlegend": true,
         "type": "scattergeo"
        },
        {
         "customdata": [
          [
           18
          ]
         ],
         "geo": "geo",
         "hoverlabel": {
          "namelength": 0
         },
         "hovertemplate": "<b>%{hovertext}</b><br><br>Area=Luxembourg<br>size=%{marker.size}<br>Deaths=%{customdata[0]}<br>alpha3=%{location}",
         "hovertext": [
          "Luxembourg"
         ],
         "legendgroup": "Luxembourg",
         "locations": [
          "LUX"
         ],
         "marker": {
          "color": "#B6E880",
          "size": [
           13.4977223362258
          ],
          "sizemode": "area",
          "sizeref": 1.4999999999606644
         },
         "name": "Luxembourg",
         "showlegend": true,
         "type": "scattergeo"
        },
        {
         "customdata": [
          [
           52
          ]
         ],
         "geo": "geo",
         "hoverlabel": {
          "namelength": 0
         },
         "hovertemplate": "<b>%{hovertext}</b><br><br>Area=Japan<br>size=%{marker.size}<br>Deaths=%{customdata[0]}<br>alpha3=%{location}",
         "hovertext": [
          "Japan"
         ],
         "legendgroup": "Japan",
         "locations": [
          "JPN"
         ],
         "marker": {
          "color": "#FF97FF",
          "size": [
           38.94516766478251
          ],
          "sizemode": "area",
          "sizeref": 1.4999999999606644
         },
         "name": "Japan",
         "showlegend": true,
         "type": "scattergeo"
        },
        {
         "customdata": [
          [
           18
          ]
         ],
         "geo": "geo",
         "hoverlabel": {
          "namelength": 0
         },
         "hovertemplate": "<b>%{hovertext}</b><br><br>Area=Poland<br>size=%{marker.size}<br>Deaths=%{customdata[0]}<br>alpha3=%{location}",
         "hovertext": [
          "Poland"
         ],
         "legendgroup": "Poland",
         "locations": [
          "POL"
         ],
         "marker": {
          "color": "#FECB52",
          "size": [
           13.4977223362258
          ],
          "sizemode": "area",
          "sizeref": 1.4999999999606644
         },
         "name": "Poland",
         "showlegend": true,
         "type": "scattergeo"
        },
        {
         "customdata": [
          [
           29
          ]
         ],
         "geo": "geo",
         "hoverlabel": {
          "namelength": 0
         },
         "hovertemplate": "<b>%{hovertext}</b><br><br>Area=Romania<br>size=%{marker.size}<br>Deaths=%{customdata[0]}<br>alpha3=%{location}",
         "hovertext": [
          "Romania"
         ],
         "legendgroup": "Romania",
         "locations": [
          "ROU"
         ],
         "marker": {
          "color": "#636efa",
          "size": [
           21.740478051817696
          ],
          "sizemode": "area",
          "sizeref": 1.4999999999606644
         },
         "name": "Romania",
         "showlegend": true,
         "type": "scattergeo"
        },
        {
         "customdata": [
          [
           11
          ]
         ],
         "geo": "geo",
         "hoverlabel": {
          "namelength": 0
         },
         "hovertemplate": "<b>%{hovertext}</b><br><br>Area=Pakistan<br>size=%{marker.size}<br>Deaths=%{customdata[0]}<br>alpha3=%{location}",
         "hovertext": [
          "Pakistan"
         ],
         "legendgroup": "Pakistan",
         "locations": [
          "PAK"
         ],
         "marker": {
          "color": "#EF553B",
          "size": [
           8.249480117441083
          ],
          "sizemode": "area",
          "sizeref": 1.4999999999606644
         },
         "name": "Pakistan",
         "showlegend": true,
         "type": "scattergeo"
        },
        {
         "customdata": [
          [
           5
          ]
         ],
         "geo": "geo",
         "hoverlabel": {
          "namelength": 0
         },
         "hovertemplate": "<b>%{hovertext}</b><br><br>Area=Russia<br>size=%{marker.size}<br>Deaths=%{customdata[0]}<br>alpha3=%{location}",
         "hovertext": [
          "Russia"
         ],
         "legendgroup": "Russia",
         "locations": [
          "RUS"
         ],
         "marker": {
          "color": "#00cc96",
          "size": [
           3.7499511726379278
          ],
          "sizemode": "area",
          "sizeref": 1.4999999999606644
         },
         "name": "Russia",
         "showlegend": true,
         "type": "scattergeo"
        },
        {
         "customdata": [
          [
           6
          ]
         ],
         "geo": "geo",
         "hoverlabel": {
          "namelength": 0
         },
         "hovertemplate": "<b>%{hovertext}</b><br><br>Area=Thailand<br>size=%{marker.size}<br>Deaths=%{customdata[0]}<br>alpha3=%{location}",
         "hovertext": [
          "Thailand"
         ],
         "legendgroup": "Thailand",
         "locations": [
          "THA"
         ],
         "marker": {
          "color": "#ab63fa",
          "size": [
           4.499915626898394
          ],
          "sizemode": "area",
          "sizeref": 1.4999999999606644
         },
         "name": "Thailand",
         "showlegend": true,
         "type": "scattergeo"
        },
        {
         "customdata": [
          [
           9
          ]
         ],
         "geo": "geo",
         "hoverlabel": {
          "namelength": 0
         },
         "hovertemplate": "<b>%{hovertext}</b><br><br>Area=Finland<br>size=%{marker.size}<br>Deaths=%{customdata[0]}<br>alpha3=%{location}",
         "hovertext": [
          "Finland"
         ],
         "legendgroup": "Finland",
         "locations": [
          "FIN"
         ],
         "marker": {
          "color": "#FFA15A",
          "size": [
           6.749715248790522
          ],
          "sizemode": "area",
          "sizeref": 1.4999999999606644
         },
         "name": "Finland",
         "showlegend": true,
         "type": "scattergeo"
        },
        {
         "customdata": [
          [
           4
          ]
         ],
         "geo": "geo",
         "hoverlabel": {
          "namelength": 0
         },
         "hovertemplate": "<b>%{hovertext}</b><br><br>Area=Saudi_Arabia<br>size=%{marker.size}<br>Deaths=%{customdata[0]}<br>alpha3=%{location}",
         "hovertext": [
          "Saudi_Arabia"
         ],
         "legendgroup": "Saudi_Arabia",
         "locations": [
          "SAU"
         ],
         "marker": {
          "color": "#19d3f3",
          "size": [
           2.9999750002499974
          ],
          "sizemode": "area",
          "sizeref": 1.4999999999606644
         },
         "name": "Saudi_Arabia",
         "showlegend": true,
         "type": "scattergeo"
        },
        {
         "customdata": [
          [
           2
          ]
         ],
         "geo": "geo",
         "hoverlabel": {
          "namelength": 0
         },
         "hovertemplate": "<b>%{hovertext}</b><br><br>Area=South_Africa<br>size=%{marker.size}<br>Deaths=%{customdata[0]}<br>alpha3=%{location}",
         "hovertext": [
          "South_Africa"
         ],
         "legendgroup": "South_Africa",
         "locations": [
          "ZAF"
         ],
         "marker": {
          "color": "#FF6692",
          "size": [
           1.4999968750078125
          ],
          "sizemode": "area",
          "sizeref": 1.4999999999606644
         },
         "name": "South_Africa",
         "showlegend": true,
         "type": "scattergeo"
        },
        {
         "customdata": [
          [
           102
          ]
         ],
         "geo": "geo",
         "hoverlabel": {
          "namelength": 0
         },
         "hovertemplate": "<b>%{hovertext}</b><br><br>Area=Indonesia<br>size=%{marker.size}<br>Deaths=%{customdata[0]}<br>alpha3=%{location}",
         "hovertext": [
          "Indonesia"
         ],
         "legendgroup": "Indonesia",
         "locations": [
          "IDN"
         ],
         "marker": {
          "color": "#B6E880",
          "size": [
           76.08814351463238
          ],
          "sizemode": "area",
          "sizeref": 1.4999999999606644
         },
         "name": "Indonesia",
         "showlegend": true,
         "type": "scattergeo"
        },
        {
         "customdata": [
          [
           68
          ]
         ],
         "geo": "geo",
         "hoverlabel": {
          "namelength": 0
         },
         "hovertemplate": "<b>%{hovertext}</b><br><br>Area=Philippines<br>size=%{marker.size}<br>Deaths=%{customdata[0]}<br>alpha3=%{location}",
         "hovertext": [
          "Philippines"
         ],
         "legendgroup": "Philippines",
         "locations": [
          "PHL"
         ],
         "marker": {
          "color": "#FF97FF",
          "size": [
           50.87752892922119
          ],
          "sizemode": "area",
          "sizeref": 1.4999999999606644
         },
         "name": "Philippines",
         "showlegend": true,
         "type": "scattergeo"
        },
        {
         "customdata": [
          [
           32
          ]
         ],
         "geo": "geo",
         "hoverlabel": {
          "namelength": 0
         },
         "hovertemplate": "<b>%{hovertext}</b><br><br>Area=Greece<br>size=%{marker.size}<br>Deaths=%{customdata[0]}<br>alpha3=%{location}",
         "hovertext": [
          "Greece"
         ],
         "legendgroup": "Greece",
         "locations": [
          "GRC"
         ],
         "marker": {
          "color": "#FECB52",
          "size": [
           23.98720818669814
          ],
          "sizemode": "area",
          "sizeref": 1.4999999999606644
         },
         "name": "Greece",
         "showlegend": true,
         "type": "scattergeo"
        },
        {
         "customdata": [
          [
           25
          ]
         ],
         "geo": "geo",
         "hoverlabel": {
          "namelength": 0
         },
         "hovertemplate": "<b>%{hovertext}</b><br><br>Area=India<br>size=%{marker.size}<br>Deaths=%{customdata[0]}<br>alpha3=%{location}",
         "hovertext": [
          "India"
         ],
         "legendgroup": "India",
         "locations": [
          "IND"
         ],
         "marker": {
          "color": "#636efa",
          "size": [
           18.743898867618753
          ],
          "sizemode": "area",
          "sizeref": 1.4999999999606644
         },
         "name": "India",
         "showlegend": true,
         "type": "scattergeo"
        },
        {
         "customdata": [
          [
           2
          ]
         ],
         "geo": "geo",
         "hoverlabel": {
          "namelength": 0
         },
         "hovertemplate": "<b>%{hovertext}</b><br><br>Area=Iceland<br>size=%{marker.size}<br>Deaths=%{customdata[0]}<br>alpha3=%{location}",
         "hovertext": [
          "Iceland"
         ],
         "legendgroup": "Iceland",
         "locations": [
          "ISL"
         ],
         "marker": {
          "color": "#EF553B",
          "size": [
           1.4999968750078125
          ],
          "sizemode": "area",
          "sizeref": 1.4999999999606644
         },
         "name": "Iceland",
         "showlegend": true,
         "type": "scattergeo"
        },
        {
         "customdata": [
          [
           17
          ]
         ],
         "geo": "geo",
         "hoverlabel": {
          "namelength": 0
         },
         "hovertemplate": "<b>%{hovertext}</b><br><br>Area=Panama<br>size=%{marker.size}<br>Deaths=%{customdata[0]}<br>alpha3=%{location}",
         "hovertext": [
          "Panama"
         ],
         "legendgroup": "Panama",
         "locations": [
          "PAN"
         ],
         "marker": {
          "color": "#00cc96",
          "size": [
           12.74808120595643
          ],
          "sizemode": "area",
          "sizeref": 1.4999999999606644
         },
         "name": "Panama",
         "showlegend": true,
         "type": "scattergeo"
        },
        {
         "customdata": [
          [
           16
          ]
         ],
         "geo": "geo",
         "hoverlabel": {
          "namelength": 0
         },
         "hovertemplate": "<b>%{hovertext}</b><br><br>Area=Mexico<br>size=%{marker.size}<br>Deaths=%{customdata[0]}<br>alpha3=%{location}",
         "hovertext": [
          "Mexico"
         ],
         "legendgroup": "Mexico",
         "locations": [
          "MEX"
         ],
         "marker": {
          "color": "#ab63fa",
          "size": [
           11.998400255958558
          ],
          "sizemode": "area",
          "sizeref": 1.4999999999606644
         },
         "name": "Mexico",
         "showlegend": true,
         "type": "scattergeo"
        },
        {
         "customdata": [
          [
           3
          ]
         ],
         "geo": "geo",
         "hoverlabel": {
          "namelength": 0
         },
         "hovertemplate": "<b>%{hovertext}</b><br><br>Area=Singapore<br>size=%{marker.size}<br>Deaths=%{customdata[0]}<br>alpha3=%{location}",
         "hovertext": [
          "Singapore"
         ],
         "legendgroup": "Singapore",
         "locations": [
          "SGP"
         ],
         "marker": {
          "color": "#FFA15A",
          "size": [
           2.249989453184326
          ],
          "sizemode": "area",
          "sizeref": 1.4999999999606644
         },
         "name": "Singapore",
         "showlegend": true,
         "type": "scattergeo"
        },
        {
         "customdata": [
          [
           19
          ]
         ],
         "geo": "geo",
         "hoverlabel": {
          "namelength": 0
         },
         "hovertemplate": "<b>%{hovertext}</b><br><br>Area=Argentina<br>size=%{marker.size}<br>Deaths=%{customdata[0]}<br>alpha3=%{location}",
         "hovertext": [
          "Argentina"
         ],
         "legendgroup": "Argentina",
         "locations": [
          "ARG"
         ],
         "marker": {
          "color": "#19d3f3",
          "size": [
           14.247321307503372
          ],
          "sizemode": "area",
          "sizeref": 1.4999999999606644
         },
         "name": "Argentina",
         "showlegend": true,
         "type": "scattergeo"
        },
        {
         "customdata": [
          [
           28
          ]
         ],
         "geo": "geo",
         "hoverlabel": {
          "namelength": 0
         },
         "hovertemplate": "<b>%{hovertext}</b><br><br>Area=Dominican_Republic<br>size=%{marker.size}<br>Deaths=%{customdata[0]}<br>alpha3=%{location}",
         "hovertext": [
          "Dominican_Republic"
         ],
         "legendgroup": "Dominican_Republic",
         "locations": [
          "DOM"
         ],
         "marker": {
          "color": "#FF6692",
          "size": [
           20.99142919966767
          ],
          "sizemode": "area",
          "sizeref": 1.4999999999606644
         },
         "name": "Dominican_Republic",
         "showlegend": true,
         "type": "scattergeo"
        },
        {
         "customdata": [
          [
           7
          ]
         ],
         "geo": "geo",
         "hoverlabel": {
          "namelength": 0
         },
         "hovertemplate": "<b>%{hovertext}</b><br><br>Area=Cases_on_an_international_conveyance_Japan<br>size=%{marker.size}<br>Deaths=%{customdata[0]}<br>alpha3=%{location}",
         "hovertext": [
          "Cases_on_an_international_conveyance_Japan"
         ],
         "legendgroup": "Cases_on_an_international_conveyance_Japan",
         "locations": [
          null
         ],
         "marker": {
          "color": "#B6E880",
          "size": [
           5.249866019728144
          ],
          "sizemode": "area",
          "sizeref": 1.4999999999606644
         },
         "name": "Cases_on_an_international_conveyance_Japan",
         "showlegend": true,
         "type": "scattergeo"
        },
        {
         "customdata": [
          [
           9
          ]
         ],
         "geo": "geo",
         "hoverlabel": {
          "namelength": 0
         },
         "hovertemplate": "<b>%{hovertext}</b><br><br>Area=Slovenia<br>size=%{marker.size}<br>Deaths=%{customdata[0]}<br>alpha3=%{location}",
         "hovertext": [
          "Slovenia"
         ],
         "legendgroup": "Slovenia",
         "locations": [
          "SVN"
         ],
         "marker": {
          "color": "#FF97FF",
          "size": [
           6.749715248790522
          ],
          "sizemode": "area",
          "sizeref": 1.4999999999606644
         },
         "name": "Slovenia",
         "showlegend": true,
         "type": "scattergeo"
        },
        {
         "customdata": [
          [
           16
          ]
         ],
         "geo": "geo",
         "hoverlabel": {
          "namelength": 0
         },
         "hovertemplate": "<b>%{hovertext}</b><br><br>Area=Peru<br>size=%{marker.size}<br>Deaths=%{customdata[0]}<br>alpha3=%{location}",
         "hovertext": [
          "Peru"
         ],
         "legendgroup": "Peru",
         "locations": [
          "PER"
         ],
         "marker": {
          "color": "#FECB52",
          "size": [
           11.998400255958558
          ],
          "sizemode": "area",
          "sizeref": 1.4999999999606644
         },
         "name": "Peru",
         "showlegend": true,
         "type": "scattergeo"
        },
        {
         "customdata": [
          [
           10
          ]
         ],
         "geo": "geo",
         "hoverlabel": {
          "namelength": 0
         },
         "hovertemplate": "<b>%{hovertext}</b><br><br>Area=Serbia<br>size=%{marker.size}<br>Deaths=%{customdata[0]}<br>alpha3=%{location}",
         "hovertext": [
          "Serbia"
         ],
         "legendgroup": "Serbia",
         "locations": [
          "SRB"
         ],
         "marker": {
          "color": "#636efa",
          "size": [
           7.499609399412519
          ],
          "sizemode": "area",
          "sizeref": 1.4999999999606644
         },
         "name": "Serbia",
         "showlegend": true,
         "type": "scattergeo"
        },
        {
         "customdata": [
          [
           5
          ]
         ],
         "geo": "geo",
         "hoverlabel": {
          "namelength": 0
         },
         "hovertemplate": "<b>%{hovertext}</b><br><br>Area=Croatia<br>size=%{marker.size}<br>Deaths=%{customdata[0]}<br>alpha3=%{location}",
         "hovertext": [
          "Croatia"
         ],
         "legendgroup": "Croatia",
         "locations": [
          "HRV"
         ],
         "marker": {
          "color": "#EF553B",
          "size": [
           3.7499511726379278
          ],
          "sizemode": "area",
          "sizeref": 1.4999999999606644
         },
         "name": "Croatia",
         "showlegend": true,
         "type": "scattergeo"
        },
        {
         "customdata": [
          [
           1
          ]
         ],
         "geo": "geo",
         "hoverlabel": {
          "namelength": 0
         },
         "hovertemplate": "<b>%{hovertext}</b><br><br>Area=Estonia<br>size=%{marker.size}<br>Deaths=%{customdata[0]}<br>alpha3=%{location}",
         "hovertext": [
          "Estonia"
         ],
         "legendgroup": "Estonia",
         "locations": [
          "EST"
         ],
         "marker": {
          "color": "#00cc96",
          "size": [
           0.749999609375244
          ],
          "sizemode": "area",
          "sizeref": 1.4999999999606644
         },
         "name": "Estonia",
         "showlegend": true,
         "type": "scattergeo"
        },
        {
         "customdata": [
          [
           6
          ]
         ],
         "geo": "geo",
         "hoverlabel": {
          "namelength": 0
         },
         "hovertemplate": "<b>%{hovertext}</b><br><br>Area=Colombia<br>size=%{marker.size}<br>Deaths=%{customdata[0]}<br>alpha3=%{location}",
         "hovertext": [
          "Colombia"
         ],
         "legendgroup": "Colombia",
         "locations": [
          "COL"
         ],
         "marker": {
          "color": "#ab63fa",
          "size": [
           4.499915626898394
          ],
          "sizemode": "area",
          "sizeref": 1.4999999999606644
         },
         "name": "Colombia",
         "showlegend": true,
         "type": "scattergeo"
        },
        {
         "customdata": [
          [
           1
          ]
         ],
         "geo": "geo",
         "hoverlabel": {
          "namelength": 0
         },
         "hovertemplate": "<b>%{hovertext}</b><br><br>Area=Qatar<br>size=%{marker.size}<br>Deaths=%{customdata[0]}<br>alpha3=%{location}",
         "hovertext": [
          "Qatar"
         ],
         "legendgroup": "Qatar",
         "locations": [
          "QAT"
         ],
         "marker": {
          "color": "#FFA15A",
          "size": [
           0.749999609375244
          ],
          "sizemode": "area",
          "sizeref": 1.4999999999606644
         },
         "name": "Qatar",
         "showlegend": true,
         "type": "scattergeo"
        },
        {
         "customdata": [
          [
           30
          ]
         ],
         "geo": "geo",
         "hoverlabel": {
          "namelength": 0
         },
         "hovertemplate": "<b>%{hovertext}</b><br><br>Area=Egypt<br>size=%{marker.size}<br>Deaths=%{customdata[0]}<br>alpha3=%{location}",
         "hovertext": [
          "Egypt"
         ],
         "legendgroup": "Egypt",
         "locations": [
          "EGY"
         ],
         "marker": {
          "color": "#19d3f3",
          "size": [
           22.489459054242282
          ],
          "sizemode": "area",
          "sizeref": 1.4999999999606644
         },
         "name": "Egypt",
         "showlegend": true,
         "type": "scattergeo"
        },
        {
         "customdata": [
          [
           42
          ]
         ],
         "geo": "geo",
         "hoverlabel": {
          "namelength": 0
         },
         "hovertemplate": "<b>%{hovertext}</b><br><br>Area=Iraq<br>size=%{marker.size}<br>Deaths=%{customdata[0]}<br>alpha3=%{location}",
         "hovertext": [
          "Iraq"
         ],
         "legendgroup": "Iraq",
         "locations": [
          "IRQ"
         ],
         "marker": {
          "color": "#FF6692",
          "size": [
           31.471091246482484
          ],
          "sizemode": "area",
          "sizeref": 1.4999999999606644
         },
         "name": "Iraq",
         "showlegend": true,
         "type": "scattergeo"
        },
        {
         "customdata": [
          [
           1
          ]
         ],
         "geo": "geo",
         "hoverlabel": {
          "namelength": 0
         },
         "hovertemplate": "<b>%{hovertext}</b><br><br>Area=New_Zealand<br>size=%{marker.size}<br>Deaths=%{customdata[0]}<br>alpha3=%{location}",
         "hovertext": [
          "New_Zealand"
         ],
         "legendgroup": "New_Zealand",
         "locations": [
          "NZL"
         ],
         "marker": {
          "color": "#B6E880",
          "size": [
           0.749999609375244
          ],
          "sizemode": "area",
          "sizeref": 1.4999999999606644
         },
         "name": "New_Zealand",
         "showlegend": true,
         "type": "scattergeo"
        },
        {
         "customdata": [
          [
           4
          ]
         ],
         "geo": "geo",
         "hoverlabel": {
          "namelength": 0
         },
         "hovertemplate": "<b>%{hovertext}</b><br><br>Area=Bahrain<br>size=%{marker.size}<br>Deaths=%{customdata[0]}<br>alpha3=%{location}",
         "hovertext": [
          "Bahrain"
         ],
         "legendgroup": "Bahrain",
         "locations": [
          "BHR"
         ],
         "marker": {
          "color": "#FF97FF",
          "size": [
           2.9999750002499974
          ],
          "sizemode": "area",
          "sizeref": 1.4999999999606644
         },
         "name": "Bahrain",
         "showlegend": true,
         "type": "scattergeo"
        },
        {
         "customdata": [
          [
           2
          ]
         ],
         "geo": "geo",
         "hoverlabel": {
          "namelength": 0
         },
         "hovertemplate": "<b>%{hovertext}</b><br><br>Area=United_Arab_Emirates<br>size=%{marker.size}<br>Deaths=%{customdata[0]}<br>alpha3=%{location}",
         "hovertext": [
          "United_Arab_Emirates"
         ],
         "legendgroup": "United_Arab_Emirates",
         "locations": [
          "ARE"
         ],
         "marker": {
          "color": "#FECB52",
          "size": [
           1.4999968750078125
          ],
          "sizemode": "area",
          "sizeref": 1.4999999999606644
         },
         "name": "United_Arab_Emirates",
         "showlegend": true,
         "type": "scattergeo"
        },
        {
         "customdata": [
          [
           3
          ]
         ],
         "geo": "geo",
         "hoverlabel": {
          "namelength": 0
         },
         "hovertemplate": "<b>%{hovertext}</b><br><br>Area=Armenia<br>size=%{marker.size}<br>Deaths=%{customdata[0]}<br>alpha3=%{location}",
         "hovertext": [
          "Armenia"
         ],
         "legendgroup": "Armenia",
         "locations": [
          "ARM"
         ],
         "marker": {
          "color": "#636efa",
          "size": [
           2.249989453184326
          ],
          "sizemode": "area",
          "sizeref": 1.4999999999606644
         },
         "name": "Armenia",
         "showlegend": true,
         "type": "scattergeo"
        },
        {
         "customdata": [
          [
           8
          ]
         ],
         "geo": "geo",
         "hoverlabel": {
          "namelength": 0
         },
         "hovertemplate": "<b>%{hovertext}</b><br><br>Area=Lebanon<br>size=%{marker.size}<br>Deaths=%{customdata[0]}<br>alpha3=%{location}",
         "hovertext": [
          "Lebanon"
         ],
         "legendgroup": "Lebanon",
         "locations": [
          "LBN"
         ],
         "marker": {
          "color": "#EF553B",
          "size": [
           5.999800007999676
          ],
          "sizemode": "area",
          "sizeref": 1.4999999999606644
         },
         "name": "Lebanon",
         "showlegend": true,
         "type": "scattergeo"
        },
        {
         "customdata": [
          [
           26
          ]
         ],
         "geo": "geo",
         "hoverlabel": {
          "namelength": 0
         },
         "hovertemplate": "<b>%{hovertext}</b><br><br>Area=Algeria<br>size=%{marker.size}<br>Deaths=%{customdata[0]}<br>alpha3=%{location}",
         "hovertext": [
          "Algeria"
         ],
         "legendgroup": "Algeria",
         "locations": [
          "DZA"
         ],
         "marker": {
          "color": "#00cc96",
          "size": [
           19.493137274486944
          ],
          "sizemode": "area",
          "sizeref": 1.4999999999606644
         },
         "name": "Algeria",
         "showlegend": true,
         "type": "scattergeo"
        },
        {
         "customdata": [
          [
           13
          ]
         ],
         "geo": "geo",
         "hoverlabel": {
          "namelength": 0
         },
         "hovertemplate": "<b>%{hovertext}</b><br><br>Area=Hungary<br>size=%{marker.size}<br>Deaths=%{customdata[0]}<br>alpha3=%{location}",
         "hovertext": [
          "Hungary"
         ],
         "legendgroup": "Hungary",
         "locations": [
          "HUN"
         ],
         "marker": {
          "color": "#ab63fa",
          "size": [
           9.749141887513018
          ],
          "sizemode": "area",
          "sizeref": 1.4999999999606644
         },
         "name": "Hungary",
         "showlegend": true,
         "type": "scattergeo"
        },
        {
         "customdata": [
          [
           7
          ]
         ],
         "geo": "geo",
         "hoverlabel": {
          "namelength": 0
         },
         "hovertemplate": "<b>%{hovertext}</b><br><br>Area=Lithuania<br>size=%{marker.size}<br>Deaths=%{customdata[0]}<br>alpha3=%{location}",
         "hovertext": [
          "Lithuania"
         ],
         "legendgroup": "Lithuania",
         "locations": [
          "LTU"
         ],
         "marker": {
          "color": "#FFA15A",
          "size": [
           5.249866019728144
          ],
          "sizemode": "area",
          "sizeref": 1.4999999999606644
         },
         "name": "Lithuania",
         "showlegend": true,
         "type": "scattergeo"
        },
        {
         "customdata": [
          [
           23
          ]
         ],
         "geo": "geo",
         "hoverlabel": {
          "namelength": 0
         },
         "hovertemplate": "<b>%{hovertext}</b><br><br>Area=Morocco<br>size=%{marker.size}<br>Deaths=%{customdata[0]}<br>alpha3=%{location}",
         "hovertext": [
          "Morocco"
         ],
         "legendgroup": "Morocco",
         "locations": [
          "MAR"
         ],
         "marker": {
          "color": "#19d3f3",
          "size": [
           17.24524883647226
          ],
          "sizemode": "area",
          "sizeref": 1.4999999999606644
         },
         "name": "Morocco",
         "showlegend": true,
         "type": "scattergeo"
        },
        {
         "customdata": [
          [
           7
          ]
         ],
         "geo": "geo",
         "hoverlabel": {
          "namelength": 0
         },
         "hovertemplate": "<b>%{hovertext}</b><br><br>Area=Bulgaria<br>size=%{marker.size}<br>Deaths=%{customdata[0]}<br>alpha3=%{location}",
         "hovertext": [
          "Bulgaria"
         ],
         "legendgroup": "Bulgaria",
         "locations": [
          "BGR"
         ],
         "marker": {
          "color": "#FF6692",
          "size": [
           5.249866019728144
          ],
          "sizemode": "area",
          "sizeref": 1.4999999999606644
         },
         "name": "Bulgaria",
         "showlegend": true,
         "type": "scattergeo"
        },
        {
         "customdata": [
          [
           8
          ]
         ],
         "geo": "geo",
         "hoverlabel": {
          "namelength": 0
         },
         "hovertemplate": "<b>%{hovertext}</b><br><br>Area=Ukraine<br>size=%{marker.size}<br>Deaths=%{customdata[0]}<br>alpha3=%{location}",
         "hovertext": [
          "Ukraine"
         ],
         "legendgroup": "Ukraine",
         "locations": [
          "UKR"
         ],
         "marker": {
          "color": "#B6E880",
          "size": [
           5.999800007999676
          ],
          "sizemode": "area",
          "sizeref": 1.4999999999606644
         },
         "name": "Ukraine",
         "showlegend": true,
         "type": "scattergeo"
        },
        {
         "customdata": [
          [
           4
          ]
         ],
         "geo": "geo",
         "hoverlabel": {
          "namelength": 0
         },
         "hovertemplate": "<b>%{hovertext}</b><br><br>Area=Andorra<br>size=%{marker.size}<br>Deaths=%{customdata[0]}<br>alpha3=%{location}",
         "hovertext": [
          "Andorra"
         ],
         "legendgroup": "Andorra",
         "locations": [
          "AND"
         ],
         "marker": {
          "color": "#FF97FF",
          "size": [
           2.9999750002499974
          ],
          "sizemode": "area",
          "sizeref": 1.4999999999606644
         },
         "name": "Andorra",
         "showlegend": true,
         "type": "scattergeo"
        },
        {
         "customdata": [
          [
           0
          ]
         ],
         "geo": "geo",
         "hoverlabel": {
          "namelength": 0
         },
         "hovertemplate": "<b>%{hovertext}</b><br><br>Area=Latvia<br>size=%{marker.size}<br>Deaths=%{customdata[0]}<br>alpha3=%{location}",
         "hovertext": [
          "Latvia"
         ],
         "legendgroup": "Latvia",
         "locations": [
          "LVA"
         ],
         "marker": {
          "color": "#FECB52",
          "size": [
           0
          ],
          "sizemode": "area",
          "sizeref": 1.4999999999606644
         },
         "name": "Latvia",
         "showlegend": true,
         "type": "scattergeo"
        },
        {
         "customdata": [
          [
           0
          ]
         ],
         "geo": "geo",
         "hoverlabel": {
          "namelength": 0
         },
         "hovertemplate": "<b>%{hovertext}</b><br><br>Area=Uruguay<br>size=%{marker.size}<br>Deaths=%{customdata[0]}<br>alpha3=%{location}",
         "hovertext": [
          "Uruguay"
         ],
         "legendgroup": "Uruguay",
         "locations": [
          "URY"
         ],
         "marker": {
          "color": "#636efa",
          "size": [
           0
          ],
          "sizemode": "area",
          "sizeref": 1.4999999999606644
         },
         "name": "Uruguay",
         "showlegend": true,
         "type": "scattergeo"
        },
        {
         "customdata": [
          [
           0
          ]
         ],
         "geo": "geo",
         "hoverlabel": {
          "namelength": 0
         },
         "hovertemplate": "<b>%{hovertext}</b><br><br>Area=Slovakia<br>size=%{marker.size}<br>Deaths=%{customdata[0]}<br>alpha3=%{location}",
         "hovertext": [
          "Slovakia"
         ],
         "legendgroup": "Slovakia",
         "locations": [
          "SVK"
         ],
         "marker": {
          "color": "#EF553B",
          "size": [
           0
          ],
          "sizemode": "area",
          "sizeref": 1.4999999999606644
         },
         "name": "Slovakia",
         "showlegend": true,
         "type": "scattergeo"
        },
        {
         "customdata": [
          [
           2
          ]
         ],
         "geo": "geo",
         "hoverlabel": {
          "namelength": 0
         },
         "hovertemplate": "<b>%{hovertext}</b><br><br>Area=Costa_Rica<br>size=%{marker.size}<br>Deaths=%{customdata[0]}<br>alpha3=%{location}",
         "hovertext": [
          "Costa_Rica"
         ],
         "legendgroup": "Costa_Rica",
         "locations": [
          "CRI"
         ],
         "marker": {
          "color": "#00cc96",
          "size": [
           1.4999968750078125
          ],
          "sizemode": "area",
          "sizeref": 1.4999999999606644
         },
         "name": "Costa_Rica",
         "showlegend": true,
         "type": "scattergeo"
        },
        {
         "customdata": [
          [
           2
          ]
         ],
         "geo": "geo",
         "hoverlabel": {
          "namelength": 0
         },
         "hovertemplate": "<b>%{hovertext}</b><br><br>Area=Taiwan<br>size=%{marker.size}<br>Deaths=%{customdata[0]}<br>alpha3=%{location}",
         "hovertext": [
          "Taiwan"
         ],
         "legendgroup": "Taiwan",
         "locations": [
          "TWN"
         ],
         "marker": {
          "color": "#ab63fa",
          "size": [
           1.4999968750078125
          ],
          "sizemode": "area",
          "sizeref": 1.4999999999606644
         },
         "name": "Taiwan",
         "showlegend": true,
         "type": "scattergeo"
        },
        {
         "customdata": [
          [
           5
          ]
         ],
         "geo": "geo",
         "hoverlabel": {
          "namelength": 0
         },
         "hovertemplate": "<b>%{hovertext}</b><br><br>Area=Bosnia_and_Herzegovina<br>size=%{marker.size}<br>Deaths=%{customdata[0]}<br>alpha3=%{location}",
         "hovertext": [
          "Bosnia_and_Herzegovina"
         ],
         "legendgroup": "Bosnia_and_Herzegovina",
         "locations": [
          "BIH"
         ],
         "marker": {
          "color": "#FFA15A",
          "size": [
           3.7499511726379278
          ],
          "sizemode": "area",
          "sizeref": 1.4999999999606644
         },
         "name": "Bosnia_and_Herzegovina",
         "showlegend": true,
         "type": "scattergeo"
        },
        {
         "customdata": [
          [
           4
          ]
         ],
         "geo": "geo",
         "hoverlabel": {
          "namelength": 0
         },
         "hovertemplate": "<b>%{hovertext}</b><br><br>Area=North_Macedonia<br>size=%{marker.size}<br>Deaths=%{customdata[0]}<br>alpha3=%{location}",
         "hovertext": [
          "North_Macedonia"
         ],
         "legendgroup": "North_Macedonia",
         "locations": [
          "MKD"
         ],
         "marker": {
          "color": "#19d3f3",
          "size": [
           2.9999750002499974
          ],
          "sizemode": "area",
          "sizeref": 1.4999999999606644
         },
         "name": "North_Macedonia",
         "showlegend": true,
         "type": "scattergeo"
        },
        {
         "customdata": [
          [
           1
          ]
         ],
         "geo": "geo",
         "hoverlabel": {
          "namelength": 0
         },
         "hovertemplate": "<b>%{hovertext}</b><br><br>Area=Jordan<br>size=%{marker.size}<br>Deaths=%{customdata[0]}<br>alpha3=%{location}",
         "hovertext": [
          "Jordan"
         ],
         "legendgroup": "Jordan",
         "locations": [
          "JOR"
         ],
         "marker": {
          "color": "#FF6692",
          "size": [
           0.749999609375244
          ],
          "sizemode": "area",
          "sizeref": 1.4999999999606644
         },
         "name": "Jordan",
         "showlegend": true,
         "type": "scattergeo"
        },
        {
         "customdata": [
          [
           0
          ]
         ],
         "geo": "geo",
         "hoverlabel": {
          "namelength": 0
         },
         "hovertemplate": "<b>%{hovertext}</b><br><br>Area=Kuwait<br>size=%{marker.size}<br>Deaths=%{customdata[0]}<br>alpha3=%{location}",
         "hovertext": [
          "Kuwait"
         ],
         "legendgroup": "Kuwait",
         "locations": [
          "KWT"
         ],
         "marker": {
          "color": "#B6E880",
          "size": [
           0
          ],
          "sizemode": "area",
          "sizeref": 1.4999999999606644
         },
         "name": "Kuwait",
         "showlegend": true,
         "type": "scattergeo"
        },
        {
         "customdata": [
          [
           2
          ]
         ],
         "geo": "geo",
         "hoverlabel": {
          "namelength": 0
         },
         "hovertemplate": "<b>%{hovertext}</b><br><br>Area=Moldova<br>size=%{marker.size}<br>Deaths=%{customdata[0]}<br>alpha3=%{location}",
         "hovertext": [
          "Moldova"
         ],
         "legendgroup": "Moldova",
         "locations": [
          "MDA"
         ],
         "marker": {
          "color": "#FF97FF",
          "size": [
           1.4999968750078125
          ],
          "sizemode": "area",
          "sizeref": 1.4999999999606644
         },
         "name": "Moldova",
         "showlegend": true,
         "type": "scattergeo"
        },
        {
         "customdata": [
          [
           0
          ]
         ],
         "geo": "geo",
         "hoverlabel": {
          "namelength": 0
         },
         "hovertemplate": "<b>%{hovertext}</b><br><br>Area=Kazakhstan<br>size=%{marker.size}<br>Deaths=%{customdata[0]}<br>alpha3=%{location}",
         "hovertext": [
          "Kazakhstan"
         ],
         "legendgroup": "Kazakhstan",
         "locations": [
          "KAZ"
         ],
         "marker": {
          "color": "#FECB52",
          "size": [
           0
          ],
          "sizemode": "area",
          "sizeref": 1.4999999999606644
         },
         "name": "Kazakhstan",
         "showlegend": true,
         "type": "scattergeo"
        },
        {
         "customdata": [
          [
           6
          ]
         ],
         "geo": "geo",
         "hoverlabel": {
          "namelength": 0
         },
         "hovertemplate": "<b>%{hovertext}</b><br><br>Area=Tunisia<br>size=%{marker.size}<br>Deaths=%{customdata[0]}<br>alpha3=%{location}",
         "hovertext": [
          "Tunisia"
         ],
         "legendgroup": "Tunisia",
         "locations": [
          "TUN"
         ],
         "marker": {
          "color": "#636efa",
          "size": [
           4.499915626898394
          ],
          "sizemode": "area",
          "sizeref": 1.4999999999606644
         },
         "name": "Tunisia",
         "showlegend": true,
         "type": "scattergeo"
        },
        {
         "customdata": [
          [
           22
          ]
         ],
         "geo": "geo",
         "hoverlabel": {
          "namelength": 0
         },
         "hovertemplate": "<b>%{hovertext}</b><br><br>Area=San_Marino<br>size=%{marker.size}<br>Deaths=%{customdata[0]}<br>alpha3=%{location}",
         "hovertext": [
          "San_Marino"
         ],
         "legendgroup": "San_Marino",
         "locations": [
          "SMR"
         ],
         "marker": {
          "color": "#EF553B",
          "size": [
           16.495841882825914
          ],
          "sizemode": "area",
          "sizeref": 1.4999999999606644
         },
         "name": "San_Marino",
         "showlegend": true,
         "type": "scattergeo"
        },
        {
         "customdata": [
          [
           0
          ]
         ],
         "geo": "geo",
         "hoverlabel": {
          "namelength": 0
         },
         "hovertemplate": "<b>%{hovertext}</b><br><br>Area=Vietnam<br>size=%{marker.size}<br>Deaths=%{customdata[0]}<br>alpha3=%{location}",
         "hovertext": [
          "Vietnam"
         ],
         "legendgroup": "Vietnam",
         "locations": [
          "VNM"
         ],
         "marker": {
          "color": "#00cc96",
          "size": [
           0
          ],
          "sizemode": "area",
          "sizeref": 1.4999999999606644
         },
         "name": "Vietnam",
         "showlegend": true,
         "type": "scattergeo"
        },
        {
         "customdata": [
          [
           10
          ]
         ],
         "geo": "geo",
         "hoverlabel": {
          "namelength": 0
         },
         "hovertemplate": "<b>%{hovertext}</b><br><br>Area=Albania<br>size=%{marker.size}<br>Deaths=%{customdata[0]}<br>alpha3=%{location}",
         "hovertext": [
          "Albania"
         ],
         "legendgroup": "Albania",
         "locations": [
          "ALB"
         ],
         "marker": {
          "color": "#ab63fa",
          "size": [
           7.499609399412519
          ],
          "sizemode": "area",
          "sizeref": 1.4999999999606644
         },
         "name": "Albania",
         "showlegend": true,
         "type": "scattergeo"
        },
        {
         "customdata": [
          [
           4
          ]
         ],
         "geo": "geo",
         "hoverlabel": {
          "namelength": 0
         },
         "hovertemplate": "<b>%{hovertext}</b><br><br>Area=Azerbaijan<br>size=%{marker.size}<br>Deaths=%{customdata[0]}<br>alpha3=%{location}",
         "hovertext": [
          "Azerbaijan"
         ],
         "legendgroup": "Azerbaijan",
         "locations": [
          "AZE"
         ],
         "marker": {
          "color": "#FFA15A",
          "size": [
           2.9999750002499974
          ],
          "sizemode": "area",
          "sizeref": 1.4999999999606644
         },
         "name": "Azerbaijan",
         "showlegend": true,
         "type": "scattergeo"
        },
        {
         "customdata": [
          [
           9
          ]
         ],
         "geo": "geo",
         "hoverlabel": {
          "namelength": 0
         },
         "hovertemplate": "<b>%{hovertext}</b><br><br>Area=Burkina_Faso<br>size=%{marker.size}<br>Deaths=%{customdata[0]}<br>alpha3=%{location}",
         "hovertext": [
          "Burkina_Faso"
         ],
         "legendgroup": "Burkina_Faso",
         "locations": [
          "BFA"
         ],
         "marker": {
          "color": "#19d3f3",
          "size": [
           6.749715248790522
          ],
          "sizemode": "area",
          "sizeref": 1.4999999999606644
         },
         "name": "Burkina_Faso",
         "showlegend": true,
         "type": "scattergeo"
        },
        {
         "customdata": [
          [
           5
          ]
         ],
         "geo": "geo",
         "hoverlabel": {
          "namelength": 0
         },
         "hovertemplate": "<b>%{hovertext}</b><br><br>Area=Cyprus<br>size=%{marker.size}<br>Deaths=%{customdata[0]}<br>alpha3=%{location}",
         "hovertext": [
          "Cyprus"
         ],
         "legendgroup": "Cyprus",
         "locations": [
          "CYP"
         ],
         "marker": {
          "color": "#FF6692",
          "size": [
           3.7499511726379278
          ],
          "sizemode": "area",
          "sizeref": 1.4999999999606644
         },
         "name": "Cyprus",
         "showlegend": true,
         "type": "scattergeo"
        },
        {
         "customdata": [
          [
           0
          ]
         ],
         "geo": "geo",
         "hoverlabel": {
          "namelength": 0
         },
         "hovertemplate": "<b>%{hovertext}</b><br><br>Area=Faroe_Islands<br>size=%{marker.size}<br>Deaths=%{customdata[0]}<br>alpha3=%{location}",
         "hovertext": [
          "Faroe_Islands"
         ],
         "legendgroup": "Faroe_Islands",
         "locations": [
          "FRO"
         ],
         "marker": {
          "color": "#B6E880",
          "size": [
           0
          ],
          "sizemode": "area",
          "sizeref": 1.4999999999606644
         },
         "name": "Faroe_Islands",
         "showlegend": true,
         "type": "scattergeo"
        },
        {
         "customdata": [
          [
           0
          ]
         ],
         "geo": "geo",
         "hoverlabel": {
          "namelength": 0
         },
         "hovertemplate": "<b>%{hovertext}</b><br><br>Area=Oman<br>size=%{marker.size}<br>Deaths=%{customdata[0]}<br>alpha3=%{location}",
         "hovertext": [
          "Oman"
         ],
         "legendgroup": "Oman",
         "locations": [
          "OMN"
         ],
         "marker": {
          "color": "#FF97FF",
          "size": [
           0
          ],
          "sizemode": "area",
          "sizeref": 1.4999999999606644
         },
         "name": "Oman",
         "showlegend": true,
         "type": "scattergeo"
        },
        {
         "customdata": [
          [
           5
          ]
         ],
         "geo": "geo",
         "hoverlabel": {
          "namelength": 0
         },
         "hovertemplate": "<b>%{hovertext}</b><br><br>Area=Ghana<br>size=%{marker.size}<br>Deaths=%{customdata[0]}<br>alpha3=%{location}",
         "hovertext": [
          "Ghana"
         ],
         "legendgroup": "Ghana",
         "locations": [
          "GHA"
         ],
         "marker": {
          "color": "#FECB52",
          "size": [
           3.7499511726379278
          ],
          "sizemode": "area",
          "sizeref": 1.4999999999606644
         },
         "name": "Ghana",
         "showlegend": true,
         "type": "scattergeo"
        },
        {
         "customdata": [
          [
           0
          ]
         ],
         "geo": "geo",
         "hoverlabel": {
          "namelength": 0
         },
         "hovertemplate": "<b>%{hovertext}</b><br><br>Area=Cote_dIvoire<br>size=%{marker.size}<br>Deaths=%{customdata[0]}<br>alpha3=%{location}",
         "hovertext": [
          "Cote_dIvoire"
         ],
         "legendgroup": "Cote_dIvoire",
         "locations": [
          "CIV"
         ],
         "marker": {
          "color": "#636efa",
          "size": [
           0
          ],
          "sizemode": "area",
          "sizeref": 1.4999999999606644
         },
         "name": "Cote_dIvoire",
         "showlegend": true,
         "type": "scattergeo"
        },
        {
         "customdata": [
          [
           0
          ]
         ],
         "geo": "geo",
         "hoverlabel": {
          "namelength": 0
         },
         "hovertemplate": "<b>%{hovertext}</b><br><br>Area=Malta<br>size=%{marker.size}<br>Deaths=%{customdata[0]}<br>alpha3=%{location}",
         "hovertext": [
          "Malta"
         ],
         "legendgroup": "Malta",
         "locations": [
          "MLT"
         ],
         "marker": {
          "color": "#EF553B",
          "size": [
           0
          ],
          "sizemode": "area",
          "sizeref": 1.4999999999606644
         },
         "name": "Malta",
         "showlegend": true,
         "type": "scattergeo"
        },
        {
         "customdata": [
          [
           1
          ]
         ],
         "geo": "geo",
         "hoverlabel": {
          "namelength": 0
         },
         "hovertemplate": "<b>%{hovertext}</b><br><br>Area=Uzbekistan<br>size=%{marker.size}<br>Deaths=%{customdata[0]}<br>alpha3=%{location}",
         "hovertext": [
          "Uzbekistan"
         ],
         "legendgroup": "Uzbekistan",
         "locations": [
          "UZB"
         ],
         "marker": {
          "color": "#00cc96",
          "size": [
           0.749999609375244
          ],
          "sizemode": "area",
          "sizeref": 1.4999999999606644
         },
         "name": "Uzbekistan",
         "showlegend": true,
         "type": "scattergeo"
        },
        {
         "customdata": [
          [
           0
          ]
         ],
         "geo": "geo",
         "hoverlabel": {
          "namelength": 0
         },
         "hovertemplate": "<b>%{hovertext}</b><br><br>Area=Senegal<br>size=%{marker.size}<br>Deaths=%{customdata[0]}<br>alpha3=%{location}",
         "hovertext": [
          "Senegal"
         ],
         "legendgroup": "Senegal",
         "locations": [
          "SEN"
         ],
         "marker": {
          "color": "#ab63fa",
          "size": [
           0
          ],
          "sizemode": "area",
          "sizeref": 1.4999999999606644
         },
         "name": "Senegal",
         "showlegend": true,
         "type": "scattergeo"
        },
        {
         "customdata": [
          [
           1
          ]
         ],
         "geo": "geo",
         "hoverlabel": {
          "namelength": 0
         },
         "hovertemplate": "<b>%{hovertext}</b><br><br>Area=Brunei_Darussalam<br>size=%{marker.size}<br>Deaths=%{customdata[0]}<br>alpha3=%{location}",
         "hovertext": [
          "Brunei_Darussalam"
         ],
         "legendgroup": "Brunei_Darussalam",
         "locations": [
          "BRN"
         ],
         "marker": {
          "color": "#FFA15A",
          "size": [
           0.749999609375244
          ],
          "sizemode": "area",
          "sizeref": 1.4999999999606644
         },
         "name": "Brunei_Darussalam",
         "showlegend": true,
         "type": "scattergeo"
        },
        {
         "customdata": [
          [
           3
          ]
         ],
         "geo": "geo",
         "hoverlabel": {
          "namelength": 0
         },
         "hovertemplate": "<b>%{hovertext}</b><br><br>Area=Cuba<br>size=%{marker.size}<br>Deaths=%{customdata[0]}<br>alpha3=%{location}",
         "hovertext": [
          "Cuba"
         ],
         "legendgroup": "Cuba",
         "locations": [
          "CUB"
         ],
         "marker": {
          "color": "#19d3f3",
          "size": [
           2.249989453184326
          ],
          "sizemode": "area",
          "sizeref": 1.4999999999606644
         },
         "name": "Cuba",
         "showlegend": true,
         "type": "scattergeo"
        },
        {
         "customdata": [
          [
           1
          ]
         ],
         "geo": "geo",
         "hoverlabel": {
          "namelength": 0
         },
         "hovertemplate": "<b>%{hovertext}</b><br><br>Area=Venezuela<br>size=%{marker.size}<br>Deaths=%{customdata[0]}<br>alpha3=%{location}",
         "hovertext": [
          "Venezuela"
         ],
         "legendgroup": "Venezuela",
         "locations": [
          "VEN"
         ],
         "marker": {
          "color": "#FF6692",
          "size": [
           0.749999609375244
          ],
          "sizemode": "area",
          "sizeref": 1.4999999999606644
         },
         "name": "Venezuela",
         "showlegend": true,
         "type": "scattergeo"
        },
        {
         "customdata": [
          [
           1
          ]
         ],
         "geo": "geo",
         "hoverlabel": {
          "namelength": 0
         },
         "hovertemplate": "<b>%{hovertext}</b><br><br>Area=Sri_Lanka<br>size=%{marker.size}<br>Deaths=%{customdata[0]}<br>alpha3=%{location}",
         "hovertext": [
          "Sri_Lanka"
         ],
         "legendgroup": "Sri_Lanka",
         "locations": [
          "LKA"
         ],
         "marker": {
          "color": "#B6E880",
          "size": [
           0.749999609375244
          ],
          "sizemode": "area",
          "sizeref": 1.4999999999606644
         },
         "name": "Sri_Lanka",
         "showlegend": true,
         "type": "scattergeo"
        },
        {
         "customdata": [
          [
           2
          ]
         ],
         "geo": "geo",
         "hoverlabel": {
          "namelength": 0
         },
         "hovertemplate": "<b>%{hovertext}</b><br><br>Area=Honduras<br>size=%{marker.size}<br>Deaths=%{customdata[0]}<br>alpha3=%{location}",
         "hovertext": [
          "Honduras"
         ],
         "legendgroup": "Honduras",
         "locations": [
          "HND"
         ],
         "marker": {
          "color": "#FF97FF",
          "size": [
           1.4999968750078125
          ],
          "sizemode": "area",
          "sizeref": 1.4999999999606644
         },
         "name": "Honduras",
         "showlegend": true,
         "type": "scattergeo"
        },
        {
         "customdata": [
          [
           3
          ]
         ],
         "geo": "geo",
         "hoverlabel": {
          "namelength": 0
         },
         "hovertemplate": "<b>%{hovertext}</b><br><br>Area=Afghanistan<br>size=%{marker.size}<br>Deaths=%{customdata[0]}<br>alpha3=%{location}",
         "hovertext": [
          "Afghanistan"
         ],
         "legendgroup": "Afghanistan",
         "locations": [
          "AFG"
         ],
         "marker": {
          "color": "#FECB52",
          "size": [
           2.249989453184326
          ],
          "sizemode": "area",
          "sizeref": 1.4999999999606644
         },
         "name": "Afghanistan",
         "showlegend": true,
         "type": "scattergeo"
        },
        {
         "customdata": [
          [
           0
          ]
         ],
         "geo": "geo",
         "hoverlabel": {
          "namelength": 0
         },
         "hovertemplate": "<b>%{hovertext}</b><br><br>Area=Cambodia<br>size=%{marker.size}<br>Deaths=%{customdata[0]}<br>alpha3=%{location}",
         "hovertext": [
          "Cambodia"
         ],
         "legendgroup": "Cambodia",
         "locations": [
          "KHM"
         ],
         "marker": {
          "color": "#636efa",
          "size": [
           0
          ],
          "sizemode": "area",
          "sizeref": 1.4999999999606644
         },
         "name": "Cambodia",
         "showlegend": true,
         "type": "scattergeo"
        },
        {
         "customdata": [
          [
           2
          ]
         ],
         "geo": "geo",
         "hoverlabel": {
          "namelength": 0
         },
         "hovertemplate": "<b>%{hovertext}</b><br><br>Area=Mauritius<br>size=%{marker.size}<br>Deaths=%{customdata[0]}<br>alpha3=%{location}",
         "hovertext": [
          "Mauritius"
         ],
         "legendgroup": "Mauritius",
         "locations": [
          "MUS"
         ],
         "marker": {
          "color": "#EF553B",
          "size": [
           1.4999968750078125
          ],
          "sizemode": "area",
          "sizeref": 1.4999999999606644
         },
         "name": "Mauritius",
         "showlegend": true,
         "type": "scattergeo"
        },
        {
         "customdata": [
          [
           3
          ]
         ],
         "geo": "geo",
         "hoverlabel": {
          "namelength": 0
         },
         "hovertemplate": "<b>%{hovertext}</b><br><br>Area=Puerto_Rico<br>size=%{marker.size}<br>Deaths=%{customdata[0]}<br>alpha3=%{location}",
         "hovertext": [
          "Puerto_Rico"
         ],
         "legendgroup": "Puerto_Rico",
         "locations": [
          "PRI"
         ],
         "marker": {
          "color": "#00cc96",
          "size": [
           2.249989453184326
          ],
          "sizemode": "area",
          "sizeref": 1.4999999999606644
         },
         "name": "Puerto_Rico",
         "showlegend": true,
         "type": "scattergeo"
        },
        {
         "customdata": [
          [
           2
          ]
         ],
         "geo": "geo",
         "hoverlabel": {
          "namelength": 0
         },
         "hovertemplate": "<b>%{hovertext}</b><br><br>Area=Cameroon<br>size=%{marker.size}<br>Deaths=%{customdata[0]}<br>alpha3=%{location}",
         "hovertext": [
          "Cameroon"
         ],
         "legendgroup": "Cameroon",
         "locations": [
          "CMR"
         ],
         "marker": {
          "color": "#ab63fa",
          "size": [
           1.4999968750078125
          ],
          "sizemode": "area",
          "sizeref": 1.4999999999606644
         },
         "name": "Cameroon",
         "showlegend": true,
         "type": "scattergeo"
        },
        {
         "customdata": [
          [
           1
          ]
         ],
         "geo": "geo",
         "hoverlabel": {
          "namelength": 0
         },
         "hovertemplate": "<b>%{hovertext}</b><br><br>Area=Nigeria<br>size=%{marker.size}<br>Deaths=%{customdata[0]}<br>alpha3=%{location}",
         "hovertext": [
          "Nigeria"
         ],
         "legendgroup": "Nigeria",
         "locations": [
          "NGA"
         ],
         "marker": {
          "color": "#FFA15A",
          "size": [
           0.749999609375244
          ],
          "sizemode": "area",
          "sizeref": 1.4999999999606644
         },
         "name": "Nigeria",
         "showlegend": true,
         "type": "scattergeo"
        },
        {
         "customdata": [
          [
           1
          ]
         ],
         "geo": "geo",
         "hoverlabel": {
          "namelength": 0
         },
         "hovertemplate": "<b>%{hovertext}</b><br><br>Area=Palestine<br>size=%{marker.size}<br>Deaths=%{customdata[0]}<br>alpha3=%{location}",
         "hovertext": [
          "Palestine"
         ],
         "legendgroup": "Palestine",
         "locations": [
          "PSE"
         ],
         "marker": {
          "color": "#19d3f3",
          "size": [
           0.749999609375244
          ],
          "sizemode": "area",
          "sizeref": 1.4999999999606644
         },
         "name": "Palestine",
         "showlegend": true,
         "type": "scattergeo"
        },
        {
         "customdata": [
          [
           0
          ]
         ],
         "geo": "geo",
         "hoverlabel": {
          "namelength": 0
         },
         "hovertemplate": "<b>%{hovertext}</b><br><br>Area=Belarus<br>size=%{marker.size}<br>Deaths=%{customdata[0]}<br>alpha3=%{location}",
         "hovertext": [
          "Belarus"
         ],
         "legendgroup": "Belarus",
         "locations": [
          "BLR"
         ],
         "marker": {
          "color": "#FF6692",
          "size": [
           0
          ],
          "sizemode": "area",
          "sizeref": 1.4999999999606644
         },
         "name": "Belarus",
         "showlegend": true,
         "type": "scattergeo"
        },
        {
         "customdata": [
          [
           1
          ]
         ],
         "geo": "geo",
         "hoverlabel": {
          "namelength": 0
         },
         "hovertemplate": "<b>%{hovertext}</b><br><br>Area=Kosovo<br>size=%{marker.size}<br>Deaths=%{customdata[0]}<br>alpha3=%{location}",
         "hovertext": [
          "Kosovo"
         ],
         "legendgroup": "Kosovo",
         "locations": [
          "XKX"
         ],
         "marker": {
          "color": "#B6E880",
          "size": [
           0.749999609375244
          ],
          "sizemode": "area",
          "sizeref": 1.4999999999606644
         },
         "name": "Kosovo",
         "showlegend": true,
         "type": "scattergeo"
        },
        {
         "customdata": [
          [
           0
          ]
         ],
         "geo": "geo",
         "hoverlabel": {
          "namelength": 0
         },
         "hovertemplate": "<b>%{hovertext}</b><br><br>Area=Georgia<br>size=%{marker.size}<br>Deaths=%{customdata[0]}<br>alpha3=%{location}",
         "hovertext": [
          "Georgia"
         ],
         "legendgroup": "Georgia",
         "locations": [
          "GEO"
         ],
         "marker": {
          "color": "#FF97FF",
          "size": [
           0
          ],
          "sizemode": "area",
          "sizeref": 1.4999999999606644
         },
         "name": "Georgia",
         "showlegend": true,
         "type": "scattergeo"
        },
        {
         "customdata": [
          [
           0
          ]
         ],
         "geo": "geo",
         "hoverlabel": {
          "namelength": 0
         },
         "hovertemplate": "<b>%{hovertext}</b><br><br>Area=Kyrgyzstan<br>size=%{marker.size}<br>Deaths=%{customdata[0]}<br>alpha3=%{location}",
         "hovertext": [
          "Kyrgyzstan"
         ],
         "legendgroup": "Kyrgyzstan",
         "locations": [
          "KGZ"
         ],
         "marker": {
          "color": "#FECB52",
          "size": [
           0
          ],
          "sizemode": "area",
          "sizeref": 1.4999999999606644
         },
         "name": "Kyrgyzstan",
         "showlegend": true,
         "type": "scattergeo"
        },
        {
         "customdata": [
          [
           1
          ]
         ],
         "geo": "geo",
         "hoverlabel": {
          "namelength": 0
         },
         "hovertemplate": "<b>%{hovertext}</b><br><br>Area=Montenegro<br>size=%{marker.size}<br>Deaths=%{customdata[0]}<br>alpha3=%{location}",
         "hovertext": [
          "Montenegro"
         ],
         "legendgroup": "Montenegro",
         "locations": [
          "MNE"
         ],
         "marker": {
          "color": "#636efa",
          "size": [
           0.749999609375244
          ],
          "sizemode": "area",
          "sizeref": 1.4999999999606644
         },
         "name": "Montenegro",
         "showlegend": true,
         "type": "scattergeo"
        },
        {
         "customdata": [
          [
           0
          ]
         ],
         "geo": "geo",
         "hoverlabel": {
          "namelength": 0
         },
         "hovertemplate": "<b>%{hovertext}</b><br><br>Area=Bolivia<br>size=%{marker.size}<br>Deaths=%{customdata[0]}<br>alpha3=%{location}",
         "hovertext": [
          "Bolivia"
         ],
         "legendgroup": "Bolivia",
         "locations": [
          "BOL"
         ],
         "marker": {
          "color": "#EF553B",
          "size": [
           0
          ],
          "sizemode": "area",
          "sizeref": 1.4999999999606644
         },
         "name": "Bolivia",
         "showlegend": true,
         "type": "scattergeo"
        },
        {
         "customdata": [
          [
           2
          ]
         ],
         "geo": "geo",
         "hoverlabel": {
          "namelength": 0
         },
         "hovertemplate": "<b>%{hovertext}</b><br><br>Area=Trinidad_and_Tobago<br>size=%{marker.size}<br>Deaths=%{customdata[0]}<br>alpha3=%{location}",
         "hovertext": [
          "Trinidad_and_Tobago"
         ],
         "legendgroup": "Trinidad_and_Tobago",
         "locations": [
          "TTO"
         ],
         "marker": {
          "color": "#00cc96",
          "size": [
           1.4999968750078125
          ],
          "sizemode": "area",
          "sizeref": 1.4999999999606644
         },
         "name": "Trinidad_and_Tobago",
         "showlegend": true,
         "type": "scattergeo"
        },
        {
         "customdata": [
          [
           1
          ]
         ],
         "geo": "geo",
         "hoverlabel": {
          "namelength": 0
         },
         "hovertemplate": "<b>%{hovertext}</b><br><br>Area=Jersey<br>size=%{marker.size}<br>Deaths=%{customdata[0]}<br>alpha3=%{location}",
         "hovertext": [
          "Jersey"
         ],
         "legendgroup": "Jersey",
         "locations": [
          "JEY"
         ],
         "marker": {
          "color": "#ab63fa",
          "size": [
           0.749999609375244
          ],
          "sizemode": "area",
          "sizeref": 1.4999999999606644
         },
         "name": "Jersey",
         "showlegend": true,
         "type": "scattergeo"
        },
        {
         "customdata": [
          [
           0
          ]
         ],
         "geo": "geo",
         "hoverlabel": {
          "namelength": 0
         },
         "hovertemplate": "<b>%{hovertext}</b><br><br>Area=Liechtenstein<br>size=%{marker.size}<br>Deaths=%{customdata[0]}<br>alpha3=%{location}",
         "hovertext": [
          "Liechtenstein"
         ],
         "legendgroup": "Liechtenstein",
         "locations": [
          "LIE"
         ],
         "marker": {
          "color": "#FFA15A",
          "size": [
           0
          ],
          "sizemode": "area",
          "sizeref": 1.4999999999606644
         },
         "name": "Liechtenstein",
         "showlegend": true,
         "type": "scattergeo"
        },
        {
         "customdata": [
          [
           0
          ]
         ],
         "geo": "geo",
         "hoverlabel": {
          "namelength": 0
         },
         "hovertemplate": "<b>%{hovertext}</b><br><br>Area=Rwanda<br>size=%{marker.size}<br>Deaths=%{customdata[0]}<br>alpha3=%{location}",
         "hovertext": [
          "Rwanda"
         ],
         "legendgroup": "Rwanda",
         "locations": [
          "RWA"
         ],
         "marker": {
          "color": "#19d3f3",
          "size": [
           0
          ],
          "sizemode": "area",
          "sizeref": 1.4999999999606644
         },
         "name": "Rwanda",
         "showlegend": true,
         "type": "scattergeo"
        },
        {
         "customdata": [
          [
           3
          ]
         ],
         "geo": "geo",
         "hoverlabel": {
          "namelength": 0
         },
         "hovertemplate": "<b>%{hovertext}</b><br><br>Area=Paraguay<br>size=%{marker.size}<br>Deaths=%{customdata[0]}<br>alpha3=%{location}",
         "hovertext": [
          "Paraguay"
         ],
         "legendgroup": "Paraguay",
         "locations": [
          "PRY"
         ],
         "marker": {
          "color": "#FF6692",
          "size": [
           2.249989453184326
          ],
          "sizemode": "area",
          "sizeref": 1.4999999999606644
         },
         "name": "Paraguay",
         "showlegend": true,
         "type": "scattergeo"
        },
        {
         "customdata": [
          [
           6
          ]
         ],
         "geo": "geo",
         "hoverlabel": {
          "namelength": 0
         },
         "hovertemplate": "<b>%{hovertext}</b><br><br>Area=Democratic_Republic_of_the_Congo<br>size=%{marker.size}<br>Deaths=%{customdata[0]}<br>alpha3=%{location}",
         "hovertext": [
          "Democratic_Republic_of_the_Congo"
         ],
         "legendgroup": "Democratic_Republic_of_the_Congo",
         "locations": [
          "COD"
         ],
         "marker": {
          "color": "#B6E880",
          "size": [
           4.499915626898394
          ],
          "sizemode": "area",
          "sizeref": 1.4999999999606644
         },
         "name": "Democratic_Republic_of_the_Congo",
         "showlegend": true,
         "type": "scattergeo"
        },
        {
         "customdata": [
          [
           0
          ]
         ],
         "geo": "geo",
         "hoverlabel": {
          "namelength": 0
         },
         "hovertemplate": "<b>%{hovertext}</b><br><br>Area=Gibraltar<br>size=%{marker.size}<br>Deaths=%{customdata[0]}<br>alpha3=%{location}",
         "hovertext": [
          "Gibraltar"
         ],
         "legendgroup": "Gibraltar",
         "locations": [
          "GIB"
         ],
         "marker": {
          "color": "#FF97FF",
          "size": [
           0
          ],
          "sizemode": "area",
          "sizeref": 1.4999999999606644
         },
         "name": "Gibraltar",
         "showlegend": true,
         "type": "scattergeo"
        },
        {
         "customdata": [
          [
           1
          ]
         ],
         "geo": "geo",
         "hoverlabel": {
          "namelength": 0
         },
         "hovertemplate": "<b>%{hovertext}</b><br><br>Area=Guam<br>size=%{marker.size}<br>Deaths=%{customdata[0]}<br>alpha3=%{location}",
         "hovertext": [
          "Guam"
         ],
         "legendgroup": "Guam",
         "locations": [
          "GUM"
         ],
         "marker": {
          "color": "#FECB52",
          "size": [
           0.749999609375244
          ],
          "sizemode": "area",
          "sizeref": 1.4999999999606644
         },
         "name": "Guam",
         "showlegend": true,
         "type": "scattergeo"
        },
        {
         "customdata": [
          [
           5
          ]
         ],
         "geo": "geo",
         "hoverlabel": {
          "namelength": 0
         },
         "hovertemplate": "<b>%{hovertext}</b><br><br>Area=Bangladesh<br>size=%{marker.size}<br>Deaths=%{customdata[0]}<br>alpha3=%{location}",
         "hovertext": [
          "Bangladesh"
         ],
         "legendgroup": "Bangladesh",
         "locations": [
          "BGD"
         ],
         "marker": {
          "color": "#636efa",
          "size": [
           3.7499511726379278
          ],
          "sizemode": "area",
          "sizeref": 1.4999999999606644
         },
         "name": "Bangladesh",
         "showlegend": true,
         "type": "scattergeo"
        },
        {
         "customdata": [
          [
           0
          ]
         ],
         "geo": "geo",
         "hoverlabel": {
          "namelength": 0
         },
         "hovertemplate": "<b>%{hovertext}</b><br><br>Area=Monaco<br>size=%{marker.size}<br>Deaths=%{customdata[0]}<br>alpha3=%{location}",
         "hovertext": [
          "Monaco"
         ],
         "legendgroup": "Monaco",
         "locations": [
          "MCO"
         ],
         "marker": {
          "color": "#EF553B",
          "size": [
           0
          ],
          "sizemode": "area",
          "sizeref": 1.4999999999606644
         },
         "name": "Monaco",
         "showlegend": true,
         "type": "scattergeo"
        },
        {
         "customdata": [
          [
           0
          ]
         ],
         "geo": "geo",
         "hoverlabel": {
          "namelength": 0
         },
         "hovertemplate": "<b>%{hovertext}</b><br><br>Area=Guernsey<br>size=%{marker.size}<br>Deaths=%{customdata[0]}<br>alpha3=%{location}",
         "hovertext": [
          "Guernsey"
         ],
         "legendgroup": "Guernsey",
         "locations": [
          "GGY"
         ],
         "marker": {
          "color": "#00cc96",
          "size": [
           0
          ],
          "sizemode": "area",
          "sizeref": 1.4999999999606644
         },
         "name": "Guernsey",
         "showlegend": true,
         "type": "scattergeo"
        },
        {
         "customdata": [
          [
           1
          ]
         ],
         "geo": "geo",
         "hoverlabel": {
          "namelength": 0
         },
         "hovertemplate": "<b>%{hovertext}</b><br><br>Area=Kenya<br>size=%{marker.size}<br>Deaths=%{customdata[0]}<br>alpha3=%{location}",
         "hovertext": [
          "Kenya"
         ],
         "legendgroup": "Kenya",
         "locations": [
          "KEN"
         ],
         "marker": {
          "color": "#ab63fa",
          "size": [
           0.749999609375244
          ],
          "sizemode": "area",
          "sizeref": 1.4999999999606644
         },
         "name": "Kenya",
         "showlegend": true,
         "type": "scattergeo"
        },
        {
         "customdata": [
          [
           1
          ]
         ],
         "geo": "geo",
         "hoverlabel": {
          "namelength": 0
         },
         "hovertemplate": "<b>%{hovertext}</b><br><br>Area=Guatemala<br>size=%{marker.size}<br>Deaths=%{customdata[0]}<br>alpha3=%{location}",
         "hovertext": [
          "Guatemala"
         ],
         "legendgroup": "Guatemala",
         "locations": [
          "GTM"
         ],
         "marker": {
          "color": "#FFA15A",
          "size": [
           0.749999609375244
          ],
          "sizemode": "area",
          "sizeref": 1.4999999999606644
         },
         "name": "Guatemala",
         "showlegend": true,
         "type": "scattergeo"
        },
        {
         "customdata": [
          [
           0
          ]
         ],
         "geo": "geo",
         "hoverlabel": {
          "namelength": 0
         },
         "hovertemplate": "<b>%{hovertext}</b><br><br>Area=French_Polynesia<br>size=%{marker.size}<br>Deaths=%{customdata[0]}<br>alpha3=%{location}",
         "hovertext": [
          "French_Polynesia"
         ],
         "legendgroup": "French_Polynesia",
         "locations": [
          "PYF"
         ],
         "marker": {
          "color": "#19d3f3",
          "size": [
           0
          ],
          "sizemode": "area",
          "sizeref": 1.4999999999606644
         },
         "name": "French_Polynesia",
         "showlegend": true,
         "type": "scattergeo"
        },
        {
         "customdata": [
          [
           1
          ]
         ],
         "geo": "geo",
         "hoverlabel": {
          "namelength": 0
         },
         "hovertemplate": "<b>%{hovertext}</b><br><br>Area=Jamaica<br>size=%{marker.size}<br>Deaths=%{customdata[0]}<br>alpha3=%{location}",
         "hovertext": [
          "Jamaica"
         ],
         "legendgroup": "Jamaica",
         "locations": [
          "JAM"
         ],
         "marker": {
          "color": "#FF6692",
          "size": [
           0.749999609375244
          ],
          "sizemode": "area",
          "sizeref": 1.4999999999606644
         },
         "name": "Jamaica",
         "showlegend": true,
         "type": "scattergeo"
        },
        {
         "customdata": [
          [
           0
          ]
         ],
         "geo": "geo",
         "hoverlabel": {
          "namelength": 0
         },
         "hovertemplate": "<b>%{hovertext}</b><br><br>Area=Isle_of_Man<br>size=%{marker.size}<br>Deaths=%{customdata[0]}<br>alpha3=%{location}",
         "hovertext": [
          "Isle_of_Man"
         ],
         "legendgroup": "Isle_of_Man",
         "locations": [
          "IMN"
         ],
         "marker": {
          "color": "#B6E880",
          "size": [
           0
          ],
          "sizemode": "area",
          "sizeref": 1.4999999999606644
         },
         "name": "Isle_of_Man",
         "showlegend": true,
         "type": "scattergeo"
        },
        {
         "customdata": [
          [
           0
          ]
         ],
         "geo": "geo",
         "hoverlabel": {
          "namelength": 0
         },
         "hovertemplate": "<b>%{hovertext}</b><br><br>Area=Uganda<br>size=%{marker.size}<br>Deaths=%{customdata[0]}<br>alpha3=%{location}",
         "hovertext": [
          "Uganda"
         ],
         "legendgroup": "Uganda",
         "locations": [
          "UGA"
         ],
         "marker": {
          "color": "#FF97FF",
          "size": [
           0
          ],
          "sizemode": "area",
          "sizeref": 1.4999999999606644
         },
         "name": "Uganda",
         "showlegend": true,
         "type": "scattergeo"
        },
        {
         "customdata": [
          [
           1
          ]
         ],
         "geo": "geo",
         "hoverlabel": {
          "namelength": 0
         },
         "hovertemplate": "<b>%{hovertext}</b><br><br>Area=Togo<br>size=%{marker.size}<br>Deaths=%{customdata[0]}<br>alpha3=%{location}",
         "hovertext": [
          "Togo"
         ],
         "legendgroup": "Togo",
         "locations": [
          "TGO"
         ],
         "marker": {
          "color": "#FECB52",
          "size": [
           0.749999609375244
          ],
          "sizemode": "area",
          "sizeref": 1.4999999999606644
         },
         "name": "Togo",
         "showlegend": true,
         "type": "scattergeo"
        },
        {
         "customdata": [
          [
           0
          ]
         ],
         "geo": "geo",
         "hoverlabel": {
          "namelength": 0
         },
         "hovertemplate": "<b>%{hovertext}</b><br><br>Area=Madagascar<br>size=%{marker.size}<br>Deaths=%{customdata[0]}<br>alpha3=%{location}",
         "hovertext": [
          "Madagascar"
         ],
         "legendgroup": "Madagascar",
         "locations": [
          "MDG"
         ],
         "marker": {
          "color": "#636efa",
          "size": [
           0
          ],
          "sizemode": "area",
          "sizeref": 1.4999999999606644
         },
         "name": "Madagascar",
         "showlegend": true,
         "type": "scattergeo"
        },
        {
         "customdata": [
          [
           0
          ]
         ],
         "geo": "geo",
         "hoverlabel": {
          "namelength": 0
         },
         "hovertemplate": "<b>%{hovertext}</b><br><br>Area=Zambia<br>size=%{marker.size}<br>Deaths=%{customdata[0]}<br>alpha3=%{location}",
         "hovertext": [
          "Zambia"
         ],
         "legendgroup": "Zambia",
         "locations": [
          "ZMB"
         ],
         "marker": {
          "color": "#EF553B",
          "size": [
           0
          ],
          "sizemode": "area",
          "sizeref": 1.4999999999606644
         },
         "name": "Zambia",
         "showlegend": true,
         "type": "scattergeo"
        },
        {
         "customdata": [
          [
           0
          ]
         ],
         "geo": "geo",
         "hoverlabel": {
          "namelength": 0
         },
         "hovertemplate": "<b>%{hovertext}</b><br><br>Area=Aruba<br>size=%{marker.size}<br>Deaths=%{customdata[0]}<br>alpha3=%{location}",
         "hovertext": [
          "Aruba"
         ],
         "legendgroup": "Aruba",
         "locations": [
          "ABW"
         ],
         "marker": {
          "color": "#00cc96",
          "size": [
           0
          ],
          "sizemode": "area",
          "sizeref": 1.4999999999606644
         },
         "name": "Aruba",
         "showlegend": true,
         "type": "scattergeo"
        },
        {
         "customdata": [
          [
           0
          ]
         ],
         "geo": "geo",
         "hoverlabel": {
          "namelength": 0
         },
         "hovertemplate": "<b>%{hovertext}</b><br><br>Area=Barbados<br>size=%{marker.size}<br>Deaths=%{customdata[0]}<br>alpha3=%{location}",
         "hovertext": [
          "Barbados"
         ],
         "legendgroup": "Barbados",
         "locations": [
          "BRB"
         ],
         "marker": {
          "color": "#ab63fa",
          "size": [
           0
          ],
          "sizemode": "area",
          "sizeref": 1.4999999999606644
         },
         "name": "Barbados",
         "showlegend": true,
         "type": "scattergeo"
        },
        {
         "customdata": [
          [
           0
          ]
         ],
         "geo": "geo",
         "hoverlabel": {
          "namelength": 0
         },
         "hovertemplate": "<b>%{hovertext}</b><br><br>Area=Bermuda<br>size=%{marker.size}<br>Deaths=%{customdata[0]}<br>alpha3=%{location}",
         "hovertext": [
          "Bermuda"
         ],
         "legendgroup": "Bermuda",
         "locations": [
          "BMU"
         ],
         "marker": {
          "color": "#FFA15A",
          "size": [
           0
          ],
          "sizemode": "area",
          "sizeref": 1.4999999999606644
         },
         "name": "Bermuda",
         "showlegend": true,
         "type": "scattergeo"
        },
        {
         "customdata": [
          [
           0
          ]
         ],
         "geo": "geo",
         "hoverlabel": {
          "namelength": 0
         },
         "hovertemplate": "<b>%{hovertext}</b><br><br>Area=United_States_Virgin_Islands<br>size=%{marker.size}<br>Deaths=%{customdata[0]}<br>alpha3=%{location}",
         "hovertext": [
          "United_States_Virgin_Islands"
         ],
         "legendgroup": "United_States_Virgin_Islands",
         "locations": [
          "VIR"
         ],
         "marker": {
          "color": "#19d3f3",
          "size": [
           0
          ],
          "sizemode": "area",
          "sizeref": 1.4999999999606644
         },
         "name": "United_States_Virgin_Islands",
         "showlegend": true,
         "type": "scattergeo"
        },
        {
         "customdata": [
          [
           0
          ]
         ],
         "geo": "geo",
         "hoverlabel": {
          "namelength": 0
         },
         "hovertemplate": "<b>%{hovertext}</b><br><br>Area=Congo<br>size=%{marker.size}<br>Deaths=%{customdata[0]}<br>alpha3=%{location}",
         "hovertext": [
          "Congo"
         ],
         "legendgroup": "Congo",
         "locations": [
          "COG"
         ],
         "marker": {
          "color": "#FF6692",
          "size": [
           0
          ],
          "sizemode": "area",
          "sizeref": 1.4999999999606644
         },
         "name": "Congo",
         "showlegend": true,
         "type": "scattergeo"
        },
        {
         "customdata": [
          [
           0
          ]
         ],
         "geo": "geo",
         "hoverlabel": {
          "namelength": 0
         },
         "hovertemplate": "<b>%{hovertext}</b><br><br>Area=El_Salvador<br>size=%{marker.size}<br>Deaths=%{customdata[0]}<br>alpha3=%{location}",
         "hovertext": [
          "El_Salvador"
         ],
         "legendgroup": "El_Salvador",
         "locations": [
          "SLV"
         ],
         "marker": {
          "color": "#B6E880",
          "size": [
           0
          ],
          "sizemode": "area",
          "sizeref": 1.4999999999606644
         },
         "name": "El_Salvador",
         "showlegend": true,
         "type": "scattergeo"
        },
        {
         "customdata": [
          [
           0
          ]
         ],
         "geo": "geo",
         "hoverlabel": {
          "namelength": 0
         },
         "hovertemplate": "<b>%{hovertext}</b><br><br>Area=Ethiopia<br>size=%{marker.size}<br>Deaths=%{customdata[0]}<br>alpha3=%{location}",
         "hovertext": [
          "Ethiopia"
         ],
         "legendgroup": "Ethiopia",
         "locations": [
          "ETH"
         ],
         "marker": {
          "color": "#FF97FF",
          "size": [
           0
          ],
          "sizemode": "area",
          "sizeref": 1.4999999999606644
         },
         "name": "Ethiopia",
         "showlegend": true,
         "type": "scattergeo"
        },
        {
         "customdata": [
          [
           0
          ]
         ],
         "geo": "geo",
         "hoverlabel": {
          "namelength": 0
         },
         "hovertemplate": "<b>%{hovertext}</b><br><br>Area=Maldives<br>size=%{marker.size}<br>Deaths=%{customdata[0]}<br>alpha3=%{location}",
         "hovertext": [
          "Maldives"
         ],
         "legendgroup": "Maldives",
         "locations": [
          "MDV"
         ],
         "marker": {
          "color": "#FECB52",
          "size": [
           0
          ],
          "sizemode": "area",
          "sizeref": 1.4999999999606644
         },
         "name": "Maldives",
         "showlegend": true,
         "type": "scattergeo"
        },
        {
         "customdata": [
          [
           0
          ]
         ],
         "geo": "geo",
         "hoverlabel": {
          "namelength": 0
         },
         "hovertemplate": "<b>%{hovertext}</b><br><br>Area=Djibouti<br>size=%{marker.size}<br>Deaths=%{customdata[0]}<br>alpha3=%{location}",
         "hovertext": [
          "Djibouti"
         ],
         "legendgroup": "Djibouti",
         "locations": [
          "DJI"
         ],
         "marker": {
          "color": "#636efa",
          "size": [
           0
          ],
          "sizemode": "area",
          "sizeref": 1.4999999999606644
         },
         "name": "Djibouti",
         "showlegend": true,
         "type": "scattergeo"
        },
        {
         "customdata": [
          [
           0
          ]
         ],
         "geo": "geo",
         "hoverlabel": {
          "namelength": 0
         },
         "hovertemplate": "<b>%{hovertext}</b><br><br>Area=New_Caledonia<br>size=%{marker.size}<br>Deaths=%{customdata[0]}<br>alpha3=%{location}",
         "hovertext": [
          "New_Caledonia"
         ],
         "legendgroup": "New_Caledonia",
         "locations": [
          "NCL"
         ],
         "marker": {
          "color": "#EF553B",
          "size": [
           0
          ],
          "sizemode": "area",
          "sizeref": 1.4999999999606644
         },
         "name": "New_Caledonia",
         "showlegend": true,
         "type": "scattergeo"
        },
        {
         "customdata": [
          [
           1
          ]
         ],
         "geo": "geo",
         "hoverlabel": {
          "namelength": 0
         },
         "hovertemplate": "<b>%{hovertext}</b><br><br>Area=United_Republic_of_Tanzania<br>size=%{marker.size}<br>Deaths=%{customdata[0]}<br>alpha3=%{location}",
         "hovertext": [
          "United_Republic_of_Tanzania"
         ],
         "legendgroup": "United_Republic_of_Tanzania",
         "locations": [
          "TZA"
         ],
         "marker": {
          "color": "#00cc96",
          "size": [
           0.749999609375244
          ],
          "sizemode": "area",
          "sizeref": 1.4999999999606644
         },
         "name": "United_Republic_of_Tanzania",
         "showlegend": true,
         "type": "scattergeo"
        },
        {
         "customdata": [
          [
           0
          ]
         ],
         "geo": "geo",
         "hoverlabel": {
          "namelength": 0
         },
         "hovertemplate": "<b>%{hovertext}</b><br><br>Area=Equatorial_Guinea<br>size=%{marker.size}<br>Deaths=%{customdata[0]}<br>alpha3=%{location}",
         "hovertext": [
          "Equatorial_Guinea"
         ],
         "legendgroup": "Equatorial_Guinea",
         "locations": [
          "GNQ"
         ],
         "marker": {
          "color": "#ab63fa",
          "size": [
           0
          ],
          "sizemode": "area",
          "sizeref": 1.4999999999606644
         },
         "name": "Equatorial_Guinea",
         "showlegend": true,
         "type": "scattergeo"
        },
        {
         "customdata": [
          [
           0
          ]
         ],
         "geo": "geo",
         "hoverlabel": {
          "namelength": 0
         },
         "hovertemplate": "<b>%{hovertext}</b><br><br>Area=Mongolia<br>size=%{marker.size}<br>Deaths=%{customdata[0]}<br>alpha3=%{location}",
         "hovertext": [
          "Mongolia"
         ],
         "legendgroup": "Mongolia",
         "locations": [
          "MNG"
         ],
         "marker": {
          "color": "#FFA15A",
          "size": [
           0
          ],
          "sizemode": "area",
          "sizeref": 1.4999999999606644
         },
         "name": "Mongolia",
         "showlegend": true,
         "type": "scattergeo"
        },
        {
         "customdata": [
          [
           0
          ]
         ],
         "geo": "geo",
         "hoverlabel": {
          "namelength": 0
         },
         "hovertemplate": "<b>%{hovertext}</b><br><br>Area=Bahamas<br>size=%{marker.size}<br>Deaths=%{customdata[0]}<br>alpha3=%{location}",
         "hovertext": [
          "Bahamas"
         ],
         "legendgroup": "Bahamas",
         "locations": [
          "BHS"
         ],
         "marker": {
          "color": "#19d3f3",
          "size": [
           0
          ],
          "sizemode": "area",
          "sizeref": 1.4999999999606644
         },
         "name": "Bahamas",
         "showlegend": true,
         "type": "scattergeo"
        },
        {
         "customdata": [
          [
           0
          ]
         ],
         "geo": "geo",
         "hoverlabel": {
          "namelength": 0
         },
         "hovertemplate": "<b>%{hovertext}</b><br><br>Area=Dominica<br>size=%{marker.size}<br>Deaths=%{customdata[0]}<br>alpha3=%{location}",
         "hovertext": [
          "Dominica"
         ],
         "legendgroup": "Dominica",
         "locations": [
          "DMA"
         ],
         "marker": {
          "color": "#FF6692",
          "size": [
           0
          ],
          "sizemode": "area",
          "sizeref": 1.4999999999606644
         },
         "name": "Dominica",
         "showlegend": true,
         "type": "scattergeo"
        },
        {
         "customdata": [
          [
           0
          ]
         ],
         "geo": "geo",
         "hoverlabel": {
          "namelength": 0
         },
         "hovertemplate": "<b>%{hovertext}</b><br><br>Area=Greenland<br>size=%{marker.size}<br>Deaths=%{customdata[0]}<br>alpha3=%{location}",
         "hovertext": [
          "Greenland"
         ],
         "legendgroup": "Greenland",
         "locations": [
          "GRL"
         ],
         "marker": {
          "color": "#B6E880",
          "size": [
           0
          ],
          "sizemode": "area",
          "sizeref": 1.4999999999606644
         },
         "name": "Greenland",
         "showlegend": true,
         "type": "scattergeo"
        },
        {
         "customdata": [
          [
           1
          ]
         ],
         "geo": "geo",
         "hoverlabel": {
          "namelength": 0
         },
         "hovertemplate": "<b>%{hovertext}</b><br><br>Area=Niger<br>size=%{marker.size}<br>Deaths=%{customdata[0]}<br>alpha3=%{location}",
         "hovertext": [
          "Niger"
         ],
         "legendgroup": "Niger",
         "locations": [
          "NER"
         ],
         "marker": {
          "color": "#FF97FF",
          "size": [
           0.749999609375244
          ],
          "sizemode": "area",
          "sizeref": 1.4999999999606644
         },
         "name": "Niger",
         "showlegend": true,
         "type": "scattergeo"
        },
        {
         "customdata": [
          [
           0
          ]
         ],
         "geo": "geo",
         "hoverlabel": {
          "namelength": 0
         },
         "hovertemplate": "<b>%{hovertext}</b><br><br>Area=Mali<br>size=%{marker.size}<br>Deaths=%{customdata[0]}<br>alpha3=%{location}",
         "hovertext": [
          "Mali"
         ],
         "legendgroup": "Mali",
         "locations": [
          "MLI"
         ],
         "marker": {
          "color": "#FECB52",
          "size": [
           0
          ],
          "sizemode": "area",
          "sizeref": 1.4999999999606644
         },
         "name": "Mali",
         "showlegend": true,
         "type": "scattergeo"
        },
        {
         "customdata": [
          [
           0
          ]
         ],
         "geo": "geo",
         "hoverlabel": {
          "namelength": 0
         },
         "hovertemplate": "<b>%{hovertext}</b><br><br>Area=Grenada<br>size=%{marker.size}<br>Deaths=%{customdata[0]}<br>alpha3=%{location}",
         "hovertext": [
          "Grenada"
         ],
         "legendgroup": "Grenada",
         "locations": [
          "GRD"
         ],
         "marker": {
          "color": "#636efa",
          "size": [
           0
          ],
          "sizemode": "area",
          "sizeref": 1.4999999999606644
         },
         "name": "Grenada",
         "showlegend": true,
         "type": "scattergeo"
        },
        {
         "customdata": [
          [
           0
          ]
         ],
         "geo": "geo",
         "hoverlabel": {
          "namelength": 0
         },
         "hovertemplate": "<b>%{hovertext}</b><br><br>Area=Eswatini<br>size=%{marker.size}<br>Deaths=%{customdata[0]}<br>alpha3=%{location}",
         "hovertext": [
          "Eswatini"
         ],
         "legendgroup": "Eswatini",
         "locations": [
          "SWZ"
         ],
         "marker": {
          "color": "#EF553B",
          "size": [
           0
          ],
          "sizemode": "area",
          "sizeref": 1.4999999999606644
         },
         "name": "Eswatini",
         "showlegend": true,
         "type": "scattergeo"
        },
        {
         "customdata": [
          [
           0
          ]
         ],
         "geo": "geo",
         "hoverlabel": {
          "namelength": 0
         },
         "hovertemplate": "<b>%{hovertext}</b><br><br>Area=Suriname<br>size=%{marker.size}<br>Deaths=%{customdata[0]}<br>alpha3=%{location}",
         "hovertext": [
          "Suriname"
         ],
         "legendgroup": "Suriname",
         "locations": [
          "SUR"
         ],
         "marker": {
          "color": "#00cc96",
          "size": [
           0
          ],
          "sizemode": "area",
          "sizeref": 1.4999999999606644
         },
         "name": "Suriname",
         "showlegend": true,
         "type": "scattergeo"
        },
        {
         "customdata": [
          [
           1
          ]
         ],
         "geo": "geo",
         "hoverlabel": {
          "namelength": 0
         },
         "hovertemplate": "<b>%{hovertext}</b><br><br>Area=Curaçao<br>size=%{marker.size}<br>Deaths=%{customdata[0]}<br>alpha3=%{location}",
         "hovertext": [
          "Curaçao"
         ],
         "legendgroup": "Curaçao",
         "locations": [
          "CUW"
         ],
         "marker": {
          "color": "#ab63fa",
          "size": [
           0.749999609375244
          ],
          "sizemode": "area",
          "sizeref": 1.4999999999606644
         },
         "name": "Curaçao",
         "showlegend": true,
         "type": "scattergeo"
        },
        {
         "customdata": [
          [
           1
          ]
         ],
         "geo": "geo",
         "hoverlabel": {
          "namelength": 0
         },
         "hovertemplate": "<b>%{hovertext}</b><br><br>Area=Cayman_Islands<br>size=%{marker.size}<br>Deaths=%{customdata[0]}<br>alpha3=%{location}",
         "hovertext": [
          "Cayman_Islands"
         ],
         "legendgroup": "Cayman_Islands",
         "locations": [
          "CYM"
         ],
         "marker": {
          "color": "#FFA15A",
          "size": [
           0.749999609375244
          ],
          "sizemode": "area",
          "sizeref": 1.4999999999606644
         },
         "name": "Cayman_Islands",
         "showlegend": true,
         "type": "scattergeo"
        },
        {
         "customdata": [
          [
           0
          ]
         ],
         "geo": "geo",
         "hoverlabel": {
          "namelength": 0
         },
         "hovertemplate": "<b>%{hovertext}</b><br><br>Area=Haiti<br>size=%{marker.size}<br>Deaths=%{customdata[0]}<br>alpha3=%{location}",
         "hovertext": [
          "Haiti"
         ],
         "legendgroup": "Haiti",
         "locations": [
          "HTI"
         ],
         "marker": {
          "color": "#19d3f3",
          "size": [
           0
          ],
          "sizemode": "area",
          "sizeref": 1.4999999999606644
         },
         "name": "Haiti",
         "showlegend": true,
         "type": "scattergeo"
        },
        {
         "customdata": [
          [
           1
          ]
         ],
         "geo": "geo",
         "hoverlabel": {
          "namelength": 0
         },
         "hovertemplate": "<b>%{hovertext}</b><br><br>Area=Guyana<br>size=%{marker.size}<br>Deaths=%{customdata[0]}<br>alpha3=%{location}",
         "hovertext": [
          "Guyana"
         ],
         "legendgroup": "Guyana",
         "locations": [
          "GUY"
         ],
         "marker": {
          "color": "#FF6692",
          "size": [
           0.749999609375244
          ],
          "sizemode": "area",
          "sizeref": 1.4999999999606644
         },
         "name": "Guyana",
         "showlegend": true,
         "type": "scattergeo"
        },
        {
         "customdata": [
          [
           0
          ]
         ],
         "geo": "geo",
         "hoverlabel": {
          "namelength": 0
         },
         "hovertemplate": "<b>%{hovertext}</b><br><br>Area=Guinea<br>size=%{marker.size}<br>Deaths=%{customdata[0]}<br>alpha3=%{location}",
         "hovertext": [
          "Guinea"
         ],
         "legendgroup": "Guinea",
         "locations": [
          "GIN"
         ],
         "marker": {
          "color": "#B6E880",
          "size": [
           0
          ],
          "sizemode": "area",
          "sizeref": 1.4999999999606644
         },
         "name": "Guinea",
         "showlegend": true,
         "type": "scattergeo"
        },
        {
         "customdata": [
          [
           0
          ]
         ],
         "geo": "geo",
         "hoverlabel": {
          "namelength": 0
         },
         "hovertemplate": "<b>%{hovertext}</b><br><br>Area=Namibia<br>size=%{marker.size}<br>Deaths=%{customdata[0]}<br>alpha3=%{location}",
         "hovertext": [
          "Namibia"
         ],
         "legendgroup": "Namibia",
         "locations": [
          "NAM"
         ],
         "marker": {
          "color": "#FF97FF",
          "size": [
           0
          ],
          "sizemode": "area",
          "sizeref": 1.4999999999606644
         },
         "name": "Namibia",
         "showlegend": true,
         "type": "scattergeo"
        },
        {
         "customdata": [
          [
           0
          ]
         ],
         "geo": "geo",
         "hoverlabel": {
          "namelength": 0
         },
         "hovertemplate": "<b>%{hovertext}</b><br><br>Area=Myanmar<br>size=%{marker.size}<br>Deaths=%{customdata[0]}<br>alpha3=%{location}",
         "hovertext": [
          "Myanmar"
         ],
         "legendgroup": "Myanmar",
         "locations": [
          "MMR"
         ],
         "marker": {
          "color": "#FECB52",
          "size": [
           0
          ],
          "sizemode": "area",
          "sizeref": 1.4999999999606644
         },
         "name": "Myanmar",
         "showlegend": true,
         "type": "scattergeo"
        },
        {
         "customdata": [
          [
           0
          ]
         ],
         "geo": "geo",
         "hoverlabel": {
          "namelength": 0
         },
         "hovertemplate": "<b>%{hovertext}</b><br><br>Area=Mozambique<br>size=%{marker.size}<br>Deaths=%{customdata[0]}<br>alpha3=%{location}",
         "hovertext": [
          "Mozambique"
         ],
         "legendgroup": "Mozambique",
         "locations": [
          "MOZ"
         ],
         "marker": {
          "color": "#636efa",
          "size": [
           0
          ],
          "sizemode": "area",
          "sizeref": 1.4999999999606644
         },
         "name": "Mozambique",
         "showlegend": true,
         "type": "scattergeo"
        },
        {
         "customdata": [
          [
           0
          ]
         ],
         "geo": "geo",
         "hoverlabel": {
          "namelength": 0
         },
         "hovertemplate": "<b>%{hovertext}</b><br><br>Area=Antigua_and_Barbuda<br>size=%{marker.size}<br>Deaths=%{customdata[0]}<br>alpha3=%{location}",
         "hovertext": [
          "Antigua_and_Barbuda"
         ],
         "legendgroup": "Antigua_and_Barbuda",
         "locations": [
          "ATG"
         ],
         "marker": {
          "color": "#EF553B",
          "size": [
           0
          ],
          "sizemode": "area",
          "sizeref": 1.4999999999606644
         },
         "name": "Antigua_and_Barbuda",
         "showlegend": true,
         "type": "scattergeo"
        },
        {
         "customdata": [
          [
           0
          ]
         ],
         "geo": "geo",
         "hoverlabel": {
          "namelength": 0
         },
         "hovertemplate": "<b>%{hovertext}</b><br><br>Area=Seychelles<br>size=%{marker.size}<br>Deaths=%{customdata[0]}<br>alpha3=%{location}",
         "hovertext": [
          "Seychelles"
         ],
         "legendgroup": "Seychelles",
         "locations": [
          "SYC"
         ],
         "marker": {
          "color": "#00cc96",
          "size": [
           0
          ],
          "sizemode": "area",
          "sizeref": 1.4999999999606644
         },
         "name": "Seychelles",
         "showlegend": true,
         "type": "scattergeo"
        },
        {
         "customdata": [
          [
           1
          ]
         ],
         "geo": "geo",
         "hoverlabel": {
          "namelength": 0
         },
         "hovertemplate": "<b>%{hovertext}</b><br><br>Area=Zimbabwe<br>size=%{marker.size}<br>Deaths=%{customdata[0]}<br>alpha3=%{location}",
         "hovertext": [
          "Zimbabwe"
         ],
         "legendgroup": "Zimbabwe",
         "locations": [
          "ZWE"
         ],
         "marker": {
          "color": "#ab63fa",
          "size": [
           0.749999609375244
          ],
          "sizemode": "area",
          "sizeref": 1.4999999999606644
         },
         "name": "Zimbabwe",
         "showlegend": true,
         "type": "scattergeo"
        },
        {
         "customdata": [
          [
           1
          ]
         ],
         "geo": "geo",
         "hoverlabel": {
          "namelength": 0
         },
         "hovertemplate": "<b>%{hovertext}</b><br><br>Area=Gabon<br>size=%{marker.size}<br>Deaths=%{customdata[0]}<br>alpha3=%{location}",
         "hovertext": [
          "Gabon"
         ],
         "legendgroup": "Gabon",
         "locations": [
          "GAB"
         ],
         "marker": {
          "color": "#FFA15A",
          "size": [
           0.749999609375244
          ],
          "sizemode": "area",
          "sizeref": 1.4999999999606644
         },
         "name": "Gabon",
         "showlegend": true,
         "type": "scattergeo"
        },
        {
         "customdata": [
          [
           0
          ]
         ],
         "geo": "geo",
         "hoverlabel": {
          "namelength": 0
         },
         "hovertemplate": "<b>%{hovertext}</b><br><br>Area=Eritrea<br>size=%{marker.size}<br>Deaths=%{customdata[0]}<br>alpha3=%{location}",
         "hovertext": [
          "Eritrea"
         ],
         "legendgroup": "Eritrea",
         "locations": [
          "ERI"
         ],
         "marker": {
          "color": "#19d3f3",
          "size": [
           0
          ],
          "sizemode": "area",
          "sizeref": 1.4999999999606644
         },
         "name": "Eritrea",
         "showlegend": true,
         "type": "scattergeo"
        },
        {
         "customdata": [
          [
           0
          ]
         ],
         "geo": "geo",
         "hoverlabel": {
          "namelength": 0
         },
         "hovertemplate": "<b>%{hovertext}</b><br><br>Area=Benin<br>size=%{marker.size}<br>Deaths=%{customdata[0]}<br>alpha3=%{location}",
         "hovertext": [
          "Benin"
         ],
         "legendgroup": "Benin",
         "locations": [
          "BEN"
         ],
         "marker": {
          "color": "#FF6692",
          "size": [
           0
          ],
          "sizemode": "area",
          "sizeref": 1.4999999999606644
         },
         "name": "Benin",
         "showlegend": true,
         "type": "scattergeo"
        },
        {
         "customdata": [
          [
           0
          ]
         ],
         "geo": "geo",
         "hoverlabel": {
          "namelength": 0
         },
         "hovertemplate": "<b>%{hovertext}</b><br><br>Area=Central_African_Republic<br>size=%{marker.size}<br>Deaths=%{customdata[0]}<br>alpha3=%{location}",
         "hovertext": [
          "Central_African_Republic"
         ],
         "legendgroup": "Central_African_Republic",
         "locations": [
          "CAF"
         ],
         "marker": {
          "color": "#B6E880",
          "size": [
           0
          ],
          "sizemode": "area",
          "sizeref": 1.4999999999606644
         },
         "name": "Central_African_Republic",
         "showlegend": true,
         "type": "scattergeo"
        },
        {
         "customdata": [
          [
           1
          ]
         ],
         "geo": "geo",
         "hoverlabel": {
          "namelength": 0
         },
         "hovertemplate": "<b>%{hovertext}</b><br><br>Area=Cape_Verde<br>size=%{marker.size}<br>Deaths=%{customdata[0]}<br>alpha3=%{location}",
         "hovertext": [
          "Cape_Verde"
         ],
         "legendgroup": "Cape_Verde",
         "locations": [
          "CPV"
         ],
         "marker": {
          "color": "#FF97FF",
          "size": [
           0.749999609375244
          ],
          "sizemode": "area",
          "sizeref": 1.4999999999606644
         },
         "name": "Cape_Verde",
         "showlegend": true,
         "type": "scattergeo"
        },
        {
         "customdata": [
          [
           0
          ]
         ],
         "geo": "geo",
         "hoverlabel": {
          "namelength": 0
         },
         "hovertemplate": "<b>%{hovertext}</b><br><br>Area=Holy_See<br>size=%{marker.size}<br>Deaths=%{customdata[0]}<br>alpha3=%{location}",
         "hovertext": [
          "Holy_See"
         ],
         "legendgroup": "Holy_See",
         "locations": [
          "VAT"
         ],
         "marker": {
          "color": "#FECB52",
          "size": [
           0
          ],
          "sizemode": "area",
          "sizeref": 1.4999999999606644
         },
         "name": "Holy_See",
         "showlegend": true,
         "type": "scattergeo"
        },
        {
         "customdata": [
          [
           0
          ]
         ],
         "geo": "geo",
         "hoverlabel": {
          "namelength": 0
         },
         "hovertemplate": "<b>%{hovertext}</b><br><br>Area=Laos<br>size=%{marker.size}<br>Deaths=%{customdata[0]}<br>alpha3=%{location}",
         "hovertext": [
          "Laos"
         ],
         "legendgroup": "Laos",
         "locations": [
          "LAO"
         ],
         "marker": {
          "color": "#636efa",
          "size": [
           0
          ],
          "sizemode": "area",
          "sizeref": 1.4999999999606644
         },
         "name": "Laos",
         "showlegend": true,
         "type": "scattergeo"
        },
        {
         "customdata": [
          [
           0
          ]
         ],
         "geo": "geo",
         "hoverlabel": {
          "namelength": 0
         },
         "hovertemplate": "<b>%{hovertext}</b><br><br>Area=Nepal<br>size=%{marker.size}<br>Deaths=%{customdata[0]}<br>alpha3=%{location}",
         "hovertext": [
          "Nepal"
         ],
         "legendgroup": "Nepal",
         "locations": [
          "NPL"
         ],
         "marker": {
          "color": "#EF553B",
          "size": [
           0
          ],
          "sizemode": "area",
          "sizeref": 1.4999999999606644
         },
         "name": "Nepal",
         "showlegend": true,
         "type": "scattergeo"
        },
        {
         "customdata": [
          [
           0
          ]
         ],
         "geo": "geo",
         "hoverlabel": {
          "namelength": 0
         },
         "hovertemplate": "<b>%{hovertext}</b><br><br>Area=Mauritania<br>size=%{marker.size}<br>Deaths=%{customdata[0]}<br>alpha3=%{location}",
         "hovertext": [
          "Mauritania"
         ],
         "legendgroup": "Mauritania",
         "locations": [
          "MRT"
         ],
         "marker": {
          "color": "#00cc96",
          "size": [
           0
          ],
          "sizemode": "area",
          "sizeref": 1.4999999999606644
         },
         "name": "Mauritania",
         "showlegend": true,
         "type": "scattergeo"
        },
        {
         "customdata": [
          [
           0
          ]
         ],
         "geo": "geo",
         "hoverlabel": {
          "namelength": 0
         },
         "hovertemplate": "<b>%{hovertext}</b><br><br>Area=Fiji<br>size=%{marker.size}<br>Deaths=%{customdata[0]}<br>alpha3=%{location}",
         "hovertext": [
          "Fiji"
         ],
         "legendgroup": "Fiji",
         "locations": [
          "FJI"
         ],
         "marker": {
          "color": "#ab63fa",
          "size": [
           0
          ],
          "sizemode": "area",
          "sizeref": 1.4999999999606644
         },
         "name": "Fiji",
         "showlegend": true,
         "type": "scattergeo"
        },
        {
         "customdata": [
          [
           0
          ]
         ],
         "geo": "geo",
         "hoverlabel": {
          "namelength": 0
         },
         "hovertemplate": "<b>%{hovertext}</b><br><br>Area=Turks_and_Caicos_islands<br>size=%{marker.size}<br>Deaths=%{customdata[0]}<br>alpha3=%{location}",
         "hovertext": [
          "Turks_and_Caicos_islands"
         ],
         "legendgroup": "Turks_and_Caicos_islands",
         "locations": [
          "TCA"
         ],
         "marker": {
          "color": "#FFA15A",
          "size": [
           0
          ],
          "sizemode": "area",
          "sizeref": 1.4999999999606644
         },
         "name": "Turks_and_Caicos_islands",
         "showlegend": true,
         "type": "scattergeo"
        },
        {
         "customdata": [
          [
           0
          ]
         ],
         "geo": "geo",
         "hoverlabel": {
          "namelength": 0
         },
         "hovertemplate": "<b>%{hovertext}</b><br><br>Area=Chad<br>size=%{marker.size}<br>Deaths=%{customdata[0]}<br>alpha3=%{location}",
         "hovertext": [
          "Chad"
         ],
         "legendgroup": "Chad",
         "locations": [
          "TCD"
         ],
         "marker": {
          "color": "#19d3f3",
          "size": [
           0
          ],
          "sizemode": "area",
          "sizeref": 1.4999999999606644
         },
         "name": "Chad",
         "showlegend": true,
         "type": "scattergeo"
        },
        {
         "customdata": [
          [
           0
          ]
         ],
         "geo": "geo",
         "hoverlabel": {
          "namelength": 0
         },
         "hovertemplate": "<b>%{hovertext}</b><br><br>Area=Montserrat<br>size=%{marker.size}<br>Deaths=%{customdata[0]}<br>alpha3=%{location}",
         "hovertext": [
          "Montserrat"
         ],
         "legendgroup": "Montserrat",
         "locations": [
          "MSR"
         ],
         "marker": {
          "color": "#FF6692",
          "size": [
           0
          ],
          "sizemode": "area",
          "sizeref": 1.4999999999606644
         },
         "name": "Montserrat",
         "showlegend": true,
         "type": "scattergeo"
        },
        {
         "customdata": [
          [
           0
          ]
         ],
         "geo": "geo",
         "hoverlabel": {
          "namelength": 0
         },
         "hovertemplate": "<b>%{hovertext}</b><br><br>Area=Syria<br>size=%{marker.size}<br>Deaths=%{customdata[0]}<br>alpha3=%{location}",
         "hovertext": [
          "Syria"
         ],
         "legendgroup": "Syria",
         "locations": [
          "SYR"
         ],
         "marker": {
          "color": "#B6E880",
          "size": [
           0
          ],
          "sizemode": "area",
          "sizeref": 1.4999999999606644
         },
         "name": "Syria",
         "showlegend": true,
         "type": "scattergeo"
        },
        {
         "customdata": [
          [
           1
          ]
         ],
         "geo": "geo",
         "hoverlabel": {
          "namelength": 0
         },
         "hovertemplate": "<b>%{hovertext}</b><br><br>Area=Sudan<br>size=%{marker.size}<br>Deaths=%{customdata[0]}<br>alpha3=%{location}",
         "hovertext": [
          "Sudan"
         ],
         "legendgroup": "Sudan",
         "locations": [
          "SDN"
         ],
         "marker": {
          "color": "#FF97FF",
          "size": [
           0.749999609375244
          ],
          "sizemode": "area",
          "sizeref": 1.4999999999606644
         },
         "name": "Sudan",
         "showlegend": true,
         "type": "scattergeo"
        },
        {
         "customdata": [
          [
           0
          ]
         ],
         "geo": "geo",
         "hoverlabel": {
          "namelength": 0
         },
         "hovertemplate": "<b>%{hovertext}</b><br><br>Area=Angola<br>size=%{marker.size}<br>Deaths=%{customdata[0]}<br>alpha3=%{location}",
         "hovertext": [
          "Angola"
         ],
         "legendgroup": "Angola",
         "locations": [
          "AGO"
         ],
         "marker": {
          "color": "#FECB52",
          "size": [
           0
          ],
          "sizemode": "area",
          "sizeref": 1.4999999999606644
         },
         "name": "Angola",
         "showlegend": true,
         "type": "scattergeo"
        },
        {
         "customdata": [
          [
           0
          ]
         ],
         "geo": "geo",
         "hoverlabel": {
          "namelength": 0
         },
         "hovertemplate": "<b>%{hovertext}</b><br><br>Area=Bhutan<br>size=%{marker.size}<br>Deaths=%{customdata[0]}<br>alpha3=%{location}",
         "hovertext": [
          "Bhutan"
         ],
         "legendgroup": "Bhutan",
         "locations": [
          "BTN"
         ],
         "marker": {
          "color": "#636efa",
          "size": [
           0
          ],
          "sizemode": "area",
          "sizeref": 1.4999999999606644
         },
         "name": "Bhutan",
         "showlegend": true,
         "type": "scattergeo"
        },
        {
         "customdata": [
          [
           0
          ]
         ],
         "geo": "geo",
         "hoverlabel": {
          "namelength": 0
         },
         "hovertemplate": "<b>%{hovertext}</b><br><br>Area=Saint_Lucia<br>size=%{marker.size}<br>Deaths=%{customdata[0]}<br>alpha3=%{location}",
         "hovertext": [
          "Saint_Lucia"
         ],
         "legendgroup": "Saint_Lucia",
         "locations": [
          "LCA"
         ],
         "marker": {
          "color": "#EF553B",
          "size": [
           0
          ],
          "sizemode": "area",
          "sizeref": 1.4999999999606644
         },
         "name": "Saint_Lucia",
         "showlegend": true,
         "type": "scattergeo"
        },
        {
         "customdata": [
          [
           0
          ]
         ],
         "geo": "geo",
         "hoverlabel": {
          "namelength": 0
         },
         "hovertemplate": "<b>%{hovertext}</b><br><br>Area=Liberia<br>size=%{marker.size}<br>Deaths=%{customdata[0]}<br>alpha3=%{location}",
         "hovertext": [
          "Liberia"
         ],
         "legendgroup": "Liberia",
         "locations": [
          "LBR"
         ],
         "marker": {
          "color": "#00cc96",
          "size": [
           0
          ],
          "sizemode": "area",
          "sizeref": 1.4999999999606644
         },
         "name": "Liberia",
         "showlegend": true,
         "type": "scattergeo"
        },
        {
         "customdata": [
          [
           0
          ]
         ],
         "geo": "geo",
         "hoverlabel": {
          "namelength": 0
         },
         "hovertemplate": "<b>%{hovertext}</b><br><br>Area=Somalia<br>size=%{marker.size}<br>Deaths=%{customdata[0]}<br>alpha3=%{location}",
         "hovertext": [
          "Somalia"
         ],
         "legendgroup": "Somalia",
         "locations": [
          "SOM"
         ],
         "marker": {
          "color": "#ab63fa",
          "size": [
           0
          ],
          "sizemode": "area",
          "sizeref": 1.4999999999606644
         },
         "name": "Somalia",
         "showlegend": true,
         "type": "scattergeo"
        },
        {
         "customdata": [
          [
           1
          ]
         ],
         "geo": "geo",
         "hoverlabel": {
          "namelength": 0
         },
         "hovertemplate": "<b>%{hovertext}</b><br><br>Area=Gambia<br>size=%{marker.size}<br>Deaths=%{customdata[0]}<br>alpha3=%{location}",
         "hovertext": [
          "Gambia"
         ],
         "legendgroup": "Gambia",
         "locations": [
          "GMB"
         ],
         "marker": {
          "color": "#FFA15A",
          "size": [
           0.749999609375244
          ],
          "sizemode": "area",
          "sizeref": 1.4999999999606644
         },
         "name": "Gambia",
         "showlegend": true,
         "type": "scattergeo"
        },
        {
         "customdata": [
          [
           1
          ]
         ],
         "geo": "geo",
         "hoverlabel": {
          "namelength": 0
         },
         "hovertemplate": "<b>%{hovertext}</b><br><br>Area=Nicaragua<br>size=%{marker.size}<br>Deaths=%{customdata[0]}<br>alpha3=%{location}",
         "hovertext": [
          "Nicaragua"
         ],
         "legendgroup": "Nicaragua",
         "locations": [
          "NIC"
         ],
         "marker": {
          "color": "#19d3f3",
          "size": [
           0.749999609375244
          ],
          "sizemode": "area",
          "sizeref": 1.4999999999606644
         },
         "name": "Nicaragua",
         "showlegend": true,
         "type": "scattergeo"
        },
        {
         "customdata": [
          [
           0
          ]
         ],
         "geo": "geo",
         "hoverlabel": {
          "namelength": 0
         },
         "hovertemplate": "<b>%{hovertext}</b><br><br>Area=Sint_Maarten<br>size=%{marker.size}<br>Deaths=%{customdata[0]}<br>alpha3=%{location}",
         "hovertext": [
          "Sint_Maarten"
         ],
         "legendgroup": "Sint_Maarten",
         "locations": [
          "SXM"
         ],
         "marker": {
          "color": "#FF6692",
          "size": [
           0
          ],
          "sizemode": "area",
          "sizeref": 1.4999999999606644
         },
         "name": "Sint_Maarten",
         "showlegend": true,
         "type": "scattergeo"
        },
        {
         "customdata": [
          [
           0
          ]
         ],
         "geo": "geo",
         "hoverlabel": {
          "namelength": 0
         },
         "hovertemplate": "<b>%{hovertext}</b><br><br>Area=British_Virgin_Islands<br>size=%{marker.size}<br>Deaths=%{customdata[0]}<br>alpha3=%{location}",
         "hovertext": [
          "British_Virgin_Islands"
         ],
         "legendgroup": "British_Virgin_Islands",
         "locations": [
          "VGB"
         ],
         "marker": {
          "color": "#B6E880",
          "size": [
           0
          ],
          "sizemode": "area",
          "sizeref": 1.4999999999606644
         },
         "name": "British_Virgin_Islands",
         "showlegend": true,
         "type": "scattergeo"
        },
        {
         "customdata": [
          [
           0
          ]
         ],
         "geo": "geo",
         "hoverlabel": {
          "namelength": 0
         },
         "hovertemplate": "<b>%{hovertext}</b><br><br>Area=Belize<br>size=%{marker.size}<br>Deaths=%{customdata[0]}<br>alpha3=%{location}",
         "hovertext": [
          "Belize"
         ],
         "legendgroup": "Belize",
         "locations": [
          "BLZ"
         ],
         "marker": {
          "color": "#FF97FF",
          "size": [
           0
          ],
          "sizemode": "area",
          "sizeref": 1.4999999999606644
         },
         "name": "Belize",
         "showlegend": true,
         "type": "scattergeo"
        },
        {
         "customdata": [
          [
           0
          ]
         ],
         "geo": "geo",
         "hoverlabel": {
          "namelength": 0
         },
         "hovertemplate": "<b>%{hovertext}</b><br><br>Area=Saint_Kitts_and_Nevis<br>size=%{marker.size}<br>Deaths=%{customdata[0]}<br>alpha3=%{location}",
         "hovertext": [
          "Saint_Kitts_and_Nevis"
         ],
         "legendgroup": "Saint_Kitts_and_Nevis",
         "locations": [
          "KNA"
         ],
         "marker": {
          "color": "#FECB52",
          "size": [
           0
          ],
          "sizemode": "area",
          "sizeref": 1.4999999999606644
         },
         "name": "Saint_Kitts_and_Nevis",
         "showlegend": true,
         "type": "scattergeo"
        },
        {
         "customdata": [
          [
           0
          ]
         ],
         "geo": "geo",
         "hoverlabel": {
          "namelength": 0
         },
         "hovertemplate": "<b>%{hovertext}</b><br><br>Area=Guinea_Bissau<br>size=%{marker.size}<br>Deaths=%{customdata[0]}<br>alpha3=%{location}",
         "hovertext": [
          "Guinea_Bissau"
         ],
         "legendgroup": "Guinea_Bissau",
         "locations": [
          "GNB"
         ],
         "marker": {
          "color": "#636efa",
          "size": [
           0
          ],
          "sizemode": "area",
          "sizeref": 1.4999999999606644
         },
         "name": "Guinea_Bissau",
         "showlegend": true,
         "type": "scattergeo"
        },
        {
         "customdata": [
          [
           0
          ]
         ],
         "geo": "geo",
         "hoverlabel": {
          "namelength": 0
         },
         "hovertemplate": "<b>%{hovertext}</b><br><br>Area=Anguilla<br>size=%{marker.size}<br>Deaths=%{customdata[0]}<br>alpha3=%{location}",
         "hovertext": [
          "Anguilla"
         ],
         "legendgroup": "Anguilla",
         "locations": [
          null
         ],
         "marker": {
          "color": "#EF553B",
          "size": [
           0
          ],
          "sizemode": "area",
          "sizeref": 1.4999999999606644
         },
         "name": "Anguilla",
         "showlegend": true,
         "type": "scattergeo"
        },
        {
         "customdata": [
          [
           0
          ]
         ],
         "geo": "geo",
         "hoverlabel": {
          "namelength": 0
         },
         "hovertemplate": "<b>%{hovertext}</b><br><br>Area=Libya<br>size=%{marker.size}<br>Deaths=%{customdata[0]}<br>alpha3=%{location}",
         "hovertext": [
          "Libya"
         ],
         "legendgroup": "Libya",
         "locations": [
          "LBY"
         ],
         "marker": {
          "color": "#00cc96",
          "size": [
           0
          ],
          "sizemode": "area",
          "sizeref": 1.4999999999606644
         },
         "name": "Libya",
         "showlegend": true,
         "type": "scattergeo"
        },
        {
         "customdata": [
          [
           0
          ]
         ],
         "geo": "geo",
         "hoverlabel": {
          "namelength": 0
         },
         "hovertemplate": "<b>%{hovertext}</b><br><br>Area=Timor_Leste<br>size=%{marker.size}<br>Deaths=%{customdata[0]}<br>alpha3=%{location}",
         "hovertext": [
          "Timor_Leste"
         ],
         "legendgroup": "Timor_Leste",
         "locations": [
          "TLS"
         ],
         "marker": {
          "color": "#ab63fa",
          "size": [
           0
          ],
          "sizemode": "area",
          "sizeref": 1.4999999999606644
         },
         "name": "Timor_Leste",
         "showlegend": true,
         "type": "scattergeo"
        },
        {
         "customdata": [
          [
           0
          ]
         ],
         "geo": "geo",
         "hoverlabel": {
          "namelength": 0
         },
         "hovertemplate": "<b>%{hovertext}</b><br><br>Area=Papua_New_Guinea<br>size=%{marker.size}<br>Deaths=%{customdata[0]}<br>alpha3=%{location}",
         "hovertext": [
          "Papua_New_Guinea"
         ],
         "legendgroup": "Papua_New_Guinea",
         "locations": [
          "PNG"
         ],
         "marker": {
          "color": "#FFA15A",
          "size": [
           0
          ],
          "sizemode": "area",
          "sizeref": 1.4999999999606644
         },
         "name": "Papua_New_Guinea",
         "showlegend": true,
         "type": "scattergeo"
        },
        {
         "customdata": [
          [
           0
          ]
         ],
         "geo": "geo",
         "hoverlabel": {
          "namelength": 0
         },
         "hovertemplate": "<b>%{hovertext}</b><br><br>Area=Saint_Vincent_and_the_Grenadines<br>size=%{marker.size}<br>Deaths=%{customdata[0]}<br>alpha3=%{location}",
         "hovertext": [
          "Saint_Vincent_and_the_Grenadines"
         ],
         "legendgroup": "Saint_Vincent_and_the_Grenadines",
         "locations": [
          "VCT"
         ],
         "marker": {
          "color": "#19d3f3",
          "size": [
           0
          ],
          "sizemode": "area",
          "sizeref": 1.4999999999606644
         },
         "name": "Saint_Vincent_and_the_Grenadines",
         "showlegend": true,
         "type": "scattergeo"
        }
       ],
       "layout": {
        "geo": {
         "center": {},
         "domain": {
          "x": [
           0,
           1
          ],
          "y": [
           0,
           1
          ]
         },
         "projection": {
          "type": "natural earth"
         }
        },
        "legend": {
         "itemsizing": "constant",
         "title": {
          "text": "Area"
         },
         "tracegroupgap": 0
        },
        "margin": {
         "t": 60
        },
        "template": {
         "data": {
          "bar": [
           {
            "error_x": {
             "color": "#2a3f5f"
            },
            "error_y": {
             "color": "#2a3f5f"
            },
            "marker": {
             "line": {
              "color": "#E5ECF6",
              "width": 0.5
             }
            },
            "type": "bar"
           }
          ],
          "barpolar": [
           {
            "marker": {
             "line": {
              "color": "#E5ECF6",
              "width": 0.5
             }
            },
            "type": "barpolar"
           }
          ],
          "carpet": [
           {
            "aaxis": {
             "endlinecolor": "#2a3f5f",
             "gridcolor": "white",
             "linecolor": "white",
             "minorgridcolor": "white",
             "startlinecolor": "#2a3f5f"
            },
            "baxis": {
             "endlinecolor": "#2a3f5f",
             "gridcolor": "white",
             "linecolor": "white",
             "minorgridcolor": "white",
             "startlinecolor": "#2a3f5f"
            },
            "type": "carpet"
           }
          ],
          "choropleth": [
           {
            "colorbar": {
             "outlinewidth": 0,
             "ticks": ""
            },
            "type": "choropleth"
           }
          ],
          "contour": [
           {
            "colorbar": {
             "outlinewidth": 0,
             "ticks": ""
            },
            "colorscale": [
             [
              0,
              "#0d0887"
             ],
             [
              0.1111111111111111,
              "#46039f"
             ],
             [
              0.2222222222222222,
              "#7201a8"
             ],
             [
              0.3333333333333333,
              "#9c179e"
             ],
             [
              0.4444444444444444,
              "#bd3786"
             ],
             [
              0.5555555555555556,
              "#d8576b"
             ],
             [
              0.6666666666666666,
              "#ed7953"
             ],
             [
              0.7777777777777778,
              "#fb9f3a"
             ],
             [
              0.8888888888888888,
              "#fdca26"
             ],
             [
              1,
              "#f0f921"
             ]
            ],
            "type": "contour"
           }
          ],
          "contourcarpet": [
           {
            "colorbar": {
             "outlinewidth": 0,
             "ticks": ""
            },
            "type": "contourcarpet"
           }
          ],
          "heatmap": [
           {
            "colorbar": {
             "outlinewidth": 0,
             "ticks": ""
            },
            "colorscale": [
             [
              0,
              "#0d0887"
             ],
             [
              0.1111111111111111,
              "#46039f"
             ],
             [
              0.2222222222222222,
              "#7201a8"
             ],
             [
              0.3333333333333333,
              "#9c179e"
             ],
             [
              0.4444444444444444,
              "#bd3786"
             ],
             [
              0.5555555555555556,
              "#d8576b"
             ],
             [
              0.6666666666666666,
              "#ed7953"
             ],
             [
              0.7777777777777778,
              "#fb9f3a"
             ],
             [
              0.8888888888888888,
              "#fdca26"
             ],
             [
              1,
              "#f0f921"
             ]
            ],
            "type": "heatmap"
           }
          ],
          "heatmapgl": [
           {
            "colorbar": {
             "outlinewidth": 0,
             "ticks": ""
            },
            "colorscale": [
             [
              0,
              "#0d0887"
             ],
             [
              0.1111111111111111,
              "#46039f"
             ],
             [
              0.2222222222222222,
              "#7201a8"
             ],
             [
              0.3333333333333333,
              "#9c179e"
             ],
             [
              0.4444444444444444,
              "#bd3786"
             ],
             [
              0.5555555555555556,
              "#d8576b"
             ],
             [
              0.6666666666666666,
              "#ed7953"
             ],
             [
              0.7777777777777778,
              "#fb9f3a"
             ],
             [
              0.8888888888888888,
              "#fdca26"
             ],
             [
              1,
              "#f0f921"
             ]
            ],
            "type": "heatmapgl"
           }
          ],
          "histogram": [
           {
            "marker": {
             "colorbar": {
              "outlinewidth": 0,
              "ticks": ""
             }
            },
            "type": "histogram"
           }
          ],
          "histogram2d": [
           {
            "colorbar": {
             "outlinewidth": 0,
             "ticks": ""
            },
            "colorscale": [
             [
              0,
              "#0d0887"
             ],
             [
              0.1111111111111111,
              "#46039f"
             ],
             [
              0.2222222222222222,
              "#7201a8"
             ],
             [
              0.3333333333333333,
              "#9c179e"
             ],
             [
              0.4444444444444444,
              "#bd3786"
             ],
             [
              0.5555555555555556,
              "#d8576b"
             ],
             [
              0.6666666666666666,
              "#ed7953"
             ],
             [
              0.7777777777777778,
              "#fb9f3a"
             ],
             [
              0.8888888888888888,
              "#fdca26"
             ],
             [
              1,
              "#f0f921"
             ]
            ],
            "type": "histogram2d"
           }
          ],
          "histogram2dcontour": [
           {
            "colorbar": {
             "outlinewidth": 0,
             "ticks": ""
            },
            "colorscale": [
             [
              0,
              "#0d0887"
             ],
             [
              0.1111111111111111,
              "#46039f"
             ],
             [
              0.2222222222222222,
              "#7201a8"
             ],
             [
              0.3333333333333333,
              "#9c179e"
             ],
             [
              0.4444444444444444,
              "#bd3786"
             ],
             [
              0.5555555555555556,
              "#d8576b"
             ],
             [
              0.6666666666666666,
              "#ed7953"
             ],
             [
              0.7777777777777778,
              "#fb9f3a"
             ],
             [
              0.8888888888888888,
              "#fdca26"
             ],
             [
              1,
              "#f0f921"
             ]
            ],
            "type": "histogram2dcontour"
           }
          ],
          "mesh3d": [
           {
            "colorbar": {
             "outlinewidth": 0,
             "ticks": ""
            },
            "type": "mesh3d"
           }
          ],
          "parcoords": [
           {
            "line": {
             "colorbar": {
              "outlinewidth": 0,
              "ticks": ""
             }
            },
            "type": "parcoords"
           }
          ],
          "pie": [
           {
            "automargin": true,
            "type": "pie"
           }
          ],
          "scatter": [
           {
            "marker": {
             "colorbar": {
              "outlinewidth": 0,
              "ticks": ""
             }
            },
            "type": "scatter"
           }
          ],
          "scatter3d": [
           {
            "line": {
             "colorbar": {
              "outlinewidth": 0,
              "ticks": ""
             }
            },
            "marker": {
             "colorbar": {
              "outlinewidth": 0,
              "ticks": ""
             }
            },
            "type": "scatter3d"
           }
          ],
          "scattercarpet": [
           {
            "marker": {
             "colorbar": {
              "outlinewidth": 0,
              "ticks": ""
             }
            },
            "type": "scattercarpet"
           }
          ],
          "scattergeo": [
           {
            "marker": {
             "colorbar": {
              "outlinewidth": 0,
              "ticks": ""
             }
            },
            "type": "scattergeo"
           }
          ],
          "scattergl": [
           {
            "marker": {
             "colorbar": {
              "outlinewidth": 0,
              "ticks": ""
             }
            },
            "type": "scattergl"
           }
          ],
          "scattermapbox": [
           {
            "marker": {
             "colorbar": {
              "outlinewidth": 0,
              "ticks": ""
             }
            },
            "type": "scattermapbox"
           }
          ],
          "scatterpolar": [
           {
            "marker": {
             "colorbar": {
              "outlinewidth": 0,
              "ticks": ""
             }
            },
            "type": "scatterpolar"
           }
          ],
          "scatterpolargl": [
           {
            "marker": {
             "colorbar": {
              "outlinewidth": 0,
              "ticks": ""
             }
            },
            "type": "scatterpolargl"
           }
          ],
          "scatterternary": [
           {
            "marker": {
             "colorbar": {
              "outlinewidth": 0,
              "ticks": ""
             }
            },
            "type": "scatterternary"
           }
          ],
          "surface": [
           {
            "colorbar": {
             "outlinewidth": 0,
             "ticks": ""
            },
            "colorscale": [
             [
              0,
              "#0d0887"
             ],
             [
              0.1111111111111111,
              "#46039f"
             ],
             [
              0.2222222222222222,
              "#7201a8"
             ],
             [
              0.3333333333333333,
              "#9c179e"
             ],
             [
              0.4444444444444444,
              "#bd3786"
             ],
             [
              0.5555555555555556,
              "#d8576b"
             ],
             [
              0.6666666666666666,
              "#ed7953"
             ],
             [
              0.7777777777777778,
              "#fb9f3a"
             ],
             [
              0.8888888888888888,
              "#fdca26"
             ],
             [
              1,
              "#f0f921"
             ]
            ],
            "type": "surface"
           }
          ],
          "table": [
           {
            "cells": {
             "fill": {
              "color": "#EBF0F8"
             },
             "line": {
              "color": "white"
             }
            },
            "header": {
             "fill": {
              "color": "#C8D4E3"
             },
             "line": {
              "color": "white"
             }
            },
            "type": "table"
           }
          ]
         },
         "layout": {
          "annotationdefaults": {
           "arrowcolor": "#2a3f5f",
           "arrowhead": 0,
           "arrowwidth": 1
          },
          "coloraxis": {
           "colorbar": {
            "outlinewidth": 0,
            "ticks": ""
           }
          },
          "colorscale": {
           "diverging": [
            [
             0,
             "#8e0152"
            ],
            [
             0.1,
             "#c51b7d"
            ],
            [
             0.2,
             "#de77ae"
            ],
            [
             0.3,
             "#f1b6da"
            ],
            [
             0.4,
             "#fde0ef"
            ],
            [
             0.5,
             "#f7f7f7"
            ],
            [
             0.6,
             "#e6f5d0"
            ],
            [
             0.7,
             "#b8e186"
            ],
            [
             0.8,
             "#7fbc41"
            ],
            [
             0.9,
             "#4d9221"
            ],
            [
             1,
             "#276419"
            ]
           ],
           "sequential": [
            [
             0,
             "#0d0887"
            ],
            [
             0.1111111111111111,
             "#46039f"
            ],
            [
             0.2222222222222222,
             "#7201a8"
            ],
            [
             0.3333333333333333,
             "#9c179e"
            ],
            [
             0.4444444444444444,
             "#bd3786"
            ],
            [
             0.5555555555555556,
             "#d8576b"
            ],
            [
             0.6666666666666666,
             "#ed7953"
            ],
            [
             0.7777777777777778,
             "#fb9f3a"
            ],
            [
             0.8888888888888888,
             "#fdca26"
            ],
            [
             1,
             "#f0f921"
            ]
           ],
           "sequentialminus": [
            [
             0,
             "#0d0887"
            ],
            [
             0.1111111111111111,
             "#46039f"
            ],
            [
             0.2222222222222222,
             "#7201a8"
            ],
            [
             0.3333333333333333,
             "#9c179e"
            ],
            [
             0.4444444444444444,
             "#bd3786"
            ],
            [
             0.5555555555555556,
             "#d8576b"
            ],
            [
             0.6666666666666666,
             "#ed7953"
            ],
            [
             0.7777777777777778,
             "#fb9f3a"
            ],
            [
             0.8888888888888888,
             "#fdca26"
            ],
            [
             1,
             "#f0f921"
            ]
           ]
          },
          "colorway": [
           "#636efa",
           "#EF553B",
           "#00cc96",
           "#ab63fa",
           "#FFA15A",
           "#19d3f3",
           "#FF6692",
           "#B6E880",
           "#FF97FF",
           "#FECB52"
          ],
          "font": {
           "color": "#2a3f5f"
          },
          "geo": {
           "bgcolor": "white",
           "lakecolor": "white",
           "landcolor": "#E5ECF6",
           "showlakes": true,
           "showland": true,
           "subunitcolor": "white"
          },
          "hoverlabel": {
           "align": "left"
          },
          "hovermode": "closest",
          "mapbox": {
           "style": "light"
          },
          "paper_bgcolor": "white",
          "plot_bgcolor": "#E5ECF6",
          "polar": {
           "angularaxis": {
            "gridcolor": "white",
            "linecolor": "white",
            "ticks": ""
           },
           "bgcolor": "#E5ECF6",
           "radialaxis": {
            "gridcolor": "white",
            "linecolor": "white",
            "ticks": ""
           }
          },
          "scene": {
           "xaxis": {
            "backgroundcolor": "#E5ECF6",
            "gridcolor": "white",
            "gridwidth": 2,
            "linecolor": "white",
            "showbackground": true,
            "ticks": "",
            "zerolinecolor": "white"
           },
           "yaxis": {
            "backgroundcolor": "#E5ECF6",
            "gridcolor": "white",
            "gridwidth": 2,
            "linecolor": "white",
            "showbackground": true,
            "ticks": "",
            "zerolinecolor": "white"
           },
           "zaxis": {
            "backgroundcolor": "#E5ECF6",
            "gridcolor": "white",
            "gridwidth": 2,
            "linecolor": "white",
            "showbackground": true,
            "ticks": "",
            "zerolinecolor": "white"
           }
          },
          "shapedefaults": {
           "line": {
            "color": "#2a3f5f"
           }
          },
          "ternary": {
           "aaxis": {
            "gridcolor": "white",
            "linecolor": "white",
            "ticks": ""
           },
           "baxis": {
            "gridcolor": "white",
            "linecolor": "white",
            "ticks": ""
           },
           "bgcolor": "#E5ECF6",
           "caxis": {
            "gridcolor": "white",
            "linecolor": "white",
            "ticks": ""
           }
          },
          "title": {
           "x": 0.05
          },
          "xaxis": {
           "automargin": true,
           "gridcolor": "white",
           "linecolor": "white",
           "ticks": "",
           "title": {
            "standoff": 15
           },
           "zerolinecolor": "white",
           "zerolinewidth": 2
          },
          "yaxis": {
           "automargin": true,
           "gridcolor": "white",
           "linecolor": "white",
           "ticks": "",
           "title": {
            "standoff": 15
           },
           "zerolinecolor": "white",
           "zerolinewidth": 2
          }
         }
        }
       }
      },
      "text/html": [
       "<div>\n",
       "        \n",
       "        \n",
       "            <div id=\"14d1e55c-41cc-4c0c-8fa1-9585a1ccbe37\" class=\"plotly-graph-div\" style=\"height:525px; width:100%;\"></div>\n",
       "            <script type=\"text/javascript\">\n",
       "                require([\"plotly\"], function(Plotly) {\n",
       "                    window.PLOTLYENV=window.PLOTLYENV || {};\n",
       "                    \n",
       "                if (document.getElementById(\"14d1e55c-41cc-4c0c-8fa1-9585a1ccbe37\")) {\n",
       "                    Plotly.newPlot(\n",
       "                        '14d1e55c-41cc-4c0c-8fa1-9585a1ccbe37',\n",
       "                        [{\"customdata\": [[2191]], \"geo\": \"geo\", \"hoverlabel\": {\"namelength\": 0}, \"hovertemplate\": \"<b>%{hovertext}</b><br><br>Area=United_States_of_America<br>size=%{marker.size}<br>Deaths=%{customdata[0]}<br>alpha3=%{location}\", \"hovertext\": [\"United_States_of_America\"], \"legendgroup\": \"United_States_of_America\", \"locations\": [\"USA\"], \"marker\": {\"color\": \"#636efa\", \"size\": [595.0051579964899], \"sizemode\": \"area\", \"sizeref\": 1.4999999999606644}, \"name\": \"United_States_of_America\", \"showlegend\": true, \"type\": \"scattergeo\"}, {\"customdata\": [[10023]], \"geo\": \"geo\", \"hoverlabel\": {\"namelength\": 0}, \"hovertemplate\": \"<b>%{hovertext}</b><br><br>Area=Italy<br>size=%{marker.size}<br>Deaths=%{customdata[0]}<br>alpha3=%{location}\", \"hovertext\": [\"Italy\"], \"legendgroup\": \"Italy\", \"locations\": [\"ITA\"], \"marker\": {\"color\": \"#EF553B\", \"size\": [599.9999999842657], \"sizemode\": \"area\", \"sizeref\": 1.4999999999606644}, \"name\": \"Italy\", \"showlegend\": true, \"type\": \"scattergeo\"}, {\"customdata\": [[3306]], \"geo\": \"geo\", \"hoverlabel\": {\"namelength\": 0}, \"hovertemplate\": \"<b>%{hovertext}</b><br><br>Area=China<br>size=%{marker.size}<br>Deaths=%{customdata[0]}<br>alpha3=%{location}\", \"hovertext\": [\"China\"], \"legendgroup\": \"China\", \"locations\": [\"CHN\"], \"marker\": {\"color\": \"#00cc96\", \"size\": [599.691236757118], \"sizemode\": \"area\", \"sizeref\": 1.4999999999606644}, \"name\": \"China\", \"showlegend\": true, \"type\": \"scattergeo\"}, {\"customdata\": [[5690]], \"geo\": \"geo\", \"hoverlabel\": {\"namelength\": 0}, \"hovertemplate\": \"<b>%{hovertext}</b><br><br>Area=Spain<br>size=%{marker.size}<br>Deaths=%{customdata[0]}<br>alpha3=%{location}\", \"hovertext\": [\"Spain\"], \"legendgroup\": \"Spain\", \"locations\": [\"ESP\"], \"marker\": {\"color\": \"#ab63fa\", \"size\": [599.9992032135268], \"sizemode\": \"area\", \"sizeref\": 1.4999999999606644}, \"name\": \"Spain\", \"showlegend\": true, \"type\": \"scattergeo\"}, {\"customdata\": [[389]], \"geo\": \"geo\", \"hoverlabel\": {\"namelength\": 0}, \"hovertemplate\": \"<b>%{hovertext}</b><br><br>Area=Germany<br>size=%{marker.size}<br>Deaths=%{customdata[0]}<br>alpha3=%{location}\", \"hovertext\": [\"Germany\"], \"legendgroup\": \"Germany\", \"locations\": [\"DEU\"], \"marker\": {\"color\": \"#FFA15A\", \"size\": [270.74102432795416], \"sizemode\": \"area\", \"sizeref\": 1.4999999999606644}, \"name\": \"Germany\", \"showlegend\": true, \"type\": \"scattergeo\"}, {\"customdata\": [[2314]], \"geo\": \"geo\", \"hoverlabel\": {\"namelength\": 0}, \"hovertemplate\": \"<b>%{hovertext}</b><br><br>Area=France<br>size=%{marker.size}<br>Deaths=%{customdata[0]}<br>alpha3=%{location}\", \"hovertext\": [\"France\"], \"legendgroup\": \"France\", \"locations\": [\"FRA\"], \"marker\": {\"color\": \"#19d3f3\", \"size\": [596.3233271059097], \"sizemode\": \"area\", \"sizeref\": 1.4999999999606644}, \"name\": \"France\", \"showlegend\": true, \"type\": \"scattergeo\"}, {\"customdata\": [[2517]], \"geo\": \"geo\", \"hoverlabel\": {\"namelength\": 0}, \"hovertemplate\": \"<b>%{hovertext}</b><br><br>Area=Iran<br>size=%{marker.size}<br>Deaths=%{customdata[0]}<br>alpha3=%{location}\", \"hovertext\": [\"Iran\"], \"legendgroup\": \"Iran\", \"locations\": [\"IRN\"], \"marker\": {\"color\": \"#FF6692\", \"size\": [597.7839453806151], \"sizemode\": \"area\", \"sizeref\": 1.4999999999606644}, \"name\": \"Iran\", \"showlegend\": true, \"type\": \"scattergeo\"}, {\"customdata\": [[1019]], \"geo\": \"geo\", \"hoverlabel\": {\"namelength\": 0}, \"hovertemplate\": \"<b>%{hovertext}</b><br><br>Area=United_Kingdom<br>size=%{marker.size}<br>Deaths=%{customdata[0]}<br>alpha3=%{location}\", \"hovertext\": [\"United_Kingdom\"], \"legendgroup\": \"United_Kingdom\", \"locations\": [\"GBR\"], \"marker\": {\"color\": \"#B6E880\", \"size\": [512.8864593363334], \"sizemode\": \"area\", \"sizeref\": 1.4999999999606644}, \"name\": \"United_Kingdom\", \"showlegend\": true, \"type\": \"scattergeo\"}, {\"customdata\": [[235]], \"geo\": \"geo\", \"hoverlabel\": {\"namelength\": 0}, \"hovertemplate\": \"<b>%{hovertext}</b><br><br>Area=Switzerland<br>size=%{marker.size}<br>Deaths=%{customdata[0]}<br>alpha3=%{location}\", \"hovertext\": [\"Switzerland\"], \"legendgroup\": \"Switzerland\", \"locations\": [\"CHE\"], \"marker\": {\"color\": \"#FF97FF\", \"size\": [171.3495890889315], \"sizemode\": \"area\", \"sizeref\": 1.4999999999606644}, \"name\": \"Switzerland\", \"showlegend\": true, \"type\": \"scattergeo\"}, {\"customdata\": [[639]], \"geo\": \"geo\", \"hoverlabel\": {\"namelength\": 0}, \"hovertemplate\": \"<b>%{hovertext}</b><br><br>Area=Netherlands<br>size=%{marker.size}<br>Deaths=%{customdata[0]}<br>alpha3=%{location}\", \"hovertext\": [\"Netherlands\"], \"legendgroup\": \"Netherlands\", \"locations\": [\"NLD\"], \"marker\": {\"color\": \"#FECB52\", \"size\": [398.0024226834185], \"sizemode\": \"area\", \"sizeref\": 1.4999999999606644}, \"name\": \"Netherlands\", \"showlegend\": true, \"type\": \"scattergeo\"}, {\"customdata\": [[152]], \"geo\": \"geo\", \"hoverlabel\": {\"namelength\": 0}, \"hovertemplate\": \"<b>%{hovertext}</b><br><br>Area=South_Korea<br>size=%{marker.size}<br>Deaths=%{customdata[0]}<br>alpha3=%{location}\", \"hovertext\": [\"South_Korea\"], \"legendgroup\": \"South_Korea\", \"locations\": [\"KOR\"], \"marker\": {\"color\": \"#636efa\", \"size\": [112.64772352097125], \"sizemode\": \"area\", \"sizeref\": 1.4999999999606644}, \"name\": \"South_Korea\", \"showlegend\": true, \"type\": \"scattergeo\"}, {\"customdata\": [[353]], \"geo\": \"geo\", \"hoverlabel\": {\"namelength\": 0}, \"hovertemplate\": \"<b>%{hovertext}</b><br><br>Area=Belgium<br>size=%{marker.size}<br>Deaths=%{customdata[0]}<br>alpha3=%{location}\", \"hovertext\": [\"Belgium\"], \"legendgroup\": \"Belgium\", \"locations\": [\"BEL\"], \"marker\": {\"color\": \"#EF553B\", \"size\": [248.80801742168762], \"sizemode\": \"area\", \"sizeref\": 1.4999999999606644}, \"name\": \"Belgium\", \"showlegend\": true, \"type\": \"scattergeo\"}, {\"customdata\": [[68]], \"geo\": \"geo\", \"hoverlabel\": {\"namelength\": 0}, \"hovertemplate\": \"<b>%{hovertext}</b><br><br>Area=Austria<br>size=%{marker.size}<br>Deaths=%{customdata[0]}<br>alpha3=%{location}\", \"hovertext\": [\"Austria\"], \"legendgroup\": \"Austria\", \"locations\": [\"AUT\"], \"marker\": {\"color\": \"#00cc96\", \"size\": [50.87752892922119], \"sizemode\": \"area\", \"sizeref\": 1.4999999999606644}, \"name\": \"Austria\", \"showlegend\": true, \"type\": \"scattergeo\"}, {\"customdata\": [[108]], \"geo\": \"geo\", \"hoverlabel\": {\"namelength\": 0}, \"hovertemplate\": \"<b>%{hovertext}</b><br><br>Area=Turkey<br>size=%{marker.size}<br>Deaths=%{customdata[0]}<br>alpha3=%{location}\", \"hovertext\": [\"Turkey\"], \"legendgroup\": \"Turkey\", \"locations\": [\"TUR\"], \"marker\": {\"color\": \"#ab63fa\", \"size\": [80.51148595854521], \"sizemode\": \"area\", \"sizeref\": 1.4999999999606644}, \"name\": \"Turkey\", \"showlegend\": true, \"type\": \"scattergeo\"}, {\"customdata\": [[60]], \"geo\": \"geo\", \"hoverlabel\": {\"namelength\": 0}, \"hovertemplate\": \"<b>%{hovertext}</b><br><br>Area=Canada<br>size=%{marker.size}<br>Deaths=%{customdata[0]}<br>alpha3=%{location}\", \"hovertext\": [\"Canada\"], \"legendgroup\": \"Canada\", \"locations\": [\"CAN\"], \"marker\": {\"color\": \"#FFA15A\", \"size\": [44.91581441249946], \"sizemode\": \"area\", \"sizeref\": 1.4999999999606644}, \"name\": \"Canada\", \"showlegend\": true, \"type\": \"scattergeo\"}, {\"customdata\": [[100]], \"geo\": \"geo\", \"hoverlabel\": {\"namelength\": 0}, \"hovertemplate\": \"<b>%{hovertext}</b><br><br>Area=Portugal<br>size=%{marker.size}<br>Deaths=%{customdata[0]}<br>alpha3=%{location}\", \"hovertext\": [\"Portugal\"], \"legendgroup\": \"Portugal\", \"locations\": [\"PRT\"], \"marker\": {\"color\": \"#19d3f3\", \"size\": [74.61180106295771], \"sizemode\": \"area\", \"sizeref\": 1.4999999999606644}, \"name\": \"Portugal\", \"showlegend\": true, \"type\": \"scattergeo\"}, {\"customdata\": [[114]], \"geo\": \"geo\", \"hoverlabel\": {\"namelength\": 0}, \"hovertemplate\": \"<b>%{hovertext}</b><br><br>Area=Brazil<br>size=%{marker.size}<br>Deaths=%{customdata[0]}<br>alpha3=%{location}\", \"hovertext\": [\"Brazil\"], \"legendgroup\": \"Brazil\", \"locations\": [\"BRA\"], \"marker\": {\"color\": \"#FF6692\", \"size\": [84.92593427339007], \"sizemode\": \"area\", \"sizeref\": 1.4999999999606644}, \"name\": \"Brazil\", \"showlegend\": true, \"type\": \"scattergeo\"}, {\"customdata\": [[20]], \"geo\": \"geo\", \"hoverlabel\": {\"namelength\": 0}, \"hovertemplate\": \"<b>%{hovertext}</b><br><br>Area=Norway<br>size=%{marker.size}<br>Deaths=%{customdata[0]}<br>alpha3=%{location}\", \"hovertext\": [\"Norway\"], \"legendgroup\": \"Norway\", \"locations\": [\"NOR\"], \"marker\": {\"color\": \"#B6E880\", \"size\": [14.996875781052411], \"sizemode\": \"area\", \"sizeref\": 1.4999999999606644}, \"name\": \"Norway\", \"showlegend\": true, \"type\": \"scattergeo\"}, {\"customdata\": [[14]], \"geo\": \"geo\", \"hoverlabel\": {\"namelength\": 0}, \"hovertemplate\": \"<b>%{hovertext}</b><br><br>Area=Australia<br>size=%{marker.size}<br>Deaths=%{customdata[0]}<br>alpha3=%{location}\", \"hovertext\": [\"Australia\"], \"legendgroup\": \"Australia\", \"locations\": [\"AUS\"], \"marker\": {\"color\": \"#FF97FF\", \"size\": [10.498928256288414], \"sizemode\": \"area\", \"sizeref\": 1.4999999999606644}, \"name\": \"Australia\", \"showlegend\": true, \"type\": \"scattergeo\"}, {\"customdata\": [[12]], \"geo\": \"geo\", \"hoverlabel\": {\"namelength\": 0}, \"hovertemplate\": \"<b>%{hovertext}</b><br><br>Area=Israel<br>size=%{marker.size}<br>Deaths=%{customdata[0]}<br>alpha3=%{location}\", \"hovertext\": [\"Israel\"], \"legendgroup\": \"Israel\", \"locations\": [\"ISR\"], \"marker\": {\"color\": \"#FECB52\", \"size\": [8.999325060744466], \"sizemode\": \"area\", \"sizeref\": 1.4999999999606644}, \"name\": \"Israel\", \"showlegend\": true, \"type\": \"scattergeo\"}, {\"customdata\": [[102]], \"geo\": \"geo\", \"hoverlabel\": {\"namelength\": 0}, \"hovertemplate\": \"<b>%{hovertext}</b><br><br>Area=Sweden<br>size=%{marker.size}<br>Deaths=%{customdata[0]}<br>alpha3=%{location}\", \"hovertext\": [\"Sweden\"], \"legendgroup\": \"Sweden\", \"locations\": [\"SWE\"], \"marker\": {\"color\": \"#636efa\", \"size\": [76.08814351463238], \"sizemode\": \"area\", \"sizeref\": 1.4999999999606644}, \"name\": \"Sweden\", \"showlegend\": true, \"type\": \"scattergeo\"}, {\"customdata\": [[11]], \"geo\": \"geo\", \"hoverlabel\": {\"namelength\": 0}, \"hovertemplate\": \"<b>%{hovertext}</b><br><br>Area=Czech_Republic<br>size=%{marker.size}<br>Deaths=%{customdata[0]}<br>alpha3=%{location}\", \"hovertext\": [\"Czech_Republic\"], \"legendgroup\": \"Czech_Republic\", \"locations\": [\"CZE\"], \"marker\": {\"color\": \"#EF553B\", \"size\": [8.249480117441083], \"sizemode\": \"area\", \"sizeref\": 1.4999999999606644}, \"name\": \"Czech_Republic\", \"showlegend\": true, \"type\": \"scattergeo\"}, {\"customdata\": [[36]], \"geo\": \"geo\", \"hoverlabel\": {\"namelength\": 0}, \"hovertemplate\": \"<b>%{hovertext}</b><br><br>Area=Ireland<br>size=%{marker.size}<br>Deaths=%{customdata[0]}<br>alpha3=%{location}\", \"hovertext\": [\"Ireland\"], \"legendgroup\": \"Ireland\", \"locations\": [\"IRL\"], \"marker\": {\"color\": \"#00cc96\", \"size\": [26.981789750160146], \"sizemode\": \"area\", \"sizeref\": 1.4999999999606644}, \"name\": \"Ireland\", \"showlegend\": true, \"type\": \"scattergeo\"}, {\"customdata\": [[27]], \"geo\": \"geo\", \"hoverlabel\": {\"namelength\": 0}, \"hovertemplate\": \"<b>%{hovertext}</b><br><br>Area=Malaysia<br>size=%{marker.size}<br>Deaths=%{customdata[0]}<br>alpha3=%{location}\", \"hovertext\": [\"Malaysia\"], \"legendgroup\": \"Malaysia\", \"locations\": [\"MYS\"], \"marker\": {\"color\": \"#ab63fa\", \"size\": [20.242314829661744], \"sizemode\": \"area\", \"sizeref\": 1.4999999999606644}, \"name\": \"Malaysia\", \"showlegend\": true, \"type\": \"scattergeo\"}, {\"customdata\": [[65]], \"geo\": \"geo\", \"hoverlabel\": {\"namelength\": 0}, \"hovertemplate\": \"<b>%{hovertext}</b><br><br>Area=Denmark<br>size=%{marker.size}<br>Deaths=%{customdata[0]}<br>alpha3=%{location}\", \"hovertext\": [\"Denmark\"], \"legendgroup\": \"Denmark\", \"locations\": [\"DNK\"], \"marker\": {\"color\": \"#FFA15A\", \"size\": [48.643007128547225], \"sizemode\": \"area\", \"sizeref\": 1.4999999999606644}, \"name\": \"Denmark\", \"showlegend\": true, \"type\": \"scattergeo\"}, {\"customdata\": [[6]], \"geo\": \"geo\", \"hoverlabel\": {\"namelength\": 0}, \"hovertemplate\": \"<b>%{hovertext}</b><br><br>Area=Chile<br>size=%{marker.size}<br>Deaths=%{customdata[0]}<br>alpha3=%{location}\", \"hovertext\": [\"Chile\"], \"legendgroup\": \"Chile\", \"locations\": [\"CHL\"], \"marker\": {\"color\": \"#19d3f3\", \"size\": [4.499915626898394], \"sizemode\": \"area\", \"sizeref\": 1.4999999999606644}, \"name\": \"Chile\", \"showlegend\": true, \"type\": \"scattergeo\"}, {\"customdata\": [[48]], \"geo\": \"geo\", \"hoverlabel\": {\"namelength\": 0}, \"hovertemplate\": \"<b>%{hovertext}</b><br><br>Area=Ecuador<br>size=%{marker.size}<br>Deaths=%{customdata[0]}<br>alpha3=%{location}\", \"hovertext\": [\"Ecuador\"], \"legendgroup\": \"Ecuador\", \"locations\": [\"ECU\"], \"marker\": {\"color\": \"#FF6692\", \"size\": [35.956862117486104], \"sizemode\": \"area\", \"sizeref\": 1.4999999999606644}, \"name\": \"Ecuador\", \"showlegend\": true, \"type\": \"scattergeo\"}, {\"customdata\": [[18]], \"geo\": \"geo\", \"hoverlabel\": {\"namelength\": 0}, \"hovertemplate\": \"<b>%{hovertext}</b><br><br>Area=Luxembourg<br>size=%{marker.size}<br>Deaths=%{customdata[0]}<br>alpha3=%{location}\", \"hovertext\": [\"Luxembourg\"], \"legendgroup\": \"Luxembourg\", \"locations\": [\"LUX\"], \"marker\": {\"color\": \"#B6E880\", \"size\": [13.4977223362258], \"sizemode\": \"area\", \"sizeref\": 1.4999999999606644}, \"name\": \"Luxembourg\", \"showlegend\": true, \"type\": \"scattergeo\"}, {\"customdata\": [[52]], \"geo\": \"geo\", \"hoverlabel\": {\"namelength\": 0}, \"hovertemplate\": \"<b>%{hovertext}</b><br><br>Area=Japan<br>size=%{marker.size}<br>Deaths=%{customdata[0]}<br>alpha3=%{location}\", \"hovertext\": [\"Japan\"], \"legendgroup\": \"Japan\", \"locations\": [\"JPN\"], \"marker\": {\"color\": \"#FF97FF\", \"size\": [38.94516766478251], \"sizemode\": \"area\", \"sizeref\": 1.4999999999606644}, \"name\": \"Japan\", \"showlegend\": true, \"type\": \"scattergeo\"}, {\"customdata\": [[18]], \"geo\": \"geo\", \"hoverlabel\": {\"namelength\": 0}, \"hovertemplate\": \"<b>%{hovertext}</b><br><br>Area=Poland<br>size=%{marker.size}<br>Deaths=%{customdata[0]}<br>alpha3=%{location}\", \"hovertext\": [\"Poland\"], \"legendgroup\": \"Poland\", \"locations\": [\"POL\"], \"marker\": {\"color\": \"#FECB52\", \"size\": [13.4977223362258], \"sizemode\": \"area\", \"sizeref\": 1.4999999999606644}, \"name\": \"Poland\", \"showlegend\": true, \"type\": \"scattergeo\"}, {\"customdata\": [[29]], \"geo\": \"geo\", \"hoverlabel\": {\"namelength\": 0}, \"hovertemplate\": \"<b>%{hovertext}</b><br><br>Area=Romania<br>size=%{marker.size}<br>Deaths=%{customdata[0]}<br>alpha3=%{location}\", \"hovertext\": [\"Romania\"], \"legendgroup\": \"Romania\", \"locations\": [\"ROU\"], \"marker\": {\"color\": \"#636efa\", \"size\": [21.740478051817696], \"sizemode\": \"area\", \"sizeref\": 1.4999999999606644}, \"name\": \"Romania\", \"showlegend\": true, \"type\": \"scattergeo\"}, {\"customdata\": [[11]], \"geo\": \"geo\", \"hoverlabel\": {\"namelength\": 0}, \"hovertemplate\": \"<b>%{hovertext}</b><br><br>Area=Pakistan<br>size=%{marker.size}<br>Deaths=%{customdata[0]}<br>alpha3=%{location}\", \"hovertext\": [\"Pakistan\"], \"legendgroup\": \"Pakistan\", \"locations\": [\"PAK\"], \"marker\": {\"color\": \"#EF553B\", \"size\": [8.249480117441083], \"sizemode\": \"area\", \"sizeref\": 1.4999999999606644}, \"name\": \"Pakistan\", \"showlegend\": true, \"type\": \"scattergeo\"}, {\"customdata\": [[5]], \"geo\": \"geo\", \"hoverlabel\": {\"namelength\": 0}, \"hovertemplate\": \"<b>%{hovertext}</b><br><br>Area=Russia<br>size=%{marker.size}<br>Deaths=%{customdata[0]}<br>alpha3=%{location}\", \"hovertext\": [\"Russia\"], \"legendgroup\": \"Russia\", \"locations\": [\"RUS\"], \"marker\": {\"color\": \"#00cc96\", \"size\": [3.7499511726379278], \"sizemode\": \"area\", \"sizeref\": 1.4999999999606644}, \"name\": \"Russia\", \"showlegend\": true, \"type\": \"scattergeo\"}, {\"customdata\": [[6]], \"geo\": \"geo\", \"hoverlabel\": {\"namelength\": 0}, \"hovertemplate\": \"<b>%{hovertext}</b><br><br>Area=Thailand<br>size=%{marker.size}<br>Deaths=%{customdata[0]}<br>alpha3=%{location}\", \"hovertext\": [\"Thailand\"], \"legendgroup\": \"Thailand\", \"locations\": [\"THA\"], \"marker\": {\"color\": \"#ab63fa\", \"size\": [4.499915626898394], \"sizemode\": \"area\", \"sizeref\": 1.4999999999606644}, \"name\": \"Thailand\", \"showlegend\": true, \"type\": \"scattergeo\"}, {\"customdata\": [[9]], \"geo\": \"geo\", \"hoverlabel\": {\"namelength\": 0}, \"hovertemplate\": \"<b>%{hovertext}</b><br><br>Area=Finland<br>size=%{marker.size}<br>Deaths=%{customdata[0]}<br>alpha3=%{location}\", \"hovertext\": [\"Finland\"], \"legendgroup\": \"Finland\", \"locations\": [\"FIN\"], \"marker\": {\"color\": \"#FFA15A\", \"size\": [6.749715248790522], \"sizemode\": \"area\", \"sizeref\": 1.4999999999606644}, \"name\": \"Finland\", \"showlegend\": true, \"type\": \"scattergeo\"}, {\"customdata\": [[4]], \"geo\": \"geo\", \"hoverlabel\": {\"namelength\": 0}, \"hovertemplate\": \"<b>%{hovertext}</b><br><br>Area=Saudi_Arabia<br>size=%{marker.size}<br>Deaths=%{customdata[0]}<br>alpha3=%{location}\", \"hovertext\": [\"Saudi_Arabia\"], \"legendgroup\": \"Saudi_Arabia\", \"locations\": [\"SAU\"], \"marker\": {\"color\": \"#19d3f3\", \"size\": [2.9999750002499974], \"sizemode\": \"area\", \"sizeref\": 1.4999999999606644}, \"name\": \"Saudi_Arabia\", \"showlegend\": true, \"type\": \"scattergeo\"}, {\"customdata\": [[2]], \"geo\": \"geo\", \"hoverlabel\": {\"namelength\": 0}, \"hovertemplate\": \"<b>%{hovertext}</b><br><br>Area=South_Africa<br>size=%{marker.size}<br>Deaths=%{customdata[0]}<br>alpha3=%{location}\", \"hovertext\": [\"South_Africa\"], \"legendgroup\": \"South_Africa\", \"locations\": [\"ZAF\"], \"marker\": {\"color\": \"#FF6692\", \"size\": [1.4999968750078125], \"sizemode\": \"area\", \"sizeref\": 1.4999999999606644}, \"name\": \"South_Africa\", \"showlegend\": true, \"type\": \"scattergeo\"}, {\"customdata\": [[102]], \"geo\": \"geo\", \"hoverlabel\": {\"namelength\": 0}, \"hovertemplate\": \"<b>%{hovertext}</b><br><br>Area=Indonesia<br>size=%{marker.size}<br>Deaths=%{customdata[0]}<br>alpha3=%{location}\", \"hovertext\": [\"Indonesia\"], \"legendgroup\": \"Indonesia\", \"locations\": [\"IDN\"], \"marker\": {\"color\": \"#B6E880\", \"size\": [76.08814351463238], \"sizemode\": \"area\", \"sizeref\": 1.4999999999606644}, \"name\": \"Indonesia\", \"showlegend\": true, \"type\": \"scattergeo\"}, {\"customdata\": [[68]], \"geo\": \"geo\", \"hoverlabel\": {\"namelength\": 0}, \"hovertemplate\": \"<b>%{hovertext}</b><br><br>Area=Philippines<br>size=%{marker.size}<br>Deaths=%{customdata[0]}<br>alpha3=%{location}\", \"hovertext\": [\"Philippines\"], \"legendgroup\": \"Philippines\", \"locations\": [\"PHL\"], \"marker\": {\"color\": \"#FF97FF\", \"size\": [50.87752892922119], \"sizemode\": \"area\", \"sizeref\": 1.4999999999606644}, \"name\": \"Philippines\", \"showlegend\": true, \"type\": \"scattergeo\"}, {\"customdata\": [[32]], \"geo\": \"geo\", \"hoverlabel\": {\"namelength\": 0}, \"hovertemplate\": \"<b>%{hovertext}</b><br><br>Area=Greece<br>size=%{marker.size}<br>Deaths=%{customdata[0]}<br>alpha3=%{location}\", \"hovertext\": [\"Greece\"], \"legendgroup\": \"Greece\", \"locations\": [\"GRC\"], \"marker\": {\"color\": \"#FECB52\", \"size\": [23.98720818669814], \"sizemode\": \"area\", \"sizeref\": 1.4999999999606644}, \"name\": \"Greece\", \"showlegend\": true, \"type\": \"scattergeo\"}, {\"customdata\": [[25]], \"geo\": \"geo\", \"hoverlabel\": {\"namelength\": 0}, \"hovertemplate\": \"<b>%{hovertext}</b><br><br>Area=India<br>size=%{marker.size}<br>Deaths=%{customdata[0]}<br>alpha3=%{location}\", \"hovertext\": [\"India\"], \"legendgroup\": \"India\", \"locations\": [\"IND\"], \"marker\": {\"color\": \"#636efa\", \"size\": [18.743898867618753], \"sizemode\": \"area\", \"sizeref\": 1.4999999999606644}, \"name\": \"India\", \"showlegend\": true, \"type\": \"scattergeo\"}, {\"customdata\": [[2]], \"geo\": \"geo\", \"hoverlabel\": {\"namelength\": 0}, \"hovertemplate\": \"<b>%{hovertext}</b><br><br>Area=Iceland<br>size=%{marker.size}<br>Deaths=%{customdata[0]}<br>alpha3=%{location}\", \"hovertext\": [\"Iceland\"], \"legendgroup\": \"Iceland\", \"locations\": [\"ISL\"], \"marker\": {\"color\": \"#EF553B\", \"size\": [1.4999968750078125], \"sizemode\": \"area\", \"sizeref\": 1.4999999999606644}, \"name\": \"Iceland\", \"showlegend\": true, \"type\": \"scattergeo\"}, {\"customdata\": [[17]], \"geo\": \"geo\", \"hoverlabel\": {\"namelength\": 0}, \"hovertemplate\": \"<b>%{hovertext}</b><br><br>Area=Panama<br>size=%{marker.size}<br>Deaths=%{customdata[0]}<br>alpha3=%{location}\", \"hovertext\": [\"Panama\"], \"legendgroup\": \"Panama\", \"locations\": [\"PAN\"], \"marker\": {\"color\": \"#00cc96\", \"size\": [12.74808120595643], \"sizemode\": \"area\", \"sizeref\": 1.4999999999606644}, \"name\": \"Panama\", \"showlegend\": true, \"type\": \"scattergeo\"}, {\"customdata\": [[16]], \"geo\": \"geo\", \"hoverlabel\": {\"namelength\": 0}, \"hovertemplate\": \"<b>%{hovertext}</b><br><br>Area=Mexico<br>size=%{marker.size}<br>Deaths=%{customdata[0]}<br>alpha3=%{location}\", \"hovertext\": [\"Mexico\"], \"legendgroup\": \"Mexico\", \"locations\": [\"MEX\"], \"marker\": {\"color\": \"#ab63fa\", \"size\": [11.998400255958558], \"sizemode\": \"area\", \"sizeref\": 1.4999999999606644}, \"name\": \"Mexico\", \"showlegend\": true, \"type\": \"scattergeo\"}, {\"customdata\": [[3]], \"geo\": \"geo\", \"hoverlabel\": {\"namelength\": 0}, \"hovertemplate\": \"<b>%{hovertext}</b><br><br>Area=Singapore<br>size=%{marker.size}<br>Deaths=%{customdata[0]}<br>alpha3=%{location}\", \"hovertext\": [\"Singapore\"], \"legendgroup\": \"Singapore\", \"locations\": [\"SGP\"], \"marker\": {\"color\": \"#FFA15A\", \"size\": [2.249989453184326], \"sizemode\": \"area\", \"sizeref\": 1.4999999999606644}, \"name\": \"Singapore\", \"showlegend\": true, \"type\": \"scattergeo\"}, {\"customdata\": [[19]], \"geo\": \"geo\", \"hoverlabel\": {\"namelength\": 0}, \"hovertemplate\": \"<b>%{hovertext}</b><br><br>Area=Argentina<br>size=%{marker.size}<br>Deaths=%{customdata[0]}<br>alpha3=%{location}\", \"hovertext\": [\"Argentina\"], \"legendgroup\": \"Argentina\", \"locations\": [\"ARG\"], \"marker\": {\"color\": \"#19d3f3\", \"size\": [14.247321307503372], \"sizemode\": \"area\", \"sizeref\": 1.4999999999606644}, \"name\": \"Argentina\", \"showlegend\": true, \"type\": \"scattergeo\"}, {\"customdata\": [[28]], \"geo\": \"geo\", \"hoverlabel\": {\"namelength\": 0}, \"hovertemplate\": \"<b>%{hovertext}</b><br><br>Area=Dominican_Republic<br>size=%{marker.size}<br>Deaths=%{customdata[0]}<br>alpha3=%{location}\", \"hovertext\": [\"Dominican_Republic\"], \"legendgroup\": \"Dominican_Republic\", \"locations\": [\"DOM\"], \"marker\": {\"color\": \"#FF6692\", \"size\": [20.99142919966767], \"sizemode\": \"area\", \"sizeref\": 1.4999999999606644}, \"name\": \"Dominican_Republic\", \"showlegend\": true, \"type\": \"scattergeo\"}, {\"customdata\": [[7]], \"geo\": \"geo\", \"hoverlabel\": {\"namelength\": 0}, \"hovertemplate\": \"<b>%{hovertext}</b><br><br>Area=Cases_on_an_international_conveyance_Japan<br>size=%{marker.size}<br>Deaths=%{customdata[0]}<br>alpha3=%{location}\", \"hovertext\": [\"Cases_on_an_international_conveyance_Japan\"], \"legendgroup\": \"Cases_on_an_international_conveyance_Japan\", \"locations\": [null], \"marker\": {\"color\": \"#B6E880\", \"size\": [5.249866019728144], \"sizemode\": \"area\", \"sizeref\": 1.4999999999606644}, \"name\": \"Cases_on_an_international_conveyance_Japan\", \"showlegend\": true, \"type\": \"scattergeo\"}, {\"customdata\": [[9]], \"geo\": \"geo\", \"hoverlabel\": {\"namelength\": 0}, \"hovertemplate\": \"<b>%{hovertext}</b><br><br>Area=Slovenia<br>size=%{marker.size}<br>Deaths=%{customdata[0]}<br>alpha3=%{location}\", \"hovertext\": [\"Slovenia\"], \"legendgroup\": \"Slovenia\", \"locations\": [\"SVN\"], \"marker\": {\"color\": \"#FF97FF\", \"size\": [6.749715248790522], \"sizemode\": \"area\", \"sizeref\": 1.4999999999606644}, \"name\": \"Slovenia\", \"showlegend\": true, \"type\": \"scattergeo\"}, {\"customdata\": [[16]], \"geo\": \"geo\", \"hoverlabel\": {\"namelength\": 0}, \"hovertemplate\": \"<b>%{hovertext}</b><br><br>Area=Peru<br>size=%{marker.size}<br>Deaths=%{customdata[0]}<br>alpha3=%{location}\", \"hovertext\": [\"Peru\"], \"legendgroup\": \"Peru\", \"locations\": [\"PER\"], \"marker\": {\"color\": \"#FECB52\", \"size\": [11.998400255958558], \"sizemode\": \"area\", \"sizeref\": 1.4999999999606644}, \"name\": \"Peru\", \"showlegend\": true, \"type\": \"scattergeo\"}, {\"customdata\": [[10]], \"geo\": \"geo\", \"hoverlabel\": {\"namelength\": 0}, \"hovertemplate\": \"<b>%{hovertext}</b><br><br>Area=Serbia<br>size=%{marker.size}<br>Deaths=%{customdata[0]}<br>alpha3=%{location}\", \"hovertext\": [\"Serbia\"], \"legendgroup\": \"Serbia\", \"locations\": [\"SRB\"], \"marker\": {\"color\": \"#636efa\", \"size\": [7.499609399412519], \"sizemode\": \"area\", \"sizeref\": 1.4999999999606644}, \"name\": \"Serbia\", \"showlegend\": true, \"type\": \"scattergeo\"}, {\"customdata\": [[5]], \"geo\": \"geo\", \"hoverlabel\": {\"namelength\": 0}, \"hovertemplate\": \"<b>%{hovertext}</b><br><br>Area=Croatia<br>size=%{marker.size}<br>Deaths=%{customdata[0]}<br>alpha3=%{location}\", \"hovertext\": [\"Croatia\"], \"legendgroup\": \"Croatia\", \"locations\": [\"HRV\"], \"marker\": {\"color\": \"#EF553B\", \"size\": [3.7499511726379278], \"sizemode\": \"area\", \"sizeref\": 1.4999999999606644}, \"name\": \"Croatia\", \"showlegend\": true, \"type\": \"scattergeo\"}, {\"customdata\": [[1]], \"geo\": \"geo\", \"hoverlabel\": {\"namelength\": 0}, \"hovertemplate\": \"<b>%{hovertext}</b><br><br>Area=Estonia<br>size=%{marker.size}<br>Deaths=%{customdata[0]}<br>alpha3=%{location}\", \"hovertext\": [\"Estonia\"], \"legendgroup\": \"Estonia\", \"locations\": [\"EST\"], \"marker\": {\"color\": \"#00cc96\", \"size\": [0.749999609375244], \"sizemode\": \"area\", \"sizeref\": 1.4999999999606644}, \"name\": \"Estonia\", \"showlegend\": true, \"type\": \"scattergeo\"}, {\"customdata\": [[6]], \"geo\": \"geo\", \"hoverlabel\": {\"namelength\": 0}, \"hovertemplate\": \"<b>%{hovertext}</b><br><br>Area=Colombia<br>size=%{marker.size}<br>Deaths=%{customdata[0]}<br>alpha3=%{location}\", \"hovertext\": [\"Colombia\"], \"legendgroup\": \"Colombia\", \"locations\": [\"COL\"], \"marker\": {\"color\": \"#ab63fa\", \"size\": [4.499915626898394], \"sizemode\": \"area\", \"sizeref\": 1.4999999999606644}, \"name\": \"Colombia\", \"showlegend\": true, \"type\": \"scattergeo\"}, {\"customdata\": [[1]], \"geo\": \"geo\", \"hoverlabel\": {\"namelength\": 0}, \"hovertemplate\": \"<b>%{hovertext}</b><br><br>Area=Qatar<br>size=%{marker.size}<br>Deaths=%{customdata[0]}<br>alpha3=%{location}\", \"hovertext\": [\"Qatar\"], \"legendgroup\": \"Qatar\", \"locations\": [\"QAT\"], \"marker\": {\"color\": \"#FFA15A\", \"size\": [0.749999609375244], \"sizemode\": \"area\", \"sizeref\": 1.4999999999606644}, \"name\": \"Qatar\", \"showlegend\": true, \"type\": \"scattergeo\"}, {\"customdata\": [[30]], \"geo\": \"geo\", \"hoverlabel\": {\"namelength\": 0}, \"hovertemplate\": \"<b>%{hovertext}</b><br><br>Area=Egypt<br>size=%{marker.size}<br>Deaths=%{customdata[0]}<br>alpha3=%{location}\", \"hovertext\": [\"Egypt\"], \"legendgroup\": \"Egypt\", \"locations\": [\"EGY\"], \"marker\": {\"color\": \"#19d3f3\", \"size\": [22.489459054242282], \"sizemode\": \"area\", \"sizeref\": 1.4999999999606644}, \"name\": \"Egypt\", \"showlegend\": true, \"type\": \"scattergeo\"}, {\"customdata\": [[42]], \"geo\": \"geo\", \"hoverlabel\": {\"namelength\": 0}, \"hovertemplate\": \"<b>%{hovertext}</b><br><br>Area=Iraq<br>size=%{marker.size}<br>Deaths=%{customdata[0]}<br>alpha3=%{location}\", \"hovertext\": [\"Iraq\"], \"legendgroup\": \"Iraq\", \"locations\": [\"IRQ\"], \"marker\": {\"color\": \"#FF6692\", \"size\": [31.471091246482484], \"sizemode\": \"area\", \"sizeref\": 1.4999999999606644}, \"name\": \"Iraq\", \"showlegend\": true, \"type\": \"scattergeo\"}, {\"customdata\": [[1]], \"geo\": \"geo\", \"hoverlabel\": {\"namelength\": 0}, \"hovertemplate\": \"<b>%{hovertext}</b><br><br>Area=New_Zealand<br>size=%{marker.size}<br>Deaths=%{customdata[0]}<br>alpha3=%{location}\", \"hovertext\": [\"New_Zealand\"], \"legendgroup\": \"New_Zealand\", \"locations\": [\"NZL\"], \"marker\": {\"color\": \"#B6E880\", \"size\": [0.749999609375244], \"sizemode\": \"area\", \"sizeref\": 1.4999999999606644}, \"name\": \"New_Zealand\", \"showlegend\": true, \"type\": \"scattergeo\"}, {\"customdata\": [[4]], \"geo\": \"geo\", \"hoverlabel\": {\"namelength\": 0}, \"hovertemplate\": \"<b>%{hovertext}</b><br><br>Area=Bahrain<br>size=%{marker.size}<br>Deaths=%{customdata[0]}<br>alpha3=%{location}\", \"hovertext\": [\"Bahrain\"], \"legendgroup\": \"Bahrain\", \"locations\": [\"BHR\"], \"marker\": {\"color\": \"#FF97FF\", \"size\": [2.9999750002499974], \"sizemode\": \"area\", \"sizeref\": 1.4999999999606644}, \"name\": \"Bahrain\", \"showlegend\": true, \"type\": \"scattergeo\"}, {\"customdata\": [[2]], \"geo\": \"geo\", \"hoverlabel\": {\"namelength\": 0}, \"hovertemplate\": \"<b>%{hovertext}</b><br><br>Area=United_Arab_Emirates<br>size=%{marker.size}<br>Deaths=%{customdata[0]}<br>alpha3=%{location}\", \"hovertext\": [\"United_Arab_Emirates\"], \"legendgroup\": \"United_Arab_Emirates\", \"locations\": [\"ARE\"], \"marker\": {\"color\": \"#FECB52\", \"size\": [1.4999968750078125], \"sizemode\": \"area\", \"sizeref\": 1.4999999999606644}, \"name\": \"United_Arab_Emirates\", \"showlegend\": true, \"type\": \"scattergeo\"}, {\"customdata\": [[3]], \"geo\": \"geo\", \"hoverlabel\": {\"namelength\": 0}, \"hovertemplate\": \"<b>%{hovertext}</b><br><br>Area=Armenia<br>size=%{marker.size}<br>Deaths=%{customdata[0]}<br>alpha3=%{location}\", \"hovertext\": [\"Armenia\"], \"legendgroup\": \"Armenia\", \"locations\": [\"ARM\"], \"marker\": {\"color\": \"#636efa\", \"size\": [2.249989453184326], \"sizemode\": \"area\", \"sizeref\": 1.4999999999606644}, \"name\": \"Armenia\", \"showlegend\": true, \"type\": \"scattergeo\"}, {\"customdata\": [[8]], \"geo\": \"geo\", \"hoverlabel\": {\"namelength\": 0}, \"hovertemplate\": \"<b>%{hovertext}</b><br><br>Area=Lebanon<br>size=%{marker.size}<br>Deaths=%{customdata[0]}<br>alpha3=%{location}\", \"hovertext\": [\"Lebanon\"], \"legendgroup\": \"Lebanon\", \"locations\": [\"LBN\"], \"marker\": {\"color\": \"#EF553B\", \"size\": [5.999800007999676], \"sizemode\": \"area\", \"sizeref\": 1.4999999999606644}, \"name\": \"Lebanon\", \"showlegend\": true, \"type\": \"scattergeo\"}, {\"customdata\": [[26]], \"geo\": \"geo\", \"hoverlabel\": {\"namelength\": 0}, \"hovertemplate\": \"<b>%{hovertext}</b><br><br>Area=Algeria<br>size=%{marker.size}<br>Deaths=%{customdata[0]}<br>alpha3=%{location}\", \"hovertext\": [\"Algeria\"], \"legendgroup\": \"Algeria\", \"locations\": [\"DZA\"], \"marker\": {\"color\": \"#00cc96\", \"size\": [19.493137274486944], \"sizemode\": \"area\", \"sizeref\": 1.4999999999606644}, \"name\": \"Algeria\", \"showlegend\": true, \"type\": \"scattergeo\"}, {\"customdata\": [[13]], \"geo\": \"geo\", \"hoverlabel\": {\"namelength\": 0}, \"hovertemplate\": \"<b>%{hovertext}</b><br><br>Area=Hungary<br>size=%{marker.size}<br>Deaths=%{customdata[0]}<br>alpha3=%{location}\", \"hovertext\": [\"Hungary\"], \"legendgroup\": \"Hungary\", \"locations\": [\"HUN\"], \"marker\": {\"color\": \"#ab63fa\", \"size\": [9.749141887513018], \"sizemode\": \"area\", \"sizeref\": 1.4999999999606644}, \"name\": \"Hungary\", \"showlegend\": true, \"type\": \"scattergeo\"}, {\"customdata\": [[7]], \"geo\": \"geo\", \"hoverlabel\": {\"namelength\": 0}, \"hovertemplate\": \"<b>%{hovertext}</b><br><br>Area=Lithuania<br>size=%{marker.size}<br>Deaths=%{customdata[0]}<br>alpha3=%{location}\", \"hovertext\": [\"Lithuania\"], \"legendgroup\": \"Lithuania\", \"locations\": [\"LTU\"], \"marker\": {\"color\": \"#FFA15A\", \"size\": [5.249866019728144], \"sizemode\": \"area\", \"sizeref\": 1.4999999999606644}, \"name\": \"Lithuania\", \"showlegend\": true, \"type\": \"scattergeo\"}, {\"customdata\": [[23]], \"geo\": \"geo\", \"hoverlabel\": {\"namelength\": 0}, \"hovertemplate\": \"<b>%{hovertext}</b><br><br>Area=Morocco<br>size=%{marker.size}<br>Deaths=%{customdata[0]}<br>alpha3=%{location}\", \"hovertext\": [\"Morocco\"], \"legendgroup\": \"Morocco\", \"locations\": [\"MAR\"], \"marker\": {\"color\": \"#19d3f3\", \"size\": [17.24524883647226], \"sizemode\": \"area\", \"sizeref\": 1.4999999999606644}, \"name\": \"Morocco\", \"showlegend\": true, \"type\": \"scattergeo\"}, {\"customdata\": [[7]], \"geo\": \"geo\", \"hoverlabel\": {\"namelength\": 0}, \"hovertemplate\": \"<b>%{hovertext}</b><br><br>Area=Bulgaria<br>size=%{marker.size}<br>Deaths=%{customdata[0]}<br>alpha3=%{location}\", \"hovertext\": [\"Bulgaria\"], \"legendgroup\": \"Bulgaria\", \"locations\": [\"BGR\"], \"marker\": {\"color\": \"#FF6692\", \"size\": [5.249866019728144], \"sizemode\": \"area\", \"sizeref\": 1.4999999999606644}, \"name\": \"Bulgaria\", \"showlegend\": true, \"type\": \"scattergeo\"}, {\"customdata\": [[8]], \"geo\": \"geo\", \"hoverlabel\": {\"namelength\": 0}, \"hovertemplate\": \"<b>%{hovertext}</b><br><br>Area=Ukraine<br>size=%{marker.size}<br>Deaths=%{customdata[0]}<br>alpha3=%{location}\", \"hovertext\": [\"Ukraine\"], \"legendgroup\": \"Ukraine\", \"locations\": [\"UKR\"], \"marker\": {\"color\": \"#B6E880\", \"size\": [5.999800007999676], \"sizemode\": \"area\", \"sizeref\": 1.4999999999606644}, \"name\": \"Ukraine\", \"showlegend\": true, \"type\": \"scattergeo\"}, {\"customdata\": [[4]], \"geo\": \"geo\", \"hoverlabel\": {\"namelength\": 0}, \"hovertemplate\": \"<b>%{hovertext}</b><br><br>Area=Andorra<br>size=%{marker.size}<br>Deaths=%{customdata[0]}<br>alpha3=%{location}\", \"hovertext\": [\"Andorra\"], \"legendgroup\": \"Andorra\", \"locations\": [\"AND\"], \"marker\": {\"color\": \"#FF97FF\", \"size\": [2.9999750002499974], \"sizemode\": \"area\", \"sizeref\": 1.4999999999606644}, \"name\": \"Andorra\", \"showlegend\": true, \"type\": \"scattergeo\"}, {\"customdata\": [[0]], \"geo\": \"geo\", \"hoverlabel\": {\"namelength\": 0}, \"hovertemplate\": \"<b>%{hovertext}</b><br><br>Area=Latvia<br>size=%{marker.size}<br>Deaths=%{customdata[0]}<br>alpha3=%{location}\", \"hovertext\": [\"Latvia\"], \"legendgroup\": \"Latvia\", \"locations\": [\"LVA\"], \"marker\": {\"color\": \"#FECB52\", \"size\": [0.0], \"sizemode\": \"area\", \"sizeref\": 1.4999999999606644}, \"name\": \"Latvia\", \"showlegend\": true, \"type\": \"scattergeo\"}, {\"customdata\": [[0]], \"geo\": \"geo\", \"hoverlabel\": {\"namelength\": 0}, \"hovertemplate\": \"<b>%{hovertext}</b><br><br>Area=Uruguay<br>size=%{marker.size}<br>Deaths=%{customdata[0]}<br>alpha3=%{location}\", \"hovertext\": [\"Uruguay\"], \"legendgroup\": \"Uruguay\", \"locations\": [\"URY\"], \"marker\": {\"color\": \"#636efa\", \"size\": [0.0], \"sizemode\": \"area\", \"sizeref\": 1.4999999999606644}, \"name\": \"Uruguay\", \"showlegend\": true, \"type\": \"scattergeo\"}, {\"customdata\": [[0]], \"geo\": \"geo\", \"hoverlabel\": {\"namelength\": 0}, \"hovertemplate\": \"<b>%{hovertext}</b><br><br>Area=Slovakia<br>size=%{marker.size}<br>Deaths=%{customdata[0]}<br>alpha3=%{location}\", \"hovertext\": [\"Slovakia\"], \"legendgroup\": \"Slovakia\", \"locations\": [\"SVK\"], \"marker\": {\"color\": \"#EF553B\", \"size\": [0.0], \"sizemode\": \"area\", \"sizeref\": 1.4999999999606644}, \"name\": \"Slovakia\", \"showlegend\": true, \"type\": \"scattergeo\"}, {\"customdata\": [[2]], \"geo\": \"geo\", \"hoverlabel\": {\"namelength\": 0}, \"hovertemplate\": \"<b>%{hovertext}</b><br><br>Area=Costa_Rica<br>size=%{marker.size}<br>Deaths=%{customdata[0]}<br>alpha3=%{location}\", \"hovertext\": [\"Costa_Rica\"], \"legendgroup\": \"Costa_Rica\", \"locations\": [\"CRI\"], \"marker\": {\"color\": \"#00cc96\", \"size\": [1.4999968750078125], \"sizemode\": \"area\", \"sizeref\": 1.4999999999606644}, \"name\": \"Costa_Rica\", \"showlegend\": true, \"type\": \"scattergeo\"}, {\"customdata\": [[2]], \"geo\": \"geo\", \"hoverlabel\": {\"namelength\": 0}, \"hovertemplate\": \"<b>%{hovertext}</b><br><br>Area=Taiwan<br>size=%{marker.size}<br>Deaths=%{customdata[0]}<br>alpha3=%{location}\", \"hovertext\": [\"Taiwan\"], \"legendgroup\": \"Taiwan\", \"locations\": [\"TWN\"], \"marker\": {\"color\": \"#ab63fa\", \"size\": [1.4999968750078125], \"sizemode\": \"area\", \"sizeref\": 1.4999999999606644}, \"name\": \"Taiwan\", \"showlegend\": true, \"type\": \"scattergeo\"}, {\"customdata\": [[5]], \"geo\": \"geo\", \"hoverlabel\": {\"namelength\": 0}, \"hovertemplate\": \"<b>%{hovertext}</b><br><br>Area=Bosnia_and_Herzegovina<br>size=%{marker.size}<br>Deaths=%{customdata[0]}<br>alpha3=%{location}\", \"hovertext\": [\"Bosnia_and_Herzegovina\"], \"legendgroup\": \"Bosnia_and_Herzegovina\", \"locations\": [\"BIH\"], \"marker\": {\"color\": \"#FFA15A\", \"size\": [3.7499511726379278], \"sizemode\": \"area\", \"sizeref\": 1.4999999999606644}, \"name\": \"Bosnia_and_Herzegovina\", \"showlegend\": true, \"type\": \"scattergeo\"}, {\"customdata\": [[4]], \"geo\": \"geo\", \"hoverlabel\": {\"namelength\": 0}, \"hovertemplate\": \"<b>%{hovertext}</b><br><br>Area=North_Macedonia<br>size=%{marker.size}<br>Deaths=%{customdata[0]}<br>alpha3=%{location}\", \"hovertext\": [\"North_Macedonia\"], \"legendgroup\": \"North_Macedonia\", \"locations\": [\"MKD\"], \"marker\": {\"color\": \"#19d3f3\", \"size\": [2.9999750002499974], \"sizemode\": \"area\", \"sizeref\": 1.4999999999606644}, \"name\": \"North_Macedonia\", \"showlegend\": true, \"type\": \"scattergeo\"}, {\"customdata\": [[1]], \"geo\": \"geo\", \"hoverlabel\": {\"namelength\": 0}, \"hovertemplate\": \"<b>%{hovertext}</b><br><br>Area=Jordan<br>size=%{marker.size}<br>Deaths=%{customdata[0]}<br>alpha3=%{location}\", \"hovertext\": [\"Jordan\"], \"legendgroup\": \"Jordan\", \"locations\": [\"JOR\"], \"marker\": {\"color\": \"#FF6692\", \"size\": [0.749999609375244], \"sizemode\": \"area\", \"sizeref\": 1.4999999999606644}, \"name\": \"Jordan\", \"showlegend\": true, \"type\": \"scattergeo\"}, {\"customdata\": [[0]], \"geo\": \"geo\", \"hoverlabel\": {\"namelength\": 0}, \"hovertemplate\": \"<b>%{hovertext}</b><br><br>Area=Kuwait<br>size=%{marker.size}<br>Deaths=%{customdata[0]}<br>alpha3=%{location}\", \"hovertext\": [\"Kuwait\"], \"legendgroup\": \"Kuwait\", \"locations\": [\"KWT\"], \"marker\": {\"color\": \"#B6E880\", \"size\": [0.0], \"sizemode\": \"area\", \"sizeref\": 1.4999999999606644}, \"name\": \"Kuwait\", \"showlegend\": true, \"type\": \"scattergeo\"}, {\"customdata\": [[2]], \"geo\": \"geo\", \"hoverlabel\": {\"namelength\": 0}, \"hovertemplate\": \"<b>%{hovertext}</b><br><br>Area=Moldova<br>size=%{marker.size}<br>Deaths=%{customdata[0]}<br>alpha3=%{location}\", \"hovertext\": [\"Moldova\"], \"legendgroup\": \"Moldova\", \"locations\": [\"MDA\"], \"marker\": {\"color\": \"#FF97FF\", \"size\": [1.4999968750078125], \"sizemode\": \"area\", \"sizeref\": 1.4999999999606644}, \"name\": \"Moldova\", \"showlegend\": true, \"type\": \"scattergeo\"}, {\"customdata\": [[0]], \"geo\": \"geo\", \"hoverlabel\": {\"namelength\": 0}, \"hovertemplate\": \"<b>%{hovertext}</b><br><br>Area=Kazakhstan<br>size=%{marker.size}<br>Deaths=%{customdata[0]}<br>alpha3=%{location}\", \"hovertext\": [\"Kazakhstan\"], \"legendgroup\": \"Kazakhstan\", \"locations\": [\"KAZ\"], \"marker\": {\"color\": \"#FECB52\", \"size\": [0.0], \"sizemode\": \"area\", \"sizeref\": 1.4999999999606644}, \"name\": \"Kazakhstan\", \"showlegend\": true, \"type\": \"scattergeo\"}, {\"customdata\": [[6]], \"geo\": \"geo\", \"hoverlabel\": {\"namelength\": 0}, \"hovertemplate\": \"<b>%{hovertext}</b><br><br>Area=Tunisia<br>size=%{marker.size}<br>Deaths=%{customdata[0]}<br>alpha3=%{location}\", \"hovertext\": [\"Tunisia\"], \"legendgroup\": \"Tunisia\", \"locations\": [\"TUN\"], \"marker\": {\"color\": \"#636efa\", \"size\": [4.499915626898394], \"sizemode\": \"area\", \"sizeref\": 1.4999999999606644}, \"name\": \"Tunisia\", \"showlegend\": true, \"type\": \"scattergeo\"}, {\"customdata\": [[22]], \"geo\": \"geo\", \"hoverlabel\": {\"namelength\": 0}, \"hovertemplate\": \"<b>%{hovertext}</b><br><br>Area=San_Marino<br>size=%{marker.size}<br>Deaths=%{customdata[0]}<br>alpha3=%{location}\", \"hovertext\": [\"San_Marino\"], \"legendgroup\": \"San_Marino\", \"locations\": [\"SMR\"], \"marker\": {\"color\": \"#EF553B\", \"size\": [16.495841882825914], \"sizemode\": \"area\", \"sizeref\": 1.4999999999606644}, \"name\": \"San_Marino\", \"showlegend\": true, \"type\": \"scattergeo\"}, {\"customdata\": [[0]], \"geo\": \"geo\", \"hoverlabel\": {\"namelength\": 0}, \"hovertemplate\": \"<b>%{hovertext}</b><br><br>Area=Vietnam<br>size=%{marker.size}<br>Deaths=%{customdata[0]}<br>alpha3=%{location}\", \"hovertext\": [\"Vietnam\"], \"legendgroup\": \"Vietnam\", \"locations\": [\"VNM\"], \"marker\": {\"color\": \"#00cc96\", \"size\": [0.0], \"sizemode\": \"area\", \"sizeref\": 1.4999999999606644}, \"name\": \"Vietnam\", \"showlegend\": true, \"type\": \"scattergeo\"}, {\"customdata\": [[10]], \"geo\": \"geo\", \"hoverlabel\": {\"namelength\": 0}, \"hovertemplate\": \"<b>%{hovertext}</b><br><br>Area=Albania<br>size=%{marker.size}<br>Deaths=%{customdata[0]}<br>alpha3=%{location}\", \"hovertext\": [\"Albania\"], \"legendgroup\": \"Albania\", \"locations\": [\"ALB\"], \"marker\": {\"color\": \"#ab63fa\", \"size\": [7.499609399412519], \"sizemode\": \"area\", \"sizeref\": 1.4999999999606644}, \"name\": \"Albania\", \"showlegend\": true, \"type\": \"scattergeo\"}, {\"customdata\": [[4]], \"geo\": \"geo\", \"hoverlabel\": {\"namelength\": 0}, \"hovertemplate\": \"<b>%{hovertext}</b><br><br>Area=Azerbaijan<br>size=%{marker.size}<br>Deaths=%{customdata[0]}<br>alpha3=%{location}\", \"hovertext\": [\"Azerbaijan\"], \"legendgroup\": \"Azerbaijan\", \"locations\": [\"AZE\"], \"marker\": {\"color\": \"#FFA15A\", \"size\": [2.9999750002499974], \"sizemode\": \"area\", \"sizeref\": 1.4999999999606644}, \"name\": \"Azerbaijan\", \"showlegend\": true, \"type\": \"scattergeo\"}, {\"customdata\": [[9]], \"geo\": \"geo\", \"hoverlabel\": {\"namelength\": 0}, \"hovertemplate\": \"<b>%{hovertext}</b><br><br>Area=Burkina_Faso<br>size=%{marker.size}<br>Deaths=%{customdata[0]}<br>alpha3=%{location}\", \"hovertext\": [\"Burkina_Faso\"], \"legendgroup\": \"Burkina_Faso\", \"locations\": [\"BFA\"], \"marker\": {\"color\": \"#19d3f3\", \"size\": [6.749715248790522], \"sizemode\": \"area\", \"sizeref\": 1.4999999999606644}, \"name\": \"Burkina_Faso\", \"showlegend\": true, \"type\": \"scattergeo\"}, {\"customdata\": [[5]], \"geo\": \"geo\", \"hoverlabel\": {\"namelength\": 0}, \"hovertemplate\": \"<b>%{hovertext}</b><br><br>Area=Cyprus<br>size=%{marker.size}<br>Deaths=%{customdata[0]}<br>alpha3=%{location}\", \"hovertext\": [\"Cyprus\"], \"legendgroup\": \"Cyprus\", \"locations\": [\"CYP\"], \"marker\": {\"color\": \"#FF6692\", \"size\": [3.7499511726379278], \"sizemode\": \"area\", \"sizeref\": 1.4999999999606644}, \"name\": \"Cyprus\", \"showlegend\": true, \"type\": \"scattergeo\"}, {\"customdata\": [[0]], \"geo\": \"geo\", \"hoverlabel\": {\"namelength\": 0}, \"hovertemplate\": \"<b>%{hovertext}</b><br><br>Area=Faroe_Islands<br>size=%{marker.size}<br>Deaths=%{customdata[0]}<br>alpha3=%{location}\", \"hovertext\": [\"Faroe_Islands\"], \"legendgroup\": \"Faroe_Islands\", \"locations\": [\"FRO\"], \"marker\": {\"color\": \"#B6E880\", \"size\": [0.0], \"sizemode\": \"area\", \"sizeref\": 1.4999999999606644}, \"name\": \"Faroe_Islands\", \"showlegend\": true, \"type\": \"scattergeo\"}, {\"customdata\": [[0]], \"geo\": \"geo\", \"hoverlabel\": {\"namelength\": 0}, \"hovertemplate\": \"<b>%{hovertext}</b><br><br>Area=Oman<br>size=%{marker.size}<br>Deaths=%{customdata[0]}<br>alpha3=%{location}\", \"hovertext\": [\"Oman\"], \"legendgroup\": \"Oman\", \"locations\": [\"OMN\"], \"marker\": {\"color\": \"#FF97FF\", \"size\": [0.0], \"sizemode\": \"area\", \"sizeref\": 1.4999999999606644}, \"name\": \"Oman\", \"showlegend\": true, \"type\": \"scattergeo\"}, {\"customdata\": [[5]], \"geo\": \"geo\", \"hoverlabel\": {\"namelength\": 0}, \"hovertemplate\": \"<b>%{hovertext}</b><br><br>Area=Ghana<br>size=%{marker.size}<br>Deaths=%{customdata[0]}<br>alpha3=%{location}\", \"hovertext\": [\"Ghana\"], \"legendgroup\": \"Ghana\", \"locations\": [\"GHA\"], \"marker\": {\"color\": \"#FECB52\", \"size\": [3.7499511726379278], \"sizemode\": \"area\", \"sizeref\": 1.4999999999606644}, \"name\": \"Ghana\", \"showlegend\": true, \"type\": \"scattergeo\"}, {\"customdata\": [[0]], \"geo\": \"geo\", \"hoverlabel\": {\"namelength\": 0}, \"hovertemplate\": \"<b>%{hovertext}</b><br><br>Area=Cote_dIvoire<br>size=%{marker.size}<br>Deaths=%{customdata[0]}<br>alpha3=%{location}\", \"hovertext\": [\"Cote_dIvoire\"], \"legendgroup\": \"Cote_dIvoire\", \"locations\": [\"CIV\"], \"marker\": {\"color\": \"#636efa\", \"size\": [0.0], \"sizemode\": \"area\", \"sizeref\": 1.4999999999606644}, \"name\": \"Cote_dIvoire\", \"showlegend\": true, \"type\": \"scattergeo\"}, {\"customdata\": [[0]], \"geo\": \"geo\", \"hoverlabel\": {\"namelength\": 0}, \"hovertemplate\": \"<b>%{hovertext}</b><br><br>Area=Malta<br>size=%{marker.size}<br>Deaths=%{customdata[0]}<br>alpha3=%{location}\", \"hovertext\": [\"Malta\"], \"legendgroup\": \"Malta\", \"locations\": [\"MLT\"], \"marker\": {\"color\": \"#EF553B\", \"size\": [0.0], \"sizemode\": \"area\", \"sizeref\": 1.4999999999606644}, \"name\": \"Malta\", \"showlegend\": true, \"type\": \"scattergeo\"}, {\"customdata\": [[1]], \"geo\": \"geo\", \"hoverlabel\": {\"namelength\": 0}, \"hovertemplate\": \"<b>%{hovertext}</b><br><br>Area=Uzbekistan<br>size=%{marker.size}<br>Deaths=%{customdata[0]}<br>alpha3=%{location}\", \"hovertext\": [\"Uzbekistan\"], \"legendgroup\": \"Uzbekistan\", \"locations\": [\"UZB\"], \"marker\": {\"color\": \"#00cc96\", \"size\": [0.749999609375244], \"sizemode\": \"area\", \"sizeref\": 1.4999999999606644}, \"name\": \"Uzbekistan\", \"showlegend\": true, \"type\": \"scattergeo\"}, {\"customdata\": [[0]], \"geo\": \"geo\", \"hoverlabel\": {\"namelength\": 0}, \"hovertemplate\": \"<b>%{hovertext}</b><br><br>Area=Senegal<br>size=%{marker.size}<br>Deaths=%{customdata[0]}<br>alpha3=%{location}\", \"hovertext\": [\"Senegal\"], \"legendgroup\": \"Senegal\", \"locations\": [\"SEN\"], \"marker\": {\"color\": \"#ab63fa\", \"size\": [0.0], \"sizemode\": \"area\", \"sizeref\": 1.4999999999606644}, \"name\": \"Senegal\", \"showlegend\": true, \"type\": \"scattergeo\"}, {\"customdata\": [[1]], \"geo\": \"geo\", \"hoverlabel\": {\"namelength\": 0}, \"hovertemplate\": \"<b>%{hovertext}</b><br><br>Area=Brunei_Darussalam<br>size=%{marker.size}<br>Deaths=%{customdata[0]}<br>alpha3=%{location}\", \"hovertext\": [\"Brunei_Darussalam\"], \"legendgroup\": \"Brunei_Darussalam\", \"locations\": [\"BRN\"], \"marker\": {\"color\": \"#FFA15A\", \"size\": [0.749999609375244], \"sizemode\": \"area\", \"sizeref\": 1.4999999999606644}, \"name\": \"Brunei_Darussalam\", \"showlegend\": true, \"type\": \"scattergeo\"}, {\"customdata\": [[3]], \"geo\": \"geo\", \"hoverlabel\": {\"namelength\": 0}, \"hovertemplate\": \"<b>%{hovertext}</b><br><br>Area=Cuba<br>size=%{marker.size}<br>Deaths=%{customdata[0]}<br>alpha3=%{location}\", \"hovertext\": [\"Cuba\"], \"legendgroup\": \"Cuba\", \"locations\": [\"CUB\"], \"marker\": {\"color\": \"#19d3f3\", \"size\": [2.249989453184326], \"sizemode\": \"area\", \"sizeref\": 1.4999999999606644}, \"name\": \"Cuba\", \"showlegend\": true, \"type\": \"scattergeo\"}, {\"customdata\": [[1]], \"geo\": \"geo\", \"hoverlabel\": {\"namelength\": 0}, \"hovertemplate\": \"<b>%{hovertext}</b><br><br>Area=Venezuela<br>size=%{marker.size}<br>Deaths=%{customdata[0]}<br>alpha3=%{location}\", \"hovertext\": [\"Venezuela\"], \"legendgroup\": \"Venezuela\", \"locations\": [\"VEN\"], \"marker\": {\"color\": \"#FF6692\", \"size\": [0.749999609375244], \"sizemode\": \"area\", \"sizeref\": 1.4999999999606644}, \"name\": \"Venezuela\", \"showlegend\": true, \"type\": \"scattergeo\"}, {\"customdata\": [[1]], \"geo\": \"geo\", \"hoverlabel\": {\"namelength\": 0}, \"hovertemplate\": \"<b>%{hovertext}</b><br><br>Area=Sri_Lanka<br>size=%{marker.size}<br>Deaths=%{customdata[0]}<br>alpha3=%{location}\", \"hovertext\": [\"Sri_Lanka\"], \"legendgroup\": \"Sri_Lanka\", \"locations\": [\"LKA\"], \"marker\": {\"color\": \"#B6E880\", \"size\": [0.749999609375244], \"sizemode\": \"area\", \"sizeref\": 1.4999999999606644}, \"name\": \"Sri_Lanka\", \"showlegend\": true, \"type\": \"scattergeo\"}, {\"customdata\": [[2]], \"geo\": \"geo\", \"hoverlabel\": {\"namelength\": 0}, \"hovertemplate\": \"<b>%{hovertext}</b><br><br>Area=Honduras<br>size=%{marker.size}<br>Deaths=%{customdata[0]}<br>alpha3=%{location}\", \"hovertext\": [\"Honduras\"], \"legendgroup\": \"Honduras\", \"locations\": [\"HND\"], \"marker\": {\"color\": \"#FF97FF\", \"size\": [1.4999968750078125], \"sizemode\": \"area\", \"sizeref\": 1.4999999999606644}, \"name\": \"Honduras\", \"showlegend\": true, \"type\": \"scattergeo\"}, {\"customdata\": [[3]], \"geo\": \"geo\", \"hoverlabel\": {\"namelength\": 0}, \"hovertemplate\": \"<b>%{hovertext}</b><br><br>Area=Afghanistan<br>size=%{marker.size}<br>Deaths=%{customdata[0]}<br>alpha3=%{location}\", \"hovertext\": [\"Afghanistan\"], \"legendgroup\": \"Afghanistan\", \"locations\": [\"AFG\"], \"marker\": {\"color\": \"#FECB52\", \"size\": [2.249989453184326], \"sizemode\": \"area\", \"sizeref\": 1.4999999999606644}, \"name\": \"Afghanistan\", \"showlegend\": true, \"type\": \"scattergeo\"}, {\"customdata\": [[0]], \"geo\": \"geo\", \"hoverlabel\": {\"namelength\": 0}, \"hovertemplate\": \"<b>%{hovertext}</b><br><br>Area=Cambodia<br>size=%{marker.size}<br>Deaths=%{customdata[0]}<br>alpha3=%{location}\", \"hovertext\": [\"Cambodia\"], \"legendgroup\": \"Cambodia\", \"locations\": [\"KHM\"], \"marker\": {\"color\": \"#636efa\", \"size\": [0.0], \"sizemode\": \"area\", \"sizeref\": 1.4999999999606644}, \"name\": \"Cambodia\", \"showlegend\": true, \"type\": \"scattergeo\"}, {\"customdata\": [[2]], \"geo\": \"geo\", \"hoverlabel\": {\"namelength\": 0}, \"hovertemplate\": \"<b>%{hovertext}</b><br><br>Area=Mauritius<br>size=%{marker.size}<br>Deaths=%{customdata[0]}<br>alpha3=%{location}\", \"hovertext\": [\"Mauritius\"], \"legendgroup\": \"Mauritius\", \"locations\": [\"MUS\"], \"marker\": {\"color\": \"#EF553B\", \"size\": [1.4999968750078125], \"sizemode\": \"area\", \"sizeref\": 1.4999999999606644}, \"name\": \"Mauritius\", \"showlegend\": true, \"type\": \"scattergeo\"}, {\"customdata\": [[3]], \"geo\": \"geo\", \"hoverlabel\": {\"namelength\": 0}, \"hovertemplate\": \"<b>%{hovertext}</b><br><br>Area=Puerto_Rico<br>size=%{marker.size}<br>Deaths=%{customdata[0]}<br>alpha3=%{location}\", \"hovertext\": [\"Puerto_Rico\"], \"legendgroup\": \"Puerto_Rico\", \"locations\": [\"PRI\"], \"marker\": {\"color\": \"#00cc96\", \"size\": [2.249989453184326], \"sizemode\": \"area\", \"sizeref\": 1.4999999999606644}, \"name\": \"Puerto_Rico\", \"showlegend\": true, \"type\": \"scattergeo\"}, {\"customdata\": [[2]], \"geo\": \"geo\", \"hoverlabel\": {\"namelength\": 0}, \"hovertemplate\": \"<b>%{hovertext}</b><br><br>Area=Cameroon<br>size=%{marker.size}<br>Deaths=%{customdata[0]}<br>alpha3=%{location}\", \"hovertext\": [\"Cameroon\"], \"legendgroup\": \"Cameroon\", \"locations\": [\"CMR\"], \"marker\": {\"color\": \"#ab63fa\", \"size\": [1.4999968750078125], \"sizemode\": \"area\", \"sizeref\": 1.4999999999606644}, \"name\": \"Cameroon\", \"showlegend\": true, \"type\": \"scattergeo\"}, {\"customdata\": [[1]], \"geo\": \"geo\", \"hoverlabel\": {\"namelength\": 0}, \"hovertemplate\": \"<b>%{hovertext}</b><br><br>Area=Nigeria<br>size=%{marker.size}<br>Deaths=%{customdata[0]}<br>alpha3=%{location}\", \"hovertext\": [\"Nigeria\"], \"legendgroup\": \"Nigeria\", \"locations\": [\"NGA\"], \"marker\": {\"color\": \"#FFA15A\", \"size\": [0.749999609375244], \"sizemode\": \"area\", \"sizeref\": 1.4999999999606644}, \"name\": \"Nigeria\", \"showlegend\": true, \"type\": \"scattergeo\"}, {\"customdata\": [[1]], \"geo\": \"geo\", \"hoverlabel\": {\"namelength\": 0}, \"hovertemplate\": \"<b>%{hovertext}</b><br><br>Area=Palestine<br>size=%{marker.size}<br>Deaths=%{customdata[0]}<br>alpha3=%{location}\", \"hovertext\": [\"Palestine\"], \"legendgroup\": \"Palestine\", \"locations\": [\"PSE\"], \"marker\": {\"color\": \"#19d3f3\", \"size\": [0.749999609375244], \"sizemode\": \"area\", \"sizeref\": 1.4999999999606644}, \"name\": \"Palestine\", \"showlegend\": true, \"type\": \"scattergeo\"}, {\"customdata\": [[0]], \"geo\": \"geo\", \"hoverlabel\": {\"namelength\": 0}, \"hovertemplate\": \"<b>%{hovertext}</b><br><br>Area=Belarus<br>size=%{marker.size}<br>Deaths=%{customdata[0]}<br>alpha3=%{location}\", \"hovertext\": [\"Belarus\"], \"legendgroup\": \"Belarus\", \"locations\": [\"BLR\"], \"marker\": {\"color\": \"#FF6692\", \"size\": [0.0], \"sizemode\": \"area\", \"sizeref\": 1.4999999999606644}, \"name\": \"Belarus\", \"showlegend\": true, \"type\": \"scattergeo\"}, {\"customdata\": [[1]], \"geo\": \"geo\", \"hoverlabel\": {\"namelength\": 0}, \"hovertemplate\": \"<b>%{hovertext}</b><br><br>Area=Kosovo<br>size=%{marker.size}<br>Deaths=%{customdata[0]}<br>alpha3=%{location}\", \"hovertext\": [\"Kosovo\"], \"legendgroup\": \"Kosovo\", \"locations\": [\"XKX\"], \"marker\": {\"color\": \"#B6E880\", \"size\": [0.749999609375244], \"sizemode\": \"area\", \"sizeref\": 1.4999999999606644}, \"name\": \"Kosovo\", \"showlegend\": true, \"type\": \"scattergeo\"}, {\"customdata\": [[0]], \"geo\": \"geo\", \"hoverlabel\": {\"namelength\": 0}, \"hovertemplate\": \"<b>%{hovertext}</b><br><br>Area=Georgia<br>size=%{marker.size}<br>Deaths=%{customdata[0]}<br>alpha3=%{location}\", \"hovertext\": [\"Georgia\"], \"legendgroup\": \"Georgia\", \"locations\": [\"GEO\"], \"marker\": {\"color\": \"#FF97FF\", \"size\": [0.0], \"sizemode\": \"area\", \"sizeref\": 1.4999999999606644}, \"name\": \"Georgia\", \"showlegend\": true, \"type\": \"scattergeo\"}, {\"customdata\": [[0]], \"geo\": \"geo\", \"hoverlabel\": {\"namelength\": 0}, \"hovertemplate\": \"<b>%{hovertext}</b><br><br>Area=Kyrgyzstan<br>size=%{marker.size}<br>Deaths=%{customdata[0]}<br>alpha3=%{location}\", \"hovertext\": [\"Kyrgyzstan\"], \"legendgroup\": \"Kyrgyzstan\", \"locations\": [\"KGZ\"], \"marker\": {\"color\": \"#FECB52\", \"size\": [0.0], \"sizemode\": \"area\", \"sizeref\": 1.4999999999606644}, \"name\": \"Kyrgyzstan\", \"showlegend\": true, \"type\": \"scattergeo\"}, {\"customdata\": [[1]], \"geo\": \"geo\", \"hoverlabel\": {\"namelength\": 0}, \"hovertemplate\": \"<b>%{hovertext}</b><br><br>Area=Montenegro<br>size=%{marker.size}<br>Deaths=%{customdata[0]}<br>alpha3=%{location}\", \"hovertext\": [\"Montenegro\"], \"legendgroup\": \"Montenegro\", \"locations\": [\"MNE\"], \"marker\": {\"color\": \"#636efa\", \"size\": [0.749999609375244], \"sizemode\": \"area\", \"sizeref\": 1.4999999999606644}, \"name\": \"Montenegro\", \"showlegend\": true, \"type\": \"scattergeo\"}, {\"customdata\": [[0]], \"geo\": \"geo\", \"hoverlabel\": {\"namelength\": 0}, \"hovertemplate\": \"<b>%{hovertext}</b><br><br>Area=Bolivia<br>size=%{marker.size}<br>Deaths=%{customdata[0]}<br>alpha3=%{location}\", \"hovertext\": [\"Bolivia\"], \"legendgroup\": \"Bolivia\", \"locations\": [\"BOL\"], \"marker\": {\"color\": \"#EF553B\", \"size\": [0.0], \"sizemode\": \"area\", \"sizeref\": 1.4999999999606644}, \"name\": \"Bolivia\", \"showlegend\": true, \"type\": \"scattergeo\"}, {\"customdata\": [[2]], \"geo\": \"geo\", \"hoverlabel\": {\"namelength\": 0}, \"hovertemplate\": \"<b>%{hovertext}</b><br><br>Area=Trinidad_and_Tobago<br>size=%{marker.size}<br>Deaths=%{customdata[0]}<br>alpha3=%{location}\", \"hovertext\": [\"Trinidad_and_Tobago\"], \"legendgroup\": \"Trinidad_and_Tobago\", \"locations\": [\"TTO\"], \"marker\": {\"color\": \"#00cc96\", \"size\": [1.4999968750078125], \"sizemode\": \"area\", \"sizeref\": 1.4999999999606644}, \"name\": \"Trinidad_and_Tobago\", \"showlegend\": true, \"type\": \"scattergeo\"}, {\"customdata\": [[1]], \"geo\": \"geo\", \"hoverlabel\": {\"namelength\": 0}, \"hovertemplate\": \"<b>%{hovertext}</b><br><br>Area=Jersey<br>size=%{marker.size}<br>Deaths=%{customdata[0]}<br>alpha3=%{location}\", \"hovertext\": [\"Jersey\"], \"legendgroup\": \"Jersey\", \"locations\": [\"JEY\"], \"marker\": {\"color\": \"#ab63fa\", \"size\": [0.749999609375244], \"sizemode\": \"area\", \"sizeref\": 1.4999999999606644}, \"name\": \"Jersey\", \"showlegend\": true, \"type\": \"scattergeo\"}, {\"customdata\": [[0]], \"geo\": \"geo\", \"hoverlabel\": {\"namelength\": 0}, \"hovertemplate\": \"<b>%{hovertext}</b><br><br>Area=Liechtenstein<br>size=%{marker.size}<br>Deaths=%{customdata[0]}<br>alpha3=%{location}\", \"hovertext\": [\"Liechtenstein\"], \"legendgroup\": \"Liechtenstein\", \"locations\": [\"LIE\"], \"marker\": {\"color\": \"#FFA15A\", \"size\": [0.0], \"sizemode\": \"area\", \"sizeref\": 1.4999999999606644}, \"name\": \"Liechtenstein\", \"showlegend\": true, \"type\": \"scattergeo\"}, {\"customdata\": [[0]], \"geo\": \"geo\", \"hoverlabel\": {\"namelength\": 0}, \"hovertemplate\": \"<b>%{hovertext}</b><br><br>Area=Rwanda<br>size=%{marker.size}<br>Deaths=%{customdata[0]}<br>alpha3=%{location}\", \"hovertext\": [\"Rwanda\"], \"legendgroup\": \"Rwanda\", \"locations\": [\"RWA\"], \"marker\": {\"color\": \"#19d3f3\", \"size\": [0.0], \"sizemode\": \"area\", \"sizeref\": 1.4999999999606644}, \"name\": \"Rwanda\", \"showlegend\": true, \"type\": \"scattergeo\"}, {\"customdata\": [[3]], \"geo\": \"geo\", \"hoverlabel\": {\"namelength\": 0}, \"hovertemplate\": \"<b>%{hovertext}</b><br><br>Area=Paraguay<br>size=%{marker.size}<br>Deaths=%{customdata[0]}<br>alpha3=%{location}\", \"hovertext\": [\"Paraguay\"], \"legendgroup\": \"Paraguay\", \"locations\": [\"PRY\"], \"marker\": {\"color\": \"#FF6692\", \"size\": [2.249989453184326], \"sizemode\": \"area\", \"sizeref\": 1.4999999999606644}, \"name\": \"Paraguay\", \"showlegend\": true, \"type\": \"scattergeo\"}, {\"customdata\": [[6]], \"geo\": \"geo\", \"hoverlabel\": {\"namelength\": 0}, \"hovertemplate\": \"<b>%{hovertext}</b><br><br>Area=Democratic_Republic_of_the_Congo<br>size=%{marker.size}<br>Deaths=%{customdata[0]}<br>alpha3=%{location}\", \"hovertext\": [\"Democratic_Republic_of_the_Congo\"], \"legendgroup\": \"Democratic_Republic_of_the_Congo\", \"locations\": [\"COD\"], \"marker\": {\"color\": \"#B6E880\", \"size\": [4.499915626898394], \"sizemode\": \"area\", \"sizeref\": 1.4999999999606644}, \"name\": \"Democratic_Republic_of_the_Congo\", \"showlegend\": true, \"type\": \"scattergeo\"}, {\"customdata\": [[0]], \"geo\": \"geo\", \"hoverlabel\": {\"namelength\": 0}, \"hovertemplate\": \"<b>%{hovertext}</b><br><br>Area=Gibraltar<br>size=%{marker.size}<br>Deaths=%{customdata[0]}<br>alpha3=%{location}\", \"hovertext\": [\"Gibraltar\"], \"legendgroup\": \"Gibraltar\", \"locations\": [\"GIB\"], \"marker\": {\"color\": \"#FF97FF\", \"size\": [0.0], \"sizemode\": \"area\", \"sizeref\": 1.4999999999606644}, \"name\": \"Gibraltar\", \"showlegend\": true, \"type\": \"scattergeo\"}, {\"customdata\": [[1]], \"geo\": \"geo\", \"hoverlabel\": {\"namelength\": 0}, \"hovertemplate\": \"<b>%{hovertext}</b><br><br>Area=Guam<br>size=%{marker.size}<br>Deaths=%{customdata[0]}<br>alpha3=%{location}\", \"hovertext\": [\"Guam\"], \"legendgroup\": \"Guam\", \"locations\": [\"GUM\"], \"marker\": {\"color\": \"#FECB52\", \"size\": [0.749999609375244], \"sizemode\": \"area\", \"sizeref\": 1.4999999999606644}, \"name\": \"Guam\", \"showlegend\": true, \"type\": \"scattergeo\"}, {\"customdata\": [[5]], \"geo\": \"geo\", \"hoverlabel\": {\"namelength\": 0}, \"hovertemplate\": \"<b>%{hovertext}</b><br><br>Area=Bangladesh<br>size=%{marker.size}<br>Deaths=%{customdata[0]}<br>alpha3=%{location}\", \"hovertext\": [\"Bangladesh\"], \"legendgroup\": \"Bangladesh\", \"locations\": [\"BGD\"], \"marker\": {\"color\": \"#636efa\", \"size\": [3.7499511726379278], \"sizemode\": \"area\", \"sizeref\": 1.4999999999606644}, \"name\": \"Bangladesh\", \"showlegend\": true, \"type\": \"scattergeo\"}, {\"customdata\": [[0]], \"geo\": \"geo\", \"hoverlabel\": {\"namelength\": 0}, \"hovertemplate\": \"<b>%{hovertext}</b><br><br>Area=Monaco<br>size=%{marker.size}<br>Deaths=%{customdata[0]}<br>alpha3=%{location}\", \"hovertext\": [\"Monaco\"], \"legendgroup\": \"Monaco\", \"locations\": [\"MCO\"], \"marker\": {\"color\": \"#EF553B\", \"size\": [0.0], \"sizemode\": \"area\", \"sizeref\": 1.4999999999606644}, \"name\": \"Monaco\", \"showlegend\": true, \"type\": \"scattergeo\"}, {\"customdata\": [[0]], \"geo\": \"geo\", \"hoverlabel\": {\"namelength\": 0}, \"hovertemplate\": \"<b>%{hovertext}</b><br><br>Area=Guernsey<br>size=%{marker.size}<br>Deaths=%{customdata[0]}<br>alpha3=%{location}\", \"hovertext\": [\"Guernsey\"], \"legendgroup\": \"Guernsey\", \"locations\": [\"GGY\"], \"marker\": {\"color\": \"#00cc96\", \"size\": [0.0], \"sizemode\": \"area\", \"sizeref\": 1.4999999999606644}, \"name\": \"Guernsey\", \"showlegend\": true, \"type\": \"scattergeo\"}, {\"customdata\": [[1]], \"geo\": \"geo\", \"hoverlabel\": {\"namelength\": 0}, \"hovertemplate\": \"<b>%{hovertext}</b><br><br>Area=Kenya<br>size=%{marker.size}<br>Deaths=%{customdata[0]}<br>alpha3=%{location}\", \"hovertext\": [\"Kenya\"], \"legendgroup\": \"Kenya\", \"locations\": [\"KEN\"], \"marker\": {\"color\": \"#ab63fa\", \"size\": [0.749999609375244], \"sizemode\": \"area\", \"sizeref\": 1.4999999999606644}, \"name\": \"Kenya\", \"showlegend\": true, \"type\": \"scattergeo\"}, {\"customdata\": [[1]], \"geo\": \"geo\", \"hoverlabel\": {\"namelength\": 0}, \"hovertemplate\": \"<b>%{hovertext}</b><br><br>Area=Guatemala<br>size=%{marker.size}<br>Deaths=%{customdata[0]}<br>alpha3=%{location}\", \"hovertext\": [\"Guatemala\"], \"legendgroup\": \"Guatemala\", \"locations\": [\"GTM\"], \"marker\": {\"color\": \"#FFA15A\", \"size\": [0.749999609375244], \"sizemode\": \"area\", \"sizeref\": 1.4999999999606644}, \"name\": \"Guatemala\", \"showlegend\": true, \"type\": \"scattergeo\"}, {\"customdata\": [[0]], \"geo\": \"geo\", \"hoverlabel\": {\"namelength\": 0}, \"hovertemplate\": \"<b>%{hovertext}</b><br><br>Area=French_Polynesia<br>size=%{marker.size}<br>Deaths=%{customdata[0]}<br>alpha3=%{location}\", \"hovertext\": [\"French_Polynesia\"], \"legendgroup\": \"French_Polynesia\", \"locations\": [\"PYF\"], \"marker\": {\"color\": \"#19d3f3\", \"size\": [0.0], \"sizemode\": \"area\", \"sizeref\": 1.4999999999606644}, \"name\": \"French_Polynesia\", \"showlegend\": true, \"type\": \"scattergeo\"}, {\"customdata\": [[1]], \"geo\": \"geo\", \"hoverlabel\": {\"namelength\": 0}, \"hovertemplate\": \"<b>%{hovertext}</b><br><br>Area=Jamaica<br>size=%{marker.size}<br>Deaths=%{customdata[0]}<br>alpha3=%{location}\", \"hovertext\": [\"Jamaica\"], \"legendgroup\": \"Jamaica\", \"locations\": [\"JAM\"], \"marker\": {\"color\": \"#FF6692\", \"size\": [0.749999609375244], \"sizemode\": \"area\", \"sizeref\": 1.4999999999606644}, \"name\": \"Jamaica\", \"showlegend\": true, \"type\": \"scattergeo\"}, {\"customdata\": [[0]], \"geo\": \"geo\", \"hoverlabel\": {\"namelength\": 0}, \"hovertemplate\": \"<b>%{hovertext}</b><br><br>Area=Isle_of_Man<br>size=%{marker.size}<br>Deaths=%{customdata[0]}<br>alpha3=%{location}\", \"hovertext\": [\"Isle_of_Man\"], \"legendgroup\": \"Isle_of_Man\", \"locations\": [\"IMN\"], \"marker\": {\"color\": \"#B6E880\", \"size\": [0.0], \"sizemode\": \"area\", \"sizeref\": 1.4999999999606644}, \"name\": \"Isle_of_Man\", \"showlegend\": true, \"type\": \"scattergeo\"}, {\"customdata\": [[0]], \"geo\": \"geo\", \"hoverlabel\": {\"namelength\": 0}, \"hovertemplate\": \"<b>%{hovertext}</b><br><br>Area=Uganda<br>size=%{marker.size}<br>Deaths=%{customdata[0]}<br>alpha3=%{location}\", \"hovertext\": [\"Uganda\"], \"legendgroup\": \"Uganda\", \"locations\": [\"UGA\"], \"marker\": {\"color\": \"#FF97FF\", \"size\": [0.0], \"sizemode\": \"area\", \"sizeref\": 1.4999999999606644}, \"name\": \"Uganda\", \"showlegend\": true, \"type\": \"scattergeo\"}, {\"customdata\": [[1]], \"geo\": \"geo\", \"hoverlabel\": {\"namelength\": 0}, \"hovertemplate\": \"<b>%{hovertext}</b><br><br>Area=Togo<br>size=%{marker.size}<br>Deaths=%{customdata[0]}<br>alpha3=%{location}\", \"hovertext\": [\"Togo\"], \"legendgroup\": \"Togo\", \"locations\": [\"TGO\"], \"marker\": {\"color\": \"#FECB52\", \"size\": [0.749999609375244], \"sizemode\": \"area\", \"sizeref\": 1.4999999999606644}, \"name\": \"Togo\", \"showlegend\": true, \"type\": \"scattergeo\"}, {\"customdata\": [[0]], \"geo\": \"geo\", \"hoverlabel\": {\"namelength\": 0}, \"hovertemplate\": \"<b>%{hovertext}</b><br><br>Area=Madagascar<br>size=%{marker.size}<br>Deaths=%{customdata[0]}<br>alpha3=%{location}\", \"hovertext\": [\"Madagascar\"], \"legendgroup\": \"Madagascar\", \"locations\": [\"MDG\"], \"marker\": {\"color\": \"#636efa\", \"size\": [0.0], \"sizemode\": \"area\", \"sizeref\": 1.4999999999606644}, \"name\": \"Madagascar\", \"showlegend\": true, \"type\": \"scattergeo\"}, {\"customdata\": [[0]], \"geo\": \"geo\", \"hoverlabel\": {\"namelength\": 0}, \"hovertemplate\": \"<b>%{hovertext}</b><br><br>Area=Zambia<br>size=%{marker.size}<br>Deaths=%{customdata[0]}<br>alpha3=%{location}\", \"hovertext\": [\"Zambia\"], \"legendgroup\": \"Zambia\", \"locations\": [\"ZMB\"], \"marker\": {\"color\": \"#EF553B\", \"size\": [0.0], \"sizemode\": \"area\", \"sizeref\": 1.4999999999606644}, \"name\": \"Zambia\", \"showlegend\": true, \"type\": \"scattergeo\"}, {\"customdata\": [[0]], \"geo\": \"geo\", \"hoverlabel\": {\"namelength\": 0}, \"hovertemplate\": \"<b>%{hovertext}</b><br><br>Area=Aruba<br>size=%{marker.size}<br>Deaths=%{customdata[0]}<br>alpha3=%{location}\", \"hovertext\": [\"Aruba\"], \"legendgroup\": \"Aruba\", \"locations\": [\"ABW\"], \"marker\": {\"color\": \"#00cc96\", \"size\": [0.0], \"sizemode\": \"area\", \"sizeref\": 1.4999999999606644}, \"name\": \"Aruba\", \"showlegend\": true, \"type\": \"scattergeo\"}, {\"customdata\": [[0]], \"geo\": \"geo\", \"hoverlabel\": {\"namelength\": 0}, \"hovertemplate\": \"<b>%{hovertext}</b><br><br>Area=Barbados<br>size=%{marker.size}<br>Deaths=%{customdata[0]}<br>alpha3=%{location}\", \"hovertext\": [\"Barbados\"], \"legendgroup\": \"Barbados\", \"locations\": [\"BRB\"], \"marker\": {\"color\": \"#ab63fa\", \"size\": [0.0], \"sizemode\": \"area\", \"sizeref\": 1.4999999999606644}, \"name\": \"Barbados\", \"showlegend\": true, \"type\": \"scattergeo\"}, {\"customdata\": [[0]], \"geo\": \"geo\", \"hoverlabel\": {\"namelength\": 0}, \"hovertemplate\": \"<b>%{hovertext}</b><br><br>Area=Bermuda<br>size=%{marker.size}<br>Deaths=%{customdata[0]}<br>alpha3=%{location}\", \"hovertext\": [\"Bermuda\"], \"legendgroup\": \"Bermuda\", \"locations\": [\"BMU\"], \"marker\": {\"color\": \"#FFA15A\", \"size\": [0.0], \"sizemode\": \"area\", \"sizeref\": 1.4999999999606644}, \"name\": \"Bermuda\", \"showlegend\": true, \"type\": \"scattergeo\"}, {\"customdata\": [[0]], \"geo\": \"geo\", \"hoverlabel\": {\"namelength\": 0}, \"hovertemplate\": \"<b>%{hovertext}</b><br><br>Area=United_States_Virgin_Islands<br>size=%{marker.size}<br>Deaths=%{customdata[0]}<br>alpha3=%{location}\", \"hovertext\": [\"United_States_Virgin_Islands\"], \"legendgroup\": \"United_States_Virgin_Islands\", \"locations\": [\"VIR\"], \"marker\": {\"color\": \"#19d3f3\", \"size\": [0.0], \"sizemode\": \"area\", \"sizeref\": 1.4999999999606644}, \"name\": \"United_States_Virgin_Islands\", \"showlegend\": true, \"type\": \"scattergeo\"}, {\"customdata\": [[0]], \"geo\": \"geo\", \"hoverlabel\": {\"namelength\": 0}, \"hovertemplate\": \"<b>%{hovertext}</b><br><br>Area=Congo<br>size=%{marker.size}<br>Deaths=%{customdata[0]}<br>alpha3=%{location}\", \"hovertext\": [\"Congo\"], \"legendgroup\": \"Congo\", \"locations\": [\"COG\"], \"marker\": {\"color\": \"#FF6692\", \"size\": [0.0], \"sizemode\": \"area\", \"sizeref\": 1.4999999999606644}, \"name\": \"Congo\", \"showlegend\": true, \"type\": \"scattergeo\"}, {\"customdata\": [[0]], \"geo\": \"geo\", \"hoverlabel\": {\"namelength\": 0}, \"hovertemplate\": \"<b>%{hovertext}</b><br><br>Area=El_Salvador<br>size=%{marker.size}<br>Deaths=%{customdata[0]}<br>alpha3=%{location}\", \"hovertext\": [\"El_Salvador\"], \"legendgroup\": \"El_Salvador\", \"locations\": [\"SLV\"], \"marker\": {\"color\": \"#B6E880\", \"size\": [0.0], \"sizemode\": \"area\", \"sizeref\": 1.4999999999606644}, \"name\": \"El_Salvador\", \"showlegend\": true, \"type\": \"scattergeo\"}, {\"customdata\": [[0]], \"geo\": \"geo\", \"hoverlabel\": {\"namelength\": 0}, \"hovertemplate\": \"<b>%{hovertext}</b><br><br>Area=Ethiopia<br>size=%{marker.size}<br>Deaths=%{customdata[0]}<br>alpha3=%{location}\", \"hovertext\": [\"Ethiopia\"], \"legendgroup\": \"Ethiopia\", \"locations\": [\"ETH\"], \"marker\": {\"color\": \"#FF97FF\", \"size\": [0.0], \"sizemode\": \"area\", \"sizeref\": 1.4999999999606644}, \"name\": \"Ethiopia\", \"showlegend\": true, \"type\": \"scattergeo\"}, {\"customdata\": [[0]], \"geo\": \"geo\", \"hoverlabel\": {\"namelength\": 0}, \"hovertemplate\": \"<b>%{hovertext}</b><br><br>Area=Maldives<br>size=%{marker.size}<br>Deaths=%{customdata[0]}<br>alpha3=%{location}\", \"hovertext\": [\"Maldives\"], \"legendgroup\": \"Maldives\", \"locations\": [\"MDV\"], \"marker\": {\"color\": \"#FECB52\", \"size\": [0.0], \"sizemode\": \"area\", \"sizeref\": 1.4999999999606644}, \"name\": \"Maldives\", \"showlegend\": true, \"type\": \"scattergeo\"}, {\"customdata\": [[0]], \"geo\": \"geo\", \"hoverlabel\": {\"namelength\": 0}, \"hovertemplate\": \"<b>%{hovertext}</b><br><br>Area=Djibouti<br>size=%{marker.size}<br>Deaths=%{customdata[0]}<br>alpha3=%{location}\", \"hovertext\": [\"Djibouti\"], \"legendgroup\": \"Djibouti\", \"locations\": [\"DJI\"], \"marker\": {\"color\": \"#636efa\", \"size\": [0.0], \"sizemode\": \"area\", \"sizeref\": 1.4999999999606644}, \"name\": \"Djibouti\", \"showlegend\": true, \"type\": \"scattergeo\"}, {\"customdata\": [[0]], \"geo\": \"geo\", \"hoverlabel\": {\"namelength\": 0}, \"hovertemplate\": \"<b>%{hovertext}</b><br><br>Area=New_Caledonia<br>size=%{marker.size}<br>Deaths=%{customdata[0]}<br>alpha3=%{location}\", \"hovertext\": [\"New_Caledonia\"], \"legendgroup\": \"New_Caledonia\", \"locations\": [\"NCL\"], \"marker\": {\"color\": \"#EF553B\", \"size\": [0.0], \"sizemode\": \"area\", \"sizeref\": 1.4999999999606644}, \"name\": \"New_Caledonia\", \"showlegend\": true, \"type\": \"scattergeo\"}, {\"customdata\": [[1]], \"geo\": \"geo\", \"hoverlabel\": {\"namelength\": 0}, \"hovertemplate\": \"<b>%{hovertext}</b><br><br>Area=United_Republic_of_Tanzania<br>size=%{marker.size}<br>Deaths=%{customdata[0]}<br>alpha3=%{location}\", \"hovertext\": [\"United_Republic_of_Tanzania\"], \"legendgroup\": \"United_Republic_of_Tanzania\", \"locations\": [\"TZA\"], \"marker\": {\"color\": \"#00cc96\", \"size\": [0.749999609375244], \"sizemode\": \"area\", \"sizeref\": 1.4999999999606644}, \"name\": \"United_Republic_of_Tanzania\", \"showlegend\": true, \"type\": \"scattergeo\"}, {\"customdata\": [[0]], \"geo\": \"geo\", \"hoverlabel\": {\"namelength\": 0}, \"hovertemplate\": \"<b>%{hovertext}</b><br><br>Area=Equatorial_Guinea<br>size=%{marker.size}<br>Deaths=%{customdata[0]}<br>alpha3=%{location}\", \"hovertext\": [\"Equatorial_Guinea\"], \"legendgroup\": \"Equatorial_Guinea\", \"locations\": [\"GNQ\"], \"marker\": {\"color\": \"#ab63fa\", \"size\": [0.0], \"sizemode\": \"area\", \"sizeref\": 1.4999999999606644}, \"name\": \"Equatorial_Guinea\", \"showlegend\": true, \"type\": \"scattergeo\"}, {\"customdata\": [[0]], \"geo\": \"geo\", \"hoverlabel\": {\"namelength\": 0}, \"hovertemplate\": \"<b>%{hovertext}</b><br><br>Area=Mongolia<br>size=%{marker.size}<br>Deaths=%{customdata[0]}<br>alpha3=%{location}\", \"hovertext\": [\"Mongolia\"], \"legendgroup\": \"Mongolia\", \"locations\": [\"MNG\"], \"marker\": {\"color\": \"#FFA15A\", \"size\": [0.0], \"sizemode\": \"area\", \"sizeref\": 1.4999999999606644}, \"name\": \"Mongolia\", \"showlegend\": true, \"type\": \"scattergeo\"}, {\"customdata\": [[0]], \"geo\": \"geo\", \"hoverlabel\": {\"namelength\": 0}, \"hovertemplate\": \"<b>%{hovertext}</b><br><br>Area=Bahamas<br>size=%{marker.size}<br>Deaths=%{customdata[0]}<br>alpha3=%{location}\", \"hovertext\": [\"Bahamas\"], \"legendgroup\": \"Bahamas\", \"locations\": [\"BHS\"], \"marker\": {\"color\": \"#19d3f3\", \"size\": [0.0], \"sizemode\": \"area\", \"sizeref\": 1.4999999999606644}, \"name\": \"Bahamas\", \"showlegend\": true, \"type\": \"scattergeo\"}, {\"customdata\": [[0]], \"geo\": \"geo\", \"hoverlabel\": {\"namelength\": 0}, \"hovertemplate\": \"<b>%{hovertext}</b><br><br>Area=Dominica<br>size=%{marker.size}<br>Deaths=%{customdata[0]}<br>alpha3=%{location}\", \"hovertext\": [\"Dominica\"], \"legendgroup\": \"Dominica\", \"locations\": [\"DMA\"], \"marker\": {\"color\": \"#FF6692\", \"size\": [0.0], \"sizemode\": \"area\", \"sizeref\": 1.4999999999606644}, \"name\": \"Dominica\", \"showlegend\": true, \"type\": \"scattergeo\"}, {\"customdata\": [[0]], \"geo\": \"geo\", \"hoverlabel\": {\"namelength\": 0}, \"hovertemplate\": \"<b>%{hovertext}</b><br><br>Area=Greenland<br>size=%{marker.size}<br>Deaths=%{customdata[0]}<br>alpha3=%{location}\", \"hovertext\": [\"Greenland\"], \"legendgroup\": \"Greenland\", \"locations\": [\"GRL\"], \"marker\": {\"color\": \"#B6E880\", \"size\": [0.0], \"sizemode\": \"area\", \"sizeref\": 1.4999999999606644}, \"name\": \"Greenland\", \"showlegend\": true, \"type\": \"scattergeo\"}, {\"customdata\": [[1]], \"geo\": \"geo\", \"hoverlabel\": {\"namelength\": 0}, \"hovertemplate\": \"<b>%{hovertext}</b><br><br>Area=Niger<br>size=%{marker.size}<br>Deaths=%{customdata[0]}<br>alpha3=%{location}\", \"hovertext\": [\"Niger\"], \"legendgroup\": \"Niger\", \"locations\": [\"NER\"], \"marker\": {\"color\": \"#FF97FF\", \"size\": [0.749999609375244], \"sizemode\": \"area\", \"sizeref\": 1.4999999999606644}, \"name\": \"Niger\", \"showlegend\": true, \"type\": \"scattergeo\"}, {\"customdata\": [[0]], \"geo\": \"geo\", \"hoverlabel\": {\"namelength\": 0}, \"hovertemplate\": \"<b>%{hovertext}</b><br><br>Area=Mali<br>size=%{marker.size}<br>Deaths=%{customdata[0]}<br>alpha3=%{location}\", \"hovertext\": [\"Mali\"], \"legendgroup\": \"Mali\", \"locations\": [\"MLI\"], \"marker\": {\"color\": \"#FECB52\", \"size\": [0.0], \"sizemode\": \"area\", \"sizeref\": 1.4999999999606644}, \"name\": \"Mali\", \"showlegend\": true, \"type\": \"scattergeo\"}, {\"customdata\": [[0]], \"geo\": \"geo\", \"hoverlabel\": {\"namelength\": 0}, \"hovertemplate\": \"<b>%{hovertext}</b><br><br>Area=Grenada<br>size=%{marker.size}<br>Deaths=%{customdata[0]}<br>alpha3=%{location}\", \"hovertext\": [\"Grenada\"], \"legendgroup\": \"Grenada\", \"locations\": [\"GRD\"], \"marker\": {\"color\": \"#636efa\", \"size\": [0.0], \"sizemode\": \"area\", \"sizeref\": 1.4999999999606644}, \"name\": \"Grenada\", \"showlegend\": true, \"type\": \"scattergeo\"}, {\"customdata\": [[0]], \"geo\": \"geo\", \"hoverlabel\": {\"namelength\": 0}, \"hovertemplate\": \"<b>%{hovertext}</b><br><br>Area=Eswatini<br>size=%{marker.size}<br>Deaths=%{customdata[0]}<br>alpha3=%{location}\", \"hovertext\": [\"Eswatini\"], \"legendgroup\": \"Eswatini\", \"locations\": [\"SWZ\"], \"marker\": {\"color\": \"#EF553B\", \"size\": [0.0], \"sizemode\": \"area\", \"sizeref\": 1.4999999999606644}, \"name\": \"Eswatini\", \"showlegend\": true, \"type\": \"scattergeo\"}, {\"customdata\": [[0]], \"geo\": \"geo\", \"hoverlabel\": {\"namelength\": 0}, \"hovertemplate\": \"<b>%{hovertext}</b><br><br>Area=Suriname<br>size=%{marker.size}<br>Deaths=%{customdata[0]}<br>alpha3=%{location}\", \"hovertext\": [\"Suriname\"], \"legendgroup\": \"Suriname\", \"locations\": [\"SUR\"], \"marker\": {\"color\": \"#00cc96\", \"size\": [0.0], \"sizemode\": \"area\", \"sizeref\": 1.4999999999606644}, \"name\": \"Suriname\", \"showlegend\": true, \"type\": \"scattergeo\"}, {\"customdata\": [[1]], \"geo\": \"geo\", \"hoverlabel\": {\"namelength\": 0}, \"hovertemplate\": \"<b>%{hovertext}</b><br><br>Area=Cura\\u00e7ao<br>size=%{marker.size}<br>Deaths=%{customdata[0]}<br>alpha3=%{location}\", \"hovertext\": [\"Cura\\u00e7ao\"], \"legendgroup\": \"Cura\\u00e7ao\", \"locations\": [\"CUW\"], \"marker\": {\"color\": \"#ab63fa\", \"size\": [0.749999609375244], \"sizemode\": \"area\", \"sizeref\": 1.4999999999606644}, \"name\": \"Cura\\u00e7ao\", \"showlegend\": true, \"type\": \"scattergeo\"}, {\"customdata\": [[1]], \"geo\": \"geo\", \"hoverlabel\": {\"namelength\": 0}, \"hovertemplate\": \"<b>%{hovertext}</b><br><br>Area=Cayman_Islands<br>size=%{marker.size}<br>Deaths=%{customdata[0]}<br>alpha3=%{location}\", \"hovertext\": [\"Cayman_Islands\"], \"legendgroup\": \"Cayman_Islands\", \"locations\": [\"CYM\"], \"marker\": {\"color\": \"#FFA15A\", \"size\": [0.749999609375244], \"sizemode\": \"area\", \"sizeref\": 1.4999999999606644}, \"name\": \"Cayman_Islands\", \"showlegend\": true, \"type\": \"scattergeo\"}, {\"customdata\": [[0]], \"geo\": \"geo\", \"hoverlabel\": {\"namelength\": 0}, \"hovertemplate\": \"<b>%{hovertext}</b><br><br>Area=Haiti<br>size=%{marker.size}<br>Deaths=%{customdata[0]}<br>alpha3=%{location}\", \"hovertext\": [\"Haiti\"], \"legendgroup\": \"Haiti\", \"locations\": [\"HTI\"], \"marker\": {\"color\": \"#19d3f3\", \"size\": [0.0], \"sizemode\": \"area\", \"sizeref\": 1.4999999999606644}, \"name\": \"Haiti\", \"showlegend\": true, \"type\": \"scattergeo\"}, {\"customdata\": [[1]], \"geo\": \"geo\", \"hoverlabel\": {\"namelength\": 0}, \"hovertemplate\": \"<b>%{hovertext}</b><br><br>Area=Guyana<br>size=%{marker.size}<br>Deaths=%{customdata[0]}<br>alpha3=%{location}\", \"hovertext\": [\"Guyana\"], \"legendgroup\": \"Guyana\", \"locations\": [\"GUY\"], \"marker\": {\"color\": \"#FF6692\", \"size\": [0.749999609375244], \"sizemode\": \"area\", \"sizeref\": 1.4999999999606644}, \"name\": \"Guyana\", \"showlegend\": true, \"type\": \"scattergeo\"}, {\"customdata\": [[0]], \"geo\": \"geo\", \"hoverlabel\": {\"namelength\": 0}, \"hovertemplate\": \"<b>%{hovertext}</b><br><br>Area=Guinea<br>size=%{marker.size}<br>Deaths=%{customdata[0]}<br>alpha3=%{location}\", \"hovertext\": [\"Guinea\"], \"legendgroup\": \"Guinea\", \"locations\": [\"GIN\"], \"marker\": {\"color\": \"#B6E880\", \"size\": [0.0], \"sizemode\": \"area\", \"sizeref\": 1.4999999999606644}, \"name\": \"Guinea\", \"showlegend\": true, \"type\": \"scattergeo\"}, {\"customdata\": [[0]], \"geo\": \"geo\", \"hoverlabel\": {\"namelength\": 0}, \"hovertemplate\": \"<b>%{hovertext}</b><br><br>Area=Namibia<br>size=%{marker.size}<br>Deaths=%{customdata[0]}<br>alpha3=%{location}\", \"hovertext\": [\"Namibia\"], \"legendgroup\": \"Namibia\", \"locations\": [\"NAM\"], \"marker\": {\"color\": \"#FF97FF\", \"size\": [0.0], \"sizemode\": \"area\", \"sizeref\": 1.4999999999606644}, \"name\": \"Namibia\", \"showlegend\": true, \"type\": \"scattergeo\"}, {\"customdata\": [[0]], \"geo\": \"geo\", \"hoverlabel\": {\"namelength\": 0}, \"hovertemplate\": \"<b>%{hovertext}</b><br><br>Area=Myanmar<br>size=%{marker.size}<br>Deaths=%{customdata[0]}<br>alpha3=%{location}\", \"hovertext\": [\"Myanmar\"], \"legendgroup\": \"Myanmar\", \"locations\": [\"MMR\"], \"marker\": {\"color\": \"#FECB52\", \"size\": [0.0], \"sizemode\": \"area\", \"sizeref\": 1.4999999999606644}, \"name\": \"Myanmar\", \"showlegend\": true, \"type\": \"scattergeo\"}, {\"customdata\": [[0]], \"geo\": \"geo\", \"hoverlabel\": {\"namelength\": 0}, \"hovertemplate\": \"<b>%{hovertext}</b><br><br>Area=Mozambique<br>size=%{marker.size}<br>Deaths=%{customdata[0]}<br>alpha3=%{location}\", \"hovertext\": [\"Mozambique\"], \"legendgroup\": \"Mozambique\", \"locations\": [\"MOZ\"], \"marker\": {\"color\": \"#636efa\", \"size\": [0.0], \"sizemode\": \"area\", \"sizeref\": 1.4999999999606644}, \"name\": \"Mozambique\", \"showlegend\": true, \"type\": \"scattergeo\"}, {\"customdata\": [[0]], \"geo\": \"geo\", \"hoverlabel\": {\"namelength\": 0}, \"hovertemplate\": \"<b>%{hovertext}</b><br><br>Area=Antigua_and_Barbuda<br>size=%{marker.size}<br>Deaths=%{customdata[0]}<br>alpha3=%{location}\", \"hovertext\": [\"Antigua_and_Barbuda\"], \"legendgroup\": \"Antigua_and_Barbuda\", \"locations\": [\"ATG\"], \"marker\": {\"color\": \"#EF553B\", \"size\": [0.0], \"sizemode\": \"area\", \"sizeref\": 1.4999999999606644}, \"name\": \"Antigua_and_Barbuda\", \"showlegend\": true, \"type\": \"scattergeo\"}, {\"customdata\": [[0]], \"geo\": \"geo\", \"hoverlabel\": {\"namelength\": 0}, \"hovertemplate\": \"<b>%{hovertext}</b><br><br>Area=Seychelles<br>size=%{marker.size}<br>Deaths=%{customdata[0]}<br>alpha3=%{location}\", \"hovertext\": [\"Seychelles\"], \"legendgroup\": \"Seychelles\", \"locations\": [\"SYC\"], \"marker\": {\"color\": \"#00cc96\", \"size\": [0.0], \"sizemode\": \"area\", \"sizeref\": 1.4999999999606644}, \"name\": \"Seychelles\", \"showlegend\": true, \"type\": \"scattergeo\"}, {\"customdata\": [[1]], \"geo\": \"geo\", \"hoverlabel\": {\"namelength\": 0}, \"hovertemplate\": \"<b>%{hovertext}</b><br><br>Area=Zimbabwe<br>size=%{marker.size}<br>Deaths=%{customdata[0]}<br>alpha3=%{location}\", \"hovertext\": [\"Zimbabwe\"], \"legendgroup\": \"Zimbabwe\", \"locations\": [\"ZWE\"], \"marker\": {\"color\": \"#ab63fa\", \"size\": [0.749999609375244], \"sizemode\": \"area\", \"sizeref\": 1.4999999999606644}, \"name\": \"Zimbabwe\", \"showlegend\": true, \"type\": \"scattergeo\"}, {\"customdata\": [[1]], \"geo\": \"geo\", \"hoverlabel\": {\"namelength\": 0}, \"hovertemplate\": \"<b>%{hovertext}</b><br><br>Area=Gabon<br>size=%{marker.size}<br>Deaths=%{customdata[0]}<br>alpha3=%{location}\", \"hovertext\": [\"Gabon\"], \"legendgroup\": \"Gabon\", \"locations\": [\"GAB\"], \"marker\": {\"color\": \"#FFA15A\", \"size\": [0.749999609375244], \"sizemode\": \"area\", \"sizeref\": 1.4999999999606644}, \"name\": \"Gabon\", \"showlegend\": true, \"type\": \"scattergeo\"}, {\"customdata\": [[0]], \"geo\": \"geo\", \"hoverlabel\": {\"namelength\": 0}, \"hovertemplate\": \"<b>%{hovertext}</b><br><br>Area=Eritrea<br>size=%{marker.size}<br>Deaths=%{customdata[0]}<br>alpha3=%{location}\", \"hovertext\": [\"Eritrea\"], \"legendgroup\": \"Eritrea\", \"locations\": [\"ERI\"], \"marker\": {\"color\": \"#19d3f3\", \"size\": [0.0], \"sizemode\": \"area\", \"sizeref\": 1.4999999999606644}, \"name\": \"Eritrea\", \"showlegend\": true, \"type\": \"scattergeo\"}, {\"customdata\": [[0]], \"geo\": \"geo\", \"hoverlabel\": {\"namelength\": 0}, \"hovertemplate\": \"<b>%{hovertext}</b><br><br>Area=Benin<br>size=%{marker.size}<br>Deaths=%{customdata[0]}<br>alpha3=%{location}\", \"hovertext\": [\"Benin\"], \"legendgroup\": \"Benin\", \"locations\": [\"BEN\"], \"marker\": {\"color\": \"#FF6692\", \"size\": [0.0], \"sizemode\": \"area\", \"sizeref\": 1.4999999999606644}, \"name\": \"Benin\", \"showlegend\": true, \"type\": \"scattergeo\"}, {\"customdata\": [[0]], \"geo\": \"geo\", \"hoverlabel\": {\"namelength\": 0}, \"hovertemplate\": \"<b>%{hovertext}</b><br><br>Area=Central_African_Republic<br>size=%{marker.size}<br>Deaths=%{customdata[0]}<br>alpha3=%{location}\", \"hovertext\": [\"Central_African_Republic\"], \"legendgroup\": \"Central_African_Republic\", \"locations\": [\"CAF\"], \"marker\": {\"color\": \"#B6E880\", \"size\": [0.0], \"sizemode\": \"area\", \"sizeref\": 1.4999999999606644}, \"name\": \"Central_African_Republic\", \"showlegend\": true, \"type\": \"scattergeo\"}, {\"customdata\": [[1]], \"geo\": \"geo\", \"hoverlabel\": {\"namelength\": 0}, \"hovertemplate\": \"<b>%{hovertext}</b><br><br>Area=Cape_Verde<br>size=%{marker.size}<br>Deaths=%{customdata[0]}<br>alpha3=%{location}\", \"hovertext\": [\"Cape_Verde\"], \"legendgroup\": \"Cape_Verde\", \"locations\": [\"CPV\"], \"marker\": {\"color\": \"#FF97FF\", \"size\": [0.749999609375244], \"sizemode\": \"area\", \"sizeref\": 1.4999999999606644}, \"name\": \"Cape_Verde\", \"showlegend\": true, \"type\": \"scattergeo\"}, {\"customdata\": [[0]], \"geo\": \"geo\", \"hoverlabel\": {\"namelength\": 0}, \"hovertemplate\": \"<b>%{hovertext}</b><br><br>Area=Holy_See<br>size=%{marker.size}<br>Deaths=%{customdata[0]}<br>alpha3=%{location}\", \"hovertext\": [\"Holy_See\"], \"legendgroup\": \"Holy_See\", \"locations\": [\"VAT\"], \"marker\": {\"color\": \"#FECB52\", \"size\": [0.0], \"sizemode\": \"area\", \"sizeref\": 1.4999999999606644}, \"name\": \"Holy_See\", \"showlegend\": true, \"type\": \"scattergeo\"}, {\"customdata\": [[0]], \"geo\": \"geo\", \"hoverlabel\": {\"namelength\": 0}, \"hovertemplate\": \"<b>%{hovertext}</b><br><br>Area=Laos<br>size=%{marker.size}<br>Deaths=%{customdata[0]}<br>alpha3=%{location}\", \"hovertext\": [\"Laos\"], \"legendgroup\": \"Laos\", \"locations\": [\"LAO\"], \"marker\": {\"color\": \"#636efa\", \"size\": [0.0], \"sizemode\": \"area\", \"sizeref\": 1.4999999999606644}, \"name\": \"Laos\", \"showlegend\": true, \"type\": \"scattergeo\"}, {\"customdata\": [[0]], \"geo\": \"geo\", \"hoverlabel\": {\"namelength\": 0}, \"hovertemplate\": \"<b>%{hovertext}</b><br><br>Area=Nepal<br>size=%{marker.size}<br>Deaths=%{customdata[0]}<br>alpha3=%{location}\", \"hovertext\": [\"Nepal\"], \"legendgroup\": \"Nepal\", \"locations\": [\"NPL\"], \"marker\": {\"color\": \"#EF553B\", \"size\": [0.0], \"sizemode\": \"area\", \"sizeref\": 1.4999999999606644}, \"name\": \"Nepal\", \"showlegend\": true, \"type\": \"scattergeo\"}, {\"customdata\": [[0]], \"geo\": \"geo\", \"hoverlabel\": {\"namelength\": 0}, \"hovertemplate\": \"<b>%{hovertext}</b><br><br>Area=Mauritania<br>size=%{marker.size}<br>Deaths=%{customdata[0]}<br>alpha3=%{location}\", \"hovertext\": [\"Mauritania\"], \"legendgroup\": \"Mauritania\", \"locations\": [\"MRT\"], \"marker\": {\"color\": \"#00cc96\", \"size\": [0.0], \"sizemode\": \"area\", \"sizeref\": 1.4999999999606644}, \"name\": \"Mauritania\", \"showlegend\": true, \"type\": \"scattergeo\"}, {\"customdata\": [[0]], \"geo\": \"geo\", \"hoverlabel\": {\"namelength\": 0}, \"hovertemplate\": \"<b>%{hovertext}</b><br><br>Area=Fiji<br>size=%{marker.size}<br>Deaths=%{customdata[0]}<br>alpha3=%{location}\", \"hovertext\": [\"Fiji\"], \"legendgroup\": \"Fiji\", \"locations\": [\"FJI\"], \"marker\": {\"color\": \"#ab63fa\", \"size\": [0.0], \"sizemode\": \"area\", \"sizeref\": 1.4999999999606644}, \"name\": \"Fiji\", \"showlegend\": true, \"type\": \"scattergeo\"}, {\"customdata\": [[0]], \"geo\": \"geo\", \"hoverlabel\": {\"namelength\": 0}, \"hovertemplate\": \"<b>%{hovertext}</b><br><br>Area=Turks_and_Caicos_islands<br>size=%{marker.size}<br>Deaths=%{customdata[0]}<br>alpha3=%{location}\", \"hovertext\": [\"Turks_and_Caicos_islands\"], \"legendgroup\": \"Turks_and_Caicos_islands\", \"locations\": [\"TCA\"], \"marker\": {\"color\": \"#FFA15A\", \"size\": [0.0], \"sizemode\": \"area\", \"sizeref\": 1.4999999999606644}, \"name\": \"Turks_and_Caicos_islands\", \"showlegend\": true, \"type\": \"scattergeo\"}, {\"customdata\": [[0]], \"geo\": \"geo\", \"hoverlabel\": {\"namelength\": 0}, \"hovertemplate\": \"<b>%{hovertext}</b><br><br>Area=Chad<br>size=%{marker.size}<br>Deaths=%{customdata[0]}<br>alpha3=%{location}\", \"hovertext\": [\"Chad\"], \"legendgroup\": \"Chad\", \"locations\": [\"TCD\"], \"marker\": {\"color\": \"#19d3f3\", \"size\": [0.0], \"sizemode\": \"area\", \"sizeref\": 1.4999999999606644}, \"name\": \"Chad\", \"showlegend\": true, \"type\": \"scattergeo\"}, {\"customdata\": [[0]], \"geo\": \"geo\", \"hoverlabel\": {\"namelength\": 0}, \"hovertemplate\": \"<b>%{hovertext}</b><br><br>Area=Montserrat<br>size=%{marker.size}<br>Deaths=%{customdata[0]}<br>alpha3=%{location}\", \"hovertext\": [\"Montserrat\"], \"legendgroup\": \"Montserrat\", \"locations\": [\"MSR\"], \"marker\": {\"color\": \"#FF6692\", \"size\": [0.0], \"sizemode\": \"area\", \"sizeref\": 1.4999999999606644}, \"name\": \"Montserrat\", \"showlegend\": true, \"type\": \"scattergeo\"}, {\"customdata\": [[0]], \"geo\": \"geo\", \"hoverlabel\": {\"namelength\": 0}, \"hovertemplate\": \"<b>%{hovertext}</b><br><br>Area=Syria<br>size=%{marker.size}<br>Deaths=%{customdata[0]}<br>alpha3=%{location}\", \"hovertext\": [\"Syria\"], \"legendgroup\": \"Syria\", \"locations\": [\"SYR\"], \"marker\": {\"color\": \"#B6E880\", \"size\": [0.0], \"sizemode\": \"area\", \"sizeref\": 1.4999999999606644}, \"name\": \"Syria\", \"showlegend\": true, \"type\": \"scattergeo\"}, {\"customdata\": [[1]], \"geo\": \"geo\", \"hoverlabel\": {\"namelength\": 0}, \"hovertemplate\": \"<b>%{hovertext}</b><br><br>Area=Sudan<br>size=%{marker.size}<br>Deaths=%{customdata[0]}<br>alpha3=%{location}\", \"hovertext\": [\"Sudan\"], \"legendgroup\": \"Sudan\", \"locations\": [\"SDN\"], \"marker\": {\"color\": \"#FF97FF\", \"size\": [0.749999609375244], \"sizemode\": \"area\", \"sizeref\": 1.4999999999606644}, \"name\": \"Sudan\", \"showlegend\": true, \"type\": \"scattergeo\"}, {\"customdata\": [[0]], \"geo\": \"geo\", \"hoverlabel\": {\"namelength\": 0}, \"hovertemplate\": \"<b>%{hovertext}</b><br><br>Area=Angola<br>size=%{marker.size}<br>Deaths=%{customdata[0]}<br>alpha3=%{location}\", \"hovertext\": [\"Angola\"], \"legendgroup\": \"Angola\", \"locations\": [\"AGO\"], \"marker\": {\"color\": \"#FECB52\", \"size\": [0.0], \"sizemode\": \"area\", \"sizeref\": 1.4999999999606644}, \"name\": \"Angola\", \"showlegend\": true, \"type\": \"scattergeo\"}, {\"customdata\": [[0]], \"geo\": \"geo\", \"hoverlabel\": {\"namelength\": 0}, \"hovertemplate\": \"<b>%{hovertext}</b><br><br>Area=Bhutan<br>size=%{marker.size}<br>Deaths=%{customdata[0]}<br>alpha3=%{location}\", \"hovertext\": [\"Bhutan\"], \"legendgroup\": \"Bhutan\", \"locations\": [\"BTN\"], \"marker\": {\"color\": \"#636efa\", \"size\": [0.0], \"sizemode\": \"area\", \"sizeref\": 1.4999999999606644}, \"name\": \"Bhutan\", \"showlegend\": true, \"type\": \"scattergeo\"}, {\"customdata\": [[0]], \"geo\": \"geo\", \"hoverlabel\": {\"namelength\": 0}, \"hovertemplate\": \"<b>%{hovertext}</b><br><br>Area=Saint_Lucia<br>size=%{marker.size}<br>Deaths=%{customdata[0]}<br>alpha3=%{location}\", \"hovertext\": [\"Saint_Lucia\"], \"legendgroup\": \"Saint_Lucia\", \"locations\": [\"LCA\"], \"marker\": {\"color\": \"#EF553B\", \"size\": [0.0], \"sizemode\": \"area\", \"sizeref\": 1.4999999999606644}, \"name\": \"Saint_Lucia\", \"showlegend\": true, \"type\": \"scattergeo\"}, {\"customdata\": [[0]], \"geo\": \"geo\", \"hoverlabel\": {\"namelength\": 0}, \"hovertemplate\": \"<b>%{hovertext}</b><br><br>Area=Liberia<br>size=%{marker.size}<br>Deaths=%{customdata[0]}<br>alpha3=%{location}\", \"hovertext\": [\"Liberia\"], \"legendgroup\": \"Liberia\", \"locations\": [\"LBR\"], \"marker\": {\"color\": \"#00cc96\", \"size\": [0.0], \"sizemode\": \"area\", \"sizeref\": 1.4999999999606644}, \"name\": \"Liberia\", \"showlegend\": true, \"type\": \"scattergeo\"}, {\"customdata\": [[0]], \"geo\": \"geo\", \"hoverlabel\": {\"namelength\": 0}, \"hovertemplate\": \"<b>%{hovertext}</b><br><br>Area=Somalia<br>size=%{marker.size}<br>Deaths=%{customdata[0]}<br>alpha3=%{location}\", \"hovertext\": [\"Somalia\"], \"legendgroup\": \"Somalia\", \"locations\": [\"SOM\"], \"marker\": {\"color\": \"#ab63fa\", \"size\": [0.0], \"sizemode\": \"area\", \"sizeref\": 1.4999999999606644}, \"name\": \"Somalia\", \"showlegend\": true, \"type\": \"scattergeo\"}, {\"customdata\": [[1]], \"geo\": \"geo\", \"hoverlabel\": {\"namelength\": 0}, \"hovertemplate\": \"<b>%{hovertext}</b><br><br>Area=Gambia<br>size=%{marker.size}<br>Deaths=%{customdata[0]}<br>alpha3=%{location}\", \"hovertext\": [\"Gambia\"], \"legendgroup\": \"Gambia\", \"locations\": [\"GMB\"], \"marker\": {\"color\": \"#FFA15A\", \"size\": [0.749999609375244], \"sizemode\": \"area\", \"sizeref\": 1.4999999999606644}, \"name\": \"Gambia\", \"showlegend\": true, \"type\": \"scattergeo\"}, {\"customdata\": [[1]], \"geo\": \"geo\", \"hoverlabel\": {\"namelength\": 0}, \"hovertemplate\": \"<b>%{hovertext}</b><br><br>Area=Nicaragua<br>size=%{marker.size}<br>Deaths=%{customdata[0]}<br>alpha3=%{location}\", \"hovertext\": [\"Nicaragua\"], \"legendgroup\": \"Nicaragua\", \"locations\": [\"NIC\"], \"marker\": {\"color\": \"#19d3f3\", \"size\": [0.749999609375244], \"sizemode\": \"area\", \"sizeref\": 1.4999999999606644}, \"name\": \"Nicaragua\", \"showlegend\": true, \"type\": \"scattergeo\"}, {\"customdata\": [[0]], \"geo\": \"geo\", \"hoverlabel\": {\"namelength\": 0}, \"hovertemplate\": \"<b>%{hovertext}</b><br><br>Area=Sint_Maarten<br>size=%{marker.size}<br>Deaths=%{customdata[0]}<br>alpha3=%{location}\", \"hovertext\": [\"Sint_Maarten\"], \"legendgroup\": \"Sint_Maarten\", \"locations\": [\"SXM\"], \"marker\": {\"color\": \"#FF6692\", \"size\": [0.0], \"sizemode\": \"area\", \"sizeref\": 1.4999999999606644}, \"name\": \"Sint_Maarten\", \"showlegend\": true, \"type\": \"scattergeo\"}, {\"customdata\": [[0]], \"geo\": \"geo\", \"hoverlabel\": {\"namelength\": 0}, \"hovertemplate\": \"<b>%{hovertext}</b><br><br>Area=British_Virgin_Islands<br>size=%{marker.size}<br>Deaths=%{customdata[0]}<br>alpha3=%{location}\", \"hovertext\": [\"British_Virgin_Islands\"], \"legendgroup\": \"British_Virgin_Islands\", \"locations\": [\"VGB\"], \"marker\": {\"color\": \"#B6E880\", \"size\": [0.0], \"sizemode\": \"area\", \"sizeref\": 1.4999999999606644}, \"name\": \"British_Virgin_Islands\", \"showlegend\": true, \"type\": \"scattergeo\"}, {\"customdata\": [[0]], \"geo\": \"geo\", \"hoverlabel\": {\"namelength\": 0}, \"hovertemplate\": \"<b>%{hovertext}</b><br><br>Area=Belize<br>size=%{marker.size}<br>Deaths=%{customdata[0]}<br>alpha3=%{location}\", \"hovertext\": [\"Belize\"], \"legendgroup\": \"Belize\", \"locations\": [\"BLZ\"], \"marker\": {\"color\": \"#FF97FF\", \"size\": [0.0], \"sizemode\": \"area\", \"sizeref\": 1.4999999999606644}, \"name\": \"Belize\", \"showlegend\": true, \"type\": \"scattergeo\"}, {\"customdata\": [[0]], \"geo\": \"geo\", \"hoverlabel\": {\"namelength\": 0}, \"hovertemplate\": \"<b>%{hovertext}</b><br><br>Area=Saint_Kitts_and_Nevis<br>size=%{marker.size}<br>Deaths=%{customdata[0]}<br>alpha3=%{location}\", \"hovertext\": [\"Saint_Kitts_and_Nevis\"], \"legendgroup\": \"Saint_Kitts_and_Nevis\", \"locations\": [\"KNA\"], \"marker\": {\"color\": \"#FECB52\", \"size\": [0.0], \"sizemode\": \"area\", \"sizeref\": 1.4999999999606644}, \"name\": \"Saint_Kitts_and_Nevis\", \"showlegend\": true, \"type\": \"scattergeo\"}, {\"customdata\": [[0]], \"geo\": \"geo\", \"hoverlabel\": {\"namelength\": 0}, \"hovertemplate\": \"<b>%{hovertext}</b><br><br>Area=Guinea_Bissau<br>size=%{marker.size}<br>Deaths=%{customdata[0]}<br>alpha3=%{location}\", \"hovertext\": [\"Guinea_Bissau\"], \"legendgroup\": \"Guinea_Bissau\", \"locations\": [\"GNB\"], \"marker\": {\"color\": \"#636efa\", \"size\": [0.0], \"sizemode\": \"area\", \"sizeref\": 1.4999999999606644}, \"name\": \"Guinea_Bissau\", \"showlegend\": true, \"type\": \"scattergeo\"}, {\"customdata\": [[0]], \"geo\": \"geo\", \"hoverlabel\": {\"namelength\": 0}, \"hovertemplate\": \"<b>%{hovertext}</b><br><br>Area=Anguilla<br>size=%{marker.size}<br>Deaths=%{customdata[0]}<br>alpha3=%{location}\", \"hovertext\": [\"Anguilla\"], \"legendgroup\": \"Anguilla\", \"locations\": [null], \"marker\": {\"color\": \"#EF553B\", \"size\": [0.0], \"sizemode\": \"area\", \"sizeref\": 1.4999999999606644}, \"name\": \"Anguilla\", \"showlegend\": true, \"type\": \"scattergeo\"}, {\"customdata\": [[0]], \"geo\": \"geo\", \"hoverlabel\": {\"namelength\": 0}, \"hovertemplate\": \"<b>%{hovertext}</b><br><br>Area=Libya<br>size=%{marker.size}<br>Deaths=%{customdata[0]}<br>alpha3=%{location}\", \"hovertext\": [\"Libya\"], \"legendgroup\": \"Libya\", \"locations\": [\"LBY\"], \"marker\": {\"color\": \"#00cc96\", \"size\": [0.0], \"sizemode\": \"area\", \"sizeref\": 1.4999999999606644}, \"name\": \"Libya\", \"showlegend\": true, \"type\": \"scattergeo\"}, {\"customdata\": [[0]], \"geo\": \"geo\", \"hoverlabel\": {\"namelength\": 0}, \"hovertemplate\": \"<b>%{hovertext}</b><br><br>Area=Timor_Leste<br>size=%{marker.size}<br>Deaths=%{customdata[0]}<br>alpha3=%{location}\", \"hovertext\": [\"Timor_Leste\"], \"legendgroup\": \"Timor_Leste\", \"locations\": [\"TLS\"], \"marker\": {\"color\": \"#ab63fa\", \"size\": [0.0], \"sizemode\": \"area\", \"sizeref\": 1.4999999999606644}, \"name\": \"Timor_Leste\", \"showlegend\": true, \"type\": \"scattergeo\"}, {\"customdata\": [[0]], \"geo\": \"geo\", \"hoverlabel\": {\"namelength\": 0}, \"hovertemplate\": \"<b>%{hovertext}</b><br><br>Area=Papua_New_Guinea<br>size=%{marker.size}<br>Deaths=%{customdata[0]}<br>alpha3=%{location}\", \"hovertext\": [\"Papua_New_Guinea\"], \"legendgroup\": \"Papua_New_Guinea\", \"locations\": [\"PNG\"], \"marker\": {\"color\": \"#FFA15A\", \"size\": [0.0], \"sizemode\": \"area\", \"sizeref\": 1.4999999999606644}, \"name\": \"Papua_New_Guinea\", \"showlegend\": true, \"type\": \"scattergeo\"}, {\"customdata\": [[0]], \"geo\": \"geo\", \"hoverlabel\": {\"namelength\": 0}, \"hovertemplate\": \"<b>%{hovertext}</b><br><br>Area=Saint_Vincent_and_the_Grenadines<br>size=%{marker.size}<br>Deaths=%{customdata[0]}<br>alpha3=%{location}\", \"hovertext\": [\"Saint_Vincent_and_the_Grenadines\"], \"legendgroup\": \"Saint_Vincent_and_the_Grenadines\", \"locations\": [\"VCT\"], \"marker\": {\"color\": \"#19d3f3\", \"size\": [0.0], \"sizemode\": \"area\", \"sizeref\": 1.4999999999606644}, \"name\": \"Saint_Vincent_and_the_Grenadines\", \"showlegend\": true, \"type\": \"scattergeo\"}],\n",
       "                        {\"geo\": {\"center\": {}, \"domain\": {\"x\": [0.0, 1.0], \"y\": [0.0, 1.0]}, \"projection\": {\"type\": \"natural earth\"}}, \"legend\": {\"itemsizing\": \"constant\", \"title\": {\"text\": \"Area\"}, \"tracegroupgap\": 0}, \"margin\": {\"t\": 60}, \"template\": {\"data\": {\"bar\": [{\"error_x\": {\"color\": \"#2a3f5f\"}, \"error_y\": {\"color\": \"#2a3f5f\"}, \"marker\": {\"line\": {\"color\": \"#E5ECF6\", \"width\": 0.5}}, \"type\": \"bar\"}], \"barpolar\": [{\"marker\": {\"line\": {\"color\": \"#E5ECF6\", \"width\": 0.5}}, \"type\": \"barpolar\"}], \"carpet\": [{\"aaxis\": {\"endlinecolor\": \"#2a3f5f\", \"gridcolor\": \"white\", \"linecolor\": \"white\", \"minorgridcolor\": \"white\", \"startlinecolor\": \"#2a3f5f\"}, \"baxis\": {\"endlinecolor\": \"#2a3f5f\", \"gridcolor\": \"white\", \"linecolor\": \"white\", \"minorgridcolor\": \"white\", \"startlinecolor\": \"#2a3f5f\"}, \"type\": \"carpet\"}], \"choropleth\": [{\"colorbar\": {\"outlinewidth\": 0, \"ticks\": \"\"}, \"type\": \"choropleth\"}], \"contour\": [{\"colorbar\": {\"outlinewidth\": 0, \"ticks\": \"\"}, \"colorscale\": [[0.0, \"#0d0887\"], [0.1111111111111111, \"#46039f\"], [0.2222222222222222, \"#7201a8\"], [0.3333333333333333, \"#9c179e\"], [0.4444444444444444, \"#bd3786\"], [0.5555555555555556, \"#d8576b\"], [0.6666666666666666, \"#ed7953\"], [0.7777777777777778, \"#fb9f3a\"], [0.8888888888888888, \"#fdca26\"], [1.0, \"#f0f921\"]], \"type\": \"contour\"}], \"contourcarpet\": [{\"colorbar\": {\"outlinewidth\": 0, \"ticks\": \"\"}, \"type\": \"contourcarpet\"}], \"heatmap\": [{\"colorbar\": {\"outlinewidth\": 0, \"ticks\": \"\"}, \"colorscale\": [[0.0, \"#0d0887\"], [0.1111111111111111, \"#46039f\"], [0.2222222222222222, \"#7201a8\"], [0.3333333333333333, \"#9c179e\"], [0.4444444444444444, \"#bd3786\"], [0.5555555555555556, \"#d8576b\"], [0.6666666666666666, \"#ed7953\"], [0.7777777777777778, \"#fb9f3a\"], [0.8888888888888888, \"#fdca26\"], [1.0, \"#f0f921\"]], \"type\": \"heatmap\"}], \"heatmapgl\": [{\"colorbar\": {\"outlinewidth\": 0, \"ticks\": \"\"}, \"colorscale\": [[0.0, \"#0d0887\"], [0.1111111111111111, \"#46039f\"], [0.2222222222222222, \"#7201a8\"], [0.3333333333333333, \"#9c179e\"], [0.4444444444444444, \"#bd3786\"], [0.5555555555555556, \"#d8576b\"], [0.6666666666666666, \"#ed7953\"], [0.7777777777777778, \"#fb9f3a\"], [0.8888888888888888, \"#fdca26\"], [1.0, \"#f0f921\"]], \"type\": \"heatmapgl\"}], \"histogram\": [{\"marker\": {\"colorbar\": {\"outlinewidth\": 0, \"ticks\": \"\"}}, \"type\": \"histogram\"}], \"histogram2d\": [{\"colorbar\": {\"outlinewidth\": 0, \"ticks\": \"\"}, \"colorscale\": [[0.0, \"#0d0887\"], [0.1111111111111111, \"#46039f\"], [0.2222222222222222, \"#7201a8\"], [0.3333333333333333, \"#9c179e\"], [0.4444444444444444, \"#bd3786\"], [0.5555555555555556, \"#d8576b\"], [0.6666666666666666, \"#ed7953\"], [0.7777777777777778, \"#fb9f3a\"], [0.8888888888888888, \"#fdca26\"], [1.0, \"#f0f921\"]], \"type\": \"histogram2d\"}], \"histogram2dcontour\": [{\"colorbar\": {\"outlinewidth\": 0, \"ticks\": \"\"}, \"colorscale\": [[0.0, \"#0d0887\"], [0.1111111111111111, \"#46039f\"], [0.2222222222222222, \"#7201a8\"], [0.3333333333333333, \"#9c179e\"], [0.4444444444444444, \"#bd3786\"], [0.5555555555555556, \"#d8576b\"], [0.6666666666666666, \"#ed7953\"], [0.7777777777777778, \"#fb9f3a\"], [0.8888888888888888, \"#fdca26\"], [1.0, \"#f0f921\"]], \"type\": \"histogram2dcontour\"}], \"mesh3d\": [{\"colorbar\": {\"outlinewidth\": 0, \"ticks\": \"\"}, \"type\": \"mesh3d\"}], \"parcoords\": [{\"line\": {\"colorbar\": {\"outlinewidth\": 0, \"ticks\": \"\"}}, \"type\": \"parcoords\"}], \"pie\": [{\"automargin\": true, \"type\": \"pie\"}], \"scatter\": [{\"marker\": {\"colorbar\": {\"outlinewidth\": 0, \"ticks\": \"\"}}, \"type\": \"scatter\"}], \"scatter3d\": [{\"line\": {\"colorbar\": {\"outlinewidth\": 0, \"ticks\": \"\"}}, \"marker\": {\"colorbar\": {\"outlinewidth\": 0, \"ticks\": \"\"}}, \"type\": \"scatter3d\"}], \"scattercarpet\": [{\"marker\": {\"colorbar\": {\"outlinewidth\": 0, \"ticks\": \"\"}}, \"type\": \"scattercarpet\"}], \"scattergeo\": [{\"marker\": {\"colorbar\": {\"outlinewidth\": 0, \"ticks\": \"\"}}, \"type\": \"scattergeo\"}], \"scattergl\": [{\"marker\": {\"colorbar\": {\"outlinewidth\": 0, \"ticks\": \"\"}}, \"type\": \"scattergl\"}], \"scattermapbox\": [{\"marker\": {\"colorbar\": {\"outlinewidth\": 0, \"ticks\": \"\"}}, \"type\": \"scattermapbox\"}], \"scatterpolar\": [{\"marker\": {\"colorbar\": {\"outlinewidth\": 0, \"ticks\": \"\"}}, \"type\": \"scatterpolar\"}], \"scatterpolargl\": [{\"marker\": {\"colorbar\": {\"outlinewidth\": 0, \"ticks\": \"\"}}, \"type\": \"scatterpolargl\"}], \"scatterternary\": [{\"marker\": {\"colorbar\": {\"outlinewidth\": 0, \"ticks\": \"\"}}, \"type\": \"scatterternary\"}], \"surface\": [{\"colorbar\": {\"outlinewidth\": 0, \"ticks\": \"\"}, \"colorscale\": [[0.0, \"#0d0887\"], [0.1111111111111111, \"#46039f\"], [0.2222222222222222, \"#7201a8\"], [0.3333333333333333, \"#9c179e\"], [0.4444444444444444, \"#bd3786\"], [0.5555555555555556, \"#d8576b\"], [0.6666666666666666, \"#ed7953\"], [0.7777777777777778, \"#fb9f3a\"], [0.8888888888888888, \"#fdca26\"], [1.0, \"#f0f921\"]], \"type\": \"surface\"}], \"table\": [{\"cells\": {\"fill\": {\"color\": \"#EBF0F8\"}, \"line\": {\"color\": \"white\"}}, \"header\": {\"fill\": {\"color\": \"#C8D4E3\"}, \"line\": {\"color\": \"white\"}}, \"type\": \"table\"}]}, \"layout\": {\"annotationdefaults\": {\"arrowcolor\": \"#2a3f5f\", \"arrowhead\": 0, \"arrowwidth\": 1}, \"coloraxis\": {\"colorbar\": {\"outlinewidth\": 0, \"ticks\": \"\"}}, \"colorscale\": {\"diverging\": [[0, \"#8e0152\"], [0.1, \"#c51b7d\"], [0.2, \"#de77ae\"], [0.3, \"#f1b6da\"], [0.4, \"#fde0ef\"], [0.5, \"#f7f7f7\"], [0.6, \"#e6f5d0\"], [0.7, \"#b8e186\"], [0.8, \"#7fbc41\"], [0.9, \"#4d9221\"], [1, \"#276419\"]], \"sequential\": [[0.0, \"#0d0887\"], [0.1111111111111111, \"#46039f\"], [0.2222222222222222, \"#7201a8\"], [0.3333333333333333, \"#9c179e\"], [0.4444444444444444, \"#bd3786\"], [0.5555555555555556, \"#d8576b\"], [0.6666666666666666, \"#ed7953\"], [0.7777777777777778, \"#fb9f3a\"], [0.8888888888888888, \"#fdca26\"], [1.0, \"#f0f921\"]], \"sequentialminus\": [[0.0, \"#0d0887\"], [0.1111111111111111, \"#46039f\"], [0.2222222222222222, \"#7201a8\"], [0.3333333333333333, \"#9c179e\"], [0.4444444444444444, \"#bd3786\"], [0.5555555555555556, \"#d8576b\"], [0.6666666666666666, \"#ed7953\"], [0.7777777777777778, \"#fb9f3a\"], [0.8888888888888888, \"#fdca26\"], [1.0, \"#f0f921\"]]}, \"colorway\": [\"#636efa\", \"#EF553B\", \"#00cc96\", \"#ab63fa\", \"#FFA15A\", \"#19d3f3\", \"#FF6692\", \"#B6E880\", \"#FF97FF\", \"#FECB52\"], \"font\": {\"color\": \"#2a3f5f\"}, \"geo\": {\"bgcolor\": \"white\", \"lakecolor\": \"white\", \"landcolor\": \"#E5ECF6\", \"showlakes\": true, \"showland\": true, \"subunitcolor\": \"white\"}, \"hoverlabel\": {\"align\": \"left\"}, \"hovermode\": \"closest\", \"mapbox\": {\"style\": \"light\"}, \"paper_bgcolor\": \"white\", \"plot_bgcolor\": \"#E5ECF6\", \"polar\": {\"angularaxis\": {\"gridcolor\": \"white\", \"linecolor\": \"white\", \"ticks\": \"\"}, \"bgcolor\": \"#E5ECF6\", \"radialaxis\": {\"gridcolor\": \"white\", \"linecolor\": \"white\", \"ticks\": \"\"}}, \"scene\": {\"xaxis\": {\"backgroundcolor\": \"#E5ECF6\", \"gridcolor\": \"white\", \"gridwidth\": 2, \"linecolor\": \"white\", \"showbackground\": true, \"ticks\": \"\", \"zerolinecolor\": \"white\"}, \"yaxis\": {\"backgroundcolor\": \"#E5ECF6\", \"gridcolor\": \"white\", \"gridwidth\": 2, \"linecolor\": \"white\", \"showbackground\": true, \"ticks\": \"\", \"zerolinecolor\": \"white\"}, \"zaxis\": {\"backgroundcolor\": \"#E5ECF6\", \"gridcolor\": \"white\", \"gridwidth\": 2, \"linecolor\": \"white\", \"showbackground\": true, \"ticks\": \"\", \"zerolinecolor\": \"white\"}}, \"shapedefaults\": {\"line\": {\"color\": \"#2a3f5f\"}}, \"ternary\": {\"aaxis\": {\"gridcolor\": \"white\", \"linecolor\": \"white\", \"ticks\": \"\"}, \"baxis\": {\"gridcolor\": \"white\", \"linecolor\": \"white\", \"ticks\": \"\"}, \"bgcolor\": \"#E5ECF6\", \"caxis\": {\"gridcolor\": \"white\", \"linecolor\": \"white\", \"ticks\": \"\"}}, \"title\": {\"x\": 0.05}, \"xaxis\": {\"automargin\": true, \"gridcolor\": \"white\", \"linecolor\": \"white\", \"ticks\": \"\", \"title\": {\"standoff\": 15}, \"zerolinecolor\": \"white\", \"zerolinewidth\": 2}, \"yaxis\": {\"automargin\": true, \"gridcolor\": \"white\", \"linecolor\": \"white\", \"ticks\": \"\", \"title\": {\"standoff\": 15}, \"zerolinecolor\": \"white\", \"zerolinewidth\": 2}}}},\n",
       "                        {\"responsive\": true}\n",
       "                    ).then(function(){\n",
       "                            \n",
       "var gd = document.getElementById('14d1e55c-41cc-4c0c-8fa1-9585a1ccbe37');\n",
       "var x = new MutationObserver(function (mutations, observer) {{\n",
       "        var display = window.getComputedStyle(gd).display;\n",
       "        if (!display || display === 'none') {{\n",
       "            console.log([gd, 'removed!']);\n",
       "            Plotly.purge(gd);\n",
       "            observer.disconnect();\n",
       "        }}\n",
       "}});\n",
       "\n",
       "// Listen for the removal of the full notebook cells\n",
       "var notebookContainer = gd.closest('#notebook-container');\n",
       "if (notebookContainer) {{\n",
       "    x.observe(notebookContainer, {childList: true});\n",
       "}}\n",
       "\n",
       "// Listen for the clearing of the current output cell\n",
       "var outputEl = gd.closest('.output');\n",
       "if (outputEl) {{\n",
       "    x.observe(outputEl, {childList: true});\n",
       "}}\n",
       "\n",
       "                        })\n",
       "                };\n",
       "                });\n",
       "            </script>\n",
       "        </div>"
      ]
     },
     "metadata": {},
     "output_type": "display_data"
    }
   ],
   "source": [
    "import plotly.express as px\n",
    "\n",
    "fig = px.scatter_geo(data, locations=\"alpha3\",color='Area',\n",
    "                     hover_name=\"Area\", size=y, hover_data=[\"Deaths\"],\n",
    "                     projection=\"natural earth\")\n",
    "fig.show()"
   ]
  },
  {
   "cell_type": "code",
   "execution_count": 67,
   "metadata": {},
   "outputs": [
    {
     "data": {
      "application/vnd.plotly.v1+json": {
       "config": {
        "plotlyServerURL": "https://plot.ly"
       },
       "data": [
        {
         "customdata": [
          [
           124665
          ]
         ],
         "geo": "geo",
         "hoverlabel": {
          "namelength": 0
         },
         "hovertemplate": "<b>%{hovertext}</b><br><br>Area=United_States_of_America<br>size=%{marker.size}<br>Cases=%{customdata[0]}<br>alpha3=%{location}",
         "hovertext": [
          "United_States_of_America"
         ],
         "legendgroup": "United_States_of_America",
         "locations": [
          "USA"
         ],
         "marker": {
          "color": "#636efa",
          "size": [
           599.9953756849571
          ],
          "sizemode": "area",
          "sizeref": 1.4999884392123928
         },
         "name": "United_States_of_America",
         "showlegend": true,
         "type": "scattergeo"
        },
        {
         "customdata": [
          [
           92472
          ]
         ],
         "geo": "geo",
         "hoverlabel": {
          "namelength": 0
         },
         "hovertemplate": "<b>%{hovertext}</b><br><br>Area=Italy<br>size=%{marker.size}<br>Cases=%{customdata[0]}<br>alpha3=%{location}",
         "hovertext": [
          "Italy"
         ],
         "legendgroup": "Italy",
         "locations": [
          "ITA"
         ],
         "marker": {
          "color": "#EF553B",
          "size": [
           599.8843537759591
          ],
          "sizemode": "area",
          "sizeref": 1.4999884392123928
         },
         "name": "Italy",
         "showlegend": true,
         "type": "scattergeo"
        },
        {
         "customdata": [
          [
           82342
          ]
         ],
         "geo": "geo",
         "hoverlabel": {
          "namelength": 0
         },
         "hovertemplate": "<b>%{hovertext}</b><br><br>Area=China<br>size=%{marker.size}<br>Cases=%{customdata[0]}<br>alpha3=%{location}",
         "hovertext": [
          "China"
         ],
         "legendgroup": "China",
         "locations": [
          "CHN"
         ],
         "marker": {
          "color": "#00cc96",
          "size": [
           599.6815814441325
          ],
          "sizemode": "area",
          "sizeref": 1.4999884392123928
         },
         "name": "China",
         "showlegend": true,
         "type": "scattergeo"
        },
        {
         "customdata": [
          [
           72248
          ]
         ],
         "geo": "geo",
         "hoverlabel": {
          "namelength": 0
         },
         "hovertemplate": "<b>%{hovertext}</b><br><br>Area=Spain<br>size=%{marker.size}<br>Cases=%{customdata[0]}<br>alpha3=%{location}",
         "hovertext": [
          "Spain"
         ],
         "legendgroup": "Spain",
         "locations": [
          "ESP"
         ],
         "marker": {
          "color": "#ab63fa",
          "size": [
           599.1266782176747
          ],
          "sizemode": "area",
          "sizeref": 1.4999884392123928
         },
         "name": "Spain",
         "showlegend": true,
         "type": "scattergeo"
        },
        {
         "customdata": [
          [
           52547
          ]
         ],
         "geo": "geo",
         "hoverlabel": {
          "namelength": 0
         },
         "hovertemplate": "<b>%{hovertext}</b><br><br>Area=Germany<br>size=%{marker.size}<br>Cases=%{customdata[0]}<br>alpha3=%{location}",
         "hovertext": [
          "Germany"
         ],
         "legendgroup": "Germany",
         "locations": [
          "DEU"
         ],
         "marker": {
          "color": "#FFA15A",
          "size": [
           593.7650689848018
          ],
          "sizemode": "area",
          "sizeref": 1.4999884392123928
         },
         "name": "Germany",
         "showlegend": true,
         "type": "scattergeo"
        },
        {
         "customdata": [
          [
           37575
          ]
         ],
         "geo": "geo",
         "hoverlabel": {
          "namelength": 0
         },
         "hovertemplate": "<b>%{hovertext}</b><br><br>Area=France<br>size=%{marker.size}<br>Cases=%{customdata[0]}<br>alpha3=%{location}",
         "hovertext": [
          "France"
         ],
         "legendgroup": "France",
         "locations": [
          "FRA"
         ],
         "marker": {
          "color": "#19d3f3",
          "size": [
           572.6284795887824
          ],
          "sizemode": "area",
          "sizeref": 1.4999884392123928
         },
         "name": "France",
         "showlegend": true,
         "type": "scattergeo"
        },
        {
         "customdata": [
          [
           35408
          ]
         ],
         "geo": "geo",
         "hoverlabel": {
          "namelength": 0
         },
         "hovertemplate": "<b>%{hovertext}</b><br><br>Area=Iran<br>size=%{marker.size}<br>Cases=%{customdata[0]}<br>alpha3=%{location}",
         "hovertext": [
          "Iran"
         ],
         "legendgroup": "Iran",
         "locations": [
          "IRN"
         ],
         "marker": {
          "color": "#FF6692",
          "size": [
           566.1919488109367
          ],
          "sizemode": "area",
          "sizeref": 1.4999884392123928
         },
         "name": "Iran",
         "showlegend": true,
         "type": "scattergeo"
        },
        {
         "customdata": [
          [
           17089
          ]
         ],
         "geo": "geo",
         "hoverlabel": {
          "namelength": 0
         },
         "hovertemplate": "<b>%{hovertext}</b><br><br>Area=United_Kingdom<br>size=%{marker.size}<br>Cases=%{customdata[0]}<br>alpha3=%{location}",
         "hovertext": [
          "United_Kingdom"
         ],
         "legendgroup": "United_Kingdom",
         "locations": [
          "GBR"
         ],
         "marker": {
          "color": "#B6E880",
          "size": [
           416.0322656928371
          ],
          "sizemode": "area",
          "sizeref": 1.4999884392123928
         },
         "name": "United_Kingdom",
         "showlegend": true,
         "type": "scattergeo"
        },
        {
         "customdata": [
          [
           13152
          ]
         ],
         "geo": "geo",
         "hoverlabel": {
          "namelength": 0
         },
         "hovertemplate": "<b>%{hovertext}</b><br><br>Area=Switzerland<br>size=%{marker.size}<br>Cases=%{customdata[0]}<br>alpha3=%{location}",
         "hovertext": [
          "Switzerland"
         ],
         "legendgroup": "Switzerland",
         "locations": [
          "CHE"
         ],
         "marker": {
          "color": "#FF97FF",
          "size": [
           346.05840371598555
          ],
          "sizemode": "area",
          "sizeref": 1.4999884392123928
         },
         "name": "Switzerland",
         "showlegend": true,
         "type": "scattergeo"
        },
        {
         "customdata": [
          [
           9762
          ]
         ],
         "geo": "geo",
         "hoverlabel": {
          "namelength": 0
         },
         "hovertemplate": "<b>%{hovertext}</b><br><br>Area=Netherlands<br>size=%{marker.size}<br>Cases=%{customdata[0]}<br>alpha3=%{location}",
         "hovertext": [
          "Netherlands"
         ],
         "legendgroup": "Netherlands",
         "locations": [
          "NLD"
         ],
         "marker": {
          "color": "#FECB52",
          "size": [
           271.62427549702244
          ],
          "sizemode": "area",
          "sizeref": 1.4999884392123928
         },
         "name": "Netherlands",
         "showlegend": true,
         "type": "scattergeo"
        },
        {
         "customdata": [
          [
           9583
          ]
         ],
         "geo": "geo",
         "hoverlabel": {
          "namelength": 0
         },
         "hovertemplate": "<b>%{hovertext}</b><br><br>Area=South_Korea<br>size=%{marker.size}<br>Cases=%{customdata[0]}<br>alpha3=%{location}",
         "hovertext": [
          "South_Korea"
         ],
         "legendgroup": "South_Korea",
         "locations": [
          "KOR"
         ],
         "marker": {
          "color": "#636efa",
          "size": [
           267.3375692774306
          ],
          "sizemode": "area",
          "sizeref": 1.4999884392123928
         },
         "name": "South_Korea",
         "showlegend": true,
         "type": "scattergeo"
        },
        {
         "customdata": [
          [
           9134
          ]
         ],
         "geo": "geo",
         "hoverlabel": {
          "namelength": 0
         },
         "hovertemplate": "<b>%{hovertext}</b><br><br>Area=Belgium<br>size=%{marker.size}<br>Cases=%{customdata[0]}<br>alpha3=%{location}",
         "hovertext": [
          "Belgium"
         ],
         "legendgroup": "Belgium",
         "locations": [
          "BEL"
         ],
         "marker": {
          "color": "#EF553B",
          "size": [
           256.43448450346216
          ],
          "sizemode": "area",
          "sizeref": 1.4999884392123928
         },
         "name": "Belgium",
         "showlegend": true,
         "type": "scattergeo"
        },
        {
         "customdata": [
          [
           8291
          ]
         ],
         "geo": "geo",
         "hoverlabel": {
          "namelength": 0
         },
         "hovertemplate": "<b>%{hovertext}</b><br><br>Area=Austria<br>size=%{marker.size}<br>Cases=%{customdata[0]}<br>alpha3=%{location}",
         "hovertext": [
          "Austria"
         ],
         "legendgroup": "Austria",
         "locations": [
          "AUT"
         ],
         "marker": {
          "color": "#00cc96",
          "size": [
           235.3975151203239
          ],
          "sizemode": "area",
          "sizeref": 1.4999884392123928
         },
         "name": "Austria",
         "showlegend": true,
         "type": "scattergeo"
        },
        {
         "customdata": [
          [
           7402
          ]
         ],
         "geo": "geo",
         "hoverlabel": {
          "namelength": 0
         },
         "hovertemplate": "<b>%{hovertext}</b><br><br>Area=Turkey<br>size=%{marker.size}<br>Cases=%{customdata[0]}<br>alpha3=%{location}",
         "hovertext": [
          "Turkey"
         ],
         "legendgroup": "Turkey",
         "locations": [
          "TUR"
         ],
         "marker": {
          "color": "#ab63fa",
          "size": [
           212.4475070203705
          ],
          "sizemode": "area",
          "sizeref": 1.4999884392123928
         },
         "name": "Turkey",
         "showlegend": true,
         "type": "scattergeo"
        },
        {
         "customdata": [
          [
           5386
          ]
         ],
         "geo": "geo",
         "hoverlabel": {
          "namelength": 0
         },
         "hovertemplate": "<b>%{hovertext}</b><br><br>Area=Canada<br>size=%{marker.size}<br>Cases=%{customdata[0]}<br>alpha3=%{location}",
         "hovertext": [
          "Canada"
         ],
         "legendgroup": "Canada",
         "locations": [
          "CAN"
         ],
         "marker": {
          "color": "#FFA15A",
          "size": [
           157.78401839728926
          ],
          "sizemode": "area",
          "sizeref": 1.4999884392123928
         },
         "name": "Canada",
         "showlegend": true,
         "type": "scattergeo"
        },
        {
         "customdata": [
          [
           5170
          ]
         ],
         "geo": "geo",
         "hoverlabel": {
          "namelength": 0
         },
         "hovertemplate": "<b>%{hovertext}</b><br><br>Area=Portugal<br>size=%{marker.size}<br>Cases=%{customdata[0]}<br>alpha3=%{location}",
         "hovertext": [
          "Portugal"
         ],
         "legendgroup": "Portugal",
         "locations": [
          "PRT"
         ],
         "marker": {
          "color": "#19d3f3",
          "size": [
           151.73519858213777
          ],
          "sizemode": "area",
          "sizeref": 1.4999884392123928
         },
         "name": "Portugal",
         "showlegend": true,
         "type": "scattergeo"
        },
        {
         "customdata": [
          [
           3904
          ]
         ],
         "geo": "geo",
         "hoverlabel": {
          "namelength": 0
         },
         "hovertemplate": "<b>%{hovertext}</b><br><br>Area=Brazil<br>size=%{marker.size}<br>Cases=%{customdata[0]}<br>alpha3=%{location}",
         "hovertext": [
          "Brazil"
         ],
         "legendgroup": "Brazil",
         "locations": [
          "BRA"
         ],
         "marker": {
          "color": "#FF6692",
          "size": [
           115.65478493265283
          ],
          "sizemode": "area",
          "sizeref": 1.4999884392123928
         },
         "name": "Brazil",
         "showlegend": true,
         "type": "scattergeo"
        },
        {
         "customdata": [
          [
           3845
          ]
         ],
         "geo": "geo",
         "hoverlabel": {
          "namelength": 0
         },
         "hovertemplate": "<b>%{hovertext}</b><br><br>Area=Norway<br>size=%{marker.size}<br>Cases=%{customdata[0]}<br>alpha3=%{location}",
         "hovertext": [
          "Norway"
         ],
         "legendgroup": "Norway",
         "locations": [
          "NOR"
         ],
         "marker": {
          "color": "#B6E880",
          "size": [
           113.9495857187269
          ],
          "sizemode": "area",
          "sizeref": 1.4999884392123928
         },
         "name": "Norway",
         "showlegend": true,
         "type": "scattergeo"
        },
        {
         "customdata": [
          [
           3809
          ]
         ],
         "geo": "geo",
         "hoverlabel": {
          "namelength": 0
         },
         "hovertemplate": "<b>%{hovertext}</b><br><br>Area=Australia<br>size=%{marker.size}<br>Cases=%{customdata[0]}<br>alpha3=%{location}",
         "hovertext": [
          "Australia"
         ],
         "legendgroup": "Australia",
         "locations": [
          "AUS"
         ],
         "marker": {
          "color": "#FF97FF",
          "size": [
           112.90818436593837
          ],
          "sizemode": "area",
          "sizeref": 1.4999884392123928
         },
         "name": "Australia",
         "showlegend": true,
         "type": "scattergeo"
        },
        {
         "customdata": [
          [
           3619
          ]
         ],
         "geo": "geo",
         "hoverlabel": {
          "namelength": 0
         },
         "hovertemplate": "<b>%{hovertext}</b><br><br>Area=Israel<br>size=%{marker.size}<br>Cases=%{customdata[0]}<br>alpha3=%{location}",
         "hovertext": [
          "Israel"
         ],
         "legendgroup": "Israel",
         "locations": [
          "ISR"
         ],
         "marker": {
          "color": "#FECB52",
          "size": [
           107.400351054025
          ],
          "sizemode": "area",
          "sizeref": 1.4999884392123928
         },
         "name": "Israel",
         "showlegend": true,
         "type": "scattergeo"
        },
        {
         "customdata": [
          [
           3447
          ]
         ],
         "geo": "geo",
         "hoverlabel": {
          "namelength": 0
         },
         "hovertemplate": "<b>%{hovertext}</b><br><br>Area=Sweden<br>size=%{marker.size}<br>Cases=%{customdata[0]}<br>alpha3=%{location}",
         "hovertext": [
          "Sweden"
         ],
         "legendgroup": "Sweden",
         "locations": [
          "SWE"
         ],
         "marker": {
          "color": "#636efa",
          "size": [
           102.39810653586395
          ],
          "sizemode": "area",
          "sizeref": 1.4999884392123928
         },
         "name": "Sweden",
         "showlegend": true,
         "type": "scattergeo"
        },
        {
         "customdata": [
          [
           2663
          ]
         ],
         "geo": "geo",
         "hoverlabel": {
          "namelength": 0
         },
         "hovertemplate": "<b>%{hovertext}</b><br><br>Area=Czech_Republic<br>size=%{marker.size}<br>Cases=%{customdata[0]}<br>alpha3=%{location}",
         "hovertext": [
          "Czech_Republic"
         ],
         "legendgroup": "Czech_Republic",
         "locations": [
          "CZE"
         ],
         "marker": {
          "color": "#EF553B",
          "size": [
           79.42120301951383
          ],
          "sizemode": "area",
          "sizeref": 1.4999884392123928
         },
         "name": "Czech_Republic",
         "showlegend": true,
         "type": "scattergeo"
        },
        {
         "customdata": [
          [
           2415
          ]
         ],
         "geo": "geo",
         "hoverlabel": {
          "namelength": 0
         },
         "hovertemplate": "<b>%{hovertext}</b><br><br>Area=Ireland<br>size=%{marker.size}<br>Cases=%{customdata[0]}<br>alpha3=%{location}",
         "hovertext": [
          "Ireland"
         ],
         "legendgroup": "Ireland",
         "locations": [
          "IRL"
         ],
         "marker": {
          "color": "#00cc96",
          "size": [
           72.09992101337404
          ],
          "sizemode": "area",
          "sizeref": 1.4999884392123928
         },
         "name": "Ireland",
         "showlegend": true,
         "type": "scattergeo"
        },
        {
         "customdata": [
          [
           2320
          ]
         ],
         "geo": "geo",
         "hoverlabel": {
          "namelength": 0
         },
         "hovertemplate": "<b>%{hovertext}</b><br><br>Area=Malaysia<br>size=%{marker.size}<br>Cases=%{customdata[0]}<br>alpha3=%{location}",
         "hovertext": [
          "Malaysia"
         ],
         "legendgroup": "Malaysia",
         "locations": [
          "MYS"
         ],
         "marker": {
          "color": "#ab63fa",
          "size": [
           69.28949197138805
          ],
          "sizemode": "area",
          "sizeref": 1.4999884392123928
         },
         "name": "Malaysia",
         "showlegend": true,
         "type": "scattergeo"
        },
        {
         "customdata": [
          [
           2201
          ]
         ],
         "geo": "geo",
         "hoverlabel": {
          "namelength": 0
         },
         "hovertemplate": "<b>%{hovertext}</b><br><br>Area=Denmark<br>size=%{marker.size}<br>Cases=%{customdata[0]}<br>alpha3=%{location}",
         "hovertext": [
          "Denmark"
         ],
         "legendgroup": "Denmark",
         "locations": [
          "DNK"
         ],
         "marker": {
          "color": "#FFA15A",
          "size": [
           65.76472187451688
          ],
          "sizemode": "area",
          "sizeref": 1.4999884392123928
         },
         "name": "Denmark",
         "showlegend": true,
         "type": "scattergeo"
        },
        {
         "customdata": [
          [
           1909
          ]
         ],
         "geo": "geo",
         "hoverlabel": {
          "namelength": 0
         },
         "hovertemplate": "<b>%{hovertext}</b><br><br>Area=Chile<br>size=%{marker.size}<br>Cases=%{customdata[0]}<br>alpha3=%{location}",
         "hovertext": [
          "Chile"
         ],
         "legendgroup": "Chile",
         "locations": [
          "CHL"
         ],
         "marker": {
          "color": "#19d3f3",
          "size": [
           57.09670818595324
          ],
          "sizemode": "area",
          "sizeref": 1.4999884392123928
         },
         "name": "Chile",
         "showlegend": true,
         "type": "scattergeo"
        },
        {
         "customdata": [
          [
           1835
          ]
         ],
         "geo": "geo",
         "hoverlabel": {
          "namelength": 0
         },
         "hovertemplate": "<b>%{hovertext}</b><br><br>Area=Ecuador<br>size=%{marker.size}<br>Cases=%{customdata[0]}<br>alpha3=%{location}",
         "hovertext": [
          "Ecuador"
         ],
         "legendgroup": "Ecuador",
         "locations": [
          "ECU"
         ],
         "marker": {
          "color": "#FF6692",
          "size": [
           54.89604692698867
          ],
          "sizemode": "area",
          "sizeref": 1.4999884392123928
         },
         "name": "Ecuador",
         "showlegend": true,
         "type": "scattergeo"
        },
        {
         "customdata": [
          [
           1831
          ]
         ],
         "geo": "geo",
         "hoverlabel": {
          "namelength": 0
         },
         "hovertemplate": "<b>%{hovertext}</b><br><br>Area=Luxembourg<br>size=%{marker.size}<br>Cases=%{customdata[0]}<br>alpha3=%{location}",
         "hovertext": [
          "Luxembourg"
         ],
         "legendgroup": "Luxembourg",
         "locations": [
          "LUX"
         ],
         "marker": {
          "color": "#B6E880",
          "size": [
           54.77704927639785
          ],
          "sizemode": "area",
          "sizeref": 1.4999884392123928
         },
         "name": "Luxembourg",
         "showlegend": true,
         "type": "scattergeo"
        },
        {
         "customdata": [
          [
           1693
          ]
         ],
         "geo": "geo",
         "hoverlabel": {
          "namelength": 0
         },
         "hovertemplate": "<b>%{hovertext}</b><br><br>Area=Japan<br>size=%{marker.size}<br>Cases=%{customdata[0]}<br>alpha3=%{location}",
         "hovertext": [
          "Japan"
         ],
         "legendgroup": "Japan",
         "locations": [
          "JPN"
         ],
         "marker": {
          "color": "#FF97FF",
          "size": [
           50.66903272158868
          ],
          "sizemode": "area",
          "sizeref": 1.4999884392123928
         },
         "name": "Japan",
         "showlegend": true,
         "type": "scattergeo"
        },
        {
         "customdata": [
          [
           1638
          ]
         ],
         "geo": "geo",
         "hoverlabel": {
          "namelength": 0
         },
         "hovertemplate": "<b>%{hovertext}</b><br><br>Area=Poland<br>size=%{marker.size}<br>Cases=%{customdata[0]}<br>alpha3=%{location}",
         "hovertext": [
          "Poland"
         ],
         "legendgroup": "Poland",
         "locations": [
          "POL"
         ],
         "marker": {
          "color": "#FECB52",
          "size": [
           49.03042333781818
          ],
          "sizemode": "area",
          "sizeref": 1.4999884392123928
         },
         "name": "Poland",
         "showlegend": true,
         "type": "scattergeo"
        },
        {
         "customdata": [
          [
           1452
          ]
         ],
         "geo": "geo",
         "hoverlabel": {
          "namelength": 0
         },
         "hovertemplate": "<b>%{hovertext}</b><br><br>Area=Romania<br>size=%{marker.size}<br>Cases=%{customdata[0]}<br>alpha3=%{location}",
         "hovertext": [
          "Romania"
         ],
         "legendgroup": "Romania",
         "locations": [
          "ROU"
         ],
         "marker": {
          "color": "#636efa",
          "size": [
           43.48362957283679
          ],
          "sizemode": "area",
          "sizeref": 1.4999884392123928
         },
         "name": "Romania",
         "showlegend": true,
         "type": "scattergeo"
        },
        {
         "customdata": [
          [
           1408
          ]
         ],
         "geo": "geo",
         "hoverlabel": {
          "namelength": 0
         },
         "hovertemplate": "<b>%{hovertext}</b><br><br>Area=Pakistan<br>size=%{marker.size}<br>Cases=%{customdata[0]}<br>alpha3=%{location}",
         "hovertext": [
          "Pakistan"
         ],
         "legendgroup": "Pakistan",
         "locations": [
          "PAK"
         ],
         "marker": {
          "color": "#EF553B",
          "size": [
           42.170355331989335
          ],
          "sizemode": "area",
          "sizeref": 1.4999884392123928
         },
         "name": "Pakistan",
         "showlegend": true,
         "type": "scattergeo"
        },
        {
         "customdata": [
          [
           1264
          ]
         ],
         "geo": "geo",
         "hoverlabel": {
          "namelength": 0
         },
         "hovertemplate": "<b>%{hovertext}</b><br><br>Area=Russia<br>size=%{marker.size}<br>Cases=%{customdata[0]}<br>alpha3=%{location}",
         "hovertext": [
          "Russia"
         ],
         "legendgroup": "Russia",
         "locations": [
          "RUS"
         ],
         "marker": {
          "color": "#00cc96",
          "size": [
           37.86959333938852
          ],
          "sizemode": "area",
          "sizeref": 1.4999884392123928
         },
         "name": "Russia",
         "showlegend": true,
         "type": "scattergeo"
        },
        {
         "customdata": [
          [
           1245
          ]
         ],
         "geo": "geo",
         "hoverlabel": {
          "namelength": 0
         },
         "hovertemplate": "<b>%{hovertext}</b><br><br>Area=Thailand<br>size=%{marker.size}<br>Cases=%{customdata[0]}<br>alpha3=%{location}",
         "hovertext": [
          "Thailand"
         ],
         "legendgroup": "Thailand",
         "locations": [
          "THA"
         ],
         "marker": {
          "color": "#ab63fa",
          "size": [
           37.301830134992485
          ],
          "sizemode": "area",
          "sizeref": 1.4999884392123928
         },
         "name": "Thailand",
         "showlegend": true,
         "type": "scattergeo"
        },
        {
         "customdata": [
          [
           1218
          ]
         ],
         "geo": "geo",
         "hoverlabel": {
          "namelength": 0
         },
         "hovertemplate": "<b>%{hovertext}</b><br><br>Area=Finland<br>size=%{marker.size}<br>Cases=%{customdata[0]}<br>alpha3=%{location}",
         "hovertext": [
          "Finland"
         ],
         "legendgroup": "Finland",
         "locations": [
          "FIN"
         ],
         "marker": {
          "color": "#FFA15A",
          "size": [
           36.49489360943135
          ],
          "sizemode": "area",
          "sizeref": 1.4999884392123928
         },
         "name": "Finland",
         "showlegend": true,
         "type": "scattergeo"
        },
        {
         "customdata": [
          [
           1203
          ]
         ],
         "geo": "geo",
         "hoverlabel": {
          "namelength": 0
         },
         "hovertemplate": "<b>%{hovertext}</b><br><br>Area=Saudi_Arabia<br>size=%{marker.size}<br>Cases=%{customdata[0]}<br>alpha3=%{location}",
         "hovertext": [
          "Saudi_Arabia"
         ],
         "legendgroup": "Saudi_Arabia",
         "locations": [
          "SAU"
         ],
         "marker": {
          "color": "#19d3f3",
          "size": [
           36.046538086713575
          ],
          "sizemode": "area",
          "sizeref": 1.4999884392123928
         },
         "name": "Saudi_Arabia",
         "showlegend": true,
         "type": "scattergeo"
        },
        {
         "customdata": [
          [
           1187
          ]
         ],
         "geo": "geo",
         "hoverlabel": {
          "namelength": 0
         },
         "hovertemplate": "<b>%{hovertext}</b><br><br>Area=South_Africa<br>size=%{marker.size}<br>Cases=%{customdata[0]}<br>alpha3=%{location}",
         "hovertext": [
          "South_Africa"
         ],
         "legendgroup": "South_Africa",
         "locations": [
          "ZAF"
         ],
         "marker": {
          "color": "#FF6692",
          "size": [
           35.5682476716747
          ],
          "sizemode": "area",
          "sizeref": 1.4999884392123928
         },
         "name": "South_Africa",
         "showlegend": true,
         "type": "scattergeo"
        },
        {
         "customdata": [
          [
           1155
          ]
         ],
         "geo": "geo",
         "hoverlabel": {
          "namelength": 0
         },
         "hovertemplate": "<b>%{hovertext}</b><br><br>Area=Indonesia<br>size=%{marker.size}<br>Cases=%{customdata[0]}<br>alpha3=%{location}",
         "hovertext": [
          "Indonesia"
         ],
         "legendgroup": "Indonesia",
         "locations": [
          "IDN"
         ],
         "marker": {
          "color": "#B6E880",
          "size": [
           34.611531345457
          ],
          "sizemode": "area",
          "sizeref": 1.4999884392123928
         },
         "name": "Indonesia",
         "showlegend": true,
         "type": "scattergeo"
        },
        {
         "customdata": [
          [
           1075
          ]
         ],
         "geo": "geo",
         "hoverlabel": {
          "namelength": 0
         },
         "hovertemplate": "<b>%{hovertext}</b><br><br>Area=Philippines<br>size=%{marker.size}<br>Cases=%{customdata[0]}<br>alpha3=%{location}",
         "hovertext": [
          "Philippines"
         ],
         "legendgroup": "Philippines",
         "locations": [
          "PHL"
         ],
         "marker": {
          "color": "#FF97FF",
          "size": [
           32.21897842693724
          ],
          "sizemode": "area",
          "sizeref": 1.4999884392123928
         },
         "name": "Philippines",
         "showlegend": true,
         "type": "scattergeo"
        },
        {
         "customdata": [
          [
           1061
          ]
         ],
         "geo": "geo",
         "hoverlabel": {
          "namelength": 0
         },
         "hovertemplate": "<b>%{hovertext}</b><br><br>Area=Greece<br>size=%{marker.size}<br>Cases=%{customdata[0]}<br>alpha3=%{location}",
         "hovertext": [
          "Greece"
         ],
         "legendgroup": "Greece",
         "locations": [
          "GRC"
         ],
         "marker": {
          "color": "#FECB52",
          "size": [
           31.800173825975538
          ],
          "sizemode": "area",
          "sizeref": 1.4999884392123928
         },
         "name": "Greece",
         "showlegend": true,
         "type": "scattergeo"
        },
        {
         "customdata": [
          [
           979
          ]
         ],
         "geo": "geo",
         "hoverlabel": {
          "namelength": 0
         },
         "hovertemplate": "<b>%{hovertext}</b><br><br>Area=India<br>size=%{marker.size}<br>Cases=%{customdata[0]}<br>alpha3=%{location}",
         "hovertext": [
          "India"
         ],
         "legendgroup": "India",
         "locations": [
          "IND"
         ],
         "marker": {
          "color": "#636efa",
          "size": [
           29.34656461769999
          ],
          "sizemode": "area",
          "sizeref": 1.4999884392123928
         },
         "name": "India",
         "showlegend": true,
         "type": "scattergeo"
        },
        {
         "customdata": [
          [
           963
          ]
         ],
         "geo": "geo",
         "hoverlabel": {
          "namelength": 0
         },
         "hovertemplate": "<b>%{hovertext}</b><br><br>Area=Iceland<br>size=%{marker.size}<br>Cases=%{customdata[0]}<br>alpha3=%{location}",
         "hovertext": [
          "Iceland"
         ],
         "legendgroup": "Iceland",
         "locations": [
          "ISL"
         ],
         "marker": {
          "color": "#EF553B",
          "size": [
           28.86769427673293
          ],
          "sizemode": "area",
          "sizeref": 1.4999884392123928
         },
         "name": "Iceland",
         "showlegend": true,
         "type": "scattergeo"
        },
        {
         "customdata": [
          [
           901
          ]
         ],
         "geo": "geo",
         "hoverlabel": {
          "namelength": 0
         },
         "hovertemplate": "<b>%{hovertext}</b><br><br>Area=Panama<br>size=%{marker.size}<br>Cases=%{customdata[0]}<br>alpha3=%{location}",
         "hovertext": [
          "Panama"
         ],
         "legendgroup": "Panama",
         "locations": [
          "PAN"
         ],
         "marker": {
          "color": "#00cc96",
          "size": [
           27.011729014735778
          ],
          "sizemode": "area",
          "sizeref": 1.4999884392123928
         },
         "name": "Panama",
         "showlegend": true,
         "type": "scattergeo"
        },
        {
         "customdata": [
          [
           848
          ]
         ],
         "geo": "geo",
         "hoverlabel": {
          "namelength": 0
         },
         "hovertemplate": "<b>%{hovertext}</b><br><br>Area=Mexico<br>size=%{marker.size}<br>Cases=%{customdata[0]}<br>alpha3=%{location}",
         "hovertext": [
          "Mexico"
         ],
         "legendgroup": "Mexico",
         "locations": [
          "MEX"
         ],
         "marker": {
          "color": "#ab63fa",
          "size": [
           25.424765949972535
          ],
          "sizemode": "area",
          "sizeref": 1.4999884392123928
         },
         "name": "Mexico",
         "showlegend": true,
         "type": "scattergeo"
        },
        {
         "customdata": [
          [
           803
          ]
         ],
         "geo": "geo",
         "hoverlabel": {
          "namelength": 0
         },
         "hovertemplate": "<b>%{hovertext}</b><br><br>Area=Singapore<br>size=%{marker.size}<br>Cases=%{customdata[0]}<br>alpha3=%{location}",
         "hovertext": [
          "Singapore"
         ],
         "legendgroup": "Singapore",
         "locations": [
          "SGP"
         ],
         "marker": {
          "color": "#FFA15A",
          "size": [
           24.077063800638744
          ],
          "sizemode": "area",
          "sizeref": 1.4999884392123928
         },
         "name": "Singapore",
         "showlegend": true,
         "type": "scattergeo"
        },
        {
         "customdata": [
          [
           745
          ]
         ],
         "geo": "geo",
         "hoverlabel": {
          "namelength": 0
         },
         "hovertemplate": "<b>%{hovertext}</b><br><br>Area=Argentina<br>size=%{marker.size}<br>Cases=%{customdata[0]}<br>alpha3=%{location}",
         "hovertext": [
          "Argentina"
         ],
         "legendgroup": "Argentina",
         "locations": [
          "ARG"
         ],
         "marker": {
          "color": "#19d3f3",
          "size": [
           22.339668393636934
          ],
          "sizemode": "area",
          "sizeref": 1.4999884392123928
         },
         "name": "Argentina",
         "showlegend": true,
         "type": "scattergeo"
        },
        {
         "customdata": [
          [
           719
          ]
         ],
         "geo": "geo",
         "hoverlabel": {
          "namelength": 0
         },
         "hovertemplate": "<b>%{hovertext}</b><br><br>Area=Dominican_Republic<br>size=%{marker.size}<br>Cases=%{customdata[0]}<br>alpha3=%{location}",
         "hovertext": [
          "Dominican_Republic"
         ],
         "legendgroup": "Dominican_Republic",
         "locations": [
          "DOM"
         ],
         "marker": {
          "color": "#FF6692",
          "size": [
           21.56071242730832
          ],
          "sizemode": "area",
          "sizeref": 1.4999884392123928
         },
         "name": "Dominican_Republic",
         "showlegend": true,
         "type": "scattergeo"
        },
        {
         "customdata": [
          [
           696
          ]
         ],
         "geo": "geo",
         "hoverlabel": {
          "namelength": 0
         },
         "hovertemplate": "<b>%{hovertext}</b><br><br>Area=Cases_on_an_international_conveyance_Japan<br>size=%{marker.size}<br>Cases=%{customdata[0]}<br>alpha3=%{location}",
         "hovertext": [
          "Cases_on_an_international_conveyance_Japan"
         ],
         "legendgroup": "Cases_on_an_international_conveyance_Japan",
         "locations": [
          null
         ],
         "marker": {
          "color": "#B6E880",
          "size": [
           20.871575242663713
          ],
          "sizemode": "area",
          "sizeref": 1.4999884392123928
         },
         "name": "Cases_on_an_international_conveyance_Japan",
         "showlegend": true,
         "type": "scattergeo"
        },
        {
         "customdata": [
          [
           691
          ]
         ],
         "geo": "geo",
         "hoverlabel": {
          "namelength": 0
         },
         "hovertemplate": "<b>%{hovertext}</b><br><br>Area=Slovenia<br>size=%{marker.size}<br>Cases=%{customdata[0]}<br>alpha3=%{location}",
         "hovertext": [
          "Slovenia"
         ],
         "legendgroup": "Slovenia",
         "locations": [
          "SVN"
         ],
         "marker": {
          "color": "#FF97FF",
          "size": [
           20.721755452317495
          ],
          "sizemode": "area",
          "sizeref": 1.4999884392123928
         },
         "name": "Slovenia",
         "showlegend": true,
         "type": "scattergeo"
        },
        {
         "customdata": [
          [
           671
          ]
         ],
         "geo": "geo",
         "hoverlabel": {
          "namelength": 0
         },
         "hovertemplate": "<b>%{hovertext}</b><br><br>Area=Peru<br>size=%{marker.size}<br>Cases=%{customdata[0]}<br>alpha3=%{location}",
         "hovertext": [
          "Peru"
         ],
         "legendgroup": "Peru",
         "locations": [
          "PER"
         ],
         "marker": {
          "color": "#FECB52",
          "size": [
           20.122450606253373
          ],
          "sizemode": "area",
          "sizeref": 1.4999884392123928
         },
         "name": "Peru",
         "showlegend": true,
         "type": "scattergeo"
        },
        {
         "customdata": [
          [
           659
          ]
         ],
         "geo": "geo",
         "hoverlabel": {
          "namelength": 0
         },
         "hovertemplate": "<b>%{hovertext}</b><br><br>Area=Serbia<br>size=%{marker.size}<br>Cases=%{customdata[0]}<br>alpha3=%{location}",
         "hovertext": [
          "Serbia"
         ],
         "legendgroup": "Serbia",
         "locations": [
          "SRB"
         ],
         "marker": {
          "color": "#636efa",
          "size": [
           19.762848326344926
          ],
          "sizemode": "area",
          "sizeref": 1.4999884392123928
         },
         "name": "Serbia",
         "showlegend": true,
         "type": "scattergeo"
        },
        {
         "customdata": [
          [
           657
          ]
         ],
         "geo": "geo",
         "hoverlabel": {
          "namelength": 0
         },
         "hovertemplate": "<b>%{hovertext}</b><br><br>Area=Croatia<br>size=%{marker.size}<br>Cases=%{customdata[0]}<br>alpha3=%{location}",
         "hovertext": [
          "Croatia"
         ],
         "legendgroup": "Croatia",
         "locations": [
          "HRV"
         ],
         "marker": {
          "color": "#EF553B",
          "size": [
           19.702913224158987
          ],
          "sizemode": "area",
          "sizeref": 1.4999884392123928
         },
         "name": "Croatia",
         "showlegend": true,
         "type": "scattergeo"
        },
        {
         "customdata": [
          [
           640
          ]
         ],
         "geo": "geo",
         "hoverlabel": {
          "namelength": 0
         },
         "hovertemplate": "<b>%{hovertext}</b><br><br>Area=Estonia<br>size=%{marker.size}<br>Cases=%{customdata[0]}<br>alpha3=%{location}",
         "hovertext": [
          "Estonia"
         ],
         "legendgroup": "Estonia",
         "locations": [
          "EST"
         ],
         "marker": {
          "color": "#00cc96",
          "size": [
           19.193449083242417
          ],
          "sizemode": "area",
          "sizeref": 1.4999884392123928
         },
         "name": "Estonia",
         "showlegend": true,
         "type": "scattergeo"
        },
        {
         "customdata": [
          [
           608
          ]
         ],
         "geo": "geo",
         "hoverlabel": {
          "namelength": 0
         },
         "hovertemplate": "<b>%{hovertext}</b><br><br>Area=Colombia<br>size=%{marker.size}<br>Cases=%{customdata[0]}<br>alpha3=%{location}",
         "hovertext": [
          "Colombia"
         ],
         "legendgroup": "Colombia",
         "locations": [
          "COL"
         ],
         "marker": {
          "color": "#ab63fa",
          "size": [
           18.234383183525708
          ],
          "sizemode": "area",
          "sizeref": 1.4999884392123928
         },
         "name": "Colombia",
         "showlegend": true,
         "type": "scattergeo"
        },
        {
         "customdata": [
          [
           590
          ]
         ],
         "geo": "geo",
         "hoverlabel": {
          "namelength": 0
         },
         "hovertemplate": "<b>%{hovertext}</b><br><br>Area=Qatar<br>size=%{marker.size}<br>Cases=%{customdata[0]}<br>alpha3=%{location}",
         "hovertext": [
          "Qatar"
         ],
         "legendgroup": "Qatar",
         "locations": [
          "QAT"
         ],
         "marker": {
          "color": "#FFA15A",
          "size": [
           17.6948673116814
          ],
          "sizemode": "area",
          "sizeref": 1.4999884392123928
         },
         "name": "Qatar",
         "showlegend": true,
         "type": "scattergeo"
        },
        {
         "customdata": [
          [
           536
          ]
         ],
         "geo": "geo",
         "hoverlabel": {
          "namelength": 0
         },
         "hovertemplate": "<b>%{hovertext}</b><br><br>Area=Egypt<br>size=%{marker.size}<br>Cases=%{customdata[0]}<br>alpha3=%{location}",
         "hovertext": [
          "Egypt"
         ],
         "legendgroup": "Egypt",
         "locations": [
          "EGY"
         ],
         "marker": {
          "color": "#19d3f3",
          "size": [
           16.076151339301042
          ],
          "sizemode": "area",
          "sizeref": 1.4999884392123928
         },
         "name": "Egypt",
         "showlegend": true,
         "type": "scattergeo"
        },
        {
         "customdata": [
          [
           506
          ]
         ],
         "geo": "geo",
         "hoverlabel": {
          "namelength": 0
         },
         "hovertemplate": "<b>%{hovertext}</b><br><br>Area=Iraq<br>size=%{marker.size}<br>Cases=%{customdata[0]}<br>alpha3=%{location}",
         "hovertext": [
          "Iraq"
         ],
         "legendgroup": "Iraq",
         "locations": [
          "IRQ"
         ],
         "marker": {
          "color": "#FF6692",
          "size": [
           15.176761973648789
          ],
          "sizemode": "area",
          "sizeref": 1.4999884392123928
         },
         "name": "Iraq",
         "showlegend": true,
         "type": "scattergeo"
        },
        {
         "customdata": [
          [
           476
          ]
         ],
         "geo": "geo",
         "hoverlabel": {
          "namelength": 0
         },
         "hovertemplate": "<b>%{hovertext}</b><br><br>Area=New_Zealand<br>size=%{marker.size}<br>Cases=%{customdata[0]}<br>alpha3=%{location}",
         "hovertext": [
          "New_Zealand"
         ],
         "legendgroup": "New_Zealand",
         "locations": [
          "NZL"
         ],
         "marker": {
          "color": "#B6E880",
          "size": [
           14.277304356366505
          ],
          "sizemode": "area",
          "sizeref": 1.4999884392123928
         },
         "name": "New_Zealand",
         "showlegend": true,
         "type": "scattergeo"
        },
        {
         "customdata": [
          [
           473
          ]
         ],
         "geo": "geo",
         "hoverlabel": {
          "namelength": 0
         },
         "hovertemplate": "<b>%{hovertext}</b><br><br>Area=Bahrain<br>size=%{marker.size}<br>Cases=%{customdata[0]}<br>alpha3=%{location}",
         "hovertext": [
          "Bahrain"
         ],
         "legendgroup": "Bahrain",
         "locations": [
          "BHR"
         ],
         "marker": {
          "color": "#FF97FF",
          "size": [
           14.187354996337449
          ],
          "sizemode": "area",
          "sizeref": 1.4999884392123928
         },
         "name": "Bahrain",
         "showlegend": true,
         "type": "scattergeo"
        },
        {
         "customdata": [
          [
           468
          ]
         ],
         "geo": "geo",
         "hoverlabel": {
          "namelength": 0
         },
         "hovertemplate": "<b>%{hovertext}</b><br><br>Area=United_Arab_Emirates<br>size=%{marker.size}<br>Cases=%{customdata[0]}<br>alpha3=%{location}",
         "hovertext": [
          "United_Arab_Emirates"
         ],
         "legendgroup": "United_Arab_Emirates",
         "locations": [
          "ARE"
         ],
         "marker": {
          "color": "#FECB52",
          "size": [
           14.03743798034233
          ],
          "sizemode": "area",
          "sizeref": 1.4999884392123928
         },
         "name": "United_Arab_Emirates",
         "showlegend": true,
         "type": "scattergeo"
        },
        {
         "customdata": [
          [
           424
          ]
         ],
         "geo": "geo",
         "hoverlabel": {
          "namelength": 0
         },
         "hovertemplate": "<b>%{hovertext}</b><br><br>Area=Armenia<br>size=%{marker.size}<br>Cases=%{customdata[0]}<br>alpha3=%{location}",
         "hovertext": [
          "Armenia"
         ],
         "legendgroup": "Armenia",
         "locations": [
          "ARM"
         ],
         "marker": {
          "color": "#636efa",
          "size": [
           12.718094716923437
          ],
          "sizemode": "area",
          "sizeref": 1.4999884392123928
         },
         "name": "Armenia",
         "showlegend": true,
         "type": "scattergeo"
        },
        {
         "customdata": [
          [
           412
          ]
         ],
         "geo": "geo",
         "hoverlabel": {
          "namelength": 0
         },
         "hovertemplate": "<b>%{hovertext}</b><br><br>Area=Lebanon<br>size=%{marker.size}<br>Cases=%{customdata[0]}<br>alpha3=%{location}",
         "hovertext": [
          "Lebanon"
         ],
         "legendgroup": "Lebanon",
         "locations": [
          "LBN"
         ],
         "marker": {
          "color": "#EF553B",
          "size": [
           12.358251933523198
          ],
          "sizemode": "area",
          "sizeref": 1.4999884392123928
         },
         "name": "Lebanon",
         "showlegend": true,
         "type": "scattergeo"
        },
        {
         "customdata": [
          [
           409
          ]
         ],
         "geo": "geo",
         "hoverlabel": {
          "namelength": 0
         },
         "hovertemplate": "<b>%{hovertext}</b><br><br>Area=Algeria<br>size=%{marker.size}<br>Cases=%{customdata[0]}<br>alpha3=%{location}",
         "hovertext": [
          "Algeria"
         ],
         "legendgroup": "Algeria",
         "locations": [
          "DZA"
         ],
         "marker": {
          "color": "#00cc96",
          "size": [
           12.268289837852066
          ],
          "sizemode": "area",
          "sizeref": 1.4999884392123928
         },
         "name": "Algeria",
         "showlegend": true,
         "type": "scattergeo"
        },
        {
         "customdata": [
          [
           408
          ]
         ],
         "geo": "geo",
         "hoverlabel": {
          "namelength": 0
         },
         "hovertemplate": "<b>%{hovertext}</b><br><br>Area=Hungary<br>size=%{marker.size}<br>Cases=%{customdata[0]}<br>alpha3=%{location}",
         "hovertext": [
          "Hungary"
         ],
         "legendgroup": "Hungary",
         "locations": [
          "HUN"
         ],
         "marker": {
          "color": "#ab63fa",
          "size": [
           12.238302349797085
          ],
          "sizemode": "area",
          "sizeref": 1.4999884392123928
         },
         "name": "Hungary",
         "showlegend": true,
         "type": "scattergeo"
        },
        {
         "customdata": [
          [
           394
          ]
         ],
         "geo": "geo",
         "hoverlabel": {
          "namelength": 0
         },
         "hovertemplate": "<b>%{hovertext}</b><br><br>Area=Lithuania<br>size=%{marker.size}<br>Cases=%{customdata[0]}<br>alpha3=%{location}",
         "hovertext": [
          "Lithuania"
         ],
         "legendgroup": "Lithuania",
         "locations": [
          "LTU"
         ],
         "marker": {
          "color": "#FFA15A",
          "size": [
           11.818471162730143
          ],
          "sizemode": "area",
          "sizeref": 1.4999884392123928
         },
         "name": "Lithuania",
         "showlegend": true,
         "type": "scattergeo"
        },
        {
         "customdata": [
          [
           358
          ]
         ],
         "geo": "geo",
         "hoverlabel": {
          "namelength": 0
         },
         "hovertemplate": "<b>%{hovertext}</b><br><br>Area=Morocco<br>size=%{marker.size}<br>Cases=%{customdata[0]}<br>alpha3=%{location}",
         "hovertext": [
          "Morocco"
         ],
         "legendgroup": "Morocco",
         "locations": [
          "MAR"
         ],
         "marker": {
          "color": "#19d3f3",
          "size": [
           10.738853079193733
          ],
          "sizemode": "area",
          "sizeref": 1.4999884392123928
         },
         "name": "Morocco",
         "showlegend": true,
         "type": "scattergeo"
        },
        {
         "customdata": [
          [
           331
          ]
         ],
         "geo": "geo",
         "hoverlabel": {
          "namelength": 0
         },
         "hovertemplate": "<b>%{hovertext}</b><br><br>Area=Bulgaria<br>size=%{marker.size}<br>Cases=%{customdata[0]}<br>alpha3=%{location}",
         "hovertext": [
          "Bulgaria"
         ],
         "legendgroup": "Bulgaria",
         "locations": [
          "BGR"
         ],
         "marker": {
          "color": "#FF6692",
          "size": [
           9.929093482043884
          ],
          "sizemode": "area",
          "sizeref": 1.4999884392123928
         },
         "name": "Bulgaria",
         "showlegend": true,
         "type": "scattergeo"
        },
        {
         "customdata": [
          [
           311
          ]
         ],
         "geo": "geo",
         "hoverlabel": {
          "namelength": 0
         },
         "hovertemplate": "<b>%{hovertext}</b><br><br>Area=Ukraine<br>size=%{marker.size}<br>Cases=%{customdata[0]}<br>alpha3=%{location}",
         "hovertext": [
          "Ukraine"
         ],
         "legendgroup": "Ukraine",
         "locations": [
          "UKR"
         ],
         "marker": {
          "color": "#B6E880",
          "size": [
           9.329248066952633
          ],
          "sizemode": "area",
          "sizeref": 1.4999884392123928
         },
         "name": "Ukraine",
         "showlegend": true,
         "type": "scattergeo"
        },
        {
         "customdata": [
          [
           308
          ]
         ],
         "geo": "geo",
         "hoverlabel": {
          "namelength": 0
         },
         "hovertemplate": "<b>%{hovertext}</b><br><br>Area=Andorra<br>size=%{marker.size}<br>Cases=%{customdata[0]}<br>alpha3=%{location}",
         "hovertext": [
          "Andorra"
         ],
         "legendgroup": "Andorra",
         "locations": [
          "AND"
         ],
         "marker": {
          "color": "#FF97FF",
          "size": [
           9.239269616487023
          ],
          "sizemode": "area",
          "sizeref": 1.4999884392123928
         },
         "name": "Andorra",
         "showlegend": true,
         "type": "scattergeo"
        },
        {
         "customdata": [
          [
           305
          ]
         ],
         "geo": "geo",
         "hoverlabel": {
          "namelength": 0
         },
         "hovertemplate": "<b>%{hovertext}</b><br><br>Area=Latvia<br>size=%{marker.size}<br>Cases=%{customdata[0]}<br>alpha3=%{location}",
         "hovertext": [
          "Latvia"
         ],
         "legendgroup": "Latvia",
         "locations": [
          "LVA"
         ],
         "marker": {
          "color": "#FECB52",
          "size": [
           9.149290750352874
          ],
          "sizemode": "area",
          "sizeref": 1.4999884392123928
         },
         "name": "Latvia",
         "showlegend": true,
         "type": "scattergeo"
        },
        {
         "customdata": [
          [
           304
          ]
         ],
         "geo": "geo",
         "hoverlabel": {
          "namelength": 0
         },
         "hovertemplate": "<b>%{hovertext}</b><br><br>Area=Uruguay<br>size=%{marker.size}<br>Cases=%{customdata[0]}<br>alpha3=%{location}",
         "hovertext": [
          "Uruguay"
         ],
         "legendgroup": "Uruguay",
         "locations": [
          "URY"
         ],
         "marker": {
          "color": "#636efa",
          "size": [
           9.11929770330338
          ],
          "sizemode": "area",
          "sizeref": 1.4999884392123928
         },
         "name": "Uruguay",
         "showlegend": true,
         "type": "scattergeo"
        },
        {
         "customdata": [
          [
           295
          ]
         ],
         "geo": "geo",
         "hoverlabel": {
          "namelength": 0
         },
         "hovertemplate": "<b>%{hovertext}</b><br><br>Area=Slovakia<br>size=%{marker.size}<br>Cases=%{customdata[0]}<br>alpha3=%{location}",
         "hovertext": [
          "Slovakia"
         ],
         "legendgroup": "Slovakia",
         "locations": [
          "SVK"
         ],
         "marker": {
          "color": "#EF553B",
          "size": [
           8.849358246473543
          ],
          "sizemode": "area",
          "sizeref": 1.4999884392123928
         },
         "name": "Slovakia",
         "showlegend": true,
         "type": "scattergeo"
        },
        {
         "customdata": [
          [
           295
          ]
         ],
         "geo": "geo",
         "hoverlabel": {
          "namelength": 0
         },
         "hovertemplate": "<b>%{hovertext}</b><br><br>Area=Costa_Rica<br>size=%{marker.size}<br>Cases=%{customdata[0]}<br>alpha3=%{location}",
         "hovertext": [
          "Costa_Rica"
         ],
         "legendgroup": "Costa_Rica",
         "locations": [
          "CRI"
         ],
         "marker": {
          "color": "#00cc96",
          "size": [
           8.849358246473543
          ],
          "sizemode": "area",
          "sizeref": 1.4999884392123928
         },
         "name": "Costa_Rica",
         "showlegend": true,
         "type": "scattergeo"
        },
        {
         "customdata": [
          [
           283
          ]
         ],
         "geo": "geo",
         "hoverlabel": {
          "namelength": 0
         },
         "hovertemplate": "<b>%{hovertext}</b><br><br>Area=Taiwan<br>size=%{marker.size}<br>Cases=%{customdata[0]}<br>alpha3=%{location}",
         "hovertext": [
          "Taiwan"
         ],
         "legendgroup": "Taiwan",
         "locations": [
          "TWN"
         ],
         "marker": {
          "color": "#ab63fa",
          "size": [
           8.489433415702127
          ],
          "sizemode": "area",
          "sizeref": 1.4999884392123928
         },
         "name": "Taiwan",
         "showlegend": true,
         "type": "scattergeo"
        },
        {
         "customdata": [
          [
           257
          ]
         ],
         "geo": "geo",
         "hoverlabel": {
          "namelength": 0
         },
         "hovertemplate": "<b>%{hovertext}</b><br><br>Area=Bosnia_and_Herzegovina<br>size=%{marker.size}<br>Cases=%{customdata[0]}<br>alpha3=%{location}",
         "hovertext": [
          "Bosnia_and_Herzegovina"
         ],
         "legendgroup": "Bosnia_and_Herzegovina",
         "locations": [
          "BIH"
         ],
         "marker": {
          "color": "#FFA15A",
          "size": [
           7.709575663202
          ],
          "sizemode": "area",
          "sizeref": 1.4999884392123928
         },
         "name": "Bosnia_and_Herzegovina",
         "showlegend": true,
         "type": "scattergeo"
        },
        {
         "customdata": [
          [
           241
          ]
         ],
         "geo": "geo",
         "hoverlabel": {
          "namelength": 0
         },
         "hovertemplate": "<b>%{hovertext}</b><br><br>Area=North_Macedonia<br>size=%{marker.size}<br>Cases=%{customdata[0]}<br>alpha3=%{location}",
         "hovertext": [
          "North_Macedonia"
         ],
         "legendgroup": "North_Macedonia",
         "locations": [
          "MKD"
         ],
         "marker": {
          "color": "#19d3f3",
          "size": [
           7.229650082298555
          ],
          "sizemode": "area",
          "sizeref": 1.4999884392123928
         },
         "name": "North_Macedonia",
         "showlegend": true,
         "type": "scattergeo"
        },
        {
         "customdata": [
          [
           235
          ]
         ],
         "geo": "geo",
         "hoverlabel": {
          "namelength": 0
         },
         "hovertemplate": "<b>%{hovertext}</b><br><br>Area=Jordan<br>size=%{marker.size}<br>Cases=%{customdata[0]}<br>alpha3=%{location}",
         "hovertext": [
          "Jordan"
         ],
         "legendgroup": "Jordan",
         "locations": [
          "JOR"
         ],
         "marker": {
          "color": "#FF6692",
          "size": [
           7.049675571041578
          ],
          "sizemode": "area",
          "sizeref": 1.4999884392123928
         },
         "name": "Jordan",
         "showlegend": true,
         "type": "scattergeo"
        },
        {
         "customdata": [
          [
           235
          ]
         ],
         "geo": "geo",
         "hoverlabel": {
          "namelength": 0
         },
         "hovertemplate": "<b>%{hovertext}</b><br><br>Area=Kuwait<br>size=%{marker.size}<br>Cases=%{customdata[0]}<br>alpha3=%{location}",
         "hovertext": [
          "Kuwait"
         ],
         "legendgroup": "Kuwait",
         "locations": [
          "KWT"
         ],
         "marker": {
          "color": "#B6E880",
          "size": [
           7.049675571041578
          ],
          "sizemode": "area",
          "sizeref": 1.4999884392123928
         },
         "name": "Kuwait",
         "showlegend": true,
         "type": "scattergeo"
        },
        {
         "customdata": [
          [
           231
          ]
         ],
         "geo": "geo",
         "hoverlabel": {
          "namelength": 0
         },
         "hovertemplate": "<b>%{hovertext}</b><br><br>Area=Moldova<br>size=%{marker.size}<br>Cases=%{customdata[0]}<br>alpha3=%{location}",
         "hovertext": [
          "Moldova"
         ],
         "legendgroup": "Moldova",
         "locations": [
          "MDA"
         ],
         "marker": {
          "color": "#FF97FF",
          "size": [
           6.9296918566678265
          ],
          "sizemode": "area",
          "sizeref": 1.4999884392123928
         },
         "name": "Moldova",
         "showlegend": true,
         "type": "scattergeo"
        },
        {
         "customdata": [
          [
           229
          ]
         ],
         "geo": "geo",
         "hoverlabel": {
          "namelength": 0
         },
         "hovertemplate": "<b>%{hovertext}</b><br><br>Area=Kazakhstan<br>size=%{marker.size}<br>Cases=%{customdata[0]}<br>alpha3=%{location}",
         "hovertext": [
          "Kazakhstan"
         ],
         "legendgroup": "Kazakhstan",
         "locations": [
          "KAZ"
         ],
         "marker": {
          "color": "#FECB52",
          "size": [
           6.869699791018249
          ],
          "sizemode": "area",
          "sizeref": 1.4999884392123928
         },
         "name": "Kazakhstan",
         "showlegend": true,
         "type": "scattergeo"
        },
        {
         "customdata": [
          [
           227
          ]
         ],
         "geo": "geo",
         "hoverlabel": {
          "namelength": 0
         },
         "hovertemplate": "<b>%{hovertext}</b><br><br>Area=Tunisia<br>size=%{marker.size}<br>Cases=%{customdata[0]}<br>alpha3=%{location}",
         "hovertext": [
          "Tunisia"
         ],
         "legendgroup": "Tunisia",
         "locations": [
          "TUN"
         ],
         "marker": {
          "color": "#636efa",
          "size": [
           6.80970758799269
          ],
          "sizemode": "area",
          "sizeref": 1.4999884392123928
         },
         "name": "Tunisia",
         "showlegend": true,
         "type": "scattergeo"
        },
        {
         "customdata": [
          [
           224
          ]
         ],
         "geo": "geo",
         "hoverlabel": {
          "namelength": 0
         },
         "hovertemplate": "<b>%{hovertext}</b><br><br>Area=San_Marino<br>size=%{marker.size}<br>Cases=%{customdata[0]}<br>alpha3=%{location}",
         "hovertext": [
          "San_Marino"
         ],
         "legendgroup": "San_Marino",
         "locations": [
          "SMR"
         ],
         "marker": {
          "color": "#EF553B",
          "size": [
           6.719719028498018
          ],
          "sizemode": "area",
          "sizeref": 1.4999884392123928
         },
         "name": "San_Marino",
         "showlegend": true,
         "type": "scattergeo"
        },
        {
         "customdata": [
          [
           223
          ]
         ],
         "geo": "geo",
         "hoverlabel": {
          "namelength": 0
         },
         "hovertemplate": "<b>%{hovertext}</b><br><br>Area=Vietnam<br>size=%{marker.size}<br>Cases=%{customdata[0]}<br>alpha3=%{location}",
         "hovertext": [
          "Vietnam"
         ],
         "legendgroup": "Vietnam",
         "locations": [
          "VNM"
         ],
         "marker": {
          "color": "#00cc96",
          "size": [
           6.689722774611133
          ],
          "sizemode": "area",
          "sizeref": 1.4999884392123928
         },
         "name": "Vietnam",
         "showlegend": true,
         "type": "scattergeo"
        },
        {
         "customdata": [
          [
           197
          ]
         ],
         "geo": "geo",
         "hoverlabel": {
          "namelength": 0
         },
         "hovertemplate": "<b>%{hovertext}</b><br><br>Area=Albania<br>size=%{marker.size}<br>Cases=%{customdata[0]}<br>alpha3=%{location}",
         "hovertext": [
          "Albania"
         ],
         "legendgroup": "Albania",
         "locations": [
          "ALB"
         ],
         "marker": {
          "color": "#ab63fa",
          "size": [
           5.909808873092441
          ],
          "sizemode": "area",
          "sizeref": 1.4999884392123928
         },
         "name": "Albania",
         "showlegend": true,
         "type": "scattergeo"
        },
        {
         "customdata": [
          [
           182
          ]
         ],
         "geo": "geo",
         "hoverlabel": {
          "namelength": 0
         },
         "hovertemplate": "<b>%{hovertext}</b><br><br>Area=Azerbaijan<br>size=%{marker.size}<br>Cases=%{customdata[0]}<br>alpha3=%{location}",
         "hovertext": [
          "Azerbaijan"
         ],
         "legendgroup": "Azerbaijan",
         "locations": [
          "AZE"
         ],
         "marker": {
          "color": "#FFA15A",
          "size": [
           5.45984929079209
          ],
          "sizemode": "area",
          "sizeref": 1.4999884392123928
         },
         "name": "Azerbaijan",
         "showlegend": true,
         "type": "scattergeo"
        },
        {
         "customdata": [
          [
           180
          ]
         ],
         "geo": "geo",
         "hoverlabel": {
          "namelength": 0
         },
         "hovertemplate": "<b>%{hovertext}</b><br><br>Area=Burkina_Faso<br>size=%{marker.size}<br>Cases=%{customdata[0]}<br>alpha3=%{location}",
         "hovertext": [
          "Burkina_Faso"
         ],
         "legendgroup": "Burkina_Faso",
         "locations": [
          "BFA"
         ],
         "marker": {
          "color": "#19d3f3",
          "size": [
           5.3998542047237645
          ],
          "sizemode": "area",
          "sizeref": 1.4999884392123928
         },
         "name": "Burkina_Faso",
         "showlegend": true,
         "type": "scattergeo"
        },
        {
         "customdata": [
          [
           179
          ]
         ],
         "geo": "geo",
         "hoverlabel": {
          "namelength": 0
         },
         "hovertemplate": "<b>%{hovertext}</b><br><br>Area=Cyprus<br>size=%{marker.size}<br>Cases=%{customdata[0]}<br>alpha3=%{location}",
         "hovertext": [
          "Cyprus"
         ],
         "legendgroup": "Cyprus",
         "locations": [
          "CYP"
         ],
         "marker": {
          "color": "#FF6692",
          "size": [
           5.369856621119
          ],
          "sizemode": "area",
          "sizeref": 1.4999884392123928
         },
         "name": "Cyprus",
         "showlegend": true,
         "type": "scattergeo"
        },
        {
         "customdata": [
          [
           155
          ]
         ],
         "geo": "geo",
         "hoverlabel": {
          "namelength": 0
         },
         "hovertemplate": "<b>%{hovertext}</b><br><br>Area=Faroe_Islands<br>size=%{marker.size}<br>Cases=%{customdata[0]}<br>alpha3=%{location}",
         "hovertext": [
          "Faroe_Islands"
         ],
         "legendgroup": "Faroe_Islands",
         "locations": [
          "FRO"
         ],
         "marker": {
          "color": "#B6E880",
          "size": [
           4.649906905361598
          ],
          "sizemode": "area",
          "sizeref": 1.4999884392123928
         },
         "name": "Faroe_Islands",
         "showlegend": true,
         "type": "scattergeo"
        },
        {
         "customdata": [
          [
           152
          ]
         ],
         "geo": "geo",
         "hoverlabel": {
          "namelength": 0
         },
         "hovertemplate": "<b>%{hovertext}</b><br><br>Area=Oman<br>size=%{marker.size}<br>Cases=%{customdata[0]}<br>alpha3=%{location}",
         "hovertext": [
          "Oman"
         ],
         "legendgroup": "Oman",
         "locations": [
          "OMN"
         ],
         "marker": {
          "color": "#FF97FF",
          "size": [
           4.559912206828373
          ],
          "sizemode": "area",
          "sizeref": 1.4999884392123928
         },
         "name": "Oman",
         "showlegend": true,
         "type": "scattergeo"
        },
        {
         "customdata": [
          [
           141
          ]
         ],
         "geo": "geo",
         "hoverlabel": {
          "namelength": 0
         },
         "hovertemplate": "<b>%{hovertext}</b><br><br>Area=Ghana<br>size=%{marker.size}<br>Cases=%{customdata[0]}<br>alpha3=%{location}",
         "hovertext": [
          "Ghana"
         ],
         "legendgroup": "Ghana",
         "locations": [
          "GHA"
         ],
         "marker": {
          "color": "#FECB52",
          "size": [
           4.229929920868243
          ],
          "sizemode": "area",
          "sizeref": 1.4999884392123928
         },
         "name": "Ghana",
         "showlegend": true,
         "type": "scattergeo"
        },
        {
         "customdata": [
          [
           140
          ]
         ],
         "geo": "geo",
         "hoverlabel": {
          "namelength": 0
         },
         "hovertemplate": "<b>%{hovertext}</b><br><br>Area=Cote_dIvoire<br>size=%{marker.size}<br>Cases=%{customdata[0]}<br>alpha3=%{location}",
         "hovertext": [
          "Cote_dIvoire"
         ],
         "legendgroup": "Cote_dIvoire",
         "locations": [
          "CIV"
         ],
         "marker": {
          "color": "#636efa",
          "size": [
           4.199931401344533
          ],
          "sizemode": "area",
          "sizeref": 1.4999884392123928
         },
         "name": "Cote_dIvoire",
         "showlegend": true,
         "type": "scattergeo"
        },
        {
         "customdata": [
          [
           139
          ]
         ],
         "geo": "geo",
         "hoverlabel": {
          "namelength": 0
         },
         "hovertemplate": "<b>%{hovertext}</b><br><br>Area=Malta<br>size=%{marker.size}<br>Cases=%{customdata[0]}<br>alpha3=%{location}",
         "hovertext": [
          "Malta"
         ],
         "legendgroup": "Malta",
         "locations": [
          "MLT"
         ],
         "marker": {
          "color": "#EF553B",
          "size": [
           4.169932860822195
          ],
          "sizemode": "area",
          "sizeref": 1.4999884392123928
         },
         "name": "Malta",
         "showlegend": true,
         "type": "scattergeo"
        },
        {
         "customdata": [
          [
           133
          ]
         ],
         "geo": "geo",
         "hoverlabel": {
          "namelength": 0
         },
         "hovertemplate": "<b>%{hovertext}</b><br><br>Area=Uzbekistan<br>size=%{marker.size}<br>Cases=%{customdata[0]}<br>alpha3=%{location}",
         "hovertext": [
          "Uzbekistan"
         ],
         "legendgroup": "Uzbekistan",
         "locations": [
          "UZB"
         ],
         "marker": {
          "color": "#00cc96",
          "size": [
           3.9899411851153763
          ],
          "sizemode": "area",
          "sizeref": 1.4999884392123928
         },
         "name": "Uzbekistan",
         "showlegend": true,
         "type": "scattergeo"
        },
        {
         "customdata": [
          [
           130
          ]
         ],
         "geo": "geo",
         "hoverlabel": {
          "namelength": 0
         },
         "hovertemplate": "<b>%{hovertext}</b><br><br>Area=Senegal<br>size=%{marker.size}<br>Cases=%{customdata[0]}<br>alpha3=%{location}",
         "hovertext": [
          "Senegal"
         ],
         "legendgroup": "Senegal",
         "locations": [
          "SEN"
         ],
         "marker": {
          "color": "#ab63fa",
          "size": [
           3.8999450759282164
          ],
          "sizemode": "area",
          "sizeref": 1.4999884392123928
         },
         "name": "Senegal",
         "showlegend": true,
         "type": "scattergeo"
        },
        {
         "customdata": [
          [
           120
          ]
         ],
         "geo": "geo",
         "hoverlabel": {
          "namelength": 0
         },
         "hovertemplate": "<b>%{hovertext}</b><br><br>Area=Brunei_Darussalam<br>size=%{marker.size}<br>Cases=%{customdata[0]}<br>alpha3=%{location}",
         "hovertext": [
          "Brunei_Darussalam"
         ],
         "legendgroup": "Brunei_Darussalam",
         "locations": [
          "BRN"
         ],
         "marker": {
          "color": "#FFA15A",
          "size": [
           3.599956800622071
          ],
          "sizemode": "area",
          "sizeref": 1.4999884392123928
         },
         "name": "Brunei_Darussalam",
         "showlegend": true,
         "type": "scattergeo"
        },
        {
         "customdata": [
          [
           119
          ]
         ],
         "geo": "geo",
         "hoverlabel": {
          "namelength": 0
         },
         "hovertemplate": "<b>%{hovertext}</b><br><br>Area=Cuba<br>size=%{marker.size}<br>Cases=%{customdata[0]}<br>alpha3=%{location}",
         "hovertext": [
          "Cuba"
         ],
         "legendgroup": "Cuba",
         "locations": [
          "CUB"
         ],
         "marker": {
          "color": "#19d3f3",
          "size": [
           3.5699578716215803
          ],
          "sizemode": "area",
          "sizeref": 1.4999884392123928
         },
         "name": "Cuba",
         "showlegend": true,
         "type": "scattergeo"
        },
        {
         "customdata": [
          [
           119
          ]
         ],
         "geo": "geo",
         "hoverlabel": {
          "namelength": 0
         },
         "hovertemplate": "<b>%{hovertext}</b><br><br>Area=Venezuela<br>size=%{marker.size}<br>Cases=%{customdata[0]}<br>alpha3=%{location}",
         "hovertext": [
          "Venezuela"
         ],
         "legendgroup": "Venezuela",
         "locations": [
          "VEN"
         ],
         "marker": {
          "color": "#FF6692",
          "size": [
           3.5699578716215803
          ],
          "sizemode": "area",
          "sizeref": 1.4999884392123928
         },
         "name": "Venezuela",
         "showlegend": true,
         "type": "scattergeo"
        },
        {
         "customdata": [
          [
           115
          ]
         ],
         "geo": "geo",
         "hoverlabel": {
          "namelength": 0
         },
         "hovertemplate": "<b>%{hovertext}</b><br><br>Area=Sri_Lanka<br>size=%{marker.size}<br>Cases=%{customdata[0]}<br>alpha3=%{location}",
         "hovertext": [
          "Sri_Lanka"
         ],
         "legendgroup": "Sri_Lanka",
         "locations": [
          "LKA"
         ],
         "marker": {
          "color": "#B6E880",
          "size": [
           3.4499619786278326
          ],
          "sizemode": "area",
          "sizeref": 1.4999884392123928
         },
         "name": "Sri_Lanka",
         "showlegend": true,
         "type": "scattergeo"
        },
        {
         "customdata": [
          [
           110
          ]
         ],
         "geo": "geo",
         "hoverlabel": {
          "namelength": 0
         },
         "hovertemplate": "<b>%{hovertext}</b><br><br>Area=Honduras<br>size=%{marker.size}<br>Cases=%{customdata[0]}<br>alpha3=%{location}",
         "hovertext": [
          "Honduras"
         ],
         "legendgroup": "Honduras",
         "locations": [
          "HND"
         ],
         "marker": {
          "color": "#FF97FF",
          "size": [
           3.2999667254026224
          ],
          "sizemode": "area",
          "sizeref": 1.4999884392123928
         },
         "name": "Honduras",
         "showlegend": true,
         "type": "scattergeo"
        },
        {
         "customdata": [
          [
           106
          ]
         ],
         "geo": "geo",
         "hoverlabel": {
          "namelength": 0
         },
         "hovertemplate": "<b>%{hovertext}</b><br><br>Area=Afghanistan<br>size=%{marker.size}<br>Cases=%{customdata[0]}<br>alpha3=%{location}",
         "hovertext": [
          "Afghanistan"
         ],
         "legendgroup": "Afghanistan",
         "locations": [
          "AFG"
         ],
         "marker": {
          "color": "#FECB52",
          "size": [
           3.1799702249345527
          ],
          "sizemode": "area",
          "sizeref": 1.4999884392123928
         },
         "name": "Afghanistan",
         "showlegend": true,
         "type": "scattergeo"
        },
        {
         "customdata": [
          [
           103
          ]
         ],
         "geo": "geo",
         "hoverlabel": {
          "namelength": 0
         },
         "hovertemplate": "<b>%{hovertext}</b><br><br>Area=Cambodia<br>size=%{marker.size}<br>Cases=%{customdata[0]}<br>alpha3=%{location}",
         "hovertext": [
          "Cambodia"
         ],
         "legendgroup": "Cambodia",
         "locations": [
          "KHM"
         ],
         "marker": {
          "color": "#636efa",
          "size": [
           3.0899726821148152
          ],
          "sizemode": "area",
          "sizeref": 1.4999884392123928
         },
         "name": "Cambodia",
         "showlegend": true,
         "type": "scattergeo"
        },
        {
         "customdata": [
          [
           102
          ]
         ],
         "geo": "geo",
         "hoverlabel": {
          "namelength": 0
         },
         "hovertemplate": "<b>%{hovertext}</b><br><br>Area=Mauritius<br>size=%{marker.size}<br>Cases=%{customdata[0]}<br>alpha3=%{location}",
         "hovertext": [
          "Mauritius"
         ],
         "legendgroup": "Mauritius",
         "locations": [
          "MUS"
         ],
         "marker": {
          "color": "#EF553B",
          "size": [
           3.0599734700760175
          ],
          "sizemode": "area",
          "sizeref": 1.4999884392123928
         },
         "name": "Mauritius",
         "showlegend": true,
         "type": "scattergeo"
        },
        {
         "customdata": [
          [
           100
          ]
         ],
         "geo": "geo",
         "hoverlabel": {
          "namelength": 0
         },
         "hovertemplate": "<b>%{hovertext}</b><br><br>Area=Puerto_Rico<br>size=%{marker.size}<br>Cases=%{customdata[0]}<br>alpha3=%{location}",
         "hovertext": [
          "Puerto_Rico"
         ],
         "legendgroup": "Puerto_Rico",
         "locations": [
          "PRI"
         ],
         "marker": {
          "color": "#00cc96",
          "size": [
           2.9999750002499974
          ],
          "sizemode": "area",
          "sizeref": 1.4999884392123928
         },
         "name": "Puerto_Rico",
         "showlegend": true,
         "type": "scattergeo"
        },
        {
         "customdata": [
          [
           99
          ]
         ],
         "geo": "geo",
         "hoverlabel": {
          "namelength": 0
         },
         "hovertemplate": "<b>%{hovertext}</b><br><br>Area=Cameroon<br>size=%{marker.size}<br>Cases=%{customdata[0]}<br>alpha3=%{location}",
         "hovertext": [
          "Cameroon"
         ],
         "legendgroup": "Cameroon",
         "locations": [
          "CMR"
         ],
         "marker": {
          "color": "#ab63fa",
          "size": [
           2.969975742762746
          ],
          "sizemode": "area",
          "sizeref": 1.4999884392123928
         },
         "name": "Cameroon",
         "showlegend": true,
         "type": "scattergeo"
        },
        {
         "customdata": [
          [
           97
          ]
         ],
         "geo": "geo",
         "hoverlabel": {
          "namelength": 0
         },
         "hovertemplate": "<b>%{hovertext}</b><br><br>Area=Nigeria<br>size=%{marker.size}<br>Cases=%{customdata[0]}<br>alpha3=%{location}",
         "hovertext": [
          "Nigeria"
         ],
         "legendgroup": "Nigeria",
         "locations": [
          "NGA"
         ],
         "marker": {
          "color": "#FFA15A",
          "size": [
           2.9099771833896817
          ],
          "sizemode": "area",
          "sizeref": 1.4999884392123928
         },
         "name": "Nigeria",
         "showlegend": true,
         "type": "scattergeo"
        },
        {
         "customdata": [
          [
           97
          ]
         ],
         "geo": "geo",
         "hoverlabel": {
          "namelength": 0
         },
         "hovertemplate": "<b>%{hovertext}</b><br><br>Area=Palestine<br>size=%{marker.size}<br>Cases=%{customdata[0]}<br>alpha3=%{location}",
         "hovertext": [
          "Palestine"
         ],
         "legendgroup": "Palestine",
         "locations": [
          "PSE"
         ],
         "marker": {
          "color": "#19d3f3",
          "size": [
           2.9099771833896817
          ],
          "sizemode": "area",
          "sizeref": 1.4999884392123928
         },
         "name": "Palestine",
         "showlegend": true,
         "type": "scattergeo"
        },
        {
         "customdata": [
          [
           94
          ]
         ],
         "geo": "geo",
         "hoverlabel": {
          "namelength": 0
         },
         "hovertemplate": "<b>%{hovertext}</b><br><br>Area=Belarus<br>size=%{marker.size}<br>Cases=%{customdata[0]}<br>alpha3=%{location}",
         "hovertext": [
          "Belarus"
         ],
         "legendgroup": "Belarus",
         "locations": [
          "BLR"
         ],
         "marker": {
          "color": "#FF6692",
          "size": [
           2.819979235583475
          ],
          "sizemode": "area",
          "sizeref": 1.4999884392123928
         },
         "name": "Belarus",
         "showlegend": true,
         "type": "scattergeo"
        },
        {
         "customdata": [
          [
           86
          ]
         ],
         "geo": "geo",
         "hoverlabel": {
          "namelength": 0
         },
         "hovertemplate": "<b>%{hovertext}</b><br><br>Area=Kosovo<br>size=%{marker.size}<br>Cases=%{customdata[0]}<br>alpha3=%{location}",
         "hovertext": [
          "Kosovo"
         ],
         "legendgroup": "Kosovo",
         "locations": [
          "XKX"
         ],
         "marker": {
          "color": "#B6E880",
          "size": [
           2.5799840987176057
          ],
          "sizemode": "area",
          "sizeref": 1.4999884392123928
         },
         "name": "Kosovo",
         "showlegend": true,
         "type": "scattergeo"
        },
        {
         "customdata": [
          [
           85
          ]
         ],
         "geo": "geo",
         "hoverlabel": {
          "namelength": 0
         },
         "hovertemplate": "<b>%{hovertext}</b><br><br>Area=Georgia<br>size=%{marker.size}<br>Cases=%{customdata[0]}<br>alpha3=%{location}",
         "hovertext": [
          "Georgia"
         ],
         "legendgroup": "Georgia",
         "locations": [
          "GEO"
         ],
         "marker": {
          "color": "#FF97FF",
          "size": [
           2.5499846469859255
          ],
          "sizemode": "area",
          "sizeref": 1.4999884392123928
         },
         "name": "Georgia",
         "showlegend": true,
         "type": "scattergeo"
        },
        {
         "customdata": [
          [
           84
          ]
         ],
         "geo": "geo",
         "hoverlabel": {
          "namelength": 0
         },
         "hovertemplate": "<b>%{hovertext}</b><br><br>Area=Kyrgyzstan<br>size=%{marker.size}<br>Cases=%{customdata[0]}<br>alpha3=%{location}",
         "hovertext": [
          "Kyrgyzstan"
         ],
         "legendgroup": "Kyrgyzstan",
         "locations": [
          "KGZ"
         ],
         "marker": {
          "color": "#FECB52",
          "size": [
           2.519985182504552
          ],
          "sizemode": "area",
          "sizeref": 1.4999884392123928
         },
         "name": "Kyrgyzstan",
         "showlegend": true,
         "type": "scattergeo"
        },
        {
         "customdata": [
          [
           84
          ]
         ],
         "geo": "geo",
         "hoverlabel": {
          "namelength": 0
         },
         "hovertemplate": "<b>%{hovertext}</b><br><br>Area=Montenegro<br>size=%{marker.size}<br>Cases=%{customdata[0]}<br>alpha3=%{location}",
         "hovertext": [
          "Montenegro"
         ],
         "legendgroup": "Montenegro",
         "locations": [
          "MNE"
         ],
         "marker": {
          "color": "#636efa",
          "size": [
           2.519985182504552
          ],
          "sizemode": "area",
          "sizeref": 1.4999884392123928
         },
         "name": "Montenegro",
         "showlegend": true,
         "type": "scattergeo"
        },
        {
         "customdata": [
          [
           81
          ]
         ],
         "geo": "geo",
         "hoverlabel": {
          "namelength": 0
         },
         "hovertemplate": "<b>%{hovertext}</b><br><br>Area=Bolivia<br>size=%{marker.size}<br>Cases=%{customdata[0]}<br>alpha3=%{location}",
         "hovertext": [
          "Bolivia"
         ],
         "legendgroup": "Bolivia",
         "locations": [
          "BOL"
         ],
         "marker": {
          "color": "#EF553B",
          "size": [
           2.429986714062169
          ],
          "sizemode": "area",
          "sizeref": 1.4999884392123928
         },
         "name": "Bolivia",
         "showlegend": true,
         "type": "scattergeo"
        },
        {
         "customdata": [
          [
           74
          ]
         ],
         "geo": "geo",
         "hoverlabel": {
          "namelength": 0
         },
         "hovertemplate": "<b>%{hovertext}</b><br><br>Area=Trinidad_and_Tobago<br>size=%{marker.size}<br>Cases=%{customdata[0]}<br>alpha3=%{location}",
         "hovertext": [
          "Trinidad_and_Tobago"
         ],
         "legendgroup": "Trinidad_and_Tobago",
         "locations": [
          "TTO"
         ],
         "marker": {
          "color": "#00cc96",
          "size": [
           2.2199898694554747
          ],
          "sizemode": "area",
          "sizeref": 1.4999884392123928
         },
         "name": "Trinidad_and_Tobago",
         "showlegend": true,
         "type": "scattergeo"
        },
        {
         "customdata": [
          [
           61
          ]
         ],
         "geo": "geo",
         "hoverlabel": {
          "namelength": 0
         },
         "hovertemplate": "<b>%{hovertext}</b><br><br>Area=Jersey<br>size=%{marker.size}<br>Cases=%{customdata[0]}<br>alpha3=%{location}",
         "hovertext": [
          "Jersey"
         ],
         "legendgroup": "Jersey",
         "locations": [
          "JEY"
         ],
         "marker": {
          "color": "#ab63fa",
          "size": [
           1.829994325496115
          ],
          "sizemode": "area",
          "sizeref": 1.4999884392123928
         },
         "name": "Jersey",
         "showlegend": true,
         "type": "scattergeo"
        },
        {
         "customdata": [
          [
           61
          ]
         ],
         "geo": "geo",
         "hoverlabel": {
          "namelength": 0
         },
         "hovertemplate": "<b>%{hovertext}</b><br><br>Area=Liechtenstein<br>size=%{marker.size}<br>Cases=%{customdata[0]}<br>alpha3=%{location}",
         "hovertext": [
          "Liechtenstein"
         ],
         "legendgroup": "Liechtenstein",
         "locations": [
          "LIE"
         ],
         "marker": {
          "color": "#FFA15A",
          "size": [
           1.829994325496115
          ],
          "sizemode": "area",
          "sizeref": 1.4999884392123928
         },
         "name": "Liechtenstein",
         "showlegend": true,
         "type": "scattergeo"
        },
        {
         "customdata": [
          [
           60
          ]
         ],
         "geo": "geo",
         "hoverlabel": {
          "namelength": 0
         },
         "hovertemplate": "<b>%{hovertext}</b><br><br>Area=Rwanda<br>size=%{marker.size}<br>Cases=%{customdata[0]}<br>alpha3=%{location}",
         "hovertext": [
          "Rwanda"
         ],
         "legendgroup": "Rwanda",
         "locations": [
          "RWA"
         ],
         "marker": {
          "color": "#19d3f3",
          "size": [
           1.79999460001944
          ],
          "sizemode": "area",
          "sizeref": 1.4999884392123928
         },
         "name": "Rwanda",
         "showlegend": true,
         "type": "scattergeo"
        },
        {
         "customdata": [
          [
           59
          ]
         ],
         "geo": "geo",
         "hoverlabel": {
          "namelength": 0
         },
         "hovertemplate": "<b>%{hovertext}</b><br><br>Area=Paraguay<br>size=%{marker.size}<br>Cases=%{customdata[0]}<br>alpha3=%{location}",
         "hovertext": [
          "Paraguay"
         ],
         "legendgroup": "Paraguay",
         "locations": [
          "PRY"
         ],
         "marker": {
          "color": "#FF6692",
          "size": [
           1.7699948655428728
          ],
          "sizemode": "area",
          "sizeref": 1.4999884392123928
         },
         "name": "Paraguay",
         "showlegend": true,
         "type": "scattergeo"
        },
        {
         "customdata": [
          [
           58
          ]
         ],
         "geo": "geo",
         "hoverlabel": {
          "namelength": 0
         },
         "hovertemplate": "<b>%{hovertext}</b><br><br>Area=Democratic_Republic_of_the_Congo<br>size=%{marker.size}<br>Cases=%{customdata[0]}<br>alpha3=%{location}",
         "hovertext": [
          "Democratic_Republic_of_the_Congo"
         ],
         "legendgroup": "Democratic_Republic_of_the_Congo",
         "locations": [
          "COD"
         ],
         "marker": {
          "color": "#B6E880",
          "size": [
           1.7399951222164087
          ],
          "sizemode": "area",
          "sizeref": 1.4999884392123928
         },
         "name": "Democratic_Republic_of_the_Congo",
         "showlegend": true,
         "type": "scattergeo"
        },
        {
         "customdata": [
          [
           56
          ]
         ],
         "geo": "geo",
         "hoverlabel": {
          "namelength": 0
         },
         "hovertemplate": "<b>%{hovertext}</b><br><br>Area=Gibraltar<br>size=%{marker.size}<br>Cases=%{customdata[0]}<br>alpha3=%{location}",
         "hovertext": [
          "Gibraltar"
         ],
         "legendgroup": "Gibraltar",
         "locations": [
          "GIB"
         ],
         "marker": {
          "color": "#FF97FF",
          "size": [
           1.679995609613768
          ],
          "sizemode": "area",
          "sizeref": 1.4999884392123928
         },
         "name": "Gibraltar",
         "showlegend": true,
         "type": "scattergeo"
        },
        {
         "customdata": [
          [
           55
          ]
         ],
         "geo": "geo",
         "hoverlabel": {
          "namelength": 0
         },
         "hovertemplate": "<b>%{hovertext}</b><br><br>Area=Guam<br>size=%{marker.size}<br>Cases=%{customdata[0]}<br>alpha3=%{location}",
         "hovertext": [
          "Guam"
         ],
         "legendgroup": "Guam",
         "locations": [
          "GUM"
         ],
         "marker": {
          "color": "#FECB52",
          "size": [
           1.6499958406375819
          ],
          "sizemode": "area",
          "sizeref": 1.4999884392123928
         },
         "name": "Guam",
         "showlegend": true,
         "type": "scattergeo"
        },
        {
         "customdata": [
          [
           48
          ]
         ],
         "geo": "geo",
         "hoverlabel": {
          "namelength": 0
         },
         "hovertemplate": "<b>%{hovertext}</b><br><br>Area=Bangladesh<br>size=%{marker.size}<br>Cases=%{customdata[0]}<br>alpha3=%{location}",
         "hovertext": [
          "Bangladesh"
         ],
         "legendgroup": "Bangladesh",
         "locations": [
          "BGD"
         ],
         "marker": {
          "color": "#636efa",
          "size": [
           1.43999723520637
          ],
          "sizemode": "area",
          "sizeref": 1.4999884392123928
         },
         "name": "Bangladesh",
         "showlegend": true,
         "type": "scattergeo"
        },
        {
         "customdata": [
          [
           43
          ]
         ],
         "geo": "geo",
         "hoverlabel": {
          "namelength": 0
         },
         "hovertemplate": "<b>%{hovertext}</b><br><br>Area=Monaco<br>size=%{marker.size}<br>Cases=%{customdata[0]}<br>alpha3=%{location}",
         "hovertext": [
          "Monaco"
         ],
         "legendgroup": "Monaco",
         "locations": [
          "MCO"
         ],
         "marker": {
          "color": "#EF553B",
          "size": [
           1.2899980123286754
          ],
          "sizemode": "area",
          "sizeref": 1.4999884392123928
         },
         "name": "Monaco",
         "showlegend": true,
         "type": "scattergeo"
        },
        {
         "customdata": [
          [
           39
          ]
         ],
         "geo": "geo",
         "hoverlabel": {
          "namelength": 0
         },
         "hovertemplate": "<b>%{hovertext}</b><br><br>Area=Guernsey<br>size=%{marker.size}<br>Cases=%{customdata[0]}<br>alpha3=%{location}",
         "hovertext": [
          "Guernsey"
         ],
         "legendgroup": "Guernsey",
         "locations": [
          "GGY"
         ],
         "marker": {
          "color": "#00cc96",
          "size": [
           1.1699985170272555
          ],
          "sizemode": "area",
          "sizeref": 1.4999884392123928
         },
         "name": "Guernsey",
         "showlegend": true,
         "type": "scattergeo"
        },
        {
         "customdata": [
          [
           38
          ]
         ],
         "geo": "geo",
         "hoverlabel": {
          "namelength": 0
         },
         "hovertemplate": "<b>%{hovertext}</b><br><br>Area=Kenya<br>size=%{marker.size}<br>Cases=%{customdata[0]}<br>alpha3=%{location}",
         "hovertext": [
          "Kenya"
         ],
         "legendgroup": "Kenya",
         "locations": [
          "KEN"
         ],
         "marker": {
          "color": "#ab63fa",
          "size": [
           1.139998628201981
          ],
          "sizemode": "area",
          "sizeref": 1.4999884392123928
         },
         "name": "Kenya",
         "showlegend": true,
         "type": "scattergeo"
        },
        {
         "customdata": [
          [
           34
          ]
         ],
         "geo": "geo",
         "hoverlabel": {
          "namelength": 0
         },
         "hovertemplate": "<b>%{hovertext}</b><br><br>Area=Guatemala<br>size=%{marker.size}<br>Cases=%{customdata[0]}<br>alpha3=%{location}",
         "hovertext": [
          "Guatemala"
         ],
         "legendgroup": "Guatemala",
         "locations": [
          "GTM"
         ],
         "marker": {
          "color": "#FFA15A",
          "size": [
           1.0199990174011357
          ],
          "sizemode": "area",
          "sizeref": 1.4999884392123928
         },
         "name": "Guatemala",
         "showlegend": true,
         "type": "scattergeo"
        },
        {
         "customdata": [
          [
           34
          ]
         ],
         "geo": "geo",
         "hoverlabel": {
          "namelength": 0
         },
         "hovertemplate": "<b>%{hovertext}</b><br><br>Area=French_Polynesia<br>size=%{marker.size}<br>Cases=%{customdata[0]}<br>alpha3=%{location}",
         "hovertext": [
          "French_Polynesia"
         ],
         "legendgroup": "French_Polynesia",
         "locations": [
          "PYF"
         ],
         "marker": {
          "color": "#19d3f3",
          "size": [
           1.0199990174011357
          ],
          "sizemode": "area",
          "sizeref": 1.4999884392123928
         },
         "name": "French_Polynesia",
         "showlegend": true,
         "type": "scattergeo"
        },
        {
         "customdata": [
          [
           32
          ]
         ],
         "geo": "geo",
         "hoverlabel": {
          "namelength": 0
         },
         "hovertemplate": "<b>%{hovertext}</b><br><br>Area=Jamaica<br>size=%{marker.size}<br>Cases=%{customdata[0]}<br>alpha3=%{location}",
         "hovertext": [
          "Jamaica"
         ],
         "legendgroup": "Jamaica",
         "locations": [
          "JAM"
         ],
         "marker": {
          "color": "#FF6692",
          "size": [
           0.9599991808008389
          ],
          "sizemode": "area",
          "sizeref": 1.4999884392123928
         },
         "name": "Jamaica",
         "showlegend": true,
         "type": "scattergeo"
        },
        {
         "customdata": [
          [
           32
          ]
         ],
         "geo": "geo",
         "hoverlabel": {
          "namelength": 0
         },
         "hovertemplate": "<b>%{hovertext}</b><br><br>Area=Isle_of_Man<br>size=%{marker.size}<br>Cases=%{customdata[0]}<br>alpha3=%{location}",
         "hovertext": [
          "Isle_of_Man"
         ],
         "legendgroup": "Isle_of_Man",
         "locations": [
          "IMN"
         ],
         "marker": {
          "color": "#B6E880",
          "size": [
           0.9599991808008389
          ],
          "sizemode": "area",
          "sizeref": 1.4999884392123928
         },
         "name": "Isle_of_Man",
         "showlegend": true,
         "type": "scattergeo"
        },
        {
         "customdata": [
          [
           30
          ]
         ],
         "geo": "geo",
         "hoverlabel": {
          "namelength": 0
         },
         "hovertemplate": "<b>%{hovertext}</b><br><br>Area=Uganda<br>size=%{marker.size}<br>Cases=%{customdata[0]}<br>alpha3=%{location}",
         "hovertext": [
          "Uganda"
         ],
         "legendgroup": "Uganda",
         "locations": [
          "UGA"
         ],
         "marker": {
          "color": "#FF97FF",
          "size": [
           0.8999993250006075
          ],
          "sizemode": "area",
          "sizeref": 1.4999884392123928
         },
         "name": "Uganda",
         "showlegend": true,
         "type": "scattergeo"
        },
        {
         "customdata": [
          [
           28
          ]
         ],
         "geo": "geo",
         "hoverlabel": {
          "namelength": 0
         },
         "hovertemplate": "<b>%{hovertext}</b><br><br>Area=Togo<br>size=%{marker.size}<br>Cases=%{customdata[0]}<br>alpha3=%{location}",
         "hovertext": [
          "Togo"
         ],
         "legendgroup": "Togo",
         "locations": [
          "TGO"
         ],
         "marker": {
          "color": "#FECB52",
          "size": [
           0.8399994512004303
          ],
          "sizemode": "area",
          "sizeref": 1.4999884392123928
         },
         "name": "Togo",
         "showlegend": true,
         "type": "scattergeo"
        },
        {
         "customdata": [
          [
           28
          ]
         ],
         "geo": "geo",
         "hoverlabel": {
          "namelength": 0
         },
         "hovertemplate": "<b>%{hovertext}</b><br><br>Area=Madagascar<br>size=%{marker.size}<br>Cases=%{customdata[0]}<br>alpha3=%{location}",
         "hovertext": [
          "Madagascar"
         ],
         "legendgroup": "Madagascar",
         "locations": [
          "MDG"
         ],
         "marker": {
          "color": "#636efa",
          "size": [
           0.8399994512004303
          ],
          "sizemode": "area",
          "sizeref": 1.4999884392123928
         },
         "name": "Madagascar",
         "showlegend": true,
         "type": "scattergeo"
        },
        {
         "customdata": [
          [
           28
          ]
         ],
         "geo": "geo",
         "hoverlabel": {
          "namelength": 0
         },
         "hovertemplate": "<b>%{hovertext}</b><br><br>Area=Zambia<br>size=%{marker.size}<br>Cases=%{customdata[0]}<br>alpha3=%{location}",
         "hovertext": [
          "Zambia"
         ],
         "legendgroup": "Zambia",
         "locations": [
          "ZMB"
         ],
         "marker": {
          "color": "#EF553B",
          "size": [
           0.8399994512004303
          ],
          "sizemode": "area",
          "sizeref": 1.4999884392123928
         },
         "name": "Zambia",
         "showlegend": true,
         "type": "scattergeo"
        },
        {
         "customdata": [
          [
           28
          ]
         ],
         "geo": "geo",
         "hoverlabel": {
          "namelength": 0
         },
         "hovertemplate": "<b>%{hovertext}</b><br><br>Area=Aruba<br>size=%{marker.size}<br>Cases=%{customdata[0]}<br>alpha3=%{location}",
         "hovertext": [
          "Aruba"
         ],
         "legendgroup": "Aruba",
         "locations": [
          "ABW"
         ],
         "marker": {
          "color": "#00cc96",
          "size": [
           0.8399994512004303
          ],
          "sizemode": "area",
          "sizeref": 1.4999884392123928
         },
         "name": "Aruba",
         "showlegend": true,
         "type": "scattergeo"
        },
        {
         "customdata": [
          [
           26
          ]
         ],
         "geo": "geo",
         "hoverlabel": {
          "namelength": 0
         },
         "hovertemplate": "<b>%{hovertext}</b><br><br>Area=Barbados<br>size=%{marker.size}<br>Cases=%{customdata[0]}<br>alpha3=%{location}",
         "hovertext": [
          "Barbados"
         ],
         "legendgroup": "Barbados",
         "locations": [
          "BRB"
         ],
         "marker": {
          "color": "#ab63fa",
          "size": [
           0.779999560600297
          ],
          "sizemode": "area",
          "sizeref": 1.4999884392123928
         },
         "name": "Barbados",
         "showlegend": true,
         "type": "scattergeo"
        },
        {
         "customdata": [
          [
           22
          ]
         ],
         "geo": "geo",
         "hoverlabel": {
          "namelength": 0
         },
         "hovertemplate": "<b>%{hovertext}</b><br><br>Area=Bermuda<br>size=%{marker.size}<br>Cases=%{customdata[0]}<br>alpha3=%{location}",
         "hovertext": [
          "Bermuda"
         ],
         "legendgroup": "Bermuda",
         "locations": [
          "BMU"
         ],
         "marker": {
          "color": "#FFA15A",
          "size": [
           0.6599997338001288
          ],
          "sizemode": "area",
          "sizeref": 1.4999884392123928
         },
         "name": "Bermuda",
         "showlegend": true,
         "type": "scattergeo"
        },
        {
         "customdata": [
          [
           22
          ]
         ],
         "geo": "geo",
         "hoverlabel": {
          "namelength": 0
         },
         "hovertemplate": "<b>%{hovertext}</b><br><br>Area=United_States_Virgin_Islands<br>size=%{marker.size}<br>Cases=%{customdata[0]}<br>alpha3=%{location}",
         "hovertext": [
          "United_States_Virgin_Islands"
         ],
         "legendgroup": "United_States_Virgin_Islands",
         "locations": [
          "VIR"
         ],
         "marker": {
          "color": "#19d3f3",
          "size": [
           0.6599997338001288
          ],
          "sizemode": "area",
          "sizeref": 1.4999884392123928
         },
         "name": "United_States_Virgin_Islands",
         "showlegend": true,
         "type": "scattergeo"
        },
        {
         "customdata": [
          [
           19
          ]
         ],
         "geo": "geo",
         "hoverlabel": {
          "namelength": 0
         },
         "hovertemplate": "<b>%{hovertext}</b><br><br>Area=Congo<br>size=%{marker.size}<br>Cases=%{customdata[0]}<br>alpha3=%{location}",
         "hovertext": [
          "Congo"
         ],
         "legendgroup": "Congo",
         "locations": [
          "COG"
         ],
         "marker": {
          "color": "#FF6692",
          "size": [
           0.5699998285250619
          ],
          "sizemode": "area",
          "sizeref": 1.4999884392123928
         },
         "name": "Congo",
         "showlegend": true,
         "type": "scattergeo"
        },
        {
         "customdata": [
          [
           19
          ]
         ],
         "geo": "geo",
         "hoverlabel": {
          "namelength": 0
         },
         "hovertemplate": "<b>%{hovertext}</b><br><br>Area=El_Salvador<br>size=%{marker.size}<br>Cases=%{customdata[0]}<br>alpha3=%{location}",
         "hovertext": [
          "El_Salvador"
         ],
         "legendgroup": "El_Salvador",
         "locations": [
          "SLV"
         ],
         "marker": {
          "color": "#B6E880",
          "size": [
           0.5699998285250619
          ],
          "sizemode": "area",
          "sizeref": 1.4999884392123928
         },
         "name": "El_Salvador",
         "showlegend": true,
         "type": "scattergeo"
        },
        {
         "customdata": [
          [
           16
          ]
         ],
         "geo": "geo",
         "hoverlabel": {
          "namelength": 0
         },
         "hovertemplate": "<b>%{hovertext}</b><br><br>Area=Ethiopia<br>size=%{marker.size}<br>Cases=%{customdata[0]}<br>alpha3=%{location}",
         "hovertext": [
          "Ethiopia"
         ],
         "legendgroup": "Ethiopia",
         "locations": [
          "ETH"
         ],
         "marker": {
          "color": "#FF97FF",
          "size": [
           0.47999989760002626
          ],
          "sizemode": "area",
          "sizeref": 1.4999884392123928
         },
         "name": "Ethiopia",
         "showlegend": true,
         "type": "scattergeo"
        },
        {
         "customdata": [
          [
           16
          ]
         ],
         "geo": "geo",
         "hoverlabel": {
          "namelength": 0
         },
         "hovertemplate": "<b>%{hovertext}</b><br><br>Area=Maldives<br>size=%{marker.size}<br>Cases=%{customdata[0]}<br>alpha3=%{location}",
         "hovertext": [
          "Maldives"
         ],
         "legendgroup": "Maldives",
         "locations": [
          "MDV"
         ],
         "marker": {
          "color": "#FECB52",
          "size": [
           0.47999989760002626
          ],
          "sizemode": "area",
          "sizeref": 1.4999884392123928
         },
         "name": "Maldives",
         "showlegend": true,
         "type": "scattergeo"
        },
        {
         "customdata": [
          [
           15
          ]
         ],
         "geo": "geo",
         "hoverlabel": {
          "namelength": 0
         },
         "hovertemplate": "<b>%{hovertext}</b><br><br>Area=Djibouti<br>size=%{marker.size}<br>Cases=%{customdata[0]}<br>alpha3=%{location}",
         "hovertext": [
          "Djibouti"
         ],
         "legendgroup": "Djibouti",
         "locations": [
          "DJI"
         ],
         "marker": {
          "color": "#636efa",
          "size": [
           0.449999915625019
          ],
          "sizemode": "area",
          "sizeref": 1.4999884392123928
         },
         "name": "Djibouti",
         "showlegend": true,
         "type": "scattergeo"
        },
        {
         "customdata": [
          [
           15
          ]
         ],
         "geo": "geo",
         "hoverlabel": {
          "namelength": 0
         },
         "hovertemplate": "<b>%{hovertext}</b><br><br>Area=New_Caledonia<br>size=%{marker.size}<br>Cases=%{customdata[0]}<br>alpha3=%{location}",
         "hovertext": [
          "New_Caledonia"
         ],
         "legendgroup": "New_Caledonia",
         "locations": [
          "NCL"
         ],
         "marker": {
          "color": "#EF553B",
          "size": [
           0.449999915625019
          ],
          "sizemode": "area",
          "sizeref": 1.4999884392123928
         },
         "name": "New_Caledonia",
         "showlegend": true,
         "type": "scattergeo"
        },
        {
         "customdata": [
          [
           13
          ]
         ],
         "geo": "geo",
         "hoverlabel": {
          "namelength": 0
         },
         "hovertemplate": "<b>%{hovertext}</b><br><br>Area=United_Republic_of_Tanzania<br>size=%{marker.size}<br>Cases=%{customdata[0]}<br>alpha3=%{location}",
         "hovertext": [
          "United_Republic_of_Tanzania"
         ],
         "legendgroup": "United_Republic_of_Tanzania",
         "locations": [
          "TZA"
         ],
         "marker": {
          "color": "#00cc96",
          "size": [
           0.38999994507500935
          ],
          "sizemode": "area",
          "sizeref": 1.4999884392123928
         },
         "name": "United_Republic_of_Tanzania",
         "showlegend": true,
         "type": "scattergeo"
        },
        {
         "customdata": [
          [
           13
          ]
         ],
         "geo": "geo",
         "hoverlabel": {
          "namelength": 0
         },
         "hovertemplate": "<b>%{hovertext}</b><br><br>Area=Equatorial_Guinea<br>size=%{marker.size}<br>Cases=%{customdata[0]}<br>alpha3=%{location}",
         "hovertext": [
          "Equatorial_Guinea"
         ],
         "legendgroup": "Equatorial_Guinea",
         "locations": [
          "GNQ"
         ],
         "marker": {
          "color": "#ab63fa",
          "size": [
           0.38999994507500935
          ],
          "sizemode": "area",
          "sizeref": 1.4999884392123928
         },
         "name": "Equatorial_Guinea",
         "showlegend": true,
         "type": "scattergeo"
        },
        {
         "customdata": [
          [
           12
          ]
         ],
         "geo": "geo",
         "hoverlabel": {
          "namelength": 0
         },
         "hovertemplate": "<b>%{hovertext}</b><br><br>Area=Mongolia<br>size=%{marker.size}<br>Cases=%{customdata[0]}<br>alpha3=%{location}",
         "hovertext": [
          "Mongolia"
         ],
         "legendgroup": "Mongolia",
         "locations": [
          "MNG"
         ],
         "marker": {
          "color": "#FFA15A",
          "size": [
           0.35999995680000624
          ],
          "sizemode": "area",
          "sizeref": 1.4999884392123928
         },
         "name": "Mongolia",
         "showlegend": true,
         "type": "scattergeo"
        },
        {
         "customdata": [
          [
           11
          ]
         ],
         "geo": "geo",
         "hoverlabel": {
          "namelength": 0
         },
         "hovertemplate": "<b>%{hovertext}</b><br><br>Area=Bahamas<br>size=%{marker.size}<br>Cases=%{customdata[0]}<br>alpha3=%{location}",
         "hovertext": [
          "Bahamas"
         ],
         "legendgroup": "Bahamas",
         "locations": [
          "BHS"
         ],
         "marker": {
          "color": "#19d3f3",
          "size": [
           0.32999996672500403
          ],
          "sizemode": "area",
          "sizeref": 1.4999884392123928
         },
         "name": "Bahamas",
         "showlegend": true,
         "type": "scattergeo"
        },
        {
         "customdata": [
          [
           11
          ]
         ],
         "geo": "geo",
         "hoverlabel": {
          "namelength": 0
         },
         "hovertemplate": "<b>%{hovertext}</b><br><br>Area=Dominica<br>size=%{marker.size}<br>Cases=%{customdata[0]}<br>alpha3=%{location}",
         "hovertext": [
          "Dominica"
         ],
         "legendgroup": "Dominica",
         "locations": [
          "DMA"
         ],
         "marker": {
          "color": "#FF6692",
          "size": [
           0.32999996672500403
          ],
          "sizemode": "area",
          "sizeref": 1.4999884392123928
         },
         "name": "Dominica",
         "showlegend": true,
         "type": "scattergeo"
        },
        {
         "customdata": [
          [
           10
          ]
         ],
         "geo": "geo",
         "hoverlabel": {
          "namelength": 0
         },
         "hovertemplate": "<b>%{hovertext}</b><br><br>Area=Greenland<br>size=%{marker.size}<br>Cases=%{customdata[0]}<br>alpha3=%{location}",
         "hovertext": [
          "Greenland"
         ],
         "legendgroup": "Greenland",
         "locations": [
          "GRL"
         ],
         "marker": {
          "color": "#B6E880",
          "size": [
           0.2999999750000026
          ],
          "sizemode": "area",
          "sizeref": 1.4999884392123928
         },
         "name": "Greenland",
         "showlegend": true,
         "type": "scattergeo"
        },
        {
         "customdata": [
          [
           10
          ]
         ],
         "geo": "geo",
         "hoverlabel": {
          "namelength": 0
         },
         "hovertemplate": "<b>%{hovertext}</b><br><br>Area=Niger<br>size=%{marker.size}<br>Cases=%{customdata[0]}<br>alpha3=%{location}",
         "hovertext": [
          "Niger"
         ],
         "legendgroup": "Niger",
         "locations": [
          "NER"
         ],
         "marker": {
          "color": "#FF97FF",
          "size": [
           0.2999999750000026
          ],
          "sizemode": "area",
          "sizeref": 1.4999884392123928
         },
         "name": "Niger",
         "showlegend": true,
         "type": "scattergeo"
        },
        {
         "customdata": [
          [
           9
          ]
         ],
         "geo": "geo",
         "hoverlabel": {
          "namelength": 0
         },
         "hovertemplate": "<b>%{hovertext}</b><br><br>Area=Mali<br>size=%{marker.size}<br>Cases=%{customdata[0]}<br>alpha3=%{location}",
         "hovertext": [
          "Mali"
         ],
         "legendgroup": "Mali",
         "locations": [
          "MLI"
         ],
         "marker": {
          "color": "#FECB52",
          "size": [
           0.2699999817750015
          ],
          "sizemode": "area",
          "sizeref": 1.4999884392123928
         },
         "name": "Mali",
         "showlegend": true,
         "type": "scattergeo"
        },
        {
         "customdata": [
          [
           9
          ]
         ],
         "geo": "geo",
         "hoverlabel": {
          "namelength": 0
         },
         "hovertemplate": "<b>%{hovertext}</b><br><br>Area=Grenada<br>size=%{marker.size}<br>Cases=%{customdata[0]}<br>alpha3=%{location}",
         "hovertext": [
          "Grenada"
         ],
         "legendgroup": "Grenada",
         "locations": [
          "GRD"
         ],
         "marker": {
          "color": "#636efa",
          "size": [
           0.2699999817750015
          ],
          "sizemode": "area",
          "sizeref": 1.4999884392123928
         },
         "name": "Grenada",
         "showlegend": true,
         "type": "scattergeo"
        },
        {
         "customdata": [
          [
           9
          ]
         ],
         "geo": "geo",
         "hoverlabel": {
          "namelength": 0
         },
         "hovertemplate": "<b>%{hovertext}</b><br><br>Area=Eswatini<br>size=%{marker.size}<br>Cases=%{customdata[0]}<br>alpha3=%{location}",
         "hovertext": [
          "Eswatini"
         ],
         "legendgroup": "Eswatini",
         "locations": [
          "SWZ"
         ],
         "marker": {
          "color": "#EF553B",
          "size": [
           0.2699999817750015
          ],
          "sizemode": "area",
          "sizeref": 1.4999884392123928
         },
         "name": "Eswatini",
         "showlegend": true,
         "type": "scattergeo"
        },
        {
         "customdata": [
          [
           8
          ]
         ],
         "geo": "geo",
         "hoverlabel": {
          "namelength": 0
         },
         "hovertemplate": "<b>%{hovertext}</b><br><br>Area=Suriname<br>size=%{marker.size}<br>Cases=%{customdata[0]}<br>alpha3=%{location}",
         "hovertext": [
          "Suriname"
         ],
         "legendgroup": "Suriname",
         "locations": [
          "SUR"
         ],
         "marker": {
          "color": "#00cc96",
          "size": [
           0.23999998720000082
          ],
          "sizemode": "area",
          "sizeref": 1.4999884392123928
         },
         "name": "Suriname",
         "showlegend": true,
         "type": "scattergeo"
        },
        {
         "customdata": [
          [
           8
          ]
         ],
         "geo": "geo",
         "hoverlabel": {
          "namelength": 0
         },
         "hovertemplate": "<b>%{hovertext}</b><br><br>Area=Curaçao<br>size=%{marker.size}<br>Cases=%{customdata[0]}<br>alpha3=%{location}",
         "hovertext": [
          "Curaçao"
         ],
         "legendgroup": "Curaçao",
         "locations": [
          "CUW"
         ],
         "marker": {
          "color": "#ab63fa",
          "size": [
           0.23999998720000082
          ],
          "sizemode": "area",
          "sizeref": 1.4999884392123928
         },
         "name": "Curaçao",
         "showlegend": true,
         "type": "scattergeo"
        },
        {
         "customdata": [
          [
           8
          ]
         ],
         "geo": "geo",
         "hoverlabel": {
          "namelength": 0
         },
         "hovertemplate": "<b>%{hovertext}</b><br><br>Area=Cayman_Islands<br>size=%{marker.size}<br>Cases=%{customdata[0]}<br>alpha3=%{location}",
         "hovertext": [
          "Cayman_Islands"
         ],
         "legendgroup": "Cayman_Islands",
         "locations": [
          "CYM"
         ],
         "marker": {
          "color": "#FFA15A",
          "size": [
           0.23999998720000082
          ],
          "sizemode": "area",
          "sizeref": 1.4999884392123928
         },
         "name": "Cayman_Islands",
         "showlegend": true,
         "type": "scattergeo"
        },
        {
         "customdata": [
          [
           8
          ]
         ],
         "geo": "geo",
         "hoverlabel": {
          "namelength": 0
         },
         "hovertemplate": "<b>%{hovertext}</b><br><br>Area=Haiti<br>size=%{marker.size}<br>Cases=%{customdata[0]}<br>alpha3=%{location}",
         "hovertext": [
          "Haiti"
         ],
         "legendgroup": "Haiti",
         "locations": [
          "HTI"
         ],
         "marker": {
          "color": "#19d3f3",
          "size": [
           0.23999998720000082
          ],
          "sizemode": "area",
          "sizeref": 1.4999884392123928
         },
         "name": "Haiti",
         "showlegend": true,
         "type": "scattergeo"
        },
        {
         "customdata": [
          [
           8
          ]
         ],
         "geo": "geo",
         "hoverlabel": {
          "namelength": 0
         },
         "hovertemplate": "<b>%{hovertext}</b><br><br>Area=Guyana<br>size=%{marker.size}<br>Cases=%{customdata[0]}<br>alpha3=%{location}",
         "hovertext": [
          "Guyana"
         ],
         "legendgroup": "Guyana",
         "locations": [
          "GUY"
         ],
         "marker": {
          "color": "#FF6692",
          "size": [
           0.23999998720000082
          ],
          "sizemode": "area",
          "sizeref": 1.4999884392123928
         },
         "name": "Guyana",
         "showlegend": true,
         "type": "scattergeo"
        },
        {
         "customdata": [
          [
           8
          ]
         ],
         "geo": "geo",
         "hoverlabel": {
          "namelength": 0
         },
         "hovertemplate": "<b>%{hovertext}</b><br><br>Area=Guinea<br>size=%{marker.size}<br>Cases=%{customdata[0]}<br>alpha3=%{location}",
         "hovertext": [
          "Guinea"
         ],
         "legendgroup": "Guinea",
         "locations": [
          "GIN"
         ],
         "marker": {
          "color": "#B6E880",
          "size": [
           0.23999998720000082
          ],
          "sizemode": "area",
          "sizeref": 1.4999884392123928
         },
         "name": "Guinea",
         "showlegend": true,
         "type": "scattergeo"
        },
        {
         "customdata": [
          [
           8
          ]
         ],
         "geo": "geo",
         "hoverlabel": {
          "namelength": 0
         },
         "hovertemplate": "<b>%{hovertext}</b><br><br>Area=Namibia<br>size=%{marker.size}<br>Cases=%{customdata[0]}<br>alpha3=%{location}",
         "hovertext": [
          "Namibia"
         ],
         "legendgroup": "Namibia",
         "locations": [
          "NAM"
         ],
         "marker": {
          "color": "#FF97FF",
          "size": [
           0.23999998720000082
          ],
          "sizemode": "area",
          "sizeref": 1.4999884392123928
         },
         "name": "Namibia",
         "showlegend": true,
         "type": "scattergeo"
        },
        {
         "customdata": [
          [
           8
          ]
         ],
         "geo": "geo",
         "hoverlabel": {
          "namelength": 0
         },
         "hovertemplate": "<b>%{hovertext}</b><br><br>Area=Myanmar<br>size=%{marker.size}<br>Cases=%{customdata[0]}<br>alpha3=%{location}",
         "hovertext": [
          "Myanmar"
         ],
         "legendgroup": "Myanmar",
         "locations": [
          "MMR"
         ],
         "marker": {
          "color": "#FECB52",
          "size": [
           0.23999998720000082
          ],
          "sizemode": "area",
          "sizeref": 1.4999884392123928
         },
         "name": "Myanmar",
         "showlegend": true,
         "type": "scattergeo"
        },
        {
         "customdata": [
          [
           8
          ]
         ],
         "geo": "geo",
         "hoverlabel": {
          "namelength": 0
         },
         "hovertemplate": "<b>%{hovertext}</b><br><br>Area=Mozambique<br>size=%{marker.size}<br>Cases=%{customdata[0]}<br>alpha3=%{location}",
         "hovertext": [
          "Mozambique"
         ],
         "legendgroup": "Mozambique",
         "locations": [
          "MOZ"
         ],
         "marker": {
          "color": "#636efa",
          "size": [
           0.23999998720000082
          ],
          "sizemode": "area",
          "sizeref": 1.4999884392123928
         },
         "name": "Mozambique",
         "showlegend": true,
         "type": "scattergeo"
        },
        {
         "customdata": [
          [
           7
          ]
         ],
         "geo": "geo",
         "hoverlabel": {
          "namelength": 0
         },
         "hovertemplate": "<b>%{hovertext}</b><br><br>Area=Antigua_and_Barbuda<br>size=%{marker.size}<br>Cases=%{customdata[0]}<br>alpha3=%{location}",
         "hovertext": [
          "Antigua_and_Barbuda"
         ],
         "legendgroup": "Antigua_and_Barbuda",
         "locations": [
          "ATG"
         ],
         "marker": {
          "color": "#EF553B",
          "size": [
           0.2099999914250004
          ],
          "sizemode": "area",
          "sizeref": 1.4999884392123928
         },
         "name": "Antigua_and_Barbuda",
         "showlegend": true,
         "type": "scattergeo"
        },
        {
         "customdata": [
          [
           7
          ]
         ],
         "geo": "geo",
         "hoverlabel": {
          "namelength": 0
         },
         "hovertemplate": "<b>%{hovertext}</b><br><br>Area=Seychelles<br>size=%{marker.size}<br>Cases=%{customdata[0]}<br>alpha3=%{location}",
         "hovertext": [
          "Seychelles"
         ],
         "legendgroup": "Seychelles",
         "locations": [
          "SYC"
         ],
         "marker": {
          "color": "#00cc96",
          "size": [
           0.2099999914250004
          ],
          "sizemode": "area",
          "sizeref": 1.4999884392123928
         },
         "name": "Seychelles",
         "showlegend": true,
         "type": "scattergeo"
        },
        {
         "customdata": [
          [
           7
          ]
         ],
         "geo": "geo",
         "hoverlabel": {
          "namelength": 0
         },
         "hovertemplate": "<b>%{hovertext}</b><br><br>Area=Zimbabwe<br>size=%{marker.size}<br>Cases=%{customdata[0]}<br>alpha3=%{location}",
         "hovertext": [
          "Zimbabwe"
         ],
         "legendgroup": "Zimbabwe",
         "locations": [
          "ZWE"
         ],
         "marker": {
          "color": "#ab63fa",
          "size": [
           0.2099999914250004
          ],
          "sizemode": "area",
          "sizeref": 1.4999884392123928
         },
         "name": "Zimbabwe",
         "showlegend": true,
         "type": "scattergeo"
        },
        {
         "customdata": [
          [
           7
          ]
         ],
         "geo": "geo",
         "hoverlabel": {
          "namelength": 0
         },
         "hovertemplate": "<b>%{hovertext}</b><br><br>Area=Gabon<br>size=%{marker.size}<br>Cases=%{customdata[0]}<br>alpha3=%{location}",
         "hovertext": [
          "Gabon"
         ],
         "legendgroup": "Gabon",
         "locations": [
          "GAB"
         ],
         "marker": {
          "color": "#FFA15A",
          "size": [
           0.2099999914250004
          ],
          "sizemode": "area",
          "sizeref": 1.4999884392123928
         },
         "name": "Gabon",
         "showlegend": true,
         "type": "scattergeo"
        },
        {
         "customdata": [
          [
           6
          ]
         ],
         "geo": "geo",
         "hoverlabel": {
          "namelength": 0
         },
         "hovertemplate": "<b>%{hovertext}</b><br><br>Area=Eritrea<br>size=%{marker.size}<br>Cases=%{customdata[0]}<br>alpha3=%{location}",
         "hovertext": [
          "Eritrea"
         ],
         "legendgroup": "Eritrea",
         "locations": [
          "ERI"
         ],
         "marker": {
          "color": "#19d3f3",
          "size": [
           0.17999999460000016
          ],
          "sizemode": "area",
          "sizeref": 1.4999884392123928
         },
         "name": "Eritrea",
         "showlegend": true,
         "type": "scattergeo"
        },
        {
         "customdata": [
          [
           6
          ]
         ],
         "geo": "geo",
         "hoverlabel": {
          "namelength": 0
         },
         "hovertemplate": "<b>%{hovertext}</b><br><br>Area=Benin<br>size=%{marker.size}<br>Cases=%{customdata[0]}<br>alpha3=%{location}",
         "hovertext": [
          "Benin"
         ],
         "legendgroup": "Benin",
         "locations": [
          "BEN"
         ],
         "marker": {
          "color": "#FF6692",
          "size": [
           0.17999999460000016
          ],
          "sizemode": "area",
          "sizeref": 1.4999884392123928
         },
         "name": "Benin",
         "showlegend": true,
         "type": "scattergeo"
        },
        {
         "customdata": [
          [
           6
          ]
         ],
         "geo": "geo",
         "hoverlabel": {
          "namelength": 0
         },
         "hovertemplate": "<b>%{hovertext}</b><br><br>Area=Central_African_Republic<br>size=%{marker.size}<br>Cases=%{customdata[0]}<br>alpha3=%{location}",
         "hovertext": [
          "Central_African_Republic"
         ],
         "legendgroup": "Central_African_Republic",
         "locations": [
          "CAF"
         ],
         "marker": {
          "color": "#B6E880",
          "size": [
           0.17999999460000016
          ],
          "sizemode": "area",
          "sizeref": 1.4999884392123928
         },
         "name": "Central_African_Republic",
         "showlegend": true,
         "type": "scattergeo"
        },
        {
         "customdata": [
          [
           6
          ]
         ],
         "geo": "geo",
         "hoverlabel": {
          "namelength": 0
         },
         "hovertemplate": "<b>%{hovertext}</b><br><br>Area=Cape_Verde<br>size=%{marker.size}<br>Cases=%{customdata[0]}<br>alpha3=%{location}",
         "hovertext": [
          "Cape_Verde"
         ],
         "legendgroup": "Cape_Verde",
         "locations": [
          "CPV"
         ],
         "marker": {
          "color": "#FF97FF",
          "size": [
           0.17999999460000016
          ],
          "sizemode": "area",
          "sizeref": 1.4999884392123928
         },
         "name": "Cape_Verde",
         "showlegend": true,
         "type": "scattergeo"
        },
        {
         "customdata": [
          [
           6
          ]
         ],
         "geo": "geo",
         "hoverlabel": {
          "namelength": 0
         },
         "hovertemplate": "<b>%{hovertext}</b><br><br>Area=Holy_See<br>size=%{marker.size}<br>Cases=%{customdata[0]}<br>alpha3=%{location}",
         "hovertext": [
          "Holy_See"
         ],
         "legendgroup": "Holy_See",
         "locations": [
          "VAT"
         ],
         "marker": {
          "color": "#FECB52",
          "size": [
           0.17999999460000016
          ],
          "sizemode": "area",
          "sizeref": 1.4999884392123928
         },
         "name": "Holy_See",
         "showlegend": true,
         "type": "scattergeo"
        },
        {
         "customdata": [
          [
           6
          ]
         ],
         "geo": "geo",
         "hoverlabel": {
          "namelength": 0
         },
         "hovertemplate": "<b>%{hovertext}</b><br><br>Area=Laos<br>size=%{marker.size}<br>Cases=%{customdata[0]}<br>alpha3=%{location}",
         "hovertext": [
          "Laos"
         ],
         "legendgroup": "Laos",
         "locations": [
          "LAO"
         ],
         "marker": {
          "color": "#636efa",
          "size": [
           0.17999999460000016
          ],
          "sizemode": "area",
          "sizeref": 1.4999884392123928
         },
         "name": "Laos",
         "showlegend": true,
         "type": "scattergeo"
        },
        {
         "customdata": [
          [
           5
          ]
         ],
         "geo": "geo",
         "hoverlabel": {
          "namelength": 0
         },
         "hovertemplate": "<b>%{hovertext}</b><br><br>Area=Nepal<br>size=%{marker.size}<br>Cases=%{customdata[0]}<br>alpha3=%{location}",
         "hovertext": [
          "Nepal"
         ],
         "legendgroup": "Nepal",
         "locations": [
          "NPL"
         ],
         "marker": {
          "color": "#EF553B",
          "size": [
           0.14999999687500007
          ],
          "sizemode": "area",
          "sizeref": 1.4999884392123928
         },
         "name": "Nepal",
         "showlegend": true,
         "type": "scattergeo"
        },
        {
         "customdata": [
          [
           5
          ]
         ],
         "geo": "geo",
         "hoverlabel": {
          "namelength": 0
         },
         "hovertemplate": "<b>%{hovertext}</b><br><br>Area=Mauritania<br>size=%{marker.size}<br>Cases=%{customdata[0]}<br>alpha3=%{location}",
         "hovertext": [
          "Mauritania"
         ],
         "legendgroup": "Mauritania",
         "locations": [
          "MRT"
         ],
         "marker": {
          "color": "#00cc96",
          "size": [
           0.14999999687500007
          ],
          "sizemode": "area",
          "sizeref": 1.4999884392123928
         },
         "name": "Mauritania",
         "showlegend": true,
         "type": "scattergeo"
        },
        {
         "customdata": [
          [
           5
          ]
         ],
         "geo": "geo",
         "hoverlabel": {
          "namelength": 0
         },
         "hovertemplate": "<b>%{hovertext}</b><br><br>Area=Fiji<br>size=%{marker.size}<br>Cases=%{customdata[0]}<br>alpha3=%{location}",
         "hovertext": [
          "Fiji"
         ],
         "legendgroup": "Fiji",
         "locations": [
          "FJI"
         ],
         "marker": {
          "color": "#ab63fa",
          "size": [
           0.14999999687500007
          ],
          "sizemode": "area",
          "sizeref": 1.4999884392123928
         },
         "name": "Fiji",
         "showlegend": true,
         "type": "scattergeo"
        },
        {
         "customdata": [
          [
           5
          ]
         ],
         "geo": "geo",
         "hoverlabel": {
          "namelength": 0
         },
         "hovertemplate": "<b>%{hovertext}</b><br><br>Area=Turks_and_Caicos_islands<br>size=%{marker.size}<br>Cases=%{customdata[0]}<br>alpha3=%{location}",
         "hovertext": [
          "Turks_and_Caicos_islands"
         ],
         "legendgroup": "Turks_and_Caicos_islands",
         "locations": [
          "TCA"
         ],
         "marker": {
          "color": "#FFA15A",
          "size": [
           0.14999999687500007
          ],
          "sizemode": "area",
          "sizeref": 1.4999884392123928
         },
         "name": "Turks_and_Caicos_islands",
         "showlegend": true,
         "type": "scattergeo"
        },
        {
         "customdata": [
          [
           5
          ]
         ],
         "geo": "geo",
         "hoverlabel": {
          "namelength": 0
         },
         "hovertemplate": "<b>%{hovertext}</b><br><br>Area=Chad<br>size=%{marker.size}<br>Cases=%{customdata[0]}<br>alpha3=%{location}",
         "hovertext": [
          "Chad"
         ],
         "legendgroup": "Chad",
         "locations": [
          "TCD"
         ],
         "marker": {
          "color": "#19d3f3",
          "size": [
           0.14999999687500007
          ],
          "sizemode": "area",
          "sizeref": 1.4999884392123928
         },
         "name": "Chad",
         "showlegend": true,
         "type": "scattergeo"
        },
        {
         "customdata": [
          [
           5
          ]
         ],
         "geo": "geo",
         "hoverlabel": {
          "namelength": 0
         },
         "hovertemplate": "<b>%{hovertext}</b><br><br>Area=Montserrat<br>size=%{marker.size}<br>Cases=%{customdata[0]}<br>alpha3=%{location}",
         "hovertext": [
          "Montserrat"
         ],
         "legendgroup": "Montserrat",
         "locations": [
          "MSR"
         ],
         "marker": {
          "color": "#FF6692",
          "size": [
           0.14999999687500007
          ],
          "sizemode": "area",
          "sizeref": 1.4999884392123928
         },
         "name": "Montserrat",
         "showlegend": true,
         "type": "scattergeo"
        },
        {
         "customdata": [
          [
           5
          ]
         ],
         "geo": "geo",
         "hoverlabel": {
          "namelength": 0
         },
         "hovertemplate": "<b>%{hovertext}</b><br><br>Area=Syria<br>size=%{marker.size}<br>Cases=%{customdata[0]}<br>alpha3=%{location}",
         "hovertext": [
          "Syria"
         ],
         "legendgroup": "Syria",
         "locations": [
          "SYR"
         ],
         "marker": {
          "color": "#B6E880",
          "size": [
           0.14999999687500007
          ],
          "sizemode": "area",
          "sizeref": 1.4999884392123928
         },
         "name": "Syria",
         "showlegend": true,
         "type": "scattergeo"
        },
        {
         "customdata": [
          [
           5
          ]
         ],
         "geo": "geo",
         "hoverlabel": {
          "namelength": 0
         },
         "hovertemplate": "<b>%{hovertext}</b><br><br>Area=Sudan<br>size=%{marker.size}<br>Cases=%{customdata[0]}<br>alpha3=%{location}",
         "hovertext": [
          "Sudan"
         ],
         "legendgroup": "Sudan",
         "locations": [
          "SDN"
         ],
         "marker": {
          "color": "#FF97FF",
          "size": [
           0.14999999687500007
          ],
          "sizemode": "area",
          "sizeref": 1.4999884392123928
         },
         "name": "Sudan",
         "showlegend": true,
         "type": "scattergeo"
        },
        {
         "customdata": [
          [
           4
          ]
         ],
         "geo": "geo",
         "hoverlabel": {
          "namelength": 0
         },
         "hovertemplate": "<b>%{hovertext}</b><br><br>Area=Angola<br>size=%{marker.size}<br>Cases=%{customdata[0]}<br>alpha3=%{location}",
         "hovertext": [
          "Angola"
         ],
         "legendgroup": "Angola",
         "locations": [
          "AGO"
         ],
         "marker": {
          "color": "#FECB52",
          "size": [
           0.11999999840000003
          ],
          "sizemode": "area",
          "sizeref": 1.4999884392123928
         },
         "name": "Angola",
         "showlegend": true,
         "type": "scattergeo"
        },
        {
         "customdata": [
          [
           4
          ]
         ],
         "geo": "geo",
         "hoverlabel": {
          "namelength": 0
         },
         "hovertemplate": "<b>%{hovertext}</b><br><br>Area=Bhutan<br>size=%{marker.size}<br>Cases=%{customdata[0]}<br>alpha3=%{location}",
         "hovertext": [
          "Bhutan"
         ],
         "legendgroup": "Bhutan",
         "locations": [
          "BTN"
         ],
         "marker": {
          "color": "#636efa",
          "size": [
           0.11999999840000003
          ],
          "sizemode": "area",
          "sizeref": 1.4999884392123928
         },
         "name": "Bhutan",
         "showlegend": true,
         "type": "scattergeo"
        },
        {
         "customdata": [
          [
           4
          ]
         ],
         "geo": "geo",
         "hoverlabel": {
          "namelength": 0
         },
         "hovertemplate": "<b>%{hovertext}</b><br><br>Area=Saint_Lucia<br>size=%{marker.size}<br>Cases=%{customdata[0]}<br>alpha3=%{location}",
         "hovertext": [
          "Saint_Lucia"
         ],
         "legendgroup": "Saint_Lucia",
         "locations": [
          "LCA"
         ],
         "marker": {
          "color": "#EF553B",
          "size": [
           0.11999999840000003
          ],
          "sizemode": "area",
          "sizeref": 1.4999884392123928
         },
         "name": "Saint_Lucia",
         "showlegend": true,
         "type": "scattergeo"
        },
        {
         "customdata": [
          [
           3
          ]
         ],
         "geo": "geo",
         "hoverlabel": {
          "namelength": 0
         },
         "hovertemplate": "<b>%{hovertext}</b><br><br>Area=Liberia<br>size=%{marker.size}<br>Cases=%{customdata[0]}<br>alpha3=%{location}",
         "hovertext": [
          "Liberia"
         ],
         "legendgroup": "Liberia",
         "locations": [
          "LBR"
         ],
         "marker": {
          "color": "#00cc96",
          "size": [
           0.089999999325
          ],
          "sizemode": "area",
          "sizeref": 1.4999884392123928
         },
         "name": "Liberia",
         "showlegend": true,
         "type": "scattergeo"
        },
        {
         "customdata": [
          [
           3
          ]
         ],
         "geo": "geo",
         "hoverlabel": {
          "namelength": 0
         },
         "hovertemplate": "<b>%{hovertext}</b><br><br>Area=Somalia<br>size=%{marker.size}<br>Cases=%{customdata[0]}<br>alpha3=%{location}",
         "hovertext": [
          "Somalia"
         ],
         "legendgroup": "Somalia",
         "locations": [
          "SOM"
         ],
         "marker": {
          "color": "#ab63fa",
          "size": [
           0.089999999325
          ],
          "sizemode": "area",
          "sizeref": 1.4999884392123928
         },
         "name": "Somalia",
         "showlegend": true,
         "type": "scattergeo"
        },
        {
         "customdata": [
          [
           3
          ]
         ],
         "geo": "geo",
         "hoverlabel": {
          "namelength": 0
         },
         "hovertemplate": "<b>%{hovertext}</b><br><br>Area=Gambia<br>size=%{marker.size}<br>Cases=%{customdata[0]}<br>alpha3=%{location}",
         "hovertext": [
          "Gambia"
         ],
         "legendgroup": "Gambia",
         "locations": [
          "GMB"
         ],
         "marker": {
          "color": "#FFA15A",
          "size": [
           0.089999999325
          ],
          "sizemode": "area",
          "sizeref": 1.4999884392123928
         },
         "name": "Gambia",
         "showlegend": true,
         "type": "scattergeo"
        },
        {
         "customdata": [
          [
           3
          ]
         ],
         "geo": "geo",
         "hoverlabel": {
          "namelength": 0
         },
         "hovertemplate": "<b>%{hovertext}</b><br><br>Area=Nicaragua<br>size=%{marker.size}<br>Cases=%{customdata[0]}<br>alpha3=%{location}",
         "hovertext": [
          "Nicaragua"
         ],
         "legendgroup": "Nicaragua",
         "locations": [
          "NIC"
         ],
         "marker": {
          "color": "#19d3f3",
          "size": [
           0.089999999325
          ],
          "sizemode": "area",
          "sizeref": 1.4999884392123928
         },
         "name": "Nicaragua",
         "showlegend": true,
         "type": "scattergeo"
        },
        {
         "customdata": [
          [
           3
          ]
         ],
         "geo": "geo",
         "hoverlabel": {
          "namelength": 0
         },
         "hovertemplate": "<b>%{hovertext}</b><br><br>Area=Sint_Maarten<br>size=%{marker.size}<br>Cases=%{customdata[0]}<br>alpha3=%{location}",
         "hovertext": [
          "Sint_Maarten"
         ],
         "legendgroup": "Sint_Maarten",
         "locations": [
          "SXM"
         ],
         "marker": {
          "color": "#FF6692",
          "size": [
           0.089999999325
          ],
          "sizemode": "area",
          "sizeref": 1.4999884392123928
         },
         "name": "Sint_Maarten",
         "showlegend": true,
         "type": "scattergeo"
        },
        {
         "customdata": [
          [
           2
          ]
         ],
         "geo": "geo",
         "hoverlabel": {
          "namelength": 0
         },
         "hovertemplate": "<b>%{hovertext}</b><br><br>Area=British_Virgin_Islands<br>size=%{marker.size}<br>Cases=%{customdata[0]}<br>alpha3=%{location}",
         "hovertext": [
          "British_Virgin_Islands"
         ],
         "legendgroup": "British_Virgin_Islands",
         "locations": [
          "VGB"
         ],
         "marker": {
          "color": "#B6E880",
          "size": [
           0.05999999980000001
          ],
          "sizemode": "area",
          "sizeref": 1.4999884392123928
         },
         "name": "British_Virgin_Islands",
         "showlegend": true,
         "type": "scattergeo"
        },
        {
         "customdata": [
          [
           2
          ]
         ],
         "geo": "geo",
         "hoverlabel": {
          "namelength": 0
         },
         "hovertemplate": "<b>%{hovertext}</b><br><br>Area=Belize<br>size=%{marker.size}<br>Cases=%{customdata[0]}<br>alpha3=%{location}",
         "hovertext": [
          "Belize"
         ],
         "legendgroup": "Belize",
         "locations": [
          "BLZ"
         ],
         "marker": {
          "color": "#FF97FF",
          "size": [
           0.05999999980000001
          ],
          "sizemode": "area",
          "sizeref": 1.4999884392123928
         },
         "name": "Belize",
         "showlegend": true,
         "type": "scattergeo"
        },
        {
         "customdata": [
          [
           2
          ]
         ],
         "geo": "geo",
         "hoverlabel": {
          "namelength": 0
         },
         "hovertemplate": "<b>%{hovertext}</b><br><br>Area=Saint_Kitts_and_Nevis<br>size=%{marker.size}<br>Cases=%{customdata[0]}<br>alpha3=%{location}",
         "hovertext": [
          "Saint_Kitts_and_Nevis"
         ],
         "legendgroup": "Saint_Kitts_and_Nevis",
         "locations": [
          "KNA"
         ],
         "marker": {
          "color": "#FECB52",
          "size": [
           0.05999999980000001
          ],
          "sizemode": "area",
          "sizeref": 1.4999884392123928
         },
         "name": "Saint_Kitts_and_Nevis",
         "showlegend": true,
         "type": "scattergeo"
        },
        {
         "customdata": [
          [
           2
          ]
         ],
         "geo": "geo",
         "hoverlabel": {
          "namelength": 0
         },
         "hovertemplate": "<b>%{hovertext}</b><br><br>Area=Guinea_Bissau<br>size=%{marker.size}<br>Cases=%{customdata[0]}<br>alpha3=%{location}",
         "hovertext": [
          "Guinea_Bissau"
         ],
         "legendgroup": "Guinea_Bissau",
         "locations": [
          "GNB"
         ],
         "marker": {
          "color": "#636efa",
          "size": [
           0.05999999980000001
          ],
          "sizemode": "area",
          "sizeref": 1.4999884392123928
         },
         "name": "Guinea_Bissau",
         "showlegend": true,
         "type": "scattergeo"
        },
        {
         "customdata": [
          [
           2
          ]
         ],
         "geo": "geo",
         "hoverlabel": {
          "namelength": 0
         },
         "hovertemplate": "<b>%{hovertext}</b><br><br>Area=Anguilla<br>size=%{marker.size}<br>Cases=%{customdata[0]}<br>alpha3=%{location}",
         "hovertext": [
          "Anguilla"
         ],
         "legendgroup": "Anguilla",
         "locations": [
          null
         ],
         "marker": {
          "color": "#EF553B",
          "size": [
           0.05999999980000001
          ],
          "sizemode": "area",
          "sizeref": 1.4999884392123928
         },
         "name": "Anguilla",
         "showlegend": true,
         "type": "scattergeo"
        },
        {
         "customdata": [
          [
           1
          ]
         ],
         "geo": "geo",
         "hoverlabel": {
          "namelength": 0
         },
         "hovertemplate": "<b>%{hovertext}</b><br><br>Area=Libya<br>size=%{marker.size}<br>Cases=%{customdata[0]}<br>alpha3=%{location}",
         "hovertext": [
          "Libya"
         ],
         "legendgroup": "Libya",
         "locations": [
          "LBY"
         ],
         "marker": {
          "color": "#00cc96",
          "size": [
           0.029999999975
          ],
          "sizemode": "area",
          "sizeref": 1.4999884392123928
         },
         "name": "Libya",
         "showlegend": true,
         "type": "scattergeo"
        },
        {
         "customdata": [
          [
           1
          ]
         ],
         "geo": "geo",
         "hoverlabel": {
          "namelength": 0
         },
         "hovertemplate": "<b>%{hovertext}</b><br><br>Area=Timor_Leste<br>size=%{marker.size}<br>Cases=%{customdata[0]}<br>alpha3=%{location}",
         "hovertext": [
          "Timor_Leste"
         ],
         "legendgroup": "Timor_Leste",
         "locations": [
          "TLS"
         ],
         "marker": {
          "color": "#ab63fa",
          "size": [
           0.029999999975
          ],
          "sizemode": "area",
          "sizeref": 1.4999884392123928
         },
         "name": "Timor_Leste",
         "showlegend": true,
         "type": "scattergeo"
        },
        {
         "customdata": [
          [
           1
          ]
         ],
         "geo": "geo",
         "hoverlabel": {
          "namelength": 0
         },
         "hovertemplate": "<b>%{hovertext}</b><br><br>Area=Papua_New_Guinea<br>size=%{marker.size}<br>Cases=%{customdata[0]}<br>alpha3=%{location}",
         "hovertext": [
          "Papua_New_Guinea"
         ],
         "legendgroup": "Papua_New_Guinea",
         "locations": [
          "PNG"
         ],
         "marker": {
          "color": "#FFA15A",
          "size": [
           0.029999999975
          ],
          "sizemode": "area",
          "sizeref": 1.4999884392123928
         },
         "name": "Papua_New_Guinea",
         "showlegend": true,
         "type": "scattergeo"
        },
        {
         "customdata": [
          [
           1
          ]
         ],
         "geo": "geo",
         "hoverlabel": {
          "namelength": 0
         },
         "hovertemplate": "<b>%{hovertext}</b><br><br>Area=Saint_Vincent_and_the_Grenadines<br>size=%{marker.size}<br>Cases=%{customdata[0]}<br>alpha3=%{location}",
         "hovertext": [
          "Saint_Vincent_and_the_Grenadines"
         ],
         "legendgroup": "Saint_Vincent_and_the_Grenadines",
         "locations": [
          "VCT"
         ],
         "marker": {
          "color": "#19d3f3",
          "size": [
           0.029999999975
          ],
          "sizemode": "area",
          "sizeref": 1.4999884392123928
         },
         "name": "Saint_Vincent_and_the_Grenadines",
         "showlegend": true,
         "type": "scattergeo"
        }
       ],
       "layout": {
        "geo": {
         "center": {},
         "domain": {
          "x": [
           0,
           1
          ],
          "y": [
           0,
           1
          ]
         },
         "projection": {
          "type": "natural earth"
         }
        },
        "legend": {
         "itemsizing": "constant",
         "title": {
          "text": "Area"
         },
         "tracegroupgap": 0
        },
        "margin": {
         "t": 60
        },
        "template": {
         "data": {
          "bar": [
           {
            "error_x": {
             "color": "#2a3f5f"
            },
            "error_y": {
             "color": "#2a3f5f"
            },
            "marker": {
             "line": {
              "color": "#E5ECF6",
              "width": 0.5
             }
            },
            "type": "bar"
           }
          ],
          "barpolar": [
           {
            "marker": {
             "line": {
              "color": "#E5ECF6",
              "width": 0.5
             }
            },
            "type": "barpolar"
           }
          ],
          "carpet": [
           {
            "aaxis": {
             "endlinecolor": "#2a3f5f",
             "gridcolor": "white",
             "linecolor": "white",
             "minorgridcolor": "white",
             "startlinecolor": "#2a3f5f"
            },
            "baxis": {
             "endlinecolor": "#2a3f5f",
             "gridcolor": "white",
             "linecolor": "white",
             "minorgridcolor": "white",
             "startlinecolor": "#2a3f5f"
            },
            "type": "carpet"
           }
          ],
          "choropleth": [
           {
            "colorbar": {
             "outlinewidth": 0,
             "ticks": ""
            },
            "type": "choropleth"
           }
          ],
          "contour": [
           {
            "colorbar": {
             "outlinewidth": 0,
             "ticks": ""
            },
            "colorscale": [
             [
              0,
              "#0d0887"
             ],
             [
              0.1111111111111111,
              "#46039f"
             ],
             [
              0.2222222222222222,
              "#7201a8"
             ],
             [
              0.3333333333333333,
              "#9c179e"
             ],
             [
              0.4444444444444444,
              "#bd3786"
             ],
             [
              0.5555555555555556,
              "#d8576b"
             ],
             [
              0.6666666666666666,
              "#ed7953"
             ],
             [
              0.7777777777777778,
              "#fb9f3a"
             ],
             [
              0.8888888888888888,
              "#fdca26"
             ],
             [
              1,
              "#f0f921"
             ]
            ],
            "type": "contour"
           }
          ],
          "contourcarpet": [
           {
            "colorbar": {
             "outlinewidth": 0,
             "ticks": ""
            },
            "type": "contourcarpet"
           }
          ],
          "heatmap": [
           {
            "colorbar": {
             "outlinewidth": 0,
             "ticks": ""
            },
            "colorscale": [
             [
              0,
              "#0d0887"
             ],
             [
              0.1111111111111111,
              "#46039f"
             ],
             [
              0.2222222222222222,
              "#7201a8"
             ],
             [
              0.3333333333333333,
              "#9c179e"
             ],
             [
              0.4444444444444444,
              "#bd3786"
             ],
             [
              0.5555555555555556,
              "#d8576b"
             ],
             [
              0.6666666666666666,
              "#ed7953"
             ],
             [
              0.7777777777777778,
              "#fb9f3a"
             ],
             [
              0.8888888888888888,
              "#fdca26"
             ],
             [
              1,
              "#f0f921"
             ]
            ],
            "type": "heatmap"
           }
          ],
          "heatmapgl": [
           {
            "colorbar": {
             "outlinewidth": 0,
             "ticks": ""
            },
            "colorscale": [
             [
              0,
              "#0d0887"
             ],
             [
              0.1111111111111111,
              "#46039f"
             ],
             [
              0.2222222222222222,
              "#7201a8"
             ],
             [
              0.3333333333333333,
              "#9c179e"
             ],
             [
              0.4444444444444444,
              "#bd3786"
             ],
             [
              0.5555555555555556,
              "#d8576b"
             ],
             [
              0.6666666666666666,
              "#ed7953"
             ],
             [
              0.7777777777777778,
              "#fb9f3a"
             ],
             [
              0.8888888888888888,
              "#fdca26"
             ],
             [
              1,
              "#f0f921"
             ]
            ],
            "type": "heatmapgl"
           }
          ],
          "histogram": [
           {
            "marker": {
             "colorbar": {
              "outlinewidth": 0,
              "ticks": ""
             }
            },
            "type": "histogram"
           }
          ],
          "histogram2d": [
           {
            "colorbar": {
             "outlinewidth": 0,
             "ticks": ""
            },
            "colorscale": [
             [
              0,
              "#0d0887"
             ],
             [
              0.1111111111111111,
              "#46039f"
             ],
             [
              0.2222222222222222,
              "#7201a8"
             ],
             [
              0.3333333333333333,
              "#9c179e"
             ],
             [
              0.4444444444444444,
              "#bd3786"
             ],
             [
              0.5555555555555556,
              "#d8576b"
             ],
             [
              0.6666666666666666,
              "#ed7953"
             ],
             [
              0.7777777777777778,
              "#fb9f3a"
             ],
             [
              0.8888888888888888,
              "#fdca26"
             ],
             [
              1,
              "#f0f921"
             ]
            ],
            "type": "histogram2d"
           }
          ],
          "histogram2dcontour": [
           {
            "colorbar": {
             "outlinewidth": 0,
             "ticks": ""
            },
            "colorscale": [
             [
              0,
              "#0d0887"
             ],
             [
              0.1111111111111111,
              "#46039f"
             ],
             [
              0.2222222222222222,
              "#7201a8"
             ],
             [
              0.3333333333333333,
              "#9c179e"
             ],
             [
              0.4444444444444444,
              "#bd3786"
             ],
             [
              0.5555555555555556,
              "#d8576b"
             ],
             [
              0.6666666666666666,
              "#ed7953"
             ],
             [
              0.7777777777777778,
              "#fb9f3a"
             ],
             [
              0.8888888888888888,
              "#fdca26"
             ],
             [
              1,
              "#f0f921"
             ]
            ],
            "type": "histogram2dcontour"
           }
          ],
          "mesh3d": [
           {
            "colorbar": {
             "outlinewidth": 0,
             "ticks": ""
            },
            "type": "mesh3d"
           }
          ],
          "parcoords": [
           {
            "line": {
             "colorbar": {
              "outlinewidth": 0,
              "ticks": ""
             }
            },
            "type": "parcoords"
           }
          ],
          "pie": [
           {
            "automargin": true,
            "type": "pie"
           }
          ],
          "scatter": [
           {
            "marker": {
             "colorbar": {
              "outlinewidth": 0,
              "ticks": ""
             }
            },
            "type": "scatter"
           }
          ],
          "scatter3d": [
           {
            "line": {
             "colorbar": {
              "outlinewidth": 0,
              "ticks": ""
             }
            },
            "marker": {
             "colorbar": {
              "outlinewidth": 0,
              "ticks": ""
             }
            },
            "type": "scatter3d"
           }
          ],
          "scattercarpet": [
           {
            "marker": {
             "colorbar": {
              "outlinewidth": 0,
              "ticks": ""
             }
            },
            "type": "scattercarpet"
           }
          ],
          "scattergeo": [
           {
            "marker": {
             "colorbar": {
              "outlinewidth": 0,
              "ticks": ""
             }
            },
            "type": "scattergeo"
           }
          ],
          "scattergl": [
           {
            "marker": {
             "colorbar": {
              "outlinewidth": 0,
              "ticks": ""
             }
            },
            "type": "scattergl"
           }
          ],
          "scattermapbox": [
           {
            "marker": {
             "colorbar": {
              "outlinewidth": 0,
              "ticks": ""
             }
            },
            "type": "scattermapbox"
           }
          ],
          "scatterpolar": [
           {
            "marker": {
             "colorbar": {
              "outlinewidth": 0,
              "ticks": ""
             }
            },
            "type": "scatterpolar"
           }
          ],
          "scatterpolargl": [
           {
            "marker": {
             "colorbar": {
              "outlinewidth": 0,
              "ticks": ""
             }
            },
            "type": "scatterpolargl"
           }
          ],
          "scatterternary": [
           {
            "marker": {
             "colorbar": {
              "outlinewidth": 0,
              "ticks": ""
             }
            },
            "type": "scatterternary"
           }
          ],
          "surface": [
           {
            "colorbar": {
             "outlinewidth": 0,
             "ticks": ""
            },
            "colorscale": [
             [
              0,
              "#0d0887"
             ],
             [
              0.1111111111111111,
              "#46039f"
             ],
             [
              0.2222222222222222,
              "#7201a8"
             ],
             [
              0.3333333333333333,
              "#9c179e"
             ],
             [
              0.4444444444444444,
              "#bd3786"
             ],
             [
              0.5555555555555556,
              "#d8576b"
             ],
             [
              0.6666666666666666,
              "#ed7953"
             ],
             [
              0.7777777777777778,
              "#fb9f3a"
             ],
             [
              0.8888888888888888,
              "#fdca26"
             ],
             [
              1,
              "#f0f921"
             ]
            ],
            "type": "surface"
           }
          ],
          "table": [
           {
            "cells": {
             "fill": {
              "color": "#EBF0F8"
             },
             "line": {
              "color": "white"
             }
            },
            "header": {
             "fill": {
              "color": "#C8D4E3"
             },
             "line": {
              "color": "white"
             }
            },
            "type": "table"
           }
          ]
         },
         "layout": {
          "annotationdefaults": {
           "arrowcolor": "#2a3f5f",
           "arrowhead": 0,
           "arrowwidth": 1
          },
          "coloraxis": {
           "colorbar": {
            "outlinewidth": 0,
            "ticks": ""
           }
          },
          "colorscale": {
           "diverging": [
            [
             0,
             "#8e0152"
            ],
            [
             0.1,
             "#c51b7d"
            ],
            [
             0.2,
             "#de77ae"
            ],
            [
             0.3,
             "#f1b6da"
            ],
            [
             0.4,
             "#fde0ef"
            ],
            [
             0.5,
             "#f7f7f7"
            ],
            [
             0.6,
             "#e6f5d0"
            ],
            [
             0.7,
             "#b8e186"
            ],
            [
             0.8,
             "#7fbc41"
            ],
            [
             0.9,
             "#4d9221"
            ],
            [
             1,
             "#276419"
            ]
           ],
           "sequential": [
            [
             0,
             "#0d0887"
            ],
            [
             0.1111111111111111,
             "#46039f"
            ],
            [
             0.2222222222222222,
             "#7201a8"
            ],
            [
             0.3333333333333333,
             "#9c179e"
            ],
            [
             0.4444444444444444,
             "#bd3786"
            ],
            [
             0.5555555555555556,
             "#d8576b"
            ],
            [
             0.6666666666666666,
             "#ed7953"
            ],
            [
             0.7777777777777778,
             "#fb9f3a"
            ],
            [
             0.8888888888888888,
             "#fdca26"
            ],
            [
             1,
             "#f0f921"
            ]
           ],
           "sequentialminus": [
            [
             0,
             "#0d0887"
            ],
            [
             0.1111111111111111,
             "#46039f"
            ],
            [
             0.2222222222222222,
             "#7201a8"
            ],
            [
             0.3333333333333333,
             "#9c179e"
            ],
            [
             0.4444444444444444,
             "#bd3786"
            ],
            [
             0.5555555555555556,
             "#d8576b"
            ],
            [
             0.6666666666666666,
             "#ed7953"
            ],
            [
             0.7777777777777778,
             "#fb9f3a"
            ],
            [
             0.8888888888888888,
             "#fdca26"
            ],
            [
             1,
             "#f0f921"
            ]
           ]
          },
          "colorway": [
           "#636efa",
           "#EF553B",
           "#00cc96",
           "#ab63fa",
           "#FFA15A",
           "#19d3f3",
           "#FF6692",
           "#B6E880",
           "#FF97FF",
           "#FECB52"
          ],
          "font": {
           "color": "#2a3f5f"
          },
          "geo": {
           "bgcolor": "white",
           "lakecolor": "white",
           "landcolor": "#E5ECF6",
           "showlakes": true,
           "showland": true,
           "subunitcolor": "white"
          },
          "hoverlabel": {
           "align": "left"
          },
          "hovermode": "closest",
          "mapbox": {
           "style": "light"
          },
          "paper_bgcolor": "white",
          "plot_bgcolor": "#E5ECF6",
          "polar": {
           "angularaxis": {
            "gridcolor": "white",
            "linecolor": "white",
            "ticks": ""
           },
           "bgcolor": "#E5ECF6",
           "radialaxis": {
            "gridcolor": "white",
            "linecolor": "white",
            "ticks": ""
           }
          },
          "scene": {
           "xaxis": {
            "backgroundcolor": "#E5ECF6",
            "gridcolor": "white",
            "gridwidth": 2,
            "linecolor": "white",
            "showbackground": true,
            "ticks": "",
            "zerolinecolor": "white"
           },
           "yaxis": {
            "backgroundcolor": "#E5ECF6",
            "gridcolor": "white",
            "gridwidth": 2,
            "linecolor": "white",
            "showbackground": true,
            "ticks": "",
            "zerolinecolor": "white"
           },
           "zaxis": {
            "backgroundcolor": "#E5ECF6",
            "gridcolor": "white",
            "gridwidth": 2,
            "linecolor": "white",
            "showbackground": true,
            "ticks": "",
            "zerolinecolor": "white"
           }
          },
          "shapedefaults": {
           "line": {
            "color": "#2a3f5f"
           }
          },
          "ternary": {
           "aaxis": {
            "gridcolor": "white",
            "linecolor": "white",
            "ticks": ""
           },
           "baxis": {
            "gridcolor": "white",
            "linecolor": "white",
            "ticks": ""
           },
           "bgcolor": "#E5ECF6",
           "caxis": {
            "gridcolor": "white",
            "linecolor": "white",
            "ticks": ""
           }
          },
          "title": {
           "x": 0.05
          },
          "xaxis": {
           "automargin": true,
           "gridcolor": "white",
           "linecolor": "white",
           "ticks": "",
           "title": {
            "standoff": 15
           },
           "zerolinecolor": "white",
           "zerolinewidth": 2
          },
          "yaxis": {
           "automargin": true,
           "gridcolor": "white",
           "linecolor": "white",
           "ticks": "",
           "title": {
            "standoff": 15
           },
           "zerolinecolor": "white",
           "zerolinewidth": 2
          }
         }
        }
       }
      },
      "text/html": [
       "<div>\n",
       "        \n",
       "        \n",
       "            <div id=\"3f6ce9c4-44a2-4adc-9cb6-1262dfcdb5b0\" class=\"plotly-graph-div\" style=\"height:525px; width:100%;\"></div>\n",
       "            <script type=\"text/javascript\">\n",
       "                require([\"plotly\"], function(Plotly) {\n",
       "                    window.PLOTLYENV=window.PLOTLYENV || {};\n",
       "                    \n",
       "                if (document.getElementById(\"3f6ce9c4-44a2-4adc-9cb6-1262dfcdb5b0\")) {\n",
       "                    Plotly.newPlot(\n",
       "                        '3f6ce9c4-44a2-4adc-9cb6-1262dfcdb5b0',\n",
       "                        [{\"customdata\": [[124665]], \"geo\": \"geo\", \"hoverlabel\": {\"namelength\": 0}, \"hovertemplate\": \"<b>%{hovertext}</b><br><br>Area=United_States_of_America<br>size=%{marker.size}<br>Cases=%{customdata[0]}<br>alpha3=%{location}\", \"hovertext\": [\"United_States_of_America\"], \"legendgroup\": \"United_States_of_America\", \"locations\": [\"USA\"], \"marker\": {\"color\": \"#636efa\", \"size\": [599.9953756849571], \"sizemode\": \"area\", \"sizeref\": 1.4999884392123928}, \"name\": \"United_States_of_America\", \"showlegend\": true, \"type\": \"scattergeo\"}, {\"customdata\": [[92472]], \"geo\": \"geo\", \"hoverlabel\": {\"namelength\": 0}, \"hovertemplate\": \"<b>%{hovertext}</b><br><br>Area=Italy<br>size=%{marker.size}<br>Cases=%{customdata[0]}<br>alpha3=%{location}\", \"hovertext\": [\"Italy\"], \"legendgroup\": \"Italy\", \"locations\": [\"ITA\"], \"marker\": {\"color\": \"#EF553B\", \"size\": [599.8843537759591], \"sizemode\": \"area\", \"sizeref\": 1.4999884392123928}, \"name\": \"Italy\", \"showlegend\": true, \"type\": \"scattergeo\"}, {\"customdata\": [[82342]], \"geo\": \"geo\", \"hoverlabel\": {\"namelength\": 0}, \"hovertemplate\": \"<b>%{hovertext}</b><br><br>Area=China<br>size=%{marker.size}<br>Cases=%{customdata[0]}<br>alpha3=%{location}\", \"hovertext\": [\"China\"], \"legendgroup\": \"China\", \"locations\": [\"CHN\"], \"marker\": {\"color\": \"#00cc96\", \"size\": [599.6815814441325], \"sizemode\": \"area\", \"sizeref\": 1.4999884392123928}, \"name\": \"China\", \"showlegend\": true, \"type\": \"scattergeo\"}, {\"customdata\": [[72248]], \"geo\": \"geo\", \"hoverlabel\": {\"namelength\": 0}, \"hovertemplate\": \"<b>%{hovertext}</b><br><br>Area=Spain<br>size=%{marker.size}<br>Cases=%{customdata[0]}<br>alpha3=%{location}\", \"hovertext\": [\"Spain\"], \"legendgroup\": \"Spain\", \"locations\": [\"ESP\"], \"marker\": {\"color\": \"#ab63fa\", \"size\": [599.1266782176747], \"sizemode\": \"area\", \"sizeref\": 1.4999884392123928}, \"name\": \"Spain\", \"showlegend\": true, \"type\": \"scattergeo\"}, {\"customdata\": [[52547]], \"geo\": \"geo\", \"hoverlabel\": {\"namelength\": 0}, \"hovertemplate\": \"<b>%{hovertext}</b><br><br>Area=Germany<br>size=%{marker.size}<br>Cases=%{customdata[0]}<br>alpha3=%{location}\", \"hovertext\": [\"Germany\"], \"legendgroup\": \"Germany\", \"locations\": [\"DEU\"], \"marker\": {\"color\": \"#FFA15A\", \"size\": [593.7650689848018], \"sizemode\": \"area\", \"sizeref\": 1.4999884392123928}, \"name\": \"Germany\", \"showlegend\": true, \"type\": \"scattergeo\"}, {\"customdata\": [[37575]], \"geo\": \"geo\", \"hoverlabel\": {\"namelength\": 0}, \"hovertemplate\": \"<b>%{hovertext}</b><br><br>Area=France<br>size=%{marker.size}<br>Cases=%{customdata[0]}<br>alpha3=%{location}\", \"hovertext\": [\"France\"], \"legendgroup\": \"France\", \"locations\": [\"FRA\"], \"marker\": {\"color\": \"#19d3f3\", \"size\": [572.6284795887824], \"sizemode\": \"area\", \"sizeref\": 1.4999884392123928}, \"name\": \"France\", \"showlegend\": true, \"type\": \"scattergeo\"}, {\"customdata\": [[35408]], \"geo\": \"geo\", \"hoverlabel\": {\"namelength\": 0}, \"hovertemplate\": \"<b>%{hovertext}</b><br><br>Area=Iran<br>size=%{marker.size}<br>Cases=%{customdata[0]}<br>alpha3=%{location}\", \"hovertext\": [\"Iran\"], \"legendgroup\": \"Iran\", \"locations\": [\"IRN\"], \"marker\": {\"color\": \"#FF6692\", \"size\": [566.1919488109367], \"sizemode\": \"area\", \"sizeref\": 1.4999884392123928}, \"name\": \"Iran\", \"showlegend\": true, \"type\": \"scattergeo\"}, {\"customdata\": [[17089]], \"geo\": \"geo\", \"hoverlabel\": {\"namelength\": 0}, \"hovertemplate\": \"<b>%{hovertext}</b><br><br>Area=United_Kingdom<br>size=%{marker.size}<br>Cases=%{customdata[0]}<br>alpha3=%{location}\", \"hovertext\": [\"United_Kingdom\"], \"legendgroup\": \"United_Kingdom\", \"locations\": [\"GBR\"], \"marker\": {\"color\": \"#B6E880\", \"size\": [416.0322656928371], \"sizemode\": \"area\", \"sizeref\": 1.4999884392123928}, \"name\": \"United_Kingdom\", \"showlegend\": true, \"type\": \"scattergeo\"}, {\"customdata\": [[13152]], \"geo\": \"geo\", \"hoverlabel\": {\"namelength\": 0}, \"hovertemplate\": \"<b>%{hovertext}</b><br><br>Area=Switzerland<br>size=%{marker.size}<br>Cases=%{customdata[0]}<br>alpha3=%{location}\", \"hovertext\": [\"Switzerland\"], \"legendgroup\": \"Switzerland\", \"locations\": [\"CHE\"], \"marker\": {\"color\": \"#FF97FF\", \"size\": [346.05840371598555], \"sizemode\": \"area\", \"sizeref\": 1.4999884392123928}, \"name\": \"Switzerland\", \"showlegend\": true, \"type\": \"scattergeo\"}, {\"customdata\": [[9762]], \"geo\": \"geo\", \"hoverlabel\": {\"namelength\": 0}, \"hovertemplate\": \"<b>%{hovertext}</b><br><br>Area=Netherlands<br>size=%{marker.size}<br>Cases=%{customdata[0]}<br>alpha3=%{location}\", \"hovertext\": [\"Netherlands\"], \"legendgroup\": \"Netherlands\", \"locations\": [\"NLD\"], \"marker\": {\"color\": \"#FECB52\", \"size\": [271.62427549702244], \"sizemode\": \"area\", \"sizeref\": 1.4999884392123928}, \"name\": \"Netherlands\", \"showlegend\": true, \"type\": \"scattergeo\"}, {\"customdata\": [[9583]], \"geo\": \"geo\", \"hoverlabel\": {\"namelength\": 0}, \"hovertemplate\": \"<b>%{hovertext}</b><br><br>Area=South_Korea<br>size=%{marker.size}<br>Cases=%{customdata[0]}<br>alpha3=%{location}\", \"hovertext\": [\"South_Korea\"], \"legendgroup\": \"South_Korea\", \"locations\": [\"KOR\"], \"marker\": {\"color\": \"#636efa\", \"size\": [267.3375692774306], \"sizemode\": \"area\", \"sizeref\": 1.4999884392123928}, \"name\": \"South_Korea\", \"showlegend\": true, \"type\": \"scattergeo\"}, {\"customdata\": [[9134]], \"geo\": \"geo\", \"hoverlabel\": {\"namelength\": 0}, \"hovertemplate\": \"<b>%{hovertext}</b><br><br>Area=Belgium<br>size=%{marker.size}<br>Cases=%{customdata[0]}<br>alpha3=%{location}\", \"hovertext\": [\"Belgium\"], \"legendgroup\": \"Belgium\", \"locations\": [\"BEL\"], \"marker\": {\"color\": \"#EF553B\", \"size\": [256.43448450346216], \"sizemode\": \"area\", \"sizeref\": 1.4999884392123928}, \"name\": \"Belgium\", \"showlegend\": true, \"type\": \"scattergeo\"}, {\"customdata\": [[8291]], \"geo\": \"geo\", \"hoverlabel\": {\"namelength\": 0}, \"hovertemplate\": \"<b>%{hovertext}</b><br><br>Area=Austria<br>size=%{marker.size}<br>Cases=%{customdata[0]}<br>alpha3=%{location}\", \"hovertext\": [\"Austria\"], \"legendgroup\": \"Austria\", \"locations\": [\"AUT\"], \"marker\": {\"color\": \"#00cc96\", \"size\": [235.3975151203239], \"sizemode\": \"area\", \"sizeref\": 1.4999884392123928}, \"name\": \"Austria\", \"showlegend\": true, \"type\": \"scattergeo\"}, {\"customdata\": [[7402]], \"geo\": \"geo\", \"hoverlabel\": {\"namelength\": 0}, \"hovertemplate\": \"<b>%{hovertext}</b><br><br>Area=Turkey<br>size=%{marker.size}<br>Cases=%{customdata[0]}<br>alpha3=%{location}\", \"hovertext\": [\"Turkey\"], \"legendgroup\": \"Turkey\", \"locations\": [\"TUR\"], \"marker\": {\"color\": \"#ab63fa\", \"size\": [212.4475070203705], \"sizemode\": \"area\", \"sizeref\": 1.4999884392123928}, \"name\": \"Turkey\", \"showlegend\": true, \"type\": \"scattergeo\"}, {\"customdata\": [[5386]], \"geo\": \"geo\", \"hoverlabel\": {\"namelength\": 0}, \"hovertemplate\": \"<b>%{hovertext}</b><br><br>Area=Canada<br>size=%{marker.size}<br>Cases=%{customdata[0]}<br>alpha3=%{location}\", \"hovertext\": [\"Canada\"], \"legendgroup\": \"Canada\", \"locations\": [\"CAN\"], \"marker\": {\"color\": \"#FFA15A\", \"size\": [157.78401839728926], \"sizemode\": \"area\", \"sizeref\": 1.4999884392123928}, \"name\": \"Canada\", \"showlegend\": true, \"type\": \"scattergeo\"}, {\"customdata\": [[5170]], \"geo\": \"geo\", \"hoverlabel\": {\"namelength\": 0}, \"hovertemplate\": \"<b>%{hovertext}</b><br><br>Area=Portugal<br>size=%{marker.size}<br>Cases=%{customdata[0]}<br>alpha3=%{location}\", \"hovertext\": [\"Portugal\"], \"legendgroup\": \"Portugal\", \"locations\": [\"PRT\"], \"marker\": {\"color\": \"#19d3f3\", \"size\": [151.73519858213777], \"sizemode\": \"area\", \"sizeref\": 1.4999884392123928}, \"name\": \"Portugal\", \"showlegend\": true, \"type\": \"scattergeo\"}, {\"customdata\": [[3904]], \"geo\": \"geo\", \"hoverlabel\": {\"namelength\": 0}, \"hovertemplate\": \"<b>%{hovertext}</b><br><br>Area=Brazil<br>size=%{marker.size}<br>Cases=%{customdata[0]}<br>alpha3=%{location}\", \"hovertext\": [\"Brazil\"], \"legendgroup\": \"Brazil\", \"locations\": [\"BRA\"], \"marker\": {\"color\": \"#FF6692\", \"size\": [115.65478493265283], \"sizemode\": \"area\", \"sizeref\": 1.4999884392123928}, \"name\": \"Brazil\", \"showlegend\": true, \"type\": \"scattergeo\"}, {\"customdata\": [[3845]], \"geo\": \"geo\", \"hoverlabel\": {\"namelength\": 0}, \"hovertemplate\": \"<b>%{hovertext}</b><br><br>Area=Norway<br>size=%{marker.size}<br>Cases=%{customdata[0]}<br>alpha3=%{location}\", \"hovertext\": [\"Norway\"], \"legendgroup\": \"Norway\", \"locations\": [\"NOR\"], \"marker\": {\"color\": \"#B6E880\", \"size\": [113.9495857187269], \"sizemode\": \"area\", \"sizeref\": 1.4999884392123928}, \"name\": \"Norway\", \"showlegend\": true, \"type\": \"scattergeo\"}, {\"customdata\": [[3809]], \"geo\": \"geo\", \"hoverlabel\": {\"namelength\": 0}, \"hovertemplate\": \"<b>%{hovertext}</b><br><br>Area=Australia<br>size=%{marker.size}<br>Cases=%{customdata[0]}<br>alpha3=%{location}\", \"hovertext\": [\"Australia\"], \"legendgroup\": \"Australia\", \"locations\": [\"AUS\"], \"marker\": {\"color\": \"#FF97FF\", \"size\": [112.90818436593837], \"sizemode\": \"area\", \"sizeref\": 1.4999884392123928}, \"name\": \"Australia\", \"showlegend\": true, \"type\": \"scattergeo\"}, {\"customdata\": [[3619]], \"geo\": \"geo\", \"hoverlabel\": {\"namelength\": 0}, \"hovertemplate\": \"<b>%{hovertext}</b><br><br>Area=Israel<br>size=%{marker.size}<br>Cases=%{customdata[0]}<br>alpha3=%{location}\", \"hovertext\": [\"Israel\"], \"legendgroup\": \"Israel\", \"locations\": [\"ISR\"], \"marker\": {\"color\": \"#FECB52\", \"size\": [107.400351054025], \"sizemode\": \"area\", \"sizeref\": 1.4999884392123928}, \"name\": \"Israel\", \"showlegend\": true, \"type\": \"scattergeo\"}, {\"customdata\": [[3447]], \"geo\": \"geo\", \"hoverlabel\": {\"namelength\": 0}, \"hovertemplate\": \"<b>%{hovertext}</b><br><br>Area=Sweden<br>size=%{marker.size}<br>Cases=%{customdata[0]}<br>alpha3=%{location}\", \"hovertext\": [\"Sweden\"], \"legendgroup\": \"Sweden\", \"locations\": [\"SWE\"], \"marker\": {\"color\": \"#636efa\", \"size\": [102.39810653586395], \"sizemode\": \"area\", \"sizeref\": 1.4999884392123928}, \"name\": \"Sweden\", \"showlegend\": true, \"type\": \"scattergeo\"}, {\"customdata\": [[2663]], \"geo\": \"geo\", \"hoverlabel\": {\"namelength\": 0}, \"hovertemplate\": \"<b>%{hovertext}</b><br><br>Area=Czech_Republic<br>size=%{marker.size}<br>Cases=%{customdata[0]}<br>alpha3=%{location}\", \"hovertext\": [\"Czech_Republic\"], \"legendgroup\": \"Czech_Republic\", \"locations\": [\"CZE\"], \"marker\": {\"color\": \"#EF553B\", \"size\": [79.42120301951383], \"sizemode\": \"area\", \"sizeref\": 1.4999884392123928}, \"name\": \"Czech_Republic\", \"showlegend\": true, \"type\": \"scattergeo\"}, {\"customdata\": [[2415]], \"geo\": \"geo\", \"hoverlabel\": {\"namelength\": 0}, \"hovertemplate\": \"<b>%{hovertext}</b><br><br>Area=Ireland<br>size=%{marker.size}<br>Cases=%{customdata[0]}<br>alpha3=%{location}\", \"hovertext\": [\"Ireland\"], \"legendgroup\": \"Ireland\", \"locations\": [\"IRL\"], \"marker\": {\"color\": \"#00cc96\", \"size\": [72.09992101337404], \"sizemode\": \"area\", \"sizeref\": 1.4999884392123928}, \"name\": \"Ireland\", \"showlegend\": true, \"type\": \"scattergeo\"}, {\"customdata\": [[2320]], \"geo\": \"geo\", \"hoverlabel\": {\"namelength\": 0}, \"hovertemplate\": \"<b>%{hovertext}</b><br><br>Area=Malaysia<br>size=%{marker.size}<br>Cases=%{customdata[0]}<br>alpha3=%{location}\", \"hovertext\": [\"Malaysia\"], \"legendgroup\": \"Malaysia\", \"locations\": [\"MYS\"], \"marker\": {\"color\": \"#ab63fa\", \"size\": [69.28949197138805], \"sizemode\": \"area\", \"sizeref\": 1.4999884392123928}, \"name\": \"Malaysia\", \"showlegend\": true, \"type\": \"scattergeo\"}, {\"customdata\": [[2201]], \"geo\": \"geo\", \"hoverlabel\": {\"namelength\": 0}, \"hovertemplate\": \"<b>%{hovertext}</b><br><br>Area=Denmark<br>size=%{marker.size}<br>Cases=%{customdata[0]}<br>alpha3=%{location}\", \"hovertext\": [\"Denmark\"], \"legendgroup\": \"Denmark\", \"locations\": [\"DNK\"], \"marker\": {\"color\": \"#FFA15A\", \"size\": [65.76472187451688], \"sizemode\": \"area\", \"sizeref\": 1.4999884392123928}, \"name\": \"Denmark\", \"showlegend\": true, \"type\": \"scattergeo\"}, {\"customdata\": [[1909]], \"geo\": \"geo\", \"hoverlabel\": {\"namelength\": 0}, \"hovertemplate\": \"<b>%{hovertext}</b><br><br>Area=Chile<br>size=%{marker.size}<br>Cases=%{customdata[0]}<br>alpha3=%{location}\", \"hovertext\": [\"Chile\"], \"legendgroup\": \"Chile\", \"locations\": [\"CHL\"], \"marker\": {\"color\": \"#19d3f3\", \"size\": [57.09670818595324], \"sizemode\": \"area\", \"sizeref\": 1.4999884392123928}, \"name\": \"Chile\", \"showlegend\": true, \"type\": \"scattergeo\"}, {\"customdata\": [[1835]], \"geo\": \"geo\", \"hoverlabel\": {\"namelength\": 0}, \"hovertemplate\": \"<b>%{hovertext}</b><br><br>Area=Ecuador<br>size=%{marker.size}<br>Cases=%{customdata[0]}<br>alpha3=%{location}\", \"hovertext\": [\"Ecuador\"], \"legendgroup\": \"Ecuador\", \"locations\": [\"ECU\"], \"marker\": {\"color\": \"#FF6692\", \"size\": [54.89604692698867], \"sizemode\": \"area\", \"sizeref\": 1.4999884392123928}, \"name\": \"Ecuador\", \"showlegend\": true, \"type\": \"scattergeo\"}, {\"customdata\": [[1831]], \"geo\": \"geo\", \"hoverlabel\": {\"namelength\": 0}, \"hovertemplate\": \"<b>%{hovertext}</b><br><br>Area=Luxembourg<br>size=%{marker.size}<br>Cases=%{customdata[0]}<br>alpha3=%{location}\", \"hovertext\": [\"Luxembourg\"], \"legendgroup\": \"Luxembourg\", \"locations\": [\"LUX\"], \"marker\": {\"color\": \"#B6E880\", \"size\": [54.77704927639785], \"sizemode\": \"area\", \"sizeref\": 1.4999884392123928}, \"name\": \"Luxembourg\", \"showlegend\": true, \"type\": \"scattergeo\"}, {\"customdata\": [[1693]], \"geo\": \"geo\", \"hoverlabel\": {\"namelength\": 0}, \"hovertemplate\": \"<b>%{hovertext}</b><br><br>Area=Japan<br>size=%{marker.size}<br>Cases=%{customdata[0]}<br>alpha3=%{location}\", \"hovertext\": [\"Japan\"], \"legendgroup\": \"Japan\", \"locations\": [\"JPN\"], \"marker\": {\"color\": \"#FF97FF\", \"size\": [50.66903272158868], \"sizemode\": \"area\", \"sizeref\": 1.4999884392123928}, \"name\": \"Japan\", \"showlegend\": true, \"type\": \"scattergeo\"}, {\"customdata\": [[1638]], \"geo\": \"geo\", \"hoverlabel\": {\"namelength\": 0}, \"hovertemplate\": \"<b>%{hovertext}</b><br><br>Area=Poland<br>size=%{marker.size}<br>Cases=%{customdata[0]}<br>alpha3=%{location}\", \"hovertext\": [\"Poland\"], \"legendgroup\": \"Poland\", \"locations\": [\"POL\"], \"marker\": {\"color\": \"#FECB52\", \"size\": [49.03042333781818], \"sizemode\": \"area\", \"sizeref\": 1.4999884392123928}, \"name\": \"Poland\", \"showlegend\": true, \"type\": \"scattergeo\"}, {\"customdata\": [[1452]], \"geo\": \"geo\", \"hoverlabel\": {\"namelength\": 0}, \"hovertemplate\": \"<b>%{hovertext}</b><br><br>Area=Romania<br>size=%{marker.size}<br>Cases=%{customdata[0]}<br>alpha3=%{location}\", \"hovertext\": [\"Romania\"], \"legendgroup\": \"Romania\", \"locations\": [\"ROU\"], \"marker\": {\"color\": \"#636efa\", \"size\": [43.48362957283679], \"sizemode\": \"area\", \"sizeref\": 1.4999884392123928}, \"name\": \"Romania\", \"showlegend\": true, \"type\": \"scattergeo\"}, {\"customdata\": [[1408]], \"geo\": \"geo\", \"hoverlabel\": {\"namelength\": 0}, \"hovertemplate\": \"<b>%{hovertext}</b><br><br>Area=Pakistan<br>size=%{marker.size}<br>Cases=%{customdata[0]}<br>alpha3=%{location}\", \"hovertext\": [\"Pakistan\"], \"legendgroup\": \"Pakistan\", \"locations\": [\"PAK\"], \"marker\": {\"color\": \"#EF553B\", \"size\": [42.170355331989335], \"sizemode\": \"area\", \"sizeref\": 1.4999884392123928}, \"name\": \"Pakistan\", \"showlegend\": true, \"type\": \"scattergeo\"}, {\"customdata\": [[1264]], \"geo\": \"geo\", \"hoverlabel\": {\"namelength\": 0}, \"hovertemplate\": \"<b>%{hovertext}</b><br><br>Area=Russia<br>size=%{marker.size}<br>Cases=%{customdata[0]}<br>alpha3=%{location}\", \"hovertext\": [\"Russia\"], \"legendgroup\": \"Russia\", \"locations\": [\"RUS\"], \"marker\": {\"color\": \"#00cc96\", \"size\": [37.86959333938852], \"sizemode\": \"area\", \"sizeref\": 1.4999884392123928}, \"name\": \"Russia\", \"showlegend\": true, \"type\": \"scattergeo\"}, {\"customdata\": [[1245]], \"geo\": \"geo\", \"hoverlabel\": {\"namelength\": 0}, \"hovertemplate\": \"<b>%{hovertext}</b><br><br>Area=Thailand<br>size=%{marker.size}<br>Cases=%{customdata[0]}<br>alpha3=%{location}\", \"hovertext\": [\"Thailand\"], \"legendgroup\": \"Thailand\", \"locations\": [\"THA\"], \"marker\": {\"color\": \"#ab63fa\", \"size\": [37.301830134992485], \"sizemode\": \"area\", \"sizeref\": 1.4999884392123928}, \"name\": \"Thailand\", \"showlegend\": true, \"type\": \"scattergeo\"}, {\"customdata\": [[1218]], \"geo\": \"geo\", \"hoverlabel\": {\"namelength\": 0}, \"hovertemplate\": \"<b>%{hovertext}</b><br><br>Area=Finland<br>size=%{marker.size}<br>Cases=%{customdata[0]}<br>alpha3=%{location}\", \"hovertext\": [\"Finland\"], \"legendgroup\": \"Finland\", \"locations\": [\"FIN\"], \"marker\": {\"color\": \"#FFA15A\", \"size\": [36.49489360943135], \"sizemode\": \"area\", \"sizeref\": 1.4999884392123928}, \"name\": \"Finland\", \"showlegend\": true, \"type\": \"scattergeo\"}, {\"customdata\": [[1203]], \"geo\": \"geo\", \"hoverlabel\": {\"namelength\": 0}, \"hovertemplate\": \"<b>%{hovertext}</b><br><br>Area=Saudi_Arabia<br>size=%{marker.size}<br>Cases=%{customdata[0]}<br>alpha3=%{location}\", \"hovertext\": [\"Saudi_Arabia\"], \"legendgroup\": \"Saudi_Arabia\", \"locations\": [\"SAU\"], \"marker\": {\"color\": \"#19d3f3\", \"size\": [36.046538086713575], \"sizemode\": \"area\", \"sizeref\": 1.4999884392123928}, \"name\": \"Saudi_Arabia\", \"showlegend\": true, \"type\": \"scattergeo\"}, {\"customdata\": [[1187]], \"geo\": \"geo\", \"hoverlabel\": {\"namelength\": 0}, \"hovertemplate\": \"<b>%{hovertext}</b><br><br>Area=South_Africa<br>size=%{marker.size}<br>Cases=%{customdata[0]}<br>alpha3=%{location}\", \"hovertext\": [\"South_Africa\"], \"legendgroup\": \"South_Africa\", \"locations\": [\"ZAF\"], \"marker\": {\"color\": \"#FF6692\", \"size\": [35.5682476716747], \"sizemode\": \"area\", \"sizeref\": 1.4999884392123928}, \"name\": \"South_Africa\", \"showlegend\": true, \"type\": \"scattergeo\"}, {\"customdata\": [[1155]], \"geo\": \"geo\", \"hoverlabel\": {\"namelength\": 0}, \"hovertemplate\": \"<b>%{hovertext}</b><br><br>Area=Indonesia<br>size=%{marker.size}<br>Cases=%{customdata[0]}<br>alpha3=%{location}\", \"hovertext\": [\"Indonesia\"], \"legendgroup\": \"Indonesia\", \"locations\": [\"IDN\"], \"marker\": {\"color\": \"#B6E880\", \"size\": [34.611531345457], \"sizemode\": \"area\", \"sizeref\": 1.4999884392123928}, \"name\": \"Indonesia\", \"showlegend\": true, \"type\": \"scattergeo\"}, {\"customdata\": [[1075]], \"geo\": \"geo\", \"hoverlabel\": {\"namelength\": 0}, \"hovertemplate\": \"<b>%{hovertext}</b><br><br>Area=Philippines<br>size=%{marker.size}<br>Cases=%{customdata[0]}<br>alpha3=%{location}\", \"hovertext\": [\"Philippines\"], \"legendgroup\": \"Philippines\", \"locations\": [\"PHL\"], \"marker\": {\"color\": \"#FF97FF\", \"size\": [32.21897842693724], \"sizemode\": \"area\", \"sizeref\": 1.4999884392123928}, \"name\": \"Philippines\", \"showlegend\": true, \"type\": \"scattergeo\"}, {\"customdata\": [[1061]], \"geo\": \"geo\", \"hoverlabel\": {\"namelength\": 0}, \"hovertemplate\": \"<b>%{hovertext}</b><br><br>Area=Greece<br>size=%{marker.size}<br>Cases=%{customdata[0]}<br>alpha3=%{location}\", \"hovertext\": [\"Greece\"], \"legendgroup\": \"Greece\", \"locations\": [\"GRC\"], \"marker\": {\"color\": \"#FECB52\", \"size\": [31.800173825975538], \"sizemode\": \"area\", \"sizeref\": 1.4999884392123928}, \"name\": \"Greece\", \"showlegend\": true, \"type\": \"scattergeo\"}, {\"customdata\": [[979]], \"geo\": \"geo\", \"hoverlabel\": {\"namelength\": 0}, \"hovertemplate\": \"<b>%{hovertext}</b><br><br>Area=India<br>size=%{marker.size}<br>Cases=%{customdata[0]}<br>alpha3=%{location}\", \"hovertext\": [\"India\"], \"legendgroup\": \"India\", \"locations\": [\"IND\"], \"marker\": {\"color\": \"#636efa\", \"size\": [29.34656461769999], \"sizemode\": \"area\", \"sizeref\": 1.4999884392123928}, \"name\": \"India\", \"showlegend\": true, \"type\": \"scattergeo\"}, {\"customdata\": [[963]], \"geo\": \"geo\", \"hoverlabel\": {\"namelength\": 0}, \"hovertemplate\": \"<b>%{hovertext}</b><br><br>Area=Iceland<br>size=%{marker.size}<br>Cases=%{customdata[0]}<br>alpha3=%{location}\", \"hovertext\": [\"Iceland\"], \"legendgroup\": \"Iceland\", \"locations\": [\"ISL\"], \"marker\": {\"color\": \"#EF553B\", \"size\": [28.86769427673293], \"sizemode\": \"area\", \"sizeref\": 1.4999884392123928}, \"name\": \"Iceland\", \"showlegend\": true, \"type\": \"scattergeo\"}, {\"customdata\": [[901]], \"geo\": \"geo\", \"hoverlabel\": {\"namelength\": 0}, \"hovertemplate\": \"<b>%{hovertext}</b><br><br>Area=Panama<br>size=%{marker.size}<br>Cases=%{customdata[0]}<br>alpha3=%{location}\", \"hovertext\": [\"Panama\"], \"legendgroup\": \"Panama\", \"locations\": [\"PAN\"], \"marker\": {\"color\": \"#00cc96\", \"size\": [27.011729014735778], \"sizemode\": \"area\", \"sizeref\": 1.4999884392123928}, \"name\": \"Panama\", \"showlegend\": true, \"type\": \"scattergeo\"}, {\"customdata\": [[848]], \"geo\": \"geo\", \"hoverlabel\": {\"namelength\": 0}, \"hovertemplate\": \"<b>%{hovertext}</b><br><br>Area=Mexico<br>size=%{marker.size}<br>Cases=%{customdata[0]}<br>alpha3=%{location}\", \"hovertext\": [\"Mexico\"], \"legendgroup\": \"Mexico\", \"locations\": [\"MEX\"], \"marker\": {\"color\": \"#ab63fa\", \"size\": [25.424765949972535], \"sizemode\": \"area\", \"sizeref\": 1.4999884392123928}, \"name\": \"Mexico\", \"showlegend\": true, \"type\": \"scattergeo\"}, {\"customdata\": [[803]], \"geo\": \"geo\", \"hoverlabel\": {\"namelength\": 0}, \"hovertemplate\": \"<b>%{hovertext}</b><br><br>Area=Singapore<br>size=%{marker.size}<br>Cases=%{customdata[0]}<br>alpha3=%{location}\", \"hovertext\": [\"Singapore\"], \"legendgroup\": \"Singapore\", \"locations\": [\"SGP\"], \"marker\": {\"color\": \"#FFA15A\", \"size\": [24.077063800638744], \"sizemode\": \"area\", \"sizeref\": 1.4999884392123928}, \"name\": \"Singapore\", \"showlegend\": true, \"type\": \"scattergeo\"}, {\"customdata\": [[745]], \"geo\": \"geo\", \"hoverlabel\": {\"namelength\": 0}, \"hovertemplate\": \"<b>%{hovertext}</b><br><br>Area=Argentina<br>size=%{marker.size}<br>Cases=%{customdata[0]}<br>alpha3=%{location}\", \"hovertext\": [\"Argentina\"], \"legendgroup\": \"Argentina\", \"locations\": [\"ARG\"], \"marker\": {\"color\": \"#19d3f3\", \"size\": [22.339668393636934], \"sizemode\": \"area\", \"sizeref\": 1.4999884392123928}, \"name\": \"Argentina\", \"showlegend\": true, \"type\": \"scattergeo\"}, {\"customdata\": [[719]], \"geo\": \"geo\", \"hoverlabel\": {\"namelength\": 0}, \"hovertemplate\": \"<b>%{hovertext}</b><br><br>Area=Dominican_Republic<br>size=%{marker.size}<br>Cases=%{customdata[0]}<br>alpha3=%{location}\", \"hovertext\": [\"Dominican_Republic\"], \"legendgroup\": \"Dominican_Republic\", \"locations\": [\"DOM\"], \"marker\": {\"color\": \"#FF6692\", \"size\": [21.56071242730832], \"sizemode\": \"area\", \"sizeref\": 1.4999884392123928}, \"name\": \"Dominican_Republic\", \"showlegend\": true, \"type\": \"scattergeo\"}, {\"customdata\": [[696]], \"geo\": \"geo\", \"hoverlabel\": {\"namelength\": 0}, \"hovertemplate\": \"<b>%{hovertext}</b><br><br>Area=Cases_on_an_international_conveyance_Japan<br>size=%{marker.size}<br>Cases=%{customdata[0]}<br>alpha3=%{location}\", \"hovertext\": [\"Cases_on_an_international_conveyance_Japan\"], \"legendgroup\": \"Cases_on_an_international_conveyance_Japan\", \"locations\": [null], \"marker\": {\"color\": \"#B6E880\", \"size\": [20.871575242663713], \"sizemode\": \"area\", \"sizeref\": 1.4999884392123928}, \"name\": \"Cases_on_an_international_conveyance_Japan\", \"showlegend\": true, \"type\": \"scattergeo\"}, {\"customdata\": [[691]], \"geo\": \"geo\", \"hoverlabel\": {\"namelength\": 0}, \"hovertemplate\": \"<b>%{hovertext}</b><br><br>Area=Slovenia<br>size=%{marker.size}<br>Cases=%{customdata[0]}<br>alpha3=%{location}\", \"hovertext\": [\"Slovenia\"], \"legendgroup\": \"Slovenia\", \"locations\": [\"SVN\"], \"marker\": {\"color\": \"#FF97FF\", \"size\": [20.721755452317495], \"sizemode\": \"area\", \"sizeref\": 1.4999884392123928}, \"name\": \"Slovenia\", \"showlegend\": true, \"type\": \"scattergeo\"}, {\"customdata\": [[671]], \"geo\": \"geo\", \"hoverlabel\": {\"namelength\": 0}, \"hovertemplate\": \"<b>%{hovertext}</b><br><br>Area=Peru<br>size=%{marker.size}<br>Cases=%{customdata[0]}<br>alpha3=%{location}\", \"hovertext\": [\"Peru\"], \"legendgroup\": \"Peru\", \"locations\": [\"PER\"], \"marker\": {\"color\": \"#FECB52\", \"size\": [20.122450606253373], \"sizemode\": \"area\", \"sizeref\": 1.4999884392123928}, \"name\": \"Peru\", \"showlegend\": true, \"type\": \"scattergeo\"}, {\"customdata\": [[659]], \"geo\": \"geo\", \"hoverlabel\": {\"namelength\": 0}, \"hovertemplate\": \"<b>%{hovertext}</b><br><br>Area=Serbia<br>size=%{marker.size}<br>Cases=%{customdata[0]}<br>alpha3=%{location}\", \"hovertext\": [\"Serbia\"], \"legendgroup\": \"Serbia\", \"locations\": [\"SRB\"], \"marker\": {\"color\": \"#636efa\", \"size\": [19.762848326344926], \"sizemode\": \"area\", \"sizeref\": 1.4999884392123928}, \"name\": \"Serbia\", \"showlegend\": true, \"type\": \"scattergeo\"}, {\"customdata\": [[657]], \"geo\": \"geo\", \"hoverlabel\": {\"namelength\": 0}, \"hovertemplate\": \"<b>%{hovertext}</b><br><br>Area=Croatia<br>size=%{marker.size}<br>Cases=%{customdata[0]}<br>alpha3=%{location}\", \"hovertext\": [\"Croatia\"], \"legendgroup\": \"Croatia\", \"locations\": [\"HRV\"], \"marker\": {\"color\": \"#EF553B\", \"size\": [19.702913224158987], \"sizemode\": \"area\", \"sizeref\": 1.4999884392123928}, \"name\": \"Croatia\", \"showlegend\": true, \"type\": \"scattergeo\"}, {\"customdata\": [[640]], \"geo\": \"geo\", \"hoverlabel\": {\"namelength\": 0}, \"hovertemplate\": \"<b>%{hovertext}</b><br><br>Area=Estonia<br>size=%{marker.size}<br>Cases=%{customdata[0]}<br>alpha3=%{location}\", \"hovertext\": [\"Estonia\"], \"legendgroup\": \"Estonia\", \"locations\": [\"EST\"], \"marker\": {\"color\": \"#00cc96\", \"size\": [19.193449083242417], \"sizemode\": \"area\", \"sizeref\": 1.4999884392123928}, \"name\": \"Estonia\", \"showlegend\": true, \"type\": \"scattergeo\"}, {\"customdata\": [[608]], \"geo\": \"geo\", \"hoverlabel\": {\"namelength\": 0}, \"hovertemplate\": \"<b>%{hovertext}</b><br><br>Area=Colombia<br>size=%{marker.size}<br>Cases=%{customdata[0]}<br>alpha3=%{location}\", \"hovertext\": [\"Colombia\"], \"legendgroup\": \"Colombia\", \"locations\": [\"COL\"], \"marker\": {\"color\": \"#ab63fa\", \"size\": [18.234383183525708], \"sizemode\": \"area\", \"sizeref\": 1.4999884392123928}, \"name\": \"Colombia\", \"showlegend\": true, \"type\": \"scattergeo\"}, {\"customdata\": [[590]], \"geo\": \"geo\", \"hoverlabel\": {\"namelength\": 0}, \"hovertemplate\": \"<b>%{hovertext}</b><br><br>Area=Qatar<br>size=%{marker.size}<br>Cases=%{customdata[0]}<br>alpha3=%{location}\", \"hovertext\": [\"Qatar\"], \"legendgroup\": \"Qatar\", \"locations\": [\"QAT\"], \"marker\": {\"color\": \"#FFA15A\", \"size\": [17.6948673116814], \"sizemode\": \"area\", \"sizeref\": 1.4999884392123928}, \"name\": \"Qatar\", \"showlegend\": true, \"type\": \"scattergeo\"}, {\"customdata\": [[536]], \"geo\": \"geo\", \"hoverlabel\": {\"namelength\": 0}, \"hovertemplate\": \"<b>%{hovertext}</b><br><br>Area=Egypt<br>size=%{marker.size}<br>Cases=%{customdata[0]}<br>alpha3=%{location}\", \"hovertext\": [\"Egypt\"], \"legendgroup\": \"Egypt\", \"locations\": [\"EGY\"], \"marker\": {\"color\": \"#19d3f3\", \"size\": [16.076151339301042], \"sizemode\": \"area\", \"sizeref\": 1.4999884392123928}, \"name\": \"Egypt\", \"showlegend\": true, \"type\": \"scattergeo\"}, {\"customdata\": [[506]], \"geo\": \"geo\", \"hoverlabel\": {\"namelength\": 0}, \"hovertemplate\": \"<b>%{hovertext}</b><br><br>Area=Iraq<br>size=%{marker.size}<br>Cases=%{customdata[0]}<br>alpha3=%{location}\", \"hovertext\": [\"Iraq\"], \"legendgroup\": \"Iraq\", \"locations\": [\"IRQ\"], \"marker\": {\"color\": \"#FF6692\", \"size\": [15.176761973648789], \"sizemode\": \"area\", \"sizeref\": 1.4999884392123928}, \"name\": \"Iraq\", \"showlegend\": true, \"type\": \"scattergeo\"}, {\"customdata\": [[476]], \"geo\": \"geo\", \"hoverlabel\": {\"namelength\": 0}, \"hovertemplate\": \"<b>%{hovertext}</b><br><br>Area=New_Zealand<br>size=%{marker.size}<br>Cases=%{customdata[0]}<br>alpha3=%{location}\", \"hovertext\": [\"New_Zealand\"], \"legendgroup\": \"New_Zealand\", \"locations\": [\"NZL\"], \"marker\": {\"color\": \"#B6E880\", \"size\": [14.277304356366505], \"sizemode\": \"area\", \"sizeref\": 1.4999884392123928}, \"name\": \"New_Zealand\", \"showlegend\": true, \"type\": \"scattergeo\"}, {\"customdata\": [[473]], \"geo\": \"geo\", \"hoverlabel\": {\"namelength\": 0}, \"hovertemplate\": \"<b>%{hovertext}</b><br><br>Area=Bahrain<br>size=%{marker.size}<br>Cases=%{customdata[0]}<br>alpha3=%{location}\", \"hovertext\": [\"Bahrain\"], \"legendgroup\": \"Bahrain\", \"locations\": [\"BHR\"], \"marker\": {\"color\": \"#FF97FF\", \"size\": [14.187354996337449], \"sizemode\": \"area\", \"sizeref\": 1.4999884392123928}, \"name\": \"Bahrain\", \"showlegend\": true, \"type\": \"scattergeo\"}, {\"customdata\": [[468]], \"geo\": \"geo\", \"hoverlabel\": {\"namelength\": 0}, \"hovertemplate\": \"<b>%{hovertext}</b><br><br>Area=United_Arab_Emirates<br>size=%{marker.size}<br>Cases=%{customdata[0]}<br>alpha3=%{location}\", \"hovertext\": [\"United_Arab_Emirates\"], \"legendgroup\": \"United_Arab_Emirates\", \"locations\": [\"ARE\"], \"marker\": {\"color\": \"#FECB52\", \"size\": [14.03743798034233], \"sizemode\": \"area\", \"sizeref\": 1.4999884392123928}, \"name\": \"United_Arab_Emirates\", \"showlegend\": true, \"type\": \"scattergeo\"}, {\"customdata\": [[424]], \"geo\": \"geo\", \"hoverlabel\": {\"namelength\": 0}, \"hovertemplate\": \"<b>%{hovertext}</b><br><br>Area=Armenia<br>size=%{marker.size}<br>Cases=%{customdata[0]}<br>alpha3=%{location}\", \"hovertext\": [\"Armenia\"], \"legendgroup\": \"Armenia\", \"locations\": [\"ARM\"], \"marker\": {\"color\": \"#636efa\", \"size\": [12.718094716923437], \"sizemode\": \"area\", \"sizeref\": 1.4999884392123928}, \"name\": \"Armenia\", \"showlegend\": true, \"type\": \"scattergeo\"}, {\"customdata\": [[412]], \"geo\": \"geo\", \"hoverlabel\": {\"namelength\": 0}, \"hovertemplate\": \"<b>%{hovertext}</b><br><br>Area=Lebanon<br>size=%{marker.size}<br>Cases=%{customdata[0]}<br>alpha3=%{location}\", \"hovertext\": [\"Lebanon\"], \"legendgroup\": \"Lebanon\", \"locations\": [\"LBN\"], \"marker\": {\"color\": \"#EF553B\", \"size\": [12.358251933523198], \"sizemode\": \"area\", \"sizeref\": 1.4999884392123928}, \"name\": \"Lebanon\", \"showlegend\": true, \"type\": \"scattergeo\"}, {\"customdata\": [[409]], \"geo\": \"geo\", \"hoverlabel\": {\"namelength\": 0}, \"hovertemplate\": \"<b>%{hovertext}</b><br><br>Area=Algeria<br>size=%{marker.size}<br>Cases=%{customdata[0]}<br>alpha3=%{location}\", \"hovertext\": [\"Algeria\"], \"legendgroup\": \"Algeria\", \"locations\": [\"DZA\"], \"marker\": {\"color\": \"#00cc96\", \"size\": [12.268289837852066], \"sizemode\": \"area\", \"sizeref\": 1.4999884392123928}, \"name\": \"Algeria\", \"showlegend\": true, \"type\": \"scattergeo\"}, {\"customdata\": [[408]], \"geo\": \"geo\", \"hoverlabel\": {\"namelength\": 0}, \"hovertemplate\": \"<b>%{hovertext}</b><br><br>Area=Hungary<br>size=%{marker.size}<br>Cases=%{customdata[0]}<br>alpha3=%{location}\", \"hovertext\": [\"Hungary\"], \"legendgroup\": \"Hungary\", \"locations\": [\"HUN\"], \"marker\": {\"color\": \"#ab63fa\", \"size\": [12.238302349797085], \"sizemode\": \"area\", \"sizeref\": 1.4999884392123928}, \"name\": \"Hungary\", \"showlegend\": true, \"type\": \"scattergeo\"}, {\"customdata\": [[394]], \"geo\": \"geo\", \"hoverlabel\": {\"namelength\": 0}, \"hovertemplate\": \"<b>%{hovertext}</b><br><br>Area=Lithuania<br>size=%{marker.size}<br>Cases=%{customdata[0]}<br>alpha3=%{location}\", \"hovertext\": [\"Lithuania\"], \"legendgroup\": \"Lithuania\", \"locations\": [\"LTU\"], \"marker\": {\"color\": \"#FFA15A\", \"size\": [11.818471162730143], \"sizemode\": \"area\", \"sizeref\": 1.4999884392123928}, \"name\": \"Lithuania\", \"showlegend\": true, \"type\": \"scattergeo\"}, {\"customdata\": [[358]], \"geo\": \"geo\", \"hoverlabel\": {\"namelength\": 0}, \"hovertemplate\": \"<b>%{hovertext}</b><br><br>Area=Morocco<br>size=%{marker.size}<br>Cases=%{customdata[0]}<br>alpha3=%{location}\", \"hovertext\": [\"Morocco\"], \"legendgroup\": \"Morocco\", \"locations\": [\"MAR\"], \"marker\": {\"color\": \"#19d3f3\", \"size\": [10.738853079193733], \"sizemode\": \"area\", \"sizeref\": 1.4999884392123928}, \"name\": \"Morocco\", \"showlegend\": true, \"type\": \"scattergeo\"}, {\"customdata\": [[331]], \"geo\": \"geo\", \"hoverlabel\": {\"namelength\": 0}, \"hovertemplate\": \"<b>%{hovertext}</b><br><br>Area=Bulgaria<br>size=%{marker.size}<br>Cases=%{customdata[0]}<br>alpha3=%{location}\", \"hovertext\": [\"Bulgaria\"], \"legendgroup\": \"Bulgaria\", \"locations\": [\"BGR\"], \"marker\": {\"color\": \"#FF6692\", \"size\": [9.929093482043884], \"sizemode\": \"area\", \"sizeref\": 1.4999884392123928}, \"name\": \"Bulgaria\", \"showlegend\": true, \"type\": \"scattergeo\"}, {\"customdata\": [[311]], \"geo\": \"geo\", \"hoverlabel\": {\"namelength\": 0}, \"hovertemplate\": \"<b>%{hovertext}</b><br><br>Area=Ukraine<br>size=%{marker.size}<br>Cases=%{customdata[0]}<br>alpha3=%{location}\", \"hovertext\": [\"Ukraine\"], \"legendgroup\": \"Ukraine\", \"locations\": [\"UKR\"], \"marker\": {\"color\": \"#B6E880\", \"size\": [9.329248066952633], \"sizemode\": \"area\", \"sizeref\": 1.4999884392123928}, \"name\": \"Ukraine\", \"showlegend\": true, \"type\": \"scattergeo\"}, {\"customdata\": [[308]], \"geo\": \"geo\", \"hoverlabel\": {\"namelength\": 0}, \"hovertemplate\": \"<b>%{hovertext}</b><br><br>Area=Andorra<br>size=%{marker.size}<br>Cases=%{customdata[0]}<br>alpha3=%{location}\", \"hovertext\": [\"Andorra\"], \"legendgroup\": \"Andorra\", \"locations\": [\"AND\"], \"marker\": {\"color\": \"#FF97FF\", \"size\": [9.239269616487023], \"sizemode\": \"area\", \"sizeref\": 1.4999884392123928}, \"name\": \"Andorra\", \"showlegend\": true, \"type\": \"scattergeo\"}, {\"customdata\": [[305]], \"geo\": \"geo\", \"hoverlabel\": {\"namelength\": 0}, \"hovertemplate\": \"<b>%{hovertext}</b><br><br>Area=Latvia<br>size=%{marker.size}<br>Cases=%{customdata[0]}<br>alpha3=%{location}\", \"hovertext\": [\"Latvia\"], \"legendgroup\": \"Latvia\", \"locations\": [\"LVA\"], \"marker\": {\"color\": \"#FECB52\", \"size\": [9.149290750352874], \"sizemode\": \"area\", \"sizeref\": 1.4999884392123928}, \"name\": \"Latvia\", \"showlegend\": true, \"type\": \"scattergeo\"}, {\"customdata\": [[304]], \"geo\": \"geo\", \"hoverlabel\": {\"namelength\": 0}, \"hovertemplate\": \"<b>%{hovertext}</b><br><br>Area=Uruguay<br>size=%{marker.size}<br>Cases=%{customdata[0]}<br>alpha3=%{location}\", \"hovertext\": [\"Uruguay\"], \"legendgroup\": \"Uruguay\", \"locations\": [\"URY\"], \"marker\": {\"color\": \"#636efa\", \"size\": [9.11929770330338], \"sizemode\": \"area\", \"sizeref\": 1.4999884392123928}, \"name\": \"Uruguay\", \"showlegend\": true, \"type\": \"scattergeo\"}, {\"customdata\": [[295]], \"geo\": \"geo\", \"hoverlabel\": {\"namelength\": 0}, \"hovertemplate\": \"<b>%{hovertext}</b><br><br>Area=Slovakia<br>size=%{marker.size}<br>Cases=%{customdata[0]}<br>alpha3=%{location}\", \"hovertext\": [\"Slovakia\"], \"legendgroup\": \"Slovakia\", \"locations\": [\"SVK\"], \"marker\": {\"color\": \"#EF553B\", \"size\": [8.849358246473543], \"sizemode\": \"area\", \"sizeref\": 1.4999884392123928}, \"name\": \"Slovakia\", \"showlegend\": true, \"type\": \"scattergeo\"}, {\"customdata\": [[295]], \"geo\": \"geo\", \"hoverlabel\": {\"namelength\": 0}, \"hovertemplate\": \"<b>%{hovertext}</b><br><br>Area=Costa_Rica<br>size=%{marker.size}<br>Cases=%{customdata[0]}<br>alpha3=%{location}\", \"hovertext\": [\"Costa_Rica\"], \"legendgroup\": \"Costa_Rica\", \"locations\": [\"CRI\"], \"marker\": {\"color\": \"#00cc96\", \"size\": [8.849358246473543], \"sizemode\": \"area\", \"sizeref\": 1.4999884392123928}, \"name\": \"Costa_Rica\", \"showlegend\": true, \"type\": \"scattergeo\"}, {\"customdata\": [[283]], \"geo\": \"geo\", \"hoverlabel\": {\"namelength\": 0}, \"hovertemplate\": \"<b>%{hovertext}</b><br><br>Area=Taiwan<br>size=%{marker.size}<br>Cases=%{customdata[0]}<br>alpha3=%{location}\", \"hovertext\": [\"Taiwan\"], \"legendgroup\": \"Taiwan\", \"locations\": [\"TWN\"], \"marker\": {\"color\": \"#ab63fa\", \"size\": [8.489433415702127], \"sizemode\": \"area\", \"sizeref\": 1.4999884392123928}, \"name\": \"Taiwan\", \"showlegend\": true, \"type\": \"scattergeo\"}, {\"customdata\": [[257]], \"geo\": \"geo\", \"hoverlabel\": {\"namelength\": 0}, \"hovertemplate\": \"<b>%{hovertext}</b><br><br>Area=Bosnia_and_Herzegovina<br>size=%{marker.size}<br>Cases=%{customdata[0]}<br>alpha3=%{location}\", \"hovertext\": [\"Bosnia_and_Herzegovina\"], \"legendgroup\": \"Bosnia_and_Herzegovina\", \"locations\": [\"BIH\"], \"marker\": {\"color\": \"#FFA15A\", \"size\": [7.709575663202], \"sizemode\": \"area\", \"sizeref\": 1.4999884392123928}, \"name\": \"Bosnia_and_Herzegovina\", \"showlegend\": true, \"type\": \"scattergeo\"}, {\"customdata\": [[241]], \"geo\": \"geo\", \"hoverlabel\": {\"namelength\": 0}, \"hovertemplate\": \"<b>%{hovertext}</b><br><br>Area=North_Macedonia<br>size=%{marker.size}<br>Cases=%{customdata[0]}<br>alpha3=%{location}\", \"hovertext\": [\"North_Macedonia\"], \"legendgroup\": \"North_Macedonia\", \"locations\": [\"MKD\"], \"marker\": {\"color\": \"#19d3f3\", \"size\": [7.229650082298555], \"sizemode\": \"area\", \"sizeref\": 1.4999884392123928}, \"name\": \"North_Macedonia\", \"showlegend\": true, \"type\": \"scattergeo\"}, {\"customdata\": [[235]], \"geo\": \"geo\", \"hoverlabel\": {\"namelength\": 0}, \"hovertemplate\": \"<b>%{hovertext}</b><br><br>Area=Jordan<br>size=%{marker.size}<br>Cases=%{customdata[0]}<br>alpha3=%{location}\", \"hovertext\": [\"Jordan\"], \"legendgroup\": \"Jordan\", \"locations\": [\"JOR\"], \"marker\": {\"color\": \"#FF6692\", \"size\": [7.049675571041578], \"sizemode\": \"area\", \"sizeref\": 1.4999884392123928}, \"name\": \"Jordan\", \"showlegend\": true, \"type\": \"scattergeo\"}, {\"customdata\": [[235]], \"geo\": \"geo\", \"hoverlabel\": {\"namelength\": 0}, \"hovertemplate\": \"<b>%{hovertext}</b><br><br>Area=Kuwait<br>size=%{marker.size}<br>Cases=%{customdata[0]}<br>alpha3=%{location}\", \"hovertext\": [\"Kuwait\"], \"legendgroup\": \"Kuwait\", \"locations\": [\"KWT\"], \"marker\": {\"color\": \"#B6E880\", \"size\": [7.049675571041578], \"sizemode\": \"area\", \"sizeref\": 1.4999884392123928}, \"name\": \"Kuwait\", \"showlegend\": true, \"type\": \"scattergeo\"}, {\"customdata\": [[231]], \"geo\": \"geo\", \"hoverlabel\": {\"namelength\": 0}, \"hovertemplate\": \"<b>%{hovertext}</b><br><br>Area=Moldova<br>size=%{marker.size}<br>Cases=%{customdata[0]}<br>alpha3=%{location}\", \"hovertext\": [\"Moldova\"], \"legendgroup\": \"Moldova\", \"locations\": [\"MDA\"], \"marker\": {\"color\": \"#FF97FF\", \"size\": [6.9296918566678265], \"sizemode\": \"area\", \"sizeref\": 1.4999884392123928}, \"name\": \"Moldova\", \"showlegend\": true, \"type\": \"scattergeo\"}, {\"customdata\": [[229]], \"geo\": \"geo\", \"hoverlabel\": {\"namelength\": 0}, \"hovertemplate\": \"<b>%{hovertext}</b><br><br>Area=Kazakhstan<br>size=%{marker.size}<br>Cases=%{customdata[0]}<br>alpha3=%{location}\", \"hovertext\": [\"Kazakhstan\"], \"legendgroup\": \"Kazakhstan\", \"locations\": [\"KAZ\"], \"marker\": {\"color\": \"#FECB52\", \"size\": [6.869699791018249], \"sizemode\": \"area\", \"sizeref\": 1.4999884392123928}, \"name\": \"Kazakhstan\", \"showlegend\": true, \"type\": \"scattergeo\"}, {\"customdata\": [[227]], \"geo\": \"geo\", \"hoverlabel\": {\"namelength\": 0}, \"hovertemplate\": \"<b>%{hovertext}</b><br><br>Area=Tunisia<br>size=%{marker.size}<br>Cases=%{customdata[0]}<br>alpha3=%{location}\", \"hovertext\": [\"Tunisia\"], \"legendgroup\": \"Tunisia\", \"locations\": [\"TUN\"], \"marker\": {\"color\": \"#636efa\", \"size\": [6.80970758799269], \"sizemode\": \"area\", \"sizeref\": 1.4999884392123928}, \"name\": \"Tunisia\", \"showlegend\": true, \"type\": \"scattergeo\"}, {\"customdata\": [[224]], \"geo\": \"geo\", \"hoverlabel\": {\"namelength\": 0}, \"hovertemplate\": \"<b>%{hovertext}</b><br><br>Area=San_Marino<br>size=%{marker.size}<br>Cases=%{customdata[0]}<br>alpha3=%{location}\", \"hovertext\": [\"San_Marino\"], \"legendgroup\": \"San_Marino\", \"locations\": [\"SMR\"], \"marker\": {\"color\": \"#EF553B\", \"size\": [6.719719028498018], \"sizemode\": \"area\", \"sizeref\": 1.4999884392123928}, \"name\": \"San_Marino\", \"showlegend\": true, \"type\": \"scattergeo\"}, {\"customdata\": [[223]], \"geo\": \"geo\", \"hoverlabel\": {\"namelength\": 0}, \"hovertemplate\": \"<b>%{hovertext}</b><br><br>Area=Vietnam<br>size=%{marker.size}<br>Cases=%{customdata[0]}<br>alpha3=%{location}\", \"hovertext\": [\"Vietnam\"], \"legendgroup\": \"Vietnam\", \"locations\": [\"VNM\"], \"marker\": {\"color\": \"#00cc96\", \"size\": [6.689722774611133], \"sizemode\": \"area\", \"sizeref\": 1.4999884392123928}, \"name\": \"Vietnam\", \"showlegend\": true, \"type\": \"scattergeo\"}, {\"customdata\": [[197]], \"geo\": \"geo\", \"hoverlabel\": {\"namelength\": 0}, \"hovertemplate\": \"<b>%{hovertext}</b><br><br>Area=Albania<br>size=%{marker.size}<br>Cases=%{customdata[0]}<br>alpha3=%{location}\", \"hovertext\": [\"Albania\"], \"legendgroup\": \"Albania\", \"locations\": [\"ALB\"], \"marker\": {\"color\": \"#ab63fa\", \"size\": [5.909808873092441], \"sizemode\": \"area\", \"sizeref\": 1.4999884392123928}, \"name\": \"Albania\", \"showlegend\": true, \"type\": \"scattergeo\"}, {\"customdata\": [[182]], \"geo\": \"geo\", \"hoverlabel\": {\"namelength\": 0}, \"hovertemplate\": \"<b>%{hovertext}</b><br><br>Area=Azerbaijan<br>size=%{marker.size}<br>Cases=%{customdata[0]}<br>alpha3=%{location}\", \"hovertext\": [\"Azerbaijan\"], \"legendgroup\": \"Azerbaijan\", \"locations\": [\"AZE\"], \"marker\": {\"color\": \"#FFA15A\", \"size\": [5.45984929079209], \"sizemode\": \"area\", \"sizeref\": 1.4999884392123928}, \"name\": \"Azerbaijan\", \"showlegend\": true, \"type\": \"scattergeo\"}, {\"customdata\": [[180]], \"geo\": \"geo\", \"hoverlabel\": {\"namelength\": 0}, \"hovertemplate\": \"<b>%{hovertext}</b><br><br>Area=Burkina_Faso<br>size=%{marker.size}<br>Cases=%{customdata[0]}<br>alpha3=%{location}\", \"hovertext\": [\"Burkina_Faso\"], \"legendgroup\": \"Burkina_Faso\", \"locations\": [\"BFA\"], \"marker\": {\"color\": \"#19d3f3\", \"size\": [5.3998542047237645], \"sizemode\": \"area\", \"sizeref\": 1.4999884392123928}, \"name\": \"Burkina_Faso\", \"showlegend\": true, \"type\": \"scattergeo\"}, {\"customdata\": [[179]], \"geo\": \"geo\", \"hoverlabel\": {\"namelength\": 0}, \"hovertemplate\": \"<b>%{hovertext}</b><br><br>Area=Cyprus<br>size=%{marker.size}<br>Cases=%{customdata[0]}<br>alpha3=%{location}\", \"hovertext\": [\"Cyprus\"], \"legendgroup\": \"Cyprus\", \"locations\": [\"CYP\"], \"marker\": {\"color\": \"#FF6692\", \"size\": [5.369856621119], \"sizemode\": \"area\", \"sizeref\": 1.4999884392123928}, \"name\": \"Cyprus\", \"showlegend\": true, \"type\": \"scattergeo\"}, {\"customdata\": [[155]], \"geo\": \"geo\", \"hoverlabel\": {\"namelength\": 0}, \"hovertemplate\": \"<b>%{hovertext}</b><br><br>Area=Faroe_Islands<br>size=%{marker.size}<br>Cases=%{customdata[0]}<br>alpha3=%{location}\", \"hovertext\": [\"Faroe_Islands\"], \"legendgroup\": \"Faroe_Islands\", \"locations\": [\"FRO\"], \"marker\": {\"color\": \"#B6E880\", \"size\": [4.649906905361598], \"sizemode\": \"area\", \"sizeref\": 1.4999884392123928}, \"name\": \"Faroe_Islands\", \"showlegend\": true, \"type\": \"scattergeo\"}, {\"customdata\": [[152]], \"geo\": \"geo\", \"hoverlabel\": {\"namelength\": 0}, \"hovertemplate\": \"<b>%{hovertext}</b><br><br>Area=Oman<br>size=%{marker.size}<br>Cases=%{customdata[0]}<br>alpha3=%{location}\", \"hovertext\": [\"Oman\"], \"legendgroup\": \"Oman\", \"locations\": [\"OMN\"], \"marker\": {\"color\": \"#FF97FF\", \"size\": [4.559912206828373], \"sizemode\": \"area\", \"sizeref\": 1.4999884392123928}, \"name\": \"Oman\", \"showlegend\": true, \"type\": \"scattergeo\"}, {\"customdata\": [[141]], \"geo\": \"geo\", \"hoverlabel\": {\"namelength\": 0}, \"hovertemplate\": \"<b>%{hovertext}</b><br><br>Area=Ghana<br>size=%{marker.size}<br>Cases=%{customdata[0]}<br>alpha3=%{location}\", \"hovertext\": [\"Ghana\"], \"legendgroup\": \"Ghana\", \"locations\": [\"GHA\"], \"marker\": {\"color\": \"#FECB52\", \"size\": [4.229929920868243], \"sizemode\": \"area\", \"sizeref\": 1.4999884392123928}, \"name\": \"Ghana\", \"showlegend\": true, \"type\": \"scattergeo\"}, {\"customdata\": [[140]], \"geo\": \"geo\", \"hoverlabel\": {\"namelength\": 0}, \"hovertemplate\": \"<b>%{hovertext}</b><br><br>Area=Cote_dIvoire<br>size=%{marker.size}<br>Cases=%{customdata[0]}<br>alpha3=%{location}\", \"hovertext\": [\"Cote_dIvoire\"], \"legendgroup\": \"Cote_dIvoire\", \"locations\": [\"CIV\"], \"marker\": {\"color\": \"#636efa\", \"size\": [4.199931401344533], \"sizemode\": \"area\", \"sizeref\": 1.4999884392123928}, \"name\": \"Cote_dIvoire\", \"showlegend\": true, \"type\": \"scattergeo\"}, {\"customdata\": [[139]], \"geo\": \"geo\", \"hoverlabel\": {\"namelength\": 0}, \"hovertemplate\": \"<b>%{hovertext}</b><br><br>Area=Malta<br>size=%{marker.size}<br>Cases=%{customdata[0]}<br>alpha3=%{location}\", \"hovertext\": [\"Malta\"], \"legendgroup\": \"Malta\", \"locations\": [\"MLT\"], \"marker\": {\"color\": \"#EF553B\", \"size\": [4.169932860822195], \"sizemode\": \"area\", \"sizeref\": 1.4999884392123928}, \"name\": \"Malta\", \"showlegend\": true, \"type\": \"scattergeo\"}, {\"customdata\": [[133]], \"geo\": \"geo\", \"hoverlabel\": {\"namelength\": 0}, \"hovertemplate\": \"<b>%{hovertext}</b><br><br>Area=Uzbekistan<br>size=%{marker.size}<br>Cases=%{customdata[0]}<br>alpha3=%{location}\", \"hovertext\": [\"Uzbekistan\"], \"legendgroup\": \"Uzbekistan\", \"locations\": [\"UZB\"], \"marker\": {\"color\": \"#00cc96\", \"size\": [3.9899411851153763], \"sizemode\": \"area\", \"sizeref\": 1.4999884392123928}, \"name\": \"Uzbekistan\", \"showlegend\": true, \"type\": \"scattergeo\"}, {\"customdata\": [[130]], \"geo\": \"geo\", \"hoverlabel\": {\"namelength\": 0}, \"hovertemplate\": \"<b>%{hovertext}</b><br><br>Area=Senegal<br>size=%{marker.size}<br>Cases=%{customdata[0]}<br>alpha3=%{location}\", \"hovertext\": [\"Senegal\"], \"legendgroup\": \"Senegal\", \"locations\": [\"SEN\"], \"marker\": {\"color\": \"#ab63fa\", \"size\": [3.8999450759282164], \"sizemode\": \"area\", \"sizeref\": 1.4999884392123928}, \"name\": \"Senegal\", \"showlegend\": true, \"type\": \"scattergeo\"}, {\"customdata\": [[120]], \"geo\": \"geo\", \"hoverlabel\": {\"namelength\": 0}, \"hovertemplate\": \"<b>%{hovertext}</b><br><br>Area=Brunei_Darussalam<br>size=%{marker.size}<br>Cases=%{customdata[0]}<br>alpha3=%{location}\", \"hovertext\": [\"Brunei_Darussalam\"], \"legendgroup\": \"Brunei_Darussalam\", \"locations\": [\"BRN\"], \"marker\": {\"color\": \"#FFA15A\", \"size\": [3.599956800622071], \"sizemode\": \"area\", \"sizeref\": 1.4999884392123928}, \"name\": \"Brunei_Darussalam\", \"showlegend\": true, \"type\": \"scattergeo\"}, {\"customdata\": [[119]], \"geo\": \"geo\", \"hoverlabel\": {\"namelength\": 0}, \"hovertemplate\": \"<b>%{hovertext}</b><br><br>Area=Cuba<br>size=%{marker.size}<br>Cases=%{customdata[0]}<br>alpha3=%{location}\", \"hovertext\": [\"Cuba\"], \"legendgroup\": \"Cuba\", \"locations\": [\"CUB\"], \"marker\": {\"color\": \"#19d3f3\", \"size\": [3.5699578716215803], \"sizemode\": \"area\", \"sizeref\": 1.4999884392123928}, \"name\": \"Cuba\", \"showlegend\": true, \"type\": \"scattergeo\"}, {\"customdata\": [[119]], \"geo\": \"geo\", \"hoverlabel\": {\"namelength\": 0}, \"hovertemplate\": \"<b>%{hovertext}</b><br><br>Area=Venezuela<br>size=%{marker.size}<br>Cases=%{customdata[0]}<br>alpha3=%{location}\", \"hovertext\": [\"Venezuela\"], \"legendgroup\": \"Venezuela\", \"locations\": [\"VEN\"], \"marker\": {\"color\": \"#FF6692\", \"size\": [3.5699578716215803], \"sizemode\": \"area\", \"sizeref\": 1.4999884392123928}, \"name\": \"Venezuela\", \"showlegend\": true, \"type\": \"scattergeo\"}, {\"customdata\": [[115]], \"geo\": \"geo\", \"hoverlabel\": {\"namelength\": 0}, \"hovertemplate\": \"<b>%{hovertext}</b><br><br>Area=Sri_Lanka<br>size=%{marker.size}<br>Cases=%{customdata[0]}<br>alpha3=%{location}\", \"hovertext\": [\"Sri_Lanka\"], \"legendgroup\": \"Sri_Lanka\", \"locations\": [\"LKA\"], \"marker\": {\"color\": \"#B6E880\", \"size\": [3.4499619786278326], \"sizemode\": \"area\", \"sizeref\": 1.4999884392123928}, \"name\": \"Sri_Lanka\", \"showlegend\": true, \"type\": \"scattergeo\"}, {\"customdata\": [[110]], \"geo\": \"geo\", \"hoverlabel\": {\"namelength\": 0}, \"hovertemplate\": \"<b>%{hovertext}</b><br><br>Area=Honduras<br>size=%{marker.size}<br>Cases=%{customdata[0]}<br>alpha3=%{location}\", \"hovertext\": [\"Honduras\"], \"legendgroup\": \"Honduras\", \"locations\": [\"HND\"], \"marker\": {\"color\": \"#FF97FF\", \"size\": [3.2999667254026224], \"sizemode\": \"area\", \"sizeref\": 1.4999884392123928}, \"name\": \"Honduras\", \"showlegend\": true, \"type\": \"scattergeo\"}, {\"customdata\": [[106]], \"geo\": \"geo\", \"hoverlabel\": {\"namelength\": 0}, \"hovertemplate\": \"<b>%{hovertext}</b><br><br>Area=Afghanistan<br>size=%{marker.size}<br>Cases=%{customdata[0]}<br>alpha3=%{location}\", \"hovertext\": [\"Afghanistan\"], \"legendgroup\": \"Afghanistan\", \"locations\": [\"AFG\"], \"marker\": {\"color\": \"#FECB52\", \"size\": [3.1799702249345527], \"sizemode\": \"area\", \"sizeref\": 1.4999884392123928}, \"name\": \"Afghanistan\", \"showlegend\": true, \"type\": \"scattergeo\"}, {\"customdata\": [[103]], \"geo\": \"geo\", \"hoverlabel\": {\"namelength\": 0}, \"hovertemplate\": \"<b>%{hovertext}</b><br><br>Area=Cambodia<br>size=%{marker.size}<br>Cases=%{customdata[0]}<br>alpha3=%{location}\", \"hovertext\": [\"Cambodia\"], \"legendgroup\": \"Cambodia\", \"locations\": [\"KHM\"], \"marker\": {\"color\": \"#636efa\", \"size\": [3.0899726821148152], \"sizemode\": \"area\", \"sizeref\": 1.4999884392123928}, \"name\": \"Cambodia\", \"showlegend\": true, \"type\": \"scattergeo\"}, {\"customdata\": [[102]], \"geo\": \"geo\", \"hoverlabel\": {\"namelength\": 0}, \"hovertemplate\": \"<b>%{hovertext}</b><br><br>Area=Mauritius<br>size=%{marker.size}<br>Cases=%{customdata[0]}<br>alpha3=%{location}\", \"hovertext\": [\"Mauritius\"], \"legendgroup\": \"Mauritius\", \"locations\": [\"MUS\"], \"marker\": {\"color\": \"#EF553B\", \"size\": [3.0599734700760175], \"sizemode\": \"area\", \"sizeref\": 1.4999884392123928}, \"name\": \"Mauritius\", \"showlegend\": true, \"type\": \"scattergeo\"}, {\"customdata\": [[100]], \"geo\": \"geo\", \"hoverlabel\": {\"namelength\": 0}, \"hovertemplate\": \"<b>%{hovertext}</b><br><br>Area=Puerto_Rico<br>size=%{marker.size}<br>Cases=%{customdata[0]}<br>alpha3=%{location}\", \"hovertext\": [\"Puerto_Rico\"], \"legendgroup\": \"Puerto_Rico\", \"locations\": [\"PRI\"], \"marker\": {\"color\": \"#00cc96\", \"size\": [2.9999750002499974], \"sizemode\": \"area\", \"sizeref\": 1.4999884392123928}, \"name\": \"Puerto_Rico\", \"showlegend\": true, \"type\": \"scattergeo\"}, {\"customdata\": [[99]], \"geo\": \"geo\", \"hoverlabel\": {\"namelength\": 0}, \"hovertemplate\": \"<b>%{hovertext}</b><br><br>Area=Cameroon<br>size=%{marker.size}<br>Cases=%{customdata[0]}<br>alpha3=%{location}\", \"hovertext\": [\"Cameroon\"], \"legendgroup\": \"Cameroon\", \"locations\": [\"CMR\"], \"marker\": {\"color\": \"#ab63fa\", \"size\": [2.969975742762746], \"sizemode\": \"area\", \"sizeref\": 1.4999884392123928}, \"name\": \"Cameroon\", \"showlegend\": true, \"type\": \"scattergeo\"}, {\"customdata\": [[97]], \"geo\": \"geo\", \"hoverlabel\": {\"namelength\": 0}, \"hovertemplate\": \"<b>%{hovertext}</b><br><br>Area=Nigeria<br>size=%{marker.size}<br>Cases=%{customdata[0]}<br>alpha3=%{location}\", \"hovertext\": [\"Nigeria\"], \"legendgroup\": \"Nigeria\", \"locations\": [\"NGA\"], \"marker\": {\"color\": \"#FFA15A\", \"size\": [2.9099771833896817], \"sizemode\": \"area\", \"sizeref\": 1.4999884392123928}, \"name\": \"Nigeria\", \"showlegend\": true, \"type\": \"scattergeo\"}, {\"customdata\": [[97]], \"geo\": \"geo\", \"hoverlabel\": {\"namelength\": 0}, \"hovertemplate\": \"<b>%{hovertext}</b><br><br>Area=Palestine<br>size=%{marker.size}<br>Cases=%{customdata[0]}<br>alpha3=%{location}\", \"hovertext\": [\"Palestine\"], \"legendgroup\": \"Palestine\", \"locations\": [\"PSE\"], \"marker\": {\"color\": \"#19d3f3\", \"size\": [2.9099771833896817], \"sizemode\": \"area\", \"sizeref\": 1.4999884392123928}, \"name\": \"Palestine\", \"showlegend\": true, \"type\": \"scattergeo\"}, {\"customdata\": [[94]], \"geo\": \"geo\", \"hoverlabel\": {\"namelength\": 0}, \"hovertemplate\": \"<b>%{hovertext}</b><br><br>Area=Belarus<br>size=%{marker.size}<br>Cases=%{customdata[0]}<br>alpha3=%{location}\", \"hovertext\": [\"Belarus\"], \"legendgroup\": \"Belarus\", \"locations\": [\"BLR\"], \"marker\": {\"color\": \"#FF6692\", \"size\": [2.819979235583475], \"sizemode\": \"area\", \"sizeref\": 1.4999884392123928}, \"name\": \"Belarus\", \"showlegend\": true, \"type\": \"scattergeo\"}, {\"customdata\": [[86]], \"geo\": \"geo\", \"hoverlabel\": {\"namelength\": 0}, \"hovertemplate\": \"<b>%{hovertext}</b><br><br>Area=Kosovo<br>size=%{marker.size}<br>Cases=%{customdata[0]}<br>alpha3=%{location}\", \"hovertext\": [\"Kosovo\"], \"legendgroup\": \"Kosovo\", \"locations\": [\"XKX\"], \"marker\": {\"color\": \"#B6E880\", \"size\": [2.5799840987176057], \"sizemode\": \"area\", \"sizeref\": 1.4999884392123928}, \"name\": \"Kosovo\", \"showlegend\": true, \"type\": \"scattergeo\"}, {\"customdata\": [[85]], \"geo\": \"geo\", \"hoverlabel\": {\"namelength\": 0}, \"hovertemplate\": \"<b>%{hovertext}</b><br><br>Area=Georgia<br>size=%{marker.size}<br>Cases=%{customdata[0]}<br>alpha3=%{location}\", \"hovertext\": [\"Georgia\"], \"legendgroup\": \"Georgia\", \"locations\": [\"GEO\"], \"marker\": {\"color\": \"#FF97FF\", \"size\": [2.5499846469859255], \"sizemode\": \"area\", \"sizeref\": 1.4999884392123928}, \"name\": \"Georgia\", \"showlegend\": true, \"type\": \"scattergeo\"}, {\"customdata\": [[84]], \"geo\": \"geo\", \"hoverlabel\": {\"namelength\": 0}, \"hovertemplate\": \"<b>%{hovertext}</b><br><br>Area=Kyrgyzstan<br>size=%{marker.size}<br>Cases=%{customdata[0]}<br>alpha3=%{location}\", \"hovertext\": [\"Kyrgyzstan\"], \"legendgroup\": \"Kyrgyzstan\", \"locations\": [\"KGZ\"], \"marker\": {\"color\": \"#FECB52\", \"size\": [2.519985182504552], \"sizemode\": \"area\", \"sizeref\": 1.4999884392123928}, \"name\": \"Kyrgyzstan\", \"showlegend\": true, \"type\": \"scattergeo\"}, {\"customdata\": [[84]], \"geo\": \"geo\", \"hoverlabel\": {\"namelength\": 0}, \"hovertemplate\": \"<b>%{hovertext}</b><br><br>Area=Montenegro<br>size=%{marker.size}<br>Cases=%{customdata[0]}<br>alpha3=%{location}\", \"hovertext\": [\"Montenegro\"], \"legendgroup\": \"Montenegro\", \"locations\": [\"MNE\"], \"marker\": {\"color\": \"#636efa\", \"size\": [2.519985182504552], \"sizemode\": \"area\", \"sizeref\": 1.4999884392123928}, \"name\": \"Montenegro\", \"showlegend\": true, \"type\": \"scattergeo\"}, {\"customdata\": [[81]], \"geo\": \"geo\", \"hoverlabel\": {\"namelength\": 0}, \"hovertemplate\": \"<b>%{hovertext}</b><br><br>Area=Bolivia<br>size=%{marker.size}<br>Cases=%{customdata[0]}<br>alpha3=%{location}\", \"hovertext\": [\"Bolivia\"], \"legendgroup\": \"Bolivia\", \"locations\": [\"BOL\"], \"marker\": {\"color\": \"#EF553B\", \"size\": [2.429986714062169], \"sizemode\": \"area\", \"sizeref\": 1.4999884392123928}, \"name\": \"Bolivia\", \"showlegend\": true, \"type\": \"scattergeo\"}, {\"customdata\": [[74]], \"geo\": \"geo\", \"hoverlabel\": {\"namelength\": 0}, \"hovertemplate\": \"<b>%{hovertext}</b><br><br>Area=Trinidad_and_Tobago<br>size=%{marker.size}<br>Cases=%{customdata[0]}<br>alpha3=%{location}\", \"hovertext\": [\"Trinidad_and_Tobago\"], \"legendgroup\": \"Trinidad_and_Tobago\", \"locations\": [\"TTO\"], \"marker\": {\"color\": \"#00cc96\", \"size\": [2.2199898694554747], \"sizemode\": \"area\", \"sizeref\": 1.4999884392123928}, \"name\": \"Trinidad_and_Tobago\", \"showlegend\": true, \"type\": \"scattergeo\"}, {\"customdata\": [[61]], \"geo\": \"geo\", \"hoverlabel\": {\"namelength\": 0}, \"hovertemplate\": \"<b>%{hovertext}</b><br><br>Area=Jersey<br>size=%{marker.size}<br>Cases=%{customdata[0]}<br>alpha3=%{location}\", \"hovertext\": [\"Jersey\"], \"legendgroup\": \"Jersey\", \"locations\": [\"JEY\"], \"marker\": {\"color\": \"#ab63fa\", \"size\": [1.829994325496115], \"sizemode\": \"area\", \"sizeref\": 1.4999884392123928}, \"name\": \"Jersey\", \"showlegend\": true, \"type\": \"scattergeo\"}, {\"customdata\": [[61]], \"geo\": \"geo\", \"hoverlabel\": {\"namelength\": 0}, \"hovertemplate\": \"<b>%{hovertext}</b><br><br>Area=Liechtenstein<br>size=%{marker.size}<br>Cases=%{customdata[0]}<br>alpha3=%{location}\", \"hovertext\": [\"Liechtenstein\"], \"legendgroup\": \"Liechtenstein\", \"locations\": [\"LIE\"], \"marker\": {\"color\": \"#FFA15A\", \"size\": [1.829994325496115], \"sizemode\": \"area\", \"sizeref\": 1.4999884392123928}, \"name\": \"Liechtenstein\", \"showlegend\": true, \"type\": \"scattergeo\"}, {\"customdata\": [[60]], \"geo\": \"geo\", \"hoverlabel\": {\"namelength\": 0}, \"hovertemplate\": \"<b>%{hovertext}</b><br><br>Area=Rwanda<br>size=%{marker.size}<br>Cases=%{customdata[0]}<br>alpha3=%{location}\", \"hovertext\": [\"Rwanda\"], \"legendgroup\": \"Rwanda\", \"locations\": [\"RWA\"], \"marker\": {\"color\": \"#19d3f3\", \"size\": [1.79999460001944], \"sizemode\": \"area\", \"sizeref\": 1.4999884392123928}, \"name\": \"Rwanda\", \"showlegend\": true, \"type\": \"scattergeo\"}, {\"customdata\": [[59]], \"geo\": \"geo\", \"hoverlabel\": {\"namelength\": 0}, \"hovertemplate\": \"<b>%{hovertext}</b><br><br>Area=Paraguay<br>size=%{marker.size}<br>Cases=%{customdata[0]}<br>alpha3=%{location}\", \"hovertext\": [\"Paraguay\"], \"legendgroup\": \"Paraguay\", \"locations\": [\"PRY\"], \"marker\": {\"color\": \"#FF6692\", \"size\": [1.7699948655428728], \"sizemode\": \"area\", \"sizeref\": 1.4999884392123928}, \"name\": \"Paraguay\", \"showlegend\": true, \"type\": \"scattergeo\"}, {\"customdata\": [[58]], \"geo\": \"geo\", \"hoverlabel\": {\"namelength\": 0}, \"hovertemplate\": \"<b>%{hovertext}</b><br><br>Area=Democratic_Republic_of_the_Congo<br>size=%{marker.size}<br>Cases=%{customdata[0]}<br>alpha3=%{location}\", \"hovertext\": [\"Democratic_Republic_of_the_Congo\"], \"legendgroup\": \"Democratic_Republic_of_the_Congo\", \"locations\": [\"COD\"], \"marker\": {\"color\": \"#B6E880\", \"size\": [1.7399951222164087], \"sizemode\": \"area\", \"sizeref\": 1.4999884392123928}, \"name\": \"Democratic_Republic_of_the_Congo\", \"showlegend\": true, \"type\": \"scattergeo\"}, {\"customdata\": [[56]], \"geo\": \"geo\", \"hoverlabel\": {\"namelength\": 0}, \"hovertemplate\": \"<b>%{hovertext}</b><br><br>Area=Gibraltar<br>size=%{marker.size}<br>Cases=%{customdata[0]}<br>alpha3=%{location}\", \"hovertext\": [\"Gibraltar\"], \"legendgroup\": \"Gibraltar\", \"locations\": [\"GIB\"], \"marker\": {\"color\": \"#FF97FF\", \"size\": [1.679995609613768], \"sizemode\": \"area\", \"sizeref\": 1.4999884392123928}, \"name\": \"Gibraltar\", \"showlegend\": true, \"type\": \"scattergeo\"}, {\"customdata\": [[55]], \"geo\": \"geo\", \"hoverlabel\": {\"namelength\": 0}, \"hovertemplate\": \"<b>%{hovertext}</b><br><br>Area=Guam<br>size=%{marker.size}<br>Cases=%{customdata[0]}<br>alpha3=%{location}\", \"hovertext\": [\"Guam\"], \"legendgroup\": \"Guam\", \"locations\": [\"GUM\"], \"marker\": {\"color\": \"#FECB52\", \"size\": [1.6499958406375819], \"sizemode\": \"area\", \"sizeref\": 1.4999884392123928}, \"name\": \"Guam\", \"showlegend\": true, \"type\": \"scattergeo\"}, {\"customdata\": [[48]], \"geo\": \"geo\", \"hoverlabel\": {\"namelength\": 0}, \"hovertemplate\": \"<b>%{hovertext}</b><br><br>Area=Bangladesh<br>size=%{marker.size}<br>Cases=%{customdata[0]}<br>alpha3=%{location}\", \"hovertext\": [\"Bangladesh\"], \"legendgroup\": \"Bangladesh\", \"locations\": [\"BGD\"], \"marker\": {\"color\": \"#636efa\", \"size\": [1.43999723520637], \"sizemode\": \"area\", \"sizeref\": 1.4999884392123928}, \"name\": \"Bangladesh\", \"showlegend\": true, \"type\": \"scattergeo\"}, {\"customdata\": [[43]], \"geo\": \"geo\", \"hoverlabel\": {\"namelength\": 0}, \"hovertemplate\": \"<b>%{hovertext}</b><br><br>Area=Monaco<br>size=%{marker.size}<br>Cases=%{customdata[0]}<br>alpha3=%{location}\", \"hovertext\": [\"Monaco\"], \"legendgroup\": \"Monaco\", \"locations\": [\"MCO\"], \"marker\": {\"color\": \"#EF553B\", \"size\": [1.2899980123286754], \"sizemode\": \"area\", \"sizeref\": 1.4999884392123928}, \"name\": \"Monaco\", \"showlegend\": true, \"type\": \"scattergeo\"}, {\"customdata\": [[39]], \"geo\": \"geo\", \"hoverlabel\": {\"namelength\": 0}, \"hovertemplate\": \"<b>%{hovertext}</b><br><br>Area=Guernsey<br>size=%{marker.size}<br>Cases=%{customdata[0]}<br>alpha3=%{location}\", \"hovertext\": [\"Guernsey\"], \"legendgroup\": \"Guernsey\", \"locations\": [\"GGY\"], \"marker\": {\"color\": \"#00cc96\", \"size\": [1.1699985170272555], \"sizemode\": \"area\", \"sizeref\": 1.4999884392123928}, \"name\": \"Guernsey\", \"showlegend\": true, \"type\": \"scattergeo\"}, {\"customdata\": [[38]], \"geo\": \"geo\", \"hoverlabel\": {\"namelength\": 0}, \"hovertemplate\": \"<b>%{hovertext}</b><br><br>Area=Kenya<br>size=%{marker.size}<br>Cases=%{customdata[0]}<br>alpha3=%{location}\", \"hovertext\": [\"Kenya\"], \"legendgroup\": \"Kenya\", \"locations\": [\"KEN\"], \"marker\": {\"color\": \"#ab63fa\", \"size\": [1.139998628201981], \"sizemode\": \"area\", \"sizeref\": 1.4999884392123928}, \"name\": \"Kenya\", \"showlegend\": true, \"type\": \"scattergeo\"}, {\"customdata\": [[34]], \"geo\": \"geo\", \"hoverlabel\": {\"namelength\": 0}, \"hovertemplate\": \"<b>%{hovertext}</b><br><br>Area=Guatemala<br>size=%{marker.size}<br>Cases=%{customdata[0]}<br>alpha3=%{location}\", \"hovertext\": [\"Guatemala\"], \"legendgroup\": \"Guatemala\", \"locations\": [\"GTM\"], \"marker\": {\"color\": \"#FFA15A\", \"size\": [1.0199990174011357], \"sizemode\": \"area\", \"sizeref\": 1.4999884392123928}, \"name\": \"Guatemala\", \"showlegend\": true, \"type\": \"scattergeo\"}, {\"customdata\": [[34]], \"geo\": \"geo\", \"hoverlabel\": {\"namelength\": 0}, \"hovertemplate\": \"<b>%{hovertext}</b><br><br>Area=French_Polynesia<br>size=%{marker.size}<br>Cases=%{customdata[0]}<br>alpha3=%{location}\", \"hovertext\": [\"French_Polynesia\"], \"legendgroup\": \"French_Polynesia\", \"locations\": [\"PYF\"], \"marker\": {\"color\": \"#19d3f3\", \"size\": [1.0199990174011357], \"sizemode\": \"area\", \"sizeref\": 1.4999884392123928}, \"name\": \"French_Polynesia\", \"showlegend\": true, \"type\": \"scattergeo\"}, {\"customdata\": [[32]], \"geo\": \"geo\", \"hoverlabel\": {\"namelength\": 0}, \"hovertemplate\": \"<b>%{hovertext}</b><br><br>Area=Jamaica<br>size=%{marker.size}<br>Cases=%{customdata[0]}<br>alpha3=%{location}\", \"hovertext\": [\"Jamaica\"], \"legendgroup\": \"Jamaica\", \"locations\": [\"JAM\"], \"marker\": {\"color\": \"#FF6692\", \"size\": [0.9599991808008389], \"sizemode\": \"area\", \"sizeref\": 1.4999884392123928}, \"name\": \"Jamaica\", \"showlegend\": true, \"type\": \"scattergeo\"}, {\"customdata\": [[32]], \"geo\": \"geo\", \"hoverlabel\": {\"namelength\": 0}, \"hovertemplate\": \"<b>%{hovertext}</b><br><br>Area=Isle_of_Man<br>size=%{marker.size}<br>Cases=%{customdata[0]}<br>alpha3=%{location}\", \"hovertext\": [\"Isle_of_Man\"], \"legendgroup\": \"Isle_of_Man\", \"locations\": [\"IMN\"], \"marker\": {\"color\": \"#B6E880\", \"size\": [0.9599991808008389], \"sizemode\": \"area\", \"sizeref\": 1.4999884392123928}, \"name\": \"Isle_of_Man\", \"showlegend\": true, \"type\": \"scattergeo\"}, {\"customdata\": [[30]], \"geo\": \"geo\", \"hoverlabel\": {\"namelength\": 0}, \"hovertemplate\": \"<b>%{hovertext}</b><br><br>Area=Uganda<br>size=%{marker.size}<br>Cases=%{customdata[0]}<br>alpha3=%{location}\", \"hovertext\": [\"Uganda\"], \"legendgroup\": \"Uganda\", \"locations\": [\"UGA\"], \"marker\": {\"color\": \"#FF97FF\", \"size\": [0.8999993250006075], \"sizemode\": \"area\", \"sizeref\": 1.4999884392123928}, \"name\": \"Uganda\", \"showlegend\": true, \"type\": \"scattergeo\"}, {\"customdata\": [[28]], \"geo\": \"geo\", \"hoverlabel\": {\"namelength\": 0}, \"hovertemplate\": \"<b>%{hovertext}</b><br><br>Area=Togo<br>size=%{marker.size}<br>Cases=%{customdata[0]}<br>alpha3=%{location}\", \"hovertext\": [\"Togo\"], \"legendgroup\": \"Togo\", \"locations\": [\"TGO\"], \"marker\": {\"color\": \"#FECB52\", \"size\": [0.8399994512004303], \"sizemode\": \"area\", \"sizeref\": 1.4999884392123928}, \"name\": \"Togo\", \"showlegend\": true, \"type\": \"scattergeo\"}, {\"customdata\": [[28]], \"geo\": \"geo\", \"hoverlabel\": {\"namelength\": 0}, \"hovertemplate\": \"<b>%{hovertext}</b><br><br>Area=Madagascar<br>size=%{marker.size}<br>Cases=%{customdata[0]}<br>alpha3=%{location}\", \"hovertext\": [\"Madagascar\"], \"legendgroup\": \"Madagascar\", \"locations\": [\"MDG\"], \"marker\": {\"color\": \"#636efa\", \"size\": [0.8399994512004303], \"sizemode\": \"area\", \"sizeref\": 1.4999884392123928}, \"name\": \"Madagascar\", \"showlegend\": true, \"type\": \"scattergeo\"}, {\"customdata\": [[28]], \"geo\": \"geo\", \"hoverlabel\": {\"namelength\": 0}, \"hovertemplate\": \"<b>%{hovertext}</b><br><br>Area=Zambia<br>size=%{marker.size}<br>Cases=%{customdata[0]}<br>alpha3=%{location}\", \"hovertext\": [\"Zambia\"], \"legendgroup\": \"Zambia\", \"locations\": [\"ZMB\"], \"marker\": {\"color\": \"#EF553B\", \"size\": [0.8399994512004303], \"sizemode\": \"area\", \"sizeref\": 1.4999884392123928}, \"name\": \"Zambia\", \"showlegend\": true, \"type\": \"scattergeo\"}, {\"customdata\": [[28]], \"geo\": \"geo\", \"hoverlabel\": {\"namelength\": 0}, \"hovertemplate\": \"<b>%{hovertext}</b><br><br>Area=Aruba<br>size=%{marker.size}<br>Cases=%{customdata[0]}<br>alpha3=%{location}\", \"hovertext\": [\"Aruba\"], \"legendgroup\": \"Aruba\", \"locations\": [\"ABW\"], \"marker\": {\"color\": \"#00cc96\", \"size\": [0.8399994512004303], \"sizemode\": \"area\", \"sizeref\": 1.4999884392123928}, \"name\": \"Aruba\", \"showlegend\": true, \"type\": \"scattergeo\"}, {\"customdata\": [[26]], \"geo\": \"geo\", \"hoverlabel\": {\"namelength\": 0}, \"hovertemplate\": \"<b>%{hovertext}</b><br><br>Area=Barbados<br>size=%{marker.size}<br>Cases=%{customdata[0]}<br>alpha3=%{location}\", \"hovertext\": [\"Barbados\"], \"legendgroup\": \"Barbados\", \"locations\": [\"BRB\"], \"marker\": {\"color\": \"#ab63fa\", \"size\": [0.779999560600297], \"sizemode\": \"area\", \"sizeref\": 1.4999884392123928}, \"name\": \"Barbados\", \"showlegend\": true, \"type\": \"scattergeo\"}, {\"customdata\": [[22]], \"geo\": \"geo\", \"hoverlabel\": {\"namelength\": 0}, \"hovertemplate\": \"<b>%{hovertext}</b><br><br>Area=Bermuda<br>size=%{marker.size}<br>Cases=%{customdata[0]}<br>alpha3=%{location}\", \"hovertext\": [\"Bermuda\"], \"legendgroup\": \"Bermuda\", \"locations\": [\"BMU\"], \"marker\": {\"color\": \"#FFA15A\", \"size\": [0.6599997338001288], \"sizemode\": \"area\", \"sizeref\": 1.4999884392123928}, \"name\": \"Bermuda\", \"showlegend\": true, \"type\": \"scattergeo\"}, {\"customdata\": [[22]], \"geo\": \"geo\", \"hoverlabel\": {\"namelength\": 0}, \"hovertemplate\": \"<b>%{hovertext}</b><br><br>Area=United_States_Virgin_Islands<br>size=%{marker.size}<br>Cases=%{customdata[0]}<br>alpha3=%{location}\", \"hovertext\": [\"United_States_Virgin_Islands\"], \"legendgroup\": \"United_States_Virgin_Islands\", \"locations\": [\"VIR\"], \"marker\": {\"color\": \"#19d3f3\", \"size\": [0.6599997338001288], \"sizemode\": \"area\", \"sizeref\": 1.4999884392123928}, \"name\": \"United_States_Virgin_Islands\", \"showlegend\": true, \"type\": \"scattergeo\"}, {\"customdata\": [[19]], \"geo\": \"geo\", \"hoverlabel\": {\"namelength\": 0}, \"hovertemplate\": \"<b>%{hovertext}</b><br><br>Area=Congo<br>size=%{marker.size}<br>Cases=%{customdata[0]}<br>alpha3=%{location}\", \"hovertext\": [\"Congo\"], \"legendgroup\": \"Congo\", \"locations\": [\"COG\"], \"marker\": {\"color\": \"#FF6692\", \"size\": [0.5699998285250619], \"sizemode\": \"area\", \"sizeref\": 1.4999884392123928}, \"name\": \"Congo\", \"showlegend\": true, \"type\": \"scattergeo\"}, {\"customdata\": [[19]], \"geo\": \"geo\", \"hoverlabel\": {\"namelength\": 0}, \"hovertemplate\": \"<b>%{hovertext}</b><br><br>Area=El_Salvador<br>size=%{marker.size}<br>Cases=%{customdata[0]}<br>alpha3=%{location}\", \"hovertext\": [\"El_Salvador\"], \"legendgroup\": \"El_Salvador\", \"locations\": [\"SLV\"], \"marker\": {\"color\": \"#B6E880\", \"size\": [0.5699998285250619], \"sizemode\": \"area\", \"sizeref\": 1.4999884392123928}, \"name\": \"El_Salvador\", \"showlegend\": true, \"type\": \"scattergeo\"}, {\"customdata\": [[16]], \"geo\": \"geo\", \"hoverlabel\": {\"namelength\": 0}, \"hovertemplate\": \"<b>%{hovertext}</b><br><br>Area=Ethiopia<br>size=%{marker.size}<br>Cases=%{customdata[0]}<br>alpha3=%{location}\", \"hovertext\": [\"Ethiopia\"], \"legendgroup\": \"Ethiopia\", \"locations\": [\"ETH\"], \"marker\": {\"color\": \"#FF97FF\", \"size\": [0.47999989760002626], \"sizemode\": \"area\", \"sizeref\": 1.4999884392123928}, \"name\": \"Ethiopia\", \"showlegend\": true, \"type\": \"scattergeo\"}, {\"customdata\": [[16]], \"geo\": \"geo\", \"hoverlabel\": {\"namelength\": 0}, \"hovertemplate\": \"<b>%{hovertext}</b><br><br>Area=Maldives<br>size=%{marker.size}<br>Cases=%{customdata[0]}<br>alpha3=%{location}\", \"hovertext\": [\"Maldives\"], \"legendgroup\": \"Maldives\", \"locations\": [\"MDV\"], \"marker\": {\"color\": \"#FECB52\", \"size\": [0.47999989760002626], \"sizemode\": \"area\", \"sizeref\": 1.4999884392123928}, \"name\": \"Maldives\", \"showlegend\": true, \"type\": \"scattergeo\"}, {\"customdata\": [[15]], \"geo\": \"geo\", \"hoverlabel\": {\"namelength\": 0}, \"hovertemplate\": \"<b>%{hovertext}</b><br><br>Area=Djibouti<br>size=%{marker.size}<br>Cases=%{customdata[0]}<br>alpha3=%{location}\", \"hovertext\": [\"Djibouti\"], \"legendgroup\": \"Djibouti\", \"locations\": [\"DJI\"], \"marker\": {\"color\": \"#636efa\", \"size\": [0.449999915625019], \"sizemode\": \"area\", \"sizeref\": 1.4999884392123928}, \"name\": \"Djibouti\", \"showlegend\": true, \"type\": \"scattergeo\"}, {\"customdata\": [[15]], \"geo\": \"geo\", \"hoverlabel\": {\"namelength\": 0}, \"hovertemplate\": \"<b>%{hovertext}</b><br><br>Area=New_Caledonia<br>size=%{marker.size}<br>Cases=%{customdata[0]}<br>alpha3=%{location}\", \"hovertext\": [\"New_Caledonia\"], \"legendgroup\": \"New_Caledonia\", \"locations\": [\"NCL\"], \"marker\": {\"color\": \"#EF553B\", \"size\": [0.449999915625019], \"sizemode\": \"area\", \"sizeref\": 1.4999884392123928}, \"name\": \"New_Caledonia\", \"showlegend\": true, \"type\": \"scattergeo\"}, {\"customdata\": [[13]], \"geo\": \"geo\", \"hoverlabel\": {\"namelength\": 0}, \"hovertemplate\": \"<b>%{hovertext}</b><br><br>Area=United_Republic_of_Tanzania<br>size=%{marker.size}<br>Cases=%{customdata[0]}<br>alpha3=%{location}\", \"hovertext\": [\"United_Republic_of_Tanzania\"], \"legendgroup\": \"United_Republic_of_Tanzania\", \"locations\": [\"TZA\"], \"marker\": {\"color\": \"#00cc96\", \"size\": [0.38999994507500935], \"sizemode\": \"area\", \"sizeref\": 1.4999884392123928}, \"name\": \"United_Republic_of_Tanzania\", \"showlegend\": true, \"type\": \"scattergeo\"}, {\"customdata\": [[13]], \"geo\": \"geo\", \"hoverlabel\": {\"namelength\": 0}, \"hovertemplate\": \"<b>%{hovertext}</b><br><br>Area=Equatorial_Guinea<br>size=%{marker.size}<br>Cases=%{customdata[0]}<br>alpha3=%{location}\", \"hovertext\": [\"Equatorial_Guinea\"], \"legendgroup\": \"Equatorial_Guinea\", \"locations\": [\"GNQ\"], \"marker\": {\"color\": \"#ab63fa\", \"size\": [0.38999994507500935], \"sizemode\": \"area\", \"sizeref\": 1.4999884392123928}, \"name\": \"Equatorial_Guinea\", \"showlegend\": true, \"type\": \"scattergeo\"}, {\"customdata\": [[12]], \"geo\": \"geo\", \"hoverlabel\": {\"namelength\": 0}, \"hovertemplate\": \"<b>%{hovertext}</b><br><br>Area=Mongolia<br>size=%{marker.size}<br>Cases=%{customdata[0]}<br>alpha3=%{location}\", \"hovertext\": [\"Mongolia\"], \"legendgroup\": \"Mongolia\", \"locations\": [\"MNG\"], \"marker\": {\"color\": \"#FFA15A\", \"size\": [0.35999995680000624], \"sizemode\": \"area\", \"sizeref\": 1.4999884392123928}, \"name\": \"Mongolia\", \"showlegend\": true, \"type\": \"scattergeo\"}, {\"customdata\": [[11]], \"geo\": \"geo\", \"hoverlabel\": {\"namelength\": 0}, \"hovertemplate\": \"<b>%{hovertext}</b><br><br>Area=Bahamas<br>size=%{marker.size}<br>Cases=%{customdata[0]}<br>alpha3=%{location}\", \"hovertext\": [\"Bahamas\"], \"legendgroup\": \"Bahamas\", \"locations\": [\"BHS\"], \"marker\": {\"color\": \"#19d3f3\", \"size\": [0.32999996672500403], \"sizemode\": \"area\", \"sizeref\": 1.4999884392123928}, \"name\": \"Bahamas\", \"showlegend\": true, \"type\": \"scattergeo\"}, {\"customdata\": [[11]], \"geo\": \"geo\", \"hoverlabel\": {\"namelength\": 0}, \"hovertemplate\": \"<b>%{hovertext}</b><br><br>Area=Dominica<br>size=%{marker.size}<br>Cases=%{customdata[0]}<br>alpha3=%{location}\", \"hovertext\": [\"Dominica\"], \"legendgroup\": \"Dominica\", \"locations\": [\"DMA\"], \"marker\": {\"color\": \"#FF6692\", \"size\": [0.32999996672500403], \"sizemode\": \"area\", \"sizeref\": 1.4999884392123928}, \"name\": \"Dominica\", \"showlegend\": true, \"type\": \"scattergeo\"}, {\"customdata\": [[10]], \"geo\": \"geo\", \"hoverlabel\": {\"namelength\": 0}, \"hovertemplate\": \"<b>%{hovertext}</b><br><br>Area=Greenland<br>size=%{marker.size}<br>Cases=%{customdata[0]}<br>alpha3=%{location}\", \"hovertext\": [\"Greenland\"], \"legendgroup\": \"Greenland\", \"locations\": [\"GRL\"], \"marker\": {\"color\": \"#B6E880\", \"size\": [0.2999999750000026], \"sizemode\": \"area\", \"sizeref\": 1.4999884392123928}, \"name\": \"Greenland\", \"showlegend\": true, \"type\": \"scattergeo\"}, {\"customdata\": [[10]], \"geo\": \"geo\", \"hoverlabel\": {\"namelength\": 0}, \"hovertemplate\": \"<b>%{hovertext}</b><br><br>Area=Niger<br>size=%{marker.size}<br>Cases=%{customdata[0]}<br>alpha3=%{location}\", \"hovertext\": [\"Niger\"], \"legendgroup\": \"Niger\", \"locations\": [\"NER\"], \"marker\": {\"color\": \"#FF97FF\", \"size\": [0.2999999750000026], \"sizemode\": \"area\", \"sizeref\": 1.4999884392123928}, \"name\": \"Niger\", \"showlegend\": true, \"type\": \"scattergeo\"}, {\"customdata\": [[9]], \"geo\": \"geo\", \"hoverlabel\": {\"namelength\": 0}, \"hovertemplate\": \"<b>%{hovertext}</b><br><br>Area=Mali<br>size=%{marker.size}<br>Cases=%{customdata[0]}<br>alpha3=%{location}\", \"hovertext\": [\"Mali\"], \"legendgroup\": \"Mali\", \"locations\": [\"MLI\"], \"marker\": {\"color\": \"#FECB52\", \"size\": [0.2699999817750015], \"sizemode\": \"area\", \"sizeref\": 1.4999884392123928}, \"name\": \"Mali\", \"showlegend\": true, \"type\": \"scattergeo\"}, {\"customdata\": [[9]], \"geo\": \"geo\", \"hoverlabel\": {\"namelength\": 0}, \"hovertemplate\": \"<b>%{hovertext}</b><br><br>Area=Grenada<br>size=%{marker.size}<br>Cases=%{customdata[0]}<br>alpha3=%{location}\", \"hovertext\": [\"Grenada\"], \"legendgroup\": \"Grenada\", \"locations\": [\"GRD\"], \"marker\": {\"color\": \"#636efa\", \"size\": [0.2699999817750015], \"sizemode\": \"area\", \"sizeref\": 1.4999884392123928}, \"name\": \"Grenada\", \"showlegend\": true, \"type\": \"scattergeo\"}, {\"customdata\": [[9]], \"geo\": \"geo\", \"hoverlabel\": {\"namelength\": 0}, \"hovertemplate\": \"<b>%{hovertext}</b><br><br>Area=Eswatini<br>size=%{marker.size}<br>Cases=%{customdata[0]}<br>alpha3=%{location}\", \"hovertext\": [\"Eswatini\"], \"legendgroup\": \"Eswatini\", \"locations\": [\"SWZ\"], \"marker\": {\"color\": \"#EF553B\", \"size\": [0.2699999817750015], \"sizemode\": \"area\", \"sizeref\": 1.4999884392123928}, \"name\": \"Eswatini\", \"showlegend\": true, \"type\": \"scattergeo\"}, {\"customdata\": [[8]], \"geo\": \"geo\", \"hoverlabel\": {\"namelength\": 0}, \"hovertemplate\": \"<b>%{hovertext}</b><br><br>Area=Suriname<br>size=%{marker.size}<br>Cases=%{customdata[0]}<br>alpha3=%{location}\", \"hovertext\": [\"Suriname\"], \"legendgroup\": \"Suriname\", \"locations\": [\"SUR\"], \"marker\": {\"color\": \"#00cc96\", \"size\": [0.23999998720000082], \"sizemode\": \"area\", \"sizeref\": 1.4999884392123928}, \"name\": \"Suriname\", \"showlegend\": true, \"type\": \"scattergeo\"}, {\"customdata\": [[8]], \"geo\": \"geo\", \"hoverlabel\": {\"namelength\": 0}, \"hovertemplate\": \"<b>%{hovertext}</b><br><br>Area=Cura\\u00e7ao<br>size=%{marker.size}<br>Cases=%{customdata[0]}<br>alpha3=%{location}\", \"hovertext\": [\"Cura\\u00e7ao\"], \"legendgroup\": \"Cura\\u00e7ao\", \"locations\": [\"CUW\"], \"marker\": {\"color\": \"#ab63fa\", \"size\": [0.23999998720000082], \"sizemode\": \"area\", \"sizeref\": 1.4999884392123928}, \"name\": \"Cura\\u00e7ao\", \"showlegend\": true, \"type\": \"scattergeo\"}, {\"customdata\": [[8]], \"geo\": \"geo\", \"hoverlabel\": {\"namelength\": 0}, \"hovertemplate\": \"<b>%{hovertext}</b><br><br>Area=Cayman_Islands<br>size=%{marker.size}<br>Cases=%{customdata[0]}<br>alpha3=%{location}\", \"hovertext\": [\"Cayman_Islands\"], \"legendgroup\": \"Cayman_Islands\", \"locations\": [\"CYM\"], \"marker\": {\"color\": \"#FFA15A\", \"size\": [0.23999998720000082], \"sizemode\": \"area\", \"sizeref\": 1.4999884392123928}, \"name\": \"Cayman_Islands\", \"showlegend\": true, \"type\": \"scattergeo\"}, {\"customdata\": [[8]], \"geo\": \"geo\", \"hoverlabel\": {\"namelength\": 0}, \"hovertemplate\": \"<b>%{hovertext}</b><br><br>Area=Haiti<br>size=%{marker.size}<br>Cases=%{customdata[0]}<br>alpha3=%{location}\", \"hovertext\": [\"Haiti\"], \"legendgroup\": \"Haiti\", \"locations\": [\"HTI\"], \"marker\": {\"color\": \"#19d3f3\", \"size\": [0.23999998720000082], \"sizemode\": \"area\", \"sizeref\": 1.4999884392123928}, \"name\": \"Haiti\", \"showlegend\": true, \"type\": \"scattergeo\"}, {\"customdata\": [[8]], \"geo\": \"geo\", \"hoverlabel\": {\"namelength\": 0}, \"hovertemplate\": \"<b>%{hovertext}</b><br><br>Area=Guyana<br>size=%{marker.size}<br>Cases=%{customdata[0]}<br>alpha3=%{location}\", \"hovertext\": [\"Guyana\"], \"legendgroup\": \"Guyana\", \"locations\": [\"GUY\"], \"marker\": {\"color\": \"#FF6692\", \"size\": [0.23999998720000082], \"sizemode\": \"area\", \"sizeref\": 1.4999884392123928}, \"name\": \"Guyana\", \"showlegend\": true, \"type\": \"scattergeo\"}, {\"customdata\": [[8]], \"geo\": \"geo\", \"hoverlabel\": {\"namelength\": 0}, \"hovertemplate\": \"<b>%{hovertext}</b><br><br>Area=Guinea<br>size=%{marker.size}<br>Cases=%{customdata[0]}<br>alpha3=%{location}\", \"hovertext\": [\"Guinea\"], \"legendgroup\": \"Guinea\", \"locations\": [\"GIN\"], \"marker\": {\"color\": \"#B6E880\", \"size\": [0.23999998720000082], \"sizemode\": \"area\", \"sizeref\": 1.4999884392123928}, \"name\": \"Guinea\", \"showlegend\": true, \"type\": \"scattergeo\"}, {\"customdata\": [[8]], \"geo\": \"geo\", \"hoverlabel\": {\"namelength\": 0}, \"hovertemplate\": \"<b>%{hovertext}</b><br><br>Area=Namibia<br>size=%{marker.size}<br>Cases=%{customdata[0]}<br>alpha3=%{location}\", \"hovertext\": [\"Namibia\"], \"legendgroup\": \"Namibia\", \"locations\": [\"NAM\"], \"marker\": {\"color\": \"#FF97FF\", \"size\": [0.23999998720000082], \"sizemode\": \"area\", \"sizeref\": 1.4999884392123928}, \"name\": \"Namibia\", \"showlegend\": true, \"type\": \"scattergeo\"}, {\"customdata\": [[8]], \"geo\": \"geo\", \"hoverlabel\": {\"namelength\": 0}, \"hovertemplate\": \"<b>%{hovertext}</b><br><br>Area=Myanmar<br>size=%{marker.size}<br>Cases=%{customdata[0]}<br>alpha3=%{location}\", \"hovertext\": [\"Myanmar\"], \"legendgroup\": \"Myanmar\", \"locations\": [\"MMR\"], \"marker\": {\"color\": \"#FECB52\", \"size\": [0.23999998720000082], \"sizemode\": \"area\", \"sizeref\": 1.4999884392123928}, \"name\": \"Myanmar\", \"showlegend\": true, \"type\": \"scattergeo\"}, {\"customdata\": [[8]], \"geo\": \"geo\", \"hoverlabel\": {\"namelength\": 0}, \"hovertemplate\": \"<b>%{hovertext}</b><br><br>Area=Mozambique<br>size=%{marker.size}<br>Cases=%{customdata[0]}<br>alpha3=%{location}\", \"hovertext\": [\"Mozambique\"], \"legendgroup\": \"Mozambique\", \"locations\": [\"MOZ\"], \"marker\": {\"color\": \"#636efa\", \"size\": [0.23999998720000082], \"sizemode\": \"area\", \"sizeref\": 1.4999884392123928}, \"name\": \"Mozambique\", \"showlegend\": true, \"type\": \"scattergeo\"}, {\"customdata\": [[7]], \"geo\": \"geo\", \"hoverlabel\": {\"namelength\": 0}, \"hovertemplate\": \"<b>%{hovertext}</b><br><br>Area=Antigua_and_Barbuda<br>size=%{marker.size}<br>Cases=%{customdata[0]}<br>alpha3=%{location}\", \"hovertext\": [\"Antigua_and_Barbuda\"], \"legendgroup\": \"Antigua_and_Barbuda\", \"locations\": [\"ATG\"], \"marker\": {\"color\": \"#EF553B\", \"size\": [0.2099999914250004], \"sizemode\": \"area\", \"sizeref\": 1.4999884392123928}, \"name\": \"Antigua_and_Barbuda\", \"showlegend\": true, \"type\": \"scattergeo\"}, {\"customdata\": [[7]], \"geo\": \"geo\", \"hoverlabel\": {\"namelength\": 0}, \"hovertemplate\": \"<b>%{hovertext}</b><br><br>Area=Seychelles<br>size=%{marker.size}<br>Cases=%{customdata[0]}<br>alpha3=%{location}\", \"hovertext\": [\"Seychelles\"], \"legendgroup\": \"Seychelles\", \"locations\": [\"SYC\"], \"marker\": {\"color\": \"#00cc96\", \"size\": [0.2099999914250004], \"sizemode\": \"area\", \"sizeref\": 1.4999884392123928}, \"name\": \"Seychelles\", \"showlegend\": true, \"type\": \"scattergeo\"}, {\"customdata\": [[7]], \"geo\": \"geo\", \"hoverlabel\": {\"namelength\": 0}, \"hovertemplate\": \"<b>%{hovertext}</b><br><br>Area=Zimbabwe<br>size=%{marker.size}<br>Cases=%{customdata[0]}<br>alpha3=%{location}\", \"hovertext\": [\"Zimbabwe\"], \"legendgroup\": \"Zimbabwe\", \"locations\": [\"ZWE\"], \"marker\": {\"color\": \"#ab63fa\", \"size\": [0.2099999914250004], \"sizemode\": \"area\", \"sizeref\": 1.4999884392123928}, \"name\": \"Zimbabwe\", \"showlegend\": true, \"type\": \"scattergeo\"}, {\"customdata\": [[7]], \"geo\": \"geo\", \"hoverlabel\": {\"namelength\": 0}, \"hovertemplate\": \"<b>%{hovertext}</b><br><br>Area=Gabon<br>size=%{marker.size}<br>Cases=%{customdata[0]}<br>alpha3=%{location}\", \"hovertext\": [\"Gabon\"], \"legendgroup\": \"Gabon\", \"locations\": [\"GAB\"], \"marker\": {\"color\": \"#FFA15A\", \"size\": [0.2099999914250004], \"sizemode\": \"area\", \"sizeref\": 1.4999884392123928}, \"name\": \"Gabon\", \"showlegend\": true, \"type\": \"scattergeo\"}, {\"customdata\": [[6]], \"geo\": \"geo\", \"hoverlabel\": {\"namelength\": 0}, \"hovertemplate\": \"<b>%{hovertext}</b><br><br>Area=Eritrea<br>size=%{marker.size}<br>Cases=%{customdata[0]}<br>alpha3=%{location}\", \"hovertext\": [\"Eritrea\"], \"legendgroup\": \"Eritrea\", \"locations\": [\"ERI\"], \"marker\": {\"color\": \"#19d3f3\", \"size\": [0.17999999460000016], \"sizemode\": \"area\", \"sizeref\": 1.4999884392123928}, \"name\": \"Eritrea\", \"showlegend\": true, \"type\": \"scattergeo\"}, {\"customdata\": [[6]], \"geo\": \"geo\", \"hoverlabel\": {\"namelength\": 0}, \"hovertemplate\": \"<b>%{hovertext}</b><br><br>Area=Benin<br>size=%{marker.size}<br>Cases=%{customdata[0]}<br>alpha3=%{location}\", \"hovertext\": [\"Benin\"], \"legendgroup\": \"Benin\", \"locations\": [\"BEN\"], \"marker\": {\"color\": \"#FF6692\", \"size\": [0.17999999460000016], \"sizemode\": \"area\", \"sizeref\": 1.4999884392123928}, \"name\": \"Benin\", \"showlegend\": true, \"type\": \"scattergeo\"}, {\"customdata\": [[6]], \"geo\": \"geo\", \"hoverlabel\": {\"namelength\": 0}, \"hovertemplate\": \"<b>%{hovertext}</b><br><br>Area=Central_African_Republic<br>size=%{marker.size}<br>Cases=%{customdata[0]}<br>alpha3=%{location}\", \"hovertext\": [\"Central_African_Republic\"], \"legendgroup\": \"Central_African_Republic\", \"locations\": [\"CAF\"], \"marker\": {\"color\": \"#B6E880\", \"size\": [0.17999999460000016], \"sizemode\": \"area\", \"sizeref\": 1.4999884392123928}, \"name\": \"Central_African_Republic\", \"showlegend\": true, \"type\": \"scattergeo\"}, {\"customdata\": [[6]], \"geo\": \"geo\", \"hoverlabel\": {\"namelength\": 0}, \"hovertemplate\": \"<b>%{hovertext}</b><br><br>Area=Cape_Verde<br>size=%{marker.size}<br>Cases=%{customdata[0]}<br>alpha3=%{location}\", \"hovertext\": [\"Cape_Verde\"], \"legendgroup\": \"Cape_Verde\", \"locations\": [\"CPV\"], \"marker\": {\"color\": \"#FF97FF\", \"size\": [0.17999999460000016], \"sizemode\": \"area\", \"sizeref\": 1.4999884392123928}, \"name\": \"Cape_Verde\", \"showlegend\": true, \"type\": \"scattergeo\"}, {\"customdata\": [[6]], \"geo\": \"geo\", \"hoverlabel\": {\"namelength\": 0}, \"hovertemplate\": \"<b>%{hovertext}</b><br><br>Area=Holy_See<br>size=%{marker.size}<br>Cases=%{customdata[0]}<br>alpha3=%{location}\", \"hovertext\": [\"Holy_See\"], \"legendgroup\": \"Holy_See\", \"locations\": [\"VAT\"], \"marker\": {\"color\": \"#FECB52\", \"size\": [0.17999999460000016], \"sizemode\": \"area\", \"sizeref\": 1.4999884392123928}, \"name\": \"Holy_See\", \"showlegend\": true, \"type\": \"scattergeo\"}, {\"customdata\": [[6]], \"geo\": \"geo\", \"hoverlabel\": {\"namelength\": 0}, \"hovertemplate\": \"<b>%{hovertext}</b><br><br>Area=Laos<br>size=%{marker.size}<br>Cases=%{customdata[0]}<br>alpha3=%{location}\", \"hovertext\": [\"Laos\"], \"legendgroup\": \"Laos\", \"locations\": [\"LAO\"], \"marker\": {\"color\": \"#636efa\", \"size\": [0.17999999460000016], \"sizemode\": \"area\", \"sizeref\": 1.4999884392123928}, \"name\": \"Laos\", \"showlegend\": true, \"type\": \"scattergeo\"}, {\"customdata\": [[5]], \"geo\": \"geo\", \"hoverlabel\": {\"namelength\": 0}, \"hovertemplate\": \"<b>%{hovertext}</b><br><br>Area=Nepal<br>size=%{marker.size}<br>Cases=%{customdata[0]}<br>alpha3=%{location}\", \"hovertext\": [\"Nepal\"], \"legendgroup\": \"Nepal\", \"locations\": [\"NPL\"], \"marker\": {\"color\": \"#EF553B\", \"size\": [0.14999999687500007], \"sizemode\": \"area\", \"sizeref\": 1.4999884392123928}, \"name\": \"Nepal\", \"showlegend\": true, \"type\": \"scattergeo\"}, {\"customdata\": [[5]], \"geo\": \"geo\", \"hoverlabel\": {\"namelength\": 0}, \"hovertemplate\": \"<b>%{hovertext}</b><br><br>Area=Mauritania<br>size=%{marker.size}<br>Cases=%{customdata[0]}<br>alpha3=%{location}\", \"hovertext\": [\"Mauritania\"], \"legendgroup\": \"Mauritania\", \"locations\": [\"MRT\"], \"marker\": {\"color\": \"#00cc96\", \"size\": [0.14999999687500007], \"sizemode\": \"area\", \"sizeref\": 1.4999884392123928}, \"name\": \"Mauritania\", \"showlegend\": true, \"type\": \"scattergeo\"}, {\"customdata\": [[5]], \"geo\": \"geo\", \"hoverlabel\": {\"namelength\": 0}, \"hovertemplate\": \"<b>%{hovertext}</b><br><br>Area=Fiji<br>size=%{marker.size}<br>Cases=%{customdata[0]}<br>alpha3=%{location}\", \"hovertext\": [\"Fiji\"], \"legendgroup\": \"Fiji\", \"locations\": [\"FJI\"], \"marker\": {\"color\": \"#ab63fa\", \"size\": [0.14999999687500007], \"sizemode\": \"area\", \"sizeref\": 1.4999884392123928}, \"name\": \"Fiji\", \"showlegend\": true, \"type\": \"scattergeo\"}, {\"customdata\": [[5]], \"geo\": \"geo\", \"hoverlabel\": {\"namelength\": 0}, \"hovertemplate\": \"<b>%{hovertext}</b><br><br>Area=Turks_and_Caicos_islands<br>size=%{marker.size}<br>Cases=%{customdata[0]}<br>alpha3=%{location}\", \"hovertext\": [\"Turks_and_Caicos_islands\"], \"legendgroup\": \"Turks_and_Caicos_islands\", \"locations\": [\"TCA\"], \"marker\": {\"color\": \"#FFA15A\", \"size\": [0.14999999687500007], \"sizemode\": \"area\", \"sizeref\": 1.4999884392123928}, \"name\": \"Turks_and_Caicos_islands\", \"showlegend\": true, \"type\": \"scattergeo\"}, {\"customdata\": [[5]], \"geo\": \"geo\", \"hoverlabel\": {\"namelength\": 0}, \"hovertemplate\": \"<b>%{hovertext}</b><br><br>Area=Chad<br>size=%{marker.size}<br>Cases=%{customdata[0]}<br>alpha3=%{location}\", \"hovertext\": [\"Chad\"], \"legendgroup\": \"Chad\", \"locations\": [\"TCD\"], \"marker\": {\"color\": \"#19d3f3\", \"size\": [0.14999999687500007], \"sizemode\": \"area\", \"sizeref\": 1.4999884392123928}, \"name\": \"Chad\", \"showlegend\": true, \"type\": \"scattergeo\"}, {\"customdata\": [[5]], \"geo\": \"geo\", \"hoverlabel\": {\"namelength\": 0}, \"hovertemplate\": \"<b>%{hovertext}</b><br><br>Area=Montserrat<br>size=%{marker.size}<br>Cases=%{customdata[0]}<br>alpha3=%{location}\", \"hovertext\": [\"Montserrat\"], \"legendgroup\": \"Montserrat\", \"locations\": [\"MSR\"], \"marker\": {\"color\": \"#FF6692\", \"size\": [0.14999999687500007], \"sizemode\": \"area\", \"sizeref\": 1.4999884392123928}, \"name\": \"Montserrat\", \"showlegend\": true, \"type\": \"scattergeo\"}, {\"customdata\": [[5]], \"geo\": \"geo\", \"hoverlabel\": {\"namelength\": 0}, \"hovertemplate\": \"<b>%{hovertext}</b><br><br>Area=Syria<br>size=%{marker.size}<br>Cases=%{customdata[0]}<br>alpha3=%{location}\", \"hovertext\": [\"Syria\"], \"legendgroup\": \"Syria\", \"locations\": [\"SYR\"], \"marker\": {\"color\": \"#B6E880\", \"size\": [0.14999999687500007], \"sizemode\": \"area\", \"sizeref\": 1.4999884392123928}, \"name\": \"Syria\", \"showlegend\": true, \"type\": \"scattergeo\"}, {\"customdata\": [[5]], \"geo\": \"geo\", \"hoverlabel\": {\"namelength\": 0}, \"hovertemplate\": \"<b>%{hovertext}</b><br><br>Area=Sudan<br>size=%{marker.size}<br>Cases=%{customdata[0]}<br>alpha3=%{location}\", \"hovertext\": [\"Sudan\"], \"legendgroup\": \"Sudan\", \"locations\": [\"SDN\"], \"marker\": {\"color\": \"#FF97FF\", \"size\": [0.14999999687500007], \"sizemode\": \"area\", \"sizeref\": 1.4999884392123928}, \"name\": \"Sudan\", \"showlegend\": true, \"type\": \"scattergeo\"}, {\"customdata\": [[4]], \"geo\": \"geo\", \"hoverlabel\": {\"namelength\": 0}, \"hovertemplate\": \"<b>%{hovertext}</b><br><br>Area=Angola<br>size=%{marker.size}<br>Cases=%{customdata[0]}<br>alpha3=%{location}\", \"hovertext\": [\"Angola\"], \"legendgroup\": \"Angola\", \"locations\": [\"AGO\"], \"marker\": {\"color\": \"#FECB52\", \"size\": [0.11999999840000003], \"sizemode\": \"area\", \"sizeref\": 1.4999884392123928}, \"name\": \"Angola\", \"showlegend\": true, \"type\": \"scattergeo\"}, {\"customdata\": [[4]], \"geo\": \"geo\", \"hoverlabel\": {\"namelength\": 0}, \"hovertemplate\": \"<b>%{hovertext}</b><br><br>Area=Bhutan<br>size=%{marker.size}<br>Cases=%{customdata[0]}<br>alpha3=%{location}\", \"hovertext\": [\"Bhutan\"], \"legendgroup\": \"Bhutan\", \"locations\": [\"BTN\"], \"marker\": {\"color\": \"#636efa\", \"size\": [0.11999999840000003], \"sizemode\": \"area\", \"sizeref\": 1.4999884392123928}, \"name\": \"Bhutan\", \"showlegend\": true, \"type\": \"scattergeo\"}, {\"customdata\": [[4]], \"geo\": \"geo\", \"hoverlabel\": {\"namelength\": 0}, \"hovertemplate\": \"<b>%{hovertext}</b><br><br>Area=Saint_Lucia<br>size=%{marker.size}<br>Cases=%{customdata[0]}<br>alpha3=%{location}\", \"hovertext\": [\"Saint_Lucia\"], \"legendgroup\": \"Saint_Lucia\", \"locations\": [\"LCA\"], \"marker\": {\"color\": \"#EF553B\", \"size\": [0.11999999840000003], \"sizemode\": \"area\", \"sizeref\": 1.4999884392123928}, \"name\": \"Saint_Lucia\", \"showlegend\": true, \"type\": \"scattergeo\"}, {\"customdata\": [[3]], \"geo\": \"geo\", \"hoverlabel\": {\"namelength\": 0}, \"hovertemplate\": \"<b>%{hovertext}</b><br><br>Area=Liberia<br>size=%{marker.size}<br>Cases=%{customdata[0]}<br>alpha3=%{location}\", \"hovertext\": [\"Liberia\"], \"legendgroup\": \"Liberia\", \"locations\": [\"LBR\"], \"marker\": {\"color\": \"#00cc96\", \"size\": [0.089999999325], \"sizemode\": \"area\", \"sizeref\": 1.4999884392123928}, \"name\": \"Liberia\", \"showlegend\": true, \"type\": \"scattergeo\"}, {\"customdata\": [[3]], \"geo\": \"geo\", \"hoverlabel\": {\"namelength\": 0}, \"hovertemplate\": \"<b>%{hovertext}</b><br><br>Area=Somalia<br>size=%{marker.size}<br>Cases=%{customdata[0]}<br>alpha3=%{location}\", \"hovertext\": [\"Somalia\"], \"legendgroup\": \"Somalia\", \"locations\": [\"SOM\"], \"marker\": {\"color\": \"#ab63fa\", \"size\": [0.089999999325], \"sizemode\": \"area\", \"sizeref\": 1.4999884392123928}, \"name\": \"Somalia\", \"showlegend\": true, \"type\": \"scattergeo\"}, {\"customdata\": [[3]], \"geo\": \"geo\", \"hoverlabel\": {\"namelength\": 0}, \"hovertemplate\": \"<b>%{hovertext}</b><br><br>Area=Gambia<br>size=%{marker.size}<br>Cases=%{customdata[0]}<br>alpha3=%{location}\", \"hovertext\": [\"Gambia\"], \"legendgroup\": \"Gambia\", \"locations\": [\"GMB\"], \"marker\": {\"color\": \"#FFA15A\", \"size\": [0.089999999325], \"sizemode\": \"area\", \"sizeref\": 1.4999884392123928}, \"name\": \"Gambia\", \"showlegend\": true, \"type\": \"scattergeo\"}, {\"customdata\": [[3]], \"geo\": \"geo\", \"hoverlabel\": {\"namelength\": 0}, \"hovertemplate\": \"<b>%{hovertext}</b><br><br>Area=Nicaragua<br>size=%{marker.size}<br>Cases=%{customdata[0]}<br>alpha3=%{location}\", \"hovertext\": [\"Nicaragua\"], \"legendgroup\": \"Nicaragua\", \"locations\": [\"NIC\"], \"marker\": {\"color\": \"#19d3f3\", \"size\": [0.089999999325], \"sizemode\": \"area\", \"sizeref\": 1.4999884392123928}, \"name\": \"Nicaragua\", \"showlegend\": true, \"type\": \"scattergeo\"}, {\"customdata\": [[3]], \"geo\": \"geo\", \"hoverlabel\": {\"namelength\": 0}, \"hovertemplate\": \"<b>%{hovertext}</b><br><br>Area=Sint_Maarten<br>size=%{marker.size}<br>Cases=%{customdata[0]}<br>alpha3=%{location}\", \"hovertext\": [\"Sint_Maarten\"], \"legendgroup\": \"Sint_Maarten\", \"locations\": [\"SXM\"], \"marker\": {\"color\": \"#FF6692\", \"size\": [0.089999999325], \"sizemode\": \"area\", \"sizeref\": 1.4999884392123928}, \"name\": \"Sint_Maarten\", \"showlegend\": true, \"type\": \"scattergeo\"}, {\"customdata\": [[2]], \"geo\": \"geo\", \"hoverlabel\": {\"namelength\": 0}, \"hovertemplate\": \"<b>%{hovertext}</b><br><br>Area=British_Virgin_Islands<br>size=%{marker.size}<br>Cases=%{customdata[0]}<br>alpha3=%{location}\", \"hovertext\": [\"British_Virgin_Islands\"], \"legendgroup\": \"British_Virgin_Islands\", \"locations\": [\"VGB\"], \"marker\": {\"color\": \"#B6E880\", \"size\": [0.05999999980000001], \"sizemode\": \"area\", \"sizeref\": 1.4999884392123928}, \"name\": \"British_Virgin_Islands\", \"showlegend\": true, \"type\": \"scattergeo\"}, {\"customdata\": [[2]], \"geo\": \"geo\", \"hoverlabel\": {\"namelength\": 0}, \"hovertemplate\": \"<b>%{hovertext}</b><br><br>Area=Belize<br>size=%{marker.size}<br>Cases=%{customdata[0]}<br>alpha3=%{location}\", \"hovertext\": [\"Belize\"], \"legendgroup\": \"Belize\", \"locations\": [\"BLZ\"], \"marker\": {\"color\": \"#FF97FF\", \"size\": [0.05999999980000001], \"sizemode\": \"area\", \"sizeref\": 1.4999884392123928}, \"name\": \"Belize\", \"showlegend\": true, \"type\": \"scattergeo\"}, {\"customdata\": [[2]], \"geo\": \"geo\", \"hoverlabel\": {\"namelength\": 0}, \"hovertemplate\": \"<b>%{hovertext}</b><br><br>Area=Saint_Kitts_and_Nevis<br>size=%{marker.size}<br>Cases=%{customdata[0]}<br>alpha3=%{location}\", \"hovertext\": [\"Saint_Kitts_and_Nevis\"], \"legendgroup\": \"Saint_Kitts_and_Nevis\", \"locations\": [\"KNA\"], \"marker\": {\"color\": \"#FECB52\", \"size\": [0.05999999980000001], \"sizemode\": \"area\", \"sizeref\": 1.4999884392123928}, \"name\": \"Saint_Kitts_and_Nevis\", \"showlegend\": true, \"type\": \"scattergeo\"}, {\"customdata\": [[2]], \"geo\": \"geo\", \"hoverlabel\": {\"namelength\": 0}, \"hovertemplate\": \"<b>%{hovertext}</b><br><br>Area=Guinea_Bissau<br>size=%{marker.size}<br>Cases=%{customdata[0]}<br>alpha3=%{location}\", \"hovertext\": [\"Guinea_Bissau\"], \"legendgroup\": \"Guinea_Bissau\", \"locations\": [\"GNB\"], \"marker\": {\"color\": \"#636efa\", \"size\": [0.05999999980000001], \"sizemode\": \"area\", \"sizeref\": 1.4999884392123928}, \"name\": \"Guinea_Bissau\", \"showlegend\": true, \"type\": \"scattergeo\"}, {\"customdata\": [[2]], \"geo\": \"geo\", \"hoverlabel\": {\"namelength\": 0}, \"hovertemplate\": \"<b>%{hovertext}</b><br><br>Area=Anguilla<br>size=%{marker.size}<br>Cases=%{customdata[0]}<br>alpha3=%{location}\", \"hovertext\": [\"Anguilla\"], \"legendgroup\": \"Anguilla\", \"locations\": [null], \"marker\": {\"color\": \"#EF553B\", \"size\": [0.05999999980000001], \"sizemode\": \"area\", \"sizeref\": 1.4999884392123928}, \"name\": \"Anguilla\", \"showlegend\": true, \"type\": \"scattergeo\"}, {\"customdata\": [[1]], \"geo\": \"geo\", \"hoverlabel\": {\"namelength\": 0}, \"hovertemplate\": \"<b>%{hovertext}</b><br><br>Area=Libya<br>size=%{marker.size}<br>Cases=%{customdata[0]}<br>alpha3=%{location}\", \"hovertext\": [\"Libya\"], \"legendgroup\": \"Libya\", \"locations\": [\"LBY\"], \"marker\": {\"color\": \"#00cc96\", \"size\": [0.029999999975], \"sizemode\": \"area\", \"sizeref\": 1.4999884392123928}, \"name\": \"Libya\", \"showlegend\": true, \"type\": \"scattergeo\"}, {\"customdata\": [[1]], \"geo\": \"geo\", \"hoverlabel\": {\"namelength\": 0}, \"hovertemplate\": \"<b>%{hovertext}</b><br><br>Area=Timor_Leste<br>size=%{marker.size}<br>Cases=%{customdata[0]}<br>alpha3=%{location}\", \"hovertext\": [\"Timor_Leste\"], \"legendgroup\": \"Timor_Leste\", \"locations\": [\"TLS\"], \"marker\": {\"color\": \"#ab63fa\", \"size\": [0.029999999975], \"sizemode\": \"area\", \"sizeref\": 1.4999884392123928}, \"name\": \"Timor_Leste\", \"showlegend\": true, \"type\": \"scattergeo\"}, {\"customdata\": [[1]], \"geo\": \"geo\", \"hoverlabel\": {\"namelength\": 0}, \"hovertemplate\": \"<b>%{hovertext}</b><br><br>Area=Papua_New_Guinea<br>size=%{marker.size}<br>Cases=%{customdata[0]}<br>alpha3=%{location}\", \"hovertext\": [\"Papua_New_Guinea\"], \"legendgroup\": \"Papua_New_Guinea\", \"locations\": [\"PNG\"], \"marker\": {\"color\": \"#FFA15A\", \"size\": [0.029999999975], \"sizemode\": \"area\", \"sizeref\": 1.4999884392123928}, \"name\": \"Papua_New_Guinea\", \"showlegend\": true, \"type\": \"scattergeo\"}, {\"customdata\": [[1]], \"geo\": \"geo\", \"hoverlabel\": {\"namelength\": 0}, \"hovertemplate\": \"<b>%{hovertext}</b><br><br>Area=Saint_Vincent_and_the_Grenadines<br>size=%{marker.size}<br>Cases=%{customdata[0]}<br>alpha3=%{location}\", \"hovertext\": [\"Saint_Vincent_and_the_Grenadines\"], \"legendgroup\": \"Saint_Vincent_and_the_Grenadines\", \"locations\": [\"VCT\"], \"marker\": {\"color\": \"#19d3f3\", \"size\": [0.029999999975], \"sizemode\": \"area\", \"sizeref\": 1.4999884392123928}, \"name\": \"Saint_Vincent_and_the_Grenadines\", \"showlegend\": true, \"type\": \"scattergeo\"}],\n",
       "                        {\"geo\": {\"center\": {}, \"domain\": {\"x\": [0.0, 1.0], \"y\": [0.0, 1.0]}, \"projection\": {\"type\": \"natural earth\"}}, \"legend\": {\"itemsizing\": \"constant\", \"title\": {\"text\": \"Area\"}, \"tracegroupgap\": 0}, \"margin\": {\"t\": 60}, \"template\": {\"data\": {\"bar\": [{\"error_x\": {\"color\": \"#2a3f5f\"}, \"error_y\": {\"color\": \"#2a3f5f\"}, \"marker\": {\"line\": {\"color\": \"#E5ECF6\", \"width\": 0.5}}, \"type\": \"bar\"}], \"barpolar\": [{\"marker\": {\"line\": {\"color\": \"#E5ECF6\", \"width\": 0.5}}, \"type\": \"barpolar\"}], \"carpet\": [{\"aaxis\": {\"endlinecolor\": \"#2a3f5f\", \"gridcolor\": \"white\", \"linecolor\": \"white\", \"minorgridcolor\": \"white\", \"startlinecolor\": \"#2a3f5f\"}, \"baxis\": {\"endlinecolor\": \"#2a3f5f\", \"gridcolor\": \"white\", \"linecolor\": \"white\", \"minorgridcolor\": \"white\", \"startlinecolor\": \"#2a3f5f\"}, \"type\": \"carpet\"}], \"choropleth\": [{\"colorbar\": {\"outlinewidth\": 0, \"ticks\": \"\"}, \"type\": \"choropleth\"}], \"contour\": [{\"colorbar\": {\"outlinewidth\": 0, \"ticks\": \"\"}, \"colorscale\": [[0.0, \"#0d0887\"], [0.1111111111111111, \"#46039f\"], [0.2222222222222222, \"#7201a8\"], [0.3333333333333333, \"#9c179e\"], [0.4444444444444444, \"#bd3786\"], [0.5555555555555556, \"#d8576b\"], [0.6666666666666666, \"#ed7953\"], [0.7777777777777778, \"#fb9f3a\"], [0.8888888888888888, \"#fdca26\"], [1.0, \"#f0f921\"]], \"type\": \"contour\"}], \"contourcarpet\": [{\"colorbar\": {\"outlinewidth\": 0, \"ticks\": \"\"}, \"type\": \"contourcarpet\"}], \"heatmap\": [{\"colorbar\": {\"outlinewidth\": 0, \"ticks\": \"\"}, \"colorscale\": [[0.0, \"#0d0887\"], [0.1111111111111111, \"#46039f\"], [0.2222222222222222, \"#7201a8\"], [0.3333333333333333, \"#9c179e\"], [0.4444444444444444, \"#bd3786\"], [0.5555555555555556, \"#d8576b\"], [0.6666666666666666, \"#ed7953\"], [0.7777777777777778, \"#fb9f3a\"], [0.8888888888888888, \"#fdca26\"], [1.0, \"#f0f921\"]], \"type\": \"heatmap\"}], \"heatmapgl\": [{\"colorbar\": {\"outlinewidth\": 0, \"ticks\": \"\"}, \"colorscale\": [[0.0, \"#0d0887\"], [0.1111111111111111, \"#46039f\"], [0.2222222222222222, \"#7201a8\"], [0.3333333333333333, \"#9c179e\"], [0.4444444444444444, \"#bd3786\"], [0.5555555555555556, \"#d8576b\"], [0.6666666666666666, \"#ed7953\"], [0.7777777777777778, \"#fb9f3a\"], [0.8888888888888888, \"#fdca26\"], [1.0, \"#f0f921\"]], \"type\": \"heatmapgl\"}], \"histogram\": [{\"marker\": {\"colorbar\": {\"outlinewidth\": 0, \"ticks\": \"\"}}, \"type\": \"histogram\"}], \"histogram2d\": [{\"colorbar\": {\"outlinewidth\": 0, \"ticks\": \"\"}, \"colorscale\": [[0.0, \"#0d0887\"], [0.1111111111111111, \"#46039f\"], [0.2222222222222222, \"#7201a8\"], [0.3333333333333333, \"#9c179e\"], [0.4444444444444444, \"#bd3786\"], [0.5555555555555556, \"#d8576b\"], [0.6666666666666666, \"#ed7953\"], [0.7777777777777778, \"#fb9f3a\"], [0.8888888888888888, \"#fdca26\"], [1.0, \"#f0f921\"]], \"type\": \"histogram2d\"}], \"histogram2dcontour\": [{\"colorbar\": {\"outlinewidth\": 0, \"ticks\": \"\"}, \"colorscale\": [[0.0, \"#0d0887\"], [0.1111111111111111, \"#46039f\"], [0.2222222222222222, \"#7201a8\"], [0.3333333333333333, \"#9c179e\"], [0.4444444444444444, \"#bd3786\"], [0.5555555555555556, \"#d8576b\"], [0.6666666666666666, \"#ed7953\"], [0.7777777777777778, \"#fb9f3a\"], [0.8888888888888888, \"#fdca26\"], [1.0, \"#f0f921\"]], \"type\": \"histogram2dcontour\"}], \"mesh3d\": [{\"colorbar\": {\"outlinewidth\": 0, \"ticks\": \"\"}, \"type\": \"mesh3d\"}], \"parcoords\": [{\"line\": {\"colorbar\": {\"outlinewidth\": 0, \"ticks\": \"\"}}, \"type\": \"parcoords\"}], \"pie\": [{\"automargin\": true, \"type\": \"pie\"}], \"scatter\": [{\"marker\": {\"colorbar\": {\"outlinewidth\": 0, \"ticks\": \"\"}}, \"type\": \"scatter\"}], \"scatter3d\": [{\"line\": {\"colorbar\": {\"outlinewidth\": 0, \"ticks\": \"\"}}, \"marker\": {\"colorbar\": {\"outlinewidth\": 0, \"ticks\": \"\"}}, \"type\": \"scatter3d\"}], \"scattercarpet\": [{\"marker\": {\"colorbar\": {\"outlinewidth\": 0, \"ticks\": \"\"}}, \"type\": \"scattercarpet\"}], \"scattergeo\": [{\"marker\": {\"colorbar\": {\"outlinewidth\": 0, \"ticks\": \"\"}}, \"type\": \"scattergeo\"}], \"scattergl\": [{\"marker\": {\"colorbar\": {\"outlinewidth\": 0, \"ticks\": \"\"}}, \"type\": \"scattergl\"}], \"scattermapbox\": [{\"marker\": {\"colorbar\": {\"outlinewidth\": 0, \"ticks\": \"\"}}, \"type\": \"scattermapbox\"}], \"scatterpolar\": [{\"marker\": {\"colorbar\": {\"outlinewidth\": 0, \"ticks\": \"\"}}, \"type\": \"scatterpolar\"}], \"scatterpolargl\": [{\"marker\": {\"colorbar\": {\"outlinewidth\": 0, \"ticks\": \"\"}}, \"type\": \"scatterpolargl\"}], \"scatterternary\": [{\"marker\": {\"colorbar\": {\"outlinewidth\": 0, \"ticks\": \"\"}}, \"type\": \"scatterternary\"}], \"surface\": [{\"colorbar\": {\"outlinewidth\": 0, \"ticks\": \"\"}, \"colorscale\": [[0.0, \"#0d0887\"], [0.1111111111111111, \"#46039f\"], [0.2222222222222222, \"#7201a8\"], [0.3333333333333333, \"#9c179e\"], [0.4444444444444444, \"#bd3786\"], [0.5555555555555556, \"#d8576b\"], [0.6666666666666666, \"#ed7953\"], [0.7777777777777778, \"#fb9f3a\"], [0.8888888888888888, \"#fdca26\"], [1.0, \"#f0f921\"]], \"type\": \"surface\"}], \"table\": [{\"cells\": {\"fill\": {\"color\": \"#EBF0F8\"}, \"line\": {\"color\": \"white\"}}, \"header\": {\"fill\": {\"color\": \"#C8D4E3\"}, \"line\": {\"color\": \"white\"}}, \"type\": \"table\"}]}, \"layout\": {\"annotationdefaults\": {\"arrowcolor\": \"#2a3f5f\", \"arrowhead\": 0, \"arrowwidth\": 1}, \"coloraxis\": {\"colorbar\": {\"outlinewidth\": 0, \"ticks\": \"\"}}, \"colorscale\": {\"diverging\": [[0, \"#8e0152\"], [0.1, \"#c51b7d\"], [0.2, \"#de77ae\"], [0.3, \"#f1b6da\"], [0.4, \"#fde0ef\"], [0.5, \"#f7f7f7\"], [0.6, \"#e6f5d0\"], [0.7, \"#b8e186\"], [0.8, \"#7fbc41\"], [0.9, \"#4d9221\"], [1, \"#276419\"]], \"sequential\": [[0.0, \"#0d0887\"], [0.1111111111111111, \"#46039f\"], [0.2222222222222222, \"#7201a8\"], [0.3333333333333333, \"#9c179e\"], [0.4444444444444444, \"#bd3786\"], [0.5555555555555556, \"#d8576b\"], [0.6666666666666666, \"#ed7953\"], [0.7777777777777778, \"#fb9f3a\"], [0.8888888888888888, \"#fdca26\"], [1.0, \"#f0f921\"]], \"sequentialminus\": [[0.0, \"#0d0887\"], [0.1111111111111111, \"#46039f\"], [0.2222222222222222, \"#7201a8\"], [0.3333333333333333, \"#9c179e\"], [0.4444444444444444, \"#bd3786\"], [0.5555555555555556, \"#d8576b\"], [0.6666666666666666, \"#ed7953\"], [0.7777777777777778, \"#fb9f3a\"], [0.8888888888888888, \"#fdca26\"], [1.0, \"#f0f921\"]]}, \"colorway\": [\"#636efa\", \"#EF553B\", \"#00cc96\", \"#ab63fa\", \"#FFA15A\", \"#19d3f3\", \"#FF6692\", \"#B6E880\", \"#FF97FF\", \"#FECB52\"], \"font\": {\"color\": \"#2a3f5f\"}, \"geo\": {\"bgcolor\": \"white\", \"lakecolor\": \"white\", \"landcolor\": \"#E5ECF6\", \"showlakes\": true, \"showland\": true, \"subunitcolor\": \"white\"}, \"hoverlabel\": {\"align\": \"left\"}, \"hovermode\": \"closest\", \"mapbox\": {\"style\": \"light\"}, \"paper_bgcolor\": \"white\", \"plot_bgcolor\": \"#E5ECF6\", \"polar\": {\"angularaxis\": {\"gridcolor\": \"white\", \"linecolor\": \"white\", \"ticks\": \"\"}, \"bgcolor\": \"#E5ECF6\", \"radialaxis\": {\"gridcolor\": \"white\", \"linecolor\": \"white\", \"ticks\": \"\"}}, \"scene\": {\"xaxis\": {\"backgroundcolor\": \"#E5ECF6\", \"gridcolor\": \"white\", \"gridwidth\": 2, \"linecolor\": \"white\", \"showbackground\": true, \"ticks\": \"\", \"zerolinecolor\": \"white\"}, \"yaxis\": {\"backgroundcolor\": \"#E5ECF6\", \"gridcolor\": \"white\", \"gridwidth\": 2, \"linecolor\": \"white\", \"showbackground\": true, \"ticks\": \"\", \"zerolinecolor\": \"white\"}, \"zaxis\": {\"backgroundcolor\": \"#E5ECF6\", \"gridcolor\": \"white\", \"gridwidth\": 2, \"linecolor\": \"white\", \"showbackground\": true, \"ticks\": \"\", \"zerolinecolor\": \"white\"}}, \"shapedefaults\": {\"line\": {\"color\": \"#2a3f5f\"}}, \"ternary\": {\"aaxis\": {\"gridcolor\": \"white\", \"linecolor\": \"white\", \"ticks\": \"\"}, \"baxis\": {\"gridcolor\": \"white\", \"linecolor\": \"white\", \"ticks\": \"\"}, \"bgcolor\": \"#E5ECF6\", \"caxis\": {\"gridcolor\": \"white\", \"linecolor\": \"white\", \"ticks\": \"\"}}, \"title\": {\"x\": 0.05}, \"xaxis\": {\"automargin\": true, \"gridcolor\": \"white\", \"linecolor\": \"white\", \"ticks\": \"\", \"title\": {\"standoff\": 15}, \"zerolinecolor\": \"white\", \"zerolinewidth\": 2}, \"yaxis\": {\"automargin\": true, \"gridcolor\": \"white\", \"linecolor\": \"white\", \"ticks\": \"\", \"title\": {\"standoff\": 15}, \"zerolinecolor\": \"white\", \"zerolinewidth\": 2}}}},\n",
       "                        {\"responsive\": true}\n",
       "                    ).then(function(){\n",
       "                            \n",
       "var gd = document.getElementById('3f6ce9c4-44a2-4adc-9cb6-1262dfcdb5b0');\n",
       "var x = new MutationObserver(function (mutations, observer) {{\n",
       "        var display = window.getComputedStyle(gd).display;\n",
       "        if (!display || display === 'none') {{\n",
       "            console.log([gd, 'removed!']);\n",
       "            Plotly.purge(gd);\n",
       "            observer.disconnect();\n",
       "        }}\n",
       "}});\n",
       "\n",
       "// Listen for the removal of the full notebook cells\n",
       "var notebookContainer = gd.closest('#notebook-container');\n",
       "if (notebookContainer) {{\n",
       "    x.observe(notebookContainer, {childList: true});\n",
       "}}\n",
       "\n",
       "// Listen for the clearing of the current output cell\n",
       "var outputEl = gd.closest('.output');\n",
       "if (outputEl) {{\n",
       "    x.observe(outputEl, {childList: true});\n",
       "}}\n",
       "\n",
       "                        })\n",
       "                };\n",
       "                });\n",
       "            </script>\n",
       "        </div>"
      ]
     },
     "metadata": {},
     "output_type": "display_data"
    }
   ],
   "source": [
    "import plotly.express as px\n",
    "\n",
    "fig = px.scatter_geo(data, locations=\"alpha3\",color='Area',\n",
    "                     hover_name=\"Area\", size=y1, hover_data=[\"Cases\"],\n",
    "                     projection=\"natural earth\")\n",
    "fig.show()"
   ]
  },
  {
   "cell_type": "code",
   "execution_count": 64,
   "metadata": {},
   "outputs": [],
   "source": [
    "x = np.array(data['Deaths'].tolist())\n",
    "x1 = np.array(data.Cases.tolist())"
   ]
  },
  {
   "cell_type": "code",
   "execution_count": 65,
   "metadata": {},
   "outputs": [],
   "source": [
    "y = np.tanh(abs(np.array(data['Deaths'].tolist())/800))*600\n",
    "y1 = np.tanh(abs(np.array(data.Cases.tolist())/20000))*600"
   ]
  },
  {
   "cell_type": "code",
   "execution_count": 66,
   "metadata": {},
   "outputs": [
    {
     "data": {
      "image/png": "[encoded data removed]",
      "text/plain": [
       "<Figure size 432x288 with 1 Axes>"
      ]
     },
     "metadata": {
      "needs_background": "light"
     },
     "output_type": "display_data"
    }
   ],
   "source": [
    "import matplotlib.pyplot as plt\n",
    "plt.plot(x1,y1)\n",
    "plt.show()"
   ]
  },
  {
   "cell_type": "code",
   "execution_count": null,
   "metadata": {},
   "outputs": [],
   "source": []
  }
 ],
 "metadata": {
  "kernelspec": {
   "display_name": "Python 3",
   "language": "python",
   "name": "python3"
  },
  "language_info": {
   "codemirror_mode": {
    "name": "ipython",
    "version": 3
   },
   "file_extension": ".py",
   "mimetype": "text/x-python",
   "name": "python",
   "nbconvert_exporter": "python",
   "pygments_lexer": "ipython3",
   "version": "3.8.2"
  }
 },
 "nbformat": 4,
 "nbformat_minor": 2
}
