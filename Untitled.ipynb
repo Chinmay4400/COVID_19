{
 "cells": [
  {
   "cell_type": "code",
   "execution_count": 17,
   "metadata": {},
   "outputs": [],
   "source": [
    "import pandas as pd\n",
    "import datetime\n",
    "import requests\n",
    "import numpy as np"
   ]
  },
  {
   "cell_type": "code",
   "execution_count": 2,
   "metadata": {},
   "outputs": [],
   "source": [
    "import plotly.express as px\n",
    "import plotly.graph_objects as go"
   ]
  },
  {
   "cell_type": "code",
   "execution_count": 3,
   "metadata": {},
   "outputs": [],
   "source": [
    "date = datetime.date.today()\n",
    "map_box_token = \"pk.eyJ1IjoiY2hpbm1heTQ0MDAiLCJhIjoiY2s4d2htZ3FlMGU2aTNzbXdwZGQwZDZsayJ9.4Dm7PN7L6q5k4830GaiWUg\""
   ]
  },
  {
   "cell_type": "code",
   "execution_count": 4,
   "metadata": {},
   "outputs": [],
   "source": [
    "url_excel = \"https://www.ecdc.europa.eu/sites/default/files/documents/COVID-19-geographic-disbtribution-worldwide-{}.xlsx\"\n",
    "url_csv = 'https://raw.githubusercontent.com/CSSEGISandData/COVID-19/master/csse_covid_19_data/csse_covid_19_daily_reports/{}.csv'"
   ]
  },
  {
   "cell_type": "code",
   "execution_count": 5,
   "metadata": {},
   "outputs": [],
   "source": [
    "daily_data = pd.DataFrame()\n",
    "df_total = pd.DataFrame()\n",
    "def get_data():\n",
    "    global daily_data\n",
    "    global df_total\n",
    "    request = requests.get(url_excel.format(date))\n",
    "    i=0\n",
    "    while(request.status_code != 200):\n",
    "        i = i+1\n",
    "        request = requests.get(url_excel.format(date - datetime.timedelta(i)))\n",
    "    daily_data = pd.read_excel(url_excel.format((date - datetime.timedelta(i))))\n",
    "        \n",
    "    request = requests.get(url_csv.format(date.strftime(\"%m-%d-%Y\")))\n",
    "    i=0\n",
    "    while(request.status_code != 200):\n",
    "        i = i+1\n",
    "        request = requests.get(url_csv.format((date - datetime.timedelta(i)).strftime(\"%m-%d-%Y\")))\n",
    "    df_total = pd.read_csv(url_csv.format((date - datetime.timedelta(i)).strftime(\"%m-%d-%Y\")))"
   ]
  },
  {
   "cell_type": "code",
   "execution_count": 6,
   "metadata": {},
   "outputs": [],
   "source": [
    "get_data()"
   ]
  },
  {
   "cell_type": "code",
   "execution_count": 7,
   "metadata": {},
   "outputs": [],
   "source": [
    "def update_total():\n",
    "    df_total_new = pd.DataFrame(columns=df_total.columns)\n",
    "    countries = df_total[\"Country_Region\"].unique()\n",
    "    entry = dict()\n",
    "    for each in countries:\n",
    "        df = df_total.loc[df_total[\"Country_Region\"]==each]\n",
    "        entry[\"Confirmed\"] = df[\"Confirmed\"].sum()\n",
    "        entry[\"Deaths\"] = df[\"Deaths\"].sum()\n",
    "        entry[\"Recovered\"] = df[\"Recovered\"].sum()\n",
    "        entry[\"Country_Region\"] = each\n",
    "        entry[\"Last_Update\"] = df[\"Last_Update\"].unique()[0]\n",
    "        entry[\"Lat\"] = df[\"Lat\"].unique()[0]\n",
    "        entry[\"Long_\"] = df[\"Long_\"].unique()[0]\n",
    "        entry[\"Combined_Key\"] = each\n",
    "        df_total_new = df_total_new.append(entry,ignore_index=True)\n",
    "    return df_total_new"
   ]
  },
  {
   "cell_type": "code",
   "execution_count": 8,
   "metadata": {},
   "outputs": [],
   "source": [
    "df_total_new = update_total()"
   ]
  },
  {
   "cell_type": "code",
   "execution_count": 15,
   "metadata": {},
   "outputs": [],
   "source": [
    "def global_map(df,kind):\n",
    "    colors = {\"Deaths\":\"black\", \"Confirmed\":\"pink\",\"Recovered\":\"green\"}\n",
    "    px.set_mapbox_access_token(map_box_token)\n",
    "    fig=px.scatter_mapbox(df, lat=\"Lat\", lon=\"Long_\",\n",
    "                              hover_name=\"Combined_Key\", hover_data=[kind], color = \"Combined_Key\",\n",
    "                               size = np.tanh(abs(np.array(df[kind].tolist())/4000))*6000,\n",
    "                          color_discrete_sequence = [colors[kind]]*df[kind].size,\n",
    "                             height=400)\n",
    "    fig.update_layout(mapbox_style=\"outdoors\",\n",
    "                      mapbox=dict(\n",
    "                        bearing=0,\n",
    "                        center=go.layout.mapbox.Center(\n",
    "                            lat=20,\n",
    "                            lon=78\n",
    "                        ),\n",
    "                        pitch=0,\n",
    "                        zoom=3\n",
    "                        ),\n",
    "                      showlegend=False,\n",
    "                     )\n",
    "    fig.update_layout(margin={\"r\":0,\"t\":0,\"l\":0,\"b\":0})\n",
    "    return fig"
   ]
  },
  {
   "cell_type": "code",
   "execution_count": 16,
   "metadata": {},
   "outputs": [
    {
     "data": {
      "application/vnd.plotly.v1+json": {
       "config": {
        "plotlyServerURL": "https://plot.ly"
       },
       "data": [
        {
         "customdata": [
          [
           43482
          ]
         ],
         "hoverlabel": {
          "namelength": 0
         },
         "hovertemplate": "<b>%{hovertext}</b><br><br>Combined_Key=US<br>size=%{marker.size}<br>Recovered=%{customdata[0]}<br>Lat=%{lat}<br>Long_=%{lon}",
         "hovertext": [
          "US"
         ],
         "lat": [
          34.22333378
         ],
         "legendgroup": "US",
         "lon": [
          -82.46170658
         ],
         "marker": {
          "color": "green",
          "size": [
           5999.999995663045
          ],
          "sizemode": "area",
          "sizeref": 15
         },
         "mode": "markers",
         "name": "US",
         "showlegend": true,
         "subplot": "mapbox",
         "type": "scattermapbox"
        },
        {
         "customdata": [
          [
           7758
          ]
         ],
         "hoverlabel": {
          "namelength": 0
         },
         "hovertemplate": "<b>%{hovertext}</b><br><br>Combined_Key=Canada<br>size=%{marker.size}<br>Recovered=%{customdata[0]}<br>Lat=%{lat}<br>Long_=%{lon}",
         "hovertext": [
          "Canada"
         ],
         "lat": [
          53.9333
         ],
         "legendgroup": "Canada",
         "lon": [
          -116.5765
         ],
         "marker": {
          "color": "green",
          "size": [
           5756.966037211903
          ],
          "sizemode": "area",
          "sizeref": 15
         },
         "mode": "markers",
         "name": "Canada",
         "showlegend": true,
         "subplot": "mapbox",
         "type": "scattermapbox"
        },
        {
         "customdata": [
          [
           304
          ]
         ],
         "hoverlabel": {
          "namelength": 0
         },
         "hovertemplate": "<b>%{hovertext}</b><br><br>Combined_Key=United Kingdom<br>size=%{marker.size}<br>Recovered=%{customdata[0]}<br>Lat=%{lat}<br>Long_=%{lon}",
         "hovertext": [
          "United Kingdom"
         ],
         "lat": [
          18.2206
         ],
         "legendgroup": "United Kingdom",
         "lon": [
          -63.0686
         ],
         "marker": {
          "color": "green",
          "size": [
           455.1240716891211
          ],
          "sizemode": "area",
          "sizeref": 15
         },
         "mode": "markers",
         "name": "United Kingdom",
         "showlegend": true,
         "subplot": "mapbox",
         "type": "scattermapbox"
        },
        {
         "customdata": [
          [
           78039
          ]
         ],
         "hoverlabel": {
          "namelength": 0
         },
         "hovertemplate": "<b>%{hovertext}</b><br><br>Combined_Key=China<br>size=%{marker.size}<br>Recovered=%{customdata[0]}<br>Lat=%{lat}<br>Long_=%{lon}",
         "hovertext": [
          "China"
         ],
         "lat": [
          31.8257
         ],
         "legendgroup": "China",
         "lon": [
          117.2264
         ],
         "marker": {
          "color": "green",
          "size": [
           6000
          ],
          "sizemode": "area",
          "sizeref": 15
         },
         "mode": "markers",
         "name": "China",
         "showlegend": true,
         "subplot": "mapbox",
         "type": "scattermapbox"
        },
        {
         "customdata": [
          [
           295
          ]
         ],
         "hoverlabel": {
          "namelength": 0
         },
         "hovertemplate": "<b>%{hovertext}</b><br><br>Combined_Key=Netherlands<br>size=%{marker.size}<br>Recovered=%{customdata[0]}<br>Lat=%{lat}<br>Long_=%{lon}",
         "hovertext": [
          "Netherlands"
         ],
         "lat": [
          12.5211
         ],
         "legendgroup": "Netherlands",
         "lon": [
          -69.9683
         ],
         "marker": {
          "color": "green",
          "size": [
           441.6994798677648
          ],
          "sizemode": "area",
          "sizeref": 15
         },
         "mode": "markers",
         "name": "Netherlands",
         "showlegend": true,
         "subplot": "mapbox",
         "type": "scattermapbox"
        },
        {
         "customdata": [
          [
           1806
          ]
         ],
         "hoverlabel": {
          "namelength": 0
         },
         "hovertemplate": "<b>%{hovertext}</b><br><br>Combined_Key=Australia<br>size=%{marker.size}<br>Recovered=%{customdata[0]}<br>Lat=%{lat}<br>Long_=%{lon}",
         "hovertext": [
          "Australia"
         ],
         "lat": [
          -35.4735
         ],
         "legendgroup": "Australia",
         "lon": [
          149.0124
         ],
         "marker": {
          "color": "green",
          "size": [
           2538.7873581636272
          ],
          "sizemode": "area",
          "sizeref": 15
         },
         "mode": "markers",
         "name": "Australia",
         "showlegend": true,
         "subplot": "mapbox",
         "type": "scattermapbox"
        },
        {
         "customdata": [
          [
           2403
          ]
         ],
         "hoverlabel": {
          "namelength": 0
         },
         "hovertemplate": "<b>%{hovertext}</b><br><br>Combined_Key=Denmark<br>size=%{marker.size}<br>Recovered=%{customdata[0]}<br>Lat=%{lat}<br>Long_=%{lon}",
         "hovertext": [
          "Denmark"
         ],
         "lat": [
          61.8926
         ],
         "legendgroup": "Denmark",
         "lon": [
          -6.9118
         ],
         "marker": {
          "color": "green",
          "size": [
           3225.4982120744494
          ],
          "sizemode": "area",
          "sizeref": 15
         },
         "mode": "markers",
         "name": "Denmark",
         "showlegend": true,
         "subplot": "mapbox",
         "type": "scattermapbox"
        },
        {
         "customdata": [
          [
           28001
          ]
         ],
         "hoverlabel": {
          "namelength": 0
         },
         "hovertemplate": "<b>%{hovertext}</b><br><br>Combined_Key=France<br>size=%{marker.size}<br>Recovered=%{customdata[0]}<br>Lat=%{lat}<br>Long_=%{lon}",
         "hovertext": [
          "France"
         ],
         "lat": [
          4
         ],
         "legendgroup": "France",
         "lon": [
          -53
         ],
         "marker": {
          "color": "green",
          "size": [
           5999.990026651585
          ],
          "sizemode": "area",
          "sizeref": 15
         },
         "mode": "markers",
         "name": "France",
         "showlegend": true,
         "subplot": "mapbox",
         "type": "scattermapbox"
        },
        {
         "customdata": [
          [
           32
          ]
         ],
         "hoverlabel": {
          "namelength": 0
         },
         "hovertemplate": "<b>%{hovertext}</b><br><br>Combined_Key=Afghanistan<br>size=%{marker.size}<br>Recovered=%{customdata[0]}<br>Lat=%{lat}<br>Long_=%{lon}",
         "hovertext": [
          "Afghanistan"
         ],
         "lat": [
          33.93911
         ],
         "legendgroup": "Afghanistan",
         "lon": [
          67.709953
         ],
         "marker": {
          "color": "green",
          "size": [
           47.998976026213725
          ],
          "sizemode": "area",
          "sizeref": 15
         },
         "mode": "markers",
         "name": "Afghanistan",
         "showlegend": true,
         "subplot": "mapbox",
         "type": "scattermapbox"
        },
        {
         "customdata": [
          [
           232
          ]
         ],
         "hoverlabel": {
          "namelength": 0
         },
         "hovertemplate": "<b>%{hovertext}</b><br><br>Combined_Key=Albania<br>size=%{marker.size}<br>Recovered=%{customdata[0]}<br>Lat=%{lat}<br>Long_=%{lon}",
         "hovertext": [
          "Albania"
         ],
         "lat": [
          41.1533
         ],
         "legendgroup": "Albania",
         "lon": [
          20.1683
         ],
         "marker": {
          "color": "green",
          "size": [
           347.61030037142143
          ],
          "sizemode": "area",
          "sizeref": 15
         },
         "mode": "markers",
         "name": "Albania",
         "showlegend": true,
         "subplot": "mapbox",
         "type": "scattermapbox"
        },
        {
         "customdata": [
          [
           601
          ]
         ],
         "hoverlabel": {
          "namelength": 0
         },
         "hovertemplate": "<b>%{hovertext}</b><br><br>Combined_Key=Algeria<br>size=%{marker.size}<br>Recovered=%{customdata[0]}<br>Lat=%{lat}<br>Long_=%{lon}",
         "hovertext": [
          "Algeria"
         ],
         "lat": [
          28.0339
         ],
         "legendgroup": "Algeria",
         "lon": [
          1.6596
         ],
         "marker": {
          "color": "green",
          "size": [
           894.7768969872533
          ],
          "sizemode": "area",
          "sizeref": 15
         },
         "mode": "markers",
         "name": "Algeria",
         "showlegend": true,
         "subplot": "mapbox",
         "type": "scattermapbox"
        },
        {
         "customdata": [
          [
           128
          ]
         ],
         "hoverlabel": {
          "namelength": 0
         },
         "hovertemplate": "<b>%{hovertext}</b><br><br>Combined_Key=Andorra<br>size=%{marker.size}<br>Recovered=%{customdata[0]}<br>Lat=%{lat}<br>Long_=%{lon}",
         "hovertext": [
          "Andorra"
         ],
         "lat": [
          42.5063
         ],
         "legendgroup": "Andorra",
         "lon": [
          1.5218
         ],
         "marker": {
          "color": "green",
          "size": [
           191.9344908324242
          ],
          "sizemode": "area",
          "sizeref": 15
         },
         "mode": "markers",
         "name": "Andorra",
         "showlegend": true,
         "subplot": "mapbox",
         "type": "scattermapbox"
        },
        {
         "customdata": [
          [
           4
          ]
         ],
         "hoverlabel": {
          "namelength": 0
         },
         "hovertemplate": "<b>%{hovertext}</b><br><br>Combined_Key=Angola<br>size=%{marker.size}<br>Recovered=%{customdata[0]}<br>Lat=%{lat}<br>Long_=%{lon}",
         "hovertext": [
          "Angola"
         ],
         "lat": [
          -11.2027
         ],
         "legendgroup": "Angola",
         "lon": [
          17.8739
         ],
         "marker": {
          "color": "green",
          "size": [
           5.9999980000008
          ],
          "sizemode": "area",
          "sizeref": 15
         },
         "mode": "markers",
         "name": "Angola",
         "showlegend": true,
         "subplot": "mapbox",
         "type": "scattermapbox"
        },
        {
         "customdata": [
          [
           0
          ]
         ],
         "hoverlabel": {
          "namelength": 0
         },
         "hovertemplate": "<b>%{hovertext}</b><br><br>Combined_Key=Antigua and Barbuda<br>size=%{marker.size}<br>Recovered=%{customdata[0]}<br>Lat=%{lat}<br>Long_=%{lon}",
         "hovertext": [
          "Antigua and Barbuda"
         ],
         "lat": [
          17.0608
         ],
         "legendgroup": "Antigua and Barbuda",
         "lon": [
          -61.7964
         ],
         "marker": {
          "color": "green",
          "size": [
           0
          ],
          "sizemode": "area",
          "sizeref": 15
         },
         "mode": "markers",
         "name": "Antigua and Barbuda",
         "showlegend": true,
         "subplot": "mapbox",
         "type": "scattermapbox"
        },
        {
         "customdata": [
          [
           515
          ]
         ],
         "hoverlabel": {
          "namelength": 0
         },
         "hovertemplate": "<b>%{hovertext}</b><br><br>Combined_Key=Argentina<br>size=%{marker.size}<br>Recovered=%{customdata[0]}<br>Lat=%{lat}<br>Long_=%{lon}",
         "hovertext": [
          "Argentina"
         ],
         "lat": [
          -38.4161
         ],
         "legendgroup": "Argentina",
         "lon": [
          -63.6167
         ],
         "marker": {
          "color": "green",
          "size": [
           768.2596491150913
          ],
          "sizemode": "area",
          "sizeref": 15
         },
         "mode": "markers",
         "name": "Argentina",
         "showlegend": true,
         "subplot": "mapbox",
         "type": "scattermapbox"
        },
        {
         "customdata": [
          [
           211
          ]
         ],
         "hoverlabel": {
          "namelength": 0
         },
         "hovertemplate": "<b>%{hovertext}</b><br><br>Combined_Key=Armenia<br>size=%{marker.size}<br>Recovered=%{customdata[0]}<br>Lat=%{lat}<br>Long_=%{lon}",
         "hovertext": [
          "Armenia"
         ],
         "lat": [
          40.0691
         ],
         "legendgroup": "Armenia",
         "lon": [
          45.0382
         ],
         "marker": {
          "color": "green",
          "size": [
           316.2067660286669
          ],
          "sizemode": "area",
          "sizeref": 15
         },
         "mode": "markers",
         "name": "Armenia",
         "showlegend": true,
         "subplot": "mapbox",
         "type": "scattermapbox"
        },
        {
         "customdata": [
          [
           7343
          ]
         ],
         "hoverlabel": {
          "namelength": 0
         },
         "hovertemplate": "<b>%{hovertext}</b><br><br>Combined_Key=Austria<br>size=%{marker.size}<br>Recovered=%{customdata[0]}<br>Lat=%{lat}<br>Long_=%{lon}",
         "hovertext": [
          "Austria"
         ],
         "lat": [
          47.5162
         ],
         "legendgroup": "Austria",
         "lon": [
          14.5501
         ],
         "marker": {
          "color": "green",
          "size": [
           5702.31323380669
          ],
          "sizemode": "area",
          "sizeref": 15
         },
         "mode": "markers",
         "name": "Austria",
         "showlegend": true,
         "subplot": "mapbox",
         "type": "scattermapbox"
        },
        {
         "customdata": [
          [
           289
          ]
         ],
         "hoverlabel": {
          "namelength": 0
         },
         "hovertemplate": "<b>%{hovertext}</b><br><br>Combined_Key=Azerbaijan<br>size=%{marker.size}<br>Recovered=%{customdata[0]}<br>Lat=%{lat}<br>Long_=%{lon}",
         "hovertext": [
          "Azerbaijan"
         ],
         "lat": [
          40.1431
         ],
         "legendgroup": "Azerbaijan",
         "lon": [
          47.5769
         ],
         "marker": {
          "color": "green",
          "size": [
           432.74727264322945
          ],
          "sizemode": "area",
          "sizeref": 15
         },
         "mode": "markers",
         "name": "Azerbaijan",
         "showlegend": true,
         "subplot": "mapbox",
         "type": "scattermapbox"
        },
        {
         "customdata": [
          [
           6
          ]
         ],
         "hoverlabel": {
          "namelength": 0
         },
         "hovertemplate": "<b>%{hovertext}</b><br><br>Combined_Key=Bahamas<br>size=%{marker.size}<br>Recovered=%{customdata[0]}<br>Lat=%{lat}<br>Long_=%{lon}",
         "hovertext": [
          "Bahamas"
         ],
         "lat": [
          25.025885
         ],
         "legendgroup": "Bahamas",
         "lon": [
          -78.035889
         ],
         "marker": {
          "color": "green",
          "size": [
           8.999993250006076
          ],
          "sizemode": "area",
          "sizeref": 15
         },
         "mode": "markers",
         "name": "Bahamas",
         "showlegend": true,
         "subplot": "mapbox",
         "type": "scattermapbox"
        },
        {
         "customdata": [
          [
           591
          ]
         ],
         "hoverlabel": {
          "namelength": 0
         },
         "hovertemplate": "<b>%{hovertext}</b><br><br>Combined_Key=Bahrain<br>size=%{marker.size}<br>Recovered=%{customdata[0]}<br>Lat=%{lat}<br>Long_=%{lon}",
         "hovertext": [
          "Bahrain"
         ],
         "lat": [
          26.0275
         ],
         "legendgroup": "Bahrain",
         "lon": [
          50.55
         ],
         "marker": {
          "color": "green",
          "size": [
           880.1050515815339
          ],
          "sizemode": "area",
          "sizeref": 15
         },
         "mode": "markers",
         "name": "Bahrain",
         "showlegend": true,
         "subplot": "mapbox",
         "type": "scattermapbox"
        },
        {
         "customdata": [
          [
           42
          ]
         ],
         "hoverlabel": {
          "namelength": 0
         },
         "hovertemplate": "<b>%{hovertext}</b><br><br>Combined_Key=Bangladesh<br>size=%{marker.size}<br>Recovered=%{customdata[0]}<br>Lat=%{lat}<br>Long_=%{lon}",
         "hovertext": [
          "Bangladesh"
         ],
         "lat": [
          23.685
         ],
         "legendgroup": "Bangladesh",
         "lon": [
          90.3563
         ],
         "marker": {
          "color": "green",
          "size": [
           62.99768485209797
          ],
          "sizemode": "area",
          "sizeref": 15
         },
         "mode": "markers",
         "name": "Bangladesh",
         "showlegend": true,
         "subplot": "mapbox",
         "type": "scattermapbox"
        },
        {
         "customdata": [
          [
           13
          ]
         ],
         "hoverlabel": {
          "namelength": 0
         },
         "hovertemplate": "<b>%{hovertext}</b><br><br>Combined_Key=Barbados<br>size=%{marker.size}<br>Recovered=%{customdata[0]}<br>Lat=%{lat}<br>Long_=%{lon}",
         "hovertext": [
          "Barbados"
         ],
         "lat": [
          13.1939
         ],
         "legendgroup": "Barbados",
         "lon": [
          -59.5432
         ],
         "marker": {
          "color": "green",
          "size": [
           19.499931344040068
          ],
          "sizemode": "area",
          "sizeref": 15
         },
         "mode": "markers",
         "name": "Barbados",
         "showlegend": true,
         "subplot": "mapbox",
         "type": "scattermapbox"
        },
        {
         "customdata": [
          [
           203
          ]
         ],
         "hoverlabel": {
          "namelength": 0
         },
         "hovertemplate": "<b>%{hovertext}</b><br><br>Combined_Key=Belarus<br>size=%{marker.size}<br>Recovered=%{customdata[0]}<br>Lat=%{lat}<br>Long_=%{lon}",
         "hovertext": [
          "Belarus"
         ],
         "lat": [
          53.7098
         ],
         "legendgroup": "Belarus",
         "lon": [
          27.9534
         ],
         "marker": {
          "color": "green",
          "size": [
           304.23884944677934
          ],
          "sizemode": "area",
          "sizeref": 15
         },
         "mode": "markers",
         "name": "Belarus",
         "showlegend": true,
         "subplot": "mapbox",
         "type": "scattermapbox"
        },
        {
         "customdata": [
          [
           6707
          ]
         ],
         "hoverlabel": {
          "namelength": 0
         },
         "hovertemplate": "<b>%{hovertext}</b><br><br>Combined_Key=Belgium<br>size=%{marker.size}<br>Recovered=%{customdata[0]}<br>Lat=%{lat}<br>Long_=%{lon}",
         "hovertext": [
          "Belgium"
         ],
         "lat": [
          50.8333
         ],
         "legendgroup": "Belgium",
         "lon": [
          4.469936
         ],
         "marker": {
          "color": "green",
          "size": [
           5594.631132498543
          ],
          "sizemode": "area",
          "sizeref": 15
         },
         "mode": "markers",
         "name": "Belgium",
         "showlegend": true,
         "subplot": "mapbox",
         "type": "scattermapbox"
        },
        {
         "customdata": [
          [
           0
          ]
         ],
         "hoverlabel": {
          "namelength": 0
         },
         "hovertemplate": "<b>%{hovertext}</b><br><br>Combined_Key=Belize<br>size=%{marker.size}<br>Recovered=%{customdata[0]}<br>Lat=%{lat}<br>Long_=%{lon}",
         "hovertext": [
          "Belize"
         ],
         "lat": [
          17.1899
         ],
         "legendgroup": "Belize",
         "lon": [
          -88.4976
         ],
         "marker": {
          "color": "green",
          "size": [
           0
          ],
          "sizemode": "area",
          "sizeref": 15
         },
         "mode": "markers",
         "name": "Belize",
         "showlegend": true,
         "subplot": "mapbox",
         "type": "scattermapbox"
        },
        {
         "customdata": [
          [
           5
          ]
         ],
         "hoverlabel": {
          "namelength": 0
         },
         "hovertemplate": "<b>%{hovertext}</b><br><br>Combined_Key=Benin<br>size=%{marker.size}<br>Recovered=%{customdata[0]}<br>Lat=%{lat}<br>Long_=%{lon}",
         "hovertext": [
          "Benin"
         ],
         "lat": [
          9.3077
         ],
         "legendgroup": "Benin",
         "lon": [
          2.3158
         ],
         "marker": {
          "color": "green",
          "size": [
           7.499996093752441
          ],
          "sizemode": "area",
          "sizeref": 15
         },
         "mode": "markers",
         "name": "Benin",
         "showlegend": true,
         "subplot": "mapbox",
         "type": "scattermapbox"
        },
        {
         "customdata": [
          [
           2
          ]
         ],
         "hoverlabel": {
          "namelength": 0
         },
         "hovertemplate": "<b>%{hovertext}</b><br><br>Combined_Key=Bhutan<br>size=%{marker.size}<br>Recovered=%{customdata[0]}<br>Lat=%{lat}<br>Long_=%{lon}",
         "hovertext": [
          "Bhutan"
         ],
         "lat": [
          27.5142
         ],
         "legendgroup": "Bhutan",
         "lon": [
          90.4336
         ],
         "marker": {
          "color": "green",
          "size": [
           2.9999997500000255
          ],
          "sizemode": "area",
          "sizeref": 15
         },
         "mode": "markers",
         "name": "Bhutan",
         "showlegend": true,
         "subplot": "mapbox",
         "type": "scattermapbox"
        },
        {
         "customdata": [
          [
           2
          ]
         ],
         "hoverlabel": {
          "namelength": 0
         },
         "hovertemplate": "<b>%{hovertext}</b><br><br>Combined_Key=Bolivia<br>size=%{marker.size}<br>Recovered=%{customdata[0]}<br>Lat=%{lat}<br>Long_=%{lon}",
         "hovertext": [
          "Bolivia"
         ],
         "lat": [
          -16.2902
         ],
         "legendgroup": "Bolivia",
         "lon": [
          -63.5887
         ],
         "marker": {
          "color": "green",
          "size": [
           2.9999997500000255
          ],
          "sizemode": "area",
          "sizeref": 15
         },
         "mode": "markers",
         "name": "Bolivia",
         "showlegend": true,
         "subplot": "mapbox",
         "type": "scattermapbox"
        },
        {
         "customdata": [
          [
           206
          ]
         ],
         "hoverlabel": {
          "namelength": 0
         },
         "hovertemplate": "<b>%{hovertext}</b><br><br>Combined_Key=Bosnia and Herzegovina<br>size=%{marker.size}<br>Recovered=%{customdata[0]}<br>Lat=%{lat}<br>Long_=%{lon}",
         "hovertext": [
          "Bosnia and Herzegovina"
         ],
         "lat": [
          43.9159
         ],
         "legendgroup": "Bosnia and Herzegovina",
         "lon": [
          17.6791
         ],
         "marker": {
          "color": "green",
          "size": [
           308.7271077577238
          ],
          "sizemode": "area",
          "sizeref": 15
         },
         "mode": "markers",
         "name": "Bosnia and Herzegovina",
         "showlegend": true,
         "subplot": "mapbox",
         "type": "scattermapbox"
        },
        {
         "customdata": [
          [
           0
          ]
         ],
         "hoverlabel": {
          "namelength": 0
         },
         "hovertemplate": "<b>%{hovertext}</b><br><br>Combined_Key=Botswana<br>size=%{marker.size}<br>Recovered=%{customdata[0]}<br>Lat=%{lat}<br>Long_=%{lon}",
         "hovertext": [
          "Botswana"
         ],
         "lat": [
          -22.3285
         ],
         "legendgroup": "Botswana",
         "lon": [
          24.6849
         ],
         "marker": {
          "color": "green",
          "size": [
           0
          ],
          "sizemode": "area",
          "sizeref": 15
         },
         "mode": "markers",
         "name": "Botswana",
         "showlegend": true,
         "subplot": "mapbox",
         "type": "scattermapbox"
        },
        {
         "customdata": [
          [
           173
          ]
         ],
         "hoverlabel": {
          "namelength": 0
         },
         "hovertemplate": "<b>%{hovertext}</b><br><br>Combined_Key=Brazil<br>size=%{marker.size}<br>Recovered=%{customdata[0]}<br>Lat=%{lat}<br>Long_=%{lon}",
         "hovertext": [
          "Brazil"
         ],
         "lat": [
          -14.235
         ],
         "legendgroup": "Brazil",
         "lon": [
          -51.9253
         ],
         "marker": {
          "color": "green",
          "size": [
           259.33831731769743
          ],
          "sizemode": "area",
          "sizeref": 15
         },
         "mode": "markers",
         "name": "Brazil",
         "showlegend": true,
         "subplot": "mapbox",
         "type": "scattermapbox"
        },
        {
         "customdata": [
          [
           107
          ]
         ],
         "hoverlabel": {
          "namelength": 0
         },
         "hovertemplate": "<b>%{hovertext}</b><br><br>Combined_Key=Brunei<br>size=%{marker.size}<br>Recovered=%{customdata[0]}<br>Lat=%{lat}<br>Long_=%{lon}",
         "hovertext": [
          "Brunei"
         ],
         "lat": [
          4.5353
         ],
         "legendgroup": "Brunei",
         "lon": [
          114.7277
         ],
         "marker": {
          "color": "green",
          "size": [
           160.4617283605127
          ],
          "sizemode": "area",
          "sizeref": 15
         },
         "mode": "markers",
         "name": "Brunei",
         "showlegend": true,
         "subplot": "mapbox",
         "type": "scattermapbox"
        },
        {
         "customdata": [
          [
           71
          ]
         ],
         "hoverlabel": {
          "namelength": 0
         },
         "hovertemplate": "<b>%{hovertext}</b><br><br>Combined_Key=Bulgaria<br>size=%{marker.size}<br>Recovered=%{customdata[0]}<br>Lat=%{lat}<br>Long_=%{lon}",
         "hovertext": [
          "Bulgaria"
         ],
         "lat": [
          42.7339
         ],
         "legendgroup": "Bulgaria",
         "lon": [
          25.4858
         ],
         "marker": {
          "color": "green",
          "size": [
           106.48881669062445
          ],
          "sizemode": "area",
          "sizeref": 15
         },
         "mode": "markers",
         "name": "Bulgaria",
         "showlegend": true,
         "subplot": "mapbox",
         "type": "scattermapbox"
        },
        {
         "customdata": [
          [
           161
          ]
         ],
         "hoverlabel": {
          "namelength": 0
         },
         "hovertemplate": "<b>%{hovertext}</b><br><br>Combined_Key=Burkina Faso<br>size=%{marker.size}<br>Recovered=%{customdata[0]}<br>Lat=%{lat}<br>Long_=%{lon}",
         "hovertext": [
          "Burkina Faso"
         ],
         "lat": [
          12.2383
         ],
         "legendgroup": "Burkina Faso",
         "lon": [
          -1.5616
         ],
         "marker": {
          "color": "green",
          "size": [
           241.369669425569
          ],
          "sizemode": "area",
          "sizeref": 15
         },
         "mode": "markers",
         "name": "Burkina Faso",
         "showlegend": true,
         "subplot": "mapbox",
         "type": "scattermapbox"
        },
        {
         "customdata": [
          [
           2
          ]
         ],
         "hoverlabel": {
          "namelength": 0
         },
         "hovertemplate": "<b>%{hovertext}</b><br><br>Combined_Key=Burma<br>size=%{marker.size}<br>Recovered=%{customdata[0]}<br>Lat=%{lat}<br>Long_=%{lon}",
         "hovertext": [
          "Burma"
         ],
         "lat": [
          21.9162
         ],
         "legendgroup": "Burma",
         "lon": [
          95.956
         ],
         "marker": {
          "color": "green",
          "size": [
           2.9999997500000255
          ],
          "sizemode": "area",
          "sizeref": 15
         },
         "mode": "markers",
         "name": "Burma",
         "showlegend": true,
         "subplot": "mapbox",
         "type": "scattermapbox"
        },
        {
         "customdata": [
          [
           0
          ]
         ],
         "hoverlabel": {
          "namelength": 0
         },
         "hovertemplate": "<b>%{hovertext}</b><br><br>Combined_Key=Burundi<br>size=%{marker.size}<br>Recovered=%{customdata[0]}<br>Lat=%{lat}<br>Long_=%{lon}",
         "hovertext": [
          "Burundi"
         ],
         "lat": [
          -3.3731
         ],
         "legendgroup": "Burundi",
         "lon": [
          29.9189
         ],
         "marker": {
          "color": "green",
          "size": [
           0
          ],
          "sizemode": "area",
          "sizeref": 15
         },
         "mode": "markers",
         "name": "Burundi",
         "showlegend": true,
         "subplot": "mapbox",
         "type": "scattermapbox"
        },
        {
         "customdata": [
          [
           1
          ]
         ],
         "hoverlabel": {
          "namelength": 0
         },
         "hovertemplate": "<b>%{hovertext}</b><br><br>Combined_Key=Cabo Verde<br>size=%{marker.size}<br>Recovered=%{customdata[0]}<br>Lat=%{lat}<br>Long_=%{lon}",
         "hovertext": [
          "Cabo Verde"
         ],
         "lat": [
          16.5388
         ],
         "legendgroup": "Cabo Verde",
         "lon": [
          -23.0418
         ],
         "marker": {
          "color": "green",
          "size": [
           1.4999999687500007
          ],
          "sizemode": "area",
          "sizeref": 15
         },
         "mode": "markers",
         "name": "Cabo Verde",
         "showlegend": true,
         "subplot": "mapbox",
         "type": "scattermapbox"
        },
        {
         "customdata": [
          [
           77
          ]
         ],
         "hoverlabel": {
          "namelength": 0
         },
         "hovertemplate": "<b>%{hovertext}</b><br><br>Combined_Key=Cambodia<br>size=%{marker.size}<br>Recovered=%{customdata[0]}<br>Lat=%{lat}<br>Long_=%{lon}",
         "hovertext": [
          "Cambodia"
         ],
         "lat": [
          11.55
         ],
         "legendgroup": "Cambodia",
         "lon": [
          104.9167
         ],
         "marker": {
          "color": "green",
          "size": [
           115.485735458108
          ],
          "sizemode": "area",
          "sizeref": 15
         },
         "mode": "markers",
         "name": "Cambodia",
         "showlegend": true,
         "subplot": "mapbox",
         "type": "scattermapbox"
        },
        {
         "customdata": [
          [
           98
          ]
         ],
         "hoverlabel": {
          "namelength": 0
         },
         "hovertemplate": "<b>%{hovertext}</b><br><br>Combined_Key=Cameroon<br>size=%{marker.size}<br>Recovered=%{customdata[0]}<br>Lat=%{lat}<br>Long_=%{lon}",
         "hovertext": [
          "Cameroon"
         ],
         "lat": [
          3.848
         ],
         "legendgroup": "Cameroon",
         "lon": [
          11.5021
         ],
         "marker": {
          "color": "green",
          "size": [
           146.97059481016592
          ],
          "sizemode": "area",
          "sizeref": 15
         },
         "mode": "markers",
         "name": "Cameroon",
         "showlegend": true,
         "subplot": "mapbox",
         "type": "scattermapbox"
        },
        {
         "customdata": [
          [
           3
          ]
         ],
         "hoverlabel": {
          "namelength": 0
         },
         "hovertemplate": "<b>%{hovertext}</b><br><br>Combined_Key=Central African Republic<br>size=%{marker.size}<br>Recovered=%{customdata[0]}<br>Lat=%{lat}<br>Long_=%{lon}",
         "hovertext": [
          "Central African Republic"
         ],
         "lat": [
          6.6111
         ],
         "legendgroup": "Central African Republic",
         "lon": [
          20.9394
         ],
         "marker": {
          "color": "green",
          "size": [
           4.4999991562501895
          ],
          "sizemode": "area",
          "sizeref": 15
         },
         "mode": "markers",
         "name": "Central African Republic",
         "showlegend": true,
         "subplot": "mapbox",
         "type": "scattermapbox"
        },
        {
         "customdata": [
          [
           2
          ]
         ],
         "hoverlabel": {
          "namelength": 0
         },
         "hovertemplate": "<b>%{hovertext}</b><br><br>Combined_Key=Chad<br>size=%{marker.size}<br>Recovered=%{customdata[0]}<br>Lat=%{lat}<br>Long_=%{lon}",
         "hovertext": [
          "Chad"
         ],
         "lat": [
          15.4542
         ],
         "legendgroup": "Chad",
         "lon": [
          18.7322
         ],
         "marker": {
          "color": "green",
          "size": [
           2.9999997500000255
          ],
          "sizemode": "area",
          "sizeref": 15
         },
         "mode": "markers",
         "name": "Chad",
         "showlegend": true,
         "subplot": "mapbox",
         "type": "scattermapbox"
        },
        {
         "customdata": [
          [
           2367
          ]
         ],
         "hoverlabel": {
          "namelength": 0
         },
         "hovertemplate": "<b>%{hovertext}</b><br><br>Combined_Key=Chile<br>size=%{marker.size}<br>Recovered=%{customdata[0]}<br>Lat=%{lat}<br>Long_=%{lon}",
         "hovertext": [
          "Chile"
         ],
         "lat": [
          -35.6751
         ],
         "legendgroup": "Chile",
         "lon": [
          -71.543
         ],
         "marker": {
          "color": "green",
          "size": [
           3186.918352898976
          ],
          "sizemode": "area",
          "sizeref": 15
         },
         "mode": "markers",
         "name": "Chile",
         "showlegend": true,
         "subplot": "mapbox",
         "type": "scattermapbox"
        },
        {
         "customdata": [
          [
           319
          ]
         ],
         "hoverlabel": {
          "namelength": 0
         },
         "hovertemplate": "<b>%{hovertext}</b><br><br>Combined_Key=Colombia<br>size=%{marker.size}<br>Recovered=%{customdata[0]}<br>Lat=%{lat}<br>Long_=%{lon}",
         "hovertext": [
          "Colombia"
         ],
         "lat": [
          4.5709
         ],
         "legendgroup": "Colombia",
         "lon": [
          -74.2973
         ],
         "marker": {
          "color": "green",
          "size": [
           477.4881441399147
          ],
          "sizemode": "area",
          "sizeref": 15
         },
         "mode": "markers",
         "name": "Colombia",
         "showlegend": true,
         "subplot": "mapbox",
         "type": "scattermapbox"
        },
        {
         "customdata": [
          [
           5
          ]
         ],
         "hoverlabel": {
          "namelength": 0
         },
         "hovertemplate": "<b>%{hovertext}</b><br><br>Combined_Key=Congo (Brazzaville)<br>size=%{marker.size}<br>Recovered=%{customdata[0]}<br>Lat=%{lat}<br>Long_=%{lon}",
         "hovertext": [
          "Congo (Brazzaville)"
         ],
         "lat": [
          -4.2634
         ],
         "legendgroup": "Congo (Brazzaville)",
         "lon": [
          15.2832
         ],
         "marker": {
          "color": "green",
          "size": [
           7.499996093752441
          ],
          "sizemode": "area",
          "sizeref": 15
         },
         "mode": "markers",
         "name": "Congo (Brazzaville)",
         "showlegend": true,
         "subplot": "mapbox",
         "type": "scattermapbox"
        },
        {
         "customdata": [
          [
           17
          ]
         ],
         "hoverlabel": {
          "namelength": 0
         },
         "hovertemplate": "<b>%{hovertext}</b><br><br>Combined_Key=Congo (Kinshasa)<br>size=%{marker.size}<br>Recovered=%{customdata[0]}<br>Lat=%{lat}<br>Long_=%{lon}",
         "hovertext": [
          "Congo (Kinshasa)"
         ],
         "lat": [
          -4.322447
         ],
         "legendgroup": "Congo (Kinshasa)",
         "lon": [
          15.307045
         ],
         "marker": {
          "color": "green",
          "size": [
           25.499846469859257
          ],
          "sizemode": "area",
          "sizeref": 15
         },
         "mode": "markers",
         "name": "Congo (Kinshasa)",
         "showlegend": true,
         "subplot": "mapbox",
         "type": "scattermapbox"
        },
        {
         "customdata": [
          [
           62
          ]
         ],
         "hoverlabel": {
          "namelength": 0
         },
         "hovertemplate": "<b>%{hovertext}</b><br><br>Combined_Key=Costa Rica<br>size=%{marker.size}<br>Recovered=%{customdata[0]}<br>Lat=%{lat}<br>Long_=%{lon}",
         "hovertext": [
          "Costa Rica"
         ],
         "lat": [
          9.7489
         ],
         "legendgroup": "Costa Rica",
         "lon": [
          -83.7534
         ],
         "marker": {
          "color": "green",
          "size": [
           92.99255296565917
          ],
          "sizemode": "area",
          "sizeref": 15
         },
         "mode": "markers",
         "name": "Costa Rica",
         "showlegend": true,
         "subplot": "mapbox",
         "type": "scattermapbox"
        },
        {
         "customdata": [
          [
           89
          ]
         ],
         "hoverlabel": {
          "namelength": 0
         },
         "hovertemplate": "<b>%{hovertext}</b><br><br>Combined_Key=Cote d'Ivoire<br>size=%{marker.size}<br>Recovered=%{customdata[0]}<br>Lat=%{lat}<br>Long_=%{lon}",
         "hovertext": [
          "Cote d'Ivoire"
         ],
         "lat": [
          7.54
         ],
         "legendgroup": "Cote d'Ivoire",
         "lon": [
          -5.5471
         ],
         "marker": {
          "color": "green",
          "size": [
           133.47797408042243
          ],
          "sizemode": "area",
          "sizeref": 15
         },
         "mode": "markers",
         "name": "Cote d'Ivoire",
         "showlegend": true,
         "subplot": "mapbox",
         "type": "scattermapbox"
        },
        {
         "customdata": [
          [
           400
          ]
         ],
         "hoverlabel": {
          "namelength": 0
         },
         "hovertemplate": "<b>%{hovertext}</b><br><br>Combined_Key=Croatia<br>size=%{marker.size}<br>Recovered=%{customdata[0]}<br>Lat=%{lat}<br>Long_=%{lon}",
         "hovertext": [
          "Croatia"
         ],
         "lat": [
          45.1
         ],
         "legendgroup": "Croatia",
         "lon": [
          15.2
         ],
         "marker": {
          "color": "green",
          "size": [
           598.0079677497349
          ],
          "sizemode": "area",
          "sizeref": 15
         },
         "mode": "markers",
         "name": "Croatia",
         "showlegend": true,
         "subplot": "mapbox",
         "type": "scattermapbox"
        },
        {
         "customdata": [
          [
           121
          ]
         ],
         "hoverlabel": {
          "namelength": 0
         },
         "hovertemplate": "<b>%{hovertext}</b><br><br>Combined_Key=Cuba<br>size=%{marker.size}<br>Recovered=%{customdata[0]}<br>Lat=%{lat}<br>Long_=%{lon}",
         "hovertext": [
          "Cuba"
         ],
         "lat": [
          21.521757
         ],
         "legendgroup": "Cuba",
         "lon": [
          -77.78116700000002
         ],
         "marker": {
          "color": "green",
          "size": [
           181.44465897486046
          ],
          "sizemode": "area",
          "sizeref": 15
         },
         "mode": "markers",
         "name": "Cuba",
         "showlegend": true,
         "subplot": "mapbox",
         "type": "scattermapbox"
        },
        {
         "customdata": [
          [
           65
          ]
         ],
         "hoverlabel": {
          "namelength": 0
         },
         "hovertemplate": "<b>%{hovertext}</b><br><br>Combined_Key=Cyprus<br>size=%{marker.size}<br>Recovered=%{customdata[0]}<br>Lat=%{lat}<br>Long_=%{lon}",
         "hovertext": [
          "Cyprus"
         ],
         "lat": [
          35.1264
         ],
         "legendgroup": "Cyprus",
         "lon": [
          33.4299
         ],
         "marker": {
          "color": "green",
          "size": [
           97.49141887513018
          ],
          "sizemode": "area",
          "sizeref": 15
         },
         "mode": "markers",
         "name": "Cyprus",
         "showlegend": true,
         "subplot": "mapbox",
         "type": "scattermapbox"
        },
        {
         "customdata": [
          [
           519
          ]
         ],
         "hoverlabel": {
          "namelength": 0
         },
         "hovertemplate": "<b>%{hovertext}</b><br><br>Combined_Key=Czechia<br>size=%{marker.size}<br>Recovered=%{customdata[0]}<br>Lat=%{lat}<br>Long_=%{lon}",
         "hovertext": [
          "Czechia"
         ],
         "lat": [
          49.8175
         ],
         "legendgroup": "Czechia",
         "lon": [
          15.473
         ],
         "marker": {
          "color": "green",
          "size": [
           774.1605210997509
          ],
          "sizemode": "area",
          "sizeref": 15
         },
         "mode": "markers",
         "name": "Czechia",
         "showlegend": true,
         "subplot": "mapbox",
         "type": "scattermapbox"
        },
        {
         "customdata": [
          [
           619
          ]
         ],
         "hoverlabel": {
          "namelength": 0
         },
         "hovertemplate": "<b>%{hovertext}</b><br><br>Combined_Key=Diamond Princess<br>size=%{marker.size}<br>Recovered=%{customdata[0]}<br>Lat=%{lat}<br>Long_=%{lon}",
         "hovertext": [
          "Diamond Princess"
         ],
         "lat": [
          null
         ],
         "legendgroup": "Diamond Princess",
         "lon": [
          null
         ],
         "marker": {
          "color": "green",
          "size": [
           921.1585453727207
          ],
          "sizemode": "area",
          "sizeref": 15
         },
         "mode": "markers",
         "name": "Diamond Princess",
         "showlegend": true,
         "subplot": "mapbox",
         "type": "scattermapbox"
        },
        {
         "customdata": [
          [
           41
          ]
         ],
         "hoverlabel": {
          "namelength": 0
         },
         "hovertemplate": "<b>%{hovertext}</b><br><br>Combined_Key=Djibouti<br>size=%{marker.size}<br>Recovered=%{customdata[0]}<br>Lat=%{lat}<br>Long_=%{lon}",
         "hovertext": [
          "Djibouti"
         ],
         "lat": [
          11.8251
         ],
         "legendgroup": "Djibouti",
         "lon": [
          42.5903
         ],
         "marker": {
          "color": "green",
          "size": [
           61.497846309258804
          ],
          "sizemode": "area",
          "sizeref": 15
         },
         "mode": "markers",
         "name": "Djibouti",
         "showlegend": true,
         "subplot": "mapbox",
         "type": "scattermapbox"
        },
        {
         "customdata": [
          [
           8
          ]
         ],
         "hoverlabel": {
          "namelength": 0
         },
         "hovertemplate": "<b>%{hovertext}</b><br><br>Combined_Key=Dominica<br>size=%{marker.size}<br>Recovered=%{customdata[0]}<br>Lat=%{lat}<br>Long_=%{lon}",
         "hovertext": [
          "Dominica"
         ],
         "lat": [
          15.415
         ],
         "legendgroup": "Dominica",
         "lon": [
          -61.371
         ],
         "marker": {
          "color": "green",
          "size": [
           11.9999840000256
          ],
          "sizemode": "area",
          "sizeref": 15
         },
         "mode": "markers",
         "name": "Dominica",
         "showlegend": true,
         "subplot": "mapbox",
         "type": "scattermapbox"
        },
        {
         "customdata": [
          [
           152
          ]
         ],
         "hoverlabel": {
          "namelength": 0
         },
         "hovertemplate": "<b>%{hovertext}</b><br><br>Combined_Key=Dominican Republic<br>size=%{marker.size}<br>Recovered=%{customdata[0]}<br>Lat=%{lat}<br>Long_=%{lon}",
         "hovertext": [
          "Dominican Republic"
         ],
         "lat": [
          18.7357
         ],
         "legendgroup": "Dominican Republic",
         "lon": [
          -70.1627
         ],
         "marker": {
          "color": "green",
          "size": [
           227.8903193511072
          ],
          "sizemode": "area",
          "sizeref": 15
         },
         "mode": "markers",
         "name": "Dominican Republic",
         "showlegend": true,
         "subplot": "mapbox",
         "type": "scattermapbox"
        },
        {
         "customdata": [
          [
           597
          ]
         ],
         "hoverlabel": {
          "namelength": 0
         },
         "hovertemplate": "<b>%{hovertext}</b><br><br>Combined_Key=Ecuador<br>size=%{marker.size}<br>Recovered=%{customdata[0]}<br>Lat=%{lat}<br>Long_=%{lon}",
         "hovertext": [
          "Ecuador"
         ],
         "lat": [
          -1.8312
         ],
         "legendgroup": "Ecuador",
         "lon": [
          -78.1834
         ],
         "marker": {
          "color": "green",
          "size": [
           888.90946155135
          ],
          "sizemode": "area",
          "sizeref": 15
         },
         "mode": "markers",
         "name": "Ecuador",
         "showlegend": true,
         "subplot": "mapbox",
         "type": "scattermapbox"
        },
        {
         "customdata": [
          [
           589
          ]
         ],
         "hoverlabel": {
          "namelength": 0
         },
         "hovertemplate": "<b>%{hovertext}</b><br><br>Combined_Key=Egypt<br>size=%{marker.size}<br>Recovered=%{customdata[0]}<br>Lat=%{lat}<br>Long_=%{lon}",
         "hovertext": [
          "Egypt"
         ],
         "lat": [
          26.820553000000004
         ],
         "legendgroup": "Egypt",
         "lon": [
          30.802498
         ],
         "marker": {
          "color": "green",
          "size": [
           877.1693852600943
          ],
          "sizemode": "area",
          "sizeref": 15
         },
         "mode": "markers",
         "name": "Egypt",
         "showlegend": true,
         "subplot": "mapbox",
         "type": "scattermapbox"
        },
        {
         "customdata": [
          [
           22
          ]
         ],
         "hoverlabel": {
          "namelength": 0
         },
         "hovertemplate": "<b>%{hovertext}</b><br><br>Combined_Key=El Salvador<br>size=%{marker.size}<br>Recovered=%{customdata[0]}<br>Lat=%{lat}<br>Long_=%{lon}",
         "hovertext": [
          "El Salvador"
         ],
         "lat": [
          13.7942
         ],
         "legendgroup": "El Salvador",
         "lon": [
          -88.8965
         ],
         "marker": {
          "color": "green",
          "size": [
           32.99966725402622
          ],
          "sizemode": "area",
          "sizeref": 15
         },
         "mode": "markers",
         "name": "El Salvador",
         "showlegend": true,
         "subplot": "mapbox",
         "type": "scattermapbox"
        },
        {
         "customdata": [
          [
           4
          ]
         ],
         "hoverlabel": {
          "namelength": 0
         },
         "hovertemplate": "<b>%{hovertext}</b><br><br>Combined_Key=Equatorial Guinea<br>size=%{marker.size}<br>Recovered=%{customdata[0]}<br>Lat=%{lat}<br>Long_=%{lon}",
         "hovertext": [
          "Equatorial Guinea"
         ],
         "lat": [
          1.6508
         ],
         "legendgroup": "Equatorial Guinea",
         "lon": [
          10.2679
         ],
         "marker": {
          "color": "green",
          "size": [
           5.9999980000008
          ],
          "sizemode": "area",
          "sizeref": 15
         },
         "mode": "markers",
         "name": "Equatorial Guinea",
         "showlegend": true,
         "subplot": "mapbox",
         "type": "scattermapbox"
        },
        {
         "customdata": [
          [
           0
          ]
         ],
         "hoverlabel": {
          "namelength": 0
         },
         "hovertemplate": "<b>%{hovertext}</b><br><br>Combined_Key=Eritrea<br>size=%{marker.size}<br>Recovered=%{customdata[0]}<br>Lat=%{lat}<br>Long_=%{lon}",
         "hovertext": [
          "Eritrea"
         ],
         "lat": [
          15.1794
         ],
         "legendgroup": "Eritrea",
         "lon": [
          39.7823
         ],
         "marker": {
          "color": "green",
          "size": [
           0
          ],
          "sizemode": "area",
          "sizeref": 15
         },
         "mode": "markers",
         "name": "Eritrea",
         "showlegend": true,
         "subplot": "mapbox",
         "type": "scattermapbox"
        },
        {
         "customdata": [
          [
           102
          ]
         ],
         "hoverlabel": {
          "namelength": 0
         },
         "hovertemplate": "<b>%{hovertext}</b><br><br>Combined_Key=Estonia<br>size=%{marker.size}<br>Recovered=%{customdata[0]}<br>Lat=%{lat}<br>Long_=%{lon}",
         "hovertext": [
          "Estonia"
         ],
         "lat": [
          58.5953
         ],
         "legendgroup": "Estonia",
         "lon": [
          25.0136
         ],
         "marker": {
          "color": "green",
          "size": [
           152.96684587336165
          ],
          "sizemode": "area",
          "sizeref": 15
         },
         "mode": "markers",
         "name": "Estonia",
         "showlegend": true,
         "subplot": "mapbox",
         "type": "scattermapbox"
        },
        {
         "customdata": [
          [
           7
          ]
         ],
         "hoverlabel": {
          "namelength": 0
         },
         "hovertemplate": "<b>%{hovertext}</b><br><br>Combined_Key=Eswatini<br>size=%{marker.size}<br>Recovered=%{customdata[0]}<br>Lat=%{lat}<br>Long_=%{lon}",
         "hovertext": [
          "Eswatini"
         ],
         "lat": [
          -26.5225
         ],
         "legendgroup": "Eswatini",
         "lon": [
          31.4659
         ],
         "marker": {
          "color": "green",
          "size": [
           10.499989281263131
          ],
          "sizemode": "area",
          "sizeref": 15
         },
         "mode": "markers",
         "name": "Eswatini",
         "showlegend": true,
         "subplot": "mapbox",
         "type": "scattermapbox"
        },
        {
         "customdata": [
          [
           14
          ]
         ],
         "hoverlabel": {
          "namelength": 0
         },
         "hovertemplate": "<b>%{hovertext}</b><br><br>Combined_Key=Ethiopia<br>size=%{marker.size}<br>Recovered=%{customdata[0]}<br>Lat=%{lat}<br>Long_=%{lon}",
         "hovertext": [
          "Ethiopia"
         ],
         "lat": [
          9.145
         ],
         "legendgroup": "Ethiopia",
         "lon": [
          40.4897
         ],
         "marker": {
          "color": "green",
          "size": [
           20.999914250420172
          ],
          "sizemode": "area",
          "sizeref": 15
         },
         "mode": "markers",
         "name": "Ethiopia",
         "showlegend": true,
         "subplot": "mapbox",
         "type": "scattermapbox"
        },
        {
         "customdata": [
          [
           0
          ]
         ],
         "hoverlabel": {
          "namelength": 0
         },
         "hovertemplate": "<b>%{hovertext}</b><br><br>Combined_Key=Fiji<br>size=%{marker.size}<br>Recovered=%{customdata[0]}<br>Lat=%{lat}<br>Long_=%{lon}",
         "hovertext": [
          "Fiji"
         ],
         "lat": [
          -17.7134
         ],
         "legendgroup": "Fiji",
         "lon": [
          178.065
         ],
         "marker": {
          "color": "green",
          "size": [
           0
          ],
          "sizemode": "area",
          "sizeref": 15
         },
         "mode": "markers",
         "name": "Fiji",
         "showlegend": true,
         "subplot": "mapbox",
         "type": "scattermapbox"
        },
        {
         "customdata": [
          [
           300
          ]
         ],
         "hoverlabel": {
          "namelength": 0
         },
         "hovertemplate": "<b>%{hovertext}</b><br><br>Combined_Key=Finland<br>size=%{marker.size}<br>Recovered=%{customdata[0]}<br>Lat=%{lat}<br>Long_=%{lon}",
         "hovertext": [
          "Finland"
         ],
         "lat": [
          61.92411
         ],
         "legendgroup": "Finland",
         "lon": [
          25.748151
         ],
         "marker": {
          "color": "green",
          "size": [
           449.1581441249946
          ],
          "sizemode": "area",
          "sizeref": 15
         },
         "mode": "markers",
         "name": "Finland",
         "showlegend": true,
         "subplot": "mapbox",
         "type": "scattermapbox"
        },
        {
         "customdata": [
          [
           1
          ]
         ],
         "hoverlabel": {
          "namelength": 0
         },
         "hovertemplate": "<b>%{hovertext}</b><br><br>Combined_Key=Gabon<br>size=%{marker.size}<br>Recovered=%{customdata[0]}<br>Lat=%{lat}<br>Long_=%{lon}",
         "hovertext": [
          "Gabon"
         ],
         "lat": [
          -0.8037
         ],
         "legendgroup": "Gabon",
         "lon": [
          11.6094
         ],
         "marker": {
          "color": "green",
          "size": [
           1.4999999687500007
          ],
          "sizemode": "area",
          "sizeref": 15
         },
         "mode": "markers",
         "name": "Gabon",
         "showlegend": true,
         "subplot": "mapbox",
         "type": "scattermapbox"
        },
        {
         "customdata": [
          [
           2
          ]
         ],
         "hoverlabel": {
          "namelength": 0
         },
         "hovertemplate": "<b>%{hovertext}</b><br><br>Combined_Key=Gambia<br>size=%{marker.size}<br>Recovered=%{customdata[0]}<br>Lat=%{lat}<br>Long_=%{lon}",
         "hovertext": [
          "Gambia"
         ],
         "lat": [
          13.4432
         ],
         "legendgroup": "Gambia",
         "lon": [
          -15.3101
         ],
         "marker": {
          "color": "green",
          "size": [
           2.9999997500000255
          ],
          "sizemode": "area",
          "sizeref": 15
         },
         "mode": "markers",
         "name": "Gambia",
         "showlegend": true,
         "subplot": "mapbox",
         "type": "scattermapbox"
        },
        {
         "customdata": [
          [
           68
          ]
         ],
         "hoverlabel": {
          "namelength": 0
         },
         "hovertemplate": "<b>%{hovertext}</b><br><br>Combined_Key=Georgia<br>size=%{marker.size}<br>Recovered=%{customdata[0]}<br>Lat=%{lat}<br>Long_=%{lon}",
         "hovertext": [
          "Georgia"
         ],
         "lat": [
          42.3154
         ],
         "legendgroup": "Georgia",
         "lon": [
          43.3569
         ],
         "marker": {
          "color": "green",
          "size": [
           101.99017513575274
          ],
          "sizemode": "area",
          "sizeref": 15
         },
         "mode": "markers",
         "name": "Georgia",
         "showlegend": true,
         "subplot": "mapbox",
         "type": "scattermapbox"
        },
        {
         "customdata": [
          [
           64300
          ]
         ],
         "hoverlabel": {
          "namelength": 0
         },
         "hovertemplate": "<b>%{hovertext}</b><br><br>Combined_Key=Germany<br>size=%{marker.size}<br>Recovered=%{customdata[0]}<br>Lat=%{lat}<br>Long_=%{lon}",
         "hovertext": [
          "Germany"
         ],
         "lat": [
          51.165691
         ],
         "legendgroup": "Germany",
         "lon": [
          10.451526
         ],
         "marker": {
          "color": "green",
          "size": [
           5999.999999999869
          ],
          "sizemode": "area",
          "sizeref": 15
         },
         "mode": "markers",
         "name": "Germany",
         "showlegend": true,
         "subplot": "mapbox",
         "type": "scattermapbox"
        },
        {
         "customdata": [
          [
           4
          ]
         ],
         "hoverlabel": {
          "namelength": 0
         },
         "hovertemplate": "<b>%{hovertext}</b><br><br>Combined_Key=Ghana<br>size=%{marker.size}<br>Recovered=%{customdata[0]}<br>Lat=%{lat}<br>Long_=%{lon}",
         "hovertext": [
          "Ghana"
         ],
         "lat": [
          7.9465
         ],
         "legendgroup": "Ghana",
         "lon": [
          -1.0232
         ],
         "marker": {
          "color": "green",
          "size": [
           5.9999980000008
          ],
          "sizemode": "area",
          "sizeref": 15
         },
         "mode": "markers",
         "name": "Ghana",
         "showlegend": true,
         "subplot": "mapbox",
         "type": "scattermapbox"
        },
        {
         "customdata": [
          [
           269
          ]
         ],
         "hoverlabel": {
          "namelength": 0
         },
         "hovertemplate": "<b>%{hovertext}</b><br><br>Combined_Key=Greece<br>size=%{marker.size}<br>Recovered=%{customdata[0]}<br>Lat=%{lat}<br>Long_=%{lon}",
         "hovertext": [
          "Greece"
         ],
         "lat": [
          39.0742
         ],
         "legendgroup": "Greece",
         "lon": [
          21.8243
         ],
         "marker": {
          "color": "green",
          "size": [
           402.892813735232
          ],
          "sizemode": "area",
          "sizeref": 15
         },
         "mode": "markers",
         "name": "Greece",
         "showlegend": true,
         "subplot": "mapbox",
         "type": "scattermapbox"
        },
        {
         "customdata": [
          [
           0
          ]
         ],
         "hoverlabel": {
          "namelength": 0
         },
         "hovertemplate": "<b>%{hovertext}</b><br><br>Combined_Key=Grenada<br>size=%{marker.size}<br>Recovered=%{customdata[0]}<br>Lat=%{lat}<br>Long_=%{lon}",
         "hovertext": [
          "Grenada"
         ],
         "lat": [
          12.1165
         ],
         "legendgroup": "Grenada",
         "lon": [
          -61.679
         ],
         "marker": {
          "color": "green",
          "size": [
           0
          ],
          "sizemode": "area",
          "sizeref": 15
         },
         "mode": "markers",
         "name": "Grenada",
         "showlegend": true,
         "subplot": "mapbox",
         "type": "scattermapbox"
        },
        {
         "customdata": [
          [
           19
          ]
         ],
         "hoverlabel": {
          "namelength": 0
         },
         "hovertemplate": "<b>%{hovertext}</b><br><br>Combined_Key=Guatemala<br>size=%{marker.size}<br>Recovered=%{customdata[0]}<br>Lat=%{lat}<br>Long_=%{lon}",
         "hovertext": [
          "Guatemala"
         ],
         "lat": [
          15.7835
         ],
         "legendgroup": "Guatemala",
         "lon": [
          -90.2308
         ],
         "marker": {
          "color": "green",
          "size": [
           28.499785658184436
          ],
          "sizemode": "area",
          "sizeref": 15
         },
         "mode": "markers",
         "name": "Guatemala",
         "showlegend": true,
         "subplot": "mapbox",
         "type": "scattermapbox"
        },
        {
         "customdata": [
          [
           17
          ]
         ],
         "hoverlabel": {
          "namelength": 0
         },
         "hovertemplate": "<b>%{hovertext}</b><br><br>Combined_Key=Guinea<br>size=%{marker.size}<br>Recovered=%{customdata[0]}<br>Lat=%{lat}<br>Long_=%{lon}",
         "hovertext": [
          "Guinea"
         ],
         "lat": [
          9.9456
         ],
         "legendgroup": "Guinea",
         "lon": [
          -9.6966
         ],
         "marker": {
          "color": "green",
          "size": [
           25.499846469859257
          ],
          "sizemode": "area",
          "sizeref": 15
         },
         "mode": "markers",
         "name": "Guinea",
         "showlegend": true,
         "subplot": "mapbox",
         "type": "scattermapbox"
        },
        {
         "customdata": [
          [
           0
          ]
         ],
         "hoverlabel": {
          "namelength": 0
         },
         "hovertemplate": "<b>%{hovertext}</b><br><br>Combined_Key=Guinea-Bissau<br>size=%{marker.size}<br>Recovered=%{customdata[0]}<br>Lat=%{lat}<br>Long_=%{lon}",
         "hovertext": [
          "Guinea-Bissau"
         ],
         "lat": [
          11.8037
         ],
         "legendgroup": "Guinea-Bissau",
         "lon": [
          -15.1804
         ],
         "marker": {
          "color": "green",
          "size": [
           0
          ],
          "sizemode": "area",
          "sizeref": 15
         },
         "mode": "markers",
         "name": "Guinea-Bissau",
         "showlegend": true,
         "subplot": "mapbox",
         "type": "scattermapbox"
        },
        {
         "customdata": [
          [
           8
          ]
         ],
         "hoverlabel": {
          "namelength": 0
         },
         "hovertemplate": "<b>%{hovertext}</b><br><br>Combined_Key=Guyana<br>size=%{marker.size}<br>Recovered=%{customdata[0]}<br>Lat=%{lat}<br>Long_=%{lon}",
         "hovertext": [
          "Guyana"
         ],
         "lat": [
          4.860416000000002
         ],
         "legendgroup": "Guyana",
         "lon": [
          -58.93018000000001
         ],
         "marker": {
          "color": "green",
          "size": [
           11.9999840000256
          ],
          "sizemode": "area",
          "sizeref": 15
         },
         "mode": "markers",
         "name": "Guyana",
         "showlegend": true,
         "subplot": "mapbox",
         "type": "scattermapbox"
        },
        {
         "customdata": [
          [
           0
          ]
         ],
         "hoverlabel": {
          "namelength": 0
         },
         "hovertemplate": "<b>%{hovertext}</b><br><br>Combined_Key=Haiti<br>size=%{marker.size}<br>Recovered=%{customdata[0]}<br>Lat=%{lat}<br>Long_=%{lon}",
         "hovertext": [
          "Haiti"
         ],
         "lat": [
          18.9712
         ],
         "legendgroup": "Haiti",
         "lon": [
          -72.2852
         ],
         "marker": {
          "color": "green",
          "size": [
           0
          ],
          "sizemode": "area",
          "sizeref": 15
         },
         "mode": "markers",
         "name": "Haiti",
         "showlegend": true,
         "subplot": "mapbox",
         "type": "scattermapbox"
        },
        {
         "customdata": [
          [
           2
          ]
         ],
         "hoverlabel": {
          "namelength": 0
         },
         "hovertemplate": "<b>%{hovertext}</b><br><br>Combined_Key=Holy See<br>size=%{marker.size}<br>Recovered=%{customdata[0]}<br>Lat=%{lat}<br>Long_=%{lon}",
         "hovertext": [
          "Holy See"
         ],
         "lat": [
          41.9029
         ],
         "legendgroup": "Holy See",
         "lon": [
          12.4534
         ],
         "marker": {
          "color": "green",
          "size": [
           2.9999997500000255
          ],
          "sizemode": "area",
          "sizeref": 15
         },
         "mode": "markers",
         "name": "Holy See",
         "showlegend": true,
         "subplot": "mapbox",
         "type": "scattermapbox"
        },
        {
         "customdata": [
          [
           7
          ]
         ],
         "hoverlabel": {
          "namelength": 0
         },
         "hovertemplate": "<b>%{hovertext}</b><br><br>Combined_Key=Honduras<br>size=%{marker.size}<br>Recovered=%{customdata[0]}<br>Lat=%{lat}<br>Long_=%{lon}",
         "hovertext": [
          "Honduras"
         ],
         "lat": [
          15.2
         ],
         "legendgroup": "Honduras",
         "lon": [
          -86.2419
         ],
         "marker": {
          "color": "green",
          "size": [
           10.499989281263131
          ],
          "sizemode": "area",
          "sizeref": 15
         },
         "mode": "markers",
         "name": "Honduras",
         "showlegend": true,
         "subplot": "mapbox",
         "type": "scattermapbox"
        },
        {
         "customdata": [
          [
           120
          ]
         ],
         "hoverlabel": {
          "namelength": 0
         },
         "hovertemplate": "<b>%{hovertext}</b><br><br>Combined_Key=Hungary<br>size=%{marker.size}<br>Recovered=%{customdata[0]}<br>Lat=%{lat}<br>Long_=%{lon}",
         "hovertext": [
          "Hungary"
         ],
         "lat": [
          47.1625
         ],
         "legendgroup": "Hungary",
         "lon": [
          19.5033
         ],
         "marker": {
          "color": "green",
          "size": [
           179.94601943292085
          ],
          "sizemode": "area",
          "sizeref": 15
         },
         "mode": "markers",
         "name": "Hungary",
         "showlegend": true,
         "subplot": "mapbox",
         "type": "scattermapbox"
        },
        {
         "customdata": [
          [
           933
          ]
         ],
         "hoverlabel": {
          "namelength": 0
         },
         "hovertemplate": "<b>%{hovertext}</b><br><br>Combined_Key=Iceland<br>size=%{marker.size}<br>Recovered=%{customdata[0]}<br>Lat=%{lat}<br>Long_=%{lon}",
         "hovertext": [
          "Iceland"
         ],
         "lat": [
          64.9631
         ],
         "legendgroup": "Iceland",
         "lon": [
          -19.0208
         ],
         "marker": {
          "color": "green",
          "size": [
           1374.6602339616572
          ],
          "sizemode": "area",
          "sizeref": 15
         },
         "mode": "markers",
         "name": "Iceland",
         "showlegend": true,
         "subplot": "mapbox",
         "type": "scattermapbox"
        },
        {
         "customdata": [
          [
           1181
          ]
         ],
         "hoverlabel": {
          "namelength": 0
         },
         "hovertemplate": "<b>%{hovertext}</b><br><br>Combined_Key=India<br>size=%{marker.size}<br>Recovered=%{customdata[0]}<br>Lat=%{lat}<br>Long_=%{lon}",
         "hovertext": [
          "India"
         ],
         "lat": [
          20.593684
         ],
         "legendgroup": "India",
         "lon": [
          78.96288
         ],
         "marker": {
          "color": "green",
          "size": [
           1721.758328237353
          ],
          "sizemode": "area",
          "sizeref": 15
         },
         "mode": "markers",
         "name": "India",
         "showlegend": true,
         "subplot": "mapbox",
         "type": "scattermapbox"
        },
        {
         "customdata": [
          [
           380
          ]
         ],
         "hoverlabel": {
          "namelength": 0
         },
         "hovertemplate": "<b>%{hovertext}</b><br><br>Combined_Key=Indonesia<br>size=%{marker.size}<br>Recovered=%{customdata[0]}<br>Lat=%{lat}<br>Long_=%{lon}",
         "hovertext": [
          "Indonesia"
         ],
         "lat": [
          -0.7893
         ],
         "legendgroup": "Indonesia",
         "lon": [
          113.9213
         ],
         "marker": {
          "color": "green",
          "size": [
           568.2914177170713
          ],
          "sizemode": "area",
          "sizeref": 15
         },
         "mode": "markers",
         "name": "Indonesia",
         "showlegend": true,
         "subplot": "mapbox",
         "type": "scattermapbox"
        },
        {
         "customdata": [
          [
           45983
          ]
         ],
         "hoverlabel": {
          "namelength": 0
         },
         "hovertemplate": "<b>%{hovertext}</b><br><br>Combined_Key=Iran<br>size=%{marker.size}<br>Recovered=%{customdata[0]}<br>Lat=%{lat}<br>Long_=%{lon}",
         "hovertext": [
          "Iran"
         ],
         "lat": [
          32.427908
         ],
         "legendgroup": "Iran",
         "lon": [
          53.68804599999999
         ],
         "marker": {
          "color": "green",
          "size": [
           5999.999998758063
          ],
          "sizemode": "area",
          "sizeref": 15
         },
         "mode": "markers",
         "name": "Iran",
         "showlegend": true,
         "subplot": "mapbox",
         "type": "scattermapbox"
        },
        {
         "customdata": [
          [
           717
          ]
         ],
         "hoverlabel": {
          "namelength": 0
         },
         "hovertemplate": "<b>%{hovertext}</b><br><br>Combined_Key=Iraq<br>size=%{marker.size}<br>Recovered=%{customdata[0]}<br>Lat=%{lat}<br>Long_=%{lon}",
         "hovertext": [
          "Iraq"
         ],
         "lat": [
          33.223191
         ],
         "legendgroup": "Iraq",
         "lon": [
          43.679291
         ],
         "marker": {
          "color": "green",
          "size": [
           1064.1273350607937
          ],
          "sizemode": "area",
          "sizeref": 15
         },
         "mode": "markers",
         "name": "Iraq",
         "showlegend": true,
         "subplot": "mapbox",
         "type": "scattermapbox"
        },
        {
         "customdata": [
          [
           25
          ]
         ],
         "hoverlabel": {
          "namelength": 0
         },
         "hovertemplate": "<b>%{hovertext}</b><br><br>Combined_Key=Ireland<br>size=%{marker.size}<br>Recovered=%{customdata[0]}<br>Lat=%{lat}<br>Long_=%{lon}",
         "hovertext": [
          "Ireland"
         ],
         "lat": [
          53.1424
         ],
         "legendgroup": "Ireland",
         "lon": [
          -7.6921
         ],
         "marker": {
          "color": "green",
          "size": [
           37.49951172637928
          ],
          "sizemode": "area",
          "sizeref": 15
         },
         "mode": "markers",
         "name": "Ireland",
         "showlegend": true,
         "subplot": "mapbox",
         "type": "scattermapbox"
        },
        {
         "customdata": [
          [
           1855
          ]
         ],
         "hoverlabel": {
          "namelength": 0
         },
         "hovertemplate": "<b>%{hovertext}</b><br><br>Combined_Key=Israel<br>size=%{marker.size}<br>Recovered=%{customdata[0]}<br>Lat=%{lat}<br>Long_=%{lon}",
         "hovertext": [
          "Israel"
         ],
         "lat": [
          31.046051
         ],
         "legendgroup": "Israel",
         "lon": [
          34.851612
         ],
         "marker": {
          "color": "green",
          "size": [
           2598.813774692574
          ],
          "sizemode": "area",
          "sizeref": 15
         },
         "mode": "markers",
         "name": "Israel",
         "showlegend": true,
         "subplot": "mapbox",
         "type": "scattermapbox"
        },
        {
         "customdata": [
          [
           35435
          ]
         ],
         "hoverlabel": {
          "namelength": 0
         },
         "hovertemplate": "<b>%{hovertext}</b><br><br>Combined_Key=Italy<br>size=%{marker.size}<br>Recovered=%{customdata[0]}<br>Lat=%{lat}<br>Long_=%{lon}",
         "hovertext": [
          "Italy"
         ],
         "lat": [
          41.87194
         ],
         "legendgroup": "Italy",
         "lon": [
          12.56738
         ],
         "marker": {
          "color": "green",
          "size": [
           5999.999757579829
          ],
          "sizemode": "area",
          "sizeref": 15
         },
         "mode": "markers",
         "name": "Italy",
         "showlegend": true,
         "subplot": "mapbox",
         "type": "scattermapbox"
        },
        {
         "customdata": [
          [
           19
          ]
         ],
         "hoverlabel": {
          "namelength": 0
         },
         "hovertemplate": "<b>%{hovertext}</b><br><br>Combined_Key=Jamaica<br>size=%{marker.size}<br>Recovered=%{customdata[0]}<br>Lat=%{lat}<br>Long_=%{lon}",
         "hovertext": [
          "Jamaica"
         ],
         "lat": [
          18.1096
         ],
         "legendgroup": "Jamaica",
         "lon": [
          -77.2975
         ],
         "marker": {
          "color": "green",
          "size": [
           28.499785658184436
          ],
          "sizemode": "area",
          "sizeref": 15
         },
         "mode": "markers",
         "name": "Jamaica",
         "showlegend": true,
         "subplot": "mapbox",
         "type": "scattermapbox"
        },
        {
         "customdata": [
          [
           784
          ]
         ],
         "hoverlabel": {
          "namelength": 0
         },
         "hovertemplate": "<b>%{hovertext}</b><br><br>Combined_Key=Japan<br>size=%{marker.size}<br>Recovered=%{customdata[0]}<br>Lat=%{lat}<br>Long_=%{lon}",
         "hovertext": [
          "Japan"
         ],
         "lat": [
          36.204824
         ],
         "legendgroup": "Japan",
         "lon": [
          138.252924
         ],
         "marker": {
          "color": "green",
          "size": [
           1161.1687887053572
          ],
          "sizemode": "area",
          "sizeref": 15
         },
         "mode": "markers",
         "name": "Japan",
         "showlegend": true,
         "subplot": "mapbox",
         "type": "scattermapbox"
        },
        {
         "customdata": [
          [
           215
          ]
         ],
         "hoverlabel": {
          "namelength": 0
         },
         "hovertemplate": "<b>%{hovertext}</b><br><br>Combined_Key=Jordan<br>size=%{marker.size}<br>Recovered=%{customdata[0]}<br>Lat=%{lat}<br>Long_=%{lon}",
         "hovertext": [
          "Jordan"
         ],
         "lat": [
          31.24
         ],
         "legendgroup": "Jordan",
         "lon": [
          36.51
         ],
         "marker": {
          "color": "green",
          "size": [
           322.1897842693724
          ],
          "sizemode": "area",
          "sizeref": 15
         },
         "mode": "markers",
         "name": "Jordan",
         "showlegend": true,
         "subplot": "mapbox",
         "type": "scattermapbox"
        },
        {
         "customdata": [
          [
           138
          ]
         ],
         "hoverlabel": {
          "namelength": 0
         },
         "hovertemplate": "<b>%{hovertext}</b><br><br>Combined_Key=Kazakhstan<br>size=%{marker.size}<br>Recovered=%{customdata[0]}<br>Lat=%{lat}<br>Long_=%{lon}",
         "hovertext": [
          "Kazakhstan"
         ],
         "lat": [
          48.0196
         ],
         "legendgroup": "Kazakhstan",
         "lon": [
          66.9237
         ],
         "marker": {
          "color": "green",
          "size": [
           206.91791183195534
          ],
          "sizemode": "area",
          "sizeref": 15
         },
         "mode": "markers",
         "name": "Kazakhstan",
         "showlegend": true,
         "subplot": "mapbox",
         "type": "scattermapbox"
        },
        {
         "customdata": [
          [
           40
          ]
         ],
         "hoverlabel": {
          "namelength": 0
         },
         "hovertemplate": "<b>%{hovertext}</b><br><br>Combined_Key=Kenya<br>size=%{marker.size}<br>Recovered=%{customdata[0]}<br>Lat=%{lat}<br>Long_=%{lon}",
         "hovertext": [
          "Kenya"
         ],
         "lat": [
          -0.0236
         ],
         "legendgroup": "Kenya",
         "lon": [
          37.9062
         ],
         "marker": {
          "color": "green",
          "size": [
           59.998000079996764
          ],
          "sizemode": "area",
          "sizeref": 15
         },
         "mode": "markers",
         "name": "Kenya",
         "showlegend": true,
         "subplot": "mapbox",
         "type": "scattermapbox"
        },
        {
         "customdata": [
          [
           7447
          ]
         ],
         "hoverlabel": {
          "namelength": 0
         },
         "hovertemplate": "<b>%{hovertext}</b><br><br>Combined_Key=Korea, South<br>size=%{marker.size}<br>Recovered=%{customdata[0]}<br>Lat=%{lat}<br>Long_=%{lon}",
         "hovertext": [
          "Korea, South"
         ],
         "lat": [
          35.90775700000001
         ],
         "legendgroup": "Korea, South",
         "lon": [
          127.766922
         ],
         "marker": {
          "color": "green",
          "size": [
           5717.041677999213
          ],
          "sizemode": "area",
          "sizeref": 15
         },
         "mode": "markers",
         "name": "Korea, South",
         "showlegend": true,
         "subplot": "mapbox",
         "type": "scattermapbox"
        },
        {
         "customdata": [
          [
           58
          ]
         ],
         "hoverlabel": {
          "namelength": 0
         },
         "hovertemplate": "<b>%{hovertext}</b><br><br>Combined_Key=Kosovo<br>size=%{marker.size}<br>Recovered=%{customdata[0]}<br>Lat=%{lat}<br>Long_=%{lon}",
         "hovertext": [
          "Kosovo"
         ],
         "lat": [
          42.602636
         ],
         "legendgroup": "Kosovo",
         "lon": [
          20.902977
         ],
         "marker": {
          "color": "green",
          "size": [
           86.99390326273509
          ],
          "sizemode": "area",
          "sizeref": 15
         },
         "mode": "markers",
         "name": "Kosovo",
         "showlegend": true,
         "subplot": "mapbox",
         "type": "scattermapbox"
        },
        {
         "customdata": [
          [
           150
          ]
         ],
         "hoverlabel": {
          "namelength": 0
         },
         "hovertemplate": "<b>%{hovertext}</b><br><br>Combined_Key=Kuwait<br>size=%{marker.size}<br>Recovered=%{customdata[0]}<br>Lat=%{lat}<br>Long_=%{lon}",
         "hovertext": [
          "Kuwait"
         ],
         "lat": [
          29.31166
         ],
         "legendgroup": "Kuwait",
         "lon": [
          47.481766
         ],
         "marker": {
          "color": "green",
          "size": [
           224.89459054242283
          ],
          "sizemode": "area",
          "sizeref": 15
         },
         "mode": "markers",
         "name": "Kuwait",
         "showlegend": true,
         "subplot": "mapbox",
         "type": "scattermapbox"
        },
        {
         "customdata": [
          [
           67
          ]
         ],
         "hoverlabel": {
          "namelength": 0
         },
         "hovertemplate": "<b>%{hovertext}</b><br><br>Combined_Key=Kyrgyzstan<br>size=%{marker.size}<br>Recovered=%{customdata[0]}<br>Lat=%{lat}<br>Long_=%{lon}",
         "hovertext": [
          "Kyrgyzstan"
         ],
         "lat": [
          41.20438
         ],
         "legendgroup": "Kyrgyzstan",
         "lon": [
          74.766098
         ],
         "marker": {
          "color": "green",
          "size": [
           100.49060221091547
          ],
          "sizemode": "area",
          "sizeref": 15
         },
         "mode": "markers",
         "name": "Kyrgyzstan",
         "showlegend": true,
         "subplot": "mapbox",
         "type": "scattermapbox"
        },
        {
         "customdata": [
          [
           0
          ]
         ],
         "hoverlabel": {
          "namelength": 0
         },
         "hovertemplate": "<b>%{hovertext}</b><br><br>Combined_Key=Laos<br>size=%{marker.size}<br>Recovered=%{customdata[0]}<br>Lat=%{lat}<br>Long_=%{lon}",
         "hovertext": [
          "Laos"
         ],
         "lat": [
          19.85627
         ],
         "legendgroup": "Laos",
         "lon": [
          102.495496
         ],
         "marker": {
          "color": "green",
          "size": [
           0
          ],
          "sizemode": "area",
          "sizeref": 15
         },
         "mode": "markers",
         "name": "Laos",
         "showlegend": true,
         "subplot": "mapbox",
         "type": "scattermapbox"
        },
        {
         "customdata": [
          [
           16
          ]
         ],
         "hoverlabel": {
          "namelength": 0
         },
         "hovertemplate": "<b>%{hovertext}</b><br><br>Combined_Key=Latvia<br>size=%{marker.size}<br>Recovered=%{customdata[0]}<br>Lat=%{lat}<br>Long_=%{lon}",
         "hovertext": [
          "Latvia"
         ],
         "lat": [
          56.8796
         ],
         "legendgroup": "Latvia",
         "lon": [
          24.6032
         ],
         "marker": {
          "color": "green",
          "size": [
           23.999872000819195
          ],
          "sizemode": "area",
          "sizeref": 15
         },
         "mode": "markers",
         "name": "Latvia",
         "showlegend": true,
         "subplot": "mapbox",
         "type": "scattermapbox"
        },
        {
         "customdata": [
          [
           80
          ]
         ],
         "hoverlabel": {
          "namelength": 0
         },
         "hovertemplate": "<b>%{hovertext}</b><br><br>Combined_Key=Lebanon<br>size=%{marker.size}<br>Recovered=%{customdata[0]}<br>Lat=%{lat}<br>Long_=%{lon}",
         "hovertext": [
          "Lebanon"
         ],
         "lat": [
          33.8547
         ],
         "legendgroup": "Lebanon",
         "lon": [
          35.8623
         ],
         "marker": {
          "color": "green",
          "size": [
           119.98400255958558
          ],
          "sizemode": "area",
          "sizeref": 15
         },
         "mode": "markers",
         "name": "Lebanon",
         "showlegend": true,
         "subplot": "mapbox",
         "type": "scattermapbox"
        },
        {
         "customdata": [
          [
           4
          ]
         ],
         "hoverlabel": {
          "namelength": 0
         },
         "hovertemplate": "<b>%{hovertext}</b><br><br>Combined_Key=Liberia<br>size=%{marker.size}<br>Recovered=%{customdata[0]}<br>Lat=%{lat}<br>Long_=%{lon}",
         "hovertext": [
          "Liberia"
         ],
         "lat": [
          6.4280550000000005
         ],
         "legendgroup": "Liberia",
         "lon": [
          -9.429499
         ],
         "marker": {
          "color": "green",
          "size": [
           5.9999980000008
          ],
          "sizemode": "area",
          "sizeref": 15
         },
         "mode": "markers",
         "name": "Liberia",
         "showlegend": true,
         "subplot": "mapbox",
         "type": "scattermapbox"
        },
        {
         "customdata": [
          [
           9
          ]
         ],
         "hoverlabel": {
          "namelength": 0
         },
         "hovertemplate": "<b>%{hovertext}</b><br><br>Combined_Key=Libya<br>size=%{marker.size}<br>Recovered=%{customdata[0]}<br>Lat=%{lat}<br>Long_=%{lon}",
         "hovertext": [
          "Libya"
         ],
         "lat": [
          26.3351
         ],
         "legendgroup": "Libya",
         "lon": [
          17.228331
         ],
         "marker": {
          "color": "green",
          "size": [
           13.49997721879613
          ],
          "sizemode": "area",
          "sizeref": 15
         },
         "mode": "markers",
         "name": "Libya",
         "showlegend": true,
         "subplot": "mapbox",
         "type": "scattermapbox"
        },
        {
         "customdata": [
          [
           55
          ]
         ],
         "hoverlabel": {
          "namelength": 0
         },
         "hovertemplate": "<b>%{hovertext}</b><br><br>Combined_Key=Liechtenstein<br>size=%{marker.size}<br>Recovered=%{customdata[0]}<br>Lat=%{lat}<br>Long_=%{lon}",
         "hovertext": [
          "Liechtenstein"
         ],
         "lat": [
          47.14
         ],
         "legendgroup": "Liechtenstein",
         "lon": [
          9.55
         ],
         "marker": {
          "color": "green",
          "size": [
           82.49480117441082
          ],
          "sizemode": "area",
          "sizeref": 15
         },
         "mode": "markers",
         "name": "Liechtenstein",
         "showlegend": true,
         "subplot": "mapbox",
         "type": "scattermapbox"
        },
        {
         "customdata": [
          [
           101
          ]
         ],
         "hoverlabel": {
          "namelength": 0
         },
         "hovertemplate": "<b>%{hovertext}</b><br><br>Combined_Key=Lithuania<br>size=%{marker.size}<br>Recovered=%{customdata[0]}<br>Lat=%{lat}<br>Long_=%{lon}",
         "hovertext": [
          "Lithuania"
         ],
         "lat": [
          55.1694
         ],
         "legendgroup": "Lithuania",
         "lon": [
          23.8813
         ],
         "marker": {
          "color": "green",
          "size": [
           151.46781130264762
          ],
          "sizemode": "area",
          "sizeref": 15
         },
         "mode": "markers",
         "name": "Lithuania",
         "showlegend": true,
         "subplot": "mapbox",
         "type": "scattermapbox"
        },
        {
         "customdata": [
          [
           500
          ]
         ],
         "hoverlabel": {
          "namelength": 0
         },
         "hovertemplate": "<b>%{hovertext}</b><br><br>Combined_Key=Luxembourg<br>size=%{marker.size}<br>Recovered=%{customdata[0]}<br>Lat=%{lat}<br>Long_=%{lon}",
         "hovertext": [
          "Luxembourg"
         ],
         "lat": [
          49.8153
         ],
         "legendgroup": "Luxembourg",
         "lon": [
          6.1296
         ],
         "marker": {
          "color": "green",
          "size": [
           746.1180106295772
          ],
          "sizemode": "area",
          "sizeref": 15
         },
         "mode": "markers",
         "name": "Luxembourg",
         "showlegend": true,
         "subplot": "mapbox",
         "type": "scattermapbox"
        },
        {
         "customdata": [
          [
           0
          ]
         ],
         "hoverlabel": {
          "namelength": 0
         },
         "hovertemplate": "<b>%{hovertext}</b><br><br>Combined_Key=MS Zaandam<br>size=%{marker.size}<br>Recovered=%{customdata[0]}<br>Lat=%{lat}<br>Long_=%{lon}",
         "hovertext": [
          "MS Zaandam"
         ],
         "lat": [
          null
         ],
         "legendgroup": "MS Zaandam",
         "lon": [
          null
         ],
         "marker": {
          "color": "green",
          "size": [
           0
          ],
          "sizemode": "area",
          "sizeref": 15
         },
         "mode": "markers",
         "name": "MS Zaandam",
         "showlegend": true,
         "subplot": "mapbox",
         "type": "scattermapbox"
        },
        {
         "customdata": [
          [
           21
          ]
         ],
         "hoverlabel": {
          "namelength": 0
         },
         "hovertemplate": "<b>%{hovertext}</b><br><br>Combined_Key=Madagascar<br>size=%{marker.size}<br>Recovered=%{customdata[0]}<br>Lat=%{lat}<br>Long_=%{lon}",
         "hovertext": [
          "Madagascar"
         ],
         "lat": [
          -18.766947
         ],
         "legendgroup": "Madagascar",
         "lon": [
          46.869107
         ],
         "marker": {
          "color": "green",
          "size": [
           31.499710596940673
          ],
          "sizemode": "area",
          "sizeref": 15
         },
         "mode": "markers",
         "name": "Madagascar",
         "showlegend": true,
         "subplot": "mapbox",
         "type": "scattermapbox"
        },
        {
         "customdata": [
          [
           0
          ]
         ],
         "hoverlabel": {
          "namelength": 0
         },
         "hovertemplate": "<b>%{hovertext}</b><br><br>Combined_Key=Malawi<br>size=%{marker.size}<br>Recovered=%{customdata[0]}<br>Lat=%{lat}<br>Long_=%{lon}",
         "hovertext": [
          "Malawi"
         ],
         "lat": [
          -13.254307999999998
         ],
         "legendgroup": "Malawi",
         "lon": [
          34.301525
         ],
         "marker": {
          "color": "green",
          "size": [
           0
          ],
          "sizemode": "area",
          "sizeref": 15
         },
         "mode": "markers",
         "name": "Malawi",
         "showlegend": true,
         "subplot": "mapbox",
         "type": "scattermapbox"
        },
        {
         "customdata": [
          [
           2276
          ]
         ],
         "hoverlabel": {
          "namelength": 0
         },
         "hovertemplate": "<b>%{hovertext}</b><br><br>Combined_Key=Malaysia<br>size=%{marker.size}<br>Recovered=%{customdata[0]}<br>Lat=%{lat}<br>Long_=%{lon}",
         "hovertext": [
          "Malaysia"
         ],
         "lat": [
          4.210483999999999
         ],
         "legendgroup": "Malaysia",
         "lon": [
          101.975766
         ],
         "marker": {
          "color": "green",
          "size": [
           3087.746968562412
          ],
          "sizemode": "area",
          "sizeref": 15
         },
         "mode": "markers",
         "name": "Malaysia",
         "showlegend": true,
         "subplot": "mapbox",
         "type": "scattermapbox"
        },
        {
         "customdata": [
          [
           14
          ]
         ],
         "hoverlabel": {
          "namelength": 0
         },
         "hovertemplate": "<b>%{hovertext}</b><br><br>Combined_Key=Maldives<br>size=%{marker.size}<br>Recovered=%{customdata[0]}<br>Lat=%{lat}<br>Long_=%{lon}",
         "hovertext": [
          "Maldives"
         ],
         "lat": [
          3.2028
         ],
         "legendgroup": "Maldives",
         "lon": [
          73.2207
         ],
         "marker": {
          "color": "green",
          "size": [
           20.999914250420172
          ],
          "sizemode": "area",
          "sizeref": 15
         },
         "mode": "markers",
         "name": "Maldives",
         "showlegend": true,
         "subplot": "mapbox",
         "type": "scattermapbox"
        },
        {
         "customdata": [
          [
           26
          ]
         ],
         "hoverlabel": {
          "namelength": 0
         },
         "hovertemplate": "<b>%{hovertext}</b><br><br>Combined_Key=Mali<br>size=%{marker.size}<br>Recovered=%{customdata[0]}<br>Lat=%{lat}<br>Long_=%{lon}",
         "hovertext": [
          "Mali"
         ],
         "lat": [
          17.570692
         ],
         "legendgroup": "Mali",
         "lon": [
          -3.996166000000001
         ],
         "marker": {
          "color": "green",
          "size": [
           38.99945075928216
          ],
          "sizemode": "area",
          "sizeref": 15
         },
         "mode": "markers",
         "name": "Mali",
         "showlegend": true,
         "subplot": "mapbox",
         "type": "scattermapbox"
        },
        {
         "customdata": [
          [
           44
          ]
         ],
         "hoverlabel": {
          "namelength": 0
         },
         "hovertemplate": "<b>%{hovertext}</b><br><br>Combined_Key=Malta<br>size=%{marker.size}<br>Recovered=%{customdata[0]}<br>Lat=%{lat}<br>Long_=%{lon}",
         "hovertext": [
          "Malta"
         ],
         "lat": [
          35.9375
         ],
         "legendgroup": "Malta",
         "lon": [
          14.3754
         ],
         "marker": {
          "color": "green",
          "size": [
           65.99733812883449
          ],
          "sizemode": "area",
          "sizeref": 15
         },
         "mode": "markers",
         "name": "Malta",
         "showlegend": true,
         "subplot": "mapbox",
         "type": "scattermapbox"
        },
        {
         "customdata": [
          [
           2
          ]
         ],
         "hoverlabel": {
          "namelength": 0
         },
         "hovertemplate": "<b>%{hovertext}</b><br><br>Combined_Key=Mauritania<br>size=%{marker.size}<br>Recovered=%{customdata[0]}<br>Lat=%{lat}<br>Long_=%{lon}",
         "hovertext": [
          "Mauritania"
         ],
         "lat": [
          21.0079
         ],
         "legendgroup": "Mauritania",
         "lon": [
          -10.9408
         ],
         "marker": {
          "color": "green",
          "size": [
           2.9999997500000255
          ],
          "sizemode": "area",
          "sizeref": 15
         },
         "mode": "markers",
         "name": "Mauritania",
         "showlegend": true,
         "subplot": "mapbox",
         "type": "scattermapbox"
        },
        {
         "customdata": [
          [
           42
          ]
         ],
         "hoverlabel": {
          "namelength": 0
         },
         "hovertemplate": "<b>%{hovertext}</b><br><br>Combined_Key=Mauritius<br>size=%{marker.size}<br>Recovered=%{customdata[0]}<br>Lat=%{lat}<br>Long_=%{lon}",
         "hovertext": [
          "Mauritius"
         ],
         "lat": [
          -20.348404
         ],
         "legendgroup": "Mauritius",
         "lon": [
          57.552152
         ],
         "marker": {
          "color": "green",
          "size": [
           62.99768485209797
          ],
          "sizemode": "area",
          "sizeref": 15
         },
         "mode": "markers",
         "name": "Mauritius",
         "showlegend": true,
         "subplot": "mapbox",
         "type": "scattermapbox"
        },
        {
         "customdata": [
          [
           1843
          ]
         ],
         "hoverlabel": {
          "namelength": 0
         },
         "hovertemplate": "<b>%{hovertext}</b><br><br>Combined_Key=Mexico<br>size=%{marker.size}<br>Recovered=%{customdata[0]}<br>Lat=%{lat}<br>Long_=%{lon}",
         "hovertext": [
          "Mexico"
         ],
         "lat": [
          23.6345
         ],
         "legendgroup": "Mexico",
         "lon": [
          -102.5528
         ],
         "marker": {
          "color": "green",
          "size": [
           2584.171709135681
          ],
          "sizemode": "area",
          "sizeref": 15
         },
         "mode": "markers",
         "name": "Mexico",
         "showlegend": true,
         "subplot": "mapbox",
         "type": "scattermapbox"
        },
        {
         "customdata": [
          [
           107
          ]
         ],
         "hoverlabel": {
          "namelength": 0
         },
         "hovertemplate": "<b>%{hovertext}</b><br><br>Combined_Key=Moldova<br>size=%{marker.size}<br>Recovered=%{customdata[0]}<br>Lat=%{lat}<br>Long_=%{lon}",
         "hovertext": [
          "Moldova"
         ],
         "lat": [
          47.4116
         ],
         "legendgroup": "Moldova",
         "lon": [
          28.3699
         ],
         "marker": {
          "color": "green",
          "size": [
           160.4617283605127
          ],
          "sizemode": "area",
          "sizeref": 15
         },
         "mode": "markers",
         "name": "Moldova",
         "showlegend": true,
         "subplot": "mapbox",
         "type": "scattermapbox"
        },
        {
         "customdata": [
          [
           6
          ]
         ],
         "hoverlabel": {
          "namelength": 0
         },
         "hovertemplate": "<b>%{hovertext}</b><br><br>Combined_Key=Monaco<br>size=%{marker.size}<br>Recovered=%{customdata[0]}<br>Lat=%{lat}<br>Long_=%{lon}",
         "hovertext": [
          "Monaco"
         ],
         "lat": [
          43.7333
         ],
         "legendgroup": "Monaco",
         "lon": [
          7.4167
         ],
         "marker": {
          "color": "green",
          "size": [
           8.999993250006076
          ],
          "sizemode": "area",
          "sizeref": 15
         },
         "mode": "markers",
         "name": "Monaco",
         "showlegend": true,
         "subplot": "mapbox",
         "type": "scattermapbox"
        },
        {
         "customdata": [
          [
           4
          ]
         ],
         "hoverlabel": {
          "namelength": 0
         },
         "hovertemplate": "<b>%{hovertext}</b><br><br>Combined_Key=Mongolia<br>size=%{marker.size}<br>Recovered=%{customdata[0]}<br>Lat=%{lat}<br>Long_=%{lon}",
         "hovertext": [
          "Mongolia"
         ],
         "lat": [
          46.8625
         ],
         "legendgroup": "Mongolia",
         "lon": [
          103.8467
         ],
         "marker": {
          "color": "green",
          "size": [
           5.9999980000008
          ],
          "sizemode": "area",
          "sizeref": 15
         },
         "mode": "markers",
         "name": "Mongolia",
         "showlegend": true,
         "subplot": "mapbox",
         "type": "scattermapbox"
        },
        {
         "customdata": [
          [
           5
          ]
         ],
         "hoverlabel": {
          "namelength": 0
         },
         "hovertemplate": "<b>%{hovertext}</b><br><br>Combined_Key=Montenegro<br>size=%{marker.size}<br>Recovered=%{customdata[0]}<br>Lat=%{lat}<br>Long_=%{lon}",
         "hovertext": [
          "Montenegro"
         ],
         "lat": [
          42.708678000000006
         ],
         "legendgroup": "Montenegro",
         "lon": [
          19.37439
         ],
         "marker": {
          "color": "green",
          "size": [
           7.499996093752441
          ],
          "sizemode": "area",
          "sizeref": 15
         },
         "mode": "markers",
         "name": "Montenegro",
         "showlegend": true,
         "subplot": "mapbox",
         "type": "scattermapbox"
        },
        {
         "customdata": [
          [
           203
          ]
         ],
         "hoverlabel": {
          "namelength": 0
         },
         "hovertemplate": "<b>%{hovertext}</b><br><br>Combined_Key=Morocco<br>size=%{marker.size}<br>Recovered=%{customdata[0]}<br>Lat=%{lat}<br>Long_=%{lon}",
         "hovertext": [
          "Morocco"
         ],
         "lat": [
          31.7917
         ],
         "legendgroup": "Morocco",
         "lon": [
          -7.0926
         ],
         "marker": {
          "color": "green",
          "size": [
           304.23884944677934
          ],
          "sizemode": "area",
          "sizeref": 15
         },
         "mode": "markers",
         "name": "Morocco",
         "showlegend": true,
         "subplot": "mapbox",
         "type": "scattermapbox"
        },
        {
         "customdata": [
          [
           2
          ]
         ],
         "hoverlabel": {
          "namelength": 0
         },
         "hovertemplate": "<b>%{hovertext}</b><br><br>Combined_Key=Mozambique<br>size=%{marker.size}<br>Recovered=%{customdata[0]}<br>Lat=%{lat}<br>Long_=%{lon}",
         "hovertext": [
          "Mozambique"
         ],
         "lat": [
          -18.665695
         ],
         "legendgroup": "Mozambique",
         "lon": [
          35.529562
         ],
         "marker": {
          "color": "green",
          "size": [
           2.9999997500000255
          ],
          "sizemode": "area",
          "sizeref": 15
         },
         "mode": "markers",
         "name": "Mozambique",
         "showlegend": true,
         "subplot": "mapbox",
         "type": "scattermapbox"
        },
        {
         "customdata": [
          [
           3
          ]
         ],
         "hoverlabel": {
          "namelength": 0
         },
         "hovertemplate": "<b>%{hovertext}</b><br><br>Combined_Key=Namibia<br>size=%{marker.size}<br>Recovered=%{customdata[0]}<br>Lat=%{lat}<br>Long_=%{lon}",
         "hovertext": [
          "Namibia"
         ],
         "lat": [
          -22.9576
         ],
         "legendgroup": "Namibia",
         "lon": [
          18.4904
         ],
         "marker": {
          "color": "green",
          "size": [
           4.4999991562501895
          ],
          "sizemode": "area",
          "sizeref": 15
         },
         "mode": "markers",
         "name": "Namibia",
         "showlegend": true,
         "subplot": "mapbox",
         "type": "scattermapbox"
        },
        {
         "customdata": [
          [
           1
          ]
         ],
         "hoverlabel": {
          "namelength": 0
         },
         "hovertemplate": "<b>%{hovertext}</b><br><br>Combined_Key=Nepal<br>size=%{marker.size}<br>Recovered=%{customdata[0]}<br>Lat=%{lat}<br>Long_=%{lon}",
         "hovertext": [
          "Nepal"
         ],
         "lat": [
          28.1667
         ],
         "legendgroup": "Nepal",
         "lon": [
          84.25
         ],
         "marker": {
          "color": "green",
          "size": [
           1.4999999687500007
          ],
          "sizemode": "area",
          "sizeref": 15
         },
         "mode": "markers",
         "name": "Nepal",
         "showlegend": true,
         "subplot": "mapbox",
         "type": "scattermapbox"
        },
        {
         "customdata": [
          [
           546
          ]
         ],
         "hoverlabel": {
          "namelength": 0
         },
         "hovertemplate": "<b>%{hovertext}</b><br><br>Combined_Key=New Zealand<br>size=%{marker.size}<br>Recovered=%{customdata[0]}<br>Lat=%{lat}<br>Long_=%{lon}",
         "hovertext": [
          "New Zealand"
         ],
         "lat": [
          -40.9006
         ],
         "legendgroup": "New Zealand",
         "lon": [
          174.886
         ],
         "marker": {
          "color": "green",
          "size": [
           813.9510219426461
          ],
          "sizemode": "area",
          "sizeref": 15
         },
         "mode": "markers",
         "name": "New Zealand",
         "showlegend": true,
         "subplot": "mapbox",
         "type": "scattermapbox"
        },
        {
         "customdata": [
          [
           4
          ]
         ],
         "hoverlabel": {
          "namelength": 0
         },
         "hovertemplate": "<b>%{hovertext}</b><br><br>Combined_Key=Nicaragua<br>size=%{marker.size}<br>Recovered=%{customdata[0]}<br>Lat=%{lat}<br>Long_=%{lon}",
         "hovertext": [
          "Nicaragua"
         ],
         "lat": [
          12.865416
         ],
         "legendgroup": "Nicaragua",
         "lon": [
          -85.207229
         ],
         "marker": {
          "color": "green",
          "size": [
           5.9999980000008
          ],
          "sizemode": "area",
          "sizeref": 15
         },
         "mode": "markers",
         "name": "Nicaragua",
         "showlegend": true,
         "subplot": "mapbox",
         "type": "scattermapbox"
        },
        {
         "customdata": [
          [
           75
          ]
         ],
         "hoverlabel": {
          "namelength": 0
         },
         "hovertemplate": "<b>%{hovertext}</b><br><br>Combined_Key=Niger<br>size=%{marker.size}<br>Recovered=%{customdata[0]}<br>Lat=%{lat}<br>Long_=%{lon}",
         "hovertext": [
          "Niger"
         ],
         "lat": [
          17.607789
         ],
         "legendgroup": "Niger",
         "lon": [
          8.081666
         ],
         "marker": {
          "color": "green",
          "size": [
           112.48681825992908
          ],
          "sizemode": "area",
          "sizeref": 15
         },
         "mode": "markers",
         "name": "Niger",
         "showlegend": true,
         "subplot": "mapbox",
         "type": "scattermapbox"
        },
        {
         "customdata": [
          [
           91
          ]
         ],
         "hoverlabel": {
          "namelength": 0
         },
         "hovertemplate": "<b>%{hovertext}</b><br><br>Combined_Key=Nigeria<br>size=%{marker.size}<br>Recovered=%{customdata[0]}<br>Lat=%{lat}<br>Long_=%{lon}",
         "hovertext": [
          "Nigeria"
         ],
         "lat": [
          9.082
         ],
         "legendgroup": "Nigeria",
         "lon": [
          8.6753
         ],
         "marker": {
          "color": "green",
          "size": [
           136.47645578048002
          ],
          "sizemode": "area",
          "sizeref": 15
         },
         "mode": "markers",
         "name": "Nigeria",
         "showlegend": true,
         "subplot": "mapbox",
         "type": "scattermapbox"
        },
        {
         "customdata": [
          [
           44
          ]
         ],
         "hoverlabel": {
          "namelength": 0
         },
         "hovertemplate": "<b>%{hovertext}</b><br><br>Combined_Key=North Macedonia<br>size=%{marker.size}<br>Recovered=%{customdata[0]}<br>Lat=%{lat}<br>Long_=%{lon}",
         "hovertext": [
          "North Macedonia"
         ],
         "lat": [
          41.6086
         ],
         "legendgroup": "North Macedonia",
         "lon": [
          21.7453
         ],
         "marker": {
          "color": "green",
          "size": [
           65.99733812883449
          ],
          "sizemode": "area",
          "sizeref": 15
         },
         "mode": "markers",
         "name": "North Macedonia",
         "showlegend": true,
         "subplot": "mapbox",
         "type": "scattermapbox"
        },
        {
         "customdata": [
          [
           32
          ]
         ],
         "hoverlabel": {
          "namelength": 0
         },
         "hovertemplate": "<b>%{hovertext}</b><br><br>Combined_Key=Norway<br>size=%{marker.size}<br>Recovered=%{customdata[0]}<br>Lat=%{lat}<br>Long_=%{lon}",
         "hovertext": [
          "Norway"
         ],
         "lat": [
          60.472
         ],
         "legendgroup": "Norway",
         "lon": [
          8.4689
         ],
         "marker": {
          "color": "green",
          "size": [
           47.998976026213725
          ],
          "sizemode": "area",
          "sizeref": 15
         },
         "mode": "markers",
         "name": "Norway",
         "showlegend": true,
         "subplot": "mapbox",
         "type": "scattermapbox"
        },
        {
         "customdata": [
          [
           124
          ]
         ],
         "hoverlabel": {
          "namelength": 0
         },
         "hovertemplate": "<b>%{hovertext}</b><br><br>Combined_Key=Oman<br>size=%{marker.size}<br>Recovered=%{customdata[0]}<br>Lat=%{lat}<br>Long_=%{lon}",
         "hovertext": [
          "Oman"
         ],
         "lat": [
          21.512583
         ],
         "legendgroup": "Oman",
         "lon": [
          55.92325500000001
         ],
         "marker": {
          "color": "green",
          "size": [
           185.94044089441542
          ],
          "sizemode": "area",
          "sizeref": 15
         },
         "mode": "markers",
         "name": "Oman",
         "showlegend": true,
         "subplot": "mapbox",
         "type": "scattermapbox"
        },
        {
         "customdata": [
          [
           1095
          ]
         ],
         "hoverlabel": {
          "namelength": 0
         },
         "hovertemplate": "<b>%{hovertext}</b><br><br>Combined_Key=Pakistan<br>size=%{marker.size}<br>Recovered=%{customdata[0]}<br>Lat=%{lat}<br>Long_=%{lon}",
         "hovertext": [
          "Pakistan"
         ],
         "lat": [
          30.3753
         ],
         "legendgroup": "Pakistan",
         "lon": [
          69.3451
         ],
         "marker": {
          "color": "green",
          "size": [
           1602.6645316413005
          ],
          "sizemode": "area",
          "sizeref": 15
         },
         "mode": "markers",
         "name": "Pakistan",
         "showlegend": true,
         "subplot": "mapbox",
         "type": "scattermapbox"
        },
        {
         "customdata": [
          [
           29
          ]
         ],
         "hoverlabel": {
          "namelength": 0
         },
         "hovertemplate": "<b>%{hovertext}</b><br><br>Combined_Key=Panama<br>size=%{marker.size}<br>Recovered=%{customdata[0]}<br>Lat=%{lat}<br>Long_=%{lon}",
         "hovertext": [
          "Panama"
         ],
         "lat": [
          8.538
         ],
         "legendgroup": "Panama",
         "lon": [
          -80.7821
         ],
         "marker": {
          "color": "green",
          "size": [
           43.49923785977399
          ],
          "sizemode": "area",
          "sizeref": 15
         },
         "mode": "markers",
         "name": "Panama",
         "showlegend": true,
         "subplot": "mapbox",
         "type": "scattermapbox"
        },
        {
         "customdata": [
          [
           0
          ]
         ],
         "hoverlabel": {
          "namelength": 0
         },
         "hovertemplate": "<b>%{hovertext}</b><br><br>Combined_Key=Papua New Guinea<br>size=%{marker.size}<br>Recovered=%{customdata[0]}<br>Lat=%{lat}<br>Long_=%{lon}",
         "hovertext": [
          "Papua New Guinea"
         ],
         "lat": [
          -6.314993
         ],
         "legendgroup": "Papua New Guinea",
         "lon": [
          143.95555
         ],
         "marker": {
          "color": "green",
          "size": [
           0
          ],
          "sizemode": "area",
          "sizeref": 15
         },
         "mode": "markers",
         "name": "Papua New Guinea",
         "showlegend": true,
         "subplot": "mapbox",
         "type": "scattermapbox"
        },
        {
         "customdata": [
          [
           22
          ]
         ],
         "hoverlabel": {
          "namelength": 0
         },
         "hovertemplate": "<b>%{hovertext}</b><br><br>Combined_Key=Paraguay<br>size=%{marker.size}<br>Recovered=%{customdata[0]}<br>Lat=%{lat}<br>Long_=%{lon}",
         "hovertext": [
          "Paraguay"
         ],
         "lat": [
          -23.4425
         ],
         "legendgroup": "Paraguay",
         "lon": [
          -58.4438
         ],
         "marker": {
          "color": "green",
          "size": [
           32.99966725402622
          ],
          "sizemode": "area",
          "sizeref": 15
         },
         "mode": "markers",
         "name": "Paraguay",
         "showlegend": true,
         "subplot": "mapbox",
         "type": "scattermapbox"
        },
        {
         "customdata": [
          [
           2642
          ]
         ],
         "hoverlabel": {
          "namelength": 0
         },
         "hovertemplate": "<b>%{hovertext}</b><br><br>Combined_Key=Peru<br>size=%{marker.size}<br>Recovered=%{customdata[0]}<br>Lat=%{lat}<br>Long_=%{lon}",
         "hovertext": [
          "Peru"
         ],
         "lat": [
          -9.19
         ],
         "legendgroup": "Peru",
         "lon": [
          -75.0152
         ],
         "marker": {
          "color": "green",
          "size": [
           3472.17638820742
          ],
          "sizemode": "area",
          "sizeref": 15
         },
         "mode": "markers",
         "name": "Peru",
         "showlegend": true,
         "subplot": "mapbox",
         "type": "scattermapbox"
        },
        {
         "customdata": [
          [
           242
          ]
         ],
         "hoverlabel": {
          "namelength": 0
         },
         "hovertemplate": "<b>%{hovertext}</b><br><br>Combined_Key=Philippines<br>size=%{marker.size}<br>Recovered=%{customdata[0]}<br>Lat=%{lat}<br>Long_=%{lon}",
         "hovertext": [
          "Philippines"
         ],
         "lat": [
          12.879721
         ],
         "legendgroup": "Philippines",
         "lon": [
          121.774017
         ],
         "marker": {
          "color": "green",
          "size": [
           362.5577572263611
          ],
          "sizemode": "area",
          "sizeref": 15
         },
         "mode": "markers",
         "name": "Philippines",
         "showlegend": true,
         "subplot": "mapbox",
         "type": "scattermapbox"
        },
        {
         "customdata": [
          [
           487
          ]
         ],
         "hoverlabel": {
          "namelength": 0
         },
         "hovertemplate": "<b>%{hovertext}</b><br><br>Combined_Key=Poland<br>size=%{marker.size}<br>Recovered=%{customdata[0]}<br>Lat=%{lat}<br>Long_=%{lon}",
         "hovertext": [
          "Poland"
         ],
         "lat": [
          51.9194
         ],
         "legendgroup": "Poland",
         "lon": [
          19.1451
         ],
         "marker": {
          "color": "green",
          "size": [
           726.9118576836537
          ],
          "sizemode": "area",
          "sizeref": 15
         },
         "mode": "markers",
         "name": "Poland",
         "showlegend": true,
         "subplot": "mapbox",
         "type": "scattermapbox"
        },
        {
         "customdata": [
          [
           277
          ]
         ],
         "hoverlabel": {
          "namelength": 0
         },
         "hovertemplate": "<b>%{hovertext}</b><br><br>Combined_Key=Portugal<br>size=%{marker.size}<br>Recovered=%{customdata[0]}<br>Lat=%{lat}<br>Long_=%{lon}",
         "hovertext": [
          "Portugal"
         ],
         "lat": [
          39.3999
         ],
         "legendgroup": "Portugal",
         "lon": [
          -8.2245
         ],
         "marker": {
          "color": "green",
          "size": [
           414.8370861825749
          ],
          "sizemode": "area",
          "sizeref": 15
         },
         "mode": "markers",
         "name": "Portugal",
         "showlegend": true,
         "subplot": "mapbox",
         "type": "scattermapbox"
        },
        {
         "customdata": [
          [
           334
          ]
         ],
         "hoverlabel": {
          "namelength": 0
         },
         "hovertemplate": "<b>%{hovertext}</b><br><br>Combined_Key=Qatar<br>size=%{marker.size}<br>Recovered=%{customdata[0]}<br>Lat=%{lat}<br>Long_=%{lon}",
         "hovertext": [
          "Qatar"
         ],
         "lat": [
          25.3548
         ],
         "legendgroup": "Qatar",
         "lon": [
          51.1839
         ],
         "marker": {
          "color": "green",
          "size": [
           499.83887241125115
          ],
          "sizemode": "area",
          "sizeref": 15
         },
         "mode": "markers",
         "name": "Qatar",
         "showlegend": true,
         "subplot": "mapbox",
         "type": "scattermapbox"
        },
        {
         "customdata": [
          [
           914
          ]
         ],
         "hoverlabel": {
          "namelength": 0
         },
         "hovertemplate": "<b>%{hovertext}</b><br><br>Combined_Key=Romania<br>size=%{marker.size}<br>Recovered=%{customdata[0]}<br>Lat=%{lat}<br>Long_=%{lon}",
         "hovertext": [
          "Romania"
         ],
         "lat": [
          45.9432
         ],
         "legendgroup": "Romania",
         "lon": [
          24.9668
         ],
         "marker": {
          "color": "green",
          "size": [
           1347.627022952569
          ],
          "sizemode": "area",
          "sizeref": 15
         },
         "mode": "markers",
         "name": "Romania",
         "showlegend": true,
         "subplot": "mapbox",
         "type": "scattermapbox"
        },
        {
         "customdata": [
          [
           1470
          ]
         ],
         "hoverlabel": {
          "namelength": 0
         },
         "hovertemplate": "<b>%{hovertext}</b><br><br>Combined_Key=Russia<br>size=%{marker.size}<br>Recovered=%{customdata[0]}<br>Lat=%{lat}<br>Long_=%{lon}",
         "hovertext": [
          "Russia"
         ],
         "lat": [
          61.52401
         ],
         "legendgroup": "Russia",
         "lon": [
          105.318756
         ],
         "marker": {
          "color": "green",
          "size": [
           2110.8183327112883
          ],
          "sizemode": "area",
          "sizeref": 15
         },
         "mode": "markers",
         "name": "Russia",
         "showlegend": true,
         "subplot": "mapbox",
         "type": "scattermapbox"
        },
        {
         "customdata": [
          [
           42
          ]
         ],
         "hoverlabel": {
          "namelength": 0
         },
         "hovertemplate": "<b>%{hovertext}</b><br><br>Combined_Key=Rwanda<br>size=%{marker.size}<br>Recovered=%{customdata[0]}<br>Lat=%{lat}<br>Long_=%{lon}",
         "hovertext": [
          "Rwanda"
         ],
         "lat": [
          -1.9403
         ],
         "legendgroup": "Rwanda",
         "lon": [
          29.8739
         ],
         "marker": {
          "color": "green",
          "size": [
           62.99768485209797
          ],
          "sizemode": "area",
          "sizeref": 15
         },
         "mode": "markers",
         "name": "Rwanda",
         "showlegend": true,
         "subplot": "mapbox",
         "type": "scattermapbox"
        },
        {
         "customdata": [
          [
           0
          ]
         ],
         "hoverlabel": {
          "namelength": 0
         },
         "hovertemplate": "<b>%{hovertext}</b><br><br>Combined_Key=Saint Kitts and Nevis<br>size=%{marker.size}<br>Recovered=%{customdata[0]}<br>Lat=%{lat}<br>Long_=%{lon}",
         "hovertext": [
          "Saint Kitts and Nevis"
         ],
         "lat": [
          17.357822
         ],
         "legendgroup": "Saint Kitts and Nevis",
         "lon": [
          -62.782998
         ],
         "marker": {
          "color": "green",
          "size": [
           0
          ],
          "sizemode": "area",
          "sizeref": 15
         },
         "mode": "markers",
         "name": "Saint Kitts and Nevis",
         "showlegend": true,
         "subplot": "mapbox",
         "type": "scattermapbox"
        },
        {
         "customdata": [
          [
           4
          ]
         ],
         "hoverlabel": {
          "namelength": 0
         },
         "hovertemplate": "<b>%{hovertext}</b><br><br>Combined_Key=Saint Lucia<br>size=%{marker.size}<br>Recovered=%{customdata[0]}<br>Lat=%{lat}<br>Long_=%{lon}",
         "hovertext": [
          "Saint Lucia"
         ],
         "lat": [
          13.9094
         ],
         "legendgroup": "Saint Lucia",
         "lon": [
          -60.9789
         ],
         "marker": {
          "color": "green",
          "size": [
           5.9999980000008
          ],
          "sizemode": "area",
          "sizeref": 15
         },
         "mode": "markers",
         "name": "Saint Lucia",
         "showlegend": true,
         "subplot": "mapbox",
         "type": "scattermapbox"
        },
        {
         "customdata": [
          [
           1
          ]
         ],
         "hoverlabel": {
          "namelength": 0
         },
         "hovertemplate": "<b>%{hovertext}</b><br><br>Combined_Key=Saint Vincent and the Grenadines<br>size=%{marker.size}<br>Recovered=%{customdata[0]}<br>Lat=%{lat}<br>Long_=%{lon}",
         "hovertext": [
          "Saint Vincent and the Grenadines"
         ],
         "lat": [
          12.9843
         ],
         "legendgroup": "Saint Vincent and the Grenadines",
         "lon": [
          -61.2872
         ],
         "marker": {
          "color": "green",
          "size": [
           1.4999999687500007
          ],
          "sizemode": "area",
          "sizeref": 15
         },
         "mode": "markers",
         "name": "Saint Vincent and the Grenadines",
         "showlegend": true,
         "subplot": "mapbox",
         "type": "scattermapbox"
        },
        {
         "customdata": [
          [
           53
          ]
         ],
         "hoverlabel": {
          "namelength": 0
         },
         "hovertemplate": "<b>%{hovertext}</b><br><br>Combined_Key=San Marino<br>size=%{marker.size}<br>Recovered=%{customdata[0]}<br>Lat=%{lat}<br>Long_=%{lon}",
         "hovertext": [
          "San Marino"
         ],
         "lat": [
          43.9424
         ],
         "legendgroup": "San Marino",
         "lon": [
          12.4578
         ],
         "marker": {
          "color": "green",
          "size": [
           79.49534792044201
          ],
          "sizemode": "area",
          "sizeref": 15
         },
         "mode": "markers",
         "name": "San Marino",
         "showlegend": true,
         "subplot": "mapbox",
         "type": "scattermapbox"
        },
        {
         "customdata": [
          [
           0
          ]
         ],
         "hoverlabel": {
          "namelength": 0
         },
         "hovertemplate": "<b>%{hovertext}</b><br><br>Combined_Key=Sao Tome and Principe<br>size=%{marker.size}<br>Recovered=%{customdata[0]}<br>Lat=%{lat}<br>Long_=%{lon}",
         "hovertext": [
          "Sao Tome and Principe"
         ],
         "lat": [
          0.18636
         ],
         "legendgroup": "Sao Tome and Principe",
         "lon": [
          6.613081
         ],
         "marker": {
          "color": "green",
          "size": [
           0
          ],
          "sizemode": "area",
          "sizeref": 15
         },
         "mode": "markers",
         "name": "Sao Tome and Principe",
         "showlegend": true,
         "subplot": "mapbox",
         "type": "scattermapbox"
        },
        {
         "customdata": [
          [
           805
          ]
         ],
         "hoverlabel": {
          "namelength": 0
         },
         "hovertemplate": "<b>%{hovertext}</b><br><br>Combined_Key=Saudi Arabia<br>size=%{marker.size}<br>Recovered=%{customdata[0]}<br>Lat=%{lat}<br>Long_=%{lon}",
         "hovertext": [
          "Saudi Arabia"
         ],
         "lat": [
          23.885942
         ],
         "legendgroup": "Saudi Arabia",
         "lon": [
          45.079162
         ],
         "marker": {
          "color": "green",
          "size": [
           1191.457962100273
          ],
          "sizemode": "area",
          "sizeref": 15
         },
         "mode": "markers",
         "name": "Saudi Arabia",
         "showlegend": true,
         "subplot": "mapbox",
         "type": "scattermapbox"
        },
        {
         "customdata": [
          [
           178
          ]
         ],
         "hoverlabel": {
          "namelength": 0
         },
         "hovertemplate": "<b>%{hovertext}</b><br><br>Combined_Key=Senegal<br>size=%{marker.size}<br>Recovered=%{customdata[0]}<br>Lat=%{lat}<br>Long_=%{lon}",
         "hovertext": [
          "Senegal"
         ],
         "lat": [
          14.4974
         ],
         "legendgroup": "Senegal",
         "lon": [
          -14.4524
         ],
         "marker": {
          "color": "green",
          "size": [
           266.8238972396812
          ],
          "sizemode": "area",
          "sizeref": 15
         },
         "mode": "markers",
         "name": "Senegal",
         "showlegend": true,
         "subplot": "mapbox",
         "type": "scattermapbox"
        },
        {
         "customdata": [
          [
           0
          ]
         ],
         "hoverlabel": {
          "namelength": 0
         },
         "hovertemplate": "<b>%{hovertext}</b><br><br>Combined_Key=Serbia<br>size=%{marker.size}<br>Recovered=%{customdata[0]}<br>Lat=%{lat}<br>Long_=%{lon}",
         "hovertext": [
          "Serbia"
         ],
         "lat": [
          44.0165
         ],
         "legendgroup": "Serbia",
         "lon": [
          21.0059
         ],
         "marker": {
          "color": "green",
          "size": [
           0
          ],
          "sizemode": "area",
          "sizeref": 15
         },
         "mode": "markers",
         "name": "Serbia",
         "showlegend": true,
         "subplot": "mapbox",
         "type": "scattermapbox"
        },
        {
         "customdata": [
          [
           0
          ]
         ],
         "hoverlabel": {
          "namelength": 0
         },
         "hovertemplate": "<b>%{hovertext}</b><br><br>Combined_Key=Seychelles<br>size=%{marker.size}<br>Recovered=%{customdata[0]}<br>Lat=%{lat}<br>Long_=%{lon}",
         "hovertext": [
          "Seychelles"
         ],
         "lat": [
          -4.6796
         ],
         "legendgroup": "Seychelles",
         "lon": [
          55.492
         ],
         "marker": {
          "color": "green",
          "size": [
           0
          ],
          "sizemode": "area",
          "sizeref": 15
         },
         "mode": "markers",
         "name": "Seychelles",
         "showlegend": true,
         "subplot": "mapbox",
         "type": "scattermapbox"
        },
        {
         "customdata": [
          [
           0
          ]
         ],
         "hoverlabel": {
          "namelength": 0
         },
         "hovertemplate": "<b>%{hovertext}</b><br><br>Combined_Key=Sierra Leone<br>size=%{marker.size}<br>Recovered=%{customdata[0]}<br>Lat=%{lat}<br>Long_=%{lon}",
         "hovertext": [
          "Sierra Leone"
         ],
         "lat": [
          8.460555000000001
         ],
         "legendgroup": "Sierra Leone",
         "lon": [
          -11.779889
         ],
         "marker": {
          "color": "green",
          "size": [
           0
          ],
          "sizemode": "area",
          "sizeref": 15
         },
         "mode": "markers",
         "name": "Sierra Leone",
         "showlegend": true,
         "subplot": "mapbox",
         "type": "scattermapbox"
        },
        {
         "customdata": [
          [
           586
          ]
         ],
         "hoverlabel": {
          "namelength": 0
         },
         "hovertemplate": "<b>%{hovertext}</b><br><br>Combined_Key=Singapore<br>size=%{marker.size}<br>Recovered=%{customdata[0]}<br>Lat=%{lat}<br>Long_=%{lon}",
         "hovertext": [
          "Singapore"
         ],
         "lat": [
          1.2833
         ],
         "legendgroup": "Singapore",
         "lon": [
          103.8333
         ],
         "marker": {
          "color": "green",
          "size": [
           872.7650814371466
          ],
          "sizemode": "area",
          "sizeref": 15
         },
         "mode": "markers",
         "name": "Singapore",
         "showlegend": true,
         "subplot": "mapbox",
         "type": "scattermapbox"
        },
        {
         "customdata": [
          [
           107
          ]
         ],
         "hoverlabel": {
          "namelength": 0
         },
         "hovertemplate": "<b>%{hovertext}</b><br><br>Combined_Key=Slovakia<br>size=%{marker.size}<br>Recovered=%{customdata[0]}<br>Lat=%{lat}<br>Long_=%{lon}",
         "hovertext": [
          "Slovakia"
         ],
         "lat": [
          48.669
         ],
         "legendgroup": "Slovakia",
         "lon": [
          19.699
         ],
         "marker": {
          "color": "green",
          "size": [
           160.4617283605127
          ],
          "sizemode": "area",
          "sizeref": 15
         },
         "mode": "markers",
         "name": "Slovakia",
         "showlegend": true,
         "subplot": "mapbox",
         "type": "scattermapbox"
        },
        {
         "customdata": [
          [
           152
          ]
         ],
         "hoverlabel": {
          "namelength": 0
         },
         "hovertemplate": "<b>%{hovertext}</b><br><br>Combined_Key=Slovenia<br>size=%{marker.size}<br>Recovered=%{customdata[0]}<br>Lat=%{lat}<br>Long_=%{lon}",
         "hovertext": [
          "Slovenia"
         ],
         "lat": [
          46.1512
         ],
         "legendgroup": "Slovenia",
         "lon": [
          14.9955
         ],
         "marker": {
          "color": "green",
          "size": [
           227.8903193511072
          ],
          "sizemode": "area",
          "sizeref": 15
         },
         "mode": "markers",
         "name": "Slovenia",
         "showlegend": true,
         "subplot": "mapbox",
         "type": "scattermapbox"
        },
        {
         "customdata": [
          [
           2
          ]
         ],
         "hoverlabel": {
          "namelength": 0
         },
         "hovertemplate": "<b>%{hovertext}</b><br><br>Combined_Key=Somalia<br>size=%{marker.size}<br>Recovered=%{customdata[0]}<br>Lat=%{lat}<br>Long_=%{lon}",
         "hovertext": [
          "Somalia"
         ],
         "lat": [
          5.152149
         ],
         "legendgroup": "Somalia",
         "lon": [
          46.199616
         ],
         "marker": {
          "color": "green",
          "size": [
           2.9999997500000255
          ],
          "sizemode": "area",
          "sizeref": 15
         },
         "mode": "markers",
         "name": "Somalia",
         "showlegend": true,
         "subplot": "mapbox",
         "type": "scattermapbox"
        },
        {
         "customdata": [
          [
           410
          ]
         ],
         "hoverlabel": {
          "namelength": 0
         },
         "hovertemplate": "<b>%{hovertext}</b><br><br>Combined_Key=South Africa<br>size=%{marker.size}<br>Recovered=%{customdata[0]}<br>Lat=%{lat}<br>Long_=%{lon}",
         "hovertext": [
          "South Africa"
         ],
         "lat": [
          -30.5595
         ],
         "legendgroup": "South Africa",
         "lon": [
          22.9375
         ],
         "marker": {
          "color": "green",
          "size": [
           612.8552316881036
          ],
          "sizemode": "area",
          "sizeref": 15
         },
         "mode": "markers",
         "name": "South Africa",
         "showlegend": true,
         "subplot": "mapbox",
         "type": "scattermapbox"
        },
        {
         "customdata": [
          [
           0
          ]
         ],
         "hoverlabel": {
          "namelength": 0
         },
         "hovertemplate": "<b>%{hovertext}</b><br><br>Combined_Key=South Sudan<br>size=%{marker.size}<br>Recovered=%{customdata[0]}<br>Lat=%{lat}<br>Long_=%{lon}",
         "hovertext": [
          "South Sudan"
         ],
         "lat": [
          6.877000000000002
         ],
         "legendgroup": "South Sudan",
         "lon": [
          31.307
         ],
         "marker": {
          "color": "green",
          "size": [
           0
          ],
          "sizemode": "area",
          "sizeref": 15
         },
         "mode": "markers",
         "name": "South Sudan",
         "showlegend": true,
         "subplot": "mapbox",
         "type": "scattermapbox"
        },
        {
         "customdata": [
          [
           64727
          ]
         ],
         "hoverlabel": {
          "namelength": 0
         },
         "hovertemplate": "<b>%{hovertext}</b><br><br>Combined_Key=Spain<br>size=%{marker.size}<br>Recovered=%{customdata[0]}<br>Lat=%{lat}<br>Long_=%{lon}",
         "hovertext": [
          "Spain"
         ],
         "lat": [
          40.463667
         ],
         "legendgroup": "Spain",
         "lon": [
          -3.74922
         ],
         "marker": {
          "color": "green",
          "size": [
           5999.9999999998945
          ],
          "sizemode": "area",
          "sizeref": 15
         },
         "mode": "markers",
         "name": "Spain",
         "showlegend": true,
         "subplot": "mapbox",
         "type": "scattermapbox"
        },
        {
         "customdata": [
          [
           56
          ]
         ],
         "hoverlabel": {
          "namelength": 0
         },
         "hovertemplate": "<b>%{hovertext}</b><br><br>Combined_Key=Sri Lanka<br>size=%{marker.size}<br>Recovered=%{customdata[0]}<br>Lat=%{lat}<br>Long_=%{lon}",
         "hovertext": [
          "Sri Lanka"
         ],
         "lat": [
          7.873054
         ],
         "legendgroup": "Sri Lanka",
         "lon": [
          80.77179699999998
         ],
         "marker": {
          "color": "green",
          "size": [
           83.99451243022507
          ],
          "sizemode": "area",
          "sizeref": 15
         },
         "mode": "markers",
         "name": "Sri Lanka",
         "showlegend": true,
         "subplot": "mapbox",
         "type": "scattermapbox"
        },
        {
         "customdata": [
          [
           4
          ]
         ],
         "hoverlabel": {
          "namelength": 0
         },
         "hovertemplate": "<b>%{hovertext}</b><br><br>Combined_Key=Sudan<br>size=%{marker.size}<br>Recovered=%{customdata[0]}<br>Lat=%{lat}<br>Long_=%{lon}",
         "hovertext": [
          "Sudan"
         ],
         "lat": [
          12.8628
         ],
         "legendgroup": "Sudan",
         "lon": [
          30.2176
         ],
         "marker": {
          "color": "green",
          "size": [
           5.9999980000008
          ],
          "sizemode": "area",
          "sizeref": 15
         },
         "mode": "markers",
         "name": "Sudan",
         "showlegend": true,
         "subplot": "mapbox",
         "type": "scattermapbox"
        },
        {
         "customdata": [
          [
           6
          ]
         ],
         "hoverlabel": {
          "namelength": 0
         },
         "hovertemplate": "<b>%{hovertext}</b><br><br>Combined_Key=Suriname<br>size=%{marker.size}<br>Recovered=%{customdata[0]}<br>Lat=%{lat}<br>Long_=%{lon}",
         "hovertext": [
          "Suriname"
         ],
         "lat": [
          3.9193
         ],
         "legendgroup": "Suriname",
         "lon": [
          -56.0278
         ],
         "marker": {
          "color": "green",
          "size": [
           8.999993250006076
          ],
          "sizemode": "area",
          "sizeref": 15
         },
         "mode": "markers",
         "name": "Suriname",
         "showlegend": true,
         "subplot": "mapbox",
         "type": "scattermapbox"
        },
        {
         "customdata": [
          [
           381
          ]
         ],
         "hoverlabel": {
          "namelength": 0
         },
         "hovertemplate": "<b>%{hovertext}</b><br><br>Combined_Key=Sweden<br>size=%{marker.size}<br>Recovered=%{customdata[0]}<br>Lat=%{lat}<br>Long_=%{lon}",
         "hovertext": [
          "Sweden"
         ],
         "lat": [
          60.128161
         ],
         "legendgroup": "Sweden",
         "lon": [
          18.643501
         ],
         "marker": {
          "color": "green",
          "size": [
           569.7779260233789
          ],
          "sizemode": "area",
          "sizeref": 15
         },
         "mode": "markers",
         "name": "Sweden",
         "showlegend": true,
         "subplot": "mapbox",
         "type": "scattermapbox"
        },
        {
         "customdata": [
          [
           13700
          ]
         ],
         "hoverlabel": {
          "namelength": 0
         },
         "hovertemplate": "<b>%{hovertext}</b><br><br>Combined_Key=Switzerland<br>size=%{marker.size}<br>Recovered=%{customdata[0]}<br>Lat=%{lat}<br>Long_=%{lon}",
         "hovertext": [
          "Switzerland"
         ],
         "lat": [
          46.8182
         ],
         "legendgroup": "Switzerland",
         "lon": [
          8.2275
         ],
         "marker": {
          "color": "green",
          "size": [
           5987.299986786408
          ],
          "sizemode": "area",
          "sizeref": 15
         },
         "mode": "markers",
         "name": "Switzerland",
         "showlegend": true,
         "subplot": "mapbox",
         "type": "scattermapbox"
        },
        {
         "customdata": [
          [
           5
          ]
         ],
         "hoverlabel": {
          "namelength": 0
         },
         "hovertemplate": "<b>%{hovertext}</b><br><br>Combined_Key=Syria<br>size=%{marker.size}<br>Recovered=%{customdata[0]}<br>Lat=%{lat}<br>Long_=%{lon}",
         "hovertext": [
          "Syria"
         ],
         "lat": [
          34.802075
         ],
         "legendgroup": "Syria",
         "lon": [
          38.99681500000001
         ],
         "marker": {
          "color": "green",
          "size": [
           7.499996093752441
          ],
          "sizemode": "area",
          "sizeref": 15
         },
         "mode": "markers",
         "name": "Syria",
         "showlegend": true,
         "subplot": "mapbox",
         "type": "scattermapbox"
        },
        {
         "customdata": [
          [
           109
          ]
         ],
         "hoverlabel": {
          "namelength": 0
         },
         "hovertemplate": "<b>%{hovertext}</b><br><br>Combined_Key=Taiwan*<br>size=%{marker.size}<br>Recovered=%{customdata[0]}<br>Lat=%{lat}<br>Long_=%{lon}",
         "hovertext": [
          "Taiwan*"
         ],
         "lat": [
          23.7
         ],
         "legendgroup": "Taiwan*",
         "lon": [
          121
         ],
         "marker": {
          "color": "green",
          "size": [
           163.45954236063784
          ],
          "sizemode": "area",
          "sizeref": 15
         },
         "mode": "markers",
         "name": "Taiwan*",
         "showlegend": true,
         "subplot": "mapbox",
         "type": "scattermapbox"
        },
        {
         "customdata": [
          [
           7
          ]
         ],
         "hoverlabel": {
          "namelength": 0
         },
         "hovertemplate": "<b>%{hovertext}</b><br><br>Combined_Key=Tanzania<br>size=%{marker.size}<br>Recovered=%{customdata[0]}<br>Lat=%{lat}<br>Long_=%{lon}",
         "hovertext": [
          "Tanzania"
         ],
         "lat": [
          -6.369028
         ],
         "legendgroup": "Tanzania",
         "lon": [
          34.888822
         ],
         "marker": {
          "color": "green",
          "size": [
           10.499989281263131
          ],
          "sizemode": "area",
          "sizeref": 15
         },
         "mode": "markers",
         "name": "Tanzania",
         "showlegend": true,
         "subplot": "mapbox",
         "type": "scattermapbox"
        },
        {
         "customdata": [
          [
           1288
          ]
         ],
         "hoverlabel": {
          "namelength": 0
         },
         "hovertemplate": "<b>%{hovertext}</b><br><br>Combined_Key=Thailand<br>size=%{marker.size}<br>Recovered=%{customdata[0]}<br>Lat=%{lat}<br>Long_=%{lon}",
         "hovertext": [
          "Thailand"
         ],
         "lat": [
          15.870032
         ],
         "legendgroup": "Thailand",
         "lon": [
          100.992541
         ],
         "marker": {
          "color": "green",
          "size": [
           1867.8852659818117
          ],
          "sizemode": "area",
          "sizeref": 15
         },
         "mode": "markers",
         "name": "Thailand",
         "showlegend": true,
         "subplot": "mapbox",
         "type": "scattermapbox"
        },
        {
         "customdata": [
          [
           1
          ]
         ],
         "hoverlabel": {
          "namelength": 0
         },
         "hovertemplate": "<b>%{hovertext}</b><br><br>Combined_Key=Timor-Leste<br>size=%{marker.size}<br>Recovered=%{customdata[0]}<br>Lat=%{lat}<br>Long_=%{lon}",
         "hovertext": [
          "Timor-Leste"
         ],
         "lat": [
          -8.874217
         ],
         "legendgroup": "Timor-Leste",
         "lon": [
          125.727539
         ],
         "marker": {
          "color": "green",
          "size": [
           1.4999999687500007
          ],
          "sizemode": "area",
          "sizeref": 15
         },
         "mode": "markers",
         "name": "Timor-Leste",
         "showlegend": true,
         "subplot": "mapbox",
         "type": "scattermapbox"
        },
        {
         "customdata": [
          [
           29
          ]
         ],
         "hoverlabel": {
          "namelength": 0
         },
         "hovertemplate": "<b>%{hovertext}</b><br><br>Combined_Key=Togo<br>size=%{marker.size}<br>Recovered=%{customdata[0]}<br>Lat=%{lat}<br>Long_=%{lon}",
         "hovertext": [
          "Togo"
         ],
         "lat": [
          8.6195
         ],
         "legendgroup": "Togo",
         "lon": [
          0.8248
         ],
         "marker": {
          "color": "green",
          "size": [
           43.49923785977399
          ],
          "sizemode": "area",
          "sizeref": 15
         },
         "mode": "markers",
         "name": "Togo",
         "showlegend": true,
         "subplot": "mapbox",
         "type": "scattermapbox"
        },
        {
         "customdata": [
          [
           16
          ]
         ],
         "hoverlabel": {
          "namelength": 0
         },
         "hovertemplate": "<b>%{hovertext}</b><br><br>Combined_Key=Trinidad and Tobago<br>size=%{marker.size}<br>Recovered=%{customdata[0]}<br>Lat=%{lat}<br>Long_=%{lon}",
         "hovertext": [
          "Trinidad and Tobago"
         ],
         "lat": [
          10.6918
         ],
         "legendgroup": "Trinidad and Tobago",
         "lon": [
          -61.2225
         ],
         "marker": {
          "color": "green",
          "size": [
           23.999872000819195
          ],
          "sizemode": "area",
          "sizeref": 15
         },
         "mode": "markers",
         "name": "Trinidad and Tobago",
         "showlegend": true,
         "subplot": "mapbox",
         "type": "scattermapbox"
        },
        {
         "customdata": [
          [
           43
          ]
         ],
         "hoverlabel": {
          "namelength": 0
         },
         "hovertemplate": "<b>%{hovertext}</b><br><br>Combined_Key=Tunisia<br>size=%{marker.size}<br>Recovered=%{customdata[0]}<br>Lat=%{lat}<br>Long_=%{lon}",
         "hovertext": [
          "Tunisia"
         ],
         "lat": [
          33.886917
         ],
         "legendgroup": "Tunisia",
         "lon": [
          9.537499
         ],
         "marker": {
          "color": "green",
          "size": [
           64.49751552109497
          ],
          "sizemode": "area",
          "sizeref": 15
         },
         "mode": "markers",
         "name": "Tunisia",
         "showlegend": true,
         "subplot": "mapbox",
         "type": "scattermapbox"
        },
        {
         "customdata": [
          [
           3957
          ]
         ],
         "hoverlabel": {
          "namelength": 0
         },
         "hovertemplate": "<b>%{hovertext}</b><br><br>Combined_Key=Turkey<br>size=%{marker.size}<br>Recovered=%{customdata[0]}<br>Lat=%{lat}<br>Long_=%{lon}",
         "hovertext": [
          "Turkey"
         ],
         "lat": [
          38.9637
         ],
         "legendgroup": "Turkey",
         "lon": [
          35.2433
         ],
         "marker": {
          "color": "green",
          "size": [
           4542.254044719506
          ],
          "sizemode": "area",
          "sizeref": 15
         },
         "mode": "markers",
         "name": "Turkey",
         "showlegend": true,
         "subplot": "mapbox",
         "type": "scattermapbox"
        },
        {
         "customdata": [
          [
           7
          ]
         ],
         "hoverlabel": {
          "namelength": 0
         },
         "hovertemplate": "<b>%{hovertext}</b><br><br>Combined_Key=Uganda<br>size=%{marker.size}<br>Recovered=%{customdata[0]}<br>Lat=%{lat}<br>Long_=%{lon}",
         "hovertext": [
          "Uganda"
         ],
         "lat": [
          1.373333
         ],
         "legendgroup": "Uganda",
         "lon": [
          32.290275
         ],
         "marker": {
          "color": "green",
          "size": [
           10.499989281263131
          ],
          "sizemode": "area",
          "sizeref": 15
         },
         "mode": "markers",
         "name": "Uganda",
         "showlegend": true,
         "subplot": "mapbox",
         "type": "scattermapbox"
        },
        {
         "customdata": [
          [
           97
          ]
         ],
         "hoverlabel": {
          "namelength": 0
         },
         "hovertemplate": "<b>%{hovertext}</b><br><br>Combined_Key=Ukraine<br>size=%{marker.size}<br>Recovered=%{customdata[0]}<br>Lat=%{lat}<br>Long_=%{lon}",
         "hovertext": [
          "Ukraine"
         ],
         "lat": [
          48.3794
         ],
         "legendgroup": "Ukraine",
         "lon": [
          31.1656
         ],
         "marker": {
          "color": "green",
          "size": [
           145.4714856760131
          ],
          "sizemode": "area",
          "sizeref": 15
         },
         "mode": "markers",
         "name": "Ukraine",
         "showlegend": true,
         "subplot": "mapbox",
         "type": "scattermapbox"
        },
        {
         "customdata": [
          [
           852
          ]
         ],
         "hoverlabel": {
          "namelength": 0
         },
         "hovertemplate": "<b>%{hovertext}</b><br><br>Combined_Key=United Arab Emirates<br>size=%{marker.size}<br>Recovered=%{customdata[0]}<br>Lat=%{lat}<br>Long_=%{lon}",
         "hovertext": [
          "United Arab Emirates"
         ],
         "lat": [
          23.424076
         ],
         "legendgroup": "United Arab Emirates",
         "lon": [
          53.847818
         ],
         "marker": {
          "color": "green",
          "size": [
           1259.017223558494
          ],
          "sizemode": "area",
          "sizeref": 15
         },
         "mode": "markers",
         "name": "United Arab Emirates",
         "showlegend": true,
         "subplot": "mapbox",
         "type": "scattermapbox"
        },
        {
         "customdata": [
          [
           231
          ]
         ],
         "hoverlabel": {
          "namelength": 0
         },
         "hovertemplate": "<b>%{hovertext}</b><br><br>Combined_Key=Uruguay<br>size=%{marker.size}<br>Recovered=%{customdata[0]}<br>Lat=%{lat}<br>Long_=%{lon}",
         "hovertext": [
          "Uruguay"
         ],
         "lat": [
          -32.5228
         ],
         "legendgroup": "Uruguay",
         "lon": [
          -55.7658
         ],
         "marker": {
          "color": "green",
          "size": [
           346.11531345457
          ],
          "sizemode": "area",
          "sizeref": 15
         },
         "mode": "markers",
         "name": "Uruguay",
         "showlegend": true,
         "subplot": "mapbox",
         "type": "scattermapbox"
        },
        {
         "customdata": [
          [
           85
          ]
         ],
         "hoverlabel": {
          "namelength": 0
         },
         "hovertemplate": "<b>%{hovertext}</b><br><br>Combined_Key=Uzbekistan<br>size=%{marker.size}<br>Recovered=%{customdata[0]}<br>Lat=%{lat}<br>Long_=%{lon}",
         "hovertext": [
          "Uzbekistan"
         ],
         "lat": [
          41.377491
         ],
         "legendgroup": "Uzbekistan",
         "lon": [
          64.585262
         ],
         "marker": {
          "color": "green",
          "size": [
           127.4808120595643
          ],
          "sizemode": "area",
          "sizeref": 15
         },
         "mode": "markers",
         "name": "Uzbekistan",
         "showlegend": true,
         "subplot": "mapbox",
         "type": "scattermapbox"
        },
        {
         "customdata": [
          [
           110
          ]
         ],
         "hoverlabel": {
          "namelength": 0
         },
         "hovertemplate": "<b>%{hovertext}</b><br><br>Combined_Key=Venezuela<br>size=%{marker.size}<br>Recovered=%{customdata[0]}<br>Lat=%{lat}<br>Long_=%{lon}",
         "hovertext": [
          "Venezuela"
         ],
         "lat": [
          6.4238
         ],
         "legendgroup": "Venezuela",
         "lon": [
          -66.5897
         ],
         "marker": {
          "color": "green",
          "size": [
           164.95841882825917
          ],
          "sizemode": "area",
          "sizeref": 15
         },
         "mode": "markers",
         "name": "Venezuela",
         "showlegend": true,
         "subplot": "mapbox",
         "type": "scattermapbox"
        },
        {
         "customdata": [
          [
           146
          ]
         ],
         "hoverlabel": {
          "namelength": 0
         },
         "hovertemplate": "<b>%{hovertext}</b><br><br>Combined_Key=Vietnam<br>size=%{marker.size}<br>Recovered=%{customdata[0]}<br>Lat=%{lat}<br>Long_=%{lon}",
         "hovertext": [
          "Vietnam"
         ],
         "lat": [
          14.058324
         ],
         "legendgroup": "Vietnam",
         "lon": [
          108.277199
         ],
         "marker": {
          "color": "green",
          "size": [
           218.90279754885762
          ],
          "sizemode": "area",
          "sizeref": 15
         },
         "mode": "markers",
         "name": "Vietnam",
         "showlegend": true,
         "subplot": "mapbox",
         "type": "scattermapbox"
        },
        {
         "customdata": [
          [
           58
          ]
         ],
         "hoverlabel": {
          "namelength": 0
         },
         "hovertemplate": "<b>%{hovertext}</b><br><br>Combined_Key=West Bank and Gaza<br>size=%{marker.size}<br>Recovered=%{customdata[0]}<br>Lat=%{lat}<br>Long_=%{lon}",
         "hovertext": [
          "West Bank and Gaza"
         ],
         "lat": [
          31.9522
         ],
         "legendgroup": "West Bank and Gaza",
         "lon": [
          35.2332
         ],
         "marker": {
          "color": "green",
          "size": [
           86.99390326273509
          ],
          "sizemode": "area",
          "sizeref": 15
         },
         "mode": "markers",
         "name": "West Bank and Gaza",
         "showlegend": true,
         "subplot": "mapbox",
         "type": "scattermapbox"
        },
        {
         "customdata": [
          [
           0
          ]
         ],
         "hoverlabel": {
          "namelength": 0
         },
         "hovertemplate": "<b>%{hovertext}</b><br><br>Combined_Key=Western Sahara<br>size=%{marker.size}<br>Recovered=%{customdata[0]}<br>Lat=%{lat}<br>Long_=%{lon}",
         "hovertext": [
          "Western Sahara"
         ],
         "lat": [
          24.2155
         ],
         "legendgroup": "Western Sahara",
         "lon": [
          -12.8858
         ],
         "marker": {
          "color": "green",
          "size": [
           0
          ],
          "sizemode": "area",
          "sizeref": 15
         },
         "mode": "markers",
         "name": "Western Sahara",
         "showlegend": true,
         "subplot": "mapbox",
         "type": "scattermapbox"
        },
        {
         "customdata": [
          [
           0
          ]
         ],
         "hoverlabel": {
          "namelength": 0
         },
         "hovertemplate": "<b>%{hovertext}</b><br><br>Combined_Key=Yemen<br>size=%{marker.size}<br>Recovered=%{customdata[0]}<br>Lat=%{lat}<br>Long_=%{lon}",
         "hovertext": [
          "Yemen"
         ],
         "lat": [
          15.552727
         ],
         "legendgroup": "Yemen",
         "lon": [
          48.516388
         ],
         "marker": {
          "color": "green",
          "size": [
           0
          ],
          "sizemode": "area",
          "sizeref": 15
         },
         "mode": "markers",
         "name": "Yemen",
         "showlegend": true,
         "subplot": "mapbox",
         "type": "scattermapbox"
        },
        {
         "customdata": [
          [
           30
          ]
         ],
         "hoverlabel": {
          "namelength": 0
         },
         "hovertemplate": "<b>%{hovertext}</b><br><br>Combined_Key=Zambia<br>size=%{marker.size}<br>Recovered=%{customdata[0]}<br>Lat=%{lat}<br>Long_=%{lon}",
         "hovertext": [
          "Zambia"
         ],
         "lat": [
          -13.133897
         ],
         "legendgroup": "Zambia",
         "lon": [
          27.849332
         ],
         "marker": {
          "color": "green",
          "size": [
           44.99915626898394
          ],
          "sizemode": "area",
          "sizeref": 15
         },
         "mode": "markers",
         "name": "Zambia",
         "showlegend": true,
         "subplot": "mapbox",
         "type": "scattermapbox"
        },
        {
         "customdata": [
          [
           0
          ]
         ],
         "hoverlabel": {
          "namelength": 0
         },
         "hovertemplate": "<b>%{hovertext}</b><br><br>Combined_Key=Zimbabwe<br>size=%{marker.size}<br>Recovered=%{customdata[0]}<br>Lat=%{lat}<br>Long_=%{lon}",
         "hovertext": [
          "Zimbabwe"
         ],
         "lat": [
          -19.015438
         ],
         "legendgroup": "Zimbabwe",
         "lon": [
          29.154857
         ],
         "marker": {
          "color": "green",
          "size": [
           0
          ],
          "sizemode": "area",
          "sizeref": 15
         },
         "mode": "markers",
         "name": "Zimbabwe",
         "showlegend": true,
         "subplot": "mapbox",
         "type": "scattermapbox"
        }
       ],
       "layout": {
        "height": 400,
        "legend": {
         "itemsizing": "constant",
         "title": {
          "text": "Combined_Key"
         },
         "tracegroupgap": 0
        },
        "mapbox": {
         "accesstoken": "pk.eyJ1IjoiY2hpbm1heTQ0MDAiLCJhIjoiY2s4d2htZ3FlMGU2aTNzbXdwZGQwZDZsayJ9.4Dm7PN7L6q5k4830GaiWUg",
         "bearing": 0,
         "center": {
          "lat": 20,
          "lon": 78
         },
         "domain": {
          "x": [
           0,
           1
          ],
          "y": [
           0,
           1
          ]
         },
         "pitch": 0,
         "style": "outdoors",
         "zoom": 3
        },
        "margin": {
         "b": 0,
         "l": 0,
         "r": 0,
         "t": 0
        },
        "showlegend": false,
        "template": {
         "data": {
          "bar": [
           {
            "error_x": {
             "color": "#2a3f5f"
            },
            "error_y": {
             "color": "#2a3f5f"
            },
            "marker": {
             "line": {
              "color": "#E5ECF6",
              "width": 0.5
             }
            },
            "type": "bar"
           }
          ],
          "barpolar": [
           {
            "marker": {
             "line": {
              "color": "#E5ECF6",
              "width": 0.5
             }
            },
            "type": "barpolar"
           }
          ],
          "carpet": [
           {
            "aaxis": {
             "endlinecolor": "#2a3f5f",
             "gridcolor": "white",
             "linecolor": "white",
             "minorgridcolor": "white",
             "startlinecolor": "#2a3f5f"
            },
            "baxis": {
             "endlinecolor": "#2a3f5f",
             "gridcolor": "white",
             "linecolor": "white",
             "minorgridcolor": "white",
             "startlinecolor": "#2a3f5f"
            },
            "type": "carpet"
           }
          ],
          "choropleth": [
           {
            "colorbar": {
             "outlinewidth": 0,
             "ticks": ""
            },
            "type": "choropleth"
           }
          ],
          "contour": [
           {
            "colorbar": {
             "outlinewidth": 0,
             "ticks": ""
            },
            "colorscale": [
             [
              0,
              "#0d0887"
             ],
             [
              0.1111111111111111,
              "#46039f"
             ],
             [
              0.2222222222222222,
              "#7201a8"
             ],
             [
              0.3333333333333333,
              "#9c179e"
             ],
             [
              0.4444444444444444,
              "#bd3786"
             ],
             [
              0.5555555555555556,
              "#d8576b"
             ],
             [
              0.6666666666666666,
              "#ed7953"
             ],
             [
              0.7777777777777778,
              "#fb9f3a"
             ],
             [
              0.8888888888888888,
              "#fdca26"
             ],
             [
              1,
              "#f0f921"
             ]
            ],
            "type": "contour"
           }
          ],
          "contourcarpet": [
           {
            "colorbar": {
             "outlinewidth": 0,
             "ticks": ""
            },
            "type": "contourcarpet"
           }
          ],
          "heatmap": [
           {
            "colorbar": {
             "outlinewidth": 0,
             "ticks": ""
            },
            "colorscale": [
             [
              0,
              "#0d0887"
             ],
             [
              0.1111111111111111,
              "#46039f"
             ],
             [
              0.2222222222222222,
              "#7201a8"
             ],
             [
              0.3333333333333333,
              "#9c179e"
             ],
             [
              0.4444444444444444,
              "#bd3786"
             ],
             [
              0.5555555555555556,
              "#d8576b"
             ],
             [
              0.6666666666666666,
              "#ed7953"
             ],
             [
              0.7777777777777778,
              "#fb9f3a"
             ],
             [
              0.8888888888888888,
              "#fdca26"
             ],
             [
              1,
              "#f0f921"
             ]
            ],
            "type": "heatmap"
           }
          ],
          "heatmapgl": [
           {
            "colorbar": {
             "outlinewidth": 0,
             "ticks": ""
            },
            "colorscale": [
             [
              0,
              "#0d0887"
             ],
             [
              0.1111111111111111,
              "#46039f"
             ],
             [
              0.2222222222222222,
              "#7201a8"
             ],
             [
              0.3333333333333333,
              "#9c179e"
             ],
             [
              0.4444444444444444,
              "#bd3786"
             ],
             [
              0.5555555555555556,
              "#d8576b"
             ],
             [
              0.6666666666666666,
              "#ed7953"
             ],
             [
              0.7777777777777778,
              "#fb9f3a"
             ],
             [
              0.8888888888888888,
              "#fdca26"
             ],
             [
              1,
              "#f0f921"
             ]
            ],
            "type": "heatmapgl"
           }
          ],
          "histogram": [
           {
            "marker": {
             "colorbar": {
              "outlinewidth": 0,
              "ticks": ""
             }
            },
            "type": "histogram"
           }
          ],
          "histogram2d": [
           {
            "colorbar": {
             "outlinewidth": 0,
             "ticks": ""
            },
            "colorscale": [
             [
              0,
              "#0d0887"
             ],
             [
              0.1111111111111111,
              "#46039f"
             ],
             [
              0.2222222222222222,
              "#7201a8"
             ],
             [
              0.3333333333333333,
              "#9c179e"
             ],
             [
              0.4444444444444444,
              "#bd3786"
             ],
             [
              0.5555555555555556,
              "#d8576b"
             ],
             [
              0.6666666666666666,
              "#ed7953"
             ],
             [
              0.7777777777777778,
              "#fb9f3a"
             ],
             [
              0.8888888888888888,
              "#fdca26"
             ],
             [
              1,
              "#f0f921"
             ]
            ],
            "type": "histogram2d"
           }
          ],
          "histogram2dcontour": [
           {
            "colorbar": {
             "outlinewidth": 0,
             "ticks": ""
            },
            "colorscale": [
             [
              0,
              "#0d0887"
             ],
             [
              0.1111111111111111,
              "#46039f"
             ],
             [
              0.2222222222222222,
              "#7201a8"
             ],
             [
              0.3333333333333333,
              "#9c179e"
             ],
             [
              0.4444444444444444,
              "#bd3786"
             ],
             [
              0.5555555555555556,
              "#d8576b"
             ],
             [
              0.6666666666666666,
              "#ed7953"
             ],
             [
              0.7777777777777778,
              "#fb9f3a"
             ],
             [
              0.8888888888888888,
              "#fdca26"
             ],
             [
              1,
              "#f0f921"
             ]
            ],
            "type": "histogram2dcontour"
           }
          ],
          "mesh3d": [
           {
            "colorbar": {
             "outlinewidth": 0,
             "ticks": ""
            },
            "type": "mesh3d"
           }
          ],
          "parcoords": [
           {
            "line": {
             "colorbar": {
              "outlinewidth": 0,
              "ticks": ""
             }
            },
            "type": "parcoords"
           }
          ],
          "pie": [
           {
            "automargin": true,
            "type": "pie"
           }
          ],
          "scatter": [
           {
            "marker": {
             "colorbar": {
              "outlinewidth": 0,
              "ticks": ""
             }
            },
            "type": "scatter"
           }
          ],
          "scatter3d": [
           {
            "line": {
             "colorbar": {
              "outlinewidth": 0,
              "ticks": ""
             }
            },
            "marker": {
             "colorbar": {
              "outlinewidth": 0,
              "ticks": ""
             }
            },
            "type": "scatter3d"
           }
          ],
          "scattercarpet": [
           {
            "marker": {
             "colorbar": {
              "outlinewidth": 0,
              "ticks": ""
             }
            },
            "type": "scattercarpet"
           }
          ],
          "scattergeo": [
           {
            "marker": {
             "colorbar": {
              "outlinewidth": 0,
              "ticks": ""
             }
            },
            "type": "scattergeo"
           }
          ],
          "scattergl": [
           {
            "marker": {
             "colorbar": {
              "outlinewidth": 0,
              "ticks": ""
             }
            },
            "type": "scattergl"
           }
          ],
          "scattermapbox": [
           {
            "marker": {
             "colorbar": {
              "outlinewidth": 0,
              "ticks": ""
             }
            },
            "type": "scattermapbox"
           }
          ],
          "scatterpolar": [
           {
            "marker": {
             "colorbar": {
              "outlinewidth": 0,
              "ticks": ""
             }
            },
            "type": "scatterpolar"
           }
          ],
          "scatterpolargl": [
           {
            "marker": {
             "colorbar": {
              "outlinewidth": 0,
              "ticks": ""
             }
            },
            "type": "scatterpolargl"
           }
          ],
          "scatterternary": [
           {
            "marker": {
             "colorbar": {
              "outlinewidth": 0,
              "ticks": ""
             }
            },
            "type": "scatterternary"
           }
          ],
          "surface": [
           {
            "colorbar": {
             "outlinewidth": 0,
             "ticks": ""
            },
            "colorscale": [
             [
              0,
              "#0d0887"
             ],
             [
              0.1111111111111111,
              "#46039f"
             ],
             [
              0.2222222222222222,
              "#7201a8"
             ],
             [
              0.3333333333333333,
              "#9c179e"
             ],
             [
              0.4444444444444444,
              "#bd3786"
             ],
             [
              0.5555555555555556,
              "#d8576b"
             ],
             [
              0.6666666666666666,
              "#ed7953"
             ],
             [
              0.7777777777777778,
              "#fb9f3a"
             ],
             [
              0.8888888888888888,
              "#fdca26"
             ],
             [
              1,
              "#f0f921"
             ]
            ],
            "type": "surface"
           }
          ],
          "table": [
           {
            "cells": {
             "fill": {
              "color": "#EBF0F8"
             },
             "line": {
              "color": "white"
             }
            },
            "header": {
             "fill": {
              "color": "#C8D4E3"
             },
             "line": {
              "color": "white"
             }
            },
            "type": "table"
           }
          ]
         },
         "layout": {
          "annotationdefaults": {
           "arrowcolor": "#2a3f5f",
           "arrowhead": 0,
           "arrowwidth": 1
          },
          "coloraxis": {
           "colorbar": {
            "outlinewidth": 0,
            "ticks": ""
           }
          },
          "colorscale": {
           "diverging": [
            [
             0,
             "#8e0152"
            ],
            [
             0.1,
             "#c51b7d"
            ],
            [
             0.2,
             "#de77ae"
            ],
            [
             0.3,
             "#f1b6da"
            ],
            [
             0.4,
             "#fde0ef"
            ],
            [
             0.5,
             "#f7f7f7"
            ],
            [
             0.6,
             "#e6f5d0"
            ],
            [
             0.7,
             "#b8e186"
            ],
            [
             0.8,
             "#7fbc41"
            ],
            [
             0.9,
             "#4d9221"
            ],
            [
             1,
             "#276419"
            ]
           ],
           "sequential": [
            [
             0,
             "#0d0887"
            ],
            [
             0.1111111111111111,
             "#46039f"
            ],
            [
             0.2222222222222222,
             "#7201a8"
            ],
            [
             0.3333333333333333,
             "#9c179e"
            ],
            [
             0.4444444444444444,
             "#bd3786"
            ],
            [
             0.5555555555555556,
             "#d8576b"
            ],
            [
             0.6666666666666666,
             "#ed7953"
            ],
            [
             0.7777777777777778,
             "#fb9f3a"
            ],
            [
             0.8888888888888888,
             "#fdca26"
            ],
            [
             1,
             "#f0f921"
            ]
           ],
           "sequentialminus": [
            [
             0,
             "#0d0887"
            ],
            [
             0.1111111111111111,
             "#46039f"
            ],
            [
             0.2222222222222222,
             "#7201a8"
            ],
            [
             0.3333333333333333,
             "#9c179e"
            ],
            [
             0.4444444444444444,
             "#bd3786"
            ],
            [
             0.5555555555555556,
             "#d8576b"
            ],
            [
             0.6666666666666666,
             "#ed7953"
            ],
            [
             0.7777777777777778,
             "#fb9f3a"
            ],
            [
             0.8888888888888888,
             "#fdca26"
            ],
            [
             1,
             "#f0f921"
            ]
           ]
          },
          "colorway": [
           "#636efa",
           "#EF553B",
           "#00cc96",
           "#ab63fa",
           "#FFA15A",
           "#19d3f3",
           "#FF6692",
           "#B6E880",
           "#FF97FF",
           "#FECB52"
          ],
          "font": {
           "color": "#2a3f5f"
          },
          "geo": {
           "bgcolor": "white",
           "lakecolor": "white",
           "landcolor": "#E5ECF6",
           "showlakes": true,
           "showland": true,
           "subunitcolor": "white"
          },
          "hoverlabel": {
           "align": "left"
          },
          "hovermode": "closest",
          "mapbox": {
           "style": "light"
          },
          "paper_bgcolor": "white",
          "plot_bgcolor": "#E5ECF6",
          "polar": {
           "angularaxis": {
            "gridcolor": "white",
            "linecolor": "white",
            "ticks": ""
           },
           "bgcolor": "#E5ECF6",
           "radialaxis": {
            "gridcolor": "white",
            "linecolor": "white",
            "ticks": ""
           }
          },
          "scene": {
           "xaxis": {
            "backgroundcolor": "#E5ECF6",
            "gridcolor": "white",
            "gridwidth": 2,
            "linecolor": "white",
            "showbackground": true,
            "ticks": "",
            "zerolinecolor": "white"
           },
           "yaxis": {
            "backgroundcolor": "#E5ECF6",
            "gridcolor": "white",
            "gridwidth": 2,
            "linecolor": "white",
            "showbackground": true,
            "ticks": "",
            "zerolinecolor": "white"
           },
           "zaxis": {
            "backgroundcolor": "#E5ECF6",
            "gridcolor": "white",
            "gridwidth": 2,
            "linecolor": "white",
            "showbackground": true,
            "ticks": "",
            "zerolinecolor": "white"
           }
          },
          "shapedefaults": {
           "line": {
            "color": "#2a3f5f"
           }
          },
          "ternary": {
           "aaxis": {
            "gridcolor": "white",
            "linecolor": "white",
            "ticks": ""
           },
           "baxis": {
            "gridcolor": "white",
            "linecolor": "white",
            "ticks": ""
           },
           "bgcolor": "#E5ECF6",
           "caxis": {
            "gridcolor": "white",
            "linecolor": "white",
            "ticks": ""
           }
          },
          "title": {
           "x": 0.05
          },
          "xaxis": {
           "automargin": true,
           "gridcolor": "white",
           "linecolor": "white",
           "ticks": "",
           "title": {
            "standoff": 15
           },
           "zerolinecolor": "white",
           "zerolinewidth": 2
          },
          "yaxis": {
           "automargin": true,
           "gridcolor": "white",
           "linecolor": "white",
           "ticks": "",
           "title": {
            "standoff": 15
           },
           "zerolinecolor": "white",
           "zerolinewidth": 2
          }
         }
        }
       }
      },
      "text/html": [
       "<div>\n",
       "        \n",
       "        \n",
       "            <div id=\"30918b2d-3e4e-4cfa-9906-a5ba7d0d16d0\" class=\"plotly-graph-div\" style=\"height:400px; width:100%;\"></div>\n",
       "            <script type=\"text/javascript\">\n",
       "                require([\"plotly\"], function(Plotly) {\n",
       "                    window.PLOTLYENV=window.PLOTLYENV || {};\n",
       "                    \n",
       "                if (document.getElementById(\"30918b2d-3e4e-4cfa-9906-a5ba7d0d16d0\")) {\n",
       "                    Plotly.newPlot(\n",
       "                        '30918b2d-3e4e-4cfa-9906-a5ba7d0d16d0',\n",
       "                        [{\"customdata\": [[43482]], \"hoverlabel\": {\"namelength\": 0}, \"hovertemplate\": \"<b>%{hovertext}</b><br><br>Combined_Key=US<br>size=%{marker.size}<br>Recovered=%{customdata[0]}<br>Lat=%{lat}<br>Long_=%{lon}\", \"hovertext\": [\"US\"], \"lat\": [34.22333378], \"legendgroup\": \"US\", \"lon\": [-82.46170658], \"marker\": {\"color\": \"green\", \"size\": [5999.999995663045], \"sizemode\": \"area\", \"sizeref\": 15.0}, \"mode\": \"markers\", \"name\": \"US\", \"showlegend\": true, \"subplot\": \"mapbox\", \"type\": \"scattermapbox\"}, {\"customdata\": [[7758]], \"hoverlabel\": {\"namelength\": 0}, \"hovertemplate\": \"<b>%{hovertext}</b><br><br>Combined_Key=Canada<br>size=%{marker.size}<br>Recovered=%{customdata[0]}<br>Lat=%{lat}<br>Long_=%{lon}\", \"hovertext\": [\"Canada\"], \"lat\": [53.9333], \"legendgroup\": \"Canada\", \"lon\": [-116.5765], \"marker\": {\"color\": \"green\", \"size\": [5756.966037211903], \"sizemode\": \"area\", \"sizeref\": 15.0}, \"mode\": \"markers\", \"name\": \"Canada\", \"showlegend\": true, \"subplot\": \"mapbox\", \"type\": \"scattermapbox\"}, {\"customdata\": [[304]], \"hoverlabel\": {\"namelength\": 0}, \"hovertemplate\": \"<b>%{hovertext}</b><br><br>Combined_Key=United Kingdom<br>size=%{marker.size}<br>Recovered=%{customdata[0]}<br>Lat=%{lat}<br>Long_=%{lon}\", \"hovertext\": [\"United Kingdom\"], \"lat\": [18.2206], \"legendgroup\": \"United Kingdom\", \"lon\": [-63.0686], \"marker\": {\"color\": \"green\", \"size\": [455.1240716891211], \"sizemode\": \"area\", \"sizeref\": 15.0}, \"mode\": \"markers\", \"name\": \"United Kingdom\", \"showlegend\": true, \"subplot\": \"mapbox\", \"type\": \"scattermapbox\"}, {\"customdata\": [[78039]], \"hoverlabel\": {\"namelength\": 0}, \"hovertemplate\": \"<b>%{hovertext}</b><br><br>Combined_Key=China<br>size=%{marker.size}<br>Recovered=%{customdata[0]}<br>Lat=%{lat}<br>Long_=%{lon}\", \"hovertext\": [\"China\"], \"lat\": [31.8257], \"legendgroup\": \"China\", \"lon\": [117.2264], \"marker\": {\"color\": \"green\", \"size\": [6000.0], \"sizemode\": \"area\", \"sizeref\": 15.0}, \"mode\": \"markers\", \"name\": \"China\", \"showlegend\": true, \"subplot\": \"mapbox\", \"type\": \"scattermapbox\"}, {\"customdata\": [[295]], \"hoverlabel\": {\"namelength\": 0}, \"hovertemplate\": \"<b>%{hovertext}</b><br><br>Combined_Key=Netherlands<br>size=%{marker.size}<br>Recovered=%{customdata[0]}<br>Lat=%{lat}<br>Long_=%{lon}\", \"hovertext\": [\"Netherlands\"], \"lat\": [12.5211], \"legendgroup\": \"Netherlands\", \"lon\": [-69.9683], \"marker\": {\"color\": \"green\", \"size\": [441.6994798677648], \"sizemode\": \"area\", \"sizeref\": 15.0}, \"mode\": \"markers\", \"name\": \"Netherlands\", \"showlegend\": true, \"subplot\": \"mapbox\", \"type\": \"scattermapbox\"}, {\"customdata\": [[1806]], \"hoverlabel\": {\"namelength\": 0}, \"hovertemplate\": \"<b>%{hovertext}</b><br><br>Combined_Key=Australia<br>size=%{marker.size}<br>Recovered=%{customdata[0]}<br>Lat=%{lat}<br>Long_=%{lon}\", \"hovertext\": [\"Australia\"], \"lat\": [-35.4735], \"legendgroup\": \"Australia\", \"lon\": [149.0124], \"marker\": {\"color\": \"green\", \"size\": [2538.7873581636272], \"sizemode\": \"area\", \"sizeref\": 15.0}, \"mode\": \"markers\", \"name\": \"Australia\", \"showlegend\": true, \"subplot\": \"mapbox\", \"type\": \"scattermapbox\"}, {\"customdata\": [[2403]], \"hoverlabel\": {\"namelength\": 0}, \"hovertemplate\": \"<b>%{hovertext}</b><br><br>Combined_Key=Denmark<br>size=%{marker.size}<br>Recovered=%{customdata[0]}<br>Lat=%{lat}<br>Long_=%{lon}\", \"hovertext\": [\"Denmark\"], \"lat\": [61.8926], \"legendgroup\": \"Denmark\", \"lon\": [-6.9118], \"marker\": {\"color\": \"green\", \"size\": [3225.4982120744494], \"sizemode\": \"area\", \"sizeref\": 15.0}, \"mode\": \"markers\", \"name\": \"Denmark\", \"showlegend\": true, \"subplot\": \"mapbox\", \"type\": \"scattermapbox\"}, {\"customdata\": [[28001]], \"hoverlabel\": {\"namelength\": 0}, \"hovertemplate\": \"<b>%{hovertext}</b><br><br>Combined_Key=France<br>size=%{marker.size}<br>Recovered=%{customdata[0]}<br>Lat=%{lat}<br>Long_=%{lon}\", \"hovertext\": [\"France\"], \"lat\": [4.0], \"legendgroup\": \"France\", \"lon\": [-53.0], \"marker\": {\"color\": \"green\", \"size\": [5999.990026651585], \"sizemode\": \"area\", \"sizeref\": 15.0}, \"mode\": \"markers\", \"name\": \"France\", \"showlegend\": true, \"subplot\": \"mapbox\", \"type\": \"scattermapbox\"}, {\"customdata\": [[32]], \"hoverlabel\": {\"namelength\": 0}, \"hovertemplate\": \"<b>%{hovertext}</b><br><br>Combined_Key=Afghanistan<br>size=%{marker.size}<br>Recovered=%{customdata[0]}<br>Lat=%{lat}<br>Long_=%{lon}\", \"hovertext\": [\"Afghanistan\"], \"lat\": [33.93911], \"legendgroup\": \"Afghanistan\", \"lon\": [67.709953], \"marker\": {\"color\": \"green\", \"size\": [47.998976026213725], \"sizemode\": \"area\", \"sizeref\": 15.0}, \"mode\": \"markers\", \"name\": \"Afghanistan\", \"showlegend\": true, \"subplot\": \"mapbox\", \"type\": \"scattermapbox\"}, {\"customdata\": [[232]], \"hoverlabel\": {\"namelength\": 0}, \"hovertemplate\": \"<b>%{hovertext}</b><br><br>Combined_Key=Albania<br>size=%{marker.size}<br>Recovered=%{customdata[0]}<br>Lat=%{lat}<br>Long_=%{lon}\", \"hovertext\": [\"Albania\"], \"lat\": [41.1533], \"legendgroup\": \"Albania\", \"lon\": [20.1683], \"marker\": {\"color\": \"green\", \"size\": [347.61030037142143], \"sizemode\": \"area\", \"sizeref\": 15.0}, \"mode\": \"markers\", \"name\": \"Albania\", \"showlegend\": true, \"subplot\": \"mapbox\", \"type\": \"scattermapbox\"}, {\"customdata\": [[601]], \"hoverlabel\": {\"namelength\": 0}, \"hovertemplate\": \"<b>%{hovertext}</b><br><br>Combined_Key=Algeria<br>size=%{marker.size}<br>Recovered=%{customdata[0]}<br>Lat=%{lat}<br>Long_=%{lon}\", \"hovertext\": [\"Algeria\"], \"lat\": [28.0339], \"legendgroup\": \"Algeria\", \"lon\": [1.6596], \"marker\": {\"color\": \"green\", \"size\": [894.7768969872533], \"sizemode\": \"area\", \"sizeref\": 15.0}, \"mode\": \"markers\", \"name\": \"Algeria\", \"showlegend\": true, \"subplot\": \"mapbox\", \"type\": \"scattermapbox\"}, {\"customdata\": [[128]], \"hoverlabel\": {\"namelength\": 0}, \"hovertemplate\": \"<b>%{hovertext}</b><br><br>Combined_Key=Andorra<br>size=%{marker.size}<br>Recovered=%{customdata[0]}<br>Lat=%{lat}<br>Long_=%{lon}\", \"hovertext\": [\"Andorra\"], \"lat\": [42.5063], \"legendgroup\": \"Andorra\", \"lon\": [1.5218], \"marker\": {\"color\": \"green\", \"size\": [191.9344908324242], \"sizemode\": \"area\", \"sizeref\": 15.0}, \"mode\": \"markers\", \"name\": \"Andorra\", \"showlegend\": true, \"subplot\": \"mapbox\", \"type\": \"scattermapbox\"}, {\"customdata\": [[4]], \"hoverlabel\": {\"namelength\": 0}, \"hovertemplate\": \"<b>%{hovertext}</b><br><br>Combined_Key=Angola<br>size=%{marker.size}<br>Recovered=%{customdata[0]}<br>Lat=%{lat}<br>Long_=%{lon}\", \"hovertext\": [\"Angola\"], \"lat\": [-11.2027], \"legendgroup\": \"Angola\", \"lon\": [17.8739], \"marker\": {\"color\": \"green\", \"size\": [5.9999980000008], \"sizemode\": \"area\", \"sizeref\": 15.0}, \"mode\": \"markers\", \"name\": \"Angola\", \"showlegend\": true, \"subplot\": \"mapbox\", \"type\": \"scattermapbox\"}, {\"customdata\": [[0]], \"hoverlabel\": {\"namelength\": 0}, \"hovertemplate\": \"<b>%{hovertext}</b><br><br>Combined_Key=Antigua and Barbuda<br>size=%{marker.size}<br>Recovered=%{customdata[0]}<br>Lat=%{lat}<br>Long_=%{lon}\", \"hovertext\": [\"Antigua and Barbuda\"], \"lat\": [17.0608], \"legendgroup\": \"Antigua and Barbuda\", \"lon\": [-61.7964], \"marker\": {\"color\": \"green\", \"size\": [0.0], \"sizemode\": \"area\", \"sizeref\": 15.0}, \"mode\": \"markers\", \"name\": \"Antigua and Barbuda\", \"showlegend\": true, \"subplot\": \"mapbox\", \"type\": \"scattermapbox\"}, {\"customdata\": [[515]], \"hoverlabel\": {\"namelength\": 0}, \"hovertemplate\": \"<b>%{hovertext}</b><br><br>Combined_Key=Argentina<br>size=%{marker.size}<br>Recovered=%{customdata[0]}<br>Lat=%{lat}<br>Long_=%{lon}\", \"hovertext\": [\"Argentina\"], \"lat\": [-38.4161], \"legendgroup\": \"Argentina\", \"lon\": [-63.6167], \"marker\": {\"color\": \"green\", \"size\": [768.2596491150913], \"sizemode\": \"area\", \"sizeref\": 15.0}, \"mode\": \"markers\", \"name\": \"Argentina\", \"showlegend\": true, \"subplot\": \"mapbox\", \"type\": \"scattermapbox\"}, {\"customdata\": [[211]], \"hoverlabel\": {\"namelength\": 0}, \"hovertemplate\": \"<b>%{hovertext}</b><br><br>Combined_Key=Armenia<br>size=%{marker.size}<br>Recovered=%{customdata[0]}<br>Lat=%{lat}<br>Long_=%{lon}\", \"hovertext\": [\"Armenia\"], \"lat\": [40.0691], \"legendgroup\": \"Armenia\", \"lon\": [45.0382], \"marker\": {\"color\": \"green\", \"size\": [316.2067660286669], \"sizemode\": \"area\", \"sizeref\": 15.0}, \"mode\": \"markers\", \"name\": \"Armenia\", \"showlegend\": true, \"subplot\": \"mapbox\", \"type\": \"scattermapbox\"}, {\"customdata\": [[7343]], \"hoverlabel\": {\"namelength\": 0}, \"hovertemplate\": \"<b>%{hovertext}</b><br><br>Combined_Key=Austria<br>size=%{marker.size}<br>Recovered=%{customdata[0]}<br>Lat=%{lat}<br>Long_=%{lon}\", \"hovertext\": [\"Austria\"], \"lat\": [47.5162], \"legendgroup\": \"Austria\", \"lon\": [14.5501], \"marker\": {\"color\": \"green\", \"size\": [5702.31323380669], \"sizemode\": \"area\", \"sizeref\": 15.0}, \"mode\": \"markers\", \"name\": \"Austria\", \"showlegend\": true, \"subplot\": \"mapbox\", \"type\": \"scattermapbox\"}, {\"customdata\": [[289]], \"hoverlabel\": {\"namelength\": 0}, \"hovertemplate\": \"<b>%{hovertext}</b><br><br>Combined_Key=Azerbaijan<br>size=%{marker.size}<br>Recovered=%{customdata[0]}<br>Lat=%{lat}<br>Long_=%{lon}\", \"hovertext\": [\"Azerbaijan\"], \"lat\": [40.1431], \"legendgroup\": \"Azerbaijan\", \"lon\": [47.5769], \"marker\": {\"color\": \"green\", \"size\": [432.74727264322945], \"sizemode\": \"area\", \"sizeref\": 15.0}, \"mode\": \"markers\", \"name\": \"Azerbaijan\", \"showlegend\": true, \"subplot\": \"mapbox\", \"type\": \"scattermapbox\"}, {\"customdata\": [[6]], \"hoverlabel\": {\"namelength\": 0}, \"hovertemplate\": \"<b>%{hovertext}</b><br><br>Combined_Key=Bahamas<br>size=%{marker.size}<br>Recovered=%{customdata[0]}<br>Lat=%{lat}<br>Long_=%{lon}\", \"hovertext\": [\"Bahamas\"], \"lat\": [25.025885], \"legendgroup\": \"Bahamas\", \"lon\": [-78.035889], \"marker\": {\"color\": \"green\", \"size\": [8.999993250006076], \"sizemode\": \"area\", \"sizeref\": 15.0}, \"mode\": \"markers\", \"name\": \"Bahamas\", \"showlegend\": true, \"subplot\": \"mapbox\", \"type\": \"scattermapbox\"}, {\"customdata\": [[591]], \"hoverlabel\": {\"namelength\": 0}, \"hovertemplate\": \"<b>%{hovertext}</b><br><br>Combined_Key=Bahrain<br>size=%{marker.size}<br>Recovered=%{customdata[0]}<br>Lat=%{lat}<br>Long_=%{lon}\", \"hovertext\": [\"Bahrain\"], \"lat\": [26.0275], \"legendgroup\": \"Bahrain\", \"lon\": [50.55], \"marker\": {\"color\": \"green\", \"size\": [880.1050515815339], \"sizemode\": \"area\", \"sizeref\": 15.0}, \"mode\": \"markers\", \"name\": \"Bahrain\", \"showlegend\": true, \"subplot\": \"mapbox\", \"type\": \"scattermapbox\"}, {\"customdata\": [[42]], \"hoverlabel\": {\"namelength\": 0}, \"hovertemplate\": \"<b>%{hovertext}</b><br><br>Combined_Key=Bangladesh<br>size=%{marker.size}<br>Recovered=%{customdata[0]}<br>Lat=%{lat}<br>Long_=%{lon}\", \"hovertext\": [\"Bangladesh\"], \"lat\": [23.685], \"legendgroup\": \"Bangladesh\", \"lon\": [90.3563], \"marker\": {\"color\": \"green\", \"size\": [62.99768485209797], \"sizemode\": \"area\", \"sizeref\": 15.0}, \"mode\": \"markers\", \"name\": \"Bangladesh\", \"showlegend\": true, \"subplot\": \"mapbox\", \"type\": \"scattermapbox\"}, {\"customdata\": [[13]], \"hoverlabel\": {\"namelength\": 0}, \"hovertemplate\": \"<b>%{hovertext}</b><br><br>Combined_Key=Barbados<br>size=%{marker.size}<br>Recovered=%{customdata[0]}<br>Lat=%{lat}<br>Long_=%{lon}\", \"hovertext\": [\"Barbados\"], \"lat\": [13.1939], \"legendgroup\": \"Barbados\", \"lon\": [-59.5432], \"marker\": {\"color\": \"green\", \"size\": [19.499931344040068], \"sizemode\": \"area\", \"sizeref\": 15.0}, \"mode\": \"markers\", \"name\": \"Barbados\", \"showlegend\": true, \"subplot\": \"mapbox\", \"type\": \"scattermapbox\"}, {\"customdata\": [[203]], \"hoverlabel\": {\"namelength\": 0}, \"hovertemplate\": \"<b>%{hovertext}</b><br><br>Combined_Key=Belarus<br>size=%{marker.size}<br>Recovered=%{customdata[0]}<br>Lat=%{lat}<br>Long_=%{lon}\", \"hovertext\": [\"Belarus\"], \"lat\": [53.7098], \"legendgroup\": \"Belarus\", \"lon\": [27.9534], \"marker\": {\"color\": \"green\", \"size\": [304.23884944677934], \"sizemode\": \"area\", \"sizeref\": 15.0}, \"mode\": \"markers\", \"name\": \"Belarus\", \"showlegend\": true, \"subplot\": \"mapbox\", \"type\": \"scattermapbox\"}, {\"customdata\": [[6707]], \"hoverlabel\": {\"namelength\": 0}, \"hovertemplate\": \"<b>%{hovertext}</b><br><br>Combined_Key=Belgium<br>size=%{marker.size}<br>Recovered=%{customdata[0]}<br>Lat=%{lat}<br>Long_=%{lon}\", \"hovertext\": [\"Belgium\"], \"lat\": [50.8333], \"legendgroup\": \"Belgium\", \"lon\": [4.469936], \"marker\": {\"color\": \"green\", \"size\": [5594.631132498543], \"sizemode\": \"area\", \"sizeref\": 15.0}, \"mode\": \"markers\", \"name\": \"Belgium\", \"showlegend\": true, \"subplot\": \"mapbox\", \"type\": \"scattermapbox\"}, {\"customdata\": [[0]], \"hoverlabel\": {\"namelength\": 0}, \"hovertemplate\": \"<b>%{hovertext}</b><br><br>Combined_Key=Belize<br>size=%{marker.size}<br>Recovered=%{customdata[0]}<br>Lat=%{lat}<br>Long_=%{lon}\", \"hovertext\": [\"Belize\"], \"lat\": [17.1899], \"legendgroup\": \"Belize\", \"lon\": [-88.4976], \"marker\": {\"color\": \"green\", \"size\": [0.0], \"sizemode\": \"area\", \"sizeref\": 15.0}, \"mode\": \"markers\", \"name\": \"Belize\", \"showlegend\": true, \"subplot\": \"mapbox\", \"type\": \"scattermapbox\"}, {\"customdata\": [[5]], \"hoverlabel\": {\"namelength\": 0}, \"hovertemplate\": \"<b>%{hovertext}</b><br><br>Combined_Key=Benin<br>size=%{marker.size}<br>Recovered=%{customdata[0]}<br>Lat=%{lat}<br>Long_=%{lon}\", \"hovertext\": [\"Benin\"], \"lat\": [9.3077], \"legendgroup\": \"Benin\", \"lon\": [2.3158], \"marker\": {\"color\": \"green\", \"size\": [7.499996093752441], \"sizemode\": \"area\", \"sizeref\": 15.0}, \"mode\": \"markers\", \"name\": \"Benin\", \"showlegend\": true, \"subplot\": \"mapbox\", \"type\": \"scattermapbox\"}, {\"customdata\": [[2]], \"hoverlabel\": {\"namelength\": 0}, \"hovertemplate\": \"<b>%{hovertext}</b><br><br>Combined_Key=Bhutan<br>size=%{marker.size}<br>Recovered=%{customdata[0]}<br>Lat=%{lat}<br>Long_=%{lon}\", \"hovertext\": [\"Bhutan\"], \"lat\": [27.5142], \"legendgroup\": \"Bhutan\", \"lon\": [90.4336], \"marker\": {\"color\": \"green\", \"size\": [2.9999997500000255], \"sizemode\": \"area\", \"sizeref\": 15.0}, \"mode\": \"markers\", \"name\": \"Bhutan\", \"showlegend\": true, \"subplot\": \"mapbox\", \"type\": \"scattermapbox\"}, {\"customdata\": [[2]], \"hoverlabel\": {\"namelength\": 0}, \"hovertemplate\": \"<b>%{hovertext}</b><br><br>Combined_Key=Bolivia<br>size=%{marker.size}<br>Recovered=%{customdata[0]}<br>Lat=%{lat}<br>Long_=%{lon}\", \"hovertext\": [\"Bolivia\"], \"lat\": [-16.2902], \"legendgroup\": \"Bolivia\", \"lon\": [-63.5887], \"marker\": {\"color\": \"green\", \"size\": [2.9999997500000255], \"sizemode\": \"area\", \"sizeref\": 15.0}, \"mode\": \"markers\", \"name\": \"Bolivia\", \"showlegend\": true, \"subplot\": \"mapbox\", \"type\": \"scattermapbox\"}, {\"customdata\": [[206]], \"hoverlabel\": {\"namelength\": 0}, \"hovertemplate\": \"<b>%{hovertext}</b><br><br>Combined_Key=Bosnia and Herzegovina<br>size=%{marker.size}<br>Recovered=%{customdata[0]}<br>Lat=%{lat}<br>Long_=%{lon}\", \"hovertext\": [\"Bosnia and Herzegovina\"], \"lat\": [43.9159], \"legendgroup\": \"Bosnia and Herzegovina\", \"lon\": [17.6791], \"marker\": {\"color\": \"green\", \"size\": [308.7271077577238], \"sizemode\": \"area\", \"sizeref\": 15.0}, \"mode\": \"markers\", \"name\": \"Bosnia and Herzegovina\", \"showlegend\": true, \"subplot\": \"mapbox\", \"type\": \"scattermapbox\"}, {\"customdata\": [[0]], \"hoverlabel\": {\"namelength\": 0}, \"hovertemplate\": \"<b>%{hovertext}</b><br><br>Combined_Key=Botswana<br>size=%{marker.size}<br>Recovered=%{customdata[0]}<br>Lat=%{lat}<br>Long_=%{lon}\", \"hovertext\": [\"Botswana\"], \"lat\": [-22.3285], \"legendgroup\": \"Botswana\", \"lon\": [24.6849], \"marker\": {\"color\": \"green\", \"size\": [0.0], \"sizemode\": \"area\", \"sizeref\": 15.0}, \"mode\": \"markers\", \"name\": \"Botswana\", \"showlegend\": true, \"subplot\": \"mapbox\", \"type\": \"scattermapbox\"}, {\"customdata\": [[173]], \"hoverlabel\": {\"namelength\": 0}, \"hovertemplate\": \"<b>%{hovertext}</b><br><br>Combined_Key=Brazil<br>size=%{marker.size}<br>Recovered=%{customdata[0]}<br>Lat=%{lat}<br>Long_=%{lon}\", \"hovertext\": [\"Brazil\"], \"lat\": [-14.235], \"legendgroup\": \"Brazil\", \"lon\": [-51.9253], \"marker\": {\"color\": \"green\", \"size\": [259.33831731769743], \"sizemode\": \"area\", \"sizeref\": 15.0}, \"mode\": \"markers\", \"name\": \"Brazil\", \"showlegend\": true, \"subplot\": \"mapbox\", \"type\": \"scattermapbox\"}, {\"customdata\": [[107]], \"hoverlabel\": {\"namelength\": 0}, \"hovertemplate\": \"<b>%{hovertext}</b><br><br>Combined_Key=Brunei<br>size=%{marker.size}<br>Recovered=%{customdata[0]}<br>Lat=%{lat}<br>Long_=%{lon}\", \"hovertext\": [\"Brunei\"], \"lat\": [4.5353], \"legendgroup\": \"Brunei\", \"lon\": [114.7277], \"marker\": {\"color\": \"green\", \"size\": [160.4617283605127], \"sizemode\": \"area\", \"sizeref\": 15.0}, \"mode\": \"markers\", \"name\": \"Brunei\", \"showlegend\": true, \"subplot\": \"mapbox\", \"type\": \"scattermapbox\"}, {\"customdata\": [[71]], \"hoverlabel\": {\"namelength\": 0}, \"hovertemplate\": \"<b>%{hovertext}</b><br><br>Combined_Key=Bulgaria<br>size=%{marker.size}<br>Recovered=%{customdata[0]}<br>Lat=%{lat}<br>Long_=%{lon}\", \"hovertext\": [\"Bulgaria\"], \"lat\": [42.7339], \"legendgroup\": \"Bulgaria\", \"lon\": [25.4858], \"marker\": {\"color\": \"green\", \"size\": [106.48881669062445], \"sizemode\": \"area\", \"sizeref\": 15.0}, \"mode\": \"markers\", \"name\": \"Bulgaria\", \"showlegend\": true, \"subplot\": \"mapbox\", \"type\": \"scattermapbox\"}, {\"customdata\": [[161]], \"hoverlabel\": {\"namelength\": 0}, \"hovertemplate\": \"<b>%{hovertext}</b><br><br>Combined_Key=Burkina Faso<br>size=%{marker.size}<br>Recovered=%{customdata[0]}<br>Lat=%{lat}<br>Long_=%{lon}\", \"hovertext\": [\"Burkina Faso\"], \"lat\": [12.2383], \"legendgroup\": \"Burkina Faso\", \"lon\": [-1.5616], \"marker\": {\"color\": \"green\", \"size\": [241.369669425569], \"sizemode\": \"area\", \"sizeref\": 15.0}, \"mode\": \"markers\", \"name\": \"Burkina Faso\", \"showlegend\": true, \"subplot\": \"mapbox\", \"type\": \"scattermapbox\"}, {\"customdata\": [[2]], \"hoverlabel\": {\"namelength\": 0}, \"hovertemplate\": \"<b>%{hovertext}</b><br><br>Combined_Key=Burma<br>size=%{marker.size}<br>Recovered=%{customdata[0]}<br>Lat=%{lat}<br>Long_=%{lon}\", \"hovertext\": [\"Burma\"], \"lat\": [21.9162], \"legendgroup\": \"Burma\", \"lon\": [95.956], \"marker\": {\"color\": \"green\", \"size\": [2.9999997500000255], \"sizemode\": \"area\", \"sizeref\": 15.0}, \"mode\": \"markers\", \"name\": \"Burma\", \"showlegend\": true, \"subplot\": \"mapbox\", \"type\": \"scattermapbox\"}, {\"customdata\": [[0]], \"hoverlabel\": {\"namelength\": 0}, \"hovertemplate\": \"<b>%{hovertext}</b><br><br>Combined_Key=Burundi<br>size=%{marker.size}<br>Recovered=%{customdata[0]}<br>Lat=%{lat}<br>Long_=%{lon}\", \"hovertext\": [\"Burundi\"], \"lat\": [-3.3731], \"legendgroup\": \"Burundi\", \"lon\": [29.9189], \"marker\": {\"color\": \"green\", \"size\": [0.0], \"sizemode\": \"area\", \"sizeref\": 15.0}, \"mode\": \"markers\", \"name\": \"Burundi\", \"showlegend\": true, \"subplot\": \"mapbox\", \"type\": \"scattermapbox\"}, {\"customdata\": [[1]], \"hoverlabel\": {\"namelength\": 0}, \"hovertemplate\": \"<b>%{hovertext}</b><br><br>Combined_Key=Cabo Verde<br>size=%{marker.size}<br>Recovered=%{customdata[0]}<br>Lat=%{lat}<br>Long_=%{lon}\", \"hovertext\": [\"Cabo Verde\"], \"lat\": [16.5388], \"legendgroup\": \"Cabo Verde\", \"lon\": [-23.0418], \"marker\": {\"color\": \"green\", \"size\": [1.4999999687500007], \"sizemode\": \"area\", \"sizeref\": 15.0}, \"mode\": \"markers\", \"name\": \"Cabo Verde\", \"showlegend\": true, \"subplot\": \"mapbox\", \"type\": \"scattermapbox\"}, {\"customdata\": [[77]], \"hoverlabel\": {\"namelength\": 0}, \"hovertemplate\": \"<b>%{hovertext}</b><br><br>Combined_Key=Cambodia<br>size=%{marker.size}<br>Recovered=%{customdata[0]}<br>Lat=%{lat}<br>Long_=%{lon}\", \"hovertext\": [\"Cambodia\"], \"lat\": [11.55], \"legendgroup\": \"Cambodia\", \"lon\": [104.9167], \"marker\": {\"color\": \"green\", \"size\": [115.485735458108], \"sizemode\": \"area\", \"sizeref\": 15.0}, \"mode\": \"markers\", \"name\": \"Cambodia\", \"showlegend\": true, \"subplot\": \"mapbox\", \"type\": \"scattermapbox\"}, {\"customdata\": [[98]], \"hoverlabel\": {\"namelength\": 0}, \"hovertemplate\": \"<b>%{hovertext}</b><br><br>Combined_Key=Cameroon<br>size=%{marker.size}<br>Recovered=%{customdata[0]}<br>Lat=%{lat}<br>Long_=%{lon}\", \"hovertext\": [\"Cameroon\"], \"lat\": [3.848], \"legendgroup\": \"Cameroon\", \"lon\": [11.5021], \"marker\": {\"color\": \"green\", \"size\": [146.97059481016592], \"sizemode\": \"area\", \"sizeref\": 15.0}, \"mode\": \"markers\", \"name\": \"Cameroon\", \"showlegend\": true, \"subplot\": \"mapbox\", \"type\": \"scattermapbox\"}, {\"customdata\": [[3]], \"hoverlabel\": {\"namelength\": 0}, \"hovertemplate\": \"<b>%{hovertext}</b><br><br>Combined_Key=Central African Republic<br>size=%{marker.size}<br>Recovered=%{customdata[0]}<br>Lat=%{lat}<br>Long_=%{lon}\", \"hovertext\": [\"Central African Republic\"], \"lat\": [6.6111], \"legendgroup\": \"Central African Republic\", \"lon\": [20.9394], \"marker\": {\"color\": \"green\", \"size\": [4.4999991562501895], \"sizemode\": \"area\", \"sizeref\": 15.0}, \"mode\": \"markers\", \"name\": \"Central African Republic\", \"showlegend\": true, \"subplot\": \"mapbox\", \"type\": \"scattermapbox\"}, {\"customdata\": [[2]], \"hoverlabel\": {\"namelength\": 0}, \"hovertemplate\": \"<b>%{hovertext}</b><br><br>Combined_Key=Chad<br>size=%{marker.size}<br>Recovered=%{customdata[0]}<br>Lat=%{lat}<br>Long_=%{lon}\", \"hovertext\": [\"Chad\"], \"lat\": [15.4542], \"legendgroup\": \"Chad\", \"lon\": [18.7322], \"marker\": {\"color\": \"green\", \"size\": [2.9999997500000255], \"sizemode\": \"area\", \"sizeref\": 15.0}, \"mode\": \"markers\", \"name\": \"Chad\", \"showlegend\": true, \"subplot\": \"mapbox\", \"type\": \"scattermapbox\"}, {\"customdata\": [[2367]], \"hoverlabel\": {\"namelength\": 0}, \"hovertemplate\": \"<b>%{hovertext}</b><br><br>Combined_Key=Chile<br>size=%{marker.size}<br>Recovered=%{customdata[0]}<br>Lat=%{lat}<br>Long_=%{lon}\", \"hovertext\": [\"Chile\"], \"lat\": [-35.6751], \"legendgroup\": \"Chile\", \"lon\": [-71.543], \"marker\": {\"color\": \"green\", \"size\": [3186.918352898976], \"sizemode\": \"area\", \"sizeref\": 15.0}, \"mode\": \"markers\", \"name\": \"Chile\", \"showlegend\": true, \"subplot\": \"mapbox\", \"type\": \"scattermapbox\"}, {\"customdata\": [[319]], \"hoverlabel\": {\"namelength\": 0}, \"hovertemplate\": \"<b>%{hovertext}</b><br><br>Combined_Key=Colombia<br>size=%{marker.size}<br>Recovered=%{customdata[0]}<br>Lat=%{lat}<br>Long_=%{lon}\", \"hovertext\": [\"Colombia\"], \"lat\": [4.5709], \"legendgroup\": \"Colombia\", \"lon\": [-74.2973], \"marker\": {\"color\": \"green\", \"size\": [477.4881441399147], \"sizemode\": \"area\", \"sizeref\": 15.0}, \"mode\": \"markers\", \"name\": \"Colombia\", \"showlegend\": true, \"subplot\": \"mapbox\", \"type\": \"scattermapbox\"}, {\"customdata\": [[5]], \"hoverlabel\": {\"namelength\": 0}, \"hovertemplate\": \"<b>%{hovertext}</b><br><br>Combined_Key=Congo (Brazzaville)<br>size=%{marker.size}<br>Recovered=%{customdata[0]}<br>Lat=%{lat}<br>Long_=%{lon}\", \"hovertext\": [\"Congo (Brazzaville)\"], \"lat\": [-4.2634], \"legendgroup\": \"Congo (Brazzaville)\", \"lon\": [15.2832], \"marker\": {\"color\": \"green\", \"size\": [7.499996093752441], \"sizemode\": \"area\", \"sizeref\": 15.0}, \"mode\": \"markers\", \"name\": \"Congo (Brazzaville)\", \"showlegend\": true, \"subplot\": \"mapbox\", \"type\": \"scattermapbox\"}, {\"customdata\": [[17]], \"hoverlabel\": {\"namelength\": 0}, \"hovertemplate\": \"<b>%{hovertext}</b><br><br>Combined_Key=Congo (Kinshasa)<br>size=%{marker.size}<br>Recovered=%{customdata[0]}<br>Lat=%{lat}<br>Long_=%{lon}\", \"hovertext\": [\"Congo (Kinshasa)\"], \"lat\": [-4.322447], \"legendgroup\": \"Congo (Kinshasa)\", \"lon\": [15.307045], \"marker\": {\"color\": \"green\", \"size\": [25.499846469859257], \"sizemode\": \"area\", \"sizeref\": 15.0}, \"mode\": \"markers\", \"name\": \"Congo (Kinshasa)\", \"showlegend\": true, \"subplot\": \"mapbox\", \"type\": \"scattermapbox\"}, {\"customdata\": [[62]], \"hoverlabel\": {\"namelength\": 0}, \"hovertemplate\": \"<b>%{hovertext}</b><br><br>Combined_Key=Costa Rica<br>size=%{marker.size}<br>Recovered=%{customdata[0]}<br>Lat=%{lat}<br>Long_=%{lon}\", \"hovertext\": [\"Costa Rica\"], \"lat\": [9.7489], \"legendgroup\": \"Costa Rica\", \"lon\": [-83.7534], \"marker\": {\"color\": \"green\", \"size\": [92.99255296565917], \"sizemode\": \"area\", \"sizeref\": 15.0}, \"mode\": \"markers\", \"name\": \"Costa Rica\", \"showlegend\": true, \"subplot\": \"mapbox\", \"type\": \"scattermapbox\"}, {\"customdata\": [[89]], \"hoverlabel\": {\"namelength\": 0}, \"hovertemplate\": \"<b>%{hovertext}</b><br><br>Combined_Key=Cote d'Ivoire<br>size=%{marker.size}<br>Recovered=%{customdata[0]}<br>Lat=%{lat}<br>Long_=%{lon}\", \"hovertext\": [\"Cote d'Ivoire\"], \"lat\": [7.54], \"legendgroup\": \"Cote d'Ivoire\", \"lon\": [-5.5471], \"marker\": {\"color\": \"green\", \"size\": [133.47797408042243], \"sizemode\": \"area\", \"sizeref\": 15.0}, \"mode\": \"markers\", \"name\": \"Cote d'Ivoire\", \"showlegend\": true, \"subplot\": \"mapbox\", \"type\": \"scattermapbox\"}, {\"customdata\": [[400]], \"hoverlabel\": {\"namelength\": 0}, \"hovertemplate\": \"<b>%{hovertext}</b><br><br>Combined_Key=Croatia<br>size=%{marker.size}<br>Recovered=%{customdata[0]}<br>Lat=%{lat}<br>Long_=%{lon}\", \"hovertext\": [\"Croatia\"], \"lat\": [45.1], \"legendgroup\": \"Croatia\", \"lon\": [15.2], \"marker\": {\"color\": \"green\", \"size\": [598.0079677497349], \"sizemode\": \"area\", \"sizeref\": 15.0}, \"mode\": \"markers\", \"name\": \"Croatia\", \"showlegend\": true, \"subplot\": \"mapbox\", \"type\": \"scattermapbox\"}, {\"customdata\": [[121]], \"hoverlabel\": {\"namelength\": 0}, \"hovertemplate\": \"<b>%{hovertext}</b><br><br>Combined_Key=Cuba<br>size=%{marker.size}<br>Recovered=%{customdata[0]}<br>Lat=%{lat}<br>Long_=%{lon}\", \"hovertext\": [\"Cuba\"], \"lat\": [21.521757], \"legendgroup\": \"Cuba\", \"lon\": [-77.78116700000002], \"marker\": {\"color\": \"green\", \"size\": [181.44465897486046], \"sizemode\": \"area\", \"sizeref\": 15.0}, \"mode\": \"markers\", \"name\": \"Cuba\", \"showlegend\": true, \"subplot\": \"mapbox\", \"type\": \"scattermapbox\"}, {\"customdata\": [[65]], \"hoverlabel\": {\"namelength\": 0}, \"hovertemplate\": \"<b>%{hovertext}</b><br><br>Combined_Key=Cyprus<br>size=%{marker.size}<br>Recovered=%{customdata[0]}<br>Lat=%{lat}<br>Long_=%{lon}\", \"hovertext\": [\"Cyprus\"], \"lat\": [35.1264], \"legendgroup\": \"Cyprus\", \"lon\": [33.4299], \"marker\": {\"color\": \"green\", \"size\": [97.49141887513018], \"sizemode\": \"area\", \"sizeref\": 15.0}, \"mode\": \"markers\", \"name\": \"Cyprus\", \"showlegend\": true, \"subplot\": \"mapbox\", \"type\": \"scattermapbox\"}, {\"customdata\": [[519]], \"hoverlabel\": {\"namelength\": 0}, \"hovertemplate\": \"<b>%{hovertext}</b><br><br>Combined_Key=Czechia<br>size=%{marker.size}<br>Recovered=%{customdata[0]}<br>Lat=%{lat}<br>Long_=%{lon}\", \"hovertext\": [\"Czechia\"], \"lat\": [49.8175], \"legendgroup\": \"Czechia\", \"lon\": [15.473], \"marker\": {\"color\": \"green\", \"size\": [774.1605210997509], \"sizemode\": \"area\", \"sizeref\": 15.0}, \"mode\": \"markers\", \"name\": \"Czechia\", \"showlegend\": true, \"subplot\": \"mapbox\", \"type\": \"scattermapbox\"}, {\"customdata\": [[619]], \"hoverlabel\": {\"namelength\": 0}, \"hovertemplate\": \"<b>%{hovertext}</b><br><br>Combined_Key=Diamond Princess<br>size=%{marker.size}<br>Recovered=%{customdata[0]}<br>Lat=%{lat}<br>Long_=%{lon}\", \"hovertext\": [\"Diamond Princess\"], \"lat\": [null], \"legendgroup\": \"Diamond Princess\", \"lon\": [null], \"marker\": {\"color\": \"green\", \"size\": [921.1585453727207], \"sizemode\": \"area\", \"sizeref\": 15.0}, \"mode\": \"markers\", \"name\": \"Diamond Princess\", \"showlegend\": true, \"subplot\": \"mapbox\", \"type\": \"scattermapbox\"}, {\"customdata\": [[41]], \"hoverlabel\": {\"namelength\": 0}, \"hovertemplate\": \"<b>%{hovertext}</b><br><br>Combined_Key=Djibouti<br>size=%{marker.size}<br>Recovered=%{customdata[0]}<br>Lat=%{lat}<br>Long_=%{lon}\", \"hovertext\": [\"Djibouti\"], \"lat\": [11.8251], \"legendgroup\": \"Djibouti\", \"lon\": [42.5903], \"marker\": {\"color\": \"green\", \"size\": [61.497846309258804], \"sizemode\": \"area\", \"sizeref\": 15.0}, \"mode\": \"markers\", \"name\": \"Djibouti\", \"showlegend\": true, \"subplot\": \"mapbox\", \"type\": \"scattermapbox\"}, {\"customdata\": [[8]], \"hoverlabel\": {\"namelength\": 0}, \"hovertemplate\": \"<b>%{hovertext}</b><br><br>Combined_Key=Dominica<br>size=%{marker.size}<br>Recovered=%{customdata[0]}<br>Lat=%{lat}<br>Long_=%{lon}\", \"hovertext\": [\"Dominica\"], \"lat\": [15.415], \"legendgroup\": \"Dominica\", \"lon\": [-61.371], \"marker\": {\"color\": \"green\", \"size\": [11.9999840000256], \"sizemode\": \"area\", \"sizeref\": 15.0}, \"mode\": \"markers\", \"name\": \"Dominica\", \"showlegend\": true, \"subplot\": \"mapbox\", \"type\": \"scattermapbox\"}, {\"customdata\": [[152]], \"hoverlabel\": {\"namelength\": 0}, \"hovertemplate\": \"<b>%{hovertext}</b><br><br>Combined_Key=Dominican Republic<br>size=%{marker.size}<br>Recovered=%{customdata[0]}<br>Lat=%{lat}<br>Long_=%{lon}\", \"hovertext\": [\"Dominican Republic\"], \"lat\": [18.7357], \"legendgroup\": \"Dominican Republic\", \"lon\": [-70.1627], \"marker\": {\"color\": \"green\", \"size\": [227.8903193511072], \"sizemode\": \"area\", \"sizeref\": 15.0}, \"mode\": \"markers\", \"name\": \"Dominican Republic\", \"showlegend\": true, \"subplot\": \"mapbox\", \"type\": \"scattermapbox\"}, {\"customdata\": [[597]], \"hoverlabel\": {\"namelength\": 0}, \"hovertemplate\": \"<b>%{hovertext}</b><br><br>Combined_Key=Ecuador<br>size=%{marker.size}<br>Recovered=%{customdata[0]}<br>Lat=%{lat}<br>Long_=%{lon}\", \"hovertext\": [\"Ecuador\"], \"lat\": [-1.8312], \"legendgroup\": \"Ecuador\", \"lon\": [-78.1834], \"marker\": {\"color\": \"green\", \"size\": [888.90946155135], \"sizemode\": \"area\", \"sizeref\": 15.0}, \"mode\": \"markers\", \"name\": \"Ecuador\", \"showlegend\": true, \"subplot\": \"mapbox\", \"type\": \"scattermapbox\"}, {\"customdata\": [[589]], \"hoverlabel\": {\"namelength\": 0}, \"hovertemplate\": \"<b>%{hovertext}</b><br><br>Combined_Key=Egypt<br>size=%{marker.size}<br>Recovered=%{customdata[0]}<br>Lat=%{lat}<br>Long_=%{lon}\", \"hovertext\": [\"Egypt\"], \"lat\": [26.820553000000004], \"legendgroup\": \"Egypt\", \"lon\": [30.802498], \"marker\": {\"color\": \"green\", \"size\": [877.1693852600943], \"sizemode\": \"area\", \"sizeref\": 15.0}, \"mode\": \"markers\", \"name\": \"Egypt\", \"showlegend\": true, \"subplot\": \"mapbox\", \"type\": \"scattermapbox\"}, {\"customdata\": [[22]], \"hoverlabel\": {\"namelength\": 0}, \"hovertemplate\": \"<b>%{hovertext}</b><br><br>Combined_Key=El Salvador<br>size=%{marker.size}<br>Recovered=%{customdata[0]}<br>Lat=%{lat}<br>Long_=%{lon}\", \"hovertext\": [\"El Salvador\"], \"lat\": [13.7942], \"legendgroup\": \"El Salvador\", \"lon\": [-88.8965], \"marker\": {\"color\": \"green\", \"size\": [32.99966725402622], \"sizemode\": \"area\", \"sizeref\": 15.0}, \"mode\": \"markers\", \"name\": \"El Salvador\", \"showlegend\": true, \"subplot\": \"mapbox\", \"type\": \"scattermapbox\"}, {\"customdata\": [[4]], \"hoverlabel\": {\"namelength\": 0}, \"hovertemplate\": \"<b>%{hovertext}</b><br><br>Combined_Key=Equatorial Guinea<br>size=%{marker.size}<br>Recovered=%{customdata[0]}<br>Lat=%{lat}<br>Long_=%{lon}\", \"hovertext\": [\"Equatorial Guinea\"], \"lat\": [1.6508], \"legendgroup\": \"Equatorial Guinea\", \"lon\": [10.2679], \"marker\": {\"color\": \"green\", \"size\": [5.9999980000008], \"sizemode\": \"area\", \"sizeref\": 15.0}, \"mode\": \"markers\", \"name\": \"Equatorial Guinea\", \"showlegend\": true, \"subplot\": \"mapbox\", \"type\": \"scattermapbox\"}, {\"customdata\": [[0]], \"hoverlabel\": {\"namelength\": 0}, \"hovertemplate\": \"<b>%{hovertext}</b><br><br>Combined_Key=Eritrea<br>size=%{marker.size}<br>Recovered=%{customdata[0]}<br>Lat=%{lat}<br>Long_=%{lon}\", \"hovertext\": [\"Eritrea\"], \"lat\": [15.1794], \"legendgroup\": \"Eritrea\", \"lon\": [39.7823], \"marker\": {\"color\": \"green\", \"size\": [0.0], \"sizemode\": \"area\", \"sizeref\": 15.0}, \"mode\": \"markers\", \"name\": \"Eritrea\", \"showlegend\": true, \"subplot\": \"mapbox\", \"type\": \"scattermapbox\"}, {\"customdata\": [[102]], \"hoverlabel\": {\"namelength\": 0}, \"hovertemplate\": \"<b>%{hovertext}</b><br><br>Combined_Key=Estonia<br>size=%{marker.size}<br>Recovered=%{customdata[0]}<br>Lat=%{lat}<br>Long_=%{lon}\", \"hovertext\": [\"Estonia\"], \"lat\": [58.5953], \"legendgroup\": \"Estonia\", \"lon\": [25.0136], \"marker\": {\"color\": \"green\", \"size\": [152.96684587336165], \"sizemode\": \"area\", \"sizeref\": 15.0}, \"mode\": \"markers\", \"name\": \"Estonia\", \"showlegend\": true, \"subplot\": \"mapbox\", \"type\": \"scattermapbox\"}, {\"customdata\": [[7]], \"hoverlabel\": {\"namelength\": 0}, \"hovertemplate\": \"<b>%{hovertext}</b><br><br>Combined_Key=Eswatini<br>size=%{marker.size}<br>Recovered=%{customdata[0]}<br>Lat=%{lat}<br>Long_=%{lon}\", \"hovertext\": [\"Eswatini\"], \"lat\": [-26.5225], \"legendgroup\": \"Eswatini\", \"lon\": [31.4659], \"marker\": {\"color\": \"green\", \"size\": [10.499989281263131], \"sizemode\": \"area\", \"sizeref\": 15.0}, \"mode\": \"markers\", \"name\": \"Eswatini\", \"showlegend\": true, \"subplot\": \"mapbox\", \"type\": \"scattermapbox\"}, {\"customdata\": [[14]], \"hoverlabel\": {\"namelength\": 0}, \"hovertemplate\": \"<b>%{hovertext}</b><br><br>Combined_Key=Ethiopia<br>size=%{marker.size}<br>Recovered=%{customdata[0]}<br>Lat=%{lat}<br>Long_=%{lon}\", \"hovertext\": [\"Ethiopia\"], \"lat\": [9.145], \"legendgroup\": \"Ethiopia\", \"lon\": [40.4897], \"marker\": {\"color\": \"green\", \"size\": [20.999914250420172], \"sizemode\": \"area\", \"sizeref\": 15.0}, \"mode\": \"markers\", \"name\": \"Ethiopia\", \"showlegend\": true, \"subplot\": \"mapbox\", \"type\": \"scattermapbox\"}, {\"customdata\": [[0]], \"hoverlabel\": {\"namelength\": 0}, \"hovertemplate\": \"<b>%{hovertext}</b><br><br>Combined_Key=Fiji<br>size=%{marker.size}<br>Recovered=%{customdata[0]}<br>Lat=%{lat}<br>Long_=%{lon}\", \"hovertext\": [\"Fiji\"], \"lat\": [-17.7134], \"legendgroup\": \"Fiji\", \"lon\": [178.065], \"marker\": {\"color\": \"green\", \"size\": [0.0], \"sizemode\": \"area\", \"sizeref\": 15.0}, \"mode\": \"markers\", \"name\": \"Fiji\", \"showlegend\": true, \"subplot\": \"mapbox\", \"type\": \"scattermapbox\"}, {\"customdata\": [[300]], \"hoverlabel\": {\"namelength\": 0}, \"hovertemplate\": \"<b>%{hovertext}</b><br><br>Combined_Key=Finland<br>size=%{marker.size}<br>Recovered=%{customdata[0]}<br>Lat=%{lat}<br>Long_=%{lon}\", \"hovertext\": [\"Finland\"], \"lat\": [61.92411], \"legendgroup\": \"Finland\", \"lon\": [25.748151], \"marker\": {\"color\": \"green\", \"size\": [449.1581441249946], \"sizemode\": \"area\", \"sizeref\": 15.0}, \"mode\": \"markers\", \"name\": \"Finland\", \"showlegend\": true, \"subplot\": \"mapbox\", \"type\": \"scattermapbox\"}, {\"customdata\": [[1]], \"hoverlabel\": {\"namelength\": 0}, \"hovertemplate\": \"<b>%{hovertext}</b><br><br>Combined_Key=Gabon<br>size=%{marker.size}<br>Recovered=%{customdata[0]}<br>Lat=%{lat}<br>Long_=%{lon}\", \"hovertext\": [\"Gabon\"], \"lat\": [-0.8037], \"legendgroup\": \"Gabon\", \"lon\": [11.6094], \"marker\": {\"color\": \"green\", \"size\": [1.4999999687500007], \"sizemode\": \"area\", \"sizeref\": 15.0}, \"mode\": \"markers\", \"name\": \"Gabon\", \"showlegend\": true, \"subplot\": \"mapbox\", \"type\": \"scattermapbox\"}, {\"customdata\": [[2]], \"hoverlabel\": {\"namelength\": 0}, \"hovertemplate\": \"<b>%{hovertext}</b><br><br>Combined_Key=Gambia<br>size=%{marker.size}<br>Recovered=%{customdata[0]}<br>Lat=%{lat}<br>Long_=%{lon}\", \"hovertext\": [\"Gambia\"], \"lat\": [13.4432], \"legendgroup\": \"Gambia\", \"lon\": [-15.3101], \"marker\": {\"color\": \"green\", \"size\": [2.9999997500000255], \"sizemode\": \"area\", \"sizeref\": 15.0}, \"mode\": \"markers\", \"name\": \"Gambia\", \"showlegend\": true, \"subplot\": \"mapbox\", \"type\": \"scattermapbox\"}, {\"customdata\": [[68]], \"hoverlabel\": {\"namelength\": 0}, \"hovertemplate\": \"<b>%{hovertext}</b><br><br>Combined_Key=Georgia<br>size=%{marker.size}<br>Recovered=%{customdata[0]}<br>Lat=%{lat}<br>Long_=%{lon}\", \"hovertext\": [\"Georgia\"], \"lat\": [42.3154], \"legendgroup\": \"Georgia\", \"lon\": [43.3569], \"marker\": {\"color\": \"green\", \"size\": [101.99017513575274], \"sizemode\": \"area\", \"sizeref\": 15.0}, \"mode\": \"markers\", \"name\": \"Georgia\", \"showlegend\": true, \"subplot\": \"mapbox\", \"type\": \"scattermapbox\"}, {\"customdata\": [[64300]], \"hoverlabel\": {\"namelength\": 0}, \"hovertemplate\": \"<b>%{hovertext}</b><br><br>Combined_Key=Germany<br>size=%{marker.size}<br>Recovered=%{customdata[0]}<br>Lat=%{lat}<br>Long_=%{lon}\", \"hovertext\": [\"Germany\"], \"lat\": [51.165691], \"legendgroup\": \"Germany\", \"lon\": [10.451526], \"marker\": {\"color\": \"green\", \"size\": [5999.999999999869], \"sizemode\": \"area\", \"sizeref\": 15.0}, \"mode\": \"markers\", \"name\": \"Germany\", \"showlegend\": true, \"subplot\": \"mapbox\", \"type\": \"scattermapbox\"}, {\"customdata\": [[4]], \"hoverlabel\": {\"namelength\": 0}, \"hovertemplate\": \"<b>%{hovertext}</b><br><br>Combined_Key=Ghana<br>size=%{marker.size}<br>Recovered=%{customdata[0]}<br>Lat=%{lat}<br>Long_=%{lon}\", \"hovertext\": [\"Ghana\"], \"lat\": [7.9465], \"legendgroup\": \"Ghana\", \"lon\": [-1.0232], \"marker\": {\"color\": \"green\", \"size\": [5.9999980000008], \"sizemode\": \"area\", \"sizeref\": 15.0}, \"mode\": \"markers\", \"name\": \"Ghana\", \"showlegend\": true, \"subplot\": \"mapbox\", \"type\": \"scattermapbox\"}, {\"customdata\": [[269]], \"hoverlabel\": {\"namelength\": 0}, \"hovertemplate\": \"<b>%{hovertext}</b><br><br>Combined_Key=Greece<br>size=%{marker.size}<br>Recovered=%{customdata[0]}<br>Lat=%{lat}<br>Long_=%{lon}\", \"hovertext\": [\"Greece\"], \"lat\": [39.0742], \"legendgroup\": \"Greece\", \"lon\": [21.8243], \"marker\": {\"color\": \"green\", \"size\": [402.892813735232], \"sizemode\": \"area\", \"sizeref\": 15.0}, \"mode\": \"markers\", \"name\": \"Greece\", \"showlegend\": true, \"subplot\": \"mapbox\", \"type\": \"scattermapbox\"}, {\"customdata\": [[0]], \"hoverlabel\": {\"namelength\": 0}, \"hovertemplate\": \"<b>%{hovertext}</b><br><br>Combined_Key=Grenada<br>size=%{marker.size}<br>Recovered=%{customdata[0]}<br>Lat=%{lat}<br>Long_=%{lon}\", \"hovertext\": [\"Grenada\"], \"lat\": [12.1165], \"legendgroup\": \"Grenada\", \"lon\": [-61.679], \"marker\": {\"color\": \"green\", \"size\": [0.0], \"sizemode\": \"area\", \"sizeref\": 15.0}, \"mode\": \"markers\", \"name\": \"Grenada\", \"showlegend\": true, \"subplot\": \"mapbox\", \"type\": \"scattermapbox\"}, {\"customdata\": [[19]], \"hoverlabel\": {\"namelength\": 0}, \"hovertemplate\": \"<b>%{hovertext}</b><br><br>Combined_Key=Guatemala<br>size=%{marker.size}<br>Recovered=%{customdata[0]}<br>Lat=%{lat}<br>Long_=%{lon}\", \"hovertext\": [\"Guatemala\"], \"lat\": [15.7835], \"legendgroup\": \"Guatemala\", \"lon\": [-90.2308], \"marker\": {\"color\": \"green\", \"size\": [28.499785658184436], \"sizemode\": \"area\", \"sizeref\": 15.0}, \"mode\": \"markers\", \"name\": \"Guatemala\", \"showlegend\": true, \"subplot\": \"mapbox\", \"type\": \"scattermapbox\"}, {\"customdata\": [[17]], \"hoverlabel\": {\"namelength\": 0}, \"hovertemplate\": \"<b>%{hovertext}</b><br><br>Combined_Key=Guinea<br>size=%{marker.size}<br>Recovered=%{customdata[0]}<br>Lat=%{lat}<br>Long_=%{lon}\", \"hovertext\": [\"Guinea\"], \"lat\": [9.9456], \"legendgroup\": \"Guinea\", \"lon\": [-9.6966], \"marker\": {\"color\": \"green\", \"size\": [25.499846469859257], \"sizemode\": \"area\", \"sizeref\": 15.0}, \"mode\": \"markers\", \"name\": \"Guinea\", \"showlegend\": true, \"subplot\": \"mapbox\", \"type\": \"scattermapbox\"}, {\"customdata\": [[0]], \"hoverlabel\": {\"namelength\": 0}, \"hovertemplate\": \"<b>%{hovertext}</b><br><br>Combined_Key=Guinea-Bissau<br>size=%{marker.size}<br>Recovered=%{customdata[0]}<br>Lat=%{lat}<br>Long_=%{lon}\", \"hovertext\": [\"Guinea-Bissau\"], \"lat\": [11.8037], \"legendgroup\": \"Guinea-Bissau\", \"lon\": [-15.1804], \"marker\": {\"color\": \"green\", \"size\": [0.0], \"sizemode\": \"area\", \"sizeref\": 15.0}, \"mode\": \"markers\", \"name\": \"Guinea-Bissau\", \"showlegend\": true, \"subplot\": \"mapbox\", \"type\": \"scattermapbox\"}, {\"customdata\": [[8]], \"hoverlabel\": {\"namelength\": 0}, \"hovertemplate\": \"<b>%{hovertext}</b><br><br>Combined_Key=Guyana<br>size=%{marker.size}<br>Recovered=%{customdata[0]}<br>Lat=%{lat}<br>Long_=%{lon}\", \"hovertext\": [\"Guyana\"], \"lat\": [4.860416000000002], \"legendgroup\": \"Guyana\", \"lon\": [-58.93018000000001], \"marker\": {\"color\": \"green\", \"size\": [11.9999840000256], \"sizemode\": \"area\", \"sizeref\": 15.0}, \"mode\": \"markers\", \"name\": \"Guyana\", \"showlegend\": true, \"subplot\": \"mapbox\", \"type\": \"scattermapbox\"}, {\"customdata\": [[0]], \"hoverlabel\": {\"namelength\": 0}, \"hovertemplate\": \"<b>%{hovertext}</b><br><br>Combined_Key=Haiti<br>size=%{marker.size}<br>Recovered=%{customdata[0]}<br>Lat=%{lat}<br>Long_=%{lon}\", \"hovertext\": [\"Haiti\"], \"lat\": [18.9712], \"legendgroup\": \"Haiti\", \"lon\": [-72.2852], \"marker\": {\"color\": \"green\", \"size\": [0.0], \"sizemode\": \"area\", \"sizeref\": 15.0}, \"mode\": \"markers\", \"name\": \"Haiti\", \"showlegend\": true, \"subplot\": \"mapbox\", \"type\": \"scattermapbox\"}, {\"customdata\": [[2]], \"hoverlabel\": {\"namelength\": 0}, \"hovertemplate\": \"<b>%{hovertext}</b><br><br>Combined_Key=Holy See<br>size=%{marker.size}<br>Recovered=%{customdata[0]}<br>Lat=%{lat}<br>Long_=%{lon}\", \"hovertext\": [\"Holy See\"], \"lat\": [41.9029], \"legendgroup\": \"Holy See\", \"lon\": [12.4534], \"marker\": {\"color\": \"green\", \"size\": [2.9999997500000255], \"sizemode\": \"area\", \"sizeref\": 15.0}, \"mode\": \"markers\", \"name\": \"Holy See\", \"showlegend\": true, \"subplot\": \"mapbox\", \"type\": \"scattermapbox\"}, {\"customdata\": [[7]], \"hoverlabel\": {\"namelength\": 0}, \"hovertemplate\": \"<b>%{hovertext}</b><br><br>Combined_Key=Honduras<br>size=%{marker.size}<br>Recovered=%{customdata[0]}<br>Lat=%{lat}<br>Long_=%{lon}\", \"hovertext\": [\"Honduras\"], \"lat\": [15.2], \"legendgroup\": \"Honduras\", \"lon\": [-86.2419], \"marker\": {\"color\": \"green\", \"size\": [10.499989281263131], \"sizemode\": \"area\", \"sizeref\": 15.0}, \"mode\": \"markers\", \"name\": \"Honduras\", \"showlegend\": true, \"subplot\": \"mapbox\", \"type\": \"scattermapbox\"}, {\"customdata\": [[120]], \"hoverlabel\": {\"namelength\": 0}, \"hovertemplate\": \"<b>%{hovertext}</b><br><br>Combined_Key=Hungary<br>size=%{marker.size}<br>Recovered=%{customdata[0]}<br>Lat=%{lat}<br>Long_=%{lon}\", \"hovertext\": [\"Hungary\"], \"lat\": [47.1625], \"legendgroup\": \"Hungary\", \"lon\": [19.5033], \"marker\": {\"color\": \"green\", \"size\": [179.94601943292085], \"sizemode\": \"area\", \"sizeref\": 15.0}, \"mode\": \"markers\", \"name\": \"Hungary\", \"showlegend\": true, \"subplot\": \"mapbox\", \"type\": \"scattermapbox\"}, {\"customdata\": [[933]], \"hoverlabel\": {\"namelength\": 0}, \"hovertemplate\": \"<b>%{hovertext}</b><br><br>Combined_Key=Iceland<br>size=%{marker.size}<br>Recovered=%{customdata[0]}<br>Lat=%{lat}<br>Long_=%{lon}\", \"hovertext\": [\"Iceland\"], \"lat\": [64.9631], \"legendgroup\": \"Iceland\", \"lon\": [-19.0208], \"marker\": {\"color\": \"green\", \"size\": [1374.6602339616572], \"sizemode\": \"area\", \"sizeref\": 15.0}, \"mode\": \"markers\", \"name\": \"Iceland\", \"showlegend\": true, \"subplot\": \"mapbox\", \"type\": \"scattermapbox\"}, {\"customdata\": [[1181]], \"hoverlabel\": {\"namelength\": 0}, \"hovertemplate\": \"<b>%{hovertext}</b><br><br>Combined_Key=India<br>size=%{marker.size}<br>Recovered=%{customdata[0]}<br>Lat=%{lat}<br>Long_=%{lon}\", \"hovertext\": [\"India\"], \"lat\": [20.593684], \"legendgroup\": \"India\", \"lon\": [78.96288], \"marker\": {\"color\": \"green\", \"size\": [1721.758328237353], \"sizemode\": \"area\", \"sizeref\": 15.0}, \"mode\": \"markers\", \"name\": \"India\", \"showlegend\": true, \"subplot\": \"mapbox\", \"type\": \"scattermapbox\"}, {\"customdata\": [[380]], \"hoverlabel\": {\"namelength\": 0}, \"hovertemplate\": \"<b>%{hovertext}</b><br><br>Combined_Key=Indonesia<br>size=%{marker.size}<br>Recovered=%{customdata[0]}<br>Lat=%{lat}<br>Long_=%{lon}\", \"hovertext\": [\"Indonesia\"], \"lat\": [-0.7893], \"legendgroup\": \"Indonesia\", \"lon\": [113.9213], \"marker\": {\"color\": \"green\", \"size\": [568.2914177170713], \"sizemode\": \"area\", \"sizeref\": 15.0}, \"mode\": \"markers\", \"name\": \"Indonesia\", \"showlegend\": true, \"subplot\": \"mapbox\", \"type\": \"scattermapbox\"}, {\"customdata\": [[45983]], \"hoverlabel\": {\"namelength\": 0}, \"hovertemplate\": \"<b>%{hovertext}</b><br><br>Combined_Key=Iran<br>size=%{marker.size}<br>Recovered=%{customdata[0]}<br>Lat=%{lat}<br>Long_=%{lon}\", \"hovertext\": [\"Iran\"], \"lat\": [32.427908], \"legendgroup\": \"Iran\", \"lon\": [53.68804599999999], \"marker\": {\"color\": \"green\", \"size\": [5999.999998758063], \"sizemode\": \"area\", \"sizeref\": 15.0}, \"mode\": \"markers\", \"name\": \"Iran\", \"showlegend\": true, \"subplot\": \"mapbox\", \"type\": \"scattermapbox\"}, {\"customdata\": [[717]], \"hoverlabel\": {\"namelength\": 0}, \"hovertemplate\": \"<b>%{hovertext}</b><br><br>Combined_Key=Iraq<br>size=%{marker.size}<br>Recovered=%{customdata[0]}<br>Lat=%{lat}<br>Long_=%{lon}\", \"hovertext\": [\"Iraq\"], \"lat\": [33.223191], \"legendgroup\": \"Iraq\", \"lon\": [43.679291], \"marker\": {\"color\": \"green\", \"size\": [1064.1273350607937], \"sizemode\": \"area\", \"sizeref\": 15.0}, \"mode\": \"markers\", \"name\": \"Iraq\", \"showlegend\": true, \"subplot\": \"mapbox\", \"type\": \"scattermapbox\"}, {\"customdata\": [[25]], \"hoverlabel\": {\"namelength\": 0}, \"hovertemplate\": \"<b>%{hovertext}</b><br><br>Combined_Key=Ireland<br>size=%{marker.size}<br>Recovered=%{customdata[0]}<br>Lat=%{lat}<br>Long_=%{lon}\", \"hovertext\": [\"Ireland\"], \"lat\": [53.1424], \"legendgroup\": \"Ireland\", \"lon\": [-7.6921], \"marker\": {\"color\": \"green\", \"size\": [37.49951172637928], \"sizemode\": \"area\", \"sizeref\": 15.0}, \"mode\": \"markers\", \"name\": \"Ireland\", \"showlegend\": true, \"subplot\": \"mapbox\", \"type\": \"scattermapbox\"}, {\"customdata\": [[1855]], \"hoverlabel\": {\"namelength\": 0}, \"hovertemplate\": \"<b>%{hovertext}</b><br><br>Combined_Key=Israel<br>size=%{marker.size}<br>Recovered=%{customdata[0]}<br>Lat=%{lat}<br>Long_=%{lon}\", \"hovertext\": [\"Israel\"], \"lat\": [31.046051], \"legendgroup\": \"Israel\", \"lon\": [34.851612], \"marker\": {\"color\": \"green\", \"size\": [2598.813774692574], \"sizemode\": \"area\", \"sizeref\": 15.0}, \"mode\": \"markers\", \"name\": \"Israel\", \"showlegend\": true, \"subplot\": \"mapbox\", \"type\": \"scattermapbox\"}, {\"customdata\": [[35435]], \"hoverlabel\": {\"namelength\": 0}, \"hovertemplate\": \"<b>%{hovertext}</b><br><br>Combined_Key=Italy<br>size=%{marker.size}<br>Recovered=%{customdata[0]}<br>Lat=%{lat}<br>Long_=%{lon}\", \"hovertext\": [\"Italy\"], \"lat\": [41.87194], \"legendgroup\": \"Italy\", \"lon\": [12.56738], \"marker\": {\"color\": \"green\", \"size\": [5999.999757579829], \"sizemode\": \"area\", \"sizeref\": 15.0}, \"mode\": \"markers\", \"name\": \"Italy\", \"showlegend\": true, \"subplot\": \"mapbox\", \"type\": \"scattermapbox\"}, {\"customdata\": [[19]], \"hoverlabel\": {\"namelength\": 0}, \"hovertemplate\": \"<b>%{hovertext}</b><br><br>Combined_Key=Jamaica<br>size=%{marker.size}<br>Recovered=%{customdata[0]}<br>Lat=%{lat}<br>Long_=%{lon}\", \"hovertext\": [\"Jamaica\"], \"lat\": [18.1096], \"legendgroup\": \"Jamaica\", \"lon\": [-77.2975], \"marker\": {\"color\": \"green\", \"size\": [28.499785658184436], \"sizemode\": \"area\", \"sizeref\": 15.0}, \"mode\": \"markers\", \"name\": \"Jamaica\", \"showlegend\": true, \"subplot\": \"mapbox\", \"type\": \"scattermapbox\"}, {\"customdata\": [[784]], \"hoverlabel\": {\"namelength\": 0}, \"hovertemplate\": \"<b>%{hovertext}</b><br><br>Combined_Key=Japan<br>size=%{marker.size}<br>Recovered=%{customdata[0]}<br>Lat=%{lat}<br>Long_=%{lon}\", \"hovertext\": [\"Japan\"], \"lat\": [36.204824], \"legendgroup\": \"Japan\", \"lon\": [138.252924], \"marker\": {\"color\": \"green\", \"size\": [1161.1687887053572], \"sizemode\": \"area\", \"sizeref\": 15.0}, \"mode\": \"markers\", \"name\": \"Japan\", \"showlegend\": true, \"subplot\": \"mapbox\", \"type\": \"scattermapbox\"}, {\"customdata\": [[215]], \"hoverlabel\": {\"namelength\": 0}, \"hovertemplate\": \"<b>%{hovertext}</b><br><br>Combined_Key=Jordan<br>size=%{marker.size}<br>Recovered=%{customdata[0]}<br>Lat=%{lat}<br>Long_=%{lon}\", \"hovertext\": [\"Jordan\"], \"lat\": [31.24], \"legendgroup\": \"Jordan\", \"lon\": [36.51], \"marker\": {\"color\": \"green\", \"size\": [322.1897842693724], \"sizemode\": \"area\", \"sizeref\": 15.0}, \"mode\": \"markers\", \"name\": \"Jordan\", \"showlegend\": true, \"subplot\": \"mapbox\", \"type\": \"scattermapbox\"}, {\"customdata\": [[138]], \"hoverlabel\": {\"namelength\": 0}, \"hovertemplate\": \"<b>%{hovertext}</b><br><br>Combined_Key=Kazakhstan<br>size=%{marker.size}<br>Recovered=%{customdata[0]}<br>Lat=%{lat}<br>Long_=%{lon}\", \"hovertext\": [\"Kazakhstan\"], \"lat\": [48.0196], \"legendgroup\": \"Kazakhstan\", \"lon\": [66.9237], \"marker\": {\"color\": \"green\", \"size\": [206.91791183195534], \"sizemode\": \"area\", \"sizeref\": 15.0}, \"mode\": \"markers\", \"name\": \"Kazakhstan\", \"showlegend\": true, \"subplot\": \"mapbox\", \"type\": \"scattermapbox\"}, {\"customdata\": [[40]], \"hoverlabel\": {\"namelength\": 0}, \"hovertemplate\": \"<b>%{hovertext}</b><br><br>Combined_Key=Kenya<br>size=%{marker.size}<br>Recovered=%{customdata[0]}<br>Lat=%{lat}<br>Long_=%{lon}\", \"hovertext\": [\"Kenya\"], \"lat\": [-0.0236], \"legendgroup\": \"Kenya\", \"lon\": [37.9062], \"marker\": {\"color\": \"green\", \"size\": [59.998000079996764], \"sizemode\": \"area\", \"sizeref\": 15.0}, \"mode\": \"markers\", \"name\": \"Kenya\", \"showlegend\": true, \"subplot\": \"mapbox\", \"type\": \"scattermapbox\"}, {\"customdata\": [[7447]], \"hoverlabel\": {\"namelength\": 0}, \"hovertemplate\": \"<b>%{hovertext}</b><br><br>Combined_Key=Korea, South<br>size=%{marker.size}<br>Recovered=%{customdata[0]}<br>Lat=%{lat}<br>Long_=%{lon}\", \"hovertext\": [\"Korea, South\"], \"lat\": [35.90775700000001], \"legendgroup\": \"Korea, South\", \"lon\": [127.766922], \"marker\": {\"color\": \"green\", \"size\": [5717.041677999213], \"sizemode\": \"area\", \"sizeref\": 15.0}, \"mode\": \"markers\", \"name\": \"Korea, South\", \"showlegend\": true, \"subplot\": \"mapbox\", \"type\": \"scattermapbox\"}, {\"customdata\": [[58]], \"hoverlabel\": {\"namelength\": 0}, \"hovertemplate\": \"<b>%{hovertext}</b><br><br>Combined_Key=Kosovo<br>size=%{marker.size}<br>Recovered=%{customdata[0]}<br>Lat=%{lat}<br>Long_=%{lon}\", \"hovertext\": [\"Kosovo\"], \"lat\": [42.602636], \"legendgroup\": \"Kosovo\", \"lon\": [20.902977], \"marker\": {\"color\": \"green\", \"size\": [86.99390326273509], \"sizemode\": \"area\", \"sizeref\": 15.0}, \"mode\": \"markers\", \"name\": \"Kosovo\", \"showlegend\": true, \"subplot\": \"mapbox\", \"type\": \"scattermapbox\"}, {\"customdata\": [[150]], \"hoverlabel\": {\"namelength\": 0}, \"hovertemplate\": \"<b>%{hovertext}</b><br><br>Combined_Key=Kuwait<br>size=%{marker.size}<br>Recovered=%{customdata[0]}<br>Lat=%{lat}<br>Long_=%{lon}\", \"hovertext\": [\"Kuwait\"], \"lat\": [29.31166], \"legendgroup\": \"Kuwait\", \"lon\": [47.481766], \"marker\": {\"color\": \"green\", \"size\": [224.89459054242283], \"sizemode\": \"area\", \"sizeref\": 15.0}, \"mode\": \"markers\", \"name\": \"Kuwait\", \"showlegend\": true, \"subplot\": \"mapbox\", \"type\": \"scattermapbox\"}, {\"customdata\": [[67]], \"hoverlabel\": {\"namelength\": 0}, \"hovertemplate\": \"<b>%{hovertext}</b><br><br>Combined_Key=Kyrgyzstan<br>size=%{marker.size}<br>Recovered=%{customdata[0]}<br>Lat=%{lat}<br>Long_=%{lon}\", \"hovertext\": [\"Kyrgyzstan\"], \"lat\": [41.20438], \"legendgroup\": \"Kyrgyzstan\", \"lon\": [74.766098], \"marker\": {\"color\": \"green\", \"size\": [100.49060221091547], \"sizemode\": \"area\", \"sizeref\": 15.0}, \"mode\": \"markers\", \"name\": \"Kyrgyzstan\", \"showlegend\": true, \"subplot\": \"mapbox\", \"type\": \"scattermapbox\"}, {\"customdata\": [[0]], \"hoverlabel\": {\"namelength\": 0}, \"hovertemplate\": \"<b>%{hovertext}</b><br><br>Combined_Key=Laos<br>size=%{marker.size}<br>Recovered=%{customdata[0]}<br>Lat=%{lat}<br>Long_=%{lon}\", \"hovertext\": [\"Laos\"], \"lat\": [19.85627], \"legendgroup\": \"Laos\", \"lon\": [102.495496], \"marker\": {\"color\": \"green\", \"size\": [0.0], \"sizemode\": \"area\", \"sizeref\": 15.0}, \"mode\": \"markers\", \"name\": \"Laos\", \"showlegend\": true, \"subplot\": \"mapbox\", \"type\": \"scattermapbox\"}, {\"customdata\": [[16]], \"hoverlabel\": {\"namelength\": 0}, \"hovertemplate\": \"<b>%{hovertext}</b><br><br>Combined_Key=Latvia<br>size=%{marker.size}<br>Recovered=%{customdata[0]}<br>Lat=%{lat}<br>Long_=%{lon}\", \"hovertext\": [\"Latvia\"], \"lat\": [56.8796], \"legendgroup\": \"Latvia\", \"lon\": [24.6032], \"marker\": {\"color\": \"green\", \"size\": [23.999872000819195], \"sizemode\": \"area\", \"sizeref\": 15.0}, \"mode\": \"markers\", \"name\": \"Latvia\", \"showlegend\": true, \"subplot\": \"mapbox\", \"type\": \"scattermapbox\"}, {\"customdata\": [[80]], \"hoverlabel\": {\"namelength\": 0}, \"hovertemplate\": \"<b>%{hovertext}</b><br><br>Combined_Key=Lebanon<br>size=%{marker.size}<br>Recovered=%{customdata[0]}<br>Lat=%{lat}<br>Long_=%{lon}\", \"hovertext\": [\"Lebanon\"], \"lat\": [33.8547], \"legendgroup\": \"Lebanon\", \"lon\": [35.8623], \"marker\": {\"color\": \"green\", \"size\": [119.98400255958558], \"sizemode\": \"area\", \"sizeref\": 15.0}, \"mode\": \"markers\", \"name\": \"Lebanon\", \"showlegend\": true, \"subplot\": \"mapbox\", \"type\": \"scattermapbox\"}, {\"customdata\": [[4]], \"hoverlabel\": {\"namelength\": 0}, \"hovertemplate\": \"<b>%{hovertext}</b><br><br>Combined_Key=Liberia<br>size=%{marker.size}<br>Recovered=%{customdata[0]}<br>Lat=%{lat}<br>Long_=%{lon}\", \"hovertext\": [\"Liberia\"], \"lat\": [6.4280550000000005], \"legendgroup\": \"Liberia\", \"lon\": [-9.429499], \"marker\": {\"color\": \"green\", \"size\": [5.9999980000008], \"sizemode\": \"area\", \"sizeref\": 15.0}, \"mode\": \"markers\", \"name\": \"Liberia\", \"showlegend\": true, \"subplot\": \"mapbox\", \"type\": \"scattermapbox\"}, {\"customdata\": [[9]], \"hoverlabel\": {\"namelength\": 0}, \"hovertemplate\": \"<b>%{hovertext}</b><br><br>Combined_Key=Libya<br>size=%{marker.size}<br>Recovered=%{customdata[0]}<br>Lat=%{lat}<br>Long_=%{lon}\", \"hovertext\": [\"Libya\"], \"lat\": [26.3351], \"legendgroup\": \"Libya\", \"lon\": [17.228331], \"marker\": {\"color\": \"green\", \"size\": [13.49997721879613], \"sizemode\": \"area\", \"sizeref\": 15.0}, \"mode\": \"markers\", \"name\": \"Libya\", \"showlegend\": true, \"subplot\": \"mapbox\", \"type\": \"scattermapbox\"}, {\"customdata\": [[55]], \"hoverlabel\": {\"namelength\": 0}, \"hovertemplate\": \"<b>%{hovertext}</b><br><br>Combined_Key=Liechtenstein<br>size=%{marker.size}<br>Recovered=%{customdata[0]}<br>Lat=%{lat}<br>Long_=%{lon}\", \"hovertext\": [\"Liechtenstein\"], \"lat\": [47.14], \"legendgroup\": \"Liechtenstein\", \"lon\": [9.55], \"marker\": {\"color\": \"green\", \"size\": [82.49480117441082], \"sizemode\": \"area\", \"sizeref\": 15.0}, \"mode\": \"markers\", \"name\": \"Liechtenstein\", \"showlegend\": true, \"subplot\": \"mapbox\", \"type\": \"scattermapbox\"}, {\"customdata\": [[101]], \"hoverlabel\": {\"namelength\": 0}, \"hovertemplate\": \"<b>%{hovertext}</b><br><br>Combined_Key=Lithuania<br>size=%{marker.size}<br>Recovered=%{customdata[0]}<br>Lat=%{lat}<br>Long_=%{lon}\", \"hovertext\": [\"Lithuania\"], \"lat\": [55.1694], \"legendgroup\": \"Lithuania\", \"lon\": [23.8813], \"marker\": {\"color\": \"green\", \"size\": [151.46781130264762], \"sizemode\": \"area\", \"sizeref\": 15.0}, \"mode\": \"markers\", \"name\": \"Lithuania\", \"showlegend\": true, \"subplot\": \"mapbox\", \"type\": \"scattermapbox\"}, {\"customdata\": [[500]], \"hoverlabel\": {\"namelength\": 0}, \"hovertemplate\": \"<b>%{hovertext}</b><br><br>Combined_Key=Luxembourg<br>size=%{marker.size}<br>Recovered=%{customdata[0]}<br>Lat=%{lat}<br>Long_=%{lon}\", \"hovertext\": [\"Luxembourg\"], \"lat\": [49.8153], \"legendgroup\": \"Luxembourg\", \"lon\": [6.1296], \"marker\": {\"color\": \"green\", \"size\": [746.1180106295772], \"sizemode\": \"area\", \"sizeref\": 15.0}, \"mode\": \"markers\", \"name\": \"Luxembourg\", \"showlegend\": true, \"subplot\": \"mapbox\", \"type\": \"scattermapbox\"}, {\"customdata\": [[0]], \"hoverlabel\": {\"namelength\": 0}, \"hovertemplate\": \"<b>%{hovertext}</b><br><br>Combined_Key=MS Zaandam<br>size=%{marker.size}<br>Recovered=%{customdata[0]}<br>Lat=%{lat}<br>Long_=%{lon}\", \"hovertext\": [\"MS Zaandam\"], \"lat\": [null], \"legendgroup\": \"MS Zaandam\", \"lon\": [null], \"marker\": {\"color\": \"green\", \"size\": [0.0], \"sizemode\": \"area\", \"sizeref\": 15.0}, \"mode\": \"markers\", \"name\": \"MS Zaandam\", \"showlegend\": true, \"subplot\": \"mapbox\", \"type\": \"scattermapbox\"}, {\"customdata\": [[21]], \"hoverlabel\": {\"namelength\": 0}, \"hovertemplate\": \"<b>%{hovertext}</b><br><br>Combined_Key=Madagascar<br>size=%{marker.size}<br>Recovered=%{customdata[0]}<br>Lat=%{lat}<br>Long_=%{lon}\", \"hovertext\": [\"Madagascar\"], \"lat\": [-18.766947], \"legendgroup\": \"Madagascar\", \"lon\": [46.869107], \"marker\": {\"color\": \"green\", \"size\": [31.499710596940673], \"sizemode\": \"area\", \"sizeref\": 15.0}, \"mode\": \"markers\", \"name\": \"Madagascar\", \"showlegend\": true, \"subplot\": \"mapbox\", \"type\": \"scattermapbox\"}, {\"customdata\": [[0]], \"hoverlabel\": {\"namelength\": 0}, \"hovertemplate\": \"<b>%{hovertext}</b><br><br>Combined_Key=Malawi<br>size=%{marker.size}<br>Recovered=%{customdata[0]}<br>Lat=%{lat}<br>Long_=%{lon}\", \"hovertext\": [\"Malawi\"], \"lat\": [-13.254307999999998], \"legendgroup\": \"Malawi\", \"lon\": [34.301525], \"marker\": {\"color\": \"green\", \"size\": [0.0], \"sizemode\": \"area\", \"sizeref\": 15.0}, \"mode\": \"markers\", \"name\": \"Malawi\", \"showlegend\": true, \"subplot\": \"mapbox\", \"type\": \"scattermapbox\"}, {\"customdata\": [[2276]], \"hoverlabel\": {\"namelength\": 0}, \"hovertemplate\": \"<b>%{hovertext}</b><br><br>Combined_Key=Malaysia<br>size=%{marker.size}<br>Recovered=%{customdata[0]}<br>Lat=%{lat}<br>Long_=%{lon}\", \"hovertext\": [\"Malaysia\"], \"lat\": [4.210483999999999], \"legendgroup\": \"Malaysia\", \"lon\": [101.975766], \"marker\": {\"color\": \"green\", \"size\": [3087.746968562412], \"sizemode\": \"area\", \"sizeref\": 15.0}, \"mode\": \"markers\", \"name\": \"Malaysia\", \"showlegend\": true, \"subplot\": \"mapbox\", \"type\": \"scattermapbox\"}, {\"customdata\": [[14]], \"hoverlabel\": {\"namelength\": 0}, \"hovertemplate\": \"<b>%{hovertext}</b><br><br>Combined_Key=Maldives<br>size=%{marker.size}<br>Recovered=%{customdata[0]}<br>Lat=%{lat}<br>Long_=%{lon}\", \"hovertext\": [\"Maldives\"], \"lat\": [3.2028], \"legendgroup\": \"Maldives\", \"lon\": [73.2207], \"marker\": {\"color\": \"green\", \"size\": [20.999914250420172], \"sizemode\": \"area\", \"sizeref\": 15.0}, \"mode\": \"markers\", \"name\": \"Maldives\", \"showlegend\": true, \"subplot\": \"mapbox\", \"type\": \"scattermapbox\"}, {\"customdata\": [[26]], \"hoverlabel\": {\"namelength\": 0}, \"hovertemplate\": \"<b>%{hovertext}</b><br><br>Combined_Key=Mali<br>size=%{marker.size}<br>Recovered=%{customdata[0]}<br>Lat=%{lat}<br>Long_=%{lon}\", \"hovertext\": [\"Mali\"], \"lat\": [17.570692], \"legendgroup\": \"Mali\", \"lon\": [-3.996166000000001], \"marker\": {\"color\": \"green\", \"size\": [38.99945075928216], \"sizemode\": \"area\", \"sizeref\": 15.0}, \"mode\": \"markers\", \"name\": \"Mali\", \"showlegend\": true, \"subplot\": \"mapbox\", \"type\": \"scattermapbox\"}, {\"customdata\": [[44]], \"hoverlabel\": {\"namelength\": 0}, \"hovertemplate\": \"<b>%{hovertext}</b><br><br>Combined_Key=Malta<br>size=%{marker.size}<br>Recovered=%{customdata[0]}<br>Lat=%{lat}<br>Long_=%{lon}\", \"hovertext\": [\"Malta\"], \"lat\": [35.9375], \"legendgroup\": \"Malta\", \"lon\": [14.3754], \"marker\": {\"color\": \"green\", \"size\": [65.99733812883449], \"sizemode\": \"area\", \"sizeref\": 15.0}, \"mode\": \"markers\", \"name\": \"Malta\", \"showlegend\": true, \"subplot\": \"mapbox\", \"type\": \"scattermapbox\"}, {\"customdata\": [[2]], \"hoverlabel\": {\"namelength\": 0}, \"hovertemplate\": \"<b>%{hovertext}</b><br><br>Combined_Key=Mauritania<br>size=%{marker.size}<br>Recovered=%{customdata[0]}<br>Lat=%{lat}<br>Long_=%{lon}\", \"hovertext\": [\"Mauritania\"], \"lat\": [21.0079], \"legendgroup\": \"Mauritania\", \"lon\": [-10.9408], \"marker\": {\"color\": \"green\", \"size\": [2.9999997500000255], \"sizemode\": \"area\", \"sizeref\": 15.0}, \"mode\": \"markers\", \"name\": \"Mauritania\", \"showlegend\": true, \"subplot\": \"mapbox\", \"type\": \"scattermapbox\"}, {\"customdata\": [[42]], \"hoverlabel\": {\"namelength\": 0}, \"hovertemplate\": \"<b>%{hovertext}</b><br><br>Combined_Key=Mauritius<br>size=%{marker.size}<br>Recovered=%{customdata[0]}<br>Lat=%{lat}<br>Long_=%{lon}\", \"hovertext\": [\"Mauritius\"], \"lat\": [-20.348404], \"legendgroup\": \"Mauritius\", \"lon\": [57.552152], \"marker\": {\"color\": \"green\", \"size\": [62.99768485209797], \"sizemode\": \"area\", \"sizeref\": 15.0}, \"mode\": \"markers\", \"name\": \"Mauritius\", \"showlegend\": true, \"subplot\": \"mapbox\", \"type\": \"scattermapbox\"}, {\"customdata\": [[1843]], \"hoverlabel\": {\"namelength\": 0}, \"hovertemplate\": \"<b>%{hovertext}</b><br><br>Combined_Key=Mexico<br>size=%{marker.size}<br>Recovered=%{customdata[0]}<br>Lat=%{lat}<br>Long_=%{lon}\", \"hovertext\": [\"Mexico\"], \"lat\": [23.6345], \"legendgroup\": \"Mexico\", \"lon\": [-102.5528], \"marker\": {\"color\": \"green\", \"size\": [2584.171709135681], \"sizemode\": \"area\", \"sizeref\": 15.0}, \"mode\": \"markers\", \"name\": \"Mexico\", \"showlegend\": true, \"subplot\": \"mapbox\", \"type\": \"scattermapbox\"}, {\"customdata\": [[107]], \"hoverlabel\": {\"namelength\": 0}, \"hovertemplate\": \"<b>%{hovertext}</b><br><br>Combined_Key=Moldova<br>size=%{marker.size}<br>Recovered=%{customdata[0]}<br>Lat=%{lat}<br>Long_=%{lon}\", \"hovertext\": [\"Moldova\"], \"lat\": [47.4116], \"legendgroup\": \"Moldova\", \"lon\": [28.3699], \"marker\": {\"color\": \"green\", \"size\": [160.4617283605127], \"sizemode\": \"area\", \"sizeref\": 15.0}, \"mode\": \"markers\", \"name\": \"Moldova\", \"showlegend\": true, \"subplot\": \"mapbox\", \"type\": \"scattermapbox\"}, {\"customdata\": [[6]], \"hoverlabel\": {\"namelength\": 0}, \"hovertemplate\": \"<b>%{hovertext}</b><br><br>Combined_Key=Monaco<br>size=%{marker.size}<br>Recovered=%{customdata[0]}<br>Lat=%{lat}<br>Long_=%{lon}\", \"hovertext\": [\"Monaco\"], \"lat\": [43.7333], \"legendgroup\": \"Monaco\", \"lon\": [7.4167], \"marker\": {\"color\": \"green\", \"size\": [8.999993250006076], \"sizemode\": \"area\", \"sizeref\": 15.0}, \"mode\": \"markers\", \"name\": \"Monaco\", \"showlegend\": true, \"subplot\": \"mapbox\", \"type\": \"scattermapbox\"}, {\"customdata\": [[4]], \"hoverlabel\": {\"namelength\": 0}, \"hovertemplate\": \"<b>%{hovertext}</b><br><br>Combined_Key=Mongolia<br>size=%{marker.size}<br>Recovered=%{customdata[0]}<br>Lat=%{lat}<br>Long_=%{lon}\", \"hovertext\": [\"Mongolia\"], \"lat\": [46.8625], \"legendgroup\": \"Mongolia\", \"lon\": [103.8467], \"marker\": {\"color\": \"green\", \"size\": [5.9999980000008], \"sizemode\": \"area\", \"sizeref\": 15.0}, \"mode\": \"markers\", \"name\": \"Mongolia\", \"showlegend\": true, \"subplot\": \"mapbox\", \"type\": \"scattermapbox\"}, {\"customdata\": [[5]], \"hoverlabel\": {\"namelength\": 0}, \"hovertemplate\": \"<b>%{hovertext}</b><br><br>Combined_Key=Montenegro<br>size=%{marker.size}<br>Recovered=%{customdata[0]}<br>Lat=%{lat}<br>Long_=%{lon}\", \"hovertext\": [\"Montenegro\"], \"lat\": [42.708678000000006], \"legendgroup\": \"Montenegro\", \"lon\": [19.37439], \"marker\": {\"color\": \"green\", \"size\": [7.499996093752441], \"sizemode\": \"area\", \"sizeref\": 15.0}, \"mode\": \"markers\", \"name\": \"Montenegro\", \"showlegend\": true, \"subplot\": \"mapbox\", \"type\": \"scattermapbox\"}, {\"customdata\": [[203]], \"hoverlabel\": {\"namelength\": 0}, \"hovertemplate\": \"<b>%{hovertext}</b><br><br>Combined_Key=Morocco<br>size=%{marker.size}<br>Recovered=%{customdata[0]}<br>Lat=%{lat}<br>Long_=%{lon}\", \"hovertext\": [\"Morocco\"], \"lat\": [31.7917], \"legendgroup\": \"Morocco\", \"lon\": [-7.0926], \"marker\": {\"color\": \"green\", \"size\": [304.23884944677934], \"sizemode\": \"area\", \"sizeref\": 15.0}, \"mode\": \"markers\", \"name\": \"Morocco\", \"showlegend\": true, \"subplot\": \"mapbox\", \"type\": \"scattermapbox\"}, {\"customdata\": [[2]], \"hoverlabel\": {\"namelength\": 0}, \"hovertemplate\": \"<b>%{hovertext}</b><br><br>Combined_Key=Mozambique<br>size=%{marker.size}<br>Recovered=%{customdata[0]}<br>Lat=%{lat}<br>Long_=%{lon}\", \"hovertext\": [\"Mozambique\"], \"lat\": [-18.665695], \"legendgroup\": \"Mozambique\", \"lon\": [35.529562], \"marker\": {\"color\": \"green\", \"size\": [2.9999997500000255], \"sizemode\": \"area\", \"sizeref\": 15.0}, \"mode\": \"markers\", \"name\": \"Mozambique\", \"showlegend\": true, \"subplot\": \"mapbox\", \"type\": \"scattermapbox\"}, {\"customdata\": [[3]], \"hoverlabel\": {\"namelength\": 0}, \"hovertemplate\": \"<b>%{hovertext}</b><br><br>Combined_Key=Namibia<br>size=%{marker.size}<br>Recovered=%{customdata[0]}<br>Lat=%{lat}<br>Long_=%{lon}\", \"hovertext\": [\"Namibia\"], \"lat\": [-22.9576], \"legendgroup\": \"Namibia\", \"lon\": [18.4904], \"marker\": {\"color\": \"green\", \"size\": [4.4999991562501895], \"sizemode\": \"area\", \"sizeref\": 15.0}, \"mode\": \"markers\", \"name\": \"Namibia\", \"showlegend\": true, \"subplot\": \"mapbox\", \"type\": \"scattermapbox\"}, {\"customdata\": [[1]], \"hoverlabel\": {\"namelength\": 0}, \"hovertemplate\": \"<b>%{hovertext}</b><br><br>Combined_Key=Nepal<br>size=%{marker.size}<br>Recovered=%{customdata[0]}<br>Lat=%{lat}<br>Long_=%{lon}\", \"hovertext\": [\"Nepal\"], \"lat\": [28.1667], \"legendgroup\": \"Nepal\", \"lon\": [84.25], \"marker\": {\"color\": \"green\", \"size\": [1.4999999687500007], \"sizemode\": \"area\", \"sizeref\": 15.0}, \"mode\": \"markers\", \"name\": \"Nepal\", \"showlegend\": true, \"subplot\": \"mapbox\", \"type\": \"scattermapbox\"}, {\"customdata\": [[546]], \"hoverlabel\": {\"namelength\": 0}, \"hovertemplate\": \"<b>%{hovertext}</b><br><br>Combined_Key=New Zealand<br>size=%{marker.size}<br>Recovered=%{customdata[0]}<br>Lat=%{lat}<br>Long_=%{lon}\", \"hovertext\": [\"New Zealand\"], \"lat\": [-40.9006], \"legendgroup\": \"New Zealand\", \"lon\": [174.886], \"marker\": {\"color\": \"green\", \"size\": [813.9510219426461], \"sizemode\": \"area\", \"sizeref\": 15.0}, \"mode\": \"markers\", \"name\": \"New Zealand\", \"showlegend\": true, \"subplot\": \"mapbox\", \"type\": \"scattermapbox\"}, {\"customdata\": [[4]], \"hoverlabel\": {\"namelength\": 0}, \"hovertemplate\": \"<b>%{hovertext}</b><br><br>Combined_Key=Nicaragua<br>size=%{marker.size}<br>Recovered=%{customdata[0]}<br>Lat=%{lat}<br>Long_=%{lon}\", \"hovertext\": [\"Nicaragua\"], \"lat\": [12.865416], \"legendgroup\": \"Nicaragua\", \"lon\": [-85.207229], \"marker\": {\"color\": \"green\", \"size\": [5.9999980000008], \"sizemode\": \"area\", \"sizeref\": 15.0}, \"mode\": \"markers\", \"name\": \"Nicaragua\", \"showlegend\": true, \"subplot\": \"mapbox\", \"type\": \"scattermapbox\"}, {\"customdata\": [[75]], \"hoverlabel\": {\"namelength\": 0}, \"hovertemplate\": \"<b>%{hovertext}</b><br><br>Combined_Key=Niger<br>size=%{marker.size}<br>Recovered=%{customdata[0]}<br>Lat=%{lat}<br>Long_=%{lon}\", \"hovertext\": [\"Niger\"], \"lat\": [17.607789], \"legendgroup\": \"Niger\", \"lon\": [8.081666], \"marker\": {\"color\": \"green\", \"size\": [112.48681825992908], \"sizemode\": \"area\", \"sizeref\": 15.0}, \"mode\": \"markers\", \"name\": \"Niger\", \"showlegend\": true, \"subplot\": \"mapbox\", \"type\": \"scattermapbox\"}, {\"customdata\": [[91]], \"hoverlabel\": {\"namelength\": 0}, \"hovertemplate\": \"<b>%{hovertext}</b><br><br>Combined_Key=Nigeria<br>size=%{marker.size}<br>Recovered=%{customdata[0]}<br>Lat=%{lat}<br>Long_=%{lon}\", \"hovertext\": [\"Nigeria\"], \"lat\": [9.082], \"legendgroup\": \"Nigeria\", \"lon\": [8.6753], \"marker\": {\"color\": \"green\", \"size\": [136.47645578048002], \"sizemode\": \"area\", \"sizeref\": 15.0}, \"mode\": \"markers\", \"name\": \"Nigeria\", \"showlegend\": true, \"subplot\": \"mapbox\", \"type\": \"scattermapbox\"}, {\"customdata\": [[44]], \"hoverlabel\": {\"namelength\": 0}, \"hovertemplate\": \"<b>%{hovertext}</b><br><br>Combined_Key=North Macedonia<br>size=%{marker.size}<br>Recovered=%{customdata[0]}<br>Lat=%{lat}<br>Long_=%{lon}\", \"hovertext\": [\"North Macedonia\"], \"lat\": [41.6086], \"legendgroup\": \"North Macedonia\", \"lon\": [21.7453], \"marker\": {\"color\": \"green\", \"size\": [65.99733812883449], \"sizemode\": \"area\", \"sizeref\": 15.0}, \"mode\": \"markers\", \"name\": \"North Macedonia\", \"showlegend\": true, \"subplot\": \"mapbox\", \"type\": \"scattermapbox\"}, {\"customdata\": [[32]], \"hoverlabel\": {\"namelength\": 0}, \"hovertemplate\": \"<b>%{hovertext}</b><br><br>Combined_Key=Norway<br>size=%{marker.size}<br>Recovered=%{customdata[0]}<br>Lat=%{lat}<br>Long_=%{lon}\", \"hovertext\": [\"Norway\"], \"lat\": [60.472], \"legendgroup\": \"Norway\", \"lon\": [8.4689], \"marker\": {\"color\": \"green\", \"size\": [47.998976026213725], \"sizemode\": \"area\", \"sizeref\": 15.0}, \"mode\": \"markers\", \"name\": \"Norway\", \"showlegend\": true, \"subplot\": \"mapbox\", \"type\": \"scattermapbox\"}, {\"customdata\": [[124]], \"hoverlabel\": {\"namelength\": 0}, \"hovertemplate\": \"<b>%{hovertext}</b><br><br>Combined_Key=Oman<br>size=%{marker.size}<br>Recovered=%{customdata[0]}<br>Lat=%{lat}<br>Long_=%{lon}\", \"hovertext\": [\"Oman\"], \"lat\": [21.512583], \"legendgroup\": \"Oman\", \"lon\": [55.92325500000001], \"marker\": {\"color\": \"green\", \"size\": [185.94044089441542], \"sizemode\": \"area\", \"sizeref\": 15.0}, \"mode\": \"markers\", \"name\": \"Oman\", \"showlegend\": true, \"subplot\": \"mapbox\", \"type\": \"scattermapbox\"}, {\"customdata\": [[1095]], \"hoverlabel\": {\"namelength\": 0}, \"hovertemplate\": \"<b>%{hovertext}</b><br><br>Combined_Key=Pakistan<br>size=%{marker.size}<br>Recovered=%{customdata[0]}<br>Lat=%{lat}<br>Long_=%{lon}\", \"hovertext\": [\"Pakistan\"], \"lat\": [30.3753], \"legendgroup\": \"Pakistan\", \"lon\": [69.3451], \"marker\": {\"color\": \"green\", \"size\": [1602.6645316413005], \"sizemode\": \"area\", \"sizeref\": 15.0}, \"mode\": \"markers\", \"name\": \"Pakistan\", \"showlegend\": true, \"subplot\": \"mapbox\", \"type\": \"scattermapbox\"}, {\"customdata\": [[29]], \"hoverlabel\": {\"namelength\": 0}, \"hovertemplate\": \"<b>%{hovertext}</b><br><br>Combined_Key=Panama<br>size=%{marker.size}<br>Recovered=%{customdata[0]}<br>Lat=%{lat}<br>Long_=%{lon}\", \"hovertext\": [\"Panama\"], \"lat\": [8.538], \"legendgroup\": \"Panama\", \"lon\": [-80.7821], \"marker\": {\"color\": \"green\", \"size\": [43.49923785977399], \"sizemode\": \"area\", \"sizeref\": 15.0}, \"mode\": \"markers\", \"name\": \"Panama\", \"showlegend\": true, \"subplot\": \"mapbox\", \"type\": \"scattermapbox\"}, {\"customdata\": [[0]], \"hoverlabel\": {\"namelength\": 0}, \"hovertemplate\": \"<b>%{hovertext}</b><br><br>Combined_Key=Papua New Guinea<br>size=%{marker.size}<br>Recovered=%{customdata[0]}<br>Lat=%{lat}<br>Long_=%{lon}\", \"hovertext\": [\"Papua New Guinea\"], \"lat\": [-6.314993], \"legendgroup\": \"Papua New Guinea\", \"lon\": [143.95555], \"marker\": {\"color\": \"green\", \"size\": [0.0], \"sizemode\": \"area\", \"sizeref\": 15.0}, \"mode\": \"markers\", \"name\": \"Papua New Guinea\", \"showlegend\": true, \"subplot\": \"mapbox\", \"type\": \"scattermapbox\"}, {\"customdata\": [[22]], \"hoverlabel\": {\"namelength\": 0}, \"hovertemplate\": \"<b>%{hovertext}</b><br><br>Combined_Key=Paraguay<br>size=%{marker.size}<br>Recovered=%{customdata[0]}<br>Lat=%{lat}<br>Long_=%{lon}\", \"hovertext\": [\"Paraguay\"], \"lat\": [-23.4425], \"legendgroup\": \"Paraguay\", \"lon\": [-58.4438], \"marker\": {\"color\": \"green\", \"size\": [32.99966725402622], \"sizemode\": \"area\", \"sizeref\": 15.0}, \"mode\": \"markers\", \"name\": \"Paraguay\", \"showlegend\": true, \"subplot\": \"mapbox\", \"type\": \"scattermapbox\"}, {\"customdata\": [[2642]], \"hoverlabel\": {\"namelength\": 0}, \"hovertemplate\": \"<b>%{hovertext}</b><br><br>Combined_Key=Peru<br>size=%{marker.size}<br>Recovered=%{customdata[0]}<br>Lat=%{lat}<br>Long_=%{lon}\", \"hovertext\": [\"Peru\"], \"lat\": [-9.19], \"legendgroup\": \"Peru\", \"lon\": [-75.0152], \"marker\": {\"color\": \"green\", \"size\": [3472.17638820742], \"sizemode\": \"area\", \"sizeref\": 15.0}, \"mode\": \"markers\", \"name\": \"Peru\", \"showlegend\": true, \"subplot\": \"mapbox\", \"type\": \"scattermapbox\"}, {\"customdata\": [[242]], \"hoverlabel\": {\"namelength\": 0}, \"hovertemplate\": \"<b>%{hovertext}</b><br><br>Combined_Key=Philippines<br>size=%{marker.size}<br>Recovered=%{customdata[0]}<br>Lat=%{lat}<br>Long_=%{lon}\", \"hovertext\": [\"Philippines\"], \"lat\": [12.879721], \"legendgroup\": \"Philippines\", \"lon\": [121.774017], \"marker\": {\"color\": \"green\", \"size\": [362.5577572263611], \"sizemode\": \"area\", \"sizeref\": 15.0}, \"mode\": \"markers\", \"name\": \"Philippines\", \"showlegend\": true, \"subplot\": \"mapbox\", \"type\": \"scattermapbox\"}, {\"customdata\": [[487]], \"hoverlabel\": {\"namelength\": 0}, \"hovertemplate\": \"<b>%{hovertext}</b><br><br>Combined_Key=Poland<br>size=%{marker.size}<br>Recovered=%{customdata[0]}<br>Lat=%{lat}<br>Long_=%{lon}\", \"hovertext\": [\"Poland\"], \"lat\": [51.9194], \"legendgroup\": \"Poland\", \"lon\": [19.1451], \"marker\": {\"color\": \"green\", \"size\": [726.9118576836537], \"sizemode\": \"area\", \"sizeref\": 15.0}, \"mode\": \"markers\", \"name\": \"Poland\", \"showlegend\": true, \"subplot\": \"mapbox\", \"type\": \"scattermapbox\"}, {\"customdata\": [[277]], \"hoverlabel\": {\"namelength\": 0}, \"hovertemplate\": \"<b>%{hovertext}</b><br><br>Combined_Key=Portugal<br>size=%{marker.size}<br>Recovered=%{customdata[0]}<br>Lat=%{lat}<br>Long_=%{lon}\", \"hovertext\": [\"Portugal\"], \"lat\": [39.3999], \"legendgroup\": \"Portugal\", \"lon\": [-8.2245], \"marker\": {\"color\": \"green\", \"size\": [414.8370861825749], \"sizemode\": \"area\", \"sizeref\": 15.0}, \"mode\": \"markers\", \"name\": \"Portugal\", \"showlegend\": true, \"subplot\": \"mapbox\", \"type\": \"scattermapbox\"}, {\"customdata\": [[334]], \"hoverlabel\": {\"namelength\": 0}, \"hovertemplate\": \"<b>%{hovertext}</b><br><br>Combined_Key=Qatar<br>size=%{marker.size}<br>Recovered=%{customdata[0]}<br>Lat=%{lat}<br>Long_=%{lon}\", \"hovertext\": [\"Qatar\"], \"lat\": [25.3548], \"legendgroup\": \"Qatar\", \"lon\": [51.1839], \"marker\": {\"color\": \"green\", \"size\": [499.83887241125115], \"sizemode\": \"area\", \"sizeref\": 15.0}, \"mode\": \"markers\", \"name\": \"Qatar\", \"showlegend\": true, \"subplot\": \"mapbox\", \"type\": \"scattermapbox\"}, {\"customdata\": [[914]], \"hoverlabel\": {\"namelength\": 0}, \"hovertemplate\": \"<b>%{hovertext}</b><br><br>Combined_Key=Romania<br>size=%{marker.size}<br>Recovered=%{customdata[0]}<br>Lat=%{lat}<br>Long_=%{lon}\", \"hovertext\": [\"Romania\"], \"lat\": [45.9432], \"legendgroup\": \"Romania\", \"lon\": [24.9668], \"marker\": {\"color\": \"green\", \"size\": [1347.627022952569], \"sizemode\": \"area\", \"sizeref\": 15.0}, \"mode\": \"markers\", \"name\": \"Romania\", \"showlegend\": true, \"subplot\": \"mapbox\", \"type\": \"scattermapbox\"}, {\"customdata\": [[1470]], \"hoverlabel\": {\"namelength\": 0}, \"hovertemplate\": \"<b>%{hovertext}</b><br><br>Combined_Key=Russia<br>size=%{marker.size}<br>Recovered=%{customdata[0]}<br>Lat=%{lat}<br>Long_=%{lon}\", \"hovertext\": [\"Russia\"], \"lat\": [61.52401], \"legendgroup\": \"Russia\", \"lon\": [105.318756], \"marker\": {\"color\": \"green\", \"size\": [2110.8183327112883], \"sizemode\": \"area\", \"sizeref\": 15.0}, \"mode\": \"markers\", \"name\": \"Russia\", \"showlegend\": true, \"subplot\": \"mapbox\", \"type\": \"scattermapbox\"}, {\"customdata\": [[42]], \"hoverlabel\": {\"namelength\": 0}, \"hovertemplate\": \"<b>%{hovertext}</b><br><br>Combined_Key=Rwanda<br>size=%{marker.size}<br>Recovered=%{customdata[0]}<br>Lat=%{lat}<br>Long_=%{lon}\", \"hovertext\": [\"Rwanda\"], \"lat\": [-1.9403], \"legendgroup\": \"Rwanda\", \"lon\": [29.8739], \"marker\": {\"color\": \"green\", \"size\": [62.99768485209797], \"sizemode\": \"area\", \"sizeref\": 15.0}, \"mode\": \"markers\", \"name\": \"Rwanda\", \"showlegend\": true, \"subplot\": \"mapbox\", \"type\": \"scattermapbox\"}, {\"customdata\": [[0]], \"hoverlabel\": {\"namelength\": 0}, \"hovertemplate\": \"<b>%{hovertext}</b><br><br>Combined_Key=Saint Kitts and Nevis<br>size=%{marker.size}<br>Recovered=%{customdata[0]}<br>Lat=%{lat}<br>Long_=%{lon}\", \"hovertext\": [\"Saint Kitts and Nevis\"], \"lat\": [17.357822], \"legendgroup\": \"Saint Kitts and Nevis\", \"lon\": [-62.782998], \"marker\": {\"color\": \"green\", \"size\": [0.0], \"sizemode\": \"area\", \"sizeref\": 15.0}, \"mode\": \"markers\", \"name\": \"Saint Kitts and Nevis\", \"showlegend\": true, \"subplot\": \"mapbox\", \"type\": \"scattermapbox\"}, {\"customdata\": [[4]], \"hoverlabel\": {\"namelength\": 0}, \"hovertemplate\": \"<b>%{hovertext}</b><br><br>Combined_Key=Saint Lucia<br>size=%{marker.size}<br>Recovered=%{customdata[0]}<br>Lat=%{lat}<br>Long_=%{lon}\", \"hovertext\": [\"Saint Lucia\"], \"lat\": [13.9094], \"legendgroup\": \"Saint Lucia\", \"lon\": [-60.9789], \"marker\": {\"color\": \"green\", \"size\": [5.9999980000008], \"sizemode\": \"area\", \"sizeref\": 15.0}, \"mode\": \"markers\", \"name\": \"Saint Lucia\", \"showlegend\": true, \"subplot\": \"mapbox\", \"type\": \"scattermapbox\"}, {\"customdata\": [[1]], \"hoverlabel\": {\"namelength\": 0}, \"hovertemplate\": \"<b>%{hovertext}</b><br><br>Combined_Key=Saint Vincent and the Grenadines<br>size=%{marker.size}<br>Recovered=%{customdata[0]}<br>Lat=%{lat}<br>Long_=%{lon}\", \"hovertext\": [\"Saint Vincent and the Grenadines\"], \"lat\": [12.9843], \"legendgroup\": \"Saint Vincent and the Grenadines\", \"lon\": [-61.2872], \"marker\": {\"color\": \"green\", \"size\": [1.4999999687500007], \"sizemode\": \"area\", \"sizeref\": 15.0}, \"mode\": \"markers\", \"name\": \"Saint Vincent and the Grenadines\", \"showlegend\": true, \"subplot\": \"mapbox\", \"type\": \"scattermapbox\"}, {\"customdata\": [[53]], \"hoverlabel\": {\"namelength\": 0}, \"hovertemplate\": \"<b>%{hovertext}</b><br><br>Combined_Key=San Marino<br>size=%{marker.size}<br>Recovered=%{customdata[0]}<br>Lat=%{lat}<br>Long_=%{lon}\", \"hovertext\": [\"San Marino\"], \"lat\": [43.9424], \"legendgroup\": \"San Marino\", \"lon\": [12.4578], \"marker\": {\"color\": \"green\", \"size\": [79.49534792044201], \"sizemode\": \"area\", \"sizeref\": 15.0}, \"mode\": \"markers\", \"name\": \"San Marino\", \"showlegend\": true, \"subplot\": \"mapbox\", \"type\": \"scattermapbox\"}, {\"customdata\": [[0]], \"hoverlabel\": {\"namelength\": 0}, \"hovertemplate\": \"<b>%{hovertext}</b><br><br>Combined_Key=Sao Tome and Principe<br>size=%{marker.size}<br>Recovered=%{customdata[0]}<br>Lat=%{lat}<br>Long_=%{lon}\", \"hovertext\": [\"Sao Tome and Principe\"], \"lat\": [0.18636], \"legendgroup\": \"Sao Tome and Principe\", \"lon\": [6.613081], \"marker\": {\"color\": \"green\", \"size\": [0.0], \"sizemode\": \"area\", \"sizeref\": 15.0}, \"mode\": \"markers\", \"name\": \"Sao Tome and Principe\", \"showlegend\": true, \"subplot\": \"mapbox\", \"type\": \"scattermapbox\"}, {\"customdata\": [[805]], \"hoverlabel\": {\"namelength\": 0}, \"hovertemplate\": \"<b>%{hovertext}</b><br><br>Combined_Key=Saudi Arabia<br>size=%{marker.size}<br>Recovered=%{customdata[0]}<br>Lat=%{lat}<br>Long_=%{lon}\", \"hovertext\": [\"Saudi Arabia\"], \"lat\": [23.885942], \"legendgroup\": \"Saudi Arabia\", \"lon\": [45.079162], \"marker\": {\"color\": \"green\", \"size\": [1191.457962100273], \"sizemode\": \"area\", \"sizeref\": 15.0}, \"mode\": \"markers\", \"name\": \"Saudi Arabia\", \"showlegend\": true, \"subplot\": \"mapbox\", \"type\": \"scattermapbox\"}, {\"customdata\": [[178]], \"hoverlabel\": {\"namelength\": 0}, \"hovertemplate\": \"<b>%{hovertext}</b><br><br>Combined_Key=Senegal<br>size=%{marker.size}<br>Recovered=%{customdata[0]}<br>Lat=%{lat}<br>Long_=%{lon}\", \"hovertext\": [\"Senegal\"], \"lat\": [14.4974], \"legendgroup\": \"Senegal\", \"lon\": [-14.4524], \"marker\": {\"color\": \"green\", \"size\": [266.8238972396812], \"sizemode\": \"area\", \"sizeref\": 15.0}, \"mode\": \"markers\", \"name\": \"Senegal\", \"showlegend\": true, \"subplot\": \"mapbox\", \"type\": \"scattermapbox\"}, {\"customdata\": [[0]], \"hoverlabel\": {\"namelength\": 0}, \"hovertemplate\": \"<b>%{hovertext}</b><br><br>Combined_Key=Serbia<br>size=%{marker.size}<br>Recovered=%{customdata[0]}<br>Lat=%{lat}<br>Long_=%{lon}\", \"hovertext\": [\"Serbia\"], \"lat\": [44.0165], \"legendgroup\": \"Serbia\", \"lon\": [21.0059], \"marker\": {\"color\": \"green\", \"size\": [0.0], \"sizemode\": \"area\", \"sizeref\": 15.0}, \"mode\": \"markers\", \"name\": \"Serbia\", \"showlegend\": true, \"subplot\": \"mapbox\", \"type\": \"scattermapbox\"}, {\"customdata\": [[0]], \"hoverlabel\": {\"namelength\": 0}, \"hovertemplate\": \"<b>%{hovertext}</b><br><br>Combined_Key=Seychelles<br>size=%{marker.size}<br>Recovered=%{customdata[0]}<br>Lat=%{lat}<br>Long_=%{lon}\", \"hovertext\": [\"Seychelles\"], \"lat\": [-4.6796], \"legendgroup\": \"Seychelles\", \"lon\": [55.492], \"marker\": {\"color\": \"green\", \"size\": [0.0], \"sizemode\": \"area\", \"sizeref\": 15.0}, \"mode\": \"markers\", \"name\": \"Seychelles\", \"showlegend\": true, \"subplot\": \"mapbox\", \"type\": \"scattermapbox\"}, {\"customdata\": [[0]], \"hoverlabel\": {\"namelength\": 0}, \"hovertemplate\": \"<b>%{hovertext}</b><br><br>Combined_Key=Sierra Leone<br>size=%{marker.size}<br>Recovered=%{customdata[0]}<br>Lat=%{lat}<br>Long_=%{lon}\", \"hovertext\": [\"Sierra Leone\"], \"lat\": [8.460555000000001], \"legendgroup\": \"Sierra Leone\", \"lon\": [-11.779889], \"marker\": {\"color\": \"green\", \"size\": [0.0], \"sizemode\": \"area\", \"sizeref\": 15.0}, \"mode\": \"markers\", \"name\": \"Sierra Leone\", \"showlegend\": true, \"subplot\": \"mapbox\", \"type\": \"scattermapbox\"}, {\"customdata\": [[586]], \"hoverlabel\": {\"namelength\": 0}, \"hovertemplate\": \"<b>%{hovertext}</b><br><br>Combined_Key=Singapore<br>size=%{marker.size}<br>Recovered=%{customdata[0]}<br>Lat=%{lat}<br>Long_=%{lon}\", \"hovertext\": [\"Singapore\"], \"lat\": [1.2833], \"legendgroup\": \"Singapore\", \"lon\": [103.8333], \"marker\": {\"color\": \"green\", \"size\": [872.7650814371466], \"sizemode\": \"area\", \"sizeref\": 15.0}, \"mode\": \"markers\", \"name\": \"Singapore\", \"showlegend\": true, \"subplot\": \"mapbox\", \"type\": \"scattermapbox\"}, {\"customdata\": [[107]], \"hoverlabel\": {\"namelength\": 0}, \"hovertemplate\": \"<b>%{hovertext}</b><br><br>Combined_Key=Slovakia<br>size=%{marker.size}<br>Recovered=%{customdata[0]}<br>Lat=%{lat}<br>Long_=%{lon}\", \"hovertext\": [\"Slovakia\"], \"lat\": [48.669], \"legendgroup\": \"Slovakia\", \"lon\": [19.699], \"marker\": {\"color\": \"green\", \"size\": [160.4617283605127], \"sizemode\": \"area\", \"sizeref\": 15.0}, \"mode\": \"markers\", \"name\": \"Slovakia\", \"showlegend\": true, \"subplot\": \"mapbox\", \"type\": \"scattermapbox\"}, {\"customdata\": [[152]], \"hoverlabel\": {\"namelength\": 0}, \"hovertemplate\": \"<b>%{hovertext}</b><br><br>Combined_Key=Slovenia<br>size=%{marker.size}<br>Recovered=%{customdata[0]}<br>Lat=%{lat}<br>Long_=%{lon}\", \"hovertext\": [\"Slovenia\"], \"lat\": [46.1512], \"legendgroup\": \"Slovenia\", \"lon\": [14.9955], \"marker\": {\"color\": \"green\", \"size\": [227.8903193511072], \"sizemode\": \"area\", \"sizeref\": 15.0}, \"mode\": \"markers\", \"name\": \"Slovenia\", \"showlegend\": true, \"subplot\": \"mapbox\", \"type\": \"scattermapbox\"}, {\"customdata\": [[2]], \"hoverlabel\": {\"namelength\": 0}, \"hovertemplate\": \"<b>%{hovertext}</b><br><br>Combined_Key=Somalia<br>size=%{marker.size}<br>Recovered=%{customdata[0]}<br>Lat=%{lat}<br>Long_=%{lon}\", \"hovertext\": [\"Somalia\"], \"lat\": [5.152149], \"legendgroup\": \"Somalia\", \"lon\": [46.199616], \"marker\": {\"color\": \"green\", \"size\": [2.9999997500000255], \"sizemode\": \"area\", \"sizeref\": 15.0}, \"mode\": \"markers\", \"name\": \"Somalia\", \"showlegend\": true, \"subplot\": \"mapbox\", \"type\": \"scattermapbox\"}, {\"customdata\": [[410]], \"hoverlabel\": {\"namelength\": 0}, \"hovertemplate\": \"<b>%{hovertext}</b><br><br>Combined_Key=South Africa<br>size=%{marker.size}<br>Recovered=%{customdata[0]}<br>Lat=%{lat}<br>Long_=%{lon}\", \"hovertext\": [\"South Africa\"], \"lat\": [-30.5595], \"legendgroup\": \"South Africa\", \"lon\": [22.9375], \"marker\": {\"color\": \"green\", \"size\": [612.8552316881036], \"sizemode\": \"area\", \"sizeref\": 15.0}, \"mode\": \"markers\", \"name\": \"South Africa\", \"showlegend\": true, \"subplot\": \"mapbox\", \"type\": \"scattermapbox\"}, {\"customdata\": [[0]], \"hoverlabel\": {\"namelength\": 0}, \"hovertemplate\": \"<b>%{hovertext}</b><br><br>Combined_Key=South Sudan<br>size=%{marker.size}<br>Recovered=%{customdata[0]}<br>Lat=%{lat}<br>Long_=%{lon}\", \"hovertext\": [\"South Sudan\"], \"lat\": [6.877000000000002], \"legendgroup\": \"South Sudan\", \"lon\": [31.307], \"marker\": {\"color\": \"green\", \"size\": [0.0], \"sizemode\": \"area\", \"sizeref\": 15.0}, \"mode\": \"markers\", \"name\": \"South Sudan\", \"showlegend\": true, \"subplot\": \"mapbox\", \"type\": \"scattermapbox\"}, {\"customdata\": [[64727]], \"hoverlabel\": {\"namelength\": 0}, \"hovertemplate\": \"<b>%{hovertext}</b><br><br>Combined_Key=Spain<br>size=%{marker.size}<br>Recovered=%{customdata[0]}<br>Lat=%{lat}<br>Long_=%{lon}\", \"hovertext\": [\"Spain\"], \"lat\": [40.463667], \"legendgroup\": \"Spain\", \"lon\": [-3.74922], \"marker\": {\"color\": \"green\", \"size\": [5999.9999999998945], \"sizemode\": \"area\", \"sizeref\": 15.0}, \"mode\": \"markers\", \"name\": \"Spain\", \"showlegend\": true, \"subplot\": \"mapbox\", \"type\": \"scattermapbox\"}, {\"customdata\": [[56]], \"hoverlabel\": {\"namelength\": 0}, \"hovertemplate\": \"<b>%{hovertext}</b><br><br>Combined_Key=Sri Lanka<br>size=%{marker.size}<br>Recovered=%{customdata[0]}<br>Lat=%{lat}<br>Long_=%{lon}\", \"hovertext\": [\"Sri Lanka\"], \"lat\": [7.873054], \"legendgroup\": \"Sri Lanka\", \"lon\": [80.77179699999998], \"marker\": {\"color\": \"green\", \"size\": [83.99451243022507], \"sizemode\": \"area\", \"sizeref\": 15.0}, \"mode\": \"markers\", \"name\": \"Sri Lanka\", \"showlegend\": true, \"subplot\": \"mapbox\", \"type\": \"scattermapbox\"}, {\"customdata\": [[4]], \"hoverlabel\": {\"namelength\": 0}, \"hovertemplate\": \"<b>%{hovertext}</b><br><br>Combined_Key=Sudan<br>size=%{marker.size}<br>Recovered=%{customdata[0]}<br>Lat=%{lat}<br>Long_=%{lon}\", \"hovertext\": [\"Sudan\"], \"lat\": [12.8628], \"legendgroup\": \"Sudan\", \"lon\": [30.2176], \"marker\": {\"color\": \"green\", \"size\": [5.9999980000008], \"sizemode\": \"area\", \"sizeref\": 15.0}, \"mode\": \"markers\", \"name\": \"Sudan\", \"showlegend\": true, \"subplot\": \"mapbox\", \"type\": \"scattermapbox\"}, {\"customdata\": [[6]], \"hoverlabel\": {\"namelength\": 0}, \"hovertemplate\": \"<b>%{hovertext}</b><br><br>Combined_Key=Suriname<br>size=%{marker.size}<br>Recovered=%{customdata[0]}<br>Lat=%{lat}<br>Long_=%{lon}\", \"hovertext\": [\"Suriname\"], \"lat\": [3.9193], \"legendgroup\": \"Suriname\", \"lon\": [-56.0278], \"marker\": {\"color\": \"green\", \"size\": [8.999993250006076], \"sizemode\": \"area\", \"sizeref\": 15.0}, \"mode\": \"markers\", \"name\": \"Suriname\", \"showlegend\": true, \"subplot\": \"mapbox\", \"type\": \"scattermapbox\"}, {\"customdata\": [[381]], \"hoverlabel\": {\"namelength\": 0}, \"hovertemplate\": \"<b>%{hovertext}</b><br><br>Combined_Key=Sweden<br>size=%{marker.size}<br>Recovered=%{customdata[0]}<br>Lat=%{lat}<br>Long_=%{lon}\", \"hovertext\": [\"Sweden\"], \"lat\": [60.128161], \"legendgroup\": \"Sweden\", \"lon\": [18.643501], \"marker\": {\"color\": \"green\", \"size\": [569.7779260233789], \"sizemode\": \"area\", \"sizeref\": 15.0}, \"mode\": \"markers\", \"name\": \"Sweden\", \"showlegend\": true, \"subplot\": \"mapbox\", \"type\": \"scattermapbox\"}, {\"customdata\": [[13700]], \"hoverlabel\": {\"namelength\": 0}, \"hovertemplate\": \"<b>%{hovertext}</b><br><br>Combined_Key=Switzerland<br>size=%{marker.size}<br>Recovered=%{customdata[0]}<br>Lat=%{lat}<br>Long_=%{lon}\", \"hovertext\": [\"Switzerland\"], \"lat\": [46.8182], \"legendgroup\": \"Switzerland\", \"lon\": [8.2275], \"marker\": {\"color\": \"green\", \"size\": [5987.299986786408], \"sizemode\": \"area\", \"sizeref\": 15.0}, \"mode\": \"markers\", \"name\": \"Switzerland\", \"showlegend\": true, \"subplot\": \"mapbox\", \"type\": \"scattermapbox\"}, {\"customdata\": [[5]], \"hoverlabel\": {\"namelength\": 0}, \"hovertemplate\": \"<b>%{hovertext}</b><br><br>Combined_Key=Syria<br>size=%{marker.size}<br>Recovered=%{customdata[0]}<br>Lat=%{lat}<br>Long_=%{lon}\", \"hovertext\": [\"Syria\"], \"lat\": [34.802075], \"legendgroup\": \"Syria\", \"lon\": [38.99681500000001], \"marker\": {\"color\": \"green\", \"size\": [7.499996093752441], \"sizemode\": \"area\", \"sizeref\": 15.0}, \"mode\": \"markers\", \"name\": \"Syria\", \"showlegend\": true, \"subplot\": \"mapbox\", \"type\": \"scattermapbox\"}, {\"customdata\": [[109]], \"hoverlabel\": {\"namelength\": 0}, \"hovertemplate\": \"<b>%{hovertext}</b><br><br>Combined_Key=Taiwan*<br>size=%{marker.size}<br>Recovered=%{customdata[0]}<br>Lat=%{lat}<br>Long_=%{lon}\", \"hovertext\": [\"Taiwan*\"], \"lat\": [23.7], \"legendgroup\": \"Taiwan*\", \"lon\": [121.0], \"marker\": {\"color\": \"green\", \"size\": [163.45954236063784], \"sizemode\": \"area\", \"sizeref\": 15.0}, \"mode\": \"markers\", \"name\": \"Taiwan*\", \"showlegend\": true, \"subplot\": \"mapbox\", \"type\": \"scattermapbox\"}, {\"customdata\": [[7]], \"hoverlabel\": {\"namelength\": 0}, \"hovertemplate\": \"<b>%{hovertext}</b><br><br>Combined_Key=Tanzania<br>size=%{marker.size}<br>Recovered=%{customdata[0]}<br>Lat=%{lat}<br>Long_=%{lon}\", \"hovertext\": [\"Tanzania\"], \"lat\": [-6.369028], \"legendgroup\": \"Tanzania\", \"lon\": [34.888822], \"marker\": {\"color\": \"green\", \"size\": [10.499989281263131], \"sizemode\": \"area\", \"sizeref\": 15.0}, \"mode\": \"markers\", \"name\": \"Tanzania\", \"showlegend\": true, \"subplot\": \"mapbox\", \"type\": \"scattermapbox\"}, {\"customdata\": [[1288]], \"hoverlabel\": {\"namelength\": 0}, \"hovertemplate\": \"<b>%{hovertext}</b><br><br>Combined_Key=Thailand<br>size=%{marker.size}<br>Recovered=%{customdata[0]}<br>Lat=%{lat}<br>Long_=%{lon}\", \"hovertext\": [\"Thailand\"], \"lat\": [15.870032], \"legendgroup\": \"Thailand\", \"lon\": [100.992541], \"marker\": {\"color\": \"green\", \"size\": [1867.8852659818117], \"sizemode\": \"area\", \"sizeref\": 15.0}, \"mode\": \"markers\", \"name\": \"Thailand\", \"showlegend\": true, \"subplot\": \"mapbox\", \"type\": \"scattermapbox\"}, {\"customdata\": [[1]], \"hoverlabel\": {\"namelength\": 0}, \"hovertemplate\": \"<b>%{hovertext}</b><br><br>Combined_Key=Timor-Leste<br>size=%{marker.size}<br>Recovered=%{customdata[0]}<br>Lat=%{lat}<br>Long_=%{lon}\", \"hovertext\": [\"Timor-Leste\"], \"lat\": [-8.874217], \"legendgroup\": \"Timor-Leste\", \"lon\": [125.727539], \"marker\": {\"color\": \"green\", \"size\": [1.4999999687500007], \"sizemode\": \"area\", \"sizeref\": 15.0}, \"mode\": \"markers\", \"name\": \"Timor-Leste\", \"showlegend\": true, \"subplot\": \"mapbox\", \"type\": \"scattermapbox\"}, {\"customdata\": [[29]], \"hoverlabel\": {\"namelength\": 0}, \"hovertemplate\": \"<b>%{hovertext}</b><br><br>Combined_Key=Togo<br>size=%{marker.size}<br>Recovered=%{customdata[0]}<br>Lat=%{lat}<br>Long_=%{lon}\", \"hovertext\": [\"Togo\"], \"lat\": [8.6195], \"legendgroup\": \"Togo\", \"lon\": [0.8248], \"marker\": {\"color\": \"green\", \"size\": [43.49923785977399], \"sizemode\": \"area\", \"sizeref\": 15.0}, \"mode\": \"markers\", \"name\": \"Togo\", \"showlegend\": true, \"subplot\": \"mapbox\", \"type\": \"scattermapbox\"}, {\"customdata\": [[16]], \"hoverlabel\": {\"namelength\": 0}, \"hovertemplate\": \"<b>%{hovertext}</b><br><br>Combined_Key=Trinidad and Tobago<br>size=%{marker.size}<br>Recovered=%{customdata[0]}<br>Lat=%{lat}<br>Long_=%{lon}\", \"hovertext\": [\"Trinidad and Tobago\"], \"lat\": [10.6918], \"legendgroup\": \"Trinidad and Tobago\", \"lon\": [-61.2225], \"marker\": {\"color\": \"green\", \"size\": [23.999872000819195], \"sizemode\": \"area\", \"sizeref\": 15.0}, \"mode\": \"markers\", \"name\": \"Trinidad and Tobago\", \"showlegend\": true, \"subplot\": \"mapbox\", \"type\": \"scattermapbox\"}, {\"customdata\": [[43]], \"hoverlabel\": {\"namelength\": 0}, \"hovertemplate\": \"<b>%{hovertext}</b><br><br>Combined_Key=Tunisia<br>size=%{marker.size}<br>Recovered=%{customdata[0]}<br>Lat=%{lat}<br>Long_=%{lon}\", \"hovertext\": [\"Tunisia\"], \"lat\": [33.886917], \"legendgroup\": \"Tunisia\", \"lon\": [9.537499], \"marker\": {\"color\": \"green\", \"size\": [64.49751552109497], \"sizemode\": \"area\", \"sizeref\": 15.0}, \"mode\": \"markers\", \"name\": \"Tunisia\", \"showlegend\": true, \"subplot\": \"mapbox\", \"type\": \"scattermapbox\"}, {\"customdata\": [[3957]], \"hoverlabel\": {\"namelength\": 0}, \"hovertemplate\": \"<b>%{hovertext}</b><br><br>Combined_Key=Turkey<br>size=%{marker.size}<br>Recovered=%{customdata[0]}<br>Lat=%{lat}<br>Long_=%{lon}\", \"hovertext\": [\"Turkey\"], \"lat\": [38.9637], \"legendgroup\": \"Turkey\", \"lon\": [35.2433], \"marker\": {\"color\": \"green\", \"size\": [4542.254044719506], \"sizemode\": \"area\", \"sizeref\": 15.0}, \"mode\": \"markers\", \"name\": \"Turkey\", \"showlegend\": true, \"subplot\": \"mapbox\", \"type\": \"scattermapbox\"}, {\"customdata\": [[7]], \"hoverlabel\": {\"namelength\": 0}, \"hovertemplate\": \"<b>%{hovertext}</b><br><br>Combined_Key=Uganda<br>size=%{marker.size}<br>Recovered=%{customdata[0]}<br>Lat=%{lat}<br>Long_=%{lon}\", \"hovertext\": [\"Uganda\"], \"lat\": [1.373333], \"legendgroup\": \"Uganda\", \"lon\": [32.290275], \"marker\": {\"color\": \"green\", \"size\": [10.499989281263131], \"sizemode\": \"area\", \"sizeref\": 15.0}, \"mode\": \"markers\", \"name\": \"Uganda\", \"showlegend\": true, \"subplot\": \"mapbox\", \"type\": \"scattermapbox\"}, {\"customdata\": [[97]], \"hoverlabel\": {\"namelength\": 0}, \"hovertemplate\": \"<b>%{hovertext}</b><br><br>Combined_Key=Ukraine<br>size=%{marker.size}<br>Recovered=%{customdata[0]}<br>Lat=%{lat}<br>Long_=%{lon}\", \"hovertext\": [\"Ukraine\"], \"lat\": [48.3794], \"legendgroup\": \"Ukraine\", \"lon\": [31.1656], \"marker\": {\"color\": \"green\", \"size\": [145.4714856760131], \"sizemode\": \"area\", \"sizeref\": 15.0}, \"mode\": \"markers\", \"name\": \"Ukraine\", \"showlegend\": true, \"subplot\": \"mapbox\", \"type\": \"scattermapbox\"}, {\"customdata\": [[852]], \"hoverlabel\": {\"namelength\": 0}, \"hovertemplate\": \"<b>%{hovertext}</b><br><br>Combined_Key=United Arab Emirates<br>size=%{marker.size}<br>Recovered=%{customdata[0]}<br>Lat=%{lat}<br>Long_=%{lon}\", \"hovertext\": [\"United Arab Emirates\"], \"lat\": [23.424076], \"legendgroup\": \"United Arab Emirates\", \"lon\": [53.847818], \"marker\": {\"color\": \"green\", \"size\": [1259.017223558494], \"sizemode\": \"area\", \"sizeref\": 15.0}, \"mode\": \"markers\", \"name\": \"United Arab Emirates\", \"showlegend\": true, \"subplot\": \"mapbox\", \"type\": \"scattermapbox\"}, {\"customdata\": [[231]], \"hoverlabel\": {\"namelength\": 0}, \"hovertemplate\": \"<b>%{hovertext}</b><br><br>Combined_Key=Uruguay<br>size=%{marker.size}<br>Recovered=%{customdata[0]}<br>Lat=%{lat}<br>Long_=%{lon}\", \"hovertext\": [\"Uruguay\"], \"lat\": [-32.5228], \"legendgroup\": \"Uruguay\", \"lon\": [-55.7658], \"marker\": {\"color\": \"green\", \"size\": [346.11531345457], \"sizemode\": \"area\", \"sizeref\": 15.0}, \"mode\": \"markers\", \"name\": \"Uruguay\", \"showlegend\": true, \"subplot\": \"mapbox\", \"type\": \"scattermapbox\"}, {\"customdata\": [[85]], \"hoverlabel\": {\"namelength\": 0}, \"hovertemplate\": \"<b>%{hovertext}</b><br><br>Combined_Key=Uzbekistan<br>size=%{marker.size}<br>Recovered=%{customdata[0]}<br>Lat=%{lat}<br>Long_=%{lon}\", \"hovertext\": [\"Uzbekistan\"], \"lat\": [41.377491], \"legendgroup\": \"Uzbekistan\", \"lon\": [64.585262], \"marker\": {\"color\": \"green\", \"size\": [127.4808120595643], \"sizemode\": \"area\", \"sizeref\": 15.0}, \"mode\": \"markers\", \"name\": \"Uzbekistan\", \"showlegend\": true, \"subplot\": \"mapbox\", \"type\": \"scattermapbox\"}, {\"customdata\": [[110]], \"hoverlabel\": {\"namelength\": 0}, \"hovertemplate\": \"<b>%{hovertext}</b><br><br>Combined_Key=Venezuela<br>size=%{marker.size}<br>Recovered=%{customdata[0]}<br>Lat=%{lat}<br>Long_=%{lon}\", \"hovertext\": [\"Venezuela\"], \"lat\": [6.4238], \"legendgroup\": \"Venezuela\", \"lon\": [-66.5897], \"marker\": {\"color\": \"green\", \"size\": [164.95841882825917], \"sizemode\": \"area\", \"sizeref\": 15.0}, \"mode\": \"markers\", \"name\": \"Venezuela\", \"showlegend\": true, \"subplot\": \"mapbox\", \"type\": \"scattermapbox\"}, {\"customdata\": [[146]], \"hoverlabel\": {\"namelength\": 0}, \"hovertemplate\": \"<b>%{hovertext}</b><br><br>Combined_Key=Vietnam<br>size=%{marker.size}<br>Recovered=%{customdata[0]}<br>Lat=%{lat}<br>Long_=%{lon}\", \"hovertext\": [\"Vietnam\"], \"lat\": [14.058324], \"legendgroup\": \"Vietnam\", \"lon\": [108.277199], \"marker\": {\"color\": \"green\", \"size\": [218.90279754885762], \"sizemode\": \"area\", \"sizeref\": 15.0}, \"mode\": \"markers\", \"name\": \"Vietnam\", \"showlegend\": true, \"subplot\": \"mapbox\", \"type\": \"scattermapbox\"}, {\"customdata\": [[58]], \"hoverlabel\": {\"namelength\": 0}, \"hovertemplate\": \"<b>%{hovertext}</b><br><br>Combined_Key=West Bank and Gaza<br>size=%{marker.size}<br>Recovered=%{customdata[0]}<br>Lat=%{lat}<br>Long_=%{lon}\", \"hovertext\": [\"West Bank and Gaza\"], \"lat\": [31.9522], \"legendgroup\": \"West Bank and Gaza\", \"lon\": [35.2332], \"marker\": {\"color\": \"green\", \"size\": [86.99390326273509], \"sizemode\": \"area\", \"sizeref\": 15.0}, \"mode\": \"markers\", \"name\": \"West Bank and Gaza\", \"showlegend\": true, \"subplot\": \"mapbox\", \"type\": \"scattermapbox\"}, {\"customdata\": [[0]], \"hoverlabel\": {\"namelength\": 0}, \"hovertemplate\": \"<b>%{hovertext}</b><br><br>Combined_Key=Western Sahara<br>size=%{marker.size}<br>Recovered=%{customdata[0]}<br>Lat=%{lat}<br>Long_=%{lon}\", \"hovertext\": [\"Western Sahara\"], \"lat\": [24.2155], \"legendgroup\": \"Western Sahara\", \"lon\": [-12.8858], \"marker\": {\"color\": \"green\", \"size\": [0.0], \"sizemode\": \"area\", \"sizeref\": 15.0}, \"mode\": \"markers\", \"name\": \"Western Sahara\", \"showlegend\": true, \"subplot\": \"mapbox\", \"type\": \"scattermapbox\"}, {\"customdata\": [[0]], \"hoverlabel\": {\"namelength\": 0}, \"hovertemplate\": \"<b>%{hovertext}</b><br><br>Combined_Key=Yemen<br>size=%{marker.size}<br>Recovered=%{customdata[0]}<br>Lat=%{lat}<br>Long_=%{lon}\", \"hovertext\": [\"Yemen\"], \"lat\": [15.552727], \"legendgroup\": \"Yemen\", \"lon\": [48.516388], \"marker\": {\"color\": \"green\", \"size\": [0.0], \"sizemode\": \"area\", \"sizeref\": 15.0}, \"mode\": \"markers\", \"name\": \"Yemen\", \"showlegend\": true, \"subplot\": \"mapbox\", \"type\": \"scattermapbox\"}, {\"customdata\": [[30]], \"hoverlabel\": {\"namelength\": 0}, \"hovertemplate\": \"<b>%{hovertext}</b><br><br>Combined_Key=Zambia<br>size=%{marker.size}<br>Recovered=%{customdata[0]}<br>Lat=%{lat}<br>Long_=%{lon}\", \"hovertext\": [\"Zambia\"], \"lat\": [-13.133897], \"legendgroup\": \"Zambia\", \"lon\": [27.849332], \"marker\": {\"color\": \"green\", \"size\": [44.99915626898394], \"sizemode\": \"area\", \"sizeref\": 15.0}, \"mode\": \"markers\", \"name\": \"Zambia\", \"showlegend\": true, \"subplot\": \"mapbox\", \"type\": \"scattermapbox\"}, {\"customdata\": [[0]], \"hoverlabel\": {\"namelength\": 0}, \"hovertemplate\": \"<b>%{hovertext}</b><br><br>Combined_Key=Zimbabwe<br>size=%{marker.size}<br>Recovered=%{customdata[0]}<br>Lat=%{lat}<br>Long_=%{lon}\", \"hovertext\": [\"Zimbabwe\"], \"lat\": [-19.015438], \"legendgroup\": \"Zimbabwe\", \"lon\": [29.154857], \"marker\": {\"color\": \"green\", \"size\": [0.0], \"sizemode\": \"area\", \"sizeref\": 15.0}, \"mode\": \"markers\", \"name\": \"Zimbabwe\", \"showlegend\": true, \"subplot\": \"mapbox\", \"type\": \"scattermapbox\"}],\n",
       "                        {\"height\": 400, \"legend\": {\"itemsizing\": \"constant\", \"title\": {\"text\": \"Combined_Key\"}, \"tracegroupgap\": 0}, \"mapbox\": {\"accesstoken\": \"pk.eyJ1IjoiY2hpbm1heTQ0MDAiLCJhIjoiY2s4d2htZ3FlMGU2aTNzbXdwZGQwZDZsayJ9.4Dm7PN7L6q5k4830GaiWUg\", \"bearing\": 0, \"center\": {\"lat\": 20, \"lon\": 78}, \"domain\": {\"x\": [0.0, 1.0], \"y\": [0.0, 1.0]}, \"pitch\": 0, \"style\": \"outdoors\", \"zoom\": 3}, \"margin\": {\"b\": 0, \"l\": 0, \"r\": 0, \"t\": 0}, \"showlegend\": false, \"template\": {\"data\": {\"bar\": [{\"error_x\": {\"color\": \"#2a3f5f\"}, \"error_y\": {\"color\": \"#2a3f5f\"}, \"marker\": {\"line\": {\"color\": \"#E5ECF6\", \"width\": 0.5}}, \"type\": \"bar\"}], \"barpolar\": [{\"marker\": {\"line\": {\"color\": \"#E5ECF6\", \"width\": 0.5}}, \"type\": \"barpolar\"}], \"carpet\": [{\"aaxis\": {\"endlinecolor\": \"#2a3f5f\", \"gridcolor\": \"white\", \"linecolor\": \"white\", \"minorgridcolor\": \"white\", \"startlinecolor\": \"#2a3f5f\"}, \"baxis\": {\"endlinecolor\": \"#2a3f5f\", \"gridcolor\": \"white\", \"linecolor\": \"white\", \"minorgridcolor\": \"white\", \"startlinecolor\": \"#2a3f5f\"}, \"type\": \"carpet\"}], \"choropleth\": [{\"colorbar\": {\"outlinewidth\": 0, \"ticks\": \"\"}, \"type\": \"choropleth\"}], \"contour\": [{\"colorbar\": {\"outlinewidth\": 0, \"ticks\": \"\"}, \"colorscale\": [[0.0, \"#0d0887\"], [0.1111111111111111, \"#46039f\"], [0.2222222222222222, \"#7201a8\"], [0.3333333333333333, \"#9c179e\"], [0.4444444444444444, \"#bd3786\"], [0.5555555555555556, \"#d8576b\"], [0.6666666666666666, \"#ed7953\"], [0.7777777777777778, \"#fb9f3a\"], [0.8888888888888888, \"#fdca26\"], [1.0, \"#f0f921\"]], \"type\": \"contour\"}], \"contourcarpet\": [{\"colorbar\": {\"outlinewidth\": 0, \"ticks\": \"\"}, \"type\": \"contourcarpet\"}], \"heatmap\": [{\"colorbar\": {\"outlinewidth\": 0, \"ticks\": \"\"}, \"colorscale\": [[0.0, \"#0d0887\"], [0.1111111111111111, \"#46039f\"], [0.2222222222222222, \"#7201a8\"], [0.3333333333333333, \"#9c179e\"], [0.4444444444444444, \"#bd3786\"], [0.5555555555555556, \"#d8576b\"], [0.6666666666666666, \"#ed7953\"], [0.7777777777777778, \"#fb9f3a\"], [0.8888888888888888, \"#fdca26\"], [1.0, \"#f0f921\"]], \"type\": \"heatmap\"}], \"heatmapgl\": [{\"colorbar\": {\"outlinewidth\": 0, \"ticks\": \"\"}, \"colorscale\": [[0.0, \"#0d0887\"], [0.1111111111111111, \"#46039f\"], [0.2222222222222222, \"#7201a8\"], [0.3333333333333333, \"#9c179e\"], [0.4444444444444444, \"#bd3786\"], [0.5555555555555556, \"#d8576b\"], [0.6666666666666666, \"#ed7953\"], [0.7777777777777778, \"#fb9f3a\"], [0.8888888888888888, \"#fdca26\"], [1.0, \"#f0f921\"]], \"type\": \"heatmapgl\"}], \"histogram\": [{\"marker\": {\"colorbar\": {\"outlinewidth\": 0, \"ticks\": \"\"}}, \"type\": \"histogram\"}], \"histogram2d\": [{\"colorbar\": {\"outlinewidth\": 0, \"ticks\": \"\"}, \"colorscale\": [[0.0, \"#0d0887\"], [0.1111111111111111, \"#46039f\"], [0.2222222222222222, \"#7201a8\"], [0.3333333333333333, \"#9c179e\"], [0.4444444444444444, \"#bd3786\"], [0.5555555555555556, \"#d8576b\"], [0.6666666666666666, \"#ed7953\"], [0.7777777777777778, \"#fb9f3a\"], [0.8888888888888888, \"#fdca26\"], [1.0, \"#f0f921\"]], \"type\": \"histogram2d\"}], \"histogram2dcontour\": [{\"colorbar\": {\"outlinewidth\": 0, \"ticks\": \"\"}, \"colorscale\": [[0.0, \"#0d0887\"], [0.1111111111111111, \"#46039f\"], [0.2222222222222222, \"#7201a8\"], [0.3333333333333333, \"#9c179e\"], [0.4444444444444444, \"#bd3786\"], [0.5555555555555556, \"#d8576b\"], [0.6666666666666666, \"#ed7953\"], [0.7777777777777778, \"#fb9f3a\"], [0.8888888888888888, \"#fdca26\"], [1.0, \"#f0f921\"]], \"type\": \"histogram2dcontour\"}], \"mesh3d\": [{\"colorbar\": {\"outlinewidth\": 0, \"ticks\": \"\"}, \"type\": \"mesh3d\"}], \"parcoords\": [{\"line\": {\"colorbar\": {\"outlinewidth\": 0, \"ticks\": \"\"}}, \"type\": \"parcoords\"}], \"pie\": [{\"automargin\": true, \"type\": \"pie\"}], \"scatter\": [{\"marker\": {\"colorbar\": {\"outlinewidth\": 0, \"ticks\": \"\"}}, \"type\": \"scatter\"}], \"scatter3d\": [{\"line\": {\"colorbar\": {\"outlinewidth\": 0, \"ticks\": \"\"}}, \"marker\": {\"colorbar\": {\"outlinewidth\": 0, \"ticks\": \"\"}}, \"type\": \"scatter3d\"}], \"scattercarpet\": [{\"marker\": {\"colorbar\": {\"outlinewidth\": 0, \"ticks\": \"\"}}, \"type\": \"scattercarpet\"}], \"scattergeo\": [{\"marker\": {\"colorbar\": {\"outlinewidth\": 0, \"ticks\": \"\"}}, \"type\": \"scattergeo\"}], \"scattergl\": [{\"marker\": {\"colorbar\": {\"outlinewidth\": 0, \"ticks\": \"\"}}, \"type\": \"scattergl\"}], \"scattermapbox\": [{\"marker\": {\"colorbar\": {\"outlinewidth\": 0, \"ticks\": \"\"}}, \"type\": \"scattermapbox\"}], \"scatterpolar\": [{\"marker\": {\"colorbar\": {\"outlinewidth\": 0, \"ticks\": \"\"}}, \"type\": \"scatterpolar\"}], \"scatterpolargl\": [{\"marker\": {\"colorbar\": {\"outlinewidth\": 0, \"ticks\": \"\"}}, \"type\": \"scatterpolargl\"}], \"scatterternary\": [{\"marker\": {\"colorbar\": {\"outlinewidth\": 0, \"ticks\": \"\"}}, \"type\": \"scatterternary\"}], \"surface\": [{\"colorbar\": {\"outlinewidth\": 0, \"ticks\": \"\"}, \"colorscale\": [[0.0, \"#0d0887\"], [0.1111111111111111, \"#46039f\"], [0.2222222222222222, \"#7201a8\"], [0.3333333333333333, \"#9c179e\"], [0.4444444444444444, \"#bd3786\"], [0.5555555555555556, \"#d8576b\"], [0.6666666666666666, \"#ed7953\"], [0.7777777777777778, \"#fb9f3a\"], [0.8888888888888888, \"#fdca26\"], [1.0, \"#f0f921\"]], \"type\": \"surface\"}], \"table\": [{\"cells\": {\"fill\": {\"color\": \"#EBF0F8\"}, \"line\": {\"color\": \"white\"}}, \"header\": {\"fill\": {\"color\": \"#C8D4E3\"}, \"line\": {\"color\": \"white\"}}, \"type\": \"table\"}]}, \"layout\": {\"annotationdefaults\": {\"arrowcolor\": \"#2a3f5f\", \"arrowhead\": 0, \"arrowwidth\": 1}, \"coloraxis\": {\"colorbar\": {\"outlinewidth\": 0, \"ticks\": \"\"}}, \"colorscale\": {\"diverging\": [[0, \"#8e0152\"], [0.1, \"#c51b7d\"], [0.2, \"#de77ae\"], [0.3, \"#f1b6da\"], [0.4, \"#fde0ef\"], [0.5, \"#f7f7f7\"], [0.6, \"#e6f5d0\"], [0.7, \"#b8e186\"], [0.8, \"#7fbc41\"], [0.9, \"#4d9221\"], [1, \"#276419\"]], \"sequential\": [[0.0, \"#0d0887\"], [0.1111111111111111, \"#46039f\"], [0.2222222222222222, \"#7201a8\"], [0.3333333333333333, \"#9c179e\"], [0.4444444444444444, \"#bd3786\"], [0.5555555555555556, \"#d8576b\"], [0.6666666666666666, \"#ed7953\"], [0.7777777777777778, \"#fb9f3a\"], [0.8888888888888888, \"#fdca26\"], [1.0, \"#f0f921\"]], \"sequentialminus\": [[0.0, \"#0d0887\"], [0.1111111111111111, \"#46039f\"], [0.2222222222222222, \"#7201a8\"], [0.3333333333333333, \"#9c179e\"], [0.4444444444444444, \"#bd3786\"], [0.5555555555555556, \"#d8576b\"], [0.6666666666666666, \"#ed7953\"], [0.7777777777777778, \"#fb9f3a\"], [0.8888888888888888, \"#fdca26\"], [1.0, \"#f0f921\"]]}, \"colorway\": [\"#636efa\", \"#EF553B\", \"#00cc96\", \"#ab63fa\", \"#FFA15A\", \"#19d3f3\", \"#FF6692\", \"#B6E880\", \"#FF97FF\", \"#FECB52\"], \"font\": {\"color\": \"#2a3f5f\"}, \"geo\": {\"bgcolor\": \"white\", \"lakecolor\": \"white\", \"landcolor\": \"#E5ECF6\", \"showlakes\": true, \"showland\": true, \"subunitcolor\": \"white\"}, \"hoverlabel\": {\"align\": \"left\"}, \"hovermode\": \"closest\", \"mapbox\": {\"style\": \"light\"}, \"paper_bgcolor\": \"white\", \"plot_bgcolor\": \"#E5ECF6\", \"polar\": {\"angularaxis\": {\"gridcolor\": \"white\", \"linecolor\": \"white\", \"ticks\": \"\"}, \"bgcolor\": \"#E5ECF6\", \"radialaxis\": {\"gridcolor\": \"white\", \"linecolor\": \"white\", \"ticks\": \"\"}}, \"scene\": {\"xaxis\": {\"backgroundcolor\": \"#E5ECF6\", \"gridcolor\": \"white\", \"gridwidth\": 2, \"linecolor\": \"white\", \"showbackground\": true, \"ticks\": \"\", \"zerolinecolor\": \"white\"}, \"yaxis\": {\"backgroundcolor\": \"#E5ECF6\", \"gridcolor\": \"white\", \"gridwidth\": 2, \"linecolor\": \"white\", \"showbackground\": true, \"ticks\": \"\", \"zerolinecolor\": \"white\"}, \"zaxis\": {\"backgroundcolor\": \"#E5ECF6\", \"gridcolor\": \"white\", \"gridwidth\": 2, \"linecolor\": \"white\", \"showbackground\": true, \"ticks\": \"\", \"zerolinecolor\": \"white\"}}, \"shapedefaults\": {\"line\": {\"color\": \"#2a3f5f\"}}, \"ternary\": {\"aaxis\": {\"gridcolor\": \"white\", \"linecolor\": \"white\", \"ticks\": \"\"}, \"baxis\": {\"gridcolor\": \"white\", \"linecolor\": \"white\", \"ticks\": \"\"}, \"bgcolor\": \"#E5ECF6\", \"caxis\": {\"gridcolor\": \"white\", \"linecolor\": \"white\", \"ticks\": \"\"}}, \"title\": {\"x\": 0.05}, \"xaxis\": {\"automargin\": true, \"gridcolor\": \"white\", \"linecolor\": \"white\", \"ticks\": \"\", \"title\": {\"standoff\": 15}, \"zerolinecolor\": \"white\", \"zerolinewidth\": 2}, \"yaxis\": {\"automargin\": true, \"gridcolor\": \"white\", \"linecolor\": \"white\", \"ticks\": \"\", \"title\": {\"standoff\": 15}, \"zerolinecolor\": \"white\", \"zerolinewidth\": 2}}}},\n",
       "                        {\"responsive\": true}\n",
       "                    ).then(function(){\n",
       "                            \n",
       "var gd = document.getElementById('30918b2d-3e4e-4cfa-9906-a5ba7d0d16d0');\n",
       "var x = new MutationObserver(function (mutations, observer) {{\n",
       "        var display = window.getComputedStyle(gd).display;\n",
       "        if (!display || display === 'none') {{\n",
       "            console.log([gd, 'removed!']);\n",
       "            Plotly.purge(gd);\n",
       "            observer.disconnect();\n",
       "        }}\n",
       "}});\n",
       "\n",
       "// Listen for the removal of the full notebook cells\n",
       "var notebookContainer = gd.closest('#notebook-container');\n",
       "if (notebookContainer) {{\n",
       "    x.observe(notebookContainer, {childList: true});\n",
       "}}\n",
       "\n",
       "// Listen for the clearing of the current output cell\n",
       "var outputEl = gd.closest('.output');\n",
       "if (outputEl) {{\n",
       "    x.observe(outputEl, {childList: true});\n",
       "}}\n",
       "\n",
       "                        })\n",
       "                };\n",
       "                });\n",
       "            </script>\n",
       "        </div>"
      ]
     },
     "metadata": {},
     "output_type": "display_data"
    }
   ],
   "source": [
    "global_map(df_total_new,\"Recovered\")"
   ]
  },
  {
   "cell_type": "code",
   "execution_count": null,
   "metadata": {},
   "outputs": [],
   "source": [
    "df_total[\"Confirmed\"].sum()"
   ]
  },
  {
   "cell_type": "code",
   "execution_count": null,
   "metadata": {},
   "outputs": [],
   "source": [
    "df_total.loc[df_total.Country_Region == \"India\"]"
   ]
  },
  {
   "cell_type": "code",
   "execution_count": null,
   "metadata": {},
   "outputs": [],
   "source": [
    "daily_data = daily_data.sort_values(by='dateRep')\n",
    "def get_df_cumsum():\n",
    "    df_new = pd.DataFrame(columns=daily_data.columns)\n",
    "    countries = daily_data[\"countriesAndTerritories\"].unique()\n",
    "    for each in countries:\n",
    "        df = daily_data.loc[daily_data[\"countriesAndTerritories\"]==each]\n",
    "        df.deaths = df.deaths.cumsum(axis=0)\n",
    "        df.cases = df.cases.cumsum(axis=0)\n",
    "        df_new = df_new.append(df)\n",
    "    return df_new"
   ]
  },
  {
   "cell_type": "code",
   "execution_count": null,
   "metadata": {},
   "outputs": [],
   "source": [
    "df_cumsum = get_df_cumsum()"
   ]
  },
  {
   "cell_type": "code",
   "execution_count": null,
   "metadata": {},
   "outputs": [],
   "source": [
    "def cum_plot(data,kind):\n",
    "    fig = go.Figure()\n",
    "    for each in data[\"countriesAndTerritories\"].unique():\n",
    "        fig.add_trace(go.Scatter(\n",
    "            x = data.loc[data['countriesAndTerritories']==each]['dateRep'],\n",
    "            y = data.loc[data['countriesAndTerritories']==each][kind],\n",
    "            name = each,\n",
    "            mode = \"lines\"\n",
    "            )\n",
    "        )\n",
    "    fig.update_layout(\n",
    "        title='Total {} (Date-wise)'.format(kind),\n",
    "        xaxis_tickfont_size=1,\n",
    "        xaxis=dict(\n",
    "            title = \"Date\",\n",
    "            titlefont_size=16,\n",
    "            tickfont_size=14,\n",
    "        ),\n",
    "        legend=dict(\n",
    "            x=0,\n",
    "            y=1.0,\n",
    "            bgcolor='rgba(255, 255, 255, 0)',\n",
    "        ),\n",
    "        plot_bgcolor='lightgrey'\n",
    "    )\n",
    "    return fig"
   ]
  },
  {
   "cell_type": "code",
   "execution_count": null,
   "metadata": {},
   "outputs": [],
   "source": [
    "fig = cum_plot(df_cumsum,'cases')\n",
    "fig.show()"
   ]
  },
  {
   "cell_type": "code",
   "execution_count": null,
   "metadata": {},
   "outputs": [],
   "source": []
  }
 ],
 "metadata": {
  "kernelspec": {
   "display_name": "Python 3",
   "language": "python",
   "name": "python3"
  },
  "language_info": {
   "codemirror_mode": {
    "name": "ipython",
    "version": 3
   },
   "file_extension": ".py",
   "mimetype": "text/x-python",
   "name": "python",
   "nbconvert_exporter": "python",
   "pygments_lexer": "ipython3",
   "version": "3.8.2"
  }
 },
 "nbformat": 4,
 "nbformat_minor": 2
}
