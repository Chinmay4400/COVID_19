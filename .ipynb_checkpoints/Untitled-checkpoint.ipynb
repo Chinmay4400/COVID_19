{
 "cells": [
  {
   "cell_type": "code",
   "execution_count": 1,
   "metadata": {},
   "outputs": [
    {
     "ename": "ModuleNotFoundError",
     "evalue": "No module named 'chart_studio'",
     "output_type": "error",
     "traceback": [
      "\u001b[0;31m---------------------------------------------------------------------------\u001b[0m",
      "\u001b[0;31mModuleNotFoundError\u001b[0m                       Traceback (most recent call last)",
      "\u001b[0;32m<ipython-input-1-ba06f14e8b08>\u001b[0m in \u001b[0;36m<module>\u001b[0;34m\u001b[0m\n\u001b[1;32m      3\u001b[0m \u001b[0;32mimport\u001b[0m \u001b[0mrequests\u001b[0m\u001b[0;34m\u001b[0m\u001b[0;34m\u001b[0m\u001b[0m\n\u001b[1;32m      4\u001b[0m \u001b[0;32mimport\u001b[0m \u001b[0mnumpy\u001b[0m \u001b[0;32mas\u001b[0m \u001b[0mnp\u001b[0m\u001b[0;34m\u001b[0m\u001b[0;34m\u001b[0m\u001b[0m\n\u001b[0;32m----> 5\u001b[0;31m \u001b[0;32mimport\u001b[0m \u001b[0mchart_studio\u001b[0m\u001b[0;34m.\u001b[0m\u001b[0mplotly\u001b[0m \u001b[0;32mas\u001b[0m \u001b[0mpy\u001b[0m\u001b[0;34m\u001b[0m\u001b[0;34m\u001b[0m\u001b[0m\n\u001b[0m",
      "\u001b[0;31mModuleNotFoundError\u001b[0m: No module named 'chart_studio'"
     ]
    }
   ],
   "source": [
    "import pandas as pd\n",
    "import datetime\n",
    "import requests\n",
    "import numpy as np\n",
    "import chart_studio.plotly as py"
   ]
  },
  {
   "cell_type": "code",
   "execution_count": null,
   "metadata": {},
   "outputs": [],
   "source": [
    "import plotly.express as px\n",
    "import plotly.graph_objects as go"
   ]
  },
  {
   "cell_type": "code",
   "execution_count": null,
   "metadata": {},
   "outputs": [],
   "source": [
    "date = datetime.date.today()\n",
    "map_box_token = \"pk.eyJ1IjoiY2hpbm1heTQ0MDAiLCJhIjoiY2s4d2htZ3FlMGU2aTNzbXdwZGQwZDZsayJ9.4Dm7PN7L6q5k4830GaiWUg\""
   ]
  },
  {
   "cell_type": "code",
   "execution_count": null,
   "metadata": {},
   "outputs": [],
   "source": [
    "url_excel = \"https://www.ecdc.europa.eu/sites/default/files/documents/COVID-19-geographic-disbtribution-worldwide-{}.xlsx\"\n",
    "url_csv = 'https://raw.githubusercontent.com/CSSEGISandData/COVID-19/master/csse_covid_19_data/csse_covid_19_daily_reports/{}.csv'"
   ]
  },
  {
   "cell_type": "code",
   "execution_count": null,
   "metadata": {},
   "outputs": [],
   "source": [
    "daily_data = pd.DataFrame()\n",
    "df_total = pd.DataFrame()\n",
    "def get_data():\n",
    "    request = requests.get(url_excel.format(date))\n",
    "    global daily_data\n",
    "    global df_total\n",
    "    if request.status_code == 200:\n",
    "        daily_data = pd.read_excel(url_excel.format(date))\n",
    "    else:\n",
    "        daily_data = pd.read_excel(url_excel.format((date - datetime.timedelta(1))))\n",
    "        \n",
    "    request = requests.get(url_csv.format(date.strftime(\"%m-%d-%Y\")))\n",
    "    if request.status_code == 200:\n",
    "        df_total = pd.read_csv(url_csv.format(date.strftime(\"%m-%d-%Y\")))\n",
    "    else:\n",
    "        df_total = pd.read_csv(url_csv.format((date - datetime.timedelta(1)).strftime(\"%m-%d-%Y\")))"
   ]
  },
  {
   "cell_type": "code",
   "execution_count": null,
   "metadata": {},
   "outputs": [],
   "source": [
    "get_data()"
   ]
  },
  {
   "cell_type": "code",
   "execution_count": null,
   "metadata": {},
   "outputs": [],
   "source": [
    "def update_total():\n",
    "    df_total_new = pd.DataFrame(columns=df_total.columns)\n",
    "    countries = df_total[\"Country_Region\"].unique()\n",
    "    entry = dict()\n",
    "    for each in countries:\n",
    "        df = df_total.loc[df_total[\"Country_Region\"]==each]\n",
    "        entry[\"Confirmed\"] = df[\"Confirmed\"].sum()\n",
    "        entry[\"Deaths\"] = df[\"Deaths\"].sum()\n",
    "        entry[\"Recovered\"] = df[\"Recovered\"].sum()\n",
    "        entry[\"Country_Region\"] = each\n",
    "        entry[\"Last_Update\"] = df[\"Last_Update\"].unique()[0]\n",
    "        entry[\"Lat\"] = df[\"Lat\"].unique()[0]\n",
    "        entry[\"Long_\"] = df[\"Long_\"].unique()[0]\n",
    "        entry[\"Combined_Key\"] = each\n",
    "        df_total_new = df_total_new.append(entry,ignore_index=True)\n",
    "    return df_total_new"
   ]
  },
  {
   "cell_type": "code",
   "execution_count": null,
   "metadata": {},
   "outputs": [],
   "source": [
    "df_total_new = update_total()"
   ]
  },
  {
   "cell_type": "code",
   "execution_count": null,
   "metadata": {},
   "outputs": [],
   "source": [
    "def global_map(df,kind):\n",
    "    px.set_mapbox_access_token(map_box_token)\n",
    "    fig = go.Figure()\n",
    "    kinds = ['Deaths','Confirmed','Recovered']\n",
    "    for kind in kinds:\n",
    "        fig.add_trace(px.scatter_mapbox(df, lat=\"Lat\", lon=\"Long_\",\n",
    "                                  hover_name=\"Combined_Key\", hover_data=[kind],\n",
    "                                color=\"Country_Region\",size = df[kind].tolist(),\n",
    "                                  height=400))\n",
    "    fig.update_layout(mapbox_style=\"dark\",\n",
    "                      mapbox=dict(\n",
    "                        bearing=0,\n",
    "                        center=go.layout.mapbox.Center(\n",
    "                            lat=20,\n",
    "                            lon=78\n",
    "                        ),\n",
    "                        pitch=0,\n",
    "                        zoom=1,\n",
    "                        )\n",
    "                     )\n",
    "    fig.update_layout(margin={\"r\":0,\"t\":0,\"l\":0,\"b\":0})\n",
    "    return fig"
   ]
  },
  {
   "cell_type": "code",
   "execution_count": null,
   "metadata": {},
   "outputs": [],
   "source": [
    "def global_map(df):\n",
    "    data = []\n",
    "    kinds = ['Deaths','Confirmed','Recovered']\n",
    "    for kind in kinds:\n",
    "        type_data = dict(\n",
    "                data_frame = df,\n",
    "                lat = df['Lat'],\n",
    "                lon = df['Long_'],\n",
    "                name = kind,\n",
    "                color=\"Country_Region\",\n",
    "                size = df[kind].tolist(),\n",
    "                hover_name=\"Combined_Key\", \n",
    "                hover_data=[kind],\n",
    "                mapbox_style=\"dark\",\n",
    "                type = 'scattermapbox',\n",
    "                title = kind,\n",
    "            )\n",
    "        data.append(type_data)\n",
    "    \n",
    "    layout = dict(\n",
    "        height = 300,\n",
    "        margin = dict(t = 0, b = 0, l = 0, r = 0),\n",
    "        mapbox = dict(\n",
    "            accesstoken = map_box_token,\n",
    "            bearing = 0,\n",
    "            center=go.layout.mapbox.Center(\n",
    "                lat=20,\n",
    "                lon=78\n",
    "            ),\n",
    "            pitch = 0,\n",
    "            zoom = 3,\n",
    "            style = 'dark'\n",
    "        )\n",
    "    )\n",
    "    updatemenus=list([\n",
    "        dict(\n",
    "             buttons=list([\n",
    "                dict(label = 'Confirmed Cases',\n",
    "                     method = 'update',\n",
    "                     args = [{'visible': [False, True, False,]}]),\n",
    "                dict(label = 'Deaths',\n",
    "                     method = 'update',\n",
    "                     args = [{'visible': [True, False, False,]}]),\n",
    "                dict(label = 'Recovered Cases',\n",
    "                     method = 'update',\n",
    "                     args = [{'visible': [False, False, True,]}]),\n",
    "            ]),\n",
    "            # direction where the drop-down expands when opened\n",
    "            direction = 'down',\n",
    "            # positional arguments\n",
    "            x = 0.01,\n",
    "            xanchor = 'left',\n",
    "            y = 0.99,\n",
    "            yanchor = 'bottom',\n",
    "            # fonts and border\n",
    "            bgcolor = '#000000',\n",
    "            bordercolor = '#FFFFFF',\n",
    "            font = dict(size=11)\n",
    "        )\n",
    "    ])\n",
    "    layout['updatemenus'] = updatemenus\n",
    "    figure = dict(data = data, layout = layout)\n",
    "    py.iplot(figure, filename = 'put_your_name_here')"
   ]
  },
  {
   "cell_type": "code",
   "execution_count": null,
   "metadata": {},
   "outputs": [],
   "source": [
    "global_map(df_total_new)"
   ]
  },
  {
   "cell_type": "code",
   "execution_count": null,
   "metadata": {},
   "outputs": [],
   "source": [
    "df_total"
   ]
  },
  {
   "cell_type": "code",
   "execution_count": null,
   "metadata": {},
   "outputs": [],
   "source": [
    "df_total[\"Confirmed\"].sum()"
   ]
  },
  {
   "cell_type": "code",
   "execution_count": null,
   "metadata": {},
   "outputs": [],
   "source": [
    "df_total.loc[df_total.Country_Region == \"India\"]"
   ]
  },
  {
   "cell_type": "code",
   "execution_count": null,
   "metadata": {},
   "outputs": [],
   "source": [
    "daily_data = daily_data.sort_values(by='dateRep')\n",
    "def get_df_cumsum():\n",
    "    df_new = pd.DataFrame(columns=daily_data.columns)\n",
    "    countries = daily_data[\"countriesAndTerritories\"].unique()\n",
    "    for each in countries:\n",
    "        df = daily_data.loc[daily_data[\"countriesAndTerritories\"]==each]\n",
    "        df.deaths = df.deaths.cumsum(axis=0)\n",
    "        df.cases = df.cases.cumsum(axis=0)\n",
    "        df_new = df_new.append(df)\n",
    "    return df_new"
   ]
  },
  {
   "cell_type": "code",
   "execution_count": null,
   "metadata": {},
   "outputs": [],
   "source": [
    "df_cumsum = get_df_cumsum()"
   ]
  },
  {
   "cell_type": "code",
   "execution_count": null,
   "metadata": {},
   "outputs": [],
   "source": [
    "def cum_plot(data,kind):\n",
    "    fig = go.Figure()\n",
    "    for each in data[\"countriesAndTerritories\"].unique():\n",
    "        fig.add_trace(go.Scatter(\n",
    "            x = data.loc[data['countriesAndTerritories']==each]['dateRep'],\n",
    "            y = data.loc[data['countriesAndTerritories']==each][kind],\n",
    "            name = each,\n",
    "            mode = \"lines\"\n",
    "            )\n",
    "        )\n",
    "    fig.update_layout(\n",
    "        title='Total {} (Date-wise)'.format(kind),\n",
    "        xaxis_tickfont_size=1,\n",
    "        xaxis=dict(\n",
    "            title = \"Date\",\n",
    "            titlefont_size=16,\n",
    "            tickfont_size=14,\n",
    "        ),\n",
    "        legend=dict(\n",
    "            x=0,\n",
    "            y=1.0,\n",
    "            bgcolor='rgba(255, 255, 255, 0)',\n",
    "        ),\n",
    "        plot_bgcolor='lightgrey'\n",
    "    )\n",
    "    return fig"
   ]
  },
  {
   "cell_type": "code",
   "execution_count": null,
   "metadata": {},
   "outputs": [],
   "source": [
    "fig = cum_plot(df_cumsum,'cases')\n",
    "fig.show()"
   ]
  },
  {
   "cell_type": "code",
   "execution_count": null,
   "metadata": {},
   "outputs": [],
   "source": []
  }
 ],
 "metadata": {
  "kernelspec": {
   "display_name": "Python 3",
   "language": "python",
   "name": "python3"
  },
  "language_info": {
   "codemirror_mode": {
    "name": "ipython",
    "version": 3
   },
   "file_extension": ".py",
   "mimetype": "text/x-python",
   "name": "python",
   "nbconvert_exporter": "python",
   "pygments_lexer": "ipython3",
   "version": "3.8.2"
  }
 },
 "nbformat": 4,
 "nbformat_minor": 2
}
