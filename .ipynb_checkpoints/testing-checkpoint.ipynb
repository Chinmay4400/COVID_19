{
 "cells": [
  {
   "cell_type": "code",
   "execution_count": 1,
   "metadata": {},
   "outputs": [],
   "source": [
    "import covid_data\n",
    "import datetime\n",
    "import pandas as pd"
   ]
  },
  {
   "cell_type": "code",
   "execution_count": 2,
   "metadata": {},
   "outputs": [],
   "source": [
    "df = covid_data.get_data()"
   ]
  },
  {
   "cell_type": "code",
   "execution_count": 3,
   "metadata": {},
   "outputs": [],
   "source": [
    "date = df.iloc[0].Date.date()"
   ]
  },
  {
   "cell_type": "code",
   "execution_count": 4,
   "metadata": {},
   "outputs": [
    {
     "data": {
      "text/plain": [
       "datetime.date(2020, 3, 29)"
      ]
     },
     "execution_count": 4,
     "metadata": {},
     "output_type": "execute_result"
    }
   ],
   "source": [
    "date"
   ]
  },
  {
   "cell_type": "code",
   "execution_count": 5,
   "metadata": {},
   "outputs": [
    {
     "data": {
      "text/html": [
       "<div>\n",
       "<style scoped>\n",
       "    .dataframe tbody tr th:only-of-type {\n",
       "        vertical-align: middle;\n",
       "    }\n",
       "\n",
       "    .dataframe tbody tr th {\n",
       "        vertical-align: top;\n",
       "    }\n",
       "\n",
       "    .dataframe thead th {\n",
       "        text-align: right;\n",
       "    }\n",
       "</style>\n",
       "<table border=\"1\" class=\"dataframe\">\n",
       "  <thead>\n",
       "    <tr style=\"text-align: right;\">\n",
       "      <th></th>\n",
       "      <th>Date</th>\n",
       "      <th>day</th>\n",
       "      <th>month</th>\n",
       "      <th>year</th>\n",
       "      <th>Cases</th>\n",
       "      <th>Deaths</th>\n",
       "      <th>Area</th>\n",
       "      <th>geoId</th>\n",
       "      <th>alpha3</th>\n",
       "      <th>popData2018</th>\n",
       "    </tr>\n",
       "  </thead>\n",
       "  <tbody>\n",
       "    <tr>\n",
       "      <th>0</th>\n",
       "      <td>2020-03-29</td>\n",
       "      <td>29</td>\n",
       "      <td>3</td>\n",
       "      <td>2020</td>\n",
       "      <td>15</td>\n",
       "      <td>1</td>\n",
       "      <td>Afghanistan</td>\n",
       "      <td>AF</td>\n",
       "      <td>AFG</td>\n",
       "      <td>37172386.0</td>\n",
       "    </tr>\n",
       "    <tr>\n",
       "      <th>1</th>\n",
       "      <td>2020-03-28</td>\n",
       "      <td>28</td>\n",
       "      <td>3</td>\n",
       "      <td>2020</td>\n",
       "      <td>16</td>\n",
       "      <td>1</td>\n",
       "      <td>Afghanistan</td>\n",
       "      <td>AF</td>\n",
       "      <td>AFG</td>\n",
       "      <td>37172386.0</td>\n",
       "    </tr>\n",
       "    <tr>\n",
       "      <th>2</th>\n",
       "      <td>2020-03-27</td>\n",
       "      <td>27</td>\n",
       "      <td>3</td>\n",
       "      <td>2020</td>\n",
       "      <td>0</td>\n",
       "      <td>0</td>\n",
       "      <td>Afghanistan</td>\n",
       "      <td>AF</td>\n",
       "      <td>AFG</td>\n",
       "      <td>37172386.0</td>\n",
       "    </tr>\n",
       "    <tr>\n",
       "      <th>3</th>\n",
       "      <td>2020-03-26</td>\n",
       "      <td>26</td>\n",
       "      <td>3</td>\n",
       "      <td>2020</td>\n",
       "      <td>33</td>\n",
       "      <td>0</td>\n",
       "      <td>Afghanistan</td>\n",
       "      <td>AF</td>\n",
       "      <td>AFG</td>\n",
       "      <td>37172386.0</td>\n",
       "    </tr>\n",
       "    <tr>\n",
       "      <th>4</th>\n",
       "      <td>2020-03-25</td>\n",
       "      <td>25</td>\n",
       "      <td>3</td>\n",
       "      <td>2020</td>\n",
       "      <td>2</td>\n",
       "      <td>0</td>\n",
       "      <td>Afghanistan</td>\n",
       "      <td>AF</td>\n",
       "      <td>AFG</td>\n",
       "      <td>37172386.0</td>\n",
       "    </tr>\n",
       "    <tr>\n",
       "      <th>...</th>\n",
       "      <td>...</td>\n",
       "      <td>...</td>\n",
       "      <td>...</td>\n",
       "      <td>...</td>\n",
       "      <td>...</td>\n",
       "      <td>...</td>\n",
       "      <td>...</td>\n",
       "      <td>...</td>\n",
       "      <td>...</td>\n",
       "      <td>...</td>\n",
       "    </tr>\n",
       "    <tr>\n",
       "      <th>7510</th>\n",
       "      <td>2020-03-25</td>\n",
       "      <td>25</td>\n",
       "      <td>3</td>\n",
       "      <td>2020</td>\n",
       "      <td>0</td>\n",
       "      <td>0</td>\n",
       "      <td>Zimbabwe</td>\n",
       "      <td>ZW</td>\n",
       "      <td>ZWE</td>\n",
       "      <td>14439018.0</td>\n",
       "    </tr>\n",
       "    <tr>\n",
       "      <th>7511</th>\n",
       "      <td>2020-03-24</td>\n",
       "      <td>24</td>\n",
       "      <td>3</td>\n",
       "      <td>2020</td>\n",
       "      <td>0</td>\n",
       "      <td>1</td>\n",
       "      <td>Zimbabwe</td>\n",
       "      <td>ZW</td>\n",
       "      <td>ZWE</td>\n",
       "      <td>14439018.0</td>\n",
       "    </tr>\n",
       "    <tr>\n",
       "      <th>7512</th>\n",
       "      <td>2020-03-23</td>\n",
       "      <td>23</td>\n",
       "      <td>3</td>\n",
       "      <td>2020</td>\n",
       "      <td>0</td>\n",
       "      <td>0</td>\n",
       "      <td>Zimbabwe</td>\n",
       "      <td>ZW</td>\n",
       "      <td>ZWE</td>\n",
       "      <td>14439018.0</td>\n",
       "    </tr>\n",
       "    <tr>\n",
       "      <th>7513</th>\n",
       "      <td>2020-03-22</td>\n",
       "      <td>22</td>\n",
       "      <td>3</td>\n",
       "      <td>2020</td>\n",
       "      <td>1</td>\n",
       "      <td>0</td>\n",
       "      <td>Zimbabwe</td>\n",
       "      <td>ZW</td>\n",
       "      <td>ZWE</td>\n",
       "      <td>14439018.0</td>\n",
       "    </tr>\n",
       "    <tr>\n",
       "      <th>7514</th>\n",
       "      <td>2020-03-21</td>\n",
       "      <td>21</td>\n",
       "      <td>3</td>\n",
       "      <td>2020</td>\n",
       "      <td>1</td>\n",
       "      <td>0</td>\n",
       "      <td>Zimbabwe</td>\n",
       "      <td>ZW</td>\n",
       "      <td>ZWE</td>\n",
       "      <td>14439018.0</td>\n",
       "    </tr>\n",
       "  </tbody>\n",
       "</table>\n",
       "<p>7515 rows × 10 columns</p>\n",
       "</div>"
      ],
      "text/plain": [
       "           Date  day  month  year  Cases  Deaths         Area geoId alpha3  \\\n",
       "0    2020-03-29   29      3  2020     15       1  Afghanistan    AF    AFG   \n",
       "1    2020-03-28   28      3  2020     16       1  Afghanistan    AF    AFG   \n",
       "2    2020-03-27   27      3  2020      0       0  Afghanistan    AF    AFG   \n",
       "3    2020-03-26   26      3  2020     33       0  Afghanistan    AF    AFG   \n",
       "4    2020-03-25   25      3  2020      2       0  Afghanistan    AF    AFG   \n",
       "...         ...  ...    ...   ...    ...     ...          ...   ...    ...   \n",
       "7510 2020-03-25   25      3  2020      0       0     Zimbabwe    ZW    ZWE   \n",
       "7511 2020-03-24   24      3  2020      0       1     Zimbabwe    ZW    ZWE   \n",
       "7512 2020-03-23   23      3  2020      0       0     Zimbabwe    ZW    ZWE   \n",
       "7513 2020-03-22   22      3  2020      1       0     Zimbabwe    ZW    ZWE   \n",
       "7514 2020-03-21   21      3  2020      1       0     Zimbabwe    ZW    ZWE   \n",
       "\n",
       "      popData2018  \n",
       "0      37172386.0  \n",
       "1      37172386.0  \n",
       "2      37172386.0  \n",
       "3      37172386.0  \n",
       "4      37172386.0  \n",
       "...           ...  \n",
       "7510   14439018.0  \n",
       "7511   14439018.0  \n",
       "7512   14439018.0  \n",
       "7513   14439018.0  \n",
       "7514   14439018.0  \n",
       "\n",
       "[7515 rows x 10 columns]"
      ]
     },
     "execution_count": 5,
     "metadata": {},
     "output_type": "execute_result"
    }
   ],
   "source": [
    "df"
   ]
  },
  {
   "cell_type": "code",
   "execution_count": 15,
   "metadata": {},
   "outputs": [
    {
     "data": {
      "application/vnd.plotly.v1+json": {
       "config": {
        "plotlyServerURL": "https://plot.ly"
       },
       "data": [
        {
         "customdata": [
          [
           2191
          ],
          [
           10023
          ],
          [
           3306
          ],
          [
           5690
          ],
          [
           389
          ],
          [
           2314
          ],
          [
           2517
          ],
          [
           1019
          ],
          [
           235
          ],
          [
           639
          ],
          [
           152
          ],
          [
           353
          ],
          [
           68
          ],
          [
           108
          ],
          [
           60
          ],
          [
           100
          ],
          [
           114
          ],
          [
           20
          ],
          [
           14
          ],
          [
           12
          ],
          [
           102
          ],
          [
           11
          ],
          [
           36
          ],
          [
           27
          ],
          [
           65
          ],
          [
           6
          ],
          [
           48
          ],
          [
           18
          ],
          [
           52
          ],
          [
           18
          ],
          [
           29
          ],
          [
           11
          ],
          [
           5
          ],
          [
           6
          ],
          [
           9
          ],
          [
           4
          ],
          [
           2
          ],
          [
           102
          ],
          [
           68
          ],
          [
           32
          ],
          [
           25
          ],
          [
           2
          ],
          [
           17
          ],
          [
           16
          ],
          [
           3
          ],
          [
           19
          ],
          [
           28
          ],
          [
           7
          ],
          [
           9
          ],
          [
           16
          ],
          [
           10
          ],
          [
           5
          ],
          [
           1
          ],
          [
           6
          ],
          [
           1
          ],
          [
           30
          ],
          [
           42
          ],
          [
           1
          ],
          [
           4
          ],
          [
           2
          ],
          [
           3
          ],
          [
           8
          ],
          [
           26
          ],
          [
           13
          ],
          [
           7
          ],
          [
           23
          ],
          [
           7
          ],
          [
           8
          ],
          [
           4
          ],
          [
           0
          ],
          [
           0
          ],
          [
           0
          ],
          [
           2
          ],
          [
           2
          ],
          [
           5
          ],
          [
           4
          ],
          [
           1
          ],
          [
           0
          ],
          [
           2
          ],
          [
           0
          ],
          [
           6
          ],
          [
           22
          ],
          [
           0
          ],
          [
           10
          ],
          [
           4
          ],
          [
           9
          ],
          [
           5
          ],
          [
           0
          ],
          [
           0
          ],
          [
           5
          ],
          [
           0
          ],
          [
           0
          ],
          [
           1
          ],
          [
           0
          ],
          [
           1
          ],
          [
           3
          ],
          [
           1
          ],
          [
           1
          ],
          [
           2
          ],
          [
           3
          ],
          [
           0
          ],
          [
           2
          ],
          [
           3
          ],
          [
           2
          ],
          [
           1
          ],
          [
           1
          ],
          [
           0
          ],
          [
           1
          ],
          [
           0
          ],
          [
           0
          ],
          [
           1
          ],
          [
           0
          ],
          [
           2
          ],
          [
           1
          ],
          [
           0
          ],
          [
           0
          ],
          [
           3
          ],
          [
           6
          ],
          [
           0
          ],
          [
           1
          ],
          [
           5
          ],
          [
           0
          ],
          [
           0
          ],
          [
           1
          ],
          [
           1
          ],
          [
           0
          ],
          [
           1
          ],
          [
           0
          ],
          [
           0
          ],
          [
           1
          ],
          [
           0
          ],
          [
           0
          ],
          [
           0
          ],
          [
           0
          ],
          [
           0
          ],
          [
           0
          ],
          [
           0
          ],
          [
           0
          ],
          [
           0
          ],
          [
           0
          ],
          [
           0
          ],
          [
           0
          ],
          [
           1
          ],
          [
           0
          ],
          [
           0
          ],
          [
           0
          ],
          [
           0
          ],
          [
           0
          ],
          [
           1
          ],
          [
           0
          ],
          [
           0
          ],
          [
           0
          ],
          [
           0
          ],
          [
           1
          ],
          [
           1
          ],
          [
           0
          ],
          [
           1
          ],
          [
           0
          ],
          [
           0
          ],
          [
           0
          ],
          [
           0
          ],
          [
           0
          ],
          [
           0
          ],
          [
           1
          ],
          [
           1
          ],
          [
           0
          ],
          [
           0
          ],
          [
           0
          ],
          [
           1
          ],
          [
           0
          ],
          [
           0
          ],
          [
           0
          ],
          [
           0
          ],
          [
           0
          ],
          [
           0
          ],
          [
           0
          ],
          [
           0
          ],
          [
           0
          ],
          [
           1
          ],
          [
           0
          ],
          [
           0
          ],
          [
           0
          ],
          [
           0
          ],
          [
           0
          ],
          [
           1
          ],
          [
           1
          ],
          [
           0
          ],
          [
           0
          ],
          [
           0
          ],
          [
           0
          ],
          [
           0
          ],
          [
           0
          ],
          [
           0
          ],
          [
           0
          ],
          [
           0
          ],
          [
           0
          ]
         ],
         "geo": "geo",
         "hoverlabel": {
          "namelength": 0
         },
         "hovertemplate": "<b>%{hovertext}</b><br><br>size=%{marker.size}<br>Deaths=%{customdata[0]}<br>alpha3=%{location}",
         "hovertext": [
          "United_States_of_America",
          "Italy",
          "China",
          "Spain",
          "Germany",
          "France",
          "Iran",
          "United_Kingdom",
          "Switzerland",
          "Netherlands",
          "South_Korea",
          "Belgium",
          "Austria",
          "Turkey",
          "Canada",
          "Portugal",
          "Brazil",
          "Norway",
          "Australia",
          "Israel",
          "Sweden",
          "Czech_Republic",
          "Ireland",
          "Malaysia",
          "Denmark",
          "Chile",
          "Ecuador",
          "Luxembourg",
          "Japan",
          "Poland",
          "Romania",
          "Pakistan",
          "Russia",
          "Thailand",
          "Finland",
          "Saudi_Arabia",
          "South_Africa",
          "Indonesia",
          "Philippines",
          "Greece",
          "India",
          "Iceland",
          "Panama",
          "Mexico",
          "Singapore",
          "Argentina",
          "Dominican_Republic",
          "Cases_on_an_international_conveyance_Japan",
          "Slovenia",
          "Peru",
          "Serbia",
          "Croatia",
          "Estonia",
          "Colombia",
          "Qatar",
          "Egypt",
          "Iraq",
          "New_Zealand",
          "Bahrain",
          "United_Arab_Emirates",
          "Armenia",
          "Lebanon",
          "Algeria",
          "Hungary",
          "Lithuania",
          "Morocco",
          "Bulgaria",
          "Ukraine",
          "Andorra",
          "Latvia",
          "Uruguay",
          "Slovakia",
          "Costa_Rica",
          "Taiwan",
          "Bosnia_and_Herzegovina",
          "North_Macedonia",
          "Jordan",
          "Kuwait",
          "Moldova",
          "Kazakhstan",
          "Tunisia",
          "San_Marino",
          "Vietnam",
          "Albania",
          "Azerbaijan",
          "Burkina_Faso",
          "Cyprus",
          "Faroe_Islands",
          "Oman",
          "Ghana",
          "Cote_dIvoire",
          "Malta",
          "Uzbekistan",
          "Senegal",
          "Brunei_Darussalam",
          "Cuba",
          "Venezuela",
          "Sri_Lanka",
          "Honduras",
          "Afghanistan",
          "Cambodia",
          "Mauritius",
          "Puerto_Rico",
          "Cameroon",
          "Nigeria",
          "Palestine",
          "Belarus",
          "Kosovo",
          "Georgia",
          "Kyrgyzstan",
          "Montenegro",
          "Bolivia",
          "Trinidad_and_Tobago",
          "Jersey",
          "Liechtenstein",
          "Rwanda",
          "Paraguay",
          "Democratic_Republic_of_the_Congo",
          "Gibraltar",
          "Guam",
          "Bangladesh",
          "Monaco",
          "Guernsey",
          "Kenya",
          "Guatemala",
          "French_Polynesia",
          "Jamaica",
          "Isle_of_Man",
          "Uganda",
          "Togo",
          "Madagascar",
          "Zambia",
          "Aruba",
          "Barbados",
          "Bermuda",
          "United_States_Virgin_Islands",
          "Congo",
          "El_Salvador",
          "Ethiopia",
          "Maldives",
          "Djibouti",
          "New_Caledonia",
          "United_Republic_of_Tanzania",
          "Equatorial_Guinea",
          "Mongolia",
          "Bahamas",
          "Dominica",
          "Greenland",
          "Niger",
          "Mali",
          "Grenada",
          "Eswatini",
          "Suriname",
          "Curaçao",
          "Cayman_Islands",
          "Haiti",
          "Guyana",
          "Guinea",
          "Namibia",
          "Myanmar",
          "Mozambique",
          "Antigua_and_Barbuda",
          "Seychelles",
          "Zimbabwe",
          "Gabon",
          "Eritrea",
          "Benin",
          "Central_African_Republic",
          "Cape_Verde",
          "Holy_See",
          "Laos",
          "Nepal",
          "Mauritania",
          "Fiji",
          "Turks_and_Caicos_islands",
          "Chad",
          "Montserrat",
          "Syria",
          "Sudan",
          "Angola",
          "Bhutan",
          "Saint_Lucia",
          "Liberia",
          "Somalia",
          "Gambia",
          "Nicaragua",
          "Sint_Maarten",
          "British_Virgin_Islands",
          "Belize",
          "Saint_Kitts_and_Nevis",
          "Guinea_Bissau",
          "Anguilla",
          "Libya",
          "Timor_Leste",
          "Papua_New_Guinea",
          "Saint_Vincent_and_the_Grenadines"
         ],
         "legendgroup": "",
         "locations": [
          "USA",
          "ITA",
          "CHN",
          "ESP",
          "DEU",
          "FRA",
          "IRN",
          "GBR",
          "CHE",
          "NLD",
          "KOR",
          "BEL",
          "AUT",
          "TUR",
          "CAN",
          "PRT",
          "BRA",
          "NOR",
          "AUS",
          "ISR",
          "SWE",
          "CZE",
          "IRL",
          "MYS",
          "DNK",
          "CHL",
          "ECU",
          "LUX",
          "JPN",
          "POL",
          "ROU",
          "PAK",
          "RUS",
          "THA",
          "FIN",
          "SAU",
          "ZAF",
          "IDN",
          "PHL",
          "GRC",
          "IND",
          "ISL",
          "PAN",
          "MEX",
          "SGP",
          "ARG",
          "DOM",
          null,
          "SVN",
          "PER",
          "SRB",
          "HRV",
          "EST",
          "COL",
          "QAT",
          "EGY",
          "IRQ",
          "NZL",
          "BHR",
          "ARE",
          "ARM",
          "LBN",
          "DZA",
          "HUN",
          "LTU",
          "MAR",
          "BGR",
          "UKR",
          "AND",
          "LVA",
          "URY",
          "SVK",
          "CRI",
          "TWN",
          "BIH",
          "MKD",
          "JOR",
          "KWT",
          "MDA",
          "KAZ",
          "TUN",
          "SMR",
          "VNM",
          "ALB",
          "AZE",
          "BFA",
          "CYP",
          "FRO",
          "OMN",
          "GHA",
          "CIV",
          "MLT",
          "UZB",
          "SEN",
          "BRN",
          "CUB",
          "VEN",
          "LKA",
          "HND",
          "AFG",
          "KHM",
          "MUS",
          "PRI",
          "CMR",
          "NGA",
          "PSE",
          "BLR",
          "XKX",
          "GEO",
          "KGZ",
          "MNE",
          "BOL",
          "TTO",
          "JEY",
          "LIE",
          "RWA",
          "PRY",
          "COD",
          "GIB",
          "GUM",
          "BGD",
          "MCO",
          "GGY",
          "KEN",
          "GTM",
          "PYF",
          "JAM",
          "IMN",
          "UGA",
          "TGO",
          "MDG",
          "ZMB",
          "ABW",
          "BRB",
          "BMU",
          "VIR",
          "COG",
          "SLV",
          "ETH",
          "MDV",
          "DJI",
          "NCL",
          "TZA",
          "GNQ",
          "MNG",
          "BHS",
          "DMA",
          "GRL",
          "NER",
          "MLI",
          "GRD",
          "SWZ",
          "SUR",
          "CUW",
          "CYM",
          "HTI",
          "GUY",
          "GIN",
          "NAM",
          "MMR",
          "MOZ",
          "ATG",
          "SYC",
          "ZWE",
          "GAB",
          "ERI",
          "BEN",
          "CAF",
          "CPV",
          "VAT",
          "LAO",
          "NPL",
          "MRT",
          "FJI",
          "TCA",
          "TCD",
          "MSR",
          "SYR",
          "SDN",
          "AGO",
          "BTN",
          "LCA",
          "LBR",
          "SOM",
          "GMB",
          "NIC",
          "SXM",
          "VGB",
          "BLZ",
          "KNA",
          "GNB",
          null,
          "LBY",
          "TLS",
          "PNG",
          "VCT"
         ],
         "marker": {
          "color": "#636efa",
          "size": [
           2191,
           10023,
           3306,
           5690,
           389,
           2314,
           2517,
           1019,
           235,
           639,
           152,
           353,
           68,
           108,
           60,
           100,
           114,
           20,
           14,
           12,
           102,
           11,
           36,
           27,
           65,
           6,
           48,
           18,
           52,
           18,
           29,
           11,
           5,
           6,
           9,
           4,
           2,
           102,
           68,
           32,
           25,
           2,
           17,
           16,
           3,
           19,
           28,
           7,
           9,
           16,
           10,
           5,
           1,
           6,
           1,
           30,
           42,
           1,
           4,
           2,
           3,
           8,
           26,
           13,
           7,
           23,
           7,
           8,
           4,
           0,
           0,
           0,
           2,
           2,
           5,
           4,
           1,
           0,
           2,
           0,
           6,
           22,
           0,
           10,
           4,
           9,
           5,
           0,
           0,
           5,
           0,
           0,
           1,
           0,
           1,
           3,
           1,
           1,
           2,
           3,
           0,
           2,
           3,
           2,
           1,
           1,
           0,
           1,
           0,
           0,
           1,
           0,
           2,
           1,
           0,
           0,
           3,
           6,
           0,
           1,
           5,
           0,
           0,
           1,
           1,
           0,
           1,
           0,
           0,
           1,
           0,
           0,
           0,
           0,
           0,
           0,
           0,
           0,
           0,
           0,
           0,
           0,
           1,
           0,
           0,
           0,
           0,
           0,
           1,
           0,
           0,
           0,
           0,
           1,
           1,
           0,
           1,
           0,
           0,
           0,
           0,
           0,
           0,
           1,
           1,
           0,
           0,
           0,
           1,
           0,
           0,
           0,
           0,
           0,
           0,
           0,
           0,
           0,
           1,
           0,
           0,
           0,
           0,
           0,
           1,
           1,
           0,
           0,
           0,
           0,
           0,
           0,
           0,
           0,
           0,
           0
          ],
          "sizemode": "area",
          "sizeref": 25.0575
         },
         "name": "",
         "showlegend": false,
         "type": "scattergeo"
        }
       ],
       "layout": {
        "geo": {
         "center": {},
         "domain": {
          "x": [
           0,
           1
          ],
          "y": [
           0,
           1
          ]
         },
         "projection": {
          "type": "natural earth"
         }
        },
        "legend": {
         "itemsizing": "constant",
         "tracegroupgap": 0
        },
        "margin": {
         "t": 60
        },
        "template": {
         "data": {
          "bar": [
           {
            "error_x": {
             "color": "#2a3f5f"
            },
            "error_y": {
             "color": "#2a3f5f"
            },
            "marker": {
             "line": {
              "color": "#E5ECF6",
              "width": 0.5
             }
            },
            "type": "bar"
           }
          ],
          "barpolar": [
           {
            "marker": {
             "line": {
              "color": "#E5ECF6",
              "width": 0.5
             }
            },
            "type": "barpolar"
           }
          ],
          "carpet": [
           {
            "aaxis": {
             "endlinecolor": "#2a3f5f",
             "gridcolor": "white",
             "linecolor": "white",
             "minorgridcolor": "white",
             "startlinecolor": "#2a3f5f"
            },
            "baxis": {
             "endlinecolor": "#2a3f5f",
             "gridcolor": "white",
             "linecolor": "white",
             "minorgridcolor": "white",
             "startlinecolor": "#2a3f5f"
            },
            "type": "carpet"
           }
          ],
          "choropleth": [
           {
            "colorbar": {
             "outlinewidth": 0,
             "ticks": ""
            },
            "type": "choropleth"
           }
          ],
          "contour": [
           {
            "colorbar": {
             "outlinewidth": 0,
             "ticks": ""
            },
            "colorscale": [
             [
              0,
              "#0d0887"
             ],
             [
              0.1111111111111111,
              "#46039f"
             ],
             [
              0.2222222222222222,
              "#7201a8"
             ],
             [
              0.3333333333333333,
              "#9c179e"
             ],
             [
              0.4444444444444444,
              "#bd3786"
             ],
             [
              0.5555555555555556,
              "#d8576b"
             ],
             [
              0.6666666666666666,
              "#ed7953"
             ],
             [
              0.7777777777777778,
              "#fb9f3a"
             ],
             [
              0.8888888888888888,
              "#fdca26"
             ],
             [
              1,
              "#f0f921"
             ]
            ],
            "type": "contour"
           }
          ],
          "contourcarpet": [
           {
            "colorbar": {
             "outlinewidth": 0,
             "ticks": ""
            },
            "type": "contourcarpet"
           }
          ],
          "heatmap": [
           {
            "colorbar": {
             "outlinewidth": 0,
             "ticks": ""
            },
            "colorscale": [
             [
              0,
              "#0d0887"
             ],
             [
              0.1111111111111111,
              "#46039f"
             ],
             [
              0.2222222222222222,
              "#7201a8"
             ],
             [
              0.3333333333333333,
              "#9c179e"
             ],
             [
              0.4444444444444444,
              "#bd3786"
             ],
             [
              0.5555555555555556,
              "#d8576b"
             ],
             [
              0.6666666666666666,
              "#ed7953"
             ],
             [
              0.7777777777777778,
              "#fb9f3a"
             ],
             [
              0.8888888888888888,
              "#fdca26"
             ],
             [
              1,
              "#f0f921"
             ]
            ],
            "type": "heatmap"
           }
          ],
          "heatmapgl": [
           {
            "colorbar": {
             "outlinewidth": 0,
             "ticks": ""
            },
            "colorscale": [
             [
              0,
              "#0d0887"
             ],
             [
              0.1111111111111111,
              "#46039f"
             ],
             [
              0.2222222222222222,
              "#7201a8"
             ],
             [
              0.3333333333333333,
              "#9c179e"
             ],
             [
              0.4444444444444444,
              "#bd3786"
             ],
             [
              0.5555555555555556,
              "#d8576b"
             ],
             [
              0.6666666666666666,
              "#ed7953"
             ],
             [
              0.7777777777777778,
              "#fb9f3a"
             ],
             [
              0.8888888888888888,
              "#fdca26"
             ],
             [
              1,
              "#f0f921"
             ]
            ],
            "type": "heatmapgl"
           }
          ],
          "histogram": [
           {
            "marker": {
             "colorbar": {
              "outlinewidth": 0,
              "ticks": ""
             }
            },
            "type": "histogram"
           }
          ],
          "histogram2d": [
           {
            "colorbar": {
             "outlinewidth": 0,
             "ticks": ""
            },
            "colorscale": [
             [
              0,
              "#0d0887"
             ],
             [
              0.1111111111111111,
              "#46039f"
             ],
             [
              0.2222222222222222,
              "#7201a8"
             ],
             [
              0.3333333333333333,
              "#9c179e"
             ],
             [
              0.4444444444444444,
              "#bd3786"
             ],
             [
              0.5555555555555556,
              "#d8576b"
             ],
             [
              0.6666666666666666,
              "#ed7953"
             ],
             [
              0.7777777777777778,
              "#fb9f3a"
             ],
             [
              0.8888888888888888,
              "#fdca26"
             ],
             [
              1,
              "#f0f921"
             ]
            ],
            "type": "histogram2d"
           }
          ],
          "histogram2dcontour": [
           {
            "colorbar": {
             "outlinewidth": 0,
             "ticks": ""
            },
            "colorscale": [
             [
              0,
              "#0d0887"
             ],
             [
              0.1111111111111111,
              "#46039f"
             ],
             [
              0.2222222222222222,
              "#7201a8"
             ],
             [
              0.3333333333333333,
              "#9c179e"
             ],
             [
              0.4444444444444444,
              "#bd3786"
             ],
             [
              0.5555555555555556,
              "#d8576b"
             ],
             [
              0.6666666666666666,
              "#ed7953"
             ],
             [
              0.7777777777777778,
              "#fb9f3a"
             ],
             [
              0.8888888888888888,
              "#fdca26"
             ],
             [
              1,
              "#f0f921"
             ]
            ],
            "type": "histogram2dcontour"
           }
          ],
          "mesh3d": [
           {
            "colorbar": {
             "outlinewidth": 0,
             "ticks": ""
            },
            "type": "mesh3d"
           }
          ],
          "parcoords": [
           {
            "line": {
             "colorbar": {
              "outlinewidth": 0,
              "ticks": ""
             }
            },
            "type": "parcoords"
           }
          ],
          "pie": [
           {
            "automargin": true,
            "type": "pie"
           }
          ],
          "scatter": [
           {
            "marker": {
             "colorbar": {
              "outlinewidth": 0,
              "ticks": ""
             }
            },
            "type": "scatter"
           }
          ],
          "scatter3d": [
           {
            "line": {
             "colorbar": {
              "outlinewidth": 0,
              "ticks": ""
             }
            },
            "marker": {
             "colorbar": {
              "outlinewidth": 0,
              "ticks": ""
             }
            },
            "type": "scatter3d"
           }
          ],
          "scattercarpet": [
           {
            "marker": {
             "colorbar": {
              "outlinewidth": 0,
              "ticks": ""
             }
            },
            "type": "scattercarpet"
           }
          ],
          "scattergeo": [
           {
            "marker": {
             "colorbar": {
              "outlinewidth": 0,
              "ticks": ""
             }
            },
            "type": "scattergeo"
           }
          ],
          "scattergl": [
           {
            "marker": {
             "colorbar": {
              "outlinewidth": 0,
              "ticks": ""
             }
            },
            "type": "scattergl"
           }
          ],
          "scattermapbox": [
           {
            "marker": {
             "colorbar": {
              "outlinewidth": 0,
              "ticks": ""
             }
            },
            "type": "scattermapbox"
           }
          ],
          "scatterpolar": [
           {
            "marker": {
             "colorbar": {
              "outlinewidth": 0,
              "ticks": ""
             }
            },
            "type": "scatterpolar"
           }
          ],
          "scatterpolargl": [
           {
            "marker": {
             "colorbar": {
              "outlinewidth": 0,
              "ticks": ""
             }
            },
            "type": "scatterpolargl"
           }
          ],
          "scatterternary": [
           {
            "marker": {
             "colorbar": {
              "outlinewidth": 0,
              "ticks": ""
             }
            },
            "type": "scatterternary"
           }
          ],
          "surface": [
           {
            "colorbar": {
             "outlinewidth": 0,
             "ticks": ""
            },
            "colorscale": [
             [
              0,
              "#0d0887"
             ],
             [
              0.1111111111111111,
              "#46039f"
             ],
             [
              0.2222222222222222,
              "#7201a8"
             ],
             [
              0.3333333333333333,
              "#9c179e"
             ],
             [
              0.4444444444444444,
              "#bd3786"
             ],
             [
              0.5555555555555556,
              "#d8576b"
             ],
             [
              0.6666666666666666,
              "#ed7953"
             ],
             [
              0.7777777777777778,
              "#fb9f3a"
             ],
             [
              0.8888888888888888,
              "#fdca26"
             ],
             [
              1,
              "#f0f921"
             ]
            ],
            "type": "surface"
           }
          ],
          "table": [
           {
            "cells": {
             "fill": {
              "color": "#EBF0F8"
             },
             "line": {
              "color": "white"
             }
            },
            "header": {
             "fill": {
              "color": "#C8D4E3"
             },
             "line": {
              "color": "white"
             }
            },
            "type": "table"
           }
          ]
         },
         "layout": {
          "annotationdefaults": {
           "arrowcolor": "#2a3f5f",
           "arrowhead": 0,
           "arrowwidth": 1
          },
          "coloraxis": {
           "colorbar": {
            "outlinewidth": 0,
            "ticks": ""
           }
          },
          "colorscale": {
           "diverging": [
            [
             0,
             "#8e0152"
            ],
            [
             0.1,
             "#c51b7d"
            ],
            [
             0.2,
             "#de77ae"
            ],
            [
             0.3,
             "#f1b6da"
            ],
            [
             0.4,
             "#fde0ef"
            ],
            [
             0.5,
             "#f7f7f7"
            ],
            [
             0.6,
             "#e6f5d0"
            ],
            [
             0.7,
             "#b8e186"
            ],
            [
             0.8,
             "#7fbc41"
            ],
            [
             0.9,
             "#4d9221"
            ],
            [
             1,
             "#276419"
            ]
           ],
           "sequential": [
            [
             0,
             "#0d0887"
            ],
            [
             0.1111111111111111,
             "#46039f"
            ],
            [
             0.2222222222222222,
             "#7201a8"
            ],
            [
             0.3333333333333333,
             "#9c179e"
            ],
            [
             0.4444444444444444,
             "#bd3786"
            ],
            [
             0.5555555555555556,
             "#d8576b"
            ],
            [
             0.6666666666666666,
             "#ed7953"
            ],
            [
             0.7777777777777778,
             "#fb9f3a"
            ],
            [
             0.8888888888888888,
             "#fdca26"
            ],
            [
             1,
             "#f0f921"
            ]
           ],
           "sequentialminus": [
            [
             0,
             "#0d0887"
            ],
            [
             0.1111111111111111,
             "#46039f"
            ],
            [
             0.2222222222222222,
             "#7201a8"
            ],
            [
             0.3333333333333333,
             "#9c179e"
            ],
            [
             0.4444444444444444,
             "#bd3786"
            ],
            [
             0.5555555555555556,
             "#d8576b"
            ],
            [
             0.6666666666666666,
             "#ed7953"
            ],
            [
             0.7777777777777778,
             "#fb9f3a"
            ],
            [
             0.8888888888888888,
             "#fdca26"
            ],
            [
             1,
             "#f0f921"
            ]
           ]
          },
          "colorway": [
           "#636efa",
           "#EF553B",
           "#00cc96",
           "#ab63fa",
           "#FFA15A",
           "#19d3f3",
           "#FF6692",
           "#B6E880",
           "#FF97FF",
           "#FECB52"
          ],
          "font": {
           "color": "#2a3f5f"
          },
          "geo": {
           "bgcolor": "white",
           "lakecolor": "white",
           "landcolor": "#E5ECF6",
           "showlakes": true,
           "showland": true,
           "subunitcolor": "white"
          },
          "hoverlabel": {
           "align": "left"
          },
          "hovermode": "closest",
          "mapbox": {
           "style": "light"
          },
          "paper_bgcolor": "white",
          "plot_bgcolor": "#E5ECF6",
          "polar": {
           "angularaxis": {
            "gridcolor": "white",
            "linecolor": "white",
            "ticks": ""
           },
           "bgcolor": "#E5ECF6",
           "radialaxis": {
            "gridcolor": "white",
            "linecolor": "white",
            "ticks": ""
           }
          },
          "scene": {
           "xaxis": {
            "backgroundcolor": "#E5ECF6",
            "gridcolor": "white",
            "gridwidth": 2,
            "linecolor": "white",
            "showbackground": true,
            "ticks": "",
            "zerolinecolor": "white"
           },
           "yaxis": {
            "backgroundcolor": "#E5ECF6",
            "gridcolor": "white",
            "gridwidth": 2,
            "linecolor": "white",
            "showbackground": true,
            "ticks": "",
            "zerolinecolor": "white"
           },
           "zaxis": {
            "backgroundcolor": "#E5ECF6",
            "gridcolor": "white",
            "gridwidth": 2,
            "linecolor": "white",
            "showbackground": true,
            "ticks": "",
            "zerolinecolor": "white"
           }
          },
          "shapedefaults": {
           "line": {
            "color": "#2a3f5f"
           }
          },
          "ternary": {
           "aaxis": {
            "gridcolor": "white",
            "linecolor": "white",
            "ticks": ""
           },
           "baxis": {
            "gridcolor": "white",
            "linecolor": "white",
            "ticks": ""
           },
           "bgcolor": "#E5ECF6",
           "caxis": {
            "gridcolor": "white",
            "linecolor": "white",
            "ticks": ""
           }
          },
          "title": {
           "x": 0.05
          },
          "xaxis": {
           "automargin": true,
           "gridcolor": "white",
           "linecolor": "white",
           "ticks": "",
           "title": {
            "standoff": 15
           },
           "zerolinecolor": "white",
           "zerolinewidth": 2
          },
          "yaxis": {
           "automargin": true,
           "gridcolor": "white",
           "linecolor": "white",
           "ticks": "",
           "title": {
            "standoff": 15
           },
           "zerolinecolor": "white",
           "zerolinewidth": 2
          }
         }
        }
       }
      },
      "text/html": [
       "<div>\n",
       "        \n",
       "        \n",
       "            <div id=\"d8dc60aa-ec82-4104-9c15-95e74a36e3b4\" class=\"plotly-graph-div\" style=\"height:525px; width:100%;\"></div>\n",
       "            <script type=\"text/javascript\">\n",
       "                require([\"plotly\"], function(Plotly) {\n",
       "                    window.PLOTLYENV=window.PLOTLYENV || {};\n",
       "                    \n",
       "                if (document.getElementById(\"d8dc60aa-ec82-4104-9c15-95e74a36e3b4\")) {\n",
       "                    Plotly.newPlot(\n",
       "                        'd8dc60aa-ec82-4104-9c15-95e74a36e3b4',\n",
       "                        [{\"customdata\": [[2191], [10023], [3306], [5690], [389], [2314], [2517], [1019], [235], [639], [152], [353], [68], [108], [60], [100], [114], [20], [14], [12], [102], [11], [36], [27], [65], [6], [48], [18], [52], [18], [29], [11], [5], [6], [9], [4], [2], [102], [68], [32], [25], [2], [17], [16], [3], [19], [28], [7], [9], [16], [10], [5], [1], [6], [1], [30], [42], [1], [4], [2], [3], [8], [26], [13], [7], [23], [7], [8], [4], [0], [0], [0], [2], [2], [5], [4], [1], [0], [2], [0], [6], [22], [0], [10], [4], [9], [5], [0], [0], [5], [0], [0], [1], [0], [1], [3], [1], [1], [2], [3], [0], [2], [3], [2], [1], [1], [0], [1], [0], [0], [1], [0], [2], [1], [0], [0], [3], [6], [0], [1], [5], [0], [0], [1], [1], [0], [1], [0], [0], [1], [0], [0], [0], [0], [0], [0], [0], [0], [0], [0], [0], [0], [1], [0], [0], [0], [0], [0], [1], [0], [0], [0], [0], [1], [1], [0], [1], [0], [0], [0], [0], [0], [0], [1], [1], [0], [0], [0], [1], [0], [0], [0], [0], [0], [0], [0], [0], [0], [1], [0], [0], [0], [0], [0], [1], [1], [0], [0], [0], [0], [0], [0], [0], [0], [0], [0]], \"geo\": \"geo\", \"hoverlabel\": {\"namelength\": 0}, \"hovertemplate\": \"<b>%{hovertext}</b><br><br>size=%{marker.size}<br>Deaths=%{customdata[0]}<br>alpha3=%{location}\", \"hovertext\": [\"United_States_of_America\", \"Italy\", \"China\", \"Spain\", \"Germany\", \"France\", \"Iran\", \"United_Kingdom\", \"Switzerland\", \"Netherlands\", \"South_Korea\", \"Belgium\", \"Austria\", \"Turkey\", \"Canada\", \"Portugal\", \"Brazil\", \"Norway\", \"Australia\", \"Israel\", \"Sweden\", \"Czech_Republic\", \"Ireland\", \"Malaysia\", \"Denmark\", \"Chile\", \"Ecuador\", \"Luxembourg\", \"Japan\", \"Poland\", \"Romania\", \"Pakistan\", \"Russia\", \"Thailand\", \"Finland\", \"Saudi_Arabia\", \"South_Africa\", \"Indonesia\", \"Philippines\", \"Greece\", \"India\", \"Iceland\", \"Panama\", \"Mexico\", \"Singapore\", \"Argentina\", \"Dominican_Republic\", \"Cases_on_an_international_conveyance_Japan\", \"Slovenia\", \"Peru\", \"Serbia\", \"Croatia\", \"Estonia\", \"Colombia\", \"Qatar\", \"Egypt\", \"Iraq\", \"New_Zealand\", \"Bahrain\", \"United_Arab_Emirates\", \"Armenia\", \"Lebanon\", \"Algeria\", \"Hungary\", \"Lithuania\", \"Morocco\", \"Bulgaria\", \"Ukraine\", \"Andorra\", \"Latvia\", \"Uruguay\", \"Slovakia\", \"Costa_Rica\", \"Taiwan\", \"Bosnia_and_Herzegovina\", \"North_Macedonia\", \"Jordan\", \"Kuwait\", \"Moldova\", \"Kazakhstan\", \"Tunisia\", \"San_Marino\", \"Vietnam\", \"Albania\", \"Azerbaijan\", \"Burkina_Faso\", \"Cyprus\", \"Faroe_Islands\", \"Oman\", \"Ghana\", \"Cote_dIvoire\", \"Malta\", \"Uzbekistan\", \"Senegal\", \"Brunei_Darussalam\", \"Cuba\", \"Venezuela\", \"Sri_Lanka\", \"Honduras\", \"Afghanistan\", \"Cambodia\", \"Mauritius\", \"Puerto_Rico\", \"Cameroon\", \"Nigeria\", \"Palestine\", \"Belarus\", \"Kosovo\", \"Georgia\", \"Kyrgyzstan\", \"Montenegro\", \"Bolivia\", \"Trinidad_and_Tobago\", \"Jersey\", \"Liechtenstein\", \"Rwanda\", \"Paraguay\", \"Democratic_Republic_of_the_Congo\", \"Gibraltar\", \"Guam\", \"Bangladesh\", \"Monaco\", \"Guernsey\", \"Kenya\", \"Guatemala\", \"French_Polynesia\", \"Jamaica\", \"Isle_of_Man\", \"Uganda\", \"Togo\", \"Madagascar\", \"Zambia\", \"Aruba\", \"Barbados\", \"Bermuda\", \"United_States_Virgin_Islands\", \"Congo\", \"El_Salvador\", \"Ethiopia\", \"Maldives\", \"Djibouti\", \"New_Caledonia\", \"United_Republic_of_Tanzania\", \"Equatorial_Guinea\", \"Mongolia\", \"Bahamas\", \"Dominica\", \"Greenland\", \"Niger\", \"Mali\", \"Grenada\", \"Eswatini\", \"Suriname\", \"Cura\\u00e7ao\", \"Cayman_Islands\", \"Haiti\", \"Guyana\", \"Guinea\", \"Namibia\", \"Myanmar\", \"Mozambique\", \"Antigua_and_Barbuda\", \"Seychelles\", \"Zimbabwe\", \"Gabon\", \"Eritrea\", \"Benin\", \"Central_African_Republic\", \"Cape_Verde\", \"Holy_See\", \"Laos\", \"Nepal\", \"Mauritania\", \"Fiji\", \"Turks_and_Caicos_islands\", \"Chad\", \"Montserrat\", \"Syria\", \"Sudan\", \"Angola\", \"Bhutan\", \"Saint_Lucia\", \"Liberia\", \"Somalia\", \"Gambia\", \"Nicaragua\", \"Sint_Maarten\", \"British_Virgin_Islands\", \"Belize\", \"Saint_Kitts_and_Nevis\", \"Guinea_Bissau\", \"Anguilla\", \"Libya\", \"Timor_Leste\", \"Papua_New_Guinea\", \"Saint_Vincent_and_the_Grenadines\"], \"legendgroup\": \"\", \"locations\": [\"USA\", \"ITA\", \"CHN\", \"ESP\", \"DEU\", \"FRA\", \"IRN\", \"GBR\", \"CHE\", \"NLD\", \"KOR\", \"BEL\", \"AUT\", \"TUR\", \"CAN\", \"PRT\", \"BRA\", \"NOR\", \"AUS\", \"ISR\", \"SWE\", \"CZE\", \"IRL\", \"MYS\", \"DNK\", \"CHL\", \"ECU\", \"LUX\", \"JPN\", \"POL\", \"ROU\", \"PAK\", \"RUS\", \"THA\", \"FIN\", \"SAU\", \"ZAF\", \"IDN\", \"PHL\", \"GRC\", \"IND\", \"ISL\", \"PAN\", \"MEX\", \"SGP\", \"ARG\", \"DOM\", null, \"SVN\", \"PER\", \"SRB\", \"HRV\", \"EST\", \"COL\", \"QAT\", \"EGY\", \"IRQ\", \"NZL\", \"BHR\", \"ARE\", \"ARM\", \"LBN\", \"DZA\", \"HUN\", \"LTU\", \"MAR\", \"BGR\", \"UKR\", \"AND\", \"LVA\", \"URY\", \"SVK\", \"CRI\", \"TWN\", \"BIH\", \"MKD\", \"JOR\", \"KWT\", \"MDA\", \"KAZ\", \"TUN\", \"SMR\", \"VNM\", \"ALB\", \"AZE\", \"BFA\", \"CYP\", \"FRO\", \"OMN\", \"GHA\", \"CIV\", \"MLT\", \"UZB\", \"SEN\", \"BRN\", \"CUB\", \"VEN\", \"LKA\", \"HND\", \"AFG\", \"KHM\", \"MUS\", \"PRI\", \"CMR\", \"NGA\", \"PSE\", \"BLR\", \"XKX\", \"GEO\", \"KGZ\", \"MNE\", \"BOL\", \"TTO\", \"JEY\", \"LIE\", \"RWA\", \"PRY\", \"COD\", \"GIB\", \"GUM\", \"BGD\", \"MCO\", \"GGY\", \"KEN\", \"GTM\", \"PYF\", \"JAM\", \"IMN\", \"UGA\", \"TGO\", \"MDG\", \"ZMB\", \"ABW\", \"BRB\", \"BMU\", \"VIR\", \"COG\", \"SLV\", \"ETH\", \"MDV\", \"DJI\", \"NCL\", \"TZA\", \"GNQ\", \"MNG\", \"BHS\", \"DMA\", \"GRL\", \"NER\", \"MLI\", \"GRD\", \"SWZ\", \"SUR\", \"CUW\", \"CYM\", \"HTI\", \"GUY\", \"GIN\", \"NAM\", \"MMR\", \"MOZ\", \"ATG\", \"SYC\", \"ZWE\", \"GAB\", \"ERI\", \"BEN\", \"CAF\", \"CPV\", \"VAT\", \"LAO\", \"NPL\", \"MRT\", \"FJI\", \"TCA\", \"TCD\", \"MSR\", \"SYR\", \"SDN\", \"AGO\", \"BTN\", \"LCA\", \"LBR\", \"SOM\", \"GMB\", \"NIC\", \"SXM\", \"VGB\", \"BLZ\", \"KNA\", \"GNB\", null, \"LBY\", \"TLS\", \"PNG\", \"VCT\"], \"marker\": {\"color\": \"#636efa\", \"size\": [2191, 10023, 3306, 5690, 389, 2314, 2517, 1019, 235, 639, 152, 353, 68, 108, 60, 100, 114, 20, 14, 12, 102, 11, 36, 27, 65, 6, 48, 18, 52, 18, 29, 11, 5, 6, 9, 4, 2, 102, 68, 32, 25, 2, 17, 16, 3, 19, 28, 7, 9, 16, 10, 5, 1, 6, 1, 30, 42, 1, 4, 2, 3, 8, 26, 13, 7, 23, 7, 8, 4, 0, 0, 0, 2, 2, 5, 4, 1, 0, 2, 0, 6, 22, 0, 10, 4, 9, 5, 0, 0, 5, 0, 0, 1, 0, 1, 3, 1, 1, 2, 3, 0, 2, 3, 2, 1, 1, 0, 1, 0, 0, 1, 0, 2, 1, 0, 0, 3, 6, 0, 1, 5, 0, 0, 1, 1, 0, 1, 0, 0, 1, 0, 0, 0, 0, 0, 0, 0, 0, 0, 0, 0, 0, 1, 0, 0, 0, 0, 0, 1, 0, 0, 0, 0, 1, 1, 0, 1, 0, 0, 0, 0, 0, 0, 1, 1, 0, 0, 0, 1, 0, 0, 0, 0, 0, 0, 0, 0, 0, 1, 0, 0, 0, 0, 0, 1, 1, 0, 0, 0, 0, 0, 0, 0, 0, 0, 0], \"sizemode\": \"area\", \"sizeref\": 25.0575}, \"name\": \"\", \"showlegend\": false, \"type\": \"scattergeo\"}],\n",
       "                        {\"geo\": {\"center\": {}, \"domain\": {\"x\": [0.0, 1.0], \"y\": [0.0, 1.0]}, \"projection\": {\"type\": \"natural earth\"}}, \"legend\": {\"itemsizing\": \"constant\", \"tracegroupgap\": 0}, \"margin\": {\"t\": 60}, \"template\": {\"data\": {\"bar\": [{\"error_x\": {\"color\": \"#2a3f5f\"}, \"error_y\": {\"color\": \"#2a3f5f\"}, \"marker\": {\"line\": {\"color\": \"#E5ECF6\", \"width\": 0.5}}, \"type\": \"bar\"}], \"barpolar\": [{\"marker\": {\"line\": {\"color\": \"#E5ECF6\", \"width\": 0.5}}, \"type\": \"barpolar\"}], \"carpet\": [{\"aaxis\": {\"endlinecolor\": \"#2a3f5f\", \"gridcolor\": \"white\", \"linecolor\": \"white\", \"minorgridcolor\": \"white\", \"startlinecolor\": \"#2a3f5f\"}, \"baxis\": {\"endlinecolor\": \"#2a3f5f\", \"gridcolor\": \"white\", \"linecolor\": \"white\", \"minorgridcolor\": \"white\", \"startlinecolor\": \"#2a3f5f\"}, \"type\": \"carpet\"}], \"choropleth\": [{\"colorbar\": {\"outlinewidth\": 0, \"ticks\": \"\"}, \"type\": \"choropleth\"}], \"contour\": [{\"colorbar\": {\"outlinewidth\": 0, \"ticks\": \"\"}, \"colorscale\": [[0.0, \"#0d0887\"], [0.1111111111111111, \"#46039f\"], [0.2222222222222222, \"#7201a8\"], [0.3333333333333333, \"#9c179e\"], [0.4444444444444444, \"#bd3786\"], [0.5555555555555556, \"#d8576b\"], [0.6666666666666666, \"#ed7953\"], [0.7777777777777778, \"#fb9f3a\"], [0.8888888888888888, \"#fdca26\"], [1.0, \"#f0f921\"]], \"type\": \"contour\"}], \"contourcarpet\": [{\"colorbar\": {\"outlinewidth\": 0, \"ticks\": \"\"}, \"type\": \"contourcarpet\"}], \"heatmap\": [{\"colorbar\": {\"outlinewidth\": 0, \"ticks\": \"\"}, \"colorscale\": [[0.0, \"#0d0887\"], [0.1111111111111111, \"#46039f\"], [0.2222222222222222, \"#7201a8\"], [0.3333333333333333, \"#9c179e\"], [0.4444444444444444, \"#bd3786\"], [0.5555555555555556, \"#d8576b\"], [0.6666666666666666, \"#ed7953\"], [0.7777777777777778, \"#fb9f3a\"], [0.8888888888888888, \"#fdca26\"], [1.0, \"#f0f921\"]], \"type\": \"heatmap\"}], \"heatmapgl\": [{\"colorbar\": {\"outlinewidth\": 0, \"ticks\": \"\"}, \"colorscale\": [[0.0, \"#0d0887\"], [0.1111111111111111, \"#46039f\"], [0.2222222222222222, \"#7201a8\"], [0.3333333333333333, \"#9c179e\"], [0.4444444444444444, \"#bd3786\"], [0.5555555555555556, \"#d8576b\"], [0.6666666666666666, \"#ed7953\"], [0.7777777777777778, \"#fb9f3a\"], [0.8888888888888888, \"#fdca26\"], [1.0, \"#f0f921\"]], \"type\": \"heatmapgl\"}], \"histogram\": [{\"marker\": {\"colorbar\": {\"outlinewidth\": 0, \"ticks\": \"\"}}, \"type\": \"histogram\"}], \"histogram2d\": [{\"colorbar\": {\"outlinewidth\": 0, \"ticks\": \"\"}, \"colorscale\": [[0.0, \"#0d0887\"], [0.1111111111111111, \"#46039f\"], [0.2222222222222222, \"#7201a8\"], [0.3333333333333333, \"#9c179e\"], [0.4444444444444444, \"#bd3786\"], [0.5555555555555556, \"#d8576b\"], [0.6666666666666666, \"#ed7953\"], [0.7777777777777778, \"#fb9f3a\"], [0.8888888888888888, \"#fdca26\"], [1.0, \"#f0f921\"]], \"type\": \"histogram2d\"}], \"histogram2dcontour\": [{\"colorbar\": {\"outlinewidth\": 0, \"ticks\": \"\"}, \"colorscale\": [[0.0, \"#0d0887\"], [0.1111111111111111, \"#46039f\"], [0.2222222222222222, \"#7201a8\"], [0.3333333333333333, \"#9c179e\"], [0.4444444444444444, \"#bd3786\"], [0.5555555555555556, \"#d8576b\"], [0.6666666666666666, \"#ed7953\"], [0.7777777777777778, \"#fb9f3a\"], [0.8888888888888888, \"#fdca26\"], [1.0, \"#f0f921\"]], \"type\": \"histogram2dcontour\"}], \"mesh3d\": [{\"colorbar\": {\"outlinewidth\": 0, \"ticks\": \"\"}, \"type\": \"mesh3d\"}], \"parcoords\": [{\"line\": {\"colorbar\": {\"outlinewidth\": 0, \"ticks\": \"\"}}, \"type\": \"parcoords\"}], \"pie\": [{\"automargin\": true, \"type\": \"pie\"}], \"scatter\": [{\"marker\": {\"colorbar\": {\"outlinewidth\": 0, \"ticks\": \"\"}}, \"type\": \"scatter\"}], \"scatter3d\": [{\"line\": {\"colorbar\": {\"outlinewidth\": 0, \"ticks\": \"\"}}, \"marker\": {\"colorbar\": {\"outlinewidth\": 0, \"ticks\": \"\"}}, \"type\": \"scatter3d\"}], \"scattercarpet\": [{\"marker\": {\"colorbar\": {\"outlinewidth\": 0, \"ticks\": \"\"}}, \"type\": \"scattercarpet\"}], \"scattergeo\": [{\"marker\": {\"colorbar\": {\"outlinewidth\": 0, \"ticks\": \"\"}}, \"type\": \"scattergeo\"}], \"scattergl\": [{\"marker\": {\"colorbar\": {\"outlinewidth\": 0, \"ticks\": \"\"}}, \"type\": \"scattergl\"}], \"scattermapbox\": [{\"marker\": {\"colorbar\": {\"outlinewidth\": 0, \"ticks\": \"\"}}, \"type\": \"scattermapbox\"}], \"scatterpolar\": [{\"marker\": {\"colorbar\": {\"outlinewidth\": 0, \"ticks\": \"\"}}, \"type\": \"scatterpolar\"}], \"scatterpolargl\": [{\"marker\": {\"colorbar\": {\"outlinewidth\": 0, \"ticks\": \"\"}}, \"type\": \"scatterpolargl\"}], \"scatterternary\": [{\"marker\": {\"colorbar\": {\"outlinewidth\": 0, \"ticks\": \"\"}}, \"type\": \"scatterternary\"}], \"surface\": [{\"colorbar\": {\"outlinewidth\": 0, \"ticks\": \"\"}, \"colorscale\": [[0.0, \"#0d0887\"], [0.1111111111111111, \"#46039f\"], [0.2222222222222222, \"#7201a8\"], [0.3333333333333333, \"#9c179e\"], [0.4444444444444444, \"#bd3786\"], [0.5555555555555556, \"#d8576b\"], [0.6666666666666666, \"#ed7953\"], [0.7777777777777778, \"#fb9f3a\"], [0.8888888888888888, \"#fdca26\"], [1.0, \"#f0f921\"]], \"type\": \"surface\"}], \"table\": [{\"cells\": {\"fill\": {\"color\": \"#EBF0F8\"}, \"line\": {\"color\": \"white\"}}, \"header\": {\"fill\": {\"color\": \"#C8D4E3\"}, \"line\": {\"color\": \"white\"}}, \"type\": \"table\"}]}, \"layout\": {\"annotationdefaults\": {\"arrowcolor\": \"#2a3f5f\", \"arrowhead\": 0, \"arrowwidth\": 1}, \"coloraxis\": {\"colorbar\": {\"outlinewidth\": 0, \"ticks\": \"\"}}, \"colorscale\": {\"diverging\": [[0, \"#8e0152\"], [0.1, \"#c51b7d\"], [0.2, \"#de77ae\"], [0.3, \"#f1b6da\"], [0.4, \"#fde0ef\"], [0.5, \"#f7f7f7\"], [0.6, \"#e6f5d0\"], [0.7, \"#b8e186\"], [0.8, \"#7fbc41\"], [0.9, \"#4d9221\"], [1, \"#276419\"]], \"sequential\": [[0.0, \"#0d0887\"], [0.1111111111111111, \"#46039f\"], [0.2222222222222222, \"#7201a8\"], [0.3333333333333333, \"#9c179e\"], [0.4444444444444444, \"#bd3786\"], [0.5555555555555556, \"#d8576b\"], [0.6666666666666666, \"#ed7953\"], [0.7777777777777778, \"#fb9f3a\"], [0.8888888888888888, \"#fdca26\"], [1.0, \"#f0f921\"]], \"sequentialminus\": [[0.0, \"#0d0887\"], [0.1111111111111111, \"#46039f\"], [0.2222222222222222, \"#7201a8\"], [0.3333333333333333, \"#9c179e\"], [0.4444444444444444, \"#bd3786\"], [0.5555555555555556, \"#d8576b\"], [0.6666666666666666, \"#ed7953\"], [0.7777777777777778, \"#fb9f3a\"], [0.8888888888888888, \"#fdca26\"], [1.0, \"#f0f921\"]]}, \"colorway\": [\"#636efa\", \"#EF553B\", \"#00cc96\", \"#ab63fa\", \"#FFA15A\", \"#19d3f3\", \"#FF6692\", \"#B6E880\", \"#FF97FF\", \"#FECB52\"], \"font\": {\"color\": \"#2a3f5f\"}, \"geo\": {\"bgcolor\": \"white\", \"lakecolor\": \"white\", \"landcolor\": \"#E5ECF6\", \"showlakes\": true, \"showland\": true, \"subunitcolor\": \"white\"}, \"hoverlabel\": {\"align\": \"left\"}, \"hovermode\": \"closest\", \"mapbox\": {\"style\": \"light\"}, \"paper_bgcolor\": \"white\", \"plot_bgcolor\": \"#E5ECF6\", \"polar\": {\"angularaxis\": {\"gridcolor\": \"white\", \"linecolor\": \"white\", \"ticks\": \"\"}, \"bgcolor\": \"#E5ECF6\", \"radialaxis\": {\"gridcolor\": \"white\", \"linecolor\": \"white\", \"ticks\": \"\"}}, \"scene\": {\"xaxis\": {\"backgroundcolor\": \"#E5ECF6\", \"gridcolor\": \"white\", \"gridwidth\": 2, \"linecolor\": \"white\", \"showbackground\": true, \"ticks\": \"\", \"zerolinecolor\": \"white\"}, \"yaxis\": {\"backgroundcolor\": \"#E5ECF6\", \"gridcolor\": \"white\", \"gridwidth\": 2, \"linecolor\": \"white\", \"showbackground\": true, \"ticks\": \"\", \"zerolinecolor\": \"white\"}, \"zaxis\": {\"backgroundcolor\": \"#E5ECF6\", \"gridcolor\": \"white\", \"gridwidth\": 2, \"linecolor\": \"white\", \"showbackground\": true, \"ticks\": \"\", \"zerolinecolor\": \"white\"}}, \"shapedefaults\": {\"line\": {\"color\": \"#2a3f5f\"}}, \"ternary\": {\"aaxis\": {\"gridcolor\": \"white\", \"linecolor\": \"white\", \"ticks\": \"\"}, \"baxis\": {\"gridcolor\": \"white\", \"linecolor\": \"white\", \"ticks\": \"\"}, \"bgcolor\": \"#E5ECF6\", \"caxis\": {\"gridcolor\": \"white\", \"linecolor\": \"white\", \"ticks\": \"\"}}, \"title\": {\"x\": 0.05}, \"xaxis\": {\"automargin\": true, \"gridcolor\": \"white\", \"linecolor\": \"white\", \"ticks\": \"\", \"title\": {\"standoff\": 15}, \"zerolinecolor\": \"white\", \"zerolinewidth\": 2}, \"yaxis\": {\"automargin\": true, \"gridcolor\": \"white\", \"linecolor\": \"white\", \"ticks\": \"\", \"title\": {\"standoff\": 15}, \"zerolinecolor\": \"white\", \"zerolinewidth\": 2}}}},\n",
       "                        {\"responsive\": true}\n",
       "                    ).then(function(){\n",
       "                            \n",
       "var gd = document.getElementById('d8dc60aa-ec82-4104-9c15-95e74a36e3b4');\n",
       "var x = new MutationObserver(function (mutations, observer) {{\n",
       "        var display = window.getComputedStyle(gd).display;\n",
       "        if (!display || display === 'none') {{\n",
       "            console.log([gd, 'removed!']);\n",
       "            Plotly.purge(gd);\n",
       "            observer.disconnect();\n",
       "        }}\n",
       "}});\n",
       "\n",
       "// Listen for the removal of the full notebook cells\n",
       "var notebookContainer = gd.closest('#notebook-container');\n",
       "if (notebookContainer) {{\n",
       "    x.observe(notebookContainer, {childList: true});\n",
       "}}\n",
       "\n",
       "// Listen for the clearing of the current output cell\n",
       "var outputEl = gd.closest('.output');\n",
       "if (outputEl) {{\n",
       "    x.observe(outputEl, {childList: true});\n",
       "}}\n",
       "\n",
       "                        })\n",
       "                };\n",
       "                });\n",
       "            </script>\n",
       "        </div>"
      ]
     },
     "metadata": {},
     "output_type": "display_data"
    }
   ],
   "source": [
    "import plotly.express as px\n",
    "data = covid_data.get_total_data(df)\n",
    "fig = px.scatter_geo(data, locations=\"alpha3\",\n",
    "                     hover_name=\"Area\", size=data['Deaths'].tolist(), hover_data=[\"Deaths\"],\n",
    "                     projection=\"natural earth\")\n",
    "fig.show()"
   ]
  },
  {
   "cell_type": "code",
   "execution_count": 4,
   "metadata": {},
   "outputs": [],
   "source": [
    "mon = covid_data.get_monthly_data(df)"
   ]
  },
  {
   "cell_type": "code",
   "execution_count": 11,
   "metadata": {},
   "outputs": [],
   "source": [
    "size = []\n",
    "for each in data['Deaths'].tolist():\n",
    "    if(each < 10):\n",
    "        size.append(100)\n",
    "    elif(each < 100):\n",
    "        size.append(800)\n",
    "    elif(each < 1000):\n",
    "        size.append(2000)\n",
    "    elif(each < 10000):\n",
    "        size.append(6000)\n",
    "    elif:\n",
    "        each.append(20000)"
   ]
  },
  {
   "cell_type": "code",
   "execution_count": null,
   "metadata": {},
   "outputs": [],
   "source": []
  }
 ],
 "metadata": {
  "kernelspec": {
   "display_name": "Python 3",
   "language": "python",
   "name": "python3"
  },
  "language_info": {
   "codemirror_mode": {
    "name": "ipython",
    "version": 3
   },
   "file_extension": ".py",
   "mimetype": "text/x-python",
   "name": "python",
   "nbconvert_exporter": "python",
   "pygments_lexer": "ipython3",
   "version": "3.8.2"
  }
 },
 "nbformat": 4,
 "nbformat_minor": 2
}
